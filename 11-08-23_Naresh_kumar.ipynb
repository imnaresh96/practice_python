{
 "cells": [
  {
   "cell_type": "code",
   "execution_count": 2,
   "id": "f2950427",
   "metadata": {},
   "outputs": [],
   "source": [
    "import re\n",
    "import pymysql\n",
    "import pandas as pd"
   ]
  },
  {
   "cell_type": "code",
   "execution_count": 5,
   "id": "36a6f542",
   "metadata": {},
   "outputs": [
    {
     "name": "stdout",
     "output_type": "stream",
     "text": [
      "(?:(192.168.21.([0-9]|[1-9][1-9]|1[0-9][0-9]|2[0-5][0-4])+))\n",
      "(?:(172.194.172.([0-9]|[1-9][1-9]|1[0-9][0-9]|2[0-5][0-4])+))\n"
     ]
    }
   ],
   "source": [
    "ip=[\"192.168.21.0/24\" , \"172.194.172.1/24\"]\n",
    "db=pymysql.connect(host=\"192.168.21.95\",user=\"root\",database=\"atul\", password=\"Sattrix@123\")\n",
    "cur=db.cursor()\n",
    "for i in ip:\n",
    "    ip_subnet=i.rfind('.')\n",
    "    slash=i.rfind('/')\n",
    "    pattern=r\"(?:({}.([0-9]|[1-9][1-9]|1[0-9][0-9]|2[0-5][0-4])+))\".format(i[:ip_subnet])\n",
    "    print(pattern)\n",
    "#     cur.execute('''insert into subnetMapping (Department_Name, End_IP , IP_Subnet, Start_IP , CustomerName , regex) values\n",
    "#         ('Python', '{}' ,'{}','{}',\"SATTRIX\",'{}' )'''.format(i[:ip_subnet]+'.254',i,i[:ip_subnet]+i[ip_subnet:slash], pattern ))\n",
    "db.commit()"
   ]
  },
  {
   "cell_type": "code",
   "execution_count": 12,
   "id": "82a031f3",
   "metadata": {},
   "outputs": [],
   "source": [
    "d=int(i[(slash)+1:])"
   ]
  },
  {
   "cell_type": "code",
   "execution_count": 13,
   "id": "540020b1",
   "metadata": {},
   "outputs": [
    {
     "data": {
      "text/plain": [
       "True"
      ]
     },
     "execution_count": 13,
     "metadata": {},
     "output_type": "execute_result"
    }
   ],
   "source": [
    "d==24"
   ]
  },
  {
   "cell_type": "code",
   "execution_count": 15,
   "id": "dabfb5b7",
   "metadata": {},
   "outputs": [
    {
     "name": "stdout",
     "output_type": "stream",
     "text": [
      "(?:(192.168.21.([0-9]|[1-9][1-9]|1[0-9][0-9]|2[0-5][0-4])+))\n",
      "pass\n"
     ]
    }
   ],
   "source": [
    "ip=[\"192.168.21.0/24\" , \"172.194.172.1/23\"]\n",
    "db=pymysql.connect(host=\"192.168.21.95\",user=\"root\",database=\"atul\", password=\"Sattrix@123\")\n",
    "cur=db.cursor()\n",
    "for i in ip:\n",
    "    ip_subnet=i.rfind('.')\n",
    "    slash=i.rfind('/')\n",
    "    subnet_end=int(i[(slash)+1:])\n",
    "    if subnet_end==24:\n",
    "        pattern=r\"(?:({}.([0-9]|[1-9][1-9]|1[0-9][0-9]|2[0-5][0-4])+))\".format(i[:ip_subnet])\n",
    "        print(pattern)\n",
    "    #     cur.execute('''insert into subnetMapping (Department_Name, End_IP , IP_Subnet, Start_IP , CustomerName , regex) values\n",
    "    #         ('Python', '{}' ,'{}','{}',\"SATTRIX\",'{}' )'''.format(i[:ip_subnet]+'.254',i,i[:ip_subnet]+i[ip_subnet:slash], pattern ))\n",
    "    if subnet_end==23:\n",
    "        print(\"pass\")\n",
    "    db.commit()"
   ]
  },
  {
   "cell_type": "code",
   "execution_count": 21,
   "id": "fe2dfe77",
   "metadata": {},
   "outputs": [
    {
     "data": {
      "text/plain": [
       "[('192.168.21.120', '0')]"
      ]
     },
     "execution_count": 21,
     "metadata": {},
     "output_type": "execute_result"
    }
   ],
   "source": [
    "pattern=r\"(?:(192.168.21.([0-9]|[1-9][0-9]|[1][0-1][0-9]|2[0-2][0-6])+))\"\n",
    "li=\"192.168.21.120\"\n",
    "re.findall(pattern,li)"
   ]
  },
  {
   "cell_type": "code",
   "execution_count": 27,
   "id": "78470792",
   "metadata": {},
   "outputs": [
    {
     "data": {
      "text/plain": [
       "[('192.168.21.128', '128'), ('192.168.21.240', '240')]"
      ]
     },
     "execution_count": 27,
     "metadata": {},
     "output_type": "execute_result"
    }
   ],
   "source": [
    "#128 25\n",
    "pattern=r\"(?:(192.168.21.(12[8-9]|1[3-9][0-9]|2[0-4][0-9]|25[0-4])+))\"\n",
    "li=\"192.168.21.120 , 192.168.21.128 , 192.168.21.240\"\n",
    "re.findall(pattern,li)"
   ]
  },
  {
   "cell_type": "code",
   "execution_count": 28,
   "id": "3db60795",
   "metadata": {},
   "outputs": [
    {
     "data": {
      "text/plain": [
       "[('192.168.21.240', '240')]"
      ]
     },
     "execution_count": 28,
     "metadata": {},
     "output_type": "execute_result"
    }
   ],
   "source": [
    "#192 26\n",
    "pattern=r\"(?:(192.168.21.(19[2-9]|2[0-4][0-9]|25[0-4])+))\"\n",
    "li=\"192.168.21.120 , 192.168.21.128 , 192.168.21.240\"\n",
    "re.findall(pattern,li)"
   ]
  },
  {
   "cell_type": "code",
   "execution_count": 29,
   "id": "93556394",
   "metadata": {},
   "outputs": [
    {
     "data": {
      "text/plain": [
       "[('192.168.21.240', '240')]"
      ]
     },
     "execution_count": 29,
     "metadata": {},
     "output_type": "execute_result"
    }
   ],
   "source": [
    "#224 27\n",
    "pattern=r\"(?:(192.168.21.(22[4-9]|2[3-4][0-9]|25[0-4])+))\"\n",
    "li=\"192.168.21.120 , 192.168.21.128 , 192.168.21.240\"\n",
    "re.findall(pattern,li)"
   ]
  },
  {
   "cell_type": "code",
   "execution_count": 30,
   "id": "33c9d286",
   "metadata": {},
   "outputs": [
    {
     "data": {
      "text/plain": [
       "[('192.168.21.240', '240')]"
      ]
     },
     "execution_count": 30,
     "metadata": {},
     "output_type": "execute_result"
    }
   ],
   "source": [
    "#240 28\n",
    "pattern=r\"(?:(192.168.21.(2[4][0-9]|25[0-4])+))\"\n",
    "li=\"192.168.21.120 , 192.168.21.128 , 192.168.21.240\"\n",
    "re.findall(pattern,li)"
   ]
  },
  {
   "cell_type": "code",
   "execution_count": 34,
   "id": "9e205ca5",
   "metadata": {},
   "outputs": [
    {
     "data": {
      "text/plain": [
       "[('192.168.21.248', '248')]"
      ]
     },
     "execution_count": 34,
     "metadata": {},
     "output_type": "execute_result"
    }
   ],
   "source": [
    "#248 29\n",
    "pattern=r\"(?:(192.168.21.(2[4][8-9]|25[0-4])+))\"\n",
    "li=\"192.168.21.120 , 192.168.21.128 , 192.168.21.240 192.168.21.248 192.168.21.25\"\n",
    "re.findall(pattern,li)"
   ]
  },
  {
   "cell_type": "code",
   "execution_count": 141,
   "id": "c922737b",
   "metadata": {},
   "outputs": [
    {
     "name": "stdout",
     "output_type": "stream",
     "text": [
      "['192.168.21.120 , 192.168.21.128 , ', '192.168.21.254', '254', ', ', '192.168.21.253', '253', '']\n"
     ]
    }
   ],
   "source": [
    "#252 30\n",
    "pattern=r\"(?:(192.168.21.(25[2-4])+))\"\n",
    "li=\"192.168.21.120 , 192.168.21.128 , 192.168.21.254, 192.168.21.253\"\n",
    "x=re.findall(pattern,li)\n",
    "print(x)"
   ]
  },
  {
   "cell_type": "code",
   "execution_count": 35,
   "id": "676db9d4",
   "metadata": {},
   "outputs": [
    {
     "name": "stdout",
     "output_type": "stream",
     "text": [
      "1 (?:(192.168.21.([0-9]|[1-9][1-9]|1[0-9][0-9]|2[0-5][0-4])+))\n",
      "3 (?:(192.168.21.(19[2-9]|2[0-4][0-9]|25[0-4])+))\n",
      "6 (?:(172.168.20.(2[4][8-9]|25[0-4])+))\n"
     ]
    }
   ],
   "source": [
    "ip=[\"192.168.21.0/24\",\"192.168.21.0/26\",\"172.168.20.0/29\"]\n",
    "data=pd.DataFrame()\n",
    "for i in ip:\n",
    "    ip_subnet=i.rfind('.')\n",
    "    slash=i.rfind('/')\n",
    "    subnet_end=int(i[(slash)+1:])\n",
    "    if subnet_end==24:\n",
    "        pattern=r\"(?:({}.([0-9]|[1-9][1-9]|1[0-9][0-9]|2[0-5][0-4])+))\".format(i[:ip_subnet])\n",
    "        print(\"1\",pattern)\n",
    "        dataframe=[{\n",
    "            \"Department_Name\":\"Python\",\n",
    "            \"End_IP\":i[:ip_subnet]+'.254',\n",
    "            \"IP_Subnet\":i,\n",
    "            \"Start_IP\":i[:ip_subnet]+'.0',\n",
    "            \"CustomerName\":\"SATTRIX\",\n",
    "            \"regex\":pattern\n",
    "        }]\n",
    "        ip_rows=pd.DataFrame(dataframe)\n",
    "        data=pd.concat([ip_rows,data],ignore_index=True)\n",
    "    if subnet_end==25:\n",
    "        pattern=r\"(?:({}.(12[8-9]|1[3-9][0-9]|2[0-4][0-9]|25[0-4])+))\".format(i[:ip_subnet])\n",
    "        dataframe=[\n",
    "                {\n",
    "                    \"Department_Name\":\"Python\",\n",
    "                    \"End_IP\":i[:ip_subnet]+'.254',\n",
    "                    \"IP_Subnet\":i,\n",
    "                    \"Start_IP\":i[:ip_subnet]+'.128',\n",
    "                    \"CustomerName\":\"SATTRIX\",\n",
    "                    \"regex\":pattern\n",
    "                }\n",
    "            ]\n",
    "        ip_rows=pd.DataFrame(dataframe)\n",
    "        data=pd.concat([ip_rows,data],ignore_index=True)\n",
    "        print(\"2\",pattern)\n",
    "    if subnet_end==26:\n",
    "        pattern=r\"(?:({}.(19[2-9]|2[0-4][0-9]|25[0-4])+))\".format(i[:ip_subnet])\n",
    "        dataframe=[\n",
    "                {\n",
    "                    \"Department_Name\":\"Python\",\n",
    "                    \"End_IP\":i[:ip_subnet]+'.254',\n",
    "                    \"IP_Subnet\":i,\n",
    "                    \"Start_IP\":i[:ip_subnet]+'.192',\n",
    "                    \"CustomerName\":\"SATTRIX\",\n",
    "                    \"regex\":pattern\n",
    "                }\n",
    "            ]\n",
    "        ip_rows=pd.DataFrame(dataframe)\n",
    "        data=pd.concat([ip_rows,data],ignore_index=True)\n",
    "        print(\"3\",pattern)\n",
    "    if subnet_end==27:\n",
    "        pattern=r\"(?:({}.(22[4-9]|2[3-4][0-9]|25[0-4])+))\".format(i[:ip_subnet])\n",
    "        dataframe=[\n",
    "                {\n",
    "                    \"Department_Name\":\"Python\",\n",
    "                    \"End_IP\":i[:ip_subnet]+'.254',\n",
    "                    \"IP_Subnet\":i,\n",
    "                    \"Start_IP\":i[:ip_subnet]+'.224',\n",
    "                    \"CustomerName\":\"SATTRIX\",\n",
    "                    \"regex\":pattern\n",
    "                }\n",
    "            ]\n",
    "        ip_rows=pd.DataFrame(dataframe)\n",
    "        data=pd.concat([ip_rows,data],ignore_index=True)\n",
    "        print(\"4\",pattern)\n",
    "    if subnet_end==28:\n",
    "        pattern=r\"(?:({}.(2[4][0-9]|25[0-4])+))\".format(i[:ip_subnet])\n",
    "        dataframe=[\n",
    "                {\n",
    "                    \"Department_Name\":\"Python\",\n",
    "                    \"End_IP\":i[:ip_subnet]+'.254',\n",
    "                    \"IP_Subnet\":i,\n",
    "                    \"Start_IP\":i[:ip_subnet]+'.240',\n",
    "                    \"CustomerName\":\"SATTRIX\",\n",
    "                    \"regex\":pattern\n",
    "                }\n",
    "            ]\n",
    "        ip_rows=pd.DataFrame(dataframe)\n",
    "        data=pd.concat([ip_rows,data],ignore_index=True)\n",
    "        print(\"5\",pattern)\n",
    "    if subnet_end==29:\n",
    "        pattern=r\"(?:({}.(2[4][8-9]|25[0-4])+))\".format(i[:ip_subnet])\n",
    "        dataframe=[\n",
    "                {\n",
    "                    \"Department_Name\":\"Python\",\n",
    "                    \"End_IP\":i[:ip_subnet]+'.254',\n",
    "                    \"IP_Subnet\":i,\n",
    "                    \"Start_IP\":i[:ip_subnet]+'.248',\n",
    "                    \"CustomerName\":\"SATTRIX\",\n",
    "                    \"regex\":pattern\n",
    "                }\n",
    "            ]\n",
    "        ip_rows=pd.DataFrame(dataframe)\n",
    "        data=pd.concat([ip_rows,data],ignore_index=True)\n",
    "        print(\"6\",pattern)\n",
    "    if subnet_end==30:\n",
    "        pattern=r\"(?:({}.(25[2-4])+))\".format(i[:ip_subnet])\n",
    "        dataframe=[\n",
    "                {\n",
    "                    \"Department_Name\":\"Python\",\n",
    "                    \"End_IP\":i[:ip_subnet]+'.254',\n",
    "                    \"IP_Subnet\":i,\n",
    "                    \"Start_IP\":i[:ip_subnet]+'.252',\n",
    "                    \"CustomerName\":\"SATTRIX\",\n",
    "                    \"regex\":pattern\n",
    "                }\n",
    "            ]\n",
    "        ip_rows=pd.DataFrame(dataframe)\n",
    "        data=pd.concat([ip_rows,data] , ignore_index=True)\n",
    "        print(\"7\",pattern)"
   ]
  },
  {
   "cell_type": "code",
   "execution_count": 90,
   "id": "df75a503",
   "metadata": {},
   "outputs": [],
   "source": [
    "# data=pd.DataFrame(index=[0,1,2])"
   ]
  },
  {
   "cell_type": "code",
   "execution_count": 36,
   "id": "6e899d4d",
   "metadata": {},
   "outputs": [
    {
     "data": {
      "text/html": [
       "<div>\n",
       "<style scoped>\n",
       "    .dataframe tbody tr th:only-of-type {\n",
       "        vertical-align: middle;\n",
       "    }\n",
       "\n",
       "    .dataframe tbody tr th {\n",
       "        vertical-align: top;\n",
       "    }\n",
       "\n",
       "    .dataframe thead th {\n",
       "        text-align: right;\n",
       "    }\n",
       "</style>\n",
       "<table border=\"1\" class=\"dataframe\">\n",
       "  <thead>\n",
       "    <tr style=\"text-align: right;\">\n",
       "      <th></th>\n",
       "      <th>Department_Name</th>\n",
       "      <th>End_IP</th>\n",
       "      <th>IP_Subnet</th>\n",
       "      <th>Start_IP</th>\n",
       "      <th>CustomerName</th>\n",
       "      <th>regex</th>\n",
       "    </tr>\n",
       "  </thead>\n",
       "  <tbody>\n",
       "    <tr>\n",
       "      <th>0</th>\n",
       "      <td>Python</td>\n",
       "      <td>172.168.20.254</td>\n",
       "      <td>172.168.20.0/29</td>\n",
       "      <td>172.168.20.248</td>\n",
       "      <td>SATTRIX</td>\n",
       "      <td>(?:(172.168.20.(2[4][8-9]|25[0-4])+))</td>\n",
       "    </tr>\n",
       "    <tr>\n",
       "      <th>1</th>\n",
       "      <td>Python</td>\n",
       "      <td>192.168.21.254</td>\n",
       "      <td>192.168.21.0/26</td>\n",
       "      <td>192.168.21.192</td>\n",
       "      <td>SATTRIX</td>\n",
       "      <td>(?:(192.168.21.(19[2-9]|2[0-4][0-9]|25[0-4])+))</td>\n",
       "    </tr>\n",
       "    <tr>\n",
       "      <th>2</th>\n",
       "      <td>Python</td>\n",
       "      <td>192.168.21.254</td>\n",
       "      <td>192.168.21.0/24</td>\n",
       "      <td>192.168.21.0</td>\n",
       "      <td>SATTRIX</td>\n",
       "      <td>(?:(192.168.21.([0-9]|[1-9][1-9]|1[0-9][0-9]|2...</td>\n",
       "    </tr>\n",
       "  </tbody>\n",
       "</table>\n",
       "</div>"
      ],
      "text/plain": [
       "  Department_Name          End_IP        IP_Subnet        Start_IP  \\\n",
       "0          Python  172.168.20.254  172.168.20.0/29  172.168.20.248   \n",
       "1          Python  192.168.21.254  192.168.21.0/26  192.168.21.192   \n",
       "2          Python  192.168.21.254  192.168.21.0/24    192.168.21.0   \n",
       "\n",
       "  CustomerName                                              regex  \n",
       "0      SATTRIX              (?:(172.168.20.(2[4][8-9]|25[0-4])+))  \n",
       "1      SATTRIX    (?:(192.168.21.(19[2-9]|2[0-4][0-9]|25[0-4])+))  \n",
       "2      SATTRIX  (?:(192.168.21.([0-9]|[1-9][1-9]|1[0-9][0-9]|2...  "
      ]
     },
     "execution_count": 36,
     "metadata": {},
     "output_type": "execute_result"
    }
   ],
   "source": [
    "data"
   ]
  },
  {
   "cell_type": "code",
   "execution_count": 68,
   "id": "6f8df41c",
   "metadata": {},
   "outputs": [],
   "source": [
    "dataframe=[\n",
    "    {\n",
    "        \"Department_Name\":\"Python\",\n",
    "        \"End_IP\":i[:ip_subnet]+'.254',\n",
    "        \"IP_Subnet\":i,\n",
    "        \"Start_IP\":i[:ip_subnet]+i[ip_subnet:slash],\n",
    "        \"CustomerName\":\"SATTRIX\",\n",
    "        \"regex\":pattern\n",
    "    }\n",
    "]"
   ]
  },
  {
   "cell_type": "code",
   "execution_count": 69,
   "id": "6a900a6e",
   "metadata": {},
   "outputs": [
    {
     "data": {
      "text/html": [
       "<div>\n",
       "<style scoped>\n",
       "    .dataframe tbody tr th:only-of-type {\n",
       "        vertical-align: middle;\n",
       "    }\n",
       "\n",
       "    .dataframe tbody tr th {\n",
       "        vertical-align: top;\n",
       "    }\n",
       "\n",
       "    .dataframe thead th {\n",
       "        text-align: right;\n",
       "    }\n",
       "</style>\n",
       "<table border=\"1\" class=\"dataframe\">\n",
       "  <thead>\n",
       "    <tr style=\"text-align: right;\">\n",
       "      <th></th>\n",
       "      <th>Department_Name</th>\n",
       "      <th>End_IP</th>\n",
       "      <th>IP_Subnet</th>\n",
       "      <th>Start_IP</th>\n",
       "      <th>CustomerName</th>\n",
       "      <th>regex</th>\n",
       "    </tr>\n",
       "  </thead>\n",
       "  <tbody>\n",
       "    <tr>\n",
       "      <th>0</th>\n",
       "      <td>Python</td>\n",
       "      <td>192.168.21.254</td>\n",
       "      <td>192.168.21.0/28</td>\n",
       "      <td>192.168.21.0</td>\n",
       "      <td>SATTRIX</td>\n",
       "      <td>(?:(192.168.21.(2[4][0-9]|25[0-4])+))</td>\n",
       "    </tr>\n",
       "  </tbody>\n",
       "</table>\n",
       "</div>"
      ],
      "text/plain": [
       "  Department_Name          End_IP        IP_Subnet      Start_IP CustomerName  \\\n",
       "0          Python  192.168.21.254  192.168.21.0/28  192.168.21.0      SATTRIX   \n",
       "\n",
       "                                   regex  \n",
       "0  (?:(192.168.21.(2[4][0-9]|25[0-4])+))  "
      ]
     },
     "execution_count": 69,
     "metadata": {},
     "output_type": "execute_result"
    }
   ],
   "source": [
    "pd.DataFrame(dataframe)"
   ]
  },
  {
   "cell_type": "code",
   "execution_count": 110,
   "id": "016d4439",
   "metadata": {},
   "outputs": [
    {
     "data": {
      "text/plain": [
       "['192.168.25.10']"
      ]
     },
     "execution_count": 110,
     "metadata": {},
     "output_type": "execute_result"
    }
   ],
   "source": [
    "pattern=r\"^(192\\.168\\.(?:[0-9]|1[0-9]|2[0-9]|3[01])\\.(?:[1-9]|[1-9][0-9]|[1-2][0-4][0-9]|25[0-4]))$\"\n",
    "li=\"192.168.25.10\"\n",
    "re.findall(pattern,li)"
   ]
  },
  {
   "cell_type": "code",
   "execution_count": 113,
   "id": "0dc3094c",
   "metadata": {},
   "outputs": [
    {
     "data": {
      "text/plain": [
       "[]"
      ]
     },
     "execution_count": 113,
     "metadata": {},
     "output_type": "execute_result"
    }
   ],
   "source": [
    "pattern=r\"^91\\.228\\.(?:[0-3][0-9]{2}|3[01]{1})\\.[0-9]{1,2}$\"\n",
    "li=\"91.228.24,50\"\n",
    "re.findall(pattern,li)"
   ]
  },
  {
   "cell_type": "code",
   "execution_count": 114,
   "id": "f6e94470",
   "metadata": {},
   "outputs": [
    {
     "name": "stdout",
     "output_type": "stream",
     "text": [
      "['192.168.21.6  192.168.24.21 this is the new think for user 192.1']\n"
     ]
    }
   ],
   "source": [
    "pattern=re.compile(r\"192.168.+[0-31]+.[0-24]+\")\n",
    "text=\"hello this is IP Address 192.168.21.6  192.168.24.21 this is the new think for user 192.168.21.9\"\n",
    "data=pattern.findall(text)\n",
    "print(data)\n"
   ]
  },
  {
   "cell_type": "code",
   "execution_count": 136,
   "id": "09df61b5",
   "metadata": {},
   "outputs": [
    {
     "data": {
      "text/plain": [
       "[('192.168.21.20', '192.168.21.20')]"
      ]
     },
     "execution_count": 136,
     "metadata": {},
     "output_type": "execute_result"
    }
   ],
   "source": [
    "pattern=\"(^(192\\.168\\.21\\.(?:[1-9]|[1-9][0-9]|[1-2][0-4][0-9]|25[0-4]))$)\"\n",
    "li=\"192.168.21.20\"\n",
    "re.findall(pattern,li)"
   ]
  },
  {
   "cell_type": "code",
   "execution_count": 148,
   "id": "b0a5ca46",
   "metadata": {},
   "outputs": [
    {
     "data": {
      "text/plain": [
       "[]"
      ]
     },
     "execution_count": 148,
     "metadata": {},
     "output_type": "execute_result"
    }
   ],
   "source": [
    "pattern=\"^(192\\.168\\.21\\.(?:[1-9]|[1-9][0-9]|[1-2][0-4][0-9]|25[0-4])$)\"\n",
    "li=\"192.168.21.20 192.168.21.26\"\n",
    "re.findall(pattern,li)"
   ]
  },
  {
   "cell_type": "code",
   "execution_count": 163,
   "id": "95d3b643",
   "metadata": {},
   "outputs": [
    {
     "data": {
      "text/plain": [
       "[]"
      ]
     },
     "execution_count": 163,
     "metadata": {},
     "output_type": "execute_result"
    }
   ],
   "source": [
    "pattern=r\"^(192\\.168\\.21\\.(?:[1-9]|[1-9][0-9]|[1-2][0-4][0-9]|25[0-4]))\"\n",
    "li=\"hello this is IP Address 192.168.21.6  192.168.24.21 this is the new think for user 192.168.21.9 192.168.21.20 192.168.21.26\"\n",
    "re.findall(pattern,li)"
   ]
  },
  {
   "cell_type": "code",
   "execution_count": 37,
   "id": "59c11d55",
   "metadata": {},
   "outputs": [
    {
     "ename": "TypeError",
     "evalue": "expected string or bytes-like object",
     "output_type": "error",
     "traceback": [
      "\u001b[0;31m---------------------------------------------------------------------------\u001b[0m",
      "\u001b[0;31mTypeError\u001b[0m                                 Traceback (most recent call last)",
      "Cell \u001b[0;32mIn[37], line 3\u001b[0m\n\u001b[1;32m      1\u001b[0m pattern\u001b[38;5;241m=\u001b[39m\u001b[38;5;124mr\u001b[39m\u001b[38;5;124m\"\u001b[39m\u001b[38;5;124m^(192\u001b[39m\u001b[38;5;124m\\\u001b[39m\u001b[38;5;124m.168\u001b[39m\u001b[38;5;124m\\\u001b[39m\u001b[38;5;124m.21\u001b[39m\u001b[38;5;124m\\\u001b[39m\u001b[38;5;124m.(?:[1-9]|[1-9][0-9]|[1-2][0-4][0-9]|[2][5][0-4])+)\u001b[39m\u001b[38;5;124m\"\u001b[39m\n\u001b[1;32m      2\u001b[0m li\u001b[38;5;241m=\u001b[39m\u001b[38;5;124m\"\u001b[39m\u001b[38;5;124m192.168.21.654 , 192.168.21.25\u001b[39m\u001b[38;5;124m\"\u001b[39m\n\u001b[0;32m----> 3\u001b[0m x\u001b[38;5;241m=\u001b[39m\u001b[43mre\u001b[49m\u001b[38;5;241;43m.\u001b[39;49m\u001b[43mfindall\u001b[49m\u001b[43m(\u001b[49m\u001b[43mpattern\u001b[49m\u001b[43m,\u001b[49m\u001b[43mdata\u001b[49m\u001b[43m)\u001b[49m\n\u001b[1;32m      4\u001b[0m \u001b[38;5;28mprint\u001b[39m(x)\n",
      "File \u001b[0;32m/usr/lib/python3.10/re.py:240\u001b[0m, in \u001b[0;36mfindall\u001b[0;34m(pattern, string, flags)\u001b[0m\n\u001b[1;32m    232\u001b[0m \u001b[38;5;28;01mdef\u001b[39;00m \u001b[38;5;21mfindall\u001b[39m(pattern, string, flags\u001b[38;5;241m=\u001b[39m\u001b[38;5;241m0\u001b[39m):\n\u001b[1;32m    233\u001b[0m \u001b[38;5;250m    \u001b[39m\u001b[38;5;124;03m\"\"\"Return a list of all non-overlapping matches in the string.\u001b[39;00m\n\u001b[1;32m    234\u001b[0m \n\u001b[1;32m    235\u001b[0m \u001b[38;5;124;03m    If one or more capturing groups are present in the pattern, return\u001b[39;00m\n\u001b[0;32m   (...)\u001b[0m\n\u001b[1;32m    238\u001b[0m \n\u001b[1;32m    239\u001b[0m \u001b[38;5;124;03m    Empty matches are included in the result.\"\"\"\u001b[39;00m\n\u001b[0;32m--> 240\u001b[0m     \u001b[38;5;28;01mreturn\u001b[39;00m \u001b[43m_compile\u001b[49m\u001b[43m(\u001b[49m\u001b[43mpattern\u001b[49m\u001b[43m,\u001b[49m\u001b[43m \u001b[49m\u001b[43mflags\u001b[49m\u001b[43m)\u001b[49m\u001b[38;5;241;43m.\u001b[39;49m\u001b[43mfindall\u001b[49m\u001b[43m(\u001b[49m\u001b[43mstring\u001b[49m\u001b[43m)\u001b[49m\n",
      "\u001b[0;31mTypeError\u001b[0m: expected string or bytes-like object"
     ]
    }
   ],
   "source": [
    "pattern=r\"^(192\\.168\\.21\\.(?:[1-9]|[1-9][0-9]|[1-2][0-4][0-9]|[2][5][0-4])+)\"\n",
    "li=\"192.168.21.654 , 192.168.21.25\"\n",
    "x=re.findall(pattern,data)\n",
    "print(x)"
   ]
  },
  {
   "cell_type": "code",
   "execution_count": 4,
   "id": "094e788d",
   "metadata": {},
   "outputs": [
    {
     "name": "stdout",
     "output_type": "stream",
     "text": [
      "0\n",
      "1\n",
      "2\n",
      "3\n",
      "4\n"
     ]
    }
   ],
   "source": [
    "for i in range(5):\n",
    "    print(i)"
   ]
  },
  {
   "cell_type": "code",
   "execution_count": 47,
   "id": "f233c902",
   "metadata": {},
   "outputs": [
    {
     "data": {
      "text/plain": [
       "['192', '168', '192.168.21.128', '192', '168', '240']"
      ]
     },
     "execution_count": 47,
     "metadata": {},
     "output_type": "execute_result"
    }
   ],
   "source": [
    "pattern=r\"(?:([1][9][2]\\.[1][6][8]\\.[2][1].12[8-9]|1[3-9][0-9]|2[0-4][0-9]|25[0-4])+)\"\n",
    "li=\"192.168.21.120,192.168.21.128,192.168.21.240\"\n",
    "re.findall(pattern,li)"
   ]
  },
  {
   "cell_type": "code",
   "execution_count": 50,
   "id": "de7bd397",
   "metadata": {},
   "outputs": [
    {
     "data": {
      "text/plain": [
       "[('192.168.21.128', '128'), ('192.168.21.240', '240')]"
      ]
     },
     "execution_count": 50,
     "metadata": {},
     "output_type": "execute_result"
    }
   ],
   "source": [
    "pattern=r\"(?:(192\\.168\\.21\\.(12[8-9]|1[3-9][0-9]|2[0-4][0-9]|25[0-4])+))\"\n",
    "li=\"192.168.21.120,192.168.21.128,192.168.21.240\"\n",
    "re.findall(pattern,li)"
   ]
  },
  {
   "cell_type": "code",
   "execution_count": 63,
   "id": "b87efb4c",
   "metadata": {},
   "outputs": [
    {
     "data": {
      "text/plain": [
       "[]"
      ]
     },
     "execution_count": 63,
     "metadata": {},
     "output_type": "execute_result"
    }
   ],
   "source": [
    "pattern=r\"\\b(192.168)\\.(?:[25][0-5]|2[0-4][0-9]|1[0-9][0-9]|[1-9]?[0-9])\\.(25[0-5]|2[0-4][0-9]|1[0-9][0-9]|[1-9]?[0-9])$\"\n",
    "li=\"192.168.251.240\"\n",
    "re.findall(pattern,li)"
   ]
  },
  {
   "cell_type": "code",
   "execution_count": 76,
   "id": "c479eece",
   "metadata": {},
   "outputs": [
    {
     "data": {
      "text/plain": [
       "[('192.168.21.240', '240'), ('192.168.21.26', '26')]"
      ]
     },
     "execution_count": 76,
     "metadata": {},
     "output_type": "execute_result"
    }
   ],
   "source": [
    "pattern=r\"(\\b192\\.168\\.21\\.(25[0-4]|2[0-4][0-9]|[01]?[0-9][0-9]?)\\b)+\"\n",
    "li='192.168.21.240 , 192.168.21.26'\n",
    "re.findall(pattern,li)"
   ]
  },
  {
   "cell_type": "code",
   "execution_count": 77,
   "id": "edc09067",
   "metadata": {},
   "outputs": [
    {
     "name": "stdout",
     "output_type": "stream",
     "text": [
      "       ip_address\n",
      "0    192.168.21.5\n",
      "1  192.168.21.100\n"
     ]
    }
   ],
   "source": [
    "import pandas as pd\n",
    "\n",
    "# Sample DataFrame with 'ip_address' column\n",
    "data = {'ip_address': ['192.168.21.5', '192.168.21.100', '192.168.21.255', '192.168.22.10']}\n",
    "df = pd.DataFrame(data)\n",
    "\n",
    "# Regex pattern\n",
    "pattern = r'^192\\.168\\.21\\.(25[0-4]|2[0-4][0-9]|[01]?[0-9][0-9]?)$'\n",
    "\n",
    "# Filter DataFrame using regex\n",
    "filtered_df = df[df['ip_address'].str.match(pattern)]\n",
    "\n",
    "print(filtered_df)"
   ]
  },
  {
   "cell_type": "code",
   "execution_count": 91,
   "id": "36fc0a2a",
   "metadata": {},
   "outputs": [
    {
     "name": "stdout",
     "output_type": "stream",
     "text": [
      "[('192.168.21.240', '240'), ('192.168.21.241', '241')]\n"
     ]
    }
   ],
   "source": [
    "# pattern = r'^192\\.168\\.21\\.(25[0-4]|2[0-4][0-9]|[01]?[0-9][0-9]?)$'\n",
    "pattern=r\"(?:(172.168.20.(2[4][8-9]|25[0-4])+))\"\n",
    "pattern=\"(?:(192.168.21.(19[2-9]|2[0-4][0-9]|25[0-4])+))\"\n",
    "li='192.168.21.240 ,172.168.20.250, 192.168.21.241'\n",
    "x=re.findall(pattern,li)\n",
    "print(x)"
   ]
  },
  {
   "cell_type": "code",
   "execution_count": 96,
   "id": "f799b7b9",
   "metadata": {},
   "outputs": [
    {
     "data": {
      "text/plain": [
       "['rahul', 'raivl']"
      ]
     },
     "execution_count": 96,
     "metadata": {},
     "output_type": "execute_result"
    }
   ],
   "source": [
    "pattern=r\"ra[h-l][u-v][k-p]\"\n",
    "text=\"rahul rohan raivl\"\n",
    "re.findall(pattern,text)"
   ]
  },
  {
   "cell_type": "code",
   "execution_count": 101,
   "id": "735d8cd4",
   "metadata": {},
   "outputs": [
    {
     "data": {
      "text/plain": [
       "['192.168.21.4.6', '192.168.21.9.3']"
      ]
     },
     "execution_count": 101,
     "metadata": {},
     "output_type": "execute_result"
    }
   ],
   "source": [
    "pattern=r\"192.168.21.[1-9].[2-8]\"\n",
    "text=\"rahul rpattern=r\"192.168.21.[0-9]|[1-9][0-9]|1[0-9][0-9]|2[0-4][0-9]|25[0-4]\"\n",
    "text='192.168.21.135, 192.168.21.241'\n",
    "re.findall(pattern,text)ohan raivl 192.168.21.4.6 192.168.21.9.3\"\n",
    "re.findall(pattern,text)"
   ]
  },
  {
   "cell_type": "code",
   "execution_count": 104,
   "id": "ce381a6c",
   "metadata": {},
   "outputs": [
    {
     "data": {
      "text/plain": [
       "['192.168.21.1', '35', '192.168.21.2', '41']"
      ]
     },
     "execution_count": 104,
     "metadata": {},
     "output_type": "execute_result"
    }
   ],
   "source": [
    "pattern=r\"192.168.21.[0-9]|[1-9][0-9]|1[0-9][0-9]|2[0-4][0-9]|25[0-4]\"\n",
    "text='192.168.21.135, 192.168.21.241'\n",
    "re.findall(pattern,text)"
   ]
  },
  {
   "cell_type": "code",
   "execution_count": 132,
   "id": "7fe6f6f3",
   "metadata": {},
   "outputs": [
    {
     "data": {
      "text/plain": [
       "[]"
      ]
     },
     "execution_count": 132,
     "metadata": {},
     "output_type": "execute_result"
    }
   ],
   "source": [
    "pattern=r\"192.168.21.[0-2][0-9][0-9]{0-3}\"\n",
    "text='192.168.21.135, 192.168.21.241, 192.168.21.58'\n",
    "re.findall(pattern,text)"
   ]
  },
  {
   "cell_type": "code",
   "execution_count": 133,
   "id": "5861c763",
   "metadata": {},
   "outputs": [
    {
     "data": {
      "text/html": [
       "<div>\n",
       "<style scoped>\n",
       "    .dataframe tbody tr th:only-of-type {\n",
       "        vertical-align: middle;\n",
       "    }\n",
       "\n",
       "    .dataframe tbody tr th {\n",
       "        vertical-align: top;\n",
       "    }\n",
       "\n",
       "    .dataframe thead th {\n",
       "        text-align: right;\n",
       "    }\n",
       "</style>\n",
       "<table border=\"1\" class=\"dataframe\">\n",
       "  <thead>\n",
       "    <tr style=\"text-align: right;\">\n",
       "      <th></th>\n",
       "      <th>Unnamed: 0</th>\n",
       "      <th>Category</th>\n",
       "      <th>CreatedOn</th>\n",
       "      <th>src</th>\n",
       "      <th>dst</th>\n",
       "    </tr>\n",
       "  </thead>\n",
       "  <tbody>\n",
       "    <tr>\n",
       "      <th>0</th>\n",
       "      <td>24</td>\n",
       "      <td>attack_categor</td>\n",
       "      <td>2023-07-04 12:34:31</td>\n",
       "      <td>192.168.6.2</td>\n",
       "      <td>184.26.161.66</td>\n",
       "    </tr>\n",
       "    <tr>\n",
       "      <th>1</th>\n",
       "      <td>124</td>\n",
       "      <td>attack_categor</td>\n",
       "      <td>2023-07-04 12:34:31</td>\n",
       "      <td>192.168.6.2</td>\n",
       "      <td>13.107.42.1</td>\n",
       "    </tr>\n",
       "    <tr>\n",
       "      <th>2</th>\n",
       "      <td>137</td>\n",
       "      <td>attack_categor</td>\n",
       "      <td>2023-07-04 12:34:31</td>\n",
       "      <td>192.168.6.2</td>\n",
       "      <td>13.107.42.1</td>\n",
       "    </tr>\n",
       "    <tr>\n",
       "      <th>3</th>\n",
       "      <td>138</td>\n",
       "      <td>attack_categor</td>\n",
       "      <td>2023-07-04 12:34:31</td>\n",
       "      <td>192.168.6.2</td>\n",
       "      <td>162.159.24.11</td>\n",
       "    </tr>\n",
       "    <tr>\n",
       "      <th>4</th>\n",
       "      <td>220</td>\n",
       "      <td>attack_categor</td>\n",
       "      <td>2023-07-04 12:34:31</td>\n",
       "      <td>192.168.6.2</td>\n",
       "      <td>217.13.106.203</td>\n",
       "    </tr>\n",
       "    <tr>\n",
       "      <th>5</th>\n",
       "      <td>226</td>\n",
       "      <td>attack_categor</td>\n",
       "      <td>2023-07-04 12:34:31</td>\n",
       "      <td>192.168.6.2</td>\n",
       "      <td>208.80.125.4</td>\n",
       "    </tr>\n",
       "    <tr>\n",
       "      <th>6</th>\n",
       "      <td>233</td>\n",
       "      <td>attack_categor</td>\n",
       "      <td>2023-07-04 12:34:31</td>\n",
       "      <td>192.168.6.2</td>\n",
       "      <td>208.80.125.4</td>\n",
       "    </tr>\n",
       "    <tr>\n",
       "      <th>7</th>\n",
       "      <td>248</td>\n",
       "      <td>anonymizer_categor</td>\n",
       "      <td>2023-07-04 12:34:31</td>\n",
       "      <td>192.168.6.2</td>\n",
       "      <td>217.13.106.203</td>\n",
       "    </tr>\n",
       "    <tr>\n",
       "      <th>8</th>\n",
       "      <td>262</td>\n",
       "      <td>attack_categor</td>\n",
       "      <td>2023-07-04 12:34:31</td>\n",
       "      <td>192.168.6.2</td>\n",
       "      <td>208.80.125.4</td>\n",
       "    </tr>\n",
       "    <tr>\n",
       "      <th>9</th>\n",
       "      <td>309</td>\n",
       "      <td>attack_categor</td>\n",
       "      <td>2023-07-04 12:34:31</td>\n",
       "      <td>192.168.6.2</td>\n",
       "      <td>208.80.125.4</td>\n",
       "    </tr>\n",
       "    <tr>\n",
       "      <th>10</th>\n",
       "      <td>327</td>\n",
       "      <td>attack_categor</td>\n",
       "      <td>2023-07-04 12:34:31</td>\n",
       "      <td>192.168.6.2</td>\n",
       "      <td>208.80.125.4</td>\n",
       "    </tr>\n",
       "  </tbody>\n",
       "</table>\n",
       "</div>"
      ],
      "text/plain": [
       "    Unnamed: 0            Category            CreatedOn          src  \\\n",
       "0           24      attack_categor  2023-07-04 12:34:31  192.168.6.2   \n",
       "1          124      attack_categor  2023-07-04 12:34:31  192.168.6.2   \n",
       "2          137      attack_categor  2023-07-04 12:34:31  192.168.6.2   \n",
       "3          138      attack_categor  2023-07-04 12:34:31  192.168.6.2   \n",
       "4          220      attack_categor  2023-07-04 12:34:31  192.168.6.2   \n",
       "5          226      attack_categor  2023-07-04 12:34:31  192.168.6.2   \n",
       "6          233      attack_categor  2023-07-04 12:34:31  192.168.6.2   \n",
       "7          248  anonymizer_categor  2023-07-04 12:34:31  192.168.6.2   \n",
       "8          262      attack_categor  2023-07-04 12:34:31  192.168.6.2   \n",
       "9          309      attack_categor  2023-07-04 12:34:31  192.168.6.2   \n",
       "10         327      attack_categor  2023-07-04 12:34:31  192.168.6.2   \n",
       "\n",
       "               dst  \n",
       "0    184.26.161.66  \n",
       "1      13.107.42.1  \n",
       "2      13.107.42.1  \n",
       "3    162.159.24.11  \n",
       "4   217.13.106.203  \n",
       "5     208.80.125.4  \n",
       "6     208.80.125.4  \n",
       "7   217.13.106.203  \n",
       "8     208.80.125.4  \n",
       "9     208.80.125.4  \n",
       "10    208.80.125.4  "
      ]
     },
     "execution_count": 133,
     "metadata": {},
     "output_type": "execute_result"
    }
   ],
   "source": [
    "df=pd.read_csv(\"demo_inci1.csv\")\n",
    "from pandasql import sqldf\n",
    "data2=sqldf('''select * from df where src regexp \"(?:(192.168.([0-9]|1[0-9]|2[0-9]|3[0-1]).([0-9]|1[0-9]|2[0-4])$))\" ''')\n",
    "data2"
   ]
  },
  {
   "cell_type": "code",
   "execution_count": 134,
   "id": "a576c7ef",
   "metadata": {},
   "outputs": [
    {
     "data": {
      "text/html": [
       "<div>\n",
       "<style scoped>\n",
       "    .dataframe tbody tr th:only-of-type {\n",
       "        vertical-align: middle;\n",
       "    }\n",
       "\n",
       "    .dataframe tbody tr th {\n",
       "        vertical-align: top;\n",
       "    }\n",
       "\n",
       "    .dataframe thead th {\n",
       "        text-align: right;\n",
       "    }\n",
       "</style>\n",
       "<table border=\"1\" class=\"dataframe\">\n",
       "  <thead>\n",
       "    <tr style=\"text-align: right;\">\n",
       "      <th></th>\n",
       "      <th>Unnamed: 0</th>\n",
       "      <th>Category</th>\n",
       "      <th>CreatedOn</th>\n",
       "      <th>src</th>\n",
       "      <th>dst</th>\n",
       "    </tr>\n",
       "  </thead>\n",
       "  <tbody>\n",
       "    <tr>\n",
       "      <th>0</th>\n",
       "      <td>0</td>\n",
       "      <td>abuse_categor</td>\n",
       "      <td>2023-07-04 12:34:31</td>\n",
       "      <td>45.112.178.18</td>\n",
       "      <td>14.99.224.214</td>\n",
       "    </tr>\n",
       "    <tr>\n",
       "      <th>1</th>\n",
       "      <td>1</td>\n",
       "      <td>anonymizer_categor</td>\n",
       "      <td>2023-07-04 12:34:31</td>\n",
       "      <td>192.168.5.51</td>\n",
       "      <td>52.113.195.132</td>\n",
       "    </tr>\n",
       "    <tr>\n",
       "      <th>2</th>\n",
       "      <td>2</td>\n",
       "      <td>abuse_categor</td>\n",
       "      <td>2023-07-04 12:34:31</td>\n",
       "      <td>45.112.178.18</td>\n",
       "      <td>14.99.224.214</td>\n",
       "    </tr>\n",
       "    <tr>\n",
       "      <th>3</th>\n",
       "      <td>3</td>\n",
       "      <td>abuse_categor</td>\n",
       "      <td>2023-07-04 12:34:31</td>\n",
       "      <td>45.112.178.18</td>\n",
       "      <td>14.99.224.214</td>\n",
       "    </tr>\n",
       "    <tr>\n",
       "      <th>4</th>\n",
       "      <td>4</td>\n",
       "      <td>abuse_categor</td>\n",
       "      <td>2023-07-04 12:34:31</td>\n",
       "      <td>45.112.178.18</td>\n",
       "      <td>14.99.224.214</td>\n",
       "    </tr>\n",
       "    <tr>\n",
       "      <th>...</th>\n",
       "      <td>...</td>\n",
       "      <td>...</td>\n",
       "      <td>...</td>\n",
       "      <td>...</td>\n",
       "      <td>...</td>\n",
       "    </tr>\n",
       "    <tr>\n",
       "      <th>395</th>\n",
       "      <td>395</td>\n",
       "      <td>attack_categor</td>\n",
       "      <td>2023-07-04 12:34:31</td>\n",
       "      <td>192.168.8.54</td>\n",
       "      <td>13.107.42.13</td>\n",
       "    </tr>\n",
       "    <tr>\n",
       "      <th>396</th>\n",
       "      <td>396</td>\n",
       "      <td>abuse_categor</td>\n",
       "      <td>2023-07-04 12:34:31</td>\n",
       "      <td>202.173.125.252</td>\n",
       "      <td>14.99.224.214</td>\n",
       "    </tr>\n",
       "    <tr>\n",
       "      <th>397</th>\n",
       "      <td>397</td>\n",
       "      <td>abuse_categor</td>\n",
       "      <td>2023-07-04 12:34:31</td>\n",
       "      <td>202.173.125.252</td>\n",
       "      <td>14.99.224.214</td>\n",
       "    </tr>\n",
       "    <tr>\n",
       "      <th>398</th>\n",
       "      <td>398</td>\n",
       "      <td>abuse_categor</td>\n",
       "      <td>2023-07-04 12:34:31</td>\n",
       "      <td>202.173.125.252</td>\n",
       "      <td>14.99.224.214</td>\n",
       "    </tr>\n",
       "    <tr>\n",
       "      <th>399</th>\n",
       "      <td>399</td>\n",
       "      <td>abuse_categor</td>\n",
       "      <td>2023-07-04 12:34:31</td>\n",
       "      <td>202.173.125.252</td>\n",
       "      <td>14.99.224.214</td>\n",
       "    </tr>\n",
       "  </tbody>\n",
       "</table>\n",
       "<p>400 rows × 5 columns</p>\n",
       "</div>"
      ],
      "text/plain": [
       "     Unnamed: 0            Category            CreatedOn              src  \\\n",
       "0             0       abuse_categor  2023-07-04 12:34:31    45.112.178.18   \n",
       "1             1  anonymizer_categor  2023-07-04 12:34:31     192.168.5.51   \n",
       "2             2       abuse_categor  2023-07-04 12:34:31    45.112.178.18   \n",
       "3             3       abuse_categor  2023-07-04 12:34:31    45.112.178.18   \n",
       "4             4       abuse_categor  2023-07-04 12:34:31    45.112.178.18   \n",
       "..          ...                 ...                  ...              ...   \n",
       "395         395      attack_categor  2023-07-04 12:34:31     192.168.8.54   \n",
       "396         396       abuse_categor  2023-07-04 12:34:31  202.173.125.252   \n",
       "397         397       abuse_categor  2023-07-04 12:34:31  202.173.125.252   \n",
       "398         398       abuse_categor  2023-07-04 12:34:31  202.173.125.252   \n",
       "399         399       abuse_categor  2023-07-04 12:34:31  202.173.125.252   \n",
       "\n",
       "                dst  \n",
       "0     14.99.224.214  \n",
       "1    52.113.195.132  \n",
       "2     14.99.224.214  \n",
       "3     14.99.224.214  \n",
       "4     14.99.224.214  \n",
       "..              ...  \n",
       "395    13.107.42.13  \n",
       "396   14.99.224.214  \n",
       "397   14.99.224.214  \n",
       "398   14.99.224.214  \n",
       "399   14.99.224.214  \n",
       "\n",
       "[400 rows x 5 columns]"
      ]
     },
     "execution_count": 134,
     "metadata": {},
     "output_type": "execute_result"
    }
   ],
   "source": [
    "df"
   ]
  },
  {
   "cell_type": "code",
   "execution_count": 135,
   "id": "d4d1a7c5",
   "metadata": {},
   "outputs": [
    {
     "data": {
      "text/plain": [
       "0        45.112.178.18\n",
       "1         192.168.5.51\n",
       "2        45.112.178.18\n",
       "3        45.112.178.18\n",
       "4        45.112.178.18\n",
       "            ...       \n",
       "395       192.168.8.54\n",
       "396    202.173.125.252\n",
       "397    202.173.125.252\n",
       "398    202.173.125.252\n",
       "399    202.173.125.252\n",
       "Name: src, Length: 400, dtype: object"
      ]
     },
     "execution_count": 135,
     "metadata": {},
     "output_type": "execute_result"
    }
   ],
   "source": [
    "df['src']"
   ]
  },
  {
   "cell_type": "code",
   "execution_count": 137,
   "id": "2607a4f3",
   "metadata": {},
   "outputs": [
    {
     "ename": "TypeError",
     "evalue": "expected string or bytes-like object",
     "output_type": "error",
     "traceback": [
      "\u001b[0;31m---------------------------------------------------------------------------\u001b[0m",
      "\u001b[0;31mTypeError\u001b[0m                                 Traceback (most recent call last)",
      "Cell \u001b[0;32mIn[137], line 2\u001b[0m\n\u001b[1;32m      1\u001b[0m pattern\u001b[38;5;241m=\u001b[39m\u001b[38;5;124mr\u001b[39m\u001b[38;5;124m\"\u001b[39m\u001b[38;5;124m^(172\u001b[39m\u001b[38;5;124m\\\u001b[39m\u001b[38;5;124m.16\u001b[39m\u001b[38;5;124m\\\u001b[39m\u001b[38;5;124m.(20|200|100)\u001b[39m\u001b[38;5;124m\\\u001b[39m\u001b[38;5;124m.(?:[1-9]|[1-9][0-9]|[1-2][0-4][0-9]|25[0-4]))$\u001b[39m\u001b[38;5;124m\"\u001b[39m\n\u001b[0;32m----> 2\u001b[0m \u001b[43mre\u001b[49m\u001b[38;5;241;43m.\u001b[39;49m\u001b[43mfindall\u001b[49m\u001b[43m(\u001b[49m\u001b[43mpattern\u001b[49m\u001b[43m,\u001b[49m\u001b[43mdf\u001b[49m\u001b[43m[\u001b[49m\u001b[38;5;124;43m'\u001b[39;49m\u001b[38;5;124;43msrc\u001b[39;49m\u001b[38;5;124;43m'\u001b[39;49m\u001b[43m]\u001b[49m\u001b[43m)\u001b[49m\n",
      "File \u001b[0;32m/usr/lib/python3.10/re.py:240\u001b[0m, in \u001b[0;36mfindall\u001b[0;34m(pattern, string, flags)\u001b[0m\n\u001b[1;32m    232\u001b[0m \u001b[38;5;28;01mdef\u001b[39;00m \u001b[38;5;21mfindall\u001b[39m(pattern, string, flags\u001b[38;5;241m=\u001b[39m\u001b[38;5;241m0\u001b[39m):\n\u001b[1;32m    233\u001b[0m \u001b[38;5;250m    \u001b[39m\u001b[38;5;124;03m\"\"\"Return a list of all non-overlapping matches in the string.\u001b[39;00m\n\u001b[1;32m    234\u001b[0m \n\u001b[1;32m    235\u001b[0m \u001b[38;5;124;03m    If one or more capturing groups are present in the pattern, return\u001b[39;00m\n\u001b[0;32m   (...)\u001b[0m\n\u001b[1;32m    238\u001b[0m \n\u001b[1;32m    239\u001b[0m \u001b[38;5;124;03m    Empty matches are included in the result.\"\"\"\u001b[39;00m\n\u001b[0;32m--> 240\u001b[0m     \u001b[38;5;28;01mreturn\u001b[39;00m \u001b[43m_compile\u001b[49m\u001b[43m(\u001b[49m\u001b[43mpattern\u001b[49m\u001b[43m,\u001b[49m\u001b[43m \u001b[49m\u001b[43mflags\u001b[49m\u001b[43m)\u001b[49m\u001b[38;5;241;43m.\u001b[39;49m\u001b[43mfindall\u001b[49m\u001b[43m(\u001b[49m\u001b[43mstring\u001b[49m\u001b[43m)\u001b[49m\n",
      "\u001b[0;31mTypeError\u001b[0m: expected string or bytes-like object"
     ]
    }
   ],
   "source": [
    "pattern=r\"^(172\\.16\\.(20|200|100)\\.(?:[1-9]|[1-9][0-9]|[1-2][0-4][0-9]|25[0-4]))$\"\n",
    "re.findall(pattern,df['src'])\n"
   ]
  },
  {
   "cell_type": "code",
   "execution_count": 162,
   "id": "3e4b7d85",
   "metadata": {},
   "outputs": [],
   "source": [
    "data=sqldf('''select * from df where src regexp \"^(192\\.168\\.(?:[0-4]|[679]|1(?:[0]|[6-9])|2(?:[01]|[34]|[7-9])|3[014]|40|60|11[13]|13[12]|145)\\.(?:[1-9]|[1-9][0-9]|[1-2][0-4][0-9]|25[0-4]))$\" ''')"
   ]
  },
  {
   "cell_type": "code",
   "execution_count": 163,
   "id": "1fb0931b",
   "metadata": {},
   "outputs": [
    {
     "data": {
      "text/html": [
       "<div>\n",
       "<style scoped>\n",
       "    .dataframe tbody tr th:only-of-type {\n",
       "        vertical-align: middle;\n",
       "    }\n",
       "\n",
       "    .dataframe tbody tr th {\n",
       "        vertical-align: top;\n",
       "    }\n",
       "\n",
       "    .dataframe thead th {\n",
       "        text-align: right;\n",
       "    }\n",
       "</style>\n",
       "<table border=\"1\" class=\"dataframe\">\n",
       "  <thead>\n",
       "    <tr style=\"text-align: right;\">\n",
       "      <th></th>\n",
       "      <th>Unnamed: 0</th>\n",
       "      <th>Category</th>\n",
       "      <th>CreatedOn</th>\n",
       "      <th>src</th>\n",
       "      <th>dst</th>\n",
       "    </tr>\n",
       "  </thead>\n",
       "  <tbody>\n",
       "    <tr>\n",
       "      <th>0</th>\n",
       "      <td>9</td>\n",
       "      <td>anonymizer_categor</td>\n",
       "      <td>2023-07-04 12:34:31</td>\n",
       "      <td>192.168.21.95</td>\n",
       "      <td>117.18.232.200</td>\n",
       "    </tr>\n",
       "    <tr>\n",
       "      <th>1</th>\n",
       "      <td>24</td>\n",
       "      <td>attack_categor</td>\n",
       "      <td>2023-07-04 12:34:31</td>\n",
       "      <td>192.168.6.2</td>\n",
       "      <td>184.26.161.66</td>\n",
       "    </tr>\n",
       "    <tr>\n",
       "      <th>2</th>\n",
       "      <td>36</td>\n",
       "      <td>anonymizer_categor</td>\n",
       "      <td>2023-07-04 12:34:31</td>\n",
       "      <td>192.168.30.99</td>\n",
       "      <td>52.113.195.132</td>\n",
       "    </tr>\n",
       "    <tr>\n",
       "      <th>3</th>\n",
       "      <td>89</td>\n",
       "      <td>anonymizer_categor</td>\n",
       "      <td>2023-07-04 12:34:31</td>\n",
       "      <td>192.168.30.138</td>\n",
       "      <td>52.113.195.132</td>\n",
       "    </tr>\n",
       "    <tr>\n",
       "      <th>4</th>\n",
       "      <td>95</td>\n",
       "      <td>anonymizer_categor</td>\n",
       "      <td>2023-07-04 12:34:31</td>\n",
       "      <td>192.168.30.99</td>\n",
       "      <td>52.113.195.132</td>\n",
       "    </tr>\n",
       "    <tr>\n",
       "      <th>5</th>\n",
       "      <td>124</td>\n",
       "      <td>attack_categor</td>\n",
       "      <td>2023-07-04 12:34:31</td>\n",
       "      <td>192.168.6.2</td>\n",
       "      <td>13.107.42.1</td>\n",
       "    </tr>\n",
       "    <tr>\n",
       "      <th>6</th>\n",
       "      <td>137</td>\n",
       "      <td>attack_categor</td>\n",
       "      <td>2023-07-04 12:34:31</td>\n",
       "      <td>192.168.6.2</td>\n",
       "      <td>13.107.42.1</td>\n",
       "    </tr>\n",
       "    <tr>\n",
       "      <th>7</th>\n",
       "      <td>138</td>\n",
       "      <td>attack_categor</td>\n",
       "      <td>2023-07-04 12:34:31</td>\n",
       "      <td>192.168.6.2</td>\n",
       "      <td>162.159.24.11</td>\n",
       "    </tr>\n",
       "    <tr>\n",
       "      <th>8</th>\n",
       "      <td>220</td>\n",
       "      <td>attack_categor</td>\n",
       "      <td>2023-07-04 12:34:31</td>\n",
       "      <td>192.168.6.2</td>\n",
       "      <td>217.13.106.203</td>\n",
       "    </tr>\n",
       "    <tr>\n",
       "      <th>9</th>\n",
       "      <td>226</td>\n",
       "      <td>attack_categor</td>\n",
       "      <td>2023-07-04 12:34:31</td>\n",
       "      <td>192.168.6.2</td>\n",
       "      <td>208.80.125.4</td>\n",
       "    </tr>\n",
       "    <tr>\n",
       "      <th>10</th>\n",
       "      <td>233</td>\n",
       "      <td>attack_categor</td>\n",
       "      <td>2023-07-04 12:34:31</td>\n",
       "      <td>192.168.6.2</td>\n",
       "      <td>208.80.125.4</td>\n",
       "    </tr>\n",
       "    <tr>\n",
       "      <th>11</th>\n",
       "      <td>248</td>\n",
       "      <td>anonymizer_categor</td>\n",
       "      <td>2023-07-04 12:34:31</td>\n",
       "      <td>192.168.6.2</td>\n",
       "      <td>217.13.106.203</td>\n",
       "    </tr>\n",
       "    <tr>\n",
       "      <th>12</th>\n",
       "      <td>262</td>\n",
       "      <td>attack_categor</td>\n",
       "      <td>2023-07-04 12:34:31</td>\n",
       "      <td>192.168.6.2</td>\n",
       "      <td>208.80.125.4</td>\n",
       "    </tr>\n",
       "    <tr>\n",
       "      <th>13</th>\n",
       "      <td>309</td>\n",
       "      <td>attack_categor</td>\n",
       "      <td>2023-07-04 12:34:31</td>\n",
       "      <td>192.168.6.2</td>\n",
       "      <td>208.80.125.4</td>\n",
       "    </tr>\n",
       "    <tr>\n",
       "      <th>14</th>\n",
       "      <td>327</td>\n",
       "      <td>attack_categor</td>\n",
       "      <td>2023-07-04 12:34:31</td>\n",
       "      <td>192.168.6.2</td>\n",
       "      <td>208.80.125.4</td>\n",
       "    </tr>\n",
       "  </tbody>\n",
       "</table>\n",
       "</div>"
      ],
      "text/plain": [
       "    Unnamed: 0            Category            CreatedOn             src  \\\n",
       "0            9  anonymizer_categor  2023-07-04 12:34:31   192.168.21.95   \n",
       "1           24      attack_categor  2023-07-04 12:34:31     192.168.6.2   \n",
       "2           36  anonymizer_categor  2023-07-04 12:34:31   192.168.30.99   \n",
       "3           89  anonymizer_categor  2023-07-04 12:34:31  192.168.30.138   \n",
       "4           95  anonymizer_categor  2023-07-04 12:34:31   192.168.30.99   \n",
       "5          124      attack_categor  2023-07-04 12:34:31     192.168.6.2   \n",
       "6          137      attack_categor  2023-07-04 12:34:31     192.168.6.2   \n",
       "7          138      attack_categor  2023-07-04 12:34:31     192.168.6.2   \n",
       "8          220      attack_categor  2023-07-04 12:34:31     192.168.6.2   \n",
       "9          226      attack_categor  2023-07-04 12:34:31     192.168.6.2   \n",
       "10         233      attack_categor  2023-07-04 12:34:31     192.168.6.2   \n",
       "11         248  anonymizer_categor  2023-07-04 12:34:31     192.168.6.2   \n",
       "12         262      attack_categor  2023-07-04 12:34:31     192.168.6.2   \n",
       "13         309      attack_categor  2023-07-04 12:34:31     192.168.6.2   \n",
       "14         327      attack_categor  2023-07-04 12:34:31     192.168.6.2   \n",
       "\n",
       "               dst  \n",
       "0   117.18.232.200  \n",
       "1    184.26.161.66  \n",
       "2   52.113.195.132  \n",
       "3   52.113.195.132  \n",
       "4   52.113.195.132  \n",
       "5      13.107.42.1  \n",
       "6      13.107.42.1  \n",
       "7    162.159.24.11  \n",
       "8   217.13.106.203  \n",
       "9     208.80.125.4  \n",
       "10    208.80.125.4  \n",
       "11  217.13.106.203  \n",
       "12    208.80.125.4  \n",
       "13    208.80.125.4  \n",
       "14    208.80.125.4  "
      ]
     },
     "execution_count": 163,
     "metadata": {},
     "output_type": "execute_result"
    }
   ],
   "source": [
    "data"
   ]
  },
  {
   "cell_type": "code",
   "execution_count": 160,
   "id": "ddf5f3b7",
   "metadata": {},
   "outputs": [],
   "source": [
    "pattern=\"^(192\\.168\\.(?:[0-4]|[679]|1(?:[0]|[6-9])|2(?:[01]|[34]|[7-9])|3[014]|40|60|11[13]|13[12]|145)\\.(?:[1-9]|[1-9][0-9]|[1-2][0-4][0-9]|25[0-4]))$\"\n",
    "text=df['src']"
   ]
  },
  {
   "cell_type": "code",
   "execution_count": 161,
   "id": "41a3bdde",
   "metadata": {},
   "outputs": [
    {
     "ename": "TypeError",
     "evalue": "expected string or bytes-like object",
     "output_type": "error",
     "traceback": [
      "\u001b[0;31m---------------------------------------------------------------------------\u001b[0m",
      "\u001b[0;31mTypeError\u001b[0m                                 Traceback (most recent call last)",
      "Cell \u001b[0;32mIn[161], line 1\u001b[0m\n\u001b[0;32m----> 1\u001b[0m \u001b[43mre\u001b[49m\u001b[38;5;241;43m.\u001b[39;49m\u001b[43mfindall\u001b[49m\u001b[43m(\u001b[49m\u001b[43mpattern\u001b[49m\u001b[43m,\u001b[49m\u001b[43mtext\u001b[49m\u001b[43m)\u001b[49m\n",
      "File \u001b[0;32m/usr/lib/python3.10/re.py:240\u001b[0m, in \u001b[0;36mfindall\u001b[0;34m(pattern, string, flags)\u001b[0m\n\u001b[1;32m    232\u001b[0m \u001b[38;5;28;01mdef\u001b[39;00m \u001b[38;5;21mfindall\u001b[39m(pattern, string, flags\u001b[38;5;241m=\u001b[39m\u001b[38;5;241m0\u001b[39m):\n\u001b[1;32m    233\u001b[0m \u001b[38;5;250m    \u001b[39m\u001b[38;5;124;03m\"\"\"Return a list of all non-overlapping matches in the string.\u001b[39;00m\n\u001b[1;32m    234\u001b[0m \n\u001b[1;32m    235\u001b[0m \u001b[38;5;124;03m    If one or more capturing groups are present in the pattern, return\u001b[39;00m\n\u001b[0;32m   (...)\u001b[0m\n\u001b[1;32m    238\u001b[0m \n\u001b[1;32m    239\u001b[0m \u001b[38;5;124;03m    Empty matches are included in the result.\"\"\"\u001b[39;00m\n\u001b[0;32m--> 240\u001b[0m     \u001b[38;5;28;01mreturn\u001b[39;00m \u001b[43m_compile\u001b[49m\u001b[43m(\u001b[49m\u001b[43mpattern\u001b[49m\u001b[43m,\u001b[49m\u001b[43m \u001b[49m\u001b[43mflags\u001b[49m\u001b[43m)\u001b[49m\u001b[38;5;241;43m.\u001b[39;49m\u001b[43mfindall\u001b[49m\u001b[43m(\u001b[49m\u001b[43mstring\u001b[49m\u001b[43m)\u001b[49m\n",
      "\u001b[0;31mTypeError\u001b[0m: expected string or bytes-like object"
     ]
    }
   ],
   "source": [
    "re.findall(pattern,text)"
   ]
  },
  {
   "cell_type": "code",
   "execution_count": 164,
   "id": "55475a4c",
   "metadata": {},
   "outputs": [],
   "source": [
    "pattern='''^(192\\.168\\.(?:[0-4]|[679]|1(?:[0]|[6-9])|2(?:[01]|[34]|[7-9])|3[014]|40|60|11[13]|13[12]|145)\\.(?:[1-9]|[1-9][0-9]|[1-2][0-4][0-9]|25[0-4]))$'''\n"
   ]
  },
  {
   "cell_type": "code",
   "execution_count": null,
   "id": "a942a4c7",
   "metadata": {},
   "outputs": [],
   "source": [
    "print (\"After applying \", regex, \" DataFrame is:\\n\", df[df.name.str.match(regex)])"
   ]
  },
  {
   "cell_type": "code",
   "execution_count": 165,
   "id": "df6e5fd5",
   "metadata": {},
   "outputs": [
    {
     "name": "stdout",
     "output_type": "stream",
     "text": [
      "     Unnamed: 0            Category            CreatedOn             src  \\\n",
      "9             9  anonymizer_categor  2023-07-04 12:34:31   192.168.21.95   \n",
      "24           24      attack_categor  2023-07-04 12:34:31     192.168.6.2   \n",
      "36           36  anonymizer_categor  2023-07-04 12:34:31   192.168.30.99   \n",
      "89           89  anonymizer_categor  2023-07-04 12:34:31  192.168.30.138   \n",
      "95           95  anonymizer_categor  2023-07-04 12:34:31   192.168.30.99   \n",
      "124         124      attack_categor  2023-07-04 12:34:31     192.168.6.2   \n",
      "137         137      attack_categor  2023-07-04 12:34:31     192.168.6.2   \n",
      "138         138      attack_categor  2023-07-04 12:34:31     192.168.6.2   \n",
      "220         220      attack_categor  2023-07-04 12:34:31     192.168.6.2   \n",
      "226         226      attack_categor  2023-07-04 12:34:31     192.168.6.2   \n",
      "233         233      attack_categor  2023-07-04 12:34:31     192.168.6.2   \n",
      "248         248  anonymizer_categor  2023-07-04 12:34:31     192.168.6.2   \n",
      "262         262      attack_categor  2023-07-04 12:34:31     192.168.6.2   \n",
      "309         309      attack_categor  2023-07-04 12:34:31     192.168.6.2   \n",
      "327         327      attack_categor  2023-07-04 12:34:31     192.168.6.2   \n",
      "\n",
      "                dst  \n",
      "9    117.18.232.200  \n",
      "24    184.26.161.66  \n",
      "36   52.113.195.132  \n",
      "89   52.113.195.132  \n",
      "95   52.113.195.132  \n",
      "124     13.107.42.1  \n",
      "137     13.107.42.1  \n",
      "138   162.159.24.11  \n",
      "220  217.13.106.203  \n",
      "226    208.80.125.4  \n",
      "233    208.80.125.4  \n",
      "248  217.13.106.203  \n",
      "262    208.80.125.4  \n",
      "309    208.80.125.4  \n",
      "327    208.80.125.4  \n"
     ]
    }
   ],
   "source": [
    "print(df[df.src.str.match(pattern)])"
   ]
  },
  {
   "cell_type": "code",
   "execution_count": 166,
   "id": "f393fbab",
   "metadata": {},
   "outputs": [
    {
     "data": {
      "text/html": [
       "<div>\n",
       "<style scoped>\n",
       "    .dataframe tbody tr th:only-of-type {\n",
       "        vertical-align: middle;\n",
       "    }\n",
       "\n",
       "    .dataframe tbody tr th {\n",
       "        vertical-align: top;\n",
       "    }\n",
       "\n",
       "    .dataframe thead th {\n",
       "        text-align: right;\n",
       "    }\n",
       "</style>\n",
       "<table border=\"1\" class=\"dataframe\">\n",
       "  <thead>\n",
       "    <tr style=\"text-align: right;\">\n",
       "      <th></th>\n",
       "      <th>Unnamed: 0</th>\n",
       "      <th>Category</th>\n",
       "      <th>CreatedOn</th>\n",
       "      <th>src</th>\n",
       "      <th>dst</th>\n",
       "    </tr>\n",
       "  </thead>\n",
       "  <tbody>\n",
       "    <tr>\n",
       "      <th>0</th>\n",
       "      <td>0</td>\n",
       "      <td>abuse_categor</td>\n",
       "      <td>2023-07-04 12:34:31</td>\n",
       "      <td>45.112.178.18</td>\n",
       "      <td>14.99.224.214</td>\n",
       "    </tr>\n",
       "    <tr>\n",
       "      <th>1</th>\n",
       "      <td>1</td>\n",
       "      <td>anonymizer_categor</td>\n",
       "      <td>2023-07-04 12:34:31</td>\n",
       "      <td>192.168.5.51</td>\n",
       "      <td>52.113.195.132</td>\n",
       "    </tr>\n",
       "    <tr>\n",
       "      <th>2</th>\n",
       "      <td>2</td>\n",
       "      <td>abuse_categor</td>\n",
       "      <td>2023-07-04 12:34:31</td>\n",
       "      <td>45.112.178.18</td>\n",
       "      <td>14.99.224.214</td>\n",
       "    </tr>\n",
       "    <tr>\n",
       "      <th>3</th>\n",
       "      <td>3</td>\n",
       "      <td>abuse_categor</td>\n",
       "      <td>2023-07-04 12:34:31</td>\n",
       "      <td>45.112.178.18</td>\n",
       "      <td>14.99.224.214</td>\n",
       "    </tr>\n",
       "    <tr>\n",
       "      <th>4</th>\n",
       "      <td>4</td>\n",
       "      <td>abuse_categor</td>\n",
       "      <td>2023-07-04 12:34:31</td>\n",
       "      <td>45.112.178.18</td>\n",
       "      <td>14.99.224.214</td>\n",
       "    </tr>\n",
       "    <tr>\n",
       "      <th>...</th>\n",
       "      <td>...</td>\n",
       "      <td>...</td>\n",
       "      <td>...</td>\n",
       "      <td>...</td>\n",
       "      <td>...</td>\n",
       "    </tr>\n",
       "    <tr>\n",
       "      <th>395</th>\n",
       "      <td>395</td>\n",
       "      <td>attack_categor</td>\n",
       "      <td>2023-07-04 12:34:31</td>\n",
       "      <td>192.168.8.54</td>\n",
       "      <td>13.107.42.13</td>\n",
       "    </tr>\n",
       "    <tr>\n",
       "      <th>396</th>\n",
       "      <td>396</td>\n",
       "      <td>abuse_categor</td>\n",
       "      <td>2023-07-04 12:34:31</td>\n",
       "      <td>202.173.125.252</td>\n",
       "      <td>14.99.224.214</td>\n",
       "    </tr>\n",
       "    <tr>\n",
       "      <th>397</th>\n",
       "      <td>397</td>\n",
       "      <td>abuse_categor</td>\n",
       "      <td>2023-07-04 12:34:31</td>\n",
       "      <td>202.173.125.252</td>\n",
       "      <td>14.99.224.214</td>\n",
       "    </tr>\n",
       "    <tr>\n",
       "      <th>398</th>\n",
       "      <td>398</td>\n",
       "      <td>abuse_categor</td>\n",
       "      <td>2023-07-04 12:34:31</td>\n",
       "      <td>202.173.125.252</td>\n",
       "      <td>14.99.224.214</td>\n",
       "    </tr>\n",
       "    <tr>\n",
       "      <th>399</th>\n",
       "      <td>399</td>\n",
       "      <td>abuse_categor</td>\n",
       "      <td>2023-07-04 12:34:31</td>\n",
       "      <td>202.173.125.252</td>\n",
       "      <td>14.99.224.214</td>\n",
       "    </tr>\n",
       "  </tbody>\n",
       "</table>\n",
       "<p>400 rows × 5 columns</p>\n",
       "</div>"
      ],
      "text/plain": [
       "     Unnamed: 0            Category            CreatedOn              src  \\\n",
       "0             0       abuse_categor  2023-07-04 12:34:31    45.112.178.18   \n",
       "1             1  anonymizer_categor  2023-07-04 12:34:31     192.168.5.51   \n",
       "2             2       abuse_categor  2023-07-04 12:34:31    45.112.178.18   \n",
       "3             3       abuse_categor  2023-07-04 12:34:31    45.112.178.18   \n",
       "4             4       abuse_categor  2023-07-04 12:34:31    45.112.178.18   \n",
       "..          ...                 ...                  ...              ...   \n",
       "395         395      attack_categor  2023-07-04 12:34:31     192.168.8.54   \n",
       "396         396       abuse_categor  2023-07-04 12:34:31  202.173.125.252   \n",
       "397         397       abuse_categor  2023-07-04 12:34:31  202.173.125.252   \n",
       "398         398       abuse_categor  2023-07-04 12:34:31  202.173.125.252   \n",
       "399         399       abuse_categor  2023-07-04 12:34:31  202.173.125.252   \n",
       "\n",
       "                dst  \n",
       "0     14.99.224.214  \n",
       "1    52.113.195.132  \n",
       "2     14.99.224.214  \n",
       "3     14.99.224.214  \n",
       "4     14.99.224.214  \n",
       "..              ...  \n",
       "395    13.107.42.13  \n",
       "396   14.99.224.214  \n",
       "397   14.99.224.214  \n",
       "398   14.99.224.214  \n",
       "399   14.99.224.214  \n",
       "\n",
       "[400 rows x 5 columns]"
      ]
     },
     "execution_count": 166,
     "metadata": {},
     "output_type": "execute_result"
    }
   ],
   "source": [
    "df"
   ]
  },
  {
   "cell_type": "code",
   "execution_count": 1,
   "id": "8f9afa78",
   "metadata": {},
   "outputs": [],
   "source": [
    "pattern='''^(192\\.168\\.(?:[0-4]|[679]|1(?:[0]|[6-9])|2(?:[01]|[34]|[7-9])|3[014]|40|60|11[13]|13[12]|145)\\.(?:[1-9]|[1-9][0-9]|[1-2][0-4][0-9]|25[0-4]))$'''\n"
   ]
  },
  {
   "cell_type": "code",
   "execution_count": null,
   "id": "27fdaaa8",
   "metadata": {},
   "outputs": [],
   "source": []
  }
 ],
 "metadata": {
  "kernelspec": {
   "display_name": "Python 3 (ipykernel)",
   "language": "python",
   "name": "python3"
  },
  "language_info": {
   "codemirror_mode": {
    "name": "ipython",
    "version": 3
   },
   "file_extension": ".py",
   "mimetype": "text/x-python",
   "name": "python",
   "nbconvert_exporter": "python",
   "pygments_lexer": "ipython3",
   "version": "3.9.12"
  }
 },
 "nbformat": 4,
 "nbformat_minor": 5
}
