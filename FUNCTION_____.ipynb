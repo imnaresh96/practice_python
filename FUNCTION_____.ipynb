{
 "cells": [
  {
   "cell_type": "markdown",
   "id": "18e54c06",
   "metadata": {},
   "source": [
    "### simple function non returning"
   ]
  },
  {
   "cell_type": "code",
   "execution_count": 5,
   "id": "2df2a027",
   "metadata": {},
   "outputs": [],
   "source": [
    "\n",
    "def hello():\n",
    "    print(\"hello This is Demo\")"
   ]
  },
  {
   "cell_type": "code",
   "execution_count": 6,
   "id": "675f55d3",
   "metadata": {},
   "outputs": [
    {
     "name": "stdout",
     "output_type": "stream",
     "text": [
      "hello This is Demo\n"
     ]
    }
   ],
   "source": [
    "hello()"
   ]
  },
  {
   "cell_type": "code",
   "execution_count": 7,
   "id": "55e82350",
   "metadata": {},
   "outputs": [
    {
     "name": "stdout",
     "output_type": "stream",
     "text": [
      "hello This is Demo\n"
     ]
    }
   ],
   "source": [
    "k=hello()"
   ]
  },
  {
   "cell_type": "code",
   "execution_count": 8,
   "id": "b2532d2a",
   "metadata": {},
   "outputs": [],
   "source": [
    "k"
   ]
  },
  {
   "cell_type": "markdown",
   "id": "241c4048",
   "metadata": {},
   "source": [
    "### returning function\n"
   ]
  },
  {
   "cell_type": "code",
   "execution_count": 10,
   "id": "390f5a30",
   "metadata": {},
   "outputs": [],
   "source": [
    "def das():\n",
    "    return 'hello this is demo'"
   ]
  },
  {
   "cell_type": "code",
   "execution_count": 11,
   "id": "a37bbf65",
   "metadata": {},
   "outputs": [
    {
     "data": {
      "text/plain": [
       "'hello this is demo'"
      ]
     },
     "execution_count": 11,
     "metadata": {},
     "output_type": "execute_result"
    }
   ],
   "source": [
    "das()"
   ]
  },
  {
   "cell_type": "code",
   "execution_count": 12,
   "id": "da83b79a",
   "metadata": {},
   "outputs": [],
   "source": [
    "l=das()"
   ]
  },
  {
   "cell_type": "code",
   "execution_count": 13,
   "id": "0a704867",
   "metadata": {},
   "outputs": [
    {
     "data": {
      "text/plain": [
       "'hello this is demo'"
      ]
     },
     "execution_count": 13,
     "metadata": {},
     "output_type": "execute_result"
    }
   ],
   "source": [
    "l"
   ]
  },
  {
   "cell_type": "code",
   "execution_count": 14,
   "id": "d2f262e1",
   "metadata": {},
   "outputs": [
    {
     "data": {
      "text/plain": [
       "str"
      ]
     },
     "execution_count": 14,
     "metadata": {},
     "output_type": "execute_result"
    }
   ],
   "source": [
    "type(l)"
   ]
  },
  {
   "cell_type": "code",
   "execution_count": 15,
   "id": "aded8628",
   "metadata": {},
   "outputs": [
    {
     "data": {
      "text/plain": [
       "str"
      ]
     },
     "execution_count": 15,
     "metadata": {},
     "output_type": "execute_result"
    }
   ],
   "source": [
    "type(das())"
   ]
  },
  {
   "cell_type": "code",
   "execution_count": 16,
   "id": "dba4a183",
   "metadata": {},
   "outputs": [
    {
     "data": {
      "text/plain": [
       "function"
      ]
     },
     "execution_count": 16,
     "metadata": {},
     "output_type": "execute_result"
    }
   ],
   "source": [
    "type(das)"
   ]
  },
  {
   "cell_type": "markdown",
   "id": "3eac2313",
   "metadata": {},
   "source": [
    "### function argument"
   ]
  },
  {
   "cell_type": "code",
   "execution_count": 18,
   "id": "b1ed3819",
   "metadata": {},
   "outputs": [],
   "source": [
    "def data(name):\n",
    "    return f\"Hello {name}\""
   ]
  },
  {
   "cell_type": "code",
   "execution_count": 20,
   "id": "ee49e2f9",
   "metadata": {},
   "outputs": [
    {
     "data": {
      "text/plain": [
       "'Hello jay'"
      ]
     },
     "execution_count": 20,
     "metadata": {},
     "output_type": "execute_result"
    }
   ],
   "source": [
    "data('jay')"
   ]
  },
  {
   "cell_type": "code",
   "execution_count": 21,
   "id": "1dc0250a",
   "metadata": {},
   "outputs": [
    {
     "data": {
      "text/plain": [
       "'Hello 85'"
      ]
     },
     "execution_count": 21,
     "metadata": {},
     "output_type": "execute_result"
    }
   ],
   "source": [
    "data('85')"
   ]
  },
  {
   "cell_type": "code",
   "execution_count": 22,
   "id": "1c141847",
   "metadata": {},
   "outputs": [
    {
     "data": {
      "text/plain": [
       "'Hello jay,Nishad'"
      ]
     },
     "execution_count": 22,
     "metadata": {},
     "output_type": "execute_result"
    }
   ],
   "source": [
    "data('jay,Nishad')"
   ]
  },
  {
   "cell_type": "code",
   "execution_count": 23,
   "id": "cc5147bf",
   "metadata": {},
   "outputs": [
    {
     "ename": "TypeError",
     "evalue": "data() takes 1 positional argument but 2 were given",
     "output_type": "error",
     "traceback": [
      "\u001b[1;31m---------------------------------------------------------------------------\u001b[0m",
      "\u001b[1;31mTypeError\u001b[0m                                 Traceback (most recent call last)",
      "Input \u001b[1;32mIn [23]\u001b[0m, in \u001b[0;36m<cell line: 1>\u001b[1;34m()\u001b[0m\n\u001b[1;32m----> 1\u001b[0m \u001b[43mdata\u001b[49m\u001b[43m(\u001b[49m\u001b[38;5;124;43m'\u001b[39;49m\u001b[38;5;124;43mjay\u001b[39;49m\u001b[38;5;124;43m'\u001b[39;49m\u001b[43m,\u001b[49m\u001b[38;5;124;43m'\u001b[39;49m\u001b[38;5;124;43mnishad\u001b[39;49m\u001b[38;5;124;43m'\u001b[39;49m\u001b[43m)\u001b[49m\n",
      "\u001b[1;31mTypeError\u001b[0m: data() takes 1 positional argument but 2 were given"
     ]
    }
   ],
   "source": [
    "data('jay','nishad')"
   ]
  },
  {
   "cell_type": "code",
   "execution_count": 24,
   "id": "62c8f321",
   "metadata": {},
   "outputs": [],
   "source": [
    "def add(a,b):\n",
    "    return a+b"
   ]
  },
  {
   "cell_type": "code",
   "execution_count": 25,
   "id": "e35e8b49",
   "metadata": {},
   "outputs": [
    {
     "data": {
      "text/plain": [
       "182189122378"
      ]
     },
     "execution_count": 25,
     "metadata": {},
     "output_type": "execute_result"
    }
   ],
   "source": [
    "add(85647856955,96541265423)"
   ]
  },
  {
   "cell_type": "code",
   "execution_count": 27,
   "id": "6476f84d",
   "metadata": {},
   "outputs": [
    {
     "data": {
      "text/plain": [
       "14"
      ]
     },
     "execution_count": 27,
     "metadata": {},
     "output_type": "execute_result"
    }
   ],
   "source": [
    "add(8,6)"
   ]
  },
  {
   "cell_type": "markdown",
   "id": "91e1d7de",
   "metadata": {},
   "source": [
    "### positional argument"
   ]
  },
  {
   "cell_type": "code",
   "execution_count": 30,
   "id": "2feaa8eb",
   "metadata": {},
   "outputs": [],
   "source": [
    "def bio(name,address,mobile):\n",
    "    return f\"Hello {name} ! You are from {address} & your Contact number is {mobile}\""
   ]
  },
  {
   "cell_type": "code",
   "execution_count": 31,
   "id": "2c55e724",
   "metadata": {},
   "outputs": [
    {
     "data": {
      "text/plain": [
       "'Hello naresh ! You are from rani & your Contact number is 80858554'"
      ]
     },
     "execution_count": 31,
     "metadata": {},
     "output_type": "execute_result"
    }
   ],
   "source": [
    "bio('naresh','rani','80858554')"
   ]
  },
  {
   "cell_type": "code",
   "execution_count": 32,
   "id": "4f073397",
   "metadata": {},
   "outputs": [
    {
     "data": {
      "text/plain": [
       "'Hello 84685 ! You are from naresh & your Contact number is pali'"
      ]
     },
     "execution_count": 32,
     "metadata": {},
     "output_type": "execute_result"
    }
   ],
   "source": [
    "bio('84685','naresh','pali')"
   ]
  },
  {
   "cell_type": "markdown",
   "id": "af67e0d6",
   "metadata": {},
   "source": [
    "### keyword argument"
   ]
  },
  {
   "cell_type": "code",
   "execution_count": 34,
   "id": "8baaa6ac",
   "metadata": {},
   "outputs": [],
   "source": [
    "def bio(name,address,number):\n",
    "    return f\"{name},{address},{number}\""
   ]
  },
  {
   "cell_type": "code",
   "execution_count": 35,
   "id": "12437e14",
   "metadata": {},
   "outputs": [
    {
     "data": {
      "text/plain": [
       "'naresh,Pali,8058956268'"
      ]
     },
     "execution_count": 35,
     "metadata": {},
     "output_type": "execute_result"
    }
   ],
   "source": [
    "bio(name='naresh',number='8058956268',address='Pali')"
   ]
  },
  {
   "cell_type": "code",
   "execution_count": 36,
   "id": "0cd0c00f",
   "metadata": {},
   "outputs": [
    {
     "data": {
      "text/plain": [
       "'naresh,80589566555,pali'"
      ]
     },
     "execution_count": 36,
     "metadata": {},
     "output_type": "execute_result"
    }
   ],
   "source": [
    "bio('naresh','80589566555','pali')"
   ]
  },
  {
   "cell_type": "code",
   "execution_count": 37,
   "id": "fbc82987",
   "metadata": {},
   "outputs": [
    {
     "data": {
      "text/plain": [
       "'naresh,pali,8058652325'"
      ]
     },
     "execution_count": 37,
     "metadata": {},
     "output_type": "execute_result"
    }
   ],
   "source": [
    "bio('naresh','pali','8058652325')"
   ]
  },
  {
   "cell_type": "markdown",
   "id": "6d068d86",
   "metadata": {},
   "source": [
    "### default argument"
   ]
  },
  {
   "cell_type": "code",
   "execution_count": 38,
   "id": "16f5c240",
   "metadata": {},
   "outputs": [],
   "source": [
    "def multiply(a=5,b=9):\n",
    "    return a*b"
   ]
  },
  {
   "cell_type": "code",
   "execution_count": 39,
   "id": "cf5debbe",
   "metadata": {},
   "outputs": [
    {
     "data": {
      "text/plain": [
       "72"
      ]
     },
     "execution_count": 39,
     "metadata": {},
     "output_type": "execute_result"
    }
   ],
   "source": [
    "multiply(9,8)"
   ]
  },
  {
   "cell_type": "code",
   "execution_count": 40,
   "id": "9e785362",
   "metadata": {},
   "outputs": [
    {
     "data": {
      "text/plain": [
       "45"
      ]
     },
     "execution_count": 40,
     "metadata": {},
     "output_type": "execute_result"
    }
   ],
   "source": [
    "multiply(5)"
   ]
  },
  {
   "cell_type": "code",
   "execution_count": 41,
   "id": "bf4eb133",
   "metadata": {},
   "outputs": [
    {
     "data": {
      "text/plain": [
       "25"
      ]
     },
     "execution_count": 41,
     "metadata": {},
     "output_type": "execute_result"
    }
   ],
   "source": [
    "multiply(b=5)"
   ]
  },
  {
   "cell_type": "code",
   "execution_count": 42,
   "id": "c2941573",
   "metadata": {},
   "outputs": [
    {
     "data": {
      "text/plain": [
       "12"
      ]
     },
     "execution_count": 42,
     "metadata": {},
     "output_type": "execute_result"
    }
   ],
   "source": [
    "multiply(3,4)"
   ]
  },
  {
   "cell_type": "markdown",
   "id": "c449780a",
   "metadata": {},
   "source": [
    "### arbitrary argument "
   ]
  },
  {
   "cell_type": "code",
   "execution_count": 43,
   "id": "6e4be74b",
   "metadata": {},
   "outputs": [],
   "source": [
    "def add(*number):\n",
    "    a=0\n",
    "    for i in number:\n",
    "        a+=i\n",
    "    return a"
   ]
  },
  {
   "cell_type": "code",
   "execution_count": 44,
   "id": "bb91cfda",
   "metadata": {},
   "outputs": [
    {
     "data": {
      "text/plain": [
       "56"
      ]
     },
     "execution_count": 44,
     "metadata": {},
     "output_type": "execute_result"
    }
   ],
   "source": [
    "add(5,4,6,9,8,5,4,7,8)"
   ]
  },
  {
   "cell_type": "code",
   "execution_count": 45,
   "id": "e26287a9",
   "metadata": {},
   "outputs": [
    {
     "data": {
      "text/plain": [
       "13"
      ]
     },
     "execution_count": 45,
     "metadata": {},
     "output_type": "execute_result"
    }
   ],
   "source": [
    "add(8,5)"
   ]
  },
  {
   "cell_type": "code",
   "execution_count": 46,
   "id": "64af2181",
   "metadata": {},
   "outputs": [
    {
     "data": {
      "text/plain": [
       "9"
      ]
     },
     "execution_count": 46,
     "metadata": {},
     "output_type": "execute_result"
    }
   ],
   "source": [
    "add(5,4)"
   ]
  },
  {
   "cell_type": "markdown",
   "id": "ea5011da",
   "metadata": {},
   "source": [
    "### arbitrary kwd argument"
   ]
  },
  {
   "cell_type": "code",
   "execution_count": 47,
   "id": "ed372d44",
   "metadata": {},
   "outputs": [],
   "source": [
    "def info(**data):\n",
    "    return data"
   ]
  },
  {
   "cell_type": "code",
   "execution_count": 48,
   "id": "9c60258b",
   "metadata": {},
   "outputs": [
    {
     "data": {
      "text/plain": [
       "{'name': 'naresh', 'place': 'Rani'}"
      ]
     },
     "execution_count": 48,
     "metadata": {},
     "output_type": "execute_result"
    }
   ],
   "source": [
    "info(name='naresh',place='Rani')"
   ]
  },
  {
   "cell_type": "code",
   "execution_count": 51,
   "id": "b7da8821",
   "metadata": {},
   "outputs": [
    {
     "data": {
      "text/plain": [
       "{'name': 'jay'}"
      ]
     },
     "execution_count": 51,
     "metadata": {},
     "output_type": "execute_result"
    }
   ],
   "source": [
    "info(name='jay')"
   ]
  },
  {
   "cell_type": "code",
   "execution_count": 15,
   "id": "54eeb880",
   "metadata": {},
   "outputs": [
    {
     "name": "stdout",
     "output_type": "stream",
     "text": [
      "Enter something here: dfdf\n",
      "dfdf\n"
     ]
    }
   ],
   "source": [
    "d=str(input(\"Enter something here: \"))\n",
    "print(d)\n",
    "# type(d)"
   ]
  },
  {
   "cell_type": "code",
   "execution_count": 3,
   "id": "9272d87f",
   "metadata": {},
   "outputs": [
    {
     "data": {
      "text/plain": [
       "str"
      ]
     },
     "execution_count": 3,
     "metadata": {},
     "output_type": "execute_result"
    }
   ],
   "source": []
  },
  {
   "cell_type": "code",
   "execution_count": null,
   "id": "78f7d95a",
   "metadata": {},
   "outputs": [],
   "source": []
  }
 ],
 "metadata": {
  "kernelspec": {
   "display_name": "Python 3 (ipykernel)",
   "language": "python",
   "name": "python3"
  },
  "language_info": {
   "codemirror_mode": {
    "name": "ipython",
    "version": 3
   },
   "file_extension": ".py",
   "mimetype": "text/x-python",
   "name": "python",
   "nbconvert_exporter": "python",
   "pygments_lexer": "ipython3",
   "version": "3.9.12"
  }
 },
 "nbformat": 4,
 "nbformat_minor": 5
}
