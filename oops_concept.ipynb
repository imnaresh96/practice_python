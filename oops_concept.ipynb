{
 "cells": [
  {
   "cell_type": "code",
   "execution_count": 1,
   "id": "136d5246",
   "metadata": {},
   "outputs": [],
   "source": [
    "class Hello:\n",
    "    name='hello'"
   ]
  },
  {
   "cell_type": "code",
   "execution_count": 2,
   "id": "643cf70d",
   "metadata": {},
   "outputs": [],
   "source": [
    "o=Hello()"
   ]
  },
  {
   "cell_type": "code",
   "execution_count": 3,
   "id": "dede4d26",
   "metadata": {},
   "outputs": [
    {
     "data": {
      "text/plain": [
       "<__main__.Hello at 0x21e9e405610>"
      ]
     },
     "execution_count": 3,
     "metadata": {},
     "output_type": "execute_result"
    }
   ],
   "source": [
    "o"
   ]
  },
  {
   "cell_type": "code",
   "execution_count": 4,
   "id": "907a75be",
   "metadata": {},
   "outputs": [
    {
     "data": {
      "text/plain": [
       "__main__.Hello"
      ]
     },
     "execution_count": 4,
     "metadata": {},
     "output_type": "execute_result"
    }
   ],
   "source": [
    "type(o)"
   ]
  },
  {
   "cell_type": "code",
   "execution_count": 5,
   "id": "357d2fee",
   "metadata": {},
   "outputs": [
    {
     "name": "stdout",
     "output_type": "stream",
     "text": [
      "['__class__', '__delattr__', '__dict__', '__dir__', '__doc__', '__eq__', '__format__', '__ge__', '__getattribute__', '__gt__', '__hash__', '__init__', '__init_subclass__', '__le__', '__lt__', '__module__', '__ne__', '__new__', '__reduce__', '__reduce_ex__', '__repr__', '__setattr__', '__sizeof__', '__str__', '__subclasshook__', '__weakref__', 'name']\n"
     ]
    }
   ],
   "source": [
    "print(dir(o))"
   ]
  },
  {
   "cell_type": "code",
   "execution_count": 8,
   "id": "ba2ce821",
   "metadata": {},
   "outputs": [
    {
     "ename": "AttributeError",
     "evalue": "'Hello' object has no attribute '__main__'",
     "output_type": "error",
     "traceback": [
      "\u001b[1;31m---------------------------------------------------------------------------\u001b[0m",
      "\u001b[1;31mAttributeError\u001b[0m                            Traceback (most recent call last)",
      "Input \u001b[1;32mIn [8]\u001b[0m, in \u001b[0;36m<cell line: 1>\u001b[1;34m()\u001b[0m\n\u001b[1;32m----> 1\u001b[0m \u001b[43mo\u001b[49m\u001b[38;5;241;43m.\u001b[39;49m\u001b[43m__main__\u001b[49m\n",
      "\u001b[1;31mAttributeError\u001b[0m: 'Hello' object has no attribute '__main__'"
     ]
    }
   ],
   "source": [
    "o.__main__"
   ]
  },
  {
   "cell_type": "code",
   "execution_count": 9,
   "id": "dc046f41",
   "metadata": {},
   "outputs": [
    {
     "data": {
      "text/plain": [
       "'hello'"
      ]
     },
     "execution_count": 9,
     "metadata": {},
     "output_type": "execute_result"
    }
   ],
   "source": [
    "o.name"
   ]
  },
  {
   "cell_type": "code",
   "execution_count": 17,
   "id": "eab37ad0",
   "metadata": {},
   "outputs": [],
   "source": [
    "o.name='Naresh'"
   ]
  },
  {
   "cell_type": "code",
   "execution_count": 11,
   "id": "f249e1e1",
   "metadata": {},
   "outputs": [
    {
     "data": {
      "text/plain": [
       "<__main__.Hello at 0x21e9e405610>"
      ]
     },
     "execution_count": 11,
     "metadata": {},
     "output_type": "execute_result"
    }
   ],
   "source": [
    "o"
   ]
  },
  {
   "cell_type": "code",
   "execution_count": 12,
   "id": "028c0b0d",
   "metadata": {},
   "outputs": [
    {
     "data": {
      "text/plain": [
       "'Naresh'"
      ]
     },
     "execution_count": 12,
     "metadata": {},
     "output_type": "execute_result"
    }
   ],
   "source": [
    "o.name"
   ]
  },
  {
   "cell_type": "code",
   "execution_count": 15,
   "id": "d3e0c540",
   "metadata": {},
   "outputs": [],
   "source": [
    "o.city='Rani'"
   ]
  },
  {
   "cell_type": "code",
   "execution_count": 18,
   "id": "bda05e6f",
   "metadata": {},
   "outputs": [
    {
     "data": {
      "text/plain": [
       "'Naresh'"
      ]
     },
     "execution_count": 18,
     "metadata": {},
     "output_type": "execute_result"
    }
   ],
   "source": [
    "o.name"
   ]
  },
  {
   "cell_type": "code",
   "execution_count": 19,
   "id": "e71e85a3",
   "metadata": {},
   "outputs": [
    {
     "data": {
      "text/plain": [
       "'Rani'"
      ]
     },
     "execution_count": 19,
     "metadata": {},
     "output_type": "execute_result"
    }
   ],
   "source": [
    "o.city"
   ]
  },
  {
   "cell_type": "code",
   "execution_count": 20,
   "id": "22e1e42e",
   "metadata": {},
   "outputs": [
    {
     "data": {
      "text/plain": [
       "{'name': 'Naresh', 'city': 'Rani'}"
      ]
     },
     "execution_count": 20,
     "metadata": {},
     "output_type": "execute_result"
    }
   ],
   "source": [
    "o.__dict__"
   ]
  },
  {
   "cell_type": "code",
   "execution_count": 21,
   "id": "e823ae0c",
   "metadata": {},
   "outputs": [],
   "source": [
    "# class method"
   ]
  },
  {
   "cell_type": "code",
   "execution_count": 22,
   "id": "4b0d974c",
   "metadata": {},
   "outputs": [],
   "source": [
    "class Hello:\n",
    "    name='hello'\n",
    "\n",
    "    def hello_method(self):\n",
    "        print(f'this is class method {self.name}')"
   ]
  },
  {
   "cell_type": "code",
   "execution_count": 23,
   "id": "ff4fa22b",
   "metadata": {},
   "outputs": [],
   "source": [
    "b=Hello()"
   ]
  },
  {
   "cell_type": "code",
   "execution_count": 24,
   "id": "0c1d3d2a",
   "metadata": {},
   "outputs": [
    {
     "data": {
      "text/plain": [
       "'hello'"
      ]
     },
     "execution_count": 24,
     "metadata": {},
     "output_type": "execute_result"
    }
   ],
   "source": [
    "b.name"
   ]
  },
  {
   "cell_type": "code",
   "execution_count": 25,
   "id": "43db90f1",
   "metadata": {},
   "outputs": [
    {
     "name": "stdout",
     "output_type": "stream",
     "text": [
      "this is class method hello\n"
     ]
    }
   ],
   "source": [
    "b.hello_method()"
   ]
  },
  {
   "cell_type": "code",
   "execution_count": 34,
   "id": "231d256e",
   "metadata": {},
   "outputs": [],
   "source": [
    "class Person:\n",
    "    def set_data(self,name):\n",
    "        self.name=name\n",
    "        \n",
    "    def get_data(self):\n",
    "        print(self.name)"
   ]
  },
  {
   "cell_type": "code",
   "execution_count": 35,
   "id": "6aba267a",
   "metadata": {},
   "outputs": [],
   "source": [
    "d=Person()"
   ]
  },
  {
   "cell_type": "code",
   "execution_count": 36,
   "id": "edd5ef4e",
   "metadata": {},
   "outputs": [],
   "source": [
    "d.set_data('naresh')"
   ]
  },
  {
   "cell_type": "code",
   "execution_count": 37,
   "id": "95052974",
   "metadata": {},
   "outputs": [
    {
     "name": "stdout",
     "output_type": "stream",
     "text": [
      "naresh\n"
     ]
    }
   ],
   "source": [
    "d.get_data()"
   ]
  },
  {
   "cell_type": "code",
   "execution_count": 43,
   "id": "43dd9c06",
   "metadata": {},
   "outputs": [],
   "source": [
    "class New:\n",
    "    def __init__(self,name,city):\n",
    "        self.name=name\n",
    "        self.city=city\n",
    "        print('Welcome to tops')\n",
    "    \n",
    "    def change_info(self,name):\n",
    "        self.name=name\n",
    "        \n",
    "    def get_info(self):\n",
    "        print(self.name, self.city)"
   ]
  },
  {
   "cell_type": "code",
   "execution_count": 44,
   "id": "ebb8563c",
   "metadata": {},
   "outputs": [
    {
     "name": "stdout",
     "output_type": "stream",
     "text": [
      "Welcome to tops\n"
     ]
    }
   ],
   "source": [
    "q=New('Naresh','Rajasthan')"
   ]
  },
  {
   "cell_type": "code",
   "execution_count": 45,
   "id": "0a63a39b",
   "metadata": {},
   "outputs": [
    {
     "name": "stdout",
     "output_type": "stream",
     "text": [
      "Naresh Rajasthan\n"
     ]
    }
   ],
   "source": [
    "q.get_info()"
   ]
  },
  {
   "cell_type": "code",
   "execution_count": 46,
   "id": "3b16b692",
   "metadata": {},
   "outputs": [
    {
     "data": {
      "text/plain": [
       "{'name': 'Naresh', 'city': 'Rajasthan'}"
      ]
     },
     "execution_count": 46,
     "metadata": {},
     "output_type": "execute_result"
    }
   ],
   "source": [
    "q.__dict__"
   ]
  },
  {
   "cell_type": "code",
   "execution_count": null,
   "id": "513e5c64",
   "metadata": {},
   "outputs": [],
   "source": []
  },
  {
   "cell_type": "code",
   "execution_count": 47,
   "id": "66ecf539",
   "metadata": {},
   "outputs": [],
   "source": [
    "# inheritance --> single level"
   ]
  },
  {
   "cell_type": "code",
   "execution_count": 48,
   "id": "b2887bbd",
   "metadata": {},
   "outputs": [],
   "source": [
    "class A:\n",
    "    def Method_a(self):\n",
    "        print('class of method A')\n",
    "    \n",
    "class B(A):\n",
    "    def Method_b(self):\n",
    "        print('class of method B')"
   ]
  },
  {
   "cell_type": "code",
   "execution_count": 50,
   "id": "10221565",
   "metadata": {},
   "outputs": [],
   "source": [
    "d=B()"
   ]
  },
  {
   "cell_type": "code",
   "execution_count": 53,
   "id": "18f1c074",
   "metadata": {},
   "outputs": [
    {
     "name": "stdout",
     "output_type": "stream",
     "text": [
      "class of method A\n",
      "class of method B\n"
     ]
    }
   ],
   "source": [
    "d.Method_a()\n",
    "d.Method_b()"
   ]
  },
  {
   "cell_type": "code",
   "execution_count": 54,
   "id": "f934c74d",
   "metadata": {},
   "outputs": [],
   "source": [
    "s=A()"
   ]
  },
  {
   "cell_type": "code",
   "execution_count": 55,
   "id": "47a35d7e",
   "metadata": {},
   "outputs": [
    {
     "name": "stdout",
     "output_type": "stream",
     "text": [
      "class of method A\n"
     ]
    },
    {
     "ename": "AttributeError",
     "evalue": "'A' object has no attribute 'Method_b'",
     "output_type": "error",
     "traceback": [
      "\u001b[1;31m---------------------------------------------------------------------------\u001b[0m",
      "\u001b[1;31mAttributeError\u001b[0m                            Traceback (most recent call last)",
      "Input \u001b[1;32mIn [55]\u001b[0m, in \u001b[0;36m<cell line: 2>\u001b[1;34m()\u001b[0m\n\u001b[0;32m      1\u001b[0m s\u001b[38;5;241m.\u001b[39mMethod_a()\n\u001b[1;32m----> 2\u001b[0m \u001b[43ms\u001b[49m\u001b[38;5;241;43m.\u001b[39;49m\u001b[43mMethod_b\u001b[49m()\n",
      "\u001b[1;31mAttributeError\u001b[0m: 'A' object has no attribute 'Method_b'"
     ]
    }
   ],
   "source": [
    "s.Method_a()\n",
    "s.Method_b()"
   ]
  },
  {
   "cell_type": "code",
   "execution_count": 56,
   "id": "f21b7025",
   "metadata": {},
   "outputs": [],
   "source": [
    "# multi-level\n"
   ]
  },
  {
   "cell_type": "code",
   "execution_count": 63,
   "id": "6c3c3779",
   "metadata": {},
   "outputs": [],
   "source": [
    "class A:\n",
    "    def Method_a(self):\n",
    "        print('class of method A')\n",
    "    \n",
    "class B(A):\n",
    "    def Method_b(self):\n",
    "        print('class of method B')\n",
    "class C(B):\n",
    "    def Method_c(self):\n",
    "        print('class of method C')"
   ]
  },
  {
   "cell_type": "code",
   "execution_count": 64,
   "id": "184a05ef",
   "metadata": {},
   "outputs": [],
   "source": [
    "z=C()"
   ]
  },
  {
   "cell_type": "code",
   "execution_count": 65,
   "id": "b9b9f9f0",
   "metadata": {},
   "outputs": [
    {
     "name": "stdout",
     "output_type": "stream",
     "text": [
      "class of method A\n",
      "class of method B\n",
      "class of method C\n"
     ]
    }
   ],
   "source": [
    "z.Method_a()\n",
    "z.Method_b()\n",
    "z.Method_c()"
   ]
  },
  {
   "cell_type": "code",
   "execution_count": 66,
   "id": "6b6e1382",
   "metadata": {},
   "outputs": [],
   "source": [
    "# multiple _level"
   ]
  },
  {
   "cell_type": "code",
   "execution_count": 87,
   "id": "621c54d4",
   "metadata": {},
   "outputs": [],
   "source": [
    "class A:\n",
    "    def Method_a(self):\n",
    "        print('class of method A')\n",
    "    \n",
    "class B:\n",
    "    def Method_b(self):\n",
    "        print('class of method B')\n",
    "class C:\n",
    "    def Method_c(self):\n",
    "        print('class of method C')\n",
    "class D (A,B,C):\n",
    "    def Method_d(self):\n",
    "        print('class of method D')"
   ]
  },
  {
   "cell_type": "code",
   "execution_count": 88,
   "id": "204878e0",
   "metadata": {},
   "outputs": [],
   "source": [
    "v=D()"
   ]
  },
  {
   "cell_type": "code",
   "execution_count": 89,
   "id": "052da76b",
   "metadata": {},
   "outputs": [
    {
     "name": "stdout",
     "output_type": "stream",
     "text": [
      "class of method A\n",
      "class of method B\n",
      "class of method C\n",
      "class of method D\n"
     ]
    }
   ],
   "source": [
    "v.Method_a()\n",
    "v.Method_b()\n",
    "v.Method_c()\n",
    "v.Method_d()"
   ]
  },
  {
   "cell_type": "code",
   "execution_count": 90,
   "id": "6f18d39c",
   "metadata": {},
   "outputs": [],
   "source": [
    "# Heirarchy"
   ]
  },
  {
   "cell_type": "code",
   "execution_count": 96,
   "id": "22fd306f",
   "metadata": {},
   "outputs": [],
   "source": [
    "class A:\n",
    "    def class_a(self):\n",
    "        print('method of class a')\n",
    "class B(A):\n",
    "    def class_b(self):\n",
    "        print('method of class b')\n",
    "class C(A):\n",
    "    def class_c(self):\n",
    "        print('method of class c')\n"
   ]
  },
  {
   "cell_type": "code",
   "execution_count": 97,
   "id": "29123340",
   "metadata": {},
   "outputs": [],
   "source": [
    "f=C()"
   ]
  },
  {
   "cell_type": "code",
   "execution_count": 98,
   "id": "e4bed8ec",
   "metadata": {},
   "outputs": [
    {
     "name": "stdout",
     "output_type": "stream",
     "text": [
      "method of class a\n",
      "method of class c\n"
     ]
    }
   ],
   "source": [
    "f.class_a()\n",
    "f.class_c()"
   ]
  },
  {
   "cell_type": "code",
   "execution_count": 99,
   "id": "593400e8",
   "metadata": {},
   "outputs": [],
   "source": [
    "e=B()"
   ]
  },
  {
   "cell_type": "code",
   "execution_count": 100,
   "id": "2b242896",
   "metadata": {},
   "outputs": [
    {
     "name": "stdout",
     "output_type": "stream",
     "text": [
      "method of class a\n",
      "method of class b\n"
     ]
    }
   ],
   "source": [
    "e.class_a()\n",
    "e.class_b()"
   ]
  },
  {
   "cell_type": "code",
   "execution_count": 101,
   "id": "7b0b6622",
   "metadata": {},
   "outputs": [],
   "source": [
    "#hybrid"
   ]
  },
  {
   "cell_type": "code",
   "execution_count": 102,
   "id": "f8f03a42",
   "metadata": {},
   "outputs": [],
   "source": [
    "class A:\n",
    "    def class_a(self):\n",
    "        print('method of class a')\n",
    "class B(A):\n",
    "    def class_b(self):\n",
    "        print('method of class b')\n",
    "class C(A):\n",
    "    def class_c(self):\n",
    "        print('method of class c')\n",
    "class D(B,C):\n",
    "    def class_d(self):\n",
    "        print('method of class d')\n"
   ]
  },
  {
   "cell_type": "code",
   "execution_count": 103,
   "id": "4512458c",
   "metadata": {},
   "outputs": [],
   "source": [
    "r=D()"
   ]
  },
  {
   "cell_type": "code",
   "execution_count": 104,
   "id": "2342e0eb",
   "metadata": {},
   "outputs": [
    {
     "name": "stdout",
     "output_type": "stream",
     "text": [
      "method of class a\n",
      "method of class b\n",
      "method of class c\n",
      "method of class d\n"
     ]
    }
   ],
   "source": [
    "r.class_a()\n",
    "r.class_b()\n",
    "r.class_c()\n",
    "r.class_d()"
   ]
  },
  {
   "cell_type": "code",
   "execution_count": null,
   "id": "bbeea3ad",
   "metadata": {},
   "outputs": [],
   "source": []
  }
 ],
 "metadata": {
  "kernelspec": {
   "display_name": "Python 3 (ipykernel)",
   "language": "python",
   "name": "python3"
  },
  "language_info": {
   "codemirror_mode": {
    "name": "ipython",
    "version": 3
   },
   "file_extension": ".py",
   "mimetype": "text/x-python",
   "name": "python",
   "nbconvert_exporter": "python",
   "pygments_lexer": "ipython3",
   "version": "3.9.12"
  }
 },
 "nbformat": 4,
 "nbformat_minor": 5
}
