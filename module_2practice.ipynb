{
 "cells": [
  {
   "cell_type": "code",
   "execution_count": 6,
   "id": "6536e18d",
   "metadata": {},
   "outputs": [
    {
     "name": "stdout",
     "output_type": "stream",
     "text": [
      "Enter Number Here: 0\n",
      "Number is Zero\n"
     ]
    }
   ],
   "source": [
    "#number is positive, negative or zero.\n",
    "num=int(input('Enter Number Here: '))\n",
    "if num==0:\n",
    "    print('Number is Zero')\n",
    "elif num>0:\n",
    "    print('Number is Positive')\n",
    "else:\n",
    "    print('Number is Negative')"
   ]
  },
  {
   "cell_type": "code",
   "execution_count": 16,
   "id": "5a466e5e",
   "metadata": {},
   "outputs": [
    {
     "name": "stdout",
     "output_type": "stream",
     "text": [
      "Enter Number for find factorial: 5\n",
      "Number 5 factorial is 120\n"
     ]
    }
   ],
   "source": [
    "#Factorial number of given number.\n",
    "num=int(input('Enter Number for find factorial: '))\n",
    "factorial=1\n",
    "if num==1:\n",
    "    print(f\"Number {num} factorial is 1\")\n",
    "elif num<=0:\n",
    "    print(f'Negative Number does not exits factorial ')\n",
    "else:\n",
    "    for i in range(1,num+1):\n",
    "        factorial = factorial*i\n",
    "    print(f'Number {num} factorial is {factorial}')"
   ]
  },
  {
   "cell_type": "code",
   "execution_count": 17,
   "id": "0cf35bb8",
   "metadata": {},
   "outputs": [
    {
     "name": "stdout",
     "output_type": "stream",
     "text": [
      "Enter Number For Fibonacci series: 20\n",
      "4181\n"
     ]
    }
   ],
   "source": [
    "# Fibonacci series of given range.\n",
    "num=int(input(\"Enter Number For Fibonacci series: \"))\n",
    "b=0\n",
    "c=1\n",
    "for i in range(2,num):\n",
    "    d=b+c\n",
    "    b=c\n",
    "    c=d\n",
    "print(d)\n"
   ]
  },
  {
   "cell_type": "code",
   "execution_count": 18,
   "id": "a83d6251",
   "metadata": {},
   "outputs": [
    {
     "name": "stdout",
     "output_type": "stream",
     "text": [
      "0\n",
      "1\n",
      "2\n",
      "3\n",
      "4\n",
      "6\n",
      "7\n",
      "8\n",
      "9\n"
     ]
    }
   ],
   "source": [
    "#continue statement\n",
    "for i in range(10):\n",
    "    if i==5:\n",
    "        continue\n",
    "    else:\n",
    "        print(i)"
   ]
  },
  {
   "cell_type": "code",
   "execution_count": 20,
   "id": "2347a564",
   "metadata": {},
   "outputs": [
    {
     "name": "stdout",
     "output_type": "stream",
     "text": [
      "before swap a=5, b=8\n",
      "After swap a=8, b=5\n"
     ]
    }
   ],
   "source": [
    "#swap two number with temp variable & without temp\n",
    "a=5\n",
    "b=8\n",
    "temp=0\n",
    "print(f\"before swap a={a}, b={b}\")\n",
    "temp=a\n",
    "a=b\n",
    "b=temp\n",
    "print(f\"After swap a={a}, b={b}\")"
   ]
  },
  {
   "cell_type": "code",
   "execution_count": 24,
   "id": "faad9e4d",
   "metadata": {},
   "outputs": [
    {
     "name": "stdout",
     "output_type": "stream",
     "text": [
      "Enter Number: -12\n",
      "Even Number\n"
     ]
    }
   ],
   "source": [
    "#  given number is even or odd\n",
    "num=int(input(\"Enter Number: \"))\n",
    "if num%2==0:\n",
    "    print('Even Number')\n",
    "else:\n",
    "    print('Odd Number')"
   ]
  },
  {
   "cell_type": "code",
   "execution_count": 27,
   "id": "17b89c7f",
   "metadata": {},
   "outputs": [
    {
     "name": "stdout",
     "output_type": "stream",
     "text": [
      "Enter A latter for chaeck: i\n",
      "i is Vowel\n"
     ]
    }
   ],
   "source": [
    "#passed letter is a vowel or not.\n",
    "char=input('Enter A latter for chaeck: ')\n",
    "if char=='a'or char=='e' or char=='i' or char=='o' or char=='u':\n",
    "    print(f'{char} is Vowel')\n",
    "else:\n",
    "    print(f\"{char} is not Vowel\")\n"
   ]
  },
  {
   "cell_type": "code",
   "execution_count": 3,
   "id": "9209b229",
   "metadata": {},
   "outputs": [
    {
     "name": "stdout",
     "output_type": "stream",
     "text": [
      "Enter First Number: 2\n",
      "Enter Second Number: 3\n",
      "Enter Third Number: 3\n",
      "Zero\n"
     ]
    }
   ],
   "source": [
    "# Write a Python program to sum of three given integers. However, if two values are equal sum will be zero.\n",
    "\n",
    "a=int(input(\"Enter First Number: \"))\n",
    "b=int(input(\"Enter Second Number: \"))\n",
    "c=int(input(\"Enter Third Number: \"))\n",
    "\n",
    "if a==b or b==c or a==c:\n",
    "    print('Zero')\n",
    "else:\n",
    "    d=a+b+c\n",
    "    print(d)"
   ]
  },
  {
   "cell_type": "markdown",
   "id": "84eab6d9",
   "metadata": {},
   "source": [
    "### How memory is managed in Python?\n",
    "### Memory management in Python involves a private heap containing all Python objects and data structures. The management of this private heap is ensured internally by the Python memory manager."
   ]
  },
  {
   "cell_type": "code",
   "execution_count": 8,
   "id": "846ab1fc",
   "metadata": {},
   "outputs": [
    {
     "name": "stdout",
     "output_type": "stream",
     "text": [
      "Enter First Number: 2\n",
      "Enter Second Number: 6\n",
      "False\n"
     ]
    }
   ],
   "source": [
    "# Write a Python program that will return true if the two given integer values are equal or their sum or difference is 5.\n",
    "x=int(input('Enter First Number: '))\n",
    "y=int(input('Enter Second Number: '))\n",
    "if x==y or (x+y)==5 or (x-y)==5 or (y-x)==5:\n",
    "    print(True)\n",
    "else:\n",
    "    print(False)"
   ]
  },
  {
   "cell_type": "code",
   "execution_count": 12,
   "id": "71a1097a",
   "metadata": {},
   "outputs": [
    {
     "name": "stdout",
     "output_type": "stream",
     "text": [
      "Enter A Number: 10\n",
      "number 10 positive number is 55.0\n"
     ]
    }
   ],
   "source": [
    "# Write a python program to sum of the first n positive integers\n",
    "a=int(input(\"Enter A Number: \"))\n",
    "m=((a*(a+1))/2)\n",
    "print(f\"number {a} positive number is {m}\")"
   ]
  },
  {
   "cell_type": "code",
   "execution_count": 13,
   "id": "a6e72cf0",
   "metadata": {},
   "outputs": [
    {
     "name": "stdout",
     "output_type": "stream",
     "text": [
      "Enter Something here: Naresh\n",
      "6\n"
     ]
    }
   ],
   "source": [
    "# Write a Python program to calculate the length of a string\n",
    "a=input(\"Enter Something here: \")\n",
    "d=0\n",
    "for i in a:\n",
    "    d+=1\n",
    "print(d)"
   ]
  },
  {
   "cell_type": "code",
   "execution_count": null,
   "id": "f4a44615",
   "metadata": {},
   "outputs": [],
   "source": []
  }
 ],
 "metadata": {
  "kernelspec": {
   "display_name": "Python 3 (ipykernel)",
   "language": "python",
   "name": "python3"
  },
  "language_info": {
   "codemirror_mode": {
    "name": "ipython",
    "version": 3
   },
   "file_extension": ".py",
   "mimetype": "text/x-python",
   "name": "python",
   "nbconvert_exporter": "python",
   "pygments_lexer": "ipython3",
   "version": "3.9.12"
  }
 },
 "nbformat": 4,
 "nbformat_minor": 5
}
