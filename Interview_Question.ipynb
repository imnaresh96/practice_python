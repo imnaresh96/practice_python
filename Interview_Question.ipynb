{
 "cells": [
  {
   "cell_type": "markdown",
   "id": "98eba2ec",
   "metadata": {},
   "source": [
    "# What is Software?"
   ]
  },
  {
   "cell_type": "markdown",
   "id": "046a7dd5",
   "metadata": {},
   "source": [
    "#### Software ek computer program hai jo aam taur par ek computer system ya electronic device ke saath use kiya jaata hai. Ye program code se bana hota hai aur computer ko perform karne ke liye instructions deta hai. Ye instructions computer hardware ko operate karne ke liye diye jaate hai.\n",
    "\n",
    "#### Software ki do pramukh prakar hai-\n",
    "\n",
    "#### Application Software: Ye program users ke liye banaya jata hai. Isme kisi bhi kaam ke liye software banaya jata hai. Jaise MS Word, Excel, Adobe Photoshop, etc.\n",
    "\n",
    "#### System Software: Ye software hardware aur application software ke beech ka bridge hota hai. Ye hardware ko manage karta hai aur application software ke liye operating system provide karta hai. Jaise Microsoft Windows, MacOS, Linux etc."
   ]
  },
  {
   "cell_type": "markdown",
   "id": "55fd3639",
   "metadata": {},
   "source": [
    "# What is Python?\n",
    "#### Python ek high-level, interpreted programming language hai jo general-purpose ke liye banaya gaya hai. Python ka use bahut se fields me hota hai, jaise web development, data science, machine learning, artificial intelligence, scientific computing, automation, and software development.\n",
    "\n",
    "#### Python language ko 1989 me Guido van Rossum ne develop kiya tha aur ye open-source hai, matlab ye free me use kiya jaa sakta hai aur iska source code publicly available hai.\n",
    "\n",
    "#### Python ke kuchh key features hai, jaise ki ye easy to read and learn hai, ye cross-platform hai matlab ki ise windows, Mac OS, Linux etc. platform par use kiya jaa sakta hai, ye dynamically typed hai, matlab ki aapko variable ke liye data type define nahi karna padta hai, ye object-oriented hai, isme aap encapsulation, inheritance, and polymorphism jaise features ka use kar sakte hain.\n",
    "\n",
    "#### Python ka syntax bahut hi readable aur simple hai, isme whitespace kaafi importance rakhta hai. Python ke liye bahut saare third-party libraries and frameworks available hain, jinke use se aap apni application ko quickly develop kar sakte hain. "
   ]
  },
  {
   "cell_type": "markdown",
   "id": "9f278986",
   "metadata": {},
   "source": [
    "# What are the key features of python?\n",
    "#### Python is a high-level programming language that offers several key features, including:\n",
    "\n",
    "#### Easy to Learn and Use: Python has a simple and intuitive syntax that is easy to read and learn. It is designed to have a low learning curve, making it an ideal language for beginners.\n",
    "\n",
    "#### Cross-Platform: Python is a cross-platform language, which means it can run on different operating systems like Windows, macOS, and Linux.\n",
    "\n",
    "#### Interpreted Language: Python is an interpreted language, which means that the code is executed line by line instead of being compiled into machine code. This makes it easier to debug and test code.\n",
    "\n",
    "#### Dynamically Typed: Python is a dynamically typed language, meaning that you don't need to declare the data type of a variable before using it. This makes programming faster and more flexible.\n",
    "\n",
    "#### Object-Oriented: Python supports object-oriented programming, which allows you to write reusable and modular code using classes and objects.\n",
    "\n",
    "#### Large Standard Library: Python has a large standard library that provides built-in functions and modules for common tasks like file I/O, networking, and regular expressions.\n",
    "\n",
    "#### Third-Party Libraries: Python has a vast ecosystem of third-party libraries and frameworks, making it easy to build complex applications and perform advanced tasks like data analysis, machine learning, and web development.\n",
    "\n",
    "#### Overall, these key features make Python a popular choice among developers for a wide range of applications, from small scripts to large-scale applications"
   ]
  },
  {
   "cell_type": "markdown",
   "id": "800b73b2",
   "metadata": {},
   "source": [
    "# What is a collection in python?\n",
    "#### In Python, a collection is a group of related values that are stored together in a single container. There are four main types of collections in Python: lists, tuples, sets, and dictionaries.\n",
    "\n",
    "#### Lists: A list is an ordered collection of values, and it can contain elements of different data types. Lists are mutable, which means that you can add, remove, or change elements in the list after it is created.\n",
    "\n",
    "#### Tuples: A tuple is similar to a list, but it is immutable, which means that once you create a tuple, you cannot change its contents. Tuples are typically used to store related data that should not be changed.\n",
    "\n",
    "#### Sets: A set is an unordered collection of unique values. Sets are mutable, and you can add or remove elements from a set after it is created.\n",
    "\n",
    "#### Dictionaries: A dictionary is a collection of key-value pairs, where each key is associated with a value. Dictionaries are mutable, and you can add, remove, or modify key-value pairs after the dictionary is created.\n",
    "\n",
    "#### Collections are important in Python because they allow you to store and manipulate related data in a convenient and efficient way. They also provide many useful functions and methods that can help you work with the data in the collection."
   ]
  },
  {
   "cell_type": "markdown",
   "id": "8a5859f5",
   "metadata": {},
   "source": [
    "# Explain difference between list and tuple.\n",
    "#### In Python, lists and tuples are both types of collections used to store a group of related values, but there are some key differences between them:\n",
    "\n",
    "#### Mutability: Lists are mutable, which means that you can add, remove, or modify elements in a list after it is created. On the other hand, tuples are immutable, which means that you cannot change the contents of a tuple after it is created.\n",
    "\n",
    "#### Syntax: Lists are defined using square brackets [] and elements are separated by commas. Tuples are defined using parentheses () and elements are separated by commas. Although parentheses are optional, they are often used to make the code more readable.\n",
    "\n",
    "#### Size: Lists can have any number of elements, while tuples have a fixed number of elements. Once a tuple is created, you cannot add or remove elements from it.\n",
    "\n",
    "#### Usage: Lists are typically used to store collections of related data that can be changed, such as a list of names or a list of numbers. Tuples are often used to store related data that should not be changed, such as a pair of coordinates or a date and time."
   ]
  },
  {
   "cell_type": "code",
   "execution_count": null,
   "id": "40b16cb1",
   "metadata": {},
   "outputs": [],
   "source": []
  }
 ],
 "metadata": {
  "kernelspec": {
   "display_name": "Python 3 (ipykernel)",
   "language": "python",
   "name": "python3"
  },
  "language_info": {
   "codemirror_mode": {
    "name": "ipython",
    "version": 3
   },
   "file_extension": ".py",
   "mimetype": "text/x-python",
   "name": "python",
   "nbconvert_exporter": "python",
   "pygments_lexer": "ipython3",
   "version": "3.9.12"
  }
 },
 "nbformat": 4,
 "nbformat_minor": 5
}
