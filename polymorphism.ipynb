{
 "cells": [
  {
   "cell_type": "code",
   "execution_count": 4,
   "id": "49bf85f2",
   "metadata": {},
   "outputs": [],
   "source": [
    "class Car:\n",
    "    def Add (self,x,y):\n",
    "        return x+y\n",
    "\n",
    "    def Add (self,x,y,z):\n",
    "        return x+y+z"
   ]
  },
  {
   "cell_type": "code",
   "execution_count": 5,
   "id": "3fd4d442",
   "metadata": {},
   "outputs": [],
   "source": [
    "d=Car()"
   ]
  },
  {
   "cell_type": "code",
   "execution_count": 6,
   "id": "0b849781",
   "metadata": {},
   "outputs": [
    {
     "data": {
      "text/plain": [
       "12"
      ]
     },
     "execution_count": 6,
     "metadata": {},
     "output_type": "execute_result"
    }
   ],
   "source": [
    "d.Add(5,4,3)"
   ]
  },
  {
   "cell_type": "code",
   "execution_count": 7,
   "id": "c9034b15",
   "metadata": {},
   "outputs": [
    {
     "ename": "TypeError",
     "evalue": "Add() missing 1 required positional argument: 'z'",
     "output_type": "error",
     "traceback": [
      "\u001b[1;31m---------------------------------------------------------------------------\u001b[0m",
      "\u001b[1;31mTypeError\u001b[0m                                 Traceback (most recent call last)",
      "Input \u001b[1;32mIn [7]\u001b[0m, in \u001b[0;36m<cell line: 1>\u001b[1;34m()\u001b[0m\n\u001b[1;32m----> 1\u001b[0m \u001b[43md\u001b[49m\u001b[38;5;241;43m.\u001b[39;49m\u001b[43mAdd\u001b[49m\u001b[43m(\u001b[49m\u001b[38;5;241;43m8\u001b[39;49m\u001b[43m,\u001b[49m\u001b[38;5;241;43m9\u001b[39;49m\u001b[43m)\u001b[49m\n",
      "\u001b[1;31mTypeError\u001b[0m: Add() missing 1 required positional argument: 'z'"
     ]
    }
   ],
   "source": [
    "d.Add(8,9)"
   ]
  },
  {
   "cell_type": "code",
   "execution_count": 9,
   "id": "0655491b",
   "metadata": {},
   "outputs": [
    {
     "data": {
      "text/plain": [
       "22"
      ]
     },
     "execution_count": 9,
     "metadata": {},
     "output_type": "execute_result"
    }
   ],
   "source": [
    "d.Add(8,9,5)"
   ]
  },
  {
   "cell_type": "code",
   "execution_count": 12,
   "id": "f043acb4",
   "metadata": {},
   "outputs": [],
   "source": [
    "class Parent:\n",
    "    def properties(self):\n",
    "        print('House')\n",
    "    \n",
    "class Child(Parent):\n",
    "    def properties(self):\n",
    "        print('Bike')"
   ]
  },
  {
   "cell_type": "code",
   "execution_count": 15,
   "id": "bb468bd6",
   "metadata": {},
   "outputs": [],
   "source": [
    "f=Child()"
   ]
  },
  {
   "cell_type": "code",
   "execution_count": 16,
   "id": "d8754dd2",
   "metadata": {},
   "outputs": [
    {
     "name": "stdout",
     "output_type": "stream",
     "text": [
      "Bike\n"
     ]
    }
   ],
   "source": [
    "f.properties()"
   ]
  },
  {
   "cell_type": "code",
   "execution_count": 29,
   "id": "19416b01",
   "metadata": {},
   "outputs": [],
   "source": [
    "class Parent:\n",
    "    def properties(self):\n",
    "        print('House From Parent')\n",
    "class Daughter(Parent):\n",
    "    def properties(self):\n",
    "        super().properties() \n",
    "        print('Activa is my own')\n",
    "class Child(Parent):\n",
    "    def properties(self):\n",
    "        super().properties()\n",
    "        print('Bike is my own')"
   ]
  },
  {
   "cell_type": "code",
   "execution_count": 30,
   "id": "52030fff",
   "metadata": {},
   "outputs": [],
   "source": [
    "g=Child()"
   ]
  },
  {
   "cell_type": "code",
   "execution_count": 31,
   "id": "fc610a54",
   "metadata": {},
   "outputs": [
    {
     "name": "stdout",
     "output_type": "stream",
     "text": [
      "House From Parent\n",
      "Bike is my own\n"
     ]
    }
   ],
   "source": [
    "g.properties()"
   ]
  },
  {
   "cell_type": "code",
   "execution_count": 32,
   "id": "3447cc8a",
   "metadata": {},
   "outputs": [],
   "source": [
    "h=Daughter()"
   ]
  },
  {
   "cell_type": "code",
   "execution_count": 33,
   "id": "34a2f695",
   "metadata": {},
   "outputs": [
    {
     "name": "stdout",
     "output_type": "stream",
     "text": [
      "House From Parent\n",
      "Activa is my own\n"
     ]
    }
   ],
   "source": [
    "h.properties()"
   ]
  },
  {
   "cell_type": "code",
   "execution_count": null,
   "id": "ffc8ec52",
   "metadata": {},
   "outputs": [],
   "source": []
  }
 ],
 "metadata": {
  "kernelspec": {
   "display_name": "Python 3 (ipykernel)",
   "language": "python",
   "name": "python3"
  },
  "language_info": {
   "codemirror_mode": {
    "name": "ipython",
    "version": 3
   },
   "file_extension": ".py",
   "mimetype": "text/x-python",
   "name": "python",
   "nbconvert_exporter": "python",
   "pygments_lexer": "ipython3",
   "version": "3.9.12"
  }
 },
 "nbformat": 4,
 "nbformat_minor": 5
}
