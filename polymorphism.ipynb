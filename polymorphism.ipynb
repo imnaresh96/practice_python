{
 "cells": [
  {
   "cell_type": "code",
   "execution_count": 4,
   "id": "49bf85f2",
   "metadata": {},
   "outputs": [],
   "source": [
    "class Car:\n",
    "    def Add (self,x,y):\n",
    "        return x+y\n",
    "\n",
    "    def Add (self,x,y,z):\n",
    "        return x+y+z"
   ]
  },
  {
   "cell_type": "code",
   "execution_count": 5,
   "id": "3fd4d442",
   "metadata": {},
   "outputs": [],
   "source": [
    "d=Car()"
   ]
  },
  {
   "cell_type": "code",
   "execution_count": 6,
   "id": "0b849781",
   "metadata": {},
   "outputs": [
    {
     "data": {
      "text/plain": [
       "12"
      ]
     },
     "execution_count": 6,
     "metadata": {},
     "output_type": "execute_result"
    }
   ],
   "source": [
    "d.Add(5,4,3)"
   ]
  },
  {
   "cell_type": "code",
   "execution_count": 7,
   "id": "c9034b15",
   "metadata": {},
   "outputs": [
    {
     "ename": "TypeError",
     "evalue": "Add() missing 1 required positional argument: 'z'",
     "output_type": "error",
     "traceback": [
      "\u001b[1;31m---------------------------------------------------------------------------\u001b[0m",
      "\u001b[1;31mTypeError\u001b[0m                                 Traceback (most recent call last)",
      "Input \u001b[1;32mIn [7]\u001b[0m, in \u001b[0;36m<cell line: 1>\u001b[1;34m()\u001b[0m\n\u001b[1;32m----> 1\u001b[0m \u001b[43md\u001b[49m\u001b[38;5;241;43m.\u001b[39;49m\u001b[43mAdd\u001b[49m\u001b[43m(\u001b[49m\u001b[38;5;241;43m8\u001b[39;49m\u001b[43m,\u001b[49m\u001b[38;5;241;43m9\u001b[39;49m\u001b[43m)\u001b[49m\n",
      "\u001b[1;31mTypeError\u001b[0m: Add() missing 1 required positional argument: 'z'"
     ]
    }
   ],
   "source": [
    "d.Add(8,9)"
   ]
  },
  {
   "cell_type": "code",
   "execution_count": 9,
   "id": "0655491b",
   "metadata": {},
   "outputs": [
    {
     "data": {
      "text/plain": [
       "22"
      ]
     },
     "execution_count": 9,
     "metadata": {},
     "output_type": "execute_result"
    }
   ],
   "source": [
    "d.Add(8,9,5)"
   ]
  },
  {
   "cell_type": "code",
   "execution_count": 12,
   "id": "f043acb4",
   "metadata": {},
   "outputs": [],
   "source": [
    "class Parent:\n",
    "    def properties(self):\n",
    "        print('House')\n",
    "    \n",
    "class Child(Parent):\n",
    "    def properties(self):\n",
    "        print('Bike')"
   ]
  },
  {
   "cell_type": "code",
   "execution_count": 15,
   "id": "bb468bd6",
   "metadata": {},
   "outputs": [],
   "source": [
    "f=Child()"
   ]
  },
  {
   "cell_type": "code",
   "execution_count": 16,
   "id": "d8754dd2",
   "metadata": {},
   "outputs": [
    {
     "name": "stdout",
     "output_type": "stream",
     "text": [
      "Bike\n"
     ]
    }
   ],
   "source": [
    "f.properties()"
   ]
  },
  {
   "cell_type": "code",
   "execution_count": 29,
   "id": "19416b01",
   "metadata": {},
   "outputs": [],
   "source": [
    "class Parent:\n",
    "    def properties(self):\n",
    "        print('House From Parent')\n",
    "class Daughter(Parent):\n",
    "    def properties(self):\n",
    "        super().properties() \n",
    "        print('Activa is my own')\n",
    "class Child(Parent):\n",
    "    def properties(self):\n",
    "        super().properties()\n",
    "        print('Bike is my own')"
   ]
  },
  {
   "cell_type": "code",
   "execution_count": 30,
   "id": "52030fff",
   "metadata": {},
   "outputs": [],
   "source": [
    "g=Child()"
   ]
  },
  {
   "cell_type": "code",
   "execution_count": 31,
   "id": "fc610a54",
   "metadata": {},
   "outputs": [
    {
     "name": "stdout",
     "output_type": "stream",
     "text": [
      "House From Parent\n",
      "Bike is my own\n"
     ]
    }
   ],
   "source": [
    "g.properties()"
   ]
  },
  {
   "cell_type": "code",
   "execution_count": 32,
   "id": "3447cc8a",
   "metadata": {},
   "outputs": [],
   "source": [
    "h=Daughter()"
   ]
  },
  {
   "cell_type": "code",
   "execution_count": 33,
   "id": "34a2f695",
   "metadata": {},
   "outputs": [
    {
     "name": "stdout",
     "output_type": "stream",
     "text": [
      "House From Parent\n",
      "Activa is my own\n"
     ]
    }
   ],
   "source": [
    "h.properties()"
   ]
  },
  {
   "cell_type": "code",
   "execution_count": 10,
   "id": "ffc8ec52",
   "metadata": {},
   "outputs": [],
   "source": [
    "class Car:\n",
    "    def add (self):\n",
    "        return \"Welcome\"\n",
    "\n",
    "    def add (self,firstname=\"\"):\n",
    "        return f\"Welcome {firstname}\"\n",
    "    def add(self,firstname=\"\",lastname=\"\"):\n",
    "        return f\"Welcome {firstname} {lastname}\""
   ]
  },
  {
   "cell_type": "code",
   "execution_count": 11,
   "id": "126023c9",
   "metadata": {},
   "outputs": [],
   "source": [
    "name=Car()"
   ]
  },
  {
   "cell_type": "code",
   "execution_count": 12,
   "id": "a0dcbed9",
   "metadata": {},
   "outputs": [
    {
     "data": {
      "text/plain": [
       "'Welcome  '"
      ]
     },
     "execution_count": 12,
     "metadata": {},
     "output_type": "execute_result"
    }
   ],
   "source": [
    "name.add()"
   ]
  },
  {
   "cell_type": "code",
   "execution_count": 13,
   "id": "e33a4f47",
   "metadata": {},
   "outputs": [
    {
     "data": {
      "text/plain": [
       "'Welcome Naresh '"
      ]
     },
     "execution_count": 13,
     "metadata": {},
     "output_type": "execute_result"
    }
   ],
   "source": [
    "name.add(\"Naresh\")"
   ]
  },
  {
   "cell_type": "code",
   "execution_count": 14,
   "id": "3f7d8fa7",
   "metadata": {},
   "outputs": [
    {
     "data": {
      "text/plain": [
       "'Welcome Naresh Kumar'"
      ]
     },
     "execution_count": 14,
     "metadata": {},
     "output_type": "execute_result"
    }
   ],
   "source": [
    "name.add(\"Naresh\",\"Kumar\")"
   ]
  },
  {
   "cell_type": "code",
   "execution_count": 19,
   "id": "f294be57",
   "metadata": {},
   "outputs": [],
   "source": [
    "class New:\n",
    "    def offer(self):\n",
    "        return \"nothing\"\n",
    "    def offer(self,x,y):\n",
    "        a=int(x)\n",
    "        b=int(y)\n",
    "        return x+y"
   ]
  },
  {
   "cell_type": "code",
   "execution_count": 20,
   "id": "ee34f60b",
   "metadata": {},
   "outputs": [],
   "source": [
    "abc=New()"
   ]
  },
  {
   "cell_type": "code",
   "execution_count": 21,
   "id": "af1941a8",
   "metadata": {},
   "outputs": [
    {
     "ename": "TypeError",
     "evalue": "offer() missing 2 required positional arguments: 'x' and 'y'",
     "output_type": "error",
     "traceback": [
      "\u001b[1;31m---------------------------------------------------------------------------\u001b[0m",
      "\u001b[1;31mTypeError\u001b[0m                                 Traceback (most recent call last)",
      "Input \u001b[1;32mIn [21]\u001b[0m, in \u001b[0;36m<cell line: 1>\u001b[1;34m()\u001b[0m\n\u001b[1;32m----> 1\u001b[0m \u001b[43mabc\u001b[49m\u001b[38;5;241;43m.\u001b[39;49m\u001b[43moffer\u001b[49m\u001b[43m(\u001b[49m\u001b[43m)\u001b[49m\n",
      "\u001b[1;31mTypeError\u001b[0m: offer() missing 2 required positional arguments: 'x' and 'y'"
     ]
    }
   ],
   "source": [
    "abc.offer()"
   ]
  },
  {
   "cell_type": "code",
   "execution_count": 37,
   "id": "a4ab764c",
   "metadata": {},
   "outputs": [],
   "source": [
    "class A:\n",
    "    def disp(self):\n",
    "        return \"this is parent class\"\n",
    "\n",
    "class B(A):\n",
    "    def disp(self):\n",
    "        super().disp()\n",
    "        return \"This is child class\""
   ]
  },
  {
   "cell_type": "code",
   "execution_count": 38,
   "id": "53657848",
   "metadata": {},
   "outputs": [],
   "source": [
    "obj=B()"
   ]
  },
  {
   "cell_type": "code",
   "execution_count": 39,
   "id": "f735a8a7",
   "metadata": {},
   "outputs": [
    {
     "data": {
      "text/plain": [
       "'This is child class'"
      ]
     },
     "execution_count": 39,
     "metadata": {},
     "output_type": "execute_result"
    }
   ],
   "source": [
    "obj.disp()"
   ]
  },
  {
   "cell_type": "code",
   "execution_count": 47,
   "id": "1acf0d6c",
   "metadata": {},
   "outputs": [],
   "source": [
    "class A:\n",
    "    def disp(self):\n",
    "        print (\"this is parent class\")\n",
    "\n",
    "class B(A):\n",
    "    def disp(self):\n",
    "        super().disp()\n",
    "        print (\"This is child class\")"
   ]
  },
  {
   "cell_type": "code",
   "execution_count": 48,
   "id": "88d9fc98",
   "metadata": {},
   "outputs": [],
   "source": [
    "obj=B()"
   ]
  },
  {
   "cell_type": "code",
   "execution_count": 49,
   "id": "8d82e5b0",
   "metadata": {},
   "outputs": [
    {
     "name": "stdout",
     "output_type": "stream",
     "text": [
      "this is parent class\n",
      "This is child class\n"
     ]
    }
   ],
   "source": [
    "obj.disp()"
   ]
  },
  {
   "cell_type": "code",
   "execution_count": 65,
   "id": "1cd206e9",
   "metadata": {},
   "outputs": [
    {
     "name": "stdout",
     "output_type": "stream",
     "text": [
      "10\n"
     ]
    }
   ],
   "source": [
    "class Name:\n",
    "    \"Hello this is Practice.......\"\n",
    "    age=10\n",
    "    print(age)"
   ]
  },
  {
   "cell_type": "code",
   "execution_count": 66,
   "id": "d0a8de3e",
   "metadata": {},
   "outputs": [],
   "source": [
    "obj=Name()"
   ]
  },
  {
   "cell_type": "code",
   "execution_count": 67,
   "id": "f8d9f0a2",
   "metadata": {},
   "outputs": [
    {
     "name": "stdout",
     "output_type": "stream",
     "text": [
      "10\n"
     ]
    }
   ],
   "source": [
    "print(obj.age)"
   ]
  },
  {
   "cell_type": "code",
   "execution_count": 68,
   "id": "1d778357",
   "metadata": {},
   "outputs": [
    {
     "name": "stdout",
     "output_type": "stream",
     "text": [
      "10\n"
     ]
    }
   ],
   "source": [
    "print(Name.age)"
   ]
  },
  {
   "cell_type": "code",
   "execution_count": 69,
   "id": "0a71fb44",
   "metadata": {},
   "outputs": [
    {
     "name": "stdout",
     "output_type": "stream",
     "text": [
      "Hello this is Practice.......\n"
     ]
    }
   ],
   "source": [
    "print(obj.__doc__)"
   ]
  },
  {
   "cell_type": "code",
   "execution_count": 2,
   "id": "1206abfc",
   "metadata": {},
   "outputs": [],
   "source": [
    "class A():\n",
    "    def add(self, name=\"\"):\n",
    "        print(name)\n",
    "    def add(self, name=\"\", last=\"\"):\n",
    "        print(name,last)\n",
    "    def add(self, name=\"\",last=\"\",address=\"\"):\n",
    "        print(name,last,address)\n",
    "    "
   ]
  },
  {
   "cell_type": "code",
   "execution_count": 3,
   "id": "9c3af1b0",
   "metadata": {},
   "outputs": [],
   "source": [
    "obj=A()"
   ]
  },
  {
   "cell_type": "code",
   "execution_count": 4,
   "id": "a53af30d",
   "metadata": {},
   "outputs": [
    {
     "name": "stdout",
     "output_type": "stream",
     "text": [
      "naresh  \n"
     ]
    }
   ],
   "source": [
    "obj.add('naresh')"
   ]
  },
  {
   "cell_type": "code",
   "execution_count": 5,
   "id": "d808e078",
   "metadata": {},
   "outputs": [
    {
     "name": "stdout",
     "output_type": "stream",
     "text": [
      "naresh kumar \n"
     ]
    }
   ],
   "source": [
    "obj.add('naresh','kumar')"
   ]
  },
  {
   "cell_type": "code",
   "execution_count": 6,
   "id": "fa72b6f3",
   "metadata": {},
   "outputs": [
    {
     "name": "stdout",
     "output_type": "stream",
     "text": [
      "naresh kumar address\n"
     ]
    }
   ],
   "source": [
    "obj.add('naresh','kumar','address')"
   ]
  },
  {
   "cell_type": "code",
   "execution_count": null,
   "id": "f20766f1",
   "metadata": {},
   "outputs": [],
   "source": []
  }
 ],
 "metadata": {
  "kernelspec": {
   "display_name": "Python 3 (ipykernel)",
   "language": "python",
   "name": "python3"
  },
  "language_info": {
   "codemirror_mode": {
    "name": "ipython",
    "version": 3
   },
   "file_extension": ".py",
   "mimetype": "text/x-python",
   "name": "python",
   "nbconvert_exporter": "python",
   "pygments_lexer": "ipython3",
   "version": "3.9.12"
  }
 },
 "nbformat": 4,
 "nbformat_minor": 5
}
