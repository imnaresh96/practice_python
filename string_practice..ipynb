{
 "cells": [
  {
   "cell_type": "code",
   "execution_count": 11,
   "id": "63f2e8ec",
   "metadata": {},
   "outputs": [],
   "source": [
    "d='naresh'"
   ]
  },
  {
   "cell_type": "code",
   "execution_count": 2,
   "id": "29546e05",
   "metadata": {},
   "outputs": [
    {
     "data": {
      "text/plain": [
       "'NARESH'"
      ]
     },
     "execution_count": 2,
     "metadata": {},
     "output_type": "execute_result"
    }
   ],
   "source": [
    "d.upper()"
   ]
  },
  {
   "cell_type": "code",
   "execution_count": 3,
   "id": "0fb67d42",
   "metadata": {},
   "outputs": [
    {
     "data": {
      "text/plain": [
       "'naresh'"
      ]
     },
     "execution_count": 3,
     "metadata": {},
     "output_type": "execute_result"
    }
   ],
   "source": [
    "d.lower()"
   ]
  },
  {
   "cell_type": "code",
   "execution_count": 5,
   "id": "f5de106a",
   "metadata": {},
   "outputs": [
    {
     "data": {
      "text/plain": [
       "'Naresh'"
      ]
     },
     "execution_count": 5,
     "metadata": {},
     "output_type": "execute_result"
    }
   ],
   "source": [
    "d.capitalize()"
   ]
  },
  {
   "cell_type": "code",
   "execution_count": 3,
   "id": "f196dc57",
   "metadata": {},
   "outputs": [
    {
     "name": "stdout",
     "output_type": "stream",
     "text": [
      "['__add__', '__class__', '__contains__', '__delattr__', '__dir__', '__doc__', '__eq__', '__format__', '__ge__', '__getattribute__', '__getitem__', '__getnewargs__', '__gt__', '__hash__', '__init__', '__init_subclass__', '__iter__', '__le__', '__len__', '__lt__', '__mod__', '__mul__', '__ne__', '__new__', '__reduce__', '__reduce_ex__', '__repr__', '__rmod__', '__rmul__', '__setattr__', '__sizeof__', '__str__', '__subclasshook__', 'capitalize', 'casefold', 'center', 'count', 'encode', 'endswith', 'expandtabs', 'find', 'format', 'format_map', 'index', 'isalnum', 'isalpha', 'isascii', 'isdecimal', 'isdigit', 'isidentifier', 'islower', 'isnumeric', 'isprintable', 'isspace', 'istitle', 'isupper', 'join', 'ljust', 'lower', 'lstrip', 'maketrans', 'partition', 'removeprefix', 'removesuffix', 'replace', 'rfind', 'rindex', 'rjust', 'rpartition', 'rsplit', 'rstrip', 'split', 'splitlines', 'startswith', 'strip', 'swapcase', 'title', 'translate', 'upper', 'zfill']\n"
     ]
    }
   ],
   "source": [
    "print(dir(d))"
   ]
  },
  {
   "cell_type": "code",
   "execution_count": 6,
   "id": "5c722d88",
   "metadata": {},
   "outputs": [
    {
     "data": {
      "text/plain": [
       "'naresh'"
      ]
     },
     "execution_count": 6,
     "metadata": {},
     "output_type": "execute_result"
    }
   ],
   "source": [
    "d.casefold()"
   ]
  },
  {
   "cell_type": "code",
   "execution_count": 8,
   "id": "dfac1e6e",
   "metadata": {},
   "outputs": [
    {
     "data": {
      "text/plain": [
       "0"
      ]
     },
     "execution_count": 8,
     "metadata": {},
     "output_type": "execute_result"
    }
   ],
   "source": [
    "d.count('x')"
   ]
  },
  {
   "cell_type": "code",
   "execution_count": 12,
   "id": "0f7fa045",
   "metadata": {},
   "outputs": [
    {
     "data": {
      "text/plain": [
       "False"
      ]
     },
     "execution_count": 12,
     "metadata": {},
     "output_type": "execute_result"
    }
   ],
   "source": [
    "d.isupper()"
   ]
  },
  {
   "cell_type": "code",
   "execution_count": 13,
   "id": "95436354",
   "metadata": {},
   "outputs": [
    {
     "data": {
      "text/plain": [
       "True"
      ]
     },
     "execution_count": 13,
     "metadata": {},
     "output_type": "execute_result"
    }
   ],
   "source": [
    "d.islower()"
   ]
  },
  {
   "cell_type": "code",
   "execution_count": 14,
   "id": "db3435b1",
   "metadata": {},
   "outputs": [],
   "source": [
    "# relpace"
   ]
  },
  {
   "cell_type": "code",
   "execution_count": 25,
   "id": "a5cc3fc2",
   "metadata": {},
   "outputs": [],
   "source": [
    "k='hello welcome to tops'"
   ]
  },
  {
   "cell_type": "code",
   "execution_count": 26,
   "id": "2af18ccd",
   "metadata": {},
   "outputs": [
    {
     "data": {
      "text/plain": [
       "'hy welcome to tops'"
      ]
     },
     "execution_count": 26,
     "metadata": {},
     "output_type": "execute_result"
    }
   ],
   "source": [
    "k.replace('hello','hy')"
   ]
  },
  {
   "cell_type": "code",
   "execution_count": 27,
   "id": "5dfa23dc",
   "metadata": {},
   "outputs": [
    {
     "data": {
      "text/plain": [
       "'helle welcome to tops'"
      ]
     },
     "execution_count": 27,
     "metadata": {},
     "output_type": "execute_result"
    }
   ],
   "source": [
    "k.replace('o','e',1)"
   ]
  },
  {
   "cell_type": "code",
   "execution_count": 28,
   "id": "596584ac",
   "metadata": {},
   "outputs": [],
   "source": [
    "# format"
   ]
  },
  {
   "cell_type": "code",
   "execution_count": 4,
   "id": "39b5a497",
   "metadata": {},
   "outputs": [],
   "source": [
    "k='Hello Welcome To Tops {}'"
   ]
  },
  {
   "cell_type": "code",
   "execution_count": 36,
   "id": "1a3af0c4",
   "metadata": {},
   "outputs": [
    {
     "data": {
      "text/plain": [
       "'hello welcome to tops Naresh'"
      ]
     },
     "execution_count": 36,
     "metadata": {},
     "output_type": "execute_result"
    }
   ],
   "source": [
    "k.format('Naresh')"
   ]
  },
  {
   "cell_type": "code",
   "execution_count": 37,
   "id": "7ad4d2a7",
   "metadata": {},
   "outputs": [],
   "source": [
    "l=list()"
   ]
  },
  {
   "cell_type": "code",
   "execution_count": 38,
   "id": "f47b539e",
   "metadata": {},
   "outputs": [
    {
     "data": {
      "text/plain": [
       "list"
      ]
     },
     "execution_count": 38,
     "metadata": {},
     "output_type": "execute_result"
    }
   ],
   "source": [
    "type(l)"
   ]
  },
  {
   "cell_type": "code",
   "execution_count": 39,
   "id": "9bfbd039",
   "metadata": {},
   "outputs": [],
   "source": [
    "k=tuple()"
   ]
  },
  {
   "cell_type": "code",
   "execution_count": 40,
   "id": "18fc8ee9",
   "metadata": {},
   "outputs": [
    {
     "data": {
      "text/plain": [
       "tuple"
      ]
     },
     "execution_count": 40,
     "metadata": {},
     "output_type": "execute_result"
    }
   ],
   "source": [
    "type(k)"
   ]
  },
  {
   "cell_type": "code",
   "execution_count": 41,
   "id": "2a3fd349",
   "metadata": {},
   "outputs": [],
   "source": [
    "k=dict()"
   ]
  },
  {
   "cell_type": "code",
   "execution_count": 2,
   "id": "11c04464",
   "metadata": {},
   "outputs": [
    {
     "data": {
      "text/plain": [
       "'hello welcome to tops Mahipal'"
      ]
     },
     "execution_count": 2,
     "metadata": {},
     "output_type": "execute_result"
    }
   ],
   "source": [
    "k.format('Mahipal')"
   ]
  },
  {
   "cell_type": "code",
   "execution_count": 3,
   "id": "2d206885",
   "metadata": {},
   "outputs": [
    {
     "data": {
      "text/plain": [
       "'hello welcome to tops Rahul'"
      ]
     },
     "execution_count": 3,
     "metadata": {},
     "output_type": "execute_result"
    }
   ],
   "source": [
    "k.format('Rahul')"
   ]
  },
  {
   "cell_type": "code",
   "execution_count": 5,
   "id": "4fa1e087",
   "metadata": {},
   "outputs": [
    {
     "data": {
      "text/plain": [
       "'hello welcome to tops {}'"
      ]
     },
     "execution_count": 5,
     "metadata": {},
     "output_type": "execute_result"
    }
   ],
   "source": [
    "k.casefold()"
   ]
  },
  {
   "cell_type": "code",
   "execution_count": null,
   "id": "91d8bb85",
   "metadata": {},
   "outputs": [],
   "source": []
  }
 ],
 "metadata": {
  "kernelspec": {
   "display_name": "Python 3 (ipykernel)",
   "language": "python",
   "name": "python3"
  },
  "language_info": {
   "codemirror_mode": {
    "name": "ipython",
    "version": 3
   },
   "file_extension": ".py",
   "mimetype": "text/x-python",
   "name": "python",
   "nbconvert_exporter": "python",
   "pygments_lexer": "ipython3",
   "version": "3.9.12"
  }
 },
 "nbformat": 4,
 "nbformat_minor": 5
}
