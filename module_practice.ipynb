{
 "cells": [
  {
   "cell_type": "code",
   "execution_count": 1,
   "id": "a6f2a0ef",
   "metadata": {},
   "outputs": [
    {
     "data": {
      "text/plain": [
       "0.5402380558939822"
      ]
     },
     "execution_count": 1,
     "metadata": {},
     "output_type": "execute_result"
    }
   ],
   "source": [
    "import random\n",
    "\n",
    "random.random()"
   ]
  },
  {
   "cell_type": "code",
   "execution_count": 2,
   "id": "6aa23fd2",
   "metadata": {},
   "outputs": [
    {
     "data": {
      "text/plain": [
       "0.15471100974698937"
      ]
     },
     "execution_count": 2,
     "metadata": {},
     "output_type": "execute_result"
    }
   ],
   "source": [
    "random.random()"
   ]
  },
  {
   "cell_type": "code",
   "execution_count": 3,
   "id": "e9770c2c",
   "metadata": {},
   "outputs": [
    {
     "data": {
      "text/plain": [
       "3"
      ]
     },
     "execution_count": 3,
     "metadata": {},
     "output_type": "execute_result"
    }
   ],
   "source": [
    "# randrange (start,stop,step)\n",
    "\n",
    "random.randrange(0,10,1)"
   ]
  },
  {
   "cell_type": "code",
   "execution_count": 26,
   "id": "3d7694e0",
   "metadata": {},
   "outputs": [
    {
     "data": {
      "text/plain": [
       "8"
      ]
     },
     "execution_count": 26,
     "metadata": {},
     "output_type": "execute_result"
    }
   ],
   "source": [
    "\n",
    "random.randrange(6,10)"
   ]
  },
  {
   "cell_type": "code",
   "execution_count": 8,
   "id": "ae5bdd69",
   "metadata": {},
   "outputs": [
    {
     "data": {
      "text/plain": [
       "6"
      ]
     },
     "execution_count": 8,
     "metadata": {},
     "output_type": "execute_result"
    }
   ],
   "source": [
    "random.randrange(6,10)"
   ]
  },
  {
   "cell_type": "code",
   "execution_count": 9,
   "id": "2b70abfa",
   "metadata": {},
   "outputs": [
    {
     "data": {
      "text/plain": [
       "8"
      ]
     },
     "execution_count": 9,
     "metadata": {},
     "output_type": "execute_result"
    }
   ],
   "source": [
    "random.randrange(6,10)"
   ]
  },
  {
   "cell_type": "code",
   "execution_count": 10,
   "id": "d090fc5e",
   "metadata": {},
   "outputs": [
    {
     "data": {
      "text/plain": [
       "9"
      ]
     },
     "execution_count": 10,
     "metadata": {},
     "output_type": "execute_result"
    }
   ],
   "source": [
    "random.randrange(6,10)"
   ]
  },
  {
   "cell_type": "code",
   "execution_count": 11,
   "id": "0d6575c7",
   "metadata": {},
   "outputs": [
    {
     "data": {
      "text/plain": [
       "4"
      ]
     },
     "execution_count": 11,
     "metadata": {},
     "output_type": "execute_result"
    }
   ],
   "source": [
    "random.randrange(5)"
   ]
  },
  {
   "cell_type": "code",
   "execution_count": 12,
   "id": "8b3ba90c",
   "metadata": {},
   "outputs": [],
   "source": [
    "    #randint()"
   ]
  },
  {
   "cell_type": "code",
   "execution_count": 13,
   "id": "f266e875",
   "metadata": {},
   "outputs": [
    {
     "data": {
      "text/plain": [
       "3"
      ]
     },
     "execution_count": 13,
     "metadata": {},
     "output_type": "execute_result"
    }
   ],
   "source": [
    "random.randint(1,5)"
   ]
  },
  {
   "cell_type": "code",
   "execution_count": 14,
   "id": "1b404240",
   "metadata": {},
   "outputs": [
    {
     "data": {
      "text/plain": [
       "4"
      ]
     },
     "execution_count": 14,
     "metadata": {},
     "output_type": "execute_result"
    }
   ],
   "source": [
    "random.randint(1,5)"
   ]
  },
  {
   "cell_type": "code",
   "execution_count": 15,
   "id": "f7bfcdc0",
   "metadata": {},
   "outputs": [
    {
     "data": {
      "text/plain": [
       "2"
      ]
     },
     "execution_count": 15,
     "metadata": {},
     "output_type": "execute_result"
    }
   ],
   "source": [
    "random.randint(1,5)"
   ]
  },
  {
   "cell_type": "code",
   "execution_count": 17,
   "id": "bfa046d7",
   "metadata": {},
   "outputs": [
    {
     "data": {
      "text/plain": [
       "4"
      ]
     },
     "execution_count": 17,
     "metadata": {},
     "output_type": "execute_result"
    }
   ],
   "source": [
    "random.randint(1,5)"
   ]
  },
  {
   "cell_type": "code",
   "execution_count": 18,
   "id": "85a73d40",
   "metadata": {},
   "outputs": [
    {
     "data": {
      "text/plain": [
       "32"
      ]
     },
     "execution_count": 18,
     "metadata": {},
     "output_type": "execute_result"
    }
   ],
   "source": [
    "random.randint(10,99)"
   ]
  },
  {
   "cell_type": "code",
   "execution_count": 19,
   "id": "36520c29",
   "metadata": {},
   "outputs": [
    {
     "data": {
      "text/plain": [
       "209"
      ]
     },
     "execution_count": 19,
     "metadata": {},
     "output_type": "execute_result"
    }
   ],
   "source": [
    "random.randint(100,999)"
   ]
  },
  {
   "cell_type": "code",
   "execution_count": 20,
   "id": "7465f56e",
   "metadata": {},
   "outputs": [
    {
     "data": {
      "text/plain": [
       "4944"
      ]
     },
     "execution_count": 20,
     "metadata": {},
     "output_type": "execute_result"
    }
   ],
   "source": [
    "random.randint(1000,9999)"
   ]
  },
  {
   "cell_type": "code",
   "execution_count": 21,
   "id": "82a07d74",
   "metadata": {},
   "outputs": [
    {
     "data": {
      "text/plain": [
       "'a'"
      ]
     },
     "execution_count": 21,
     "metadata": {},
     "output_type": "execute_result"
    }
   ],
   "source": [
    "# choice (sequencial_object)\n",
    "random.choice('Naresh')"
   ]
  },
  {
   "cell_type": "code",
   "execution_count": 22,
   "id": "b9f5c47d",
   "metadata": {},
   "outputs": [],
   "source": [
    "l=[5,4,6,8,5,6]"
   ]
  },
  {
   "cell_type": "code",
   "execution_count": 24,
   "id": "a3722ae8",
   "metadata": {},
   "outputs": [
    {
     "data": {
      "text/plain": [
       "1"
      ]
     },
     "execution_count": 24,
     "metadata": {},
     "output_type": "execute_result"
    }
   ],
   "source": [
    "random.randrange(len(l))"
   ]
  },
  {
   "cell_type": "code",
   "execution_count": 25,
   "id": "0af0dc2b",
   "metadata": {},
   "outputs": [
    {
     "data": {
      "text/plain": [
       "2"
      ]
     },
     "execution_count": 25,
     "metadata": {},
     "output_type": "execute_result"
    }
   ],
   "source": [
    "random.randrange(len(l))"
   ]
  },
  {
   "cell_type": "code",
   "execution_count": 27,
   "id": "9d6aff55",
   "metadata": {},
   "outputs": [
    {
     "data": {
      "text/plain": [
       "'N'"
      ]
     },
     "execution_count": 27,
     "metadata": {},
     "output_type": "execute_result"
    }
   ],
   "source": [
    "random.choice('Naresh')"
   ]
  },
  {
   "cell_type": "code",
   "execution_count": 28,
   "id": "51f42aaa",
   "metadata": {},
   "outputs": [
    {
     "data": {
      "text/plain": [
       "'r'"
      ]
     },
     "execution_count": 28,
     "metadata": {},
     "output_type": "execute_result"
    }
   ],
   "source": [
    "random.choice('Naresh')"
   ]
  },
  {
   "cell_type": "code",
   "execution_count": 29,
   "id": "f6b69eb1",
   "metadata": {},
   "outputs": [
    {
     "data": {
      "text/plain": [
       "'Tops'"
      ]
     },
     "execution_count": 29,
     "metadata": {},
     "output_type": "execute_result"
    }
   ],
   "source": [
    "random.choice(['Naresh','Kumar','Tops'])"
   ]
  },
  {
   "cell_type": "code",
   "execution_count": 31,
   "id": "14d03069",
   "metadata": {},
   "outputs": [
    {
     "data": {
      "text/plain": [
       "'Tops'"
      ]
     },
     "execution_count": 31,
     "metadata": {},
     "output_type": "execute_result"
    }
   ],
   "source": [
    "random.choice(['Naresh','Kumar','Tops'])"
   ]
  },
  {
   "cell_type": "code",
   "execution_count": 30,
   "id": "3f5d30c2",
   "metadata": {},
   "outputs": [
    {
     "data": {
      "text/plain": [
       "'Tops'"
      ]
     },
     "execution_count": 30,
     "metadata": {},
     "output_type": "execute_result"
    }
   ],
   "source": [
    "random.choice(['Naresh','Kumar','Tops'])"
   ]
  },
  {
   "cell_type": "code",
   "execution_count": 32,
   "id": "b3ddff52",
   "metadata": {},
   "outputs": [
    {
     "data": {
      "text/plain": [
       "'Kumar'"
      ]
     },
     "execution_count": 32,
     "metadata": {},
     "output_type": "execute_result"
    }
   ],
   "source": [
    "random.choice(['Naresh','Kumar','Tops'])"
   ]
  },
  {
   "cell_type": "code",
   "execution_count": 33,
   "id": "44b38d58",
   "metadata": {},
   "outputs": [
    {
     "data": {
      "text/plain": [
       "'Naresh'"
      ]
     },
     "execution_count": 33,
     "metadata": {},
     "output_type": "execute_result"
    }
   ],
   "source": [
    "random.choice(['Naresh','Kumar','Tops'])"
   ]
  },
  {
   "cell_type": "code",
   "execution_count": 41,
   "id": "853a1305",
   "metadata": {},
   "outputs": [
    {
     "name": "stdout",
     "output_type": "stream",
     "text": [
      "Naresh\n",
      "Kumar\n",
      "Naresh\n",
      "Kumar\n"
     ]
    }
   ],
   "source": [
    "for i in range (4):\n",
    "    print(random.choice(['Naresh','Kumar','Tops']))"
   ]
  },
  {
   "cell_type": "code",
   "execution_count": 54,
   "id": "3fedc802",
   "metadata": {},
   "outputs": [
    {
     "name": "stdout",
     "output_type": "stream",
     "text": [
      "naresh : hey\n",
      "kumar : hi\n",
      "naresh : hello\n",
      "kumar : hello\n",
      "naresh : hello\n",
      "kumar : hello\n",
      "naresh : hello\n",
      "kumar : hello\n"
     ]
    }
   ],
   "source": [
    "users=(\"naresh\",\"kumar\")\n",
    "for i in range(4):\n",
    "    for user in users:\n",
    "        print(f\"{user} : {random.choice (['hey','hi','hello'])}\")"
   ]
  },
  {
   "cell_type": "code",
   "execution_count": 59,
   "id": "db1454da",
   "metadata": {},
   "outputs": [
    {
     "data": {
      "text/plain": [
       "['nishad', 'naresh', 'vishal']"
      ]
     },
     "execution_count": 59,
     "metadata": {},
     "output_type": "execute_result"
    }
   ],
   "source": [
    "#choices ()\n",
    "random.choices([\"nishad\",\"vishal\",\"naresh\"], k=3)"
   ]
  },
  {
   "cell_type": "code",
   "execution_count": 60,
   "id": "8b857fca",
   "metadata": {},
   "outputs": [],
   "source": [
    "# password\n",
    "az='abcdefghijklmnopqrstuvwxyzABCDEFGHIJKLMNOPQRSTUVWXYZ0123456789!@#$%^&*()-_=+'"
   ]
  },
  {
   "cell_type": "code",
   "execution_count": 63,
   "id": "c4d483f9",
   "metadata": {},
   "outputs": [
    {
     "data": {
      "text/plain": [
       "['T', 'O', 't', 'b', '6', 'j', '3', '&', 'N', '0']"
      ]
     },
     "execution_count": 63,
     "metadata": {},
     "output_type": "execute_result"
    }
   ],
   "source": [
    "random.choices((az), k=10)"
   ]
  },
  {
   "cell_type": "code",
   "execution_count": 67,
   "id": "f99c750d",
   "metadata": {},
   "outputs": [
    {
     "data": {
      "text/plain": [
       "'0!t%BSvS#8'"
      ]
     },
     "execution_count": 67,
     "metadata": {},
     "output_type": "execute_result"
    }
   ],
   "source": [
    "''.join(random.choices((az), k=10))"
   ]
  },
  {
   "cell_type": "code",
   "execution_count": 68,
   "id": "3d6c70f7",
   "metadata": {},
   "outputs": [
    {
     "data": {
      "text/plain": [
       "'FBQr&t3Lf2'"
      ]
     },
     "execution_count": 68,
     "metadata": {},
     "output_type": "execute_result"
    }
   ],
   "source": [
    "''.join(random.choices(az, k=10))"
   ]
  },
  {
   "cell_type": "code",
   "execution_count": 69,
   "id": "f5077d35",
   "metadata": {},
   "outputs": [],
   "source": [
    "#shuffle\n",
    "l=[8,4,6,5,9,5]"
   ]
  },
  {
   "cell_type": "code",
   "execution_count": 71,
   "id": "1d8e3767",
   "metadata": {},
   "outputs": [],
   "source": [
    "l.sort()"
   ]
  },
  {
   "cell_type": "code",
   "execution_count": 72,
   "id": "78ee8af4",
   "metadata": {},
   "outputs": [
    {
     "data": {
      "text/plain": [
       "[4, 5, 5, 6, 8, 9]"
      ]
     },
     "execution_count": 72,
     "metadata": {},
     "output_type": "execute_result"
    }
   ],
   "source": [
    "l"
   ]
  },
  {
   "cell_type": "code",
   "execution_count": 73,
   "id": "2d9b89f0",
   "metadata": {},
   "outputs": [],
   "source": [
    "random.shuffle(l)"
   ]
  },
  {
   "cell_type": "code",
   "execution_count": 74,
   "id": "af09eed2",
   "metadata": {},
   "outputs": [
    {
     "data": {
      "text/plain": [
       "[5, 5, 6, 8, 9, 4]"
      ]
     },
     "execution_count": 74,
     "metadata": {},
     "output_type": "execute_result"
    }
   ],
   "source": [
    "l"
   ]
  },
  {
   "cell_type": "code",
   "execution_count": 75,
   "id": "1ba0630d",
   "metadata": {},
   "outputs": [],
   "source": [
    "#os module"
   ]
  },
  {
   "cell_type": "markdown",
   "id": "3b9acc0d",
   "metadata": {},
   "source": [
    "import os"
   ]
  },
  {
   "cell_type": "code",
   "execution_count": 76,
   "id": "bccc47ce",
   "metadata": {},
   "outputs": [],
   "source": [
    "import os\n"
   ]
  },
  {
   "cell_type": "code",
   "execution_count": 77,
   "id": "474d1170",
   "metadata": {},
   "outputs": [
    {
     "ename": "AttributeError",
     "evalue": "module 'os' has no attribute 'dir'",
     "output_type": "error",
     "traceback": [
      "\u001b[1;31m---------------------------------------------------------------------------\u001b[0m",
      "\u001b[1;31mAttributeError\u001b[0m                            Traceback (most recent call last)",
      "\u001b[1;32mh:\\Python\\practice_python\\module_practice.ipynb Cell 43\u001b[0m in \u001b[0;36m<cell line: 1>\u001b[1;34m()\u001b[0m\n\u001b[1;32m----> <a href='vscode-notebook-cell:/h%3A/Python/practice_python/module_practice.ipynb#X56sZmlsZQ%3D%3D?line=0'>1</a>\u001b[0m os\u001b[39m.\u001b[39;49mdir()\n",
      "\u001b[1;31mAttributeError\u001b[0m: module 'os' has no attribute 'dir'"
     ]
    }
   ],
   "source": [
    "os.dir()"
   ]
  },
  {
   "cell_type": "code",
   "execution_count": 78,
   "id": "fd243561",
   "metadata": {},
   "outputs": [
    {
     "name": "stdout",
     "output_type": "stream",
     "text": [
      "['DirEntry', 'F_OK', 'GenericAlias', 'Mapping', 'MutableMapping', 'O_APPEND', 'O_BINARY', 'O_CREAT', 'O_EXCL', 'O_NOINHERIT', 'O_RANDOM', 'O_RDONLY', 'O_RDWR', 'O_SEQUENTIAL', 'O_SHORT_LIVED', 'O_TEMPORARY', 'O_TEXT', 'O_TRUNC', 'O_WRONLY', 'P_DETACH', 'P_NOWAIT', 'P_NOWAITO', 'P_OVERLAY', 'P_WAIT', 'PathLike', 'R_OK', 'SEEK_CUR', 'SEEK_END', 'SEEK_SET', 'TMP_MAX', 'W_OK', 'X_OK', '_AddedDllDirectory', '_Environ', '__all__', '__builtins__', '__cached__', '__doc__', '__file__', '__loader__', '__name__', '__package__', '__spec__', '_check_methods', '_execvpe', '_exists', '_exit', '_fspath', '_get_exports_list', '_walk', '_wrap_close', 'abc', 'abort', 'access', 'add_dll_directory', 'altsep', 'chdir', 'chmod', 'close', 'closerange', 'cpu_count', 'curdir', 'defpath', 'device_encoding', 'devnull', 'dup', 'dup2', 'environ', 'error', 'execl', 'execle', 'execlp', 'execlpe', 'execv', 'execve', 'execvp', 'execvpe', 'extsep', 'fdopen', 'fsdecode', 'fsencode', 'fspath', 'fstat', 'fsync', 'ftruncate', 'get_exec_path', 'get_handle_inheritable', 'get_inheritable', 'get_terminal_size', 'getcwd', 'getcwdb', 'getenv', 'getlogin', 'getpid', 'getppid', 'isatty', 'kill', 'linesep', 'link', 'listdir', 'lseek', 'lstat', 'makedirs', 'mkdir', 'name', 'open', 'pardir', 'path', 'pathsep', 'pipe', 'popen', 'putenv', 'read', 'readlink', 'remove', 'removedirs', 'rename', 'renames', 'replace', 'rmdir', 'scandir', 'sep', 'set_handle_inheritable', 'set_inheritable', 'spawnl', 'spawnle', 'spawnv', 'spawnve', 'st', 'startfile', 'stat', 'stat_result', 'statvfs_result', 'strerror', 'supports_bytes_environ', 'supports_dir_fd', 'supports_effective_ids', 'supports_fd', 'supports_follow_symlinks', 'symlink', 'sys', 'system', 'terminal_size', 'times', 'times_result', 'truncate', 'umask', 'uname_result', 'unlink', 'unsetenv', 'urandom', 'utime', 'waitpid', 'waitstatus_to_exitcode', 'walk', 'write']\n"
     ]
    }
   ],
   "source": [
    "print(dir(os))"
   ]
  },
  {
   "cell_type": "code",
   "execution_count": 80,
   "id": "64243012",
   "metadata": {},
   "outputs": [
    {
     "data": {
      "text/plain": [
       "'h:\\\\Python\\\\practice_python'"
      ]
     },
     "execution_count": 80,
     "metadata": {},
     "output_type": "execute_result"
    }
   ],
   "source": [
    "os.getcwd()"
   ]
  },
  {
   "cell_type": "code",
   "execution_count": null,
   "id": "3803355b",
   "metadata": {},
   "outputs": [],
   "source": []
  }
 ],
 "metadata": {
  "kernelspec": {
   "display_name": "Python 3.9.12 ('base')",
   "language": "python",
   "name": "python3"
  },
  "language_info": {
   "codemirror_mode": {
    "name": "ipython",
    "version": 3
   },
   "file_extension": ".py",
   "mimetype": "text/x-python",
   "name": "python",
   "nbconvert_exporter": "python",
   "pygments_lexer": "ipython3",
   "version": "3.9.12"
  },
  "vscode": {
   "interpreter": {
    "hash": "5ae58900cfbb8c43ab3495913814b7cf26024f51651a94ce8bf64d6111688e8d"
   }
  }
 },
 "nbformat": 4,
 "nbformat_minor": 5
}
