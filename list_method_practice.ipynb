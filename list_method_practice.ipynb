{
 "cells": [
  {
   "cell_type": "code",
   "execution_count": 1,
   "id": "e3d3b91d",
   "metadata": {},
   "outputs": [],
   "source": [
    "#dict\n",
    "r=dict()"
   ]
  },
  {
   "cell_type": "code",
   "execution_count": 23,
   "id": "5bf2a104",
   "metadata": {},
   "outputs": [],
   "source": [
    "r.setdefault('time')"
   ]
  },
  {
   "cell_type": "code",
   "execution_count": 24,
   "id": "19f44ec6",
   "metadata": {},
   "outputs": [
    {
     "data": {
      "text/plain": [
       "{12: None,\n",
       " 'name': 'naresh',\n",
       " 'sub': 'python',\n",
       " 'city': 'pali',\n",
       " '12': 'room',\n",
       " 'time': None}"
      ]
     },
     "execution_count": 24,
     "metadata": {},
     "output_type": "execute_result"
    }
   ],
   "source": [
    "r"
   ]
  },
  {
   "cell_type": "code",
   "execution_count": 25,
   "id": "3ada2aa1",
   "metadata": {},
   "outputs": [
    {
     "data": {
      "text/plain": [
       "'naresh'"
      ]
     },
     "execution_count": 25,
     "metadata": {},
     "output_type": "execute_result"
    }
   ],
   "source": [
    "r.setdefault('name','naresh')"
   ]
  },
  {
   "cell_type": "code",
   "execution_count": 26,
   "id": "38f3ba50",
   "metadata": {},
   "outputs": [
    {
     "data": {
      "text/plain": [
       "{12: None,\n",
       " 'name': 'naresh',\n",
       " 'sub': 'python',\n",
       " 'city': 'pali',\n",
       " '12': 'room',\n",
       " 'time': None}"
      ]
     },
     "execution_count": 26,
     "metadata": {},
     "output_type": "execute_result"
    }
   ],
   "source": [
    "r"
   ]
  },
  {
   "cell_type": "code",
   "execution_count": 27,
   "id": "32c79670",
   "metadata": {},
   "outputs": [
    {
     "data": {
      "text/plain": [
       "'python'"
      ]
     },
     "execution_count": 27,
     "metadata": {},
     "output_type": "execute_result"
    }
   ],
   "source": [
    "r.setdefault('sub','python')"
   ]
  },
  {
   "cell_type": "code",
   "execution_count": 10,
   "id": "7edbc7d1",
   "metadata": {},
   "outputs": [],
   "source": [
    "r.update({'city':'pali'})"
   ]
  },
  {
   "cell_type": "code",
   "execution_count": 11,
   "id": "62b4919e",
   "metadata": {},
   "outputs": [
    {
     "data": {
      "text/plain": [
       "{12: None, 'name': 'naresh', 'sub': 'python', 'city': 'pali'}"
      ]
     },
     "execution_count": 11,
     "metadata": {},
     "output_type": "execute_result"
    }
   ],
   "source": [
    "r"
   ]
  },
  {
   "cell_type": "code",
   "execution_count": 14,
   "id": "73441b3c",
   "metadata": {},
   "outputs": [],
   "source": [
    "r.get('12')"
   ]
  },
  {
   "cell_type": "code",
   "execution_count": 15,
   "id": "5df264b3",
   "metadata": {},
   "outputs": [],
   "source": [
    "r.update({'12':'room'})"
   ]
  },
  {
   "cell_type": "code",
   "execution_count": 16,
   "id": "4c371b37",
   "metadata": {},
   "outputs": [
    {
     "data": {
      "text/plain": [
       "{12: None, 'name': 'naresh', 'sub': 'python', 'city': 'pali', '12': 'room'}"
      ]
     },
     "execution_count": 16,
     "metadata": {},
     "output_type": "execute_result"
    }
   ],
   "source": [
    "r"
   ]
  },
  {
   "cell_type": "code",
   "execution_count": 21,
   "id": "c55914ab",
   "metadata": {},
   "outputs": [
    {
     "ename": "NameError",
     "evalue": "name 'none' is not defined",
     "output_type": "error",
     "traceback": [
      "\u001b[1;31m---------------------------------------------------------------------------\u001b[0m",
      "\u001b[1;31mNameError\u001b[0m                                 Traceback (most recent call last)",
      "Input \u001b[1;32mIn [21]\u001b[0m, in \u001b[0;36m<cell line: 1>\u001b[1;34m()\u001b[0m\n\u001b[1;32m----> 1\u001b[0m r\u001b[38;5;241m.\u001b[39mpopitem(\u001b[43mnone\u001b[49m)\n",
      "\u001b[1;31mNameError\u001b[0m: name 'none' is not defined"
     ]
    }
   ],
   "source": [
    "r.popitem(none)"
   ]
  },
  {
   "cell_type": "code",
   "execution_count": 28,
   "id": "67c04d99",
   "metadata": {},
   "outputs": [],
   "source": [
    "r.clear()"
   ]
  },
  {
   "cell_type": "code",
   "execution_count": 29,
   "id": "4fd3b4cf",
   "metadata": {},
   "outputs": [
    {
     "data": {
      "text/plain": [
       "{}"
      ]
     },
     "execution_count": 29,
     "metadata": {},
     "output_type": "execute_result"
    }
   ],
   "source": [
    "r"
   ]
  },
  {
   "cell_type": "code",
   "execution_count": 30,
   "id": "06ee9d25",
   "metadata": {},
   "outputs": [],
   "source": [
    "r.update({'name':'Naresh','class':'python','timing':'11:30 AM'})"
   ]
  },
  {
   "cell_type": "code",
   "execution_count": 31,
   "id": "41b2199e",
   "metadata": {},
   "outputs": [
    {
     "data": {
      "text/plain": [
       "{'name': 'Naresh', 'class': 'python', 'timing': '11:30 AM'}"
      ]
     },
     "execution_count": 31,
     "metadata": {},
     "output_type": "execute_result"
    }
   ],
   "source": [
    "r"
   ]
  },
  {
   "cell_type": "code",
   "execution_count": 32,
   "id": "ce47280d",
   "metadata": {},
   "outputs": [],
   "source": [
    "r['class']='Python'"
   ]
  },
  {
   "cell_type": "code",
   "execution_count": 33,
   "id": "1191c01c",
   "metadata": {},
   "outputs": [
    {
     "data": {
      "text/plain": [
       "{'name': 'Naresh', 'class': 'Python', 'timing': '11:30 AM'}"
      ]
     },
     "execution_count": 33,
     "metadata": {},
     "output_type": "execute_result"
    }
   ],
   "source": [
    "r"
   ]
  },
  {
   "cell_type": "code",
   "execution_count": 34,
   "id": "c8adb42e",
   "metadata": {},
   "outputs": [
    {
     "data": {
      "text/plain": [
       "dict_keys(['name', 'class', 'timing'])"
      ]
     },
     "execution_count": 34,
     "metadata": {},
     "output_type": "execute_result"
    }
   ],
   "source": [
    "r.keys()"
   ]
  },
  {
   "cell_type": "code",
   "execution_count": 35,
   "id": "e14b1fcd",
   "metadata": {},
   "outputs": [
    {
     "data": {
      "text/plain": [
       "dict_values(['Naresh', 'Python', '11:30 AM'])"
      ]
     },
     "execution_count": 35,
     "metadata": {},
     "output_type": "execute_result"
    }
   ],
   "source": [
    "r.values()"
   ]
  },
  {
   "cell_type": "code",
   "execution_count": 37,
   "id": "8a95ebe2",
   "metadata": {},
   "outputs": [
    {
     "data": {
      "text/plain": [
       "('timing', '11:30 AM')"
      ]
     },
     "execution_count": 37,
     "metadata": {},
     "output_type": "execute_result"
    }
   ],
   "source": [
    "r.popitem()"
   ]
  },
  {
   "cell_type": "code",
   "execution_count": 38,
   "id": "55de4671",
   "metadata": {},
   "outputs": [],
   "source": [
    "r.update({'timing':'11:30 AM'})"
   ]
  },
  {
   "cell_type": "code",
   "execution_count": 39,
   "id": "2ea02944",
   "metadata": {},
   "outputs": [
    {
     "data": {
      "text/plain": [
       "{'name': 'Naresh', 'class': 'Python', 'timing': '11:30 AM'}"
      ]
     },
     "execution_count": 39,
     "metadata": {},
     "output_type": "execute_result"
    }
   ],
   "source": [
    "r"
   ]
  },
  {
   "cell_type": "code",
   "execution_count": 40,
   "id": "92f0ed6f",
   "metadata": {},
   "outputs": [
    {
     "data": {
      "text/plain": [
       "'11:30 AM'"
      ]
     },
     "execution_count": 40,
     "metadata": {},
     "output_type": "execute_result"
    }
   ],
   "source": [
    "r.pop('timing')"
   ]
  },
  {
   "cell_type": "code",
   "execution_count": 42,
   "id": "7b77a985",
   "metadata": {},
   "outputs": [
    {
     "data": {
      "text/plain": [
       "'Naresh'"
      ]
     },
     "execution_count": 42,
     "metadata": {},
     "output_type": "execute_result"
    }
   ],
   "source": [
    "r.pop('name')"
   ]
  },
  {
   "cell_type": "code",
   "execution_count": 43,
   "id": "77406882",
   "metadata": {},
   "outputs": [],
   "source": [
    "m=list()\n"
   ]
  },
  {
   "cell_type": "code",
   "execution_count": 44,
   "id": "f7fd97dc",
   "metadata": {},
   "outputs": [
    {
     "data": {
      "text/plain": [
       "list"
      ]
     },
     "execution_count": 44,
     "metadata": {},
     "output_type": "execute_result"
    }
   ],
   "source": [
    "type(m)"
   ]
  },
  {
   "cell_type": "code",
   "execution_count": 45,
   "id": "17becdc6",
   "metadata": {},
   "outputs": [
    {
     "data": {
      "text/plain": [
       "[]"
      ]
     },
     "execution_count": 45,
     "metadata": {},
     "output_type": "execute_result"
    }
   ],
   "source": [
    "m"
   ]
  },
  {
   "cell_type": "code",
   "execution_count": 46,
   "id": "70e2ea8d",
   "metadata": {},
   "outputs": [],
   "source": [
    "m.append(12)"
   ]
  },
  {
   "cell_type": "code",
   "execution_count": 47,
   "id": "a30c04d7",
   "metadata": {},
   "outputs": [
    {
     "data": {
      "text/plain": [
       "[12]"
      ]
     },
     "execution_count": 47,
     "metadata": {},
     "output_type": "execute_result"
    }
   ],
   "source": [
    "m"
   ]
  },
  {
   "cell_type": "code",
   "execution_count": 48,
   "id": "c51f5899",
   "metadata": {},
   "outputs": [],
   "source": [
    "m.extend([1,5,6,8,21])"
   ]
  },
  {
   "cell_type": "code",
   "execution_count": 49,
   "id": "2c7c1f57",
   "metadata": {},
   "outputs": [
    {
     "data": {
      "text/plain": [
       "[12, 1, 5, 6, 8, 21]"
      ]
     },
     "execution_count": 49,
     "metadata": {},
     "output_type": "execute_result"
    }
   ],
   "source": [
    "m"
   ]
  },
  {
   "cell_type": "code",
   "execution_count": 52,
   "id": "7861f956",
   "metadata": {},
   "outputs": [],
   "source": [
    "m.insert(1,3)"
   ]
  },
  {
   "cell_type": "markdown",
   "id": "a74cf2bf",
   "metadata": {},
   "source": []
  },
  {
   "cell_type": "code",
   "execution_count": 53,
   "id": "ddae7c4a",
   "metadata": {},
   "outputs": [
    {
     "data": {
      "text/plain": [
       "[12, 3, 1, 5, 9, 6, 8, 21]"
      ]
     },
     "execution_count": 53,
     "metadata": {},
     "output_type": "execute_result"
    }
   ],
   "source": [
    "m"
   ]
  },
  {
   "cell_type": "code",
   "execution_count": 54,
   "id": "7dc0149e",
   "metadata": {},
   "outputs": [],
   "source": [
    "m.insert(4,7)"
   ]
  },
  {
   "cell_type": "code",
   "execution_count": 55,
   "id": "c6402a33",
   "metadata": {},
   "outputs": [
    {
     "data": {
      "text/plain": [
       "[12, 3, 1, 5, 7, 9, 6, 8, 21]"
      ]
     },
     "execution_count": 55,
     "metadata": {},
     "output_type": "execute_result"
    }
   ],
   "source": [
    "m"
   ]
  },
  {
   "cell_type": "code",
   "execution_count": 56,
   "id": "56f1284e",
   "metadata": {},
   "outputs": [
    {
     "data": {
      "text/plain": [
       "21"
      ]
     },
     "execution_count": 56,
     "metadata": {},
     "output_type": "execute_result"
    }
   ],
   "source": [
    "m.pop()"
   ]
  },
  {
   "cell_type": "code",
   "execution_count": 57,
   "id": "c473064b",
   "metadata": {},
   "outputs": [
    {
     "data": {
      "text/plain": [
       "1"
      ]
     },
     "execution_count": 57,
     "metadata": {},
     "output_type": "execute_result"
    }
   ],
   "source": [
    "m.pop(2)"
   ]
  },
  {
   "cell_type": "code",
   "execution_count": 58,
   "id": "fad7141d",
   "metadata": {},
   "outputs": [],
   "source": [
    "m.remove(9)"
   ]
  },
  {
   "cell_type": "code",
   "execution_count": 59,
   "id": "504882b7",
   "metadata": {},
   "outputs": [
    {
     "data": {
      "text/plain": [
       "[12, 3, 5, 7, 6, 8]"
      ]
     },
     "execution_count": 59,
     "metadata": {},
     "output_type": "execute_result"
    }
   ],
   "source": [
    "m"
   ]
  },
  {
   "cell_type": "code",
   "execution_count": 60,
   "id": "006c5cff",
   "metadata": {},
   "outputs": [],
   "source": [
    "m.sort()"
   ]
  },
  {
   "cell_type": "code",
   "execution_count": 61,
   "id": "209e0724",
   "metadata": {},
   "outputs": [
    {
     "data": {
      "text/plain": [
       "[3, 5, 6, 7, 8, 12]"
      ]
     },
     "execution_count": 61,
     "metadata": {},
     "output_type": "execute_result"
    }
   ],
   "source": [
    "m"
   ]
  },
  {
   "cell_type": "code",
   "execution_count": 64,
   "id": "363d2a06",
   "metadata": {},
   "outputs": [],
   "source": [
    "m.sort(reverse=True)"
   ]
  },
  {
   "cell_type": "code",
   "execution_count": 65,
   "id": "02990dcc",
   "metadata": {},
   "outputs": [
    {
     "data": {
      "text/plain": [
       "[12, 8, 7, 6, 5, 3]"
      ]
     },
     "execution_count": 65,
     "metadata": {},
     "output_type": "execute_result"
    }
   ],
   "source": [
    "m"
   ]
  },
  {
   "cell_type": "code",
   "execution_count": 66,
   "id": "dc561a42",
   "metadata": {},
   "outputs": [
    {
     "data": {
      "text/plain": [
       "[3, 5, 6, 7, 8, 12]"
      ]
     },
     "execution_count": 66,
     "metadata": {},
     "output_type": "execute_result"
    }
   ],
   "source": [
    "sorted(m)"
   ]
  },
  {
   "cell_type": "code",
   "execution_count": 67,
   "id": "0ae428b6",
   "metadata": {},
   "outputs": [],
   "source": [
    "m='ramesh kumar choudhary'"
   ]
  },
  {
   "cell_type": "code",
   "execution_count": 68,
   "id": "9f6a898d",
   "metadata": {},
   "outputs": [
    {
     "data": {
      "text/plain": [
       "str"
      ]
     },
     "execution_count": 68,
     "metadata": {},
     "output_type": "execute_result"
    }
   ],
   "source": [
    "type(m)"
   ]
  },
  {
   "cell_type": "code",
   "execution_count": 69,
   "id": "ac5a6a4c",
   "metadata": {},
   "outputs": [
    {
     "data": {
      "text/plain": [
       "'Ramesh kumar choudhary'"
      ]
     },
     "execution_count": 69,
     "metadata": {},
     "output_type": "execute_result"
    }
   ],
   "source": [
    "m.capitalize()"
   ]
  },
  {
   "cell_type": "code",
   "execution_count": null,
   "id": "20e14c00",
   "metadata": {},
   "outputs": [],
   "source": [
    "m."
   ]
  }
 ],
 "metadata": {
  "kernelspec": {
   "display_name": "Python 3 (ipykernel)",
   "language": "python",
   "name": "python3"
  },
  "language_info": {
   "codemirror_mode": {
    "name": "ipython",
    "version": 3
   },
   "file_extension": ".py",
   "mimetype": "text/x-python",
   "name": "python",
   "nbconvert_exporter": "python",
   "pygments_lexer": "ipython3",
   "version": "3.9.12"
  }
 },
 "nbformat": 4,
 "nbformat_minor": 5
}
