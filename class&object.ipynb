{
 "cells": [
  {
   "cell_type": "code",
   "execution_count": 6,
   "id": "6c2b2601",
   "metadata": {},
   "outputs": [],
   "source": [
    "class Student:\n",
    "    name=None\n",
    "    def studentdetails(self):\n",
    "        return f\"You Are {self.name}, from {self.address}\""
   ]
  },
  {
   "cell_type": "code",
   "execution_count": 7,
   "id": "a03fd8dd",
   "metadata": {},
   "outputs": [],
   "source": [
    "Naresh=Student()"
   ]
  },
  {
   "cell_type": "code",
   "execution_count": 8,
   "id": "aef0990d",
   "metadata": {},
   "outputs": [],
   "source": [
    "Naresh.name='Naresh'\n",
    "Naresh.address='Rani'"
   ]
  },
  {
   "cell_type": "code",
   "execution_count": 9,
   "id": "50f2afea",
   "metadata": {},
   "outputs": [
    {
     "name": "stdout",
     "output_type": "stream",
     "text": [
      "You Are Naresh, from Rani\n"
     ]
    }
   ],
   "source": [
    "print(Naresh.studentdetails())"
   ]
  },
  {
   "cell_type": "code",
   "execution_count": 10,
   "id": "ff2be78b",
   "metadata": {},
   "outputs": [
    {
     "data": {
      "text/plain": [
       "__main__.Student"
      ]
     },
     "execution_count": 10,
     "metadata": {},
     "output_type": "execute_result"
    }
   ],
   "source": [
    "type(Naresh)"
   ]
  },
  {
   "cell_type": "code",
   "execution_count": 11,
   "id": "a44f6b3f",
   "metadata": {},
   "outputs": [],
   "source": [
    "kailash=Student()"
   ]
  },
  {
   "cell_type": "code",
   "execution_count": 18,
   "id": "45a88347",
   "metadata": {},
   "outputs": [
    {
     "name": "stdout",
     "output_type": "stream",
     "text": [
      "<class '__main__.Student'>\n"
     ]
    }
   ],
   "source": [
    "print(type(kailash))"
   ]
  },
  {
   "cell_type": "code",
   "execution_count": 17,
   "id": "e052120d",
   "metadata": {},
   "outputs": [
    {
     "ename": "NameError",
     "evalue": "name 'studentdetails' is not defined",
     "output_type": "error",
     "traceback": [
      "\u001b[1;31m---------------------------------------------------------------------------\u001b[0m",
      "\u001b[1;31mNameError\u001b[0m                                 Traceback (most recent call last)",
      "Input \u001b[1;32mIn [17]\u001b[0m, in \u001b[0;36m<cell line: 1>\u001b[1;34m()\u001b[0m\n\u001b[1;32m----> 1\u001b[0m \u001b[38;5;28mtype\u001b[39m(\u001b[43mstudentdetails\u001b[49m)\n",
      "\u001b[1;31mNameError\u001b[0m: name 'studentdetails' is not defined"
     ]
    }
   ],
   "source": [
    "type(studentdetails)"
   ]
  },
  {
   "cell_type": "code",
   "execution_count": 19,
   "id": "99e6e9df",
   "metadata": {},
   "outputs": [],
   "source": [
    "d=\"fnsdkf\""
   ]
  },
  {
   "cell_type": "code",
   "execution_count": 20,
   "id": "e5514adb",
   "metadata": {},
   "outputs": [
    {
     "name": "stdout",
     "output_type": "stream",
     "text": [
      "<class 'str'>\n"
     ]
    }
   ],
   "source": [
    "print(type(d))"
   ]
  },
  {
   "cell_type": "code",
   "execution_count": 52,
   "id": "d8608666",
   "metadata": {},
   "outputs": [],
   "source": [
    "class Employee:\n",
    "    no_of_leaves=8\n",
    "    \n",
    "    def __init__(self,aname,aaddress,amobile=\"00000\"):\n",
    "        self.name=aname\n",
    "        self.address=aaddress\n",
    "        self.mobile=amobile\n",
    "    \n",
    "    def empdetails(self):\n",
    "        return f\"You Are {self.name}, from {self.address}, contact no is {self.mobile}\""
   ]
  },
  {
   "cell_type": "code",
   "execution_count": 22,
   "id": "dc19d8d7",
   "metadata": {},
   "outputs": [],
   "source": [
    "naresh=Employee()"
   ]
  },
  {
   "cell_type": "code",
   "execution_count": 23,
   "id": "9520131f",
   "metadata": {},
   "outputs": [],
   "source": [
    "naresh.name='Naresh'\n",
    "naresh.address='Rani'"
   ]
  },
  {
   "cell_type": "code",
   "execution_count": 24,
   "id": "7609a151",
   "metadata": {},
   "outputs": [
    {
     "name": "stdout",
     "output_type": "stream",
     "text": [
      "You Are Naresh, from Rani\n"
     ]
    }
   ],
   "source": [
    "print(naresh.empdetails())"
   ]
  },
  {
   "cell_type": "code",
   "execution_count": 62,
   "id": "86f3327c",
   "metadata": {},
   "outputs": [],
   "source": [
    "kailash=Employee(\"kailash\",\"Rani\",\"98562556\")"
   ]
  },
  {
   "cell_type": "code",
   "execution_count": 63,
   "id": "c7155fa0",
   "metadata": {},
   "outputs": [
    {
     "name": "stdout",
     "output_type": "stream",
     "text": [
      "You Are kailash, from Rani, contact no is 98562556\n"
     ]
    }
   ],
   "source": [
    "print(kailash.empdetails())"
   ]
  },
  {
   "cell_type": "code",
   "execution_count": null,
   "id": "5f377914",
   "metadata": {},
   "outputs": [],
   "source": []
  },
  {
   "cell_type": "code",
   "execution_count": null,
   "id": "7048f733",
   "metadata": {},
   "outputs": [],
   "source": []
  }
 ],
 "metadata": {
  "kernelspec": {
   "display_name": "Python 3 (ipykernel)",
   "language": "python",
   "name": "python3"
  },
  "language_info": {
   "codemirror_mode": {
    "name": "ipython",
    "version": 3
   },
   "file_extension": ".py",
   "mimetype": "text/x-python",
   "name": "python",
   "nbconvert_exporter": "python",
   "pygments_lexer": "ipython3",
   "version": "3.9.12"
  }
 },
 "nbformat": 4,
 "nbformat_minor": 5
}
