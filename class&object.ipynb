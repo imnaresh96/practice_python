{
 "cells": [
  {
   "cell_type": "code",
   "execution_count": 1,
   "id": "07c7bb14",
   "metadata": {},
   "outputs": [],
   "source": [
    "class Student:\n",
    "    name=None\n",
    "    def studentdetails():\n",
    "        return f\"You Are {self.name}, from {self.address}\""
   ]
  },
  {
   "cell_type": "code",
   "execution_count": 3,
   "id": "1a5d21f5",
   "metadata": {},
   "outputs": [],
   "source": [
    "Naresh=Student()"
   ]
  },
  {
   "cell_type": "code",
   "execution_count": 4,
   "id": "469a5813",
   "metadata": {},
   "outputs": [],
   "source": [
    "Naresh.name='Naresh'\n",
    "Naresh.address='Rani'"
   ]
  },
  {
   "cell_type": "code",
   "execution_count": null,
   "id": "f84f391b",
   "metadata": {},
   "outputs": [],
   "source": [
    "print(Naresh.)"
   ]
  }
 ],
 "metadata": {
  "kernelspec": {
   "display_name": "Python 3 (ipykernel)",
   "language": "python",
   "name": "python3"
  },
  "language_info": {
   "codemirror_mode": {
    "name": "ipython",
    "version": 3
   },
   "file_extension": ".py",
   "mimetype": "text/x-python",
   "name": "python",
   "nbconvert_exporter": "python",
   "pygments_lexer": "ipython3",
   "version": "3.9.12"
  }
 },
 "nbformat": 4,
 "nbformat_minor": 5
}
