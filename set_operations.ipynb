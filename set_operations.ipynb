{
 "cells": [
  {
   "cell_type": "code",
   "execution_count": 3,
   "id": "8d7b5495",
   "metadata": {},
   "outputs": [],
   "source": [
    "a = {19, 22, 24, 20, 25, 26}\n",
    "b = {19, 22, 20, 25, 26, 24, 28, 27}"
   ]
  },
  {
   "cell_type": "markdown",
   "id": "1e3a2f65",
   "metadata": {},
   "source": [
    "### Join A and B"
   ]
  },
  {
   "cell_type": "code",
   "execution_count": 13,
   "id": "37482ad7",
   "metadata": {},
   "outputs": [
    {
     "data": {
      "text/plain": [
       "False"
      ]
     },
     "execution_count": 13,
     "metadata": {},
     "output_type": "execute_result"
    }
   ],
   "source": [
    "a = {19, 22, 24, 20, 25, 26}\n",
    "b = {19, 22, 20, 25, 26, 24, 28, 27}\n",
    "a.isdisjoint(b)"
   ]
  },
  {
   "cell_type": "markdown",
   "id": "c007c8be",
   "metadata": {},
   "source": [
    "### Find A intersection B"
   ]
  },
  {
   "cell_type": "code",
   "execution_count": 7,
   "id": "fe507ff7",
   "metadata": {},
   "outputs": [
    {
     "name": "stdout",
     "output_type": "stream",
     "text": [
      "{19, 20, 22, 24, 25, 26}\n",
      "{19, 20, 22, 24, 25, 26}\n",
      "{19, 20, 22, 24, 25, 26}\n"
     ]
    }
   ],
   "source": [
    "a = {19, 22, 24, 20, 25, 26}\n",
    "b = {19, 22, 20, 25, 26, 24, 28, 27}\n",
    "print(a&b) # intersection using thought operator\n",
    "print(a.intersection(b)) #intersection using thought method\n",
    "print(b.intersection(a)) #intersection using thought method"
   ]
  },
  {
   "cell_type": "markdown",
   "id": "d997381d",
   "metadata": {},
   "source": [
    "### Is A subset of B"
   ]
  },
  {
   "cell_type": "code",
   "execution_count": 9,
   "id": "19aef9d8",
   "metadata": {},
   "outputs": [
    {
     "name": "stdout",
     "output_type": "stream",
     "text": [
      "True\n"
     ]
    }
   ],
   "source": [
    "a = {19, 22, 24, 20, 25, 26}\n",
    "b = {19, 22, 20, 25, 26, 24, 28, 27}\n",
    "print(a.issubset(b))"
   ]
  },
  {
   "cell_type": "markdown",
   "id": "f5a49b9d",
   "metadata": {},
   "source": [
    "### Are A and B disjoint sets"
   ]
  },
  {
   "cell_type": "code",
   "execution_count": 10,
   "id": "7b2cabcd",
   "metadata": {},
   "outputs": [
    {
     "name": "stdout",
     "output_type": "stream",
     "text": [
      "False\n"
     ]
    }
   ],
   "source": [
    "a = {19, 22, 24, 20, 25, 26}\n",
    "b = {19, 22, 20, 25, 26, 24, 28, 27}\n",
    "print(a.isdisjoint(b))"
   ]
  },
  {
   "cell_type": "markdown",
   "id": "d977d08b",
   "metadata": {},
   "source": [
    "### Join A with B and B with A"
   ]
  },
  {
   "cell_type": "code",
   "execution_count": 14,
   "id": "966e6550",
   "metadata": {},
   "outputs": [
    {
     "name": "stdout",
     "output_type": "stream",
     "text": [
      "False\n",
      "False\n"
     ]
    }
   ],
   "source": [
    "a = {19, 22, 24, 20, 25, 26}\n",
    "b = {19, 22, 20, 25, 26, 24, 28, 27}\n",
    "print(a.isdisjoint(b))\n",
    "print(b.isdisjoint(a))"
   ]
  },
  {
   "cell_type": "markdown",
   "id": "670440bd",
   "metadata": {},
   "source": [
    "### What is the symmetric difference between A and B"
   ]
  },
  {
   "cell_type": "code",
   "execution_count": 15,
   "id": "2b385c7a",
   "metadata": {},
   "outputs": [
    {
     "data": {
      "text/plain": [
       "{27, 28}"
      ]
     },
     "execution_count": 15,
     "metadata": {},
     "output_type": "execute_result"
    }
   ],
   "source": [
    "a = {19, 22, 24, 20, 25, 26}\n",
    "b = {19, 22, 20, 25, 26, 24, 28, 27}\n",
    "a.symmetric_difference(b)"
   ]
  },
  {
   "cell_type": "markdown",
   "id": "ea481afb",
   "metadata": {},
   "source": [
    "### Delete the sets completely"
   ]
  },
  {
   "cell_type": "code",
   "execution_count": 18,
   "id": "a62537b3",
   "metadata": {},
   "outputs": [
    {
     "name": "stdout",
     "output_type": "stream",
     "text": [
      "set()\n",
      "set()\n"
     ]
    }
   ],
   "source": [
    "a = {19, 22, 24, 20, 25, 26}\n",
    "b = {19, 22, 20, 25, 26, 24, 28, 27}\n",
    "a.clear()\n",
    "b.clear()\n",
    "print(a)\n",
    "print(b)"
   ]
  },
  {
   "cell_type": "code",
   "execution_count": null,
   "id": "f0b8619c",
   "metadata": {},
   "outputs": [],
   "source": []
  }
 ],
 "metadata": {
  "kernelspec": {
   "display_name": "Python 3 (ipykernel)",
   "language": "python",
   "name": "python3"
  },
  "language_info": {
   "codemirror_mode": {
    "name": "ipython",
    "version": 3
   },
   "file_extension": ".py",
   "mimetype": "text/x-python",
   "name": "python",
   "nbconvert_exporter": "python",
   "pygments_lexer": "ipython3",
   "version": "3.9.12"
  }
 },
 "nbformat": 4,
 "nbformat_minor": 5
}
