{
 "cells": [
  {
   "cell_type": "markdown",
   "id": "7a671737",
   "metadata": {},
   "source": [
    "# list"
   ]
  },
  {
   "cell_type": "markdown",
   "id": "f4eb7167",
   "metadata": {},
   "source": [
    "## 1. define list"
   ]
  },
  {
   "cell_type": "code",
   "execution_count": 41,
   "id": "0779af93",
   "metadata": {},
   "outputs": [],
   "source": [
    "l=list()\n",
    "k=[]"
   ]
  },
  {
   "cell_type": "code",
   "execution_count": 42,
   "id": "91309b1c",
   "metadata": {},
   "outputs": [
    {
     "data": {
      "text/plain": [
       "list"
      ]
     },
     "execution_count": 42,
     "metadata": {},
     "output_type": "execute_result"
    }
   ],
   "source": [
    "type(l)"
   ]
  },
  {
   "cell_type": "code",
   "execution_count": 43,
   "id": "2f1addb5",
   "metadata": {},
   "outputs": [
    {
     "data": {
      "text/plain": [
       "list"
      ]
     },
     "execution_count": 43,
     "metadata": {},
     "output_type": "execute_result"
    }
   ],
   "source": [
    "type(k)"
   ]
  },
  {
   "cell_type": "markdown",
   "id": "2298f801",
   "metadata": {},
   "source": [
    "## 2. store value & data to a list"
   ]
  },
  {
   "cell_type": "markdown",
   "id": "072531b7",
   "metadata": {},
   "source": [
    "### append()\n",
    "#### one by one value (data) store in list & data (value)  store at end of list"
   ]
  },
  {
   "cell_type": "code",
   "execution_count": 44,
   "id": "ef794aac",
   "metadata": {},
   "outputs": [],
   "source": [
    "l.append(5) #insert a value in list"
   ]
  },
  {
   "cell_type": "code",
   "execution_count": 45,
   "id": "d50f330e",
   "metadata": {},
   "outputs": [
    {
     "data": {
      "text/plain": [
       "[5]"
      ]
     },
     "execution_count": 45,
     "metadata": {},
     "output_type": "execute_result"
    }
   ],
   "source": [
    "l"
   ]
  },
  {
   "cell_type": "code",
   "execution_count": 46,
   "id": "1318ff1b",
   "metadata": {},
   "outputs": [],
   "source": [
    "l.append(9)"
   ]
  },
  {
   "cell_type": "code",
   "execution_count": 47,
   "id": "7018bde9",
   "metadata": {},
   "outputs": [
    {
     "name": "stdout",
     "output_type": "stream",
     "text": [
      "[5, 9]\n"
     ]
    }
   ],
   "source": [
    "print(l)"
   ]
  },
  {
   "cell_type": "markdown",
   "id": "5ee1fc08",
   "metadata": {},
   "source": [
    "### extend()\n",
    "#### at a time one & multiple value store in list, value store end of list\n",
    "#### value insert in list formet"
   ]
  },
  {
   "cell_type": "code",
   "execution_count": 48,
   "id": "754386cb",
   "metadata": {},
   "outputs": [],
   "source": [
    "l.extend([5,4,8])"
   ]
  },
  {
   "cell_type": "code",
   "execution_count": 49,
   "id": "84431145",
   "metadata": {},
   "outputs": [
    {
     "name": "stdout",
     "output_type": "stream",
     "text": [
      "[5, 9, 5, 4, 8]\n"
     ]
    }
   ],
   "source": [
    "print(l)"
   ]
  },
  {
   "cell_type": "code",
   "execution_count": 50,
   "id": "3720e736",
   "metadata": {},
   "outputs": [],
   "source": [
    "l.extend([0])"
   ]
  },
  {
   "cell_type": "code",
   "execution_count": 51,
   "id": "a7525816",
   "metadata": {},
   "outputs": [
    {
     "name": "stdout",
     "output_type": "stream",
     "text": [
      "[5, 9, 5, 4, 8, 0]\n"
     ]
    }
   ],
   "source": [
    "print(l)"
   ]
  },
  {
   "cell_type": "markdown",
   "id": "07614c82",
   "metadata": {},
   "source": [
    "### insert('index_number','data')\n",
    "#### its use to store data at particular index number\n",
    "#### at a time one value store "
   ]
  },
  {
   "cell_type": "code",
   "execution_count": 52,
   "id": "d9e2b9ec",
   "metadata": {},
   "outputs": [],
   "source": [
    "l.insert(2,7)"
   ]
  },
  {
   "cell_type": "code",
   "execution_count": 53,
   "id": "d827f98d",
   "metadata": {},
   "outputs": [
    {
     "name": "stdout",
     "output_type": "stream",
     "text": [
      "[5, 9, 7, 5, 4, 8, 0]\n"
     ]
    }
   ],
   "source": [
    "print(l)"
   ]
  },
  {
   "cell_type": "markdown",
   "id": "22d0b0f7",
   "metadata": {},
   "source": [
    "## 3. remove & delete data from list"
   ]
  },
  {
   "cell_type": "markdown",
   "id": "7c901cf0",
   "metadata": {},
   "source": [
    "### pop()\n",
    "#### pop() method bydefault delete data form end of list\n",
    "### pop(index_number)\n",
    "#### its use to delete data from particular index number\n",
    "#### if index number in out of range raised an error 'IndexError'"
   ]
  },
  {
   "cell_type": "code",
   "execution_count": 54,
   "id": "a440f672",
   "metadata": {},
   "outputs": [
    {
     "data": {
      "text/plain": [
       "0"
      ]
     },
     "execution_count": 54,
     "metadata": {},
     "output_type": "execute_result"
    }
   ],
   "source": [
    "l.pop()"
   ]
  },
  {
   "cell_type": "code",
   "execution_count": 55,
   "id": "76fdfb04",
   "metadata": {},
   "outputs": [
    {
     "data": {
      "text/plain": [
       "9"
      ]
     },
     "execution_count": 55,
     "metadata": {},
     "output_type": "execute_result"
    }
   ],
   "source": [
    "l.pop(1)"
   ]
  },
  {
   "cell_type": "code",
   "execution_count": 56,
   "id": "38942427",
   "metadata": {},
   "outputs": [
    {
     "ename": "IndexError",
     "evalue": "pop index out of range",
     "output_type": "error",
     "traceback": [
      "\u001b[1;31m---------------------------------------------------------------------------\u001b[0m",
      "\u001b[1;31mIndexError\u001b[0m                                Traceback (most recent call last)",
      "Input \u001b[1;32mIn [56]\u001b[0m, in \u001b[0;36m<cell line: 1>\u001b[1;34m()\u001b[0m\n\u001b[1;32m----> 1\u001b[0m \u001b[43ml\u001b[49m\u001b[38;5;241;43m.\u001b[39;49m\u001b[43mpop\u001b[49m\u001b[43m(\u001b[49m\u001b[38;5;241;43m9\u001b[39;49m\u001b[43m)\u001b[49m\n",
      "\u001b[1;31mIndexError\u001b[0m: pop index out of range"
     ]
    }
   ],
   "source": [
    "l.pop(9)"
   ]
  },
  {
   "cell_type": "markdown",
   "id": "531658f4",
   "metadata": {},
   "source": [
    "### remove(data) ----> insert data to remove from list\n",
    "#### if  insert data is not available in list raised an error 'ValueError'"
   ]
  },
  {
   "cell_type": "code",
   "execution_count": 57,
   "id": "08b1bdd1",
   "metadata": {},
   "outputs": [],
   "source": [
    "l.remove(5)"
   ]
  },
  {
   "cell_type": "code",
   "execution_count": 58,
   "id": "aeade5be",
   "metadata": {},
   "outputs": [
    {
     "name": "stdout",
     "output_type": "stream",
     "text": [
      "[7, 5, 4, 8]\n"
     ]
    }
   ],
   "source": [
    "print(l)"
   ]
  },
  {
   "cell_type": "code",
   "execution_count": 59,
   "id": "89479b80",
   "metadata": {},
   "outputs": [
    {
     "ename": "ValueError",
     "evalue": "list.remove(x): x not in list",
     "output_type": "error",
     "traceback": [
      "\u001b[1;31m---------------------------------------------------------------------------\u001b[0m",
      "\u001b[1;31mValueError\u001b[0m                                Traceback (most recent call last)",
      "Input \u001b[1;32mIn [59]\u001b[0m, in \u001b[0;36m<cell line: 1>\u001b[1;34m()\u001b[0m\n\u001b[1;32m----> 1\u001b[0m \u001b[43ml\u001b[49m\u001b[38;5;241;43m.\u001b[39;49m\u001b[43mremove\u001b[49m\u001b[43m(\u001b[49m\u001b[38;5;241;43m9\u001b[39;49m\u001b[43m)\u001b[49m\n",
      "\u001b[1;31mValueError\u001b[0m: list.remove(x): x not in list"
     ]
    }
   ],
   "source": [
    "l.remove(9)"
   ]
  },
  {
   "cell_type": "code",
   "execution_count": 60,
   "id": "a7c6831b",
   "metadata": {},
   "outputs": [],
   "source": [
    "l.remove(4)"
   ]
  },
  {
   "cell_type": "markdown",
   "id": "01c8cd2f",
   "metadata": {},
   "source": [
    "## 4. sorting\n",
    "### sort()\n",
    "#### sort() method use to arrange data in ascending to descending order"
   ]
  },
  {
   "cell_type": "code",
   "execution_count": 3,
   "id": "4425333b",
   "metadata": {},
   "outputs": [],
   "source": [
    "l=[8,4,5,6,9,8,5,2]"
   ]
  },
  {
   "cell_type": "code",
   "execution_count": 4,
   "id": "96b6e8f8",
   "metadata": {},
   "outputs": [],
   "source": [
    "l.sort()"
   ]
  },
  {
   "cell_type": "code",
   "execution_count": 5,
   "id": "41bfe7ba",
   "metadata": {},
   "outputs": [
    {
     "name": "stdout",
     "output_type": "stream",
     "text": [
      "[2, 4, 5, 5, 6, 8, 8, 9]\n"
     ]
    }
   ],
   "source": [
    "print(l)"
   ]
  },
  {
   "cell_type": "markdown",
   "id": "3fd0626c",
   "metadata": {},
   "source": [
    "### sort(reverse=True/False)\n",
    "#### its use to  arrange data in ascending to descending order or descending to ascending order"
   ]
  },
  {
   "cell_type": "code",
   "execution_count": 6,
   "id": "479efed4",
   "metadata": {},
   "outputs": [],
   "source": [
    "l.sort(reverse=True)"
   ]
  },
  {
   "cell_type": "code",
   "execution_count": 7,
   "id": "276138d2",
   "metadata": {},
   "outputs": [
    {
     "name": "stdout",
     "output_type": "stream",
     "text": [
      "[9, 8, 8, 6, 5, 5, 4, 2]\n"
     ]
    }
   ],
   "source": [
    "print(l)"
   ]
  },
  {
   "cell_type": "code",
   "execution_count": 8,
   "id": "06743720",
   "metadata": {},
   "outputs": [],
   "source": [
    "l.sort(reverse=False)"
   ]
  },
  {
   "cell_type": "code",
   "execution_count": 9,
   "id": "695bb5cb",
   "metadata": {},
   "outputs": [
    {
     "name": "stdout",
     "output_type": "stream",
     "text": [
      "[2, 4, 5, 5, 6, 8, 8, 9]\n"
     ]
    }
   ],
   "source": [
    "print(l)"
   ]
  },
  {
   "cell_type": "markdown",
   "id": "f7c27f7c",
   "metadata": {},
   "source": [
    "###  index() , count() , clear() , copy() "
   ]
  },
  {
   "cell_type": "code",
   "execution_count": null,
   "id": "0f0058bd",
   "metadata": {},
   "outputs": [],
   "source": [
    "#index() --> find index number of data & value"
   ]
  },
  {
   "cell_type": "code",
   "execution_count": 12,
   "id": "c2f5fa8b",
   "metadata": {},
   "outputs": [
    {
     "data": {
      "text/plain": [
       "5"
      ]
     },
     "execution_count": 12,
     "metadata": {},
     "output_type": "execute_result"
    }
   ],
   "source": [
    "l.index(8)"
   ]
  },
  {
   "cell_type": "code",
   "execution_count": 13,
   "id": "1e828dc7",
   "metadata": {},
   "outputs": [],
   "source": [
    "#count()--> count a particular items & raise number of item"
   ]
  },
  {
   "cell_type": "code",
   "execution_count": 14,
   "id": "d950862d",
   "metadata": {},
   "outputs": [
    {
     "data": {
      "text/plain": [
       "2"
      ]
     },
     "execution_count": 14,
     "metadata": {},
     "output_type": "execute_result"
    }
   ],
   "source": [
    "l.count(8)"
   ]
  },
  {
   "cell_type": "code",
   "execution_count": null,
   "id": "11b24994",
   "metadata": {},
   "outputs": [],
   "source": [
    "#copy--> copy items of list & store item to another list"
   ]
  },
  {
   "cell_type": "code",
   "execution_count": 16,
   "id": "c90470bd",
   "metadata": {},
   "outputs": [],
   "source": [
    "k=l.copy()"
   ]
  },
  {
   "cell_type": "code",
   "execution_count": 17,
   "id": "1293f5ac",
   "metadata": {},
   "outputs": [
    {
     "name": "stdout",
     "output_type": "stream",
     "text": [
      "[2, 4, 5, 5, 6, 8, 8, 9]\n"
     ]
    }
   ],
   "source": [
    "print(k)"
   ]
  },
  {
   "cell_type": "code",
   "execution_count": 15,
   "id": "43c19d7e",
   "metadata": {},
   "outputs": [],
   "source": [
    "#clear()--> it's use to clear(empty) a list"
   ]
  },
  {
   "cell_type": "code",
   "execution_count": 18,
   "id": "a1a614a2",
   "metadata": {},
   "outputs": [],
   "source": [
    "l.clear()"
   ]
  },
  {
   "cell_type": "code",
   "execution_count": 19,
   "id": "193f5dc5",
   "metadata": {},
   "outputs": [
    {
     "name": "stdout",
     "output_type": "stream",
     "text": [
      "[]\n"
     ]
    }
   ],
   "source": [
    "print(l)"
   ]
  },
  {
   "cell_type": "code",
   "execution_count": null,
   "id": "201b3e0a",
   "metadata": {},
   "outputs": [],
   "source": []
  },
  {
   "cell_type": "markdown",
   "id": "3a9cb380",
   "metadata": {},
   "source": [
    "# Tuple"
   ]
  },
  {
   "cell_type": "markdown",
   "id": "6d518e34",
   "metadata": {},
   "source": [
    "## Define Tuple\n",
    "###  Tuple is immutable (can't be change)\n",
    "### Tuple have only 2 method\n",
    "### count() , index()"
   ]
  },
  {
   "cell_type": "code",
   "execution_count": 32,
   "id": "1e81a148",
   "metadata": {},
   "outputs": [],
   "source": [
    "t=tuple()\n"
   ]
  },
  {
   "cell_type": "code",
   "execution_count": 33,
   "id": "94b47d10",
   "metadata": {},
   "outputs": [
    {
     "data": {
      "text/plain": [
       "tuple"
      ]
     },
     "execution_count": 33,
     "metadata": {},
     "output_type": "execute_result"
    }
   ],
   "source": [
    "type(t)"
   ]
  },
  {
   "cell_type": "code",
   "execution_count": 34,
   "id": "11a2e30e",
   "metadata": {},
   "outputs": [],
   "source": [
    "f=()"
   ]
  },
  {
   "cell_type": "code",
   "execution_count": 35,
   "id": "f2972131",
   "metadata": {},
   "outputs": [
    {
     "data": {
      "text/plain": [
       "tuple"
      ]
     },
     "execution_count": 35,
     "metadata": {},
     "output_type": "execute_result"
    }
   ],
   "source": [
    "type(f)"
   ]
  },
  {
   "cell_type": "code",
   "execution_count": 36,
   "id": "75015dff",
   "metadata": {},
   "outputs": [],
   "source": [
    "t=(5,4,6,8 ,'n','r','d',2,9)"
   ]
  },
  {
   "cell_type": "code",
   "execution_count": 37,
   "id": "7dd8b5cf",
   "metadata": {},
   "outputs": [
    {
     "name": "stdout",
     "output_type": "stream",
     "text": [
      "(5, 4, 6, 8, 'n', 'r', 'd', 2, 9)\n"
     ]
    }
   ],
   "source": [
    "print(t)"
   ]
  },
  {
   "cell_type": "code",
   "execution_count": 38,
   "id": "a3992544",
   "metadata": {},
   "outputs": [
    {
     "data": {
      "text/plain": [
       "1"
      ]
     },
     "execution_count": 38,
     "metadata": {},
     "output_type": "execute_result"
    }
   ],
   "source": [
    "t.count(6)"
   ]
  },
  {
   "cell_type": "code",
   "execution_count": 39,
   "id": "517c8e0c",
   "metadata": {},
   "outputs": [
    {
     "data": {
      "text/plain": [
       "1"
      ]
     },
     "execution_count": 39,
     "metadata": {},
     "output_type": "execute_result"
    }
   ],
   "source": [
    "t.index(4)"
   ]
  },
  {
   "cell_type": "markdown",
   "id": "66985760",
   "metadata": {},
   "source": [
    "# dictionary\n",
    "#### dictionary is pair of key & values\n",
    "\n",
    "## define dictionary"
   ]
  },
  {
   "cell_type": "code",
   "execution_count": 70,
   "id": "dd0dbd3c",
   "metadata": {},
   "outputs": [],
   "source": [
    "d={}"
   ]
  },
  {
   "cell_type": "code",
   "execution_count": 51,
   "id": "ccf577ae",
   "metadata": {},
   "outputs": [
    {
     "data": {
      "text/plain": [
       "dict"
      ]
     },
     "execution_count": 51,
     "metadata": {},
     "output_type": "execute_result"
    }
   ],
   "source": [
    "type(d)"
   ]
  },
  {
   "cell_type": "code",
   "execution_count": 54,
   "id": "85edc788",
   "metadata": {},
   "outputs": [],
   "source": [
    "d=dict()"
   ]
  },
  {
   "cell_type": "code",
   "execution_count": 55,
   "id": "7f9fadc0",
   "metadata": {},
   "outputs": [
    {
     "data": {
      "text/plain": [
       "dict"
      ]
     },
     "execution_count": 55,
     "metadata": {},
     "output_type": "execute_result"
    }
   ],
   "source": [
    "type(d)"
   ]
  },
  {
   "cell_type": "markdown",
   "id": "8d9e0e94",
   "metadata": {},
   "source": [
    "## insert value in dictionary \n",
    "\n",
    "### setdefault ( ' key ' , ' value ' ) bydefault value = ' None '\n",
    "#### at a time only one pair ( key , value ) insert "
   ]
  },
  {
   "cell_type": "code",
   "execution_count": 71,
   "id": "610c3962",
   "metadata": {},
   "outputs": [
    {
     "data": {
      "text/plain": [
       "'Naresh'"
      ]
     },
     "execution_count": 71,
     "metadata": {},
     "output_type": "execute_result"
    }
   ],
   "source": [
    "d.setdefault('name','Naresh')"
   ]
  },
  {
   "cell_type": "code",
   "execution_count": 72,
   "id": "1472e7e5",
   "metadata": {},
   "outputs": [],
   "source": [
    "d.setdefault('Address')"
   ]
  },
  {
   "cell_type": "code",
   "execution_count": 73,
   "id": "260f0dec",
   "metadata": {},
   "outputs": [
    {
     "name": "stdout",
     "output_type": "stream",
     "text": [
      "{'name': 'Naresh', 'Address': None}\n"
     ]
    }
   ],
   "source": [
    "print(d)"
   ]
  },
  {
   "cell_type": "markdown",
   "id": "5d2ce9cf",
   "metadata": {},
   "source": [
    "### update( {' key' : 'value','key' : 'value '})\n",
    "#### at a time multi pair insert in dictionary "
   ]
  },
  {
   "cell_type": "code",
   "execution_count": 74,
   "id": "ca78f950",
   "metadata": {},
   "outputs": [],
   "source": [
    "d.update({'roll num': 256,'subject':'Python'})"
   ]
  },
  {
   "cell_type": "code",
   "execution_count": 75,
   "id": "3c433359",
   "metadata": {},
   "outputs": [
    {
     "name": "stdout",
     "output_type": "stream",
     "text": [
      "{'name': 'Naresh', 'Address': None, 'roll num': 256, 'subject': 'Python'}\n"
     ]
    }
   ],
   "source": [
    "print(d)"
   ]
  },
  {
   "cell_type": "code",
   "execution_count": 76,
   "id": "b1d15e5b",
   "metadata": {},
   "outputs": [
    {
     "name": "stdout",
     "output_type": "stream",
     "text": [
      "['__class__', '__class_getitem__', '__contains__', '__delattr__', '__delitem__', '__dir__', '__doc__', '__eq__', '__format__', '__ge__', '__getattribute__', '__getitem__', '__gt__', '__hash__', '__init__', '__init_subclass__', '__ior__', '__iter__', '__le__', '__len__', '__lt__', '__ne__', '__new__', '__or__', '__reduce__', '__reduce_ex__', '__repr__', '__reversed__', '__ror__', '__setattr__', '__setitem__', '__sizeof__', '__str__', '__subclasshook__', 'clear', 'copy', 'fromkeys', 'get', 'items', 'keys', 'pop', 'popitem', 'setdefault', 'update', 'values']\n"
     ]
    }
   ],
   "source": [
    "print(dir(d))"
   ]
  },
  {
   "cell_type": "markdown",
   "id": "a22c6557",
   "metadata": {},
   "source": [
    "## Remove & Delete pair from dictionary\n",
    "### pop('key') remove pair from dictionary"
   ]
  },
  {
   "cell_type": "code",
   "execution_count": 77,
   "id": "302b223d",
   "metadata": {},
   "outputs": [],
   "source": [
    "d.pop('Address')"
   ]
  },
  {
   "cell_type": "code",
   "execution_count": 78,
   "id": "1a935478",
   "metadata": {},
   "outputs": [
    {
     "name": "stdout",
     "output_type": "stream",
     "text": [
      "{'name': 'Naresh', 'roll num': 256, 'subject': 'Python'}\n"
     ]
    }
   ],
   "source": [
    "print(d)"
   ]
  },
  {
   "cell_type": "markdown",
   "id": "163e1d98",
   "metadata": {},
   "source": [
    "## popitem()\n",
    "#### its use to remove random pair from ends of dictionary "
   ]
  },
  {
   "cell_type": "code",
   "execution_count": 79,
   "id": "babaaddb",
   "metadata": {},
   "outputs": [
    {
     "data": {
      "text/plain": [
       "('subject', 'Python')"
      ]
     },
     "execution_count": 79,
     "metadata": {},
     "output_type": "execute_result"
    }
   ],
   "source": [
    "d.popitem()"
   ]
  },
  {
   "cell_type": "code",
   "execution_count": 80,
   "id": "2ee21a95",
   "metadata": {},
   "outputs": [
    {
     "name": "stdout",
     "output_type": "stream",
     "text": [
      "{'name': 'Naresh', 'roll num': 256}\n"
     ]
    }
   ],
   "source": [
    "print(d)"
   ]
  },
  {
   "cell_type": "markdown",
   "id": "ccd8daa2",
   "metadata": {},
   "source": [
    "### clear()\n",
    "#### delete or empty dictionary "
   ]
  },
  {
   "cell_type": "code",
   "execution_count": null,
   "id": "3f557bdd",
   "metadata": {},
   "outputs": [],
   "source": []
  },
  {
   "cell_type": "code",
   "execution_count": null,
   "id": "86efd09c",
   "metadata": {},
   "outputs": [],
   "source": []
  },
  {
   "cell_type": "code",
   "execution_count": null,
   "id": "cc436c86",
   "metadata": {},
   "outputs": [],
   "source": []
  },
  {
   "cell_type": "markdown",
   "id": "efbaca61",
   "metadata": {},
   "source": [
    "## keys() & values()\n",
    "### keys()--->its use to show all available keys from dictionary\n",
    "### values()---> its use to show all available values from dictionary"
   ]
  },
  {
   "cell_type": "code",
   "execution_count": 81,
   "id": "47a2f4e6",
   "metadata": {},
   "outputs": [
    {
     "data": {
      "text/plain": [
       "dict_keys(['name', 'roll num'])"
      ]
     },
     "execution_count": 81,
     "metadata": {},
     "output_type": "execute_result"
    }
   ],
   "source": [
    "d.keys()"
   ]
  },
  {
   "cell_type": "code",
   "execution_count": 82,
   "id": "8b6ae693",
   "metadata": {},
   "outputs": [
    {
     "data": {
      "text/plain": [
       "dict_values(['Naresh', 256])"
      ]
     },
     "execution_count": 82,
     "metadata": {},
     "output_type": "execute_result"
    }
   ],
   "source": [
    "d.values()"
   ]
  },
  {
   "cell_type": "markdown",
   "id": "57dc185d",
   "metadata": {},
   "source": [
    "## items( ) \n",
    "### its use to see available all pair in list (tuple) form"
   ]
  },
  {
   "cell_type": "code",
   "execution_count": 87,
   "id": "638b8f3b",
   "metadata": {},
   "outputs": [
    {
     "data": {
      "text/plain": [
       "dict_items([('name', 'Naresh'), ('roll num', 256)])"
      ]
     },
     "execution_count": 87,
     "metadata": {},
     "output_type": "execute_result"
    }
   ],
   "source": [
    "d.items()"
   ]
  },
  {
   "cell_type": "code",
   "execution_count": 88,
   "id": "3fbde074",
   "metadata": {},
   "outputs": [
    {
     "data": {
      "text/plain": [
       "'Naresh'"
      ]
     },
     "execution_count": 88,
     "metadata": {},
     "output_type": "execute_result"
    }
   ],
   "source": [
    "d.get('name')"
   ]
  },
  {
   "cell_type": "code",
   "execution_count": 94,
   "id": "11e257ff",
   "metadata": {},
   "outputs": [],
   "source": [
    "d['class']='Python'"
   ]
  },
  {
   "cell_type": "code",
   "execution_count": 95,
   "id": "c0a8253c",
   "metadata": {},
   "outputs": [
    {
     "data": {
      "text/plain": [
       "{'name': 'Naresh', 'roll num': 256, 'class': 'Python'}"
      ]
     },
     "execution_count": 95,
     "metadata": {},
     "output_type": "execute_result"
    }
   ],
   "source": [
    "d"
   ]
  },
  {
   "cell_type": "code",
   "execution_count": 99,
   "id": "9b6cbb11",
   "metadata": {},
   "outputs": [],
   "source": [
    "d['Name']='Naresh Kumar'"
   ]
  },
  {
   "cell_type": "code",
   "execution_count": 100,
   "id": "525dcf74",
   "metadata": {},
   "outputs": [
    {
     "name": "stdout",
     "output_type": "stream",
     "text": [
      "{'name': 'Naresh Kumar', 'roll num': 256, 'class': 'Python', 'Name': 'Naresh Kumar'}\n"
     ]
    }
   ],
   "source": [
    "print(d)"
   ]
  },
  {
   "cell_type": "code",
   "execution_count": 102,
   "id": "8bb8ef17",
   "metadata": {},
   "outputs": [
    {
     "data": {
      "text/plain": [
       "('Name', 'Naresh Kumar')"
      ]
     },
     "execution_count": 102,
     "metadata": {},
     "output_type": "execute_result"
    }
   ],
   "source": [
    "d.popitem()"
   ]
  },
  {
   "cell_type": "code",
   "execution_count": 103,
   "id": "a58ad78b",
   "metadata": {},
   "outputs": [
    {
     "data": {
      "text/plain": [
       "{'name': 'Naresh Kumar', 'roll num': 256, 'class': 'Python'}"
      ]
     },
     "execution_count": 103,
     "metadata": {},
     "output_type": "execute_result"
    }
   ],
   "source": [
    "d"
   ]
  },
  {
   "cell_type": "code",
   "execution_count": 2,
   "id": "9779e06f",
   "metadata": {},
   "outputs": [],
   "source": [
    "e={}"
   ]
  },
  {
   "cell_type": "code",
   "execution_count": 10,
   "id": "73a412da",
   "metadata": {},
   "outputs": [
    {
     "data": {
      "text/plain": [
       "{'name': '__________', 'subject': '__________', 'city': '__________'}"
      ]
     },
     "execution_count": 10,
     "metadata": {},
     "output_type": "execute_result"
    }
   ],
   "source": [
    "e.fromkeys(['name','subject','city'],'__________')"
   ]
  },
  {
   "cell_type": "code",
   "execution_count": 113,
   "id": "e85834a1",
   "metadata": {},
   "outputs": [],
   "source": [
    "e['name']=\"Naresh\"\n",
    "e['subject']='Python'\n",
    "e['city']='Rani'"
   ]
  },
  {
   "cell_type": "code",
   "execution_count": 114,
   "id": "45bdb077",
   "metadata": {},
   "outputs": [
    {
     "name": "stdout",
     "output_type": "stream",
     "text": [
      "{'name': 'Naresh', 'subject': 'Python', 'city': 'Rani'}\n"
     ]
    }
   ],
   "source": [
    "print(e)"
   ]
  },
  {
   "cell_type": "code",
   "execution_count": 116,
   "id": "4a12001b",
   "metadata": {},
   "outputs": [
    {
     "data": {
      "text/plain": [
       "dict_items([('name', 'Naresh'), ('subject', 'Python'), ('city', 'Rani')])"
      ]
     },
     "execution_count": 116,
     "metadata": {},
     "output_type": "execute_result"
    }
   ],
   "source": [
    "e.items()"
   ]
  },
  {
   "cell_type": "code",
   "execution_count": 118,
   "id": "bbddd0b9",
   "metadata": {},
   "outputs": [
    {
     "data": {
      "text/plain": [
       "dict"
      ]
     },
     "execution_count": 118,
     "metadata": {},
     "output_type": "execute_result"
    }
   ],
   "source": [
    "e.__class__"
   ]
  },
  {
   "cell_type": "code",
   "execution_count": 124,
   "id": "cf8d884b",
   "metadata": {},
   "outputs": [
    {
     "data": {
      "text/plain": [
       "True"
      ]
     },
     "execution_count": 124,
     "metadata": {},
     "output_type": "execute_result"
    }
   ],
   "source": [
    "e.__contains__('name')"
   ]
  },
  {
   "cell_type": "code",
   "execution_count": 126,
   "id": "f7f8ad88",
   "metadata": {},
   "outputs": [
    {
     "data": {
      "text/plain": [
       "True"
      ]
     },
     "execution_count": 126,
     "metadata": {},
     "output_type": "execute_result"
    }
   ],
   "source": [
    "'name' in e"
   ]
  },
  {
   "cell_type": "markdown",
   "id": "3696499b",
   "metadata": {},
   "source": [
    "# set \n",
    "### set auto arrange in sorted\n",
    "### every set element is unique & must be immutable (can not be change)"
   ]
  },
  {
   "cell_type": "code",
   "execution_count": 11,
   "id": "5c370597",
   "metadata": {},
   "outputs": [],
   "source": [
    "#define set\n",
    "s={5,1,2,6,3,4,5}"
   ]
  },
  {
   "cell_type": "code",
   "execution_count": 12,
   "id": "c53eb4f2",
   "metadata": {},
   "outputs": [
    {
     "data": {
      "text/plain": [
       "set"
      ]
     },
     "execution_count": 12,
     "metadata": {},
     "output_type": "execute_result"
    }
   ],
   "source": [
    "type(s)"
   ]
  },
  {
   "cell_type": "code",
   "execution_count": 13,
   "id": "3a258cfb",
   "metadata": {},
   "outputs": [
    {
     "name": "stdout",
     "output_type": "stream",
     "text": [
      "{1, 2, 3, 4, 5, 6}\n"
     ]
    }
   ],
   "source": [
    "print(s)"
   ]
  },
  {
   "cell_type": "code",
   "execution_count": 14,
   "id": "532ff09a",
   "metadata": {},
   "outputs": [],
   "source": [
    "# add()----> add data in set one by one\n",
    "s.add(7)"
   ]
  },
  {
   "cell_type": "code",
   "execution_count": 15,
   "id": "32dead9e",
   "metadata": {},
   "outputs": [
    {
     "name": "stdout",
     "output_type": "stream",
     "text": [
      "{1, 2, 3, 4, 5, 6, 7}\n"
     ]
    }
   ],
   "source": [
    "print(s)"
   ]
  },
  {
   "cell_type": "code",
   "execution_count": 20,
   "id": "19231fbb",
   "metadata": {},
   "outputs": [],
   "source": [
    "s.add(0)"
   ]
  },
  {
   "cell_type": "code",
   "execution_count": 21,
   "id": "4a961be1",
   "metadata": {},
   "outputs": [],
   "source": [
    "# update() ---> add multiple data at a time in list form\n",
    "s.update([5,9,8,3,1])"
   ]
  },
  {
   "cell_type": "code",
   "execution_count": 22,
   "id": "938c54c0",
   "metadata": {},
   "outputs": [
    {
     "name": "stdout",
     "output_type": "stream",
     "text": [
      "{0, 1, 2, 3, 4, 5, 6, 7, 8, 9}\n"
     ]
    }
   ],
   "source": [
    "print(s)"
   ]
  },
  {
   "cell_type": "code",
   "execution_count": 28,
   "id": "cdfe0653",
   "metadata": {},
   "outputs": [],
   "source": [
    "s.update(['na','kaa','saaa',5])"
   ]
  },
  {
   "cell_type": "code",
   "execution_count": 29,
   "id": "81c1ee20",
   "metadata": {},
   "outputs": [
    {
     "name": "stdout",
     "output_type": "stream",
     "text": [
      "{0, 1, 2, 3, 4, 5, 6, 7, 8, 9, 'n', 'k', 'kaa', 'saaa', 's', 'na'}\n"
     ]
    }
   ],
   "source": [
    "print(s)"
   ]
  },
  {
   "cell_type": "markdown",
   "id": "d01fe2a7",
   "metadata": {},
   "source": [
    "# remove element\n",
    "## discard() ===> function leaves a set unchange if the element is not present in the set\n",
    "## remove() ===> function will raise an error if the element is not present in the set"
   ]
  },
  {
   "cell_type": "code",
   "execution_count": 30,
   "id": "ea98ee77",
   "metadata": {},
   "outputs": [],
   "source": [
    "s.discard(5)"
   ]
  },
  {
   "cell_type": "code",
   "execution_count": 31,
   "id": "5f189864",
   "metadata": {},
   "outputs": [
    {
     "name": "stdout",
     "output_type": "stream",
     "text": [
      "{0, 1, 2, 3, 4, 6, 7, 8, 9, 'n', 'k', 'kaa', 'saaa', 's', 'na'}\n"
     ]
    }
   ],
   "source": [
    "print(s)"
   ]
  },
  {
   "cell_type": "code",
   "execution_count": 32,
   "id": "f2a05526",
   "metadata": {},
   "outputs": [],
   "source": [
    "s.discard(5)"
   ]
  },
  {
   "cell_type": "code",
   "execution_count": 35,
   "id": "49fbe62e",
   "metadata": {},
   "outputs": [
    {
     "name": "stdout",
     "output_type": "stream",
     "text": [
      "{0, 1, 2, 3, 6, 7, 8, 9, 'n', 'k', 'kaa', 'saaa', 's', 'na'}\n"
     ]
    }
   ],
   "source": [
    "print(s)"
   ]
  },
  {
   "cell_type": "code",
   "execution_count": 33,
   "id": "5f8b4efe",
   "metadata": {},
   "outputs": [],
   "source": [
    "s.remove(4)"
   ]
  },
  {
   "cell_type": "code",
   "execution_count": 34,
   "id": "2f0bc31b",
   "metadata": {},
   "outputs": [
    {
     "name": "stdout",
     "output_type": "stream",
     "text": [
      "{0, 1, 2, 3, 6, 7, 8, 9, 'n', 'k', 'kaa', 'saaa', 's', 'na'}\n"
     ]
    }
   ],
   "source": [
    "print(s)"
   ]
  },
  {
   "cell_type": "code",
   "execution_count": 36,
   "id": "2bf3250e",
   "metadata": {},
   "outputs": [
    {
     "ename": "KeyError",
     "evalue": "4",
     "output_type": "error",
     "traceback": [
      "\u001b[1;31m---------------------------------------------------------------------------\u001b[0m",
      "\u001b[1;31mKeyError\u001b[0m                                  Traceback (most recent call last)",
      "Input \u001b[1;32mIn [36]\u001b[0m, in \u001b[0;36m<cell line: 1>\u001b[1;34m()\u001b[0m\n\u001b[1;32m----> 1\u001b[0m \u001b[43ms\u001b[49m\u001b[38;5;241;43m.\u001b[39;49m\u001b[43mremove\u001b[49m\u001b[43m(\u001b[49m\u001b[38;5;241;43m4\u001b[39;49m\u001b[43m)\u001b[49m\n",
      "\u001b[1;31mKeyError\u001b[0m: 4"
     ]
    }
   ],
   "source": [
    "s.remove(4)"
   ]
  },
  {
   "cell_type": "code",
   "execution_count": 39,
   "id": "740aa9c0",
   "metadata": {},
   "outputs": [
    {
     "data": {
      "text/plain": [
       "2"
      ]
     },
     "execution_count": 39,
     "metadata": {},
     "output_type": "execute_result"
    }
   ],
   "source": [
    "# rendomlly delete (remove) element from set . from right\n",
    "s.pop()"
   ]
  },
  {
   "cell_type": "code",
   "execution_count": 38,
   "id": "b12b1a6b",
   "metadata": {},
   "outputs": [
    {
     "data": {
      "text/plain": [
       "1"
      ]
     },
     "execution_count": 38,
     "metadata": {},
     "output_type": "execute_result"
    }
   ],
   "source": [
    "s.pop()"
   ]
  },
  {
   "cell_type": "code",
   "execution_count": 40,
   "id": "83551947",
   "metadata": {},
   "outputs": [],
   "source": [
    "# clear()---->its use to remove all element from set"
   ]
  },
  {
   "cell_type": "code",
   "execution_count": 41,
   "id": "51e8e664",
   "metadata": {},
   "outputs": [],
   "source": [
    "s.clear()"
   ]
  },
  {
   "cell_type": "code",
   "execution_count": 42,
   "id": "c0bfb387",
   "metadata": {},
   "outputs": [
    {
     "name": "stdout",
     "output_type": "stream",
     "text": [
      "set()\n"
     ]
    }
   ],
   "source": [
    "print(s)"
   ]
  },
  {
   "cell_type": "markdown",
   "id": "c2831865",
   "metadata": {},
   "source": [
    "# set operation\n",
    "\n",
    "## union()"
   ]
  },
  {
   "cell_type": "code",
   "execution_count": 43,
   "id": "7ea6ac5a",
   "metadata": {},
   "outputs": [
    {
     "name": "stdout",
     "output_type": "stream",
     "text": [
      "{1, 2, 3, 4, 5, 6, 8, 9}\n"
     ]
    }
   ],
   "source": [
    "a={5,4,6,9,8,5,2}\n",
    "b={2,6,5,3,1,4,8}\n",
    "print(a|b)"
   ]
  },
  {
   "cell_type": "code",
   "execution_count": 44,
   "id": "d5586c03",
   "metadata": {},
   "outputs": [
    {
     "name": "stdout",
     "output_type": "stream",
     "text": [
      "{1, 2, 3, 4, 5, 6, 8, 9}\n"
     ]
    }
   ],
   "source": [
    "print(a.union(b))"
   ]
  },
  {
   "cell_type": "markdown",
   "id": "c8506187",
   "metadata": {},
   "source": [
    "## intersection\n",
    "### compare  find common element in"
   ]
  },
  {
   "cell_type": "code",
   "execution_count": 45,
   "id": "07ef86cf",
   "metadata": {},
   "outputs": [
    {
     "name": "stdout",
     "output_type": "stream",
     "text": [
      "{2, 4, 5, 6, 8}\n"
     ]
    }
   ],
   "source": [
    "print(a&b)"
   ]
  },
  {
   "cell_type": "code",
   "execution_count": 46,
   "id": "4bce186d",
   "metadata": {},
   "outputs": [
    {
     "name": "stdout",
     "output_type": "stream",
     "text": [
      "{2, 4, 5, 6, 8}\n"
     ]
    }
   ],
   "source": [
    "print(a.intersection(b))"
   ]
  },
  {
   "cell_type": "code",
   "execution_count": 47,
   "id": "844c8a9c",
   "metadata": {},
   "outputs": [
    {
     "name": "stdout",
     "output_type": "stream",
     "text": [
      "{2, 4, 5, 6, 8}\n"
     ]
    }
   ],
   "source": [
    "print(b&a)"
   ]
  },
  {
   "cell_type": "code",
   "execution_count": null,
   "id": "85e3d723",
   "metadata": {},
   "outputs": [],
   "source": []
  }
 ],
 "metadata": {
  "kernelspec": {
   "display_name": "Python 3 (ipykernel)",
   "language": "python",
   "name": "python3"
  },
  "language_info": {
   "codemirror_mode": {
    "name": "ipython",
    "version": 3
   },
   "file_extension": ".py",
   "mimetype": "text/x-python",
   "name": "python",
   "nbconvert_exporter": "python",
   "pygments_lexer": "ipython3",
   "version": "3.9.12"
  }
 },
 "nbformat": 4,
 "nbformat_minor": 5
}
