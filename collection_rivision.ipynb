{
 "cells": [
  {
   "cell_type": "markdown",
   "id": "7a671737",
   "metadata": {},
   "source": [
    "# list"
   ]
  },
  {
   "cell_type": "markdown",
   "id": "f4eb7167",
   "metadata": {},
   "source": [
    "## 1. define list"
   ]
  },
  {
   "cell_type": "code",
   "execution_count": 41,
   "id": "0779af93",
   "metadata": {},
   "outputs": [],
   "source": [
    "l=list()\n",
    "k=[]"
   ]
  },
  {
   "cell_type": "code",
   "execution_count": 42,
   "id": "91309b1c",
   "metadata": {},
   "outputs": [
    {
     "data": {
      "text/plain": [
       "list"
      ]
     },
     "execution_count": 42,
     "metadata": {},
     "output_type": "execute_result"
    }
   ],
   "source": [
    "type(l)"
   ]
  },
  {
   "cell_type": "code",
   "execution_count": 43,
   "id": "2f1addb5",
   "metadata": {},
   "outputs": [
    {
     "data": {
      "text/plain": [
       "list"
      ]
     },
     "execution_count": 43,
     "metadata": {},
     "output_type": "execute_result"
    }
   ],
   "source": [
    "type(k)"
   ]
  },
  {
   "cell_type": "markdown",
   "id": "2298f801",
   "metadata": {},
   "source": [
    "## 2. store value & data to a list"
   ]
  },
  {
   "cell_type": "markdown",
   "id": "072531b7",
   "metadata": {},
   "source": [
    "### append()\n",
    "#### one by one value (data) store in list & data (value)  store at end of list"
   ]
  },
  {
   "cell_type": "code",
   "execution_count": 44,
   "id": "ef794aac",
   "metadata": {},
   "outputs": [],
   "source": [
    "l.append(5) #insert a value in list"
   ]
  },
  {
   "cell_type": "code",
   "execution_count": 45,
   "id": "d50f330e",
   "metadata": {},
   "outputs": [
    {
     "data": {
      "text/plain": [
       "[5]"
      ]
     },
     "execution_count": 45,
     "metadata": {},
     "output_type": "execute_result"
    }
   ],
   "source": [
    "l"
   ]
  },
  {
   "cell_type": "code",
   "execution_count": 46,
   "id": "1318ff1b",
   "metadata": {},
   "outputs": [],
   "source": [
    "l.append(9)"
   ]
  },
  {
   "cell_type": "code",
   "execution_count": 47,
   "id": "7018bde9",
   "metadata": {},
   "outputs": [
    {
     "name": "stdout",
     "output_type": "stream",
     "text": [
      "[5, 9]\n"
     ]
    }
   ],
   "source": [
    "print(l)"
   ]
  },
  {
   "cell_type": "markdown",
   "id": "5ee1fc08",
   "metadata": {},
   "source": [
    "### extend()\n",
    "#### at a time one & multiple value store in list, value store end of list\n",
    "#### value insert in list formet"
   ]
  },
  {
   "cell_type": "code",
   "execution_count": 48,
   "id": "754386cb",
   "metadata": {},
   "outputs": [],
   "source": [
    "l.extend([5,4,8])"
   ]
  },
  {
   "cell_type": "code",
   "execution_count": 49,
   "id": "84431145",
   "metadata": {},
   "outputs": [
    {
     "name": "stdout",
     "output_type": "stream",
     "text": [
      "[5, 9, 5, 4, 8]\n"
     ]
    }
   ],
   "source": [
    "print(l)"
   ]
  },
  {
   "cell_type": "code",
   "execution_count": 50,
   "id": "3720e736",
   "metadata": {},
   "outputs": [],
   "source": [
    "l.extend([0])"
   ]
  },
  {
   "cell_type": "code",
   "execution_count": 51,
   "id": "a7525816",
   "metadata": {},
   "outputs": [
    {
     "name": "stdout",
     "output_type": "stream",
     "text": [
      "[5, 9, 5, 4, 8, 0]\n"
     ]
    }
   ],
   "source": [
    "print(l)"
   ]
  },
  {
   "cell_type": "markdown",
   "id": "07614c82",
   "metadata": {},
   "source": [
    "### insert('index_number','data')\n",
    "#### its use to store data at particular index number\n",
    "#### at a time one value store "
   ]
  },
  {
   "cell_type": "code",
   "execution_count": 52,
   "id": "d9e2b9ec",
   "metadata": {},
   "outputs": [],
   "source": [
    "l.insert(2,7)"
   ]
  },
  {
   "cell_type": "code",
   "execution_count": 53,
   "id": "d827f98d",
   "metadata": {},
   "outputs": [
    {
     "name": "stdout",
     "output_type": "stream",
     "text": [
      "[5, 9, 7, 5, 4, 8, 0]\n"
     ]
    }
   ],
   "source": [
    "print(l)"
   ]
  },
  {
   "cell_type": "markdown",
   "id": "22d0b0f7",
   "metadata": {},
   "source": [
    "## 3. remove & delete data from list"
   ]
  },
  {
   "cell_type": "markdown",
   "id": "7c901cf0",
   "metadata": {},
   "source": [
    "### pop()\n",
    "#### pop() method bydefault delete data form end of list\n",
    "### pop(index_number)\n",
    "#### its use to delete data from particular index number\n",
    "#### if index number in out of range raised an error 'IndexError'"
   ]
  },
  {
   "cell_type": "code",
   "execution_count": 54,
   "id": "a440f672",
   "metadata": {},
   "outputs": [
    {
     "data": {
      "text/plain": [
       "0"
      ]
     },
     "execution_count": 54,
     "metadata": {},
     "output_type": "execute_result"
    }
   ],
   "source": [
    "l.pop()"
   ]
  },
  {
   "cell_type": "code",
   "execution_count": 55,
   "id": "76fdfb04",
   "metadata": {},
   "outputs": [
    {
     "data": {
      "text/plain": [
       "9"
      ]
     },
     "execution_count": 55,
     "metadata": {},
     "output_type": "execute_result"
    }
   ],
   "source": [
    "l.pop(1)"
   ]
  },
  {
   "cell_type": "code",
   "execution_count": 56,
   "id": "38942427",
   "metadata": {},
   "outputs": [
    {
     "ename": "IndexError",
     "evalue": "pop index out of range",
     "output_type": "error",
     "traceback": [
      "\u001b[1;31m---------------------------------------------------------------------------\u001b[0m",
      "\u001b[1;31mIndexError\u001b[0m                                Traceback (most recent call last)",
      "Input \u001b[1;32mIn [56]\u001b[0m, in \u001b[0;36m<cell line: 1>\u001b[1;34m()\u001b[0m\n\u001b[1;32m----> 1\u001b[0m \u001b[43ml\u001b[49m\u001b[38;5;241;43m.\u001b[39;49m\u001b[43mpop\u001b[49m\u001b[43m(\u001b[49m\u001b[38;5;241;43m9\u001b[39;49m\u001b[43m)\u001b[49m\n",
      "\u001b[1;31mIndexError\u001b[0m: pop index out of range"
     ]
    }
   ],
   "source": [
    "l.pop(9)"
   ]
  },
  {
   "cell_type": "markdown",
   "id": "531658f4",
   "metadata": {},
   "source": [
    "### remove(data) ----> insert data to remove from list\n",
    "#### if  insert data is not available in list raised an error 'ValueError'"
   ]
  },
  {
   "cell_type": "code",
   "execution_count": 57,
   "id": "08b1bdd1",
   "metadata": {},
   "outputs": [],
   "source": [
    "l.remove(5)"
   ]
  },
  {
   "cell_type": "code",
   "execution_count": 58,
   "id": "aeade5be",
   "metadata": {},
   "outputs": [
    {
     "name": "stdout",
     "output_type": "stream",
     "text": [
      "[7, 5, 4, 8]\n"
     ]
    }
   ],
   "source": [
    "print(l)"
   ]
  },
  {
   "cell_type": "code",
   "execution_count": 59,
   "id": "89479b80",
   "metadata": {},
   "outputs": [
    {
     "ename": "ValueError",
     "evalue": "list.remove(x): x not in list",
     "output_type": "error",
     "traceback": [
      "\u001b[1;31m---------------------------------------------------------------------------\u001b[0m",
      "\u001b[1;31mValueError\u001b[0m                                Traceback (most recent call last)",
      "Input \u001b[1;32mIn [59]\u001b[0m, in \u001b[0;36m<cell line: 1>\u001b[1;34m()\u001b[0m\n\u001b[1;32m----> 1\u001b[0m \u001b[43ml\u001b[49m\u001b[38;5;241;43m.\u001b[39;49m\u001b[43mremove\u001b[49m\u001b[43m(\u001b[49m\u001b[38;5;241;43m9\u001b[39;49m\u001b[43m)\u001b[49m\n",
      "\u001b[1;31mValueError\u001b[0m: list.remove(x): x not in list"
     ]
    }
   ],
   "source": [
    "l.remove(9)"
   ]
  },
  {
   "cell_type": "code",
   "execution_count": 60,
   "id": "a7c6831b",
   "metadata": {},
   "outputs": [],
   "source": [
    "l.remove(4)"
   ]
  },
  {
   "cell_type": "markdown",
   "id": "01c8cd2f",
   "metadata": {},
   "source": [
    "## 4. sorting\n",
    "### sort()\n",
    "#### sort() method use to arrange data in ascending to descending order"
   ]
  },
  {
   "cell_type": "code",
   "execution_count": 61,
   "id": "4425333b",
   "metadata": {},
   "outputs": [],
   "source": [
    "l=[8,4,5,6,9,8,5,2]"
   ]
  },
  {
   "cell_type": "code",
   "execution_count": 62,
   "id": "96b6e8f8",
   "metadata": {},
   "outputs": [],
   "source": [
    "l.sort()"
   ]
  },
  {
   "cell_type": "code",
   "execution_count": 63,
   "id": "41bfe7ba",
   "metadata": {},
   "outputs": [
    {
     "name": "stdout",
     "output_type": "stream",
     "text": [
      "[2, 4, 5, 5, 6, 8, 8, 9]\n"
     ]
    }
   ],
   "source": [
    "print(l)"
   ]
  },
  {
   "cell_type": "markdown",
   "id": "3fd0626c",
   "metadata": {},
   "source": [
    "### sort(reverse=True/False)\n",
    "#### its use to  arrange data in ascending to descending order or descending to ascending order"
   ]
  },
  {
   "cell_type": "code",
   "execution_count": 67,
   "id": "479efed4",
   "metadata": {},
   "outputs": [],
   "source": [
    "l.sort(reverse=True)"
   ]
  },
  {
   "cell_type": "code",
   "execution_count": 68,
   "id": "276138d2",
   "metadata": {},
   "outputs": [
    {
     "name": "stdout",
     "output_type": "stream",
     "text": [
      "[9, 8, 8, 6, 5, 5, 4, 2]\n"
     ]
    }
   ],
   "source": [
    "print(l)"
   ]
  },
  {
   "cell_type": "code",
   "execution_count": 69,
   "id": "06743720",
   "metadata": {},
   "outputs": [],
   "source": [
    "l.sort(reverse=False)"
   ]
  },
  {
   "cell_type": "code",
   "execution_count": 70,
   "id": "695bb5cb",
   "metadata": {},
   "outputs": [
    {
     "name": "stdout",
     "output_type": "stream",
     "text": [
      "[2, 4, 5, 5, 6, 8, 8, 9]\n"
     ]
    }
   ],
   "source": [
    "print(l)"
   ]
  },
  {
   "cell_type": "code",
   "execution_count": null,
   "id": "50191baa",
   "metadata": {},
   "outputs": [],
   "source": []
  }
 ],
 "metadata": {
  "kernelspec": {
   "display_name": "Python 3 (ipykernel)",
   "language": "python",
   "name": "python3"
  },
  "language_info": {
   "codemirror_mode": {
    "name": "ipython",
    "version": 3
   },
   "file_extension": ".py",
   "mimetype": "text/x-python",
   "name": "python",
   "nbconvert_exporter": "python",
   "pygments_lexer": "ipython3",
   "version": "3.9.12"
  }
 },
 "nbformat": 4,
 "nbformat_minor": 5
}
