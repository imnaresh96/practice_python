{
 "cells": [
  {
   "cell_type": "code",
   "execution_count": 1,
   "id": "3a1fe506",
   "metadata": {},
   "outputs": [],
   "source": [
    "r=dict()"
   ]
  },
  {
   "cell_type": "code",
   "execution_count": 4,
   "id": "a77fc411",
   "metadata": {},
   "outputs": [
    {
     "data": {
      "text/plain": [
       "{}"
      ]
     },
     "execution_count": 4,
     "metadata": {},
     "output_type": "execute_result"
    }
   ],
   "source": [
    "r"
   ]
  },
  {
   "cell_type": "code",
   "execution_count": 7,
   "id": "159eb6cb",
   "metadata": {},
   "outputs": [
    {
     "name": "stdout",
     "output_type": "stream",
     "text": [
      "['__class__', '__class_getitem__', '__contains__', '__delattr__', '__delitem__', '__dir__', '__doc__', '__eq__', '__format__', '__ge__', '__getattribute__', '__getitem__', '__gt__', '__hash__', '__init__', '__init_subclass__', '__ior__', '__iter__', '__le__', '__len__', '__lt__', '__ne__', '__new__', '__or__', '__reduce__', '__reduce_ex__', '__repr__', '__reversed__', '__ror__', '__setattr__', '__setitem__', '__sizeof__', '__str__', '__subclasshook__', 'clear', 'copy', 'fromkeys', 'get', 'items', 'keys', 'pop', 'popitem', 'setdefault', 'update', 'values']\n"
     ]
    }
   ],
   "source": [
    "print(dir(r))"
   ]
  },
  {
   "cell_type": "code",
   "execution_count": 9,
   "id": "642006d8",
   "metadata": {},
   "outputs": [],
   "source": [
    "r.setdefault('name')"
   ]
  },
  {
   "cell_type": "code",
   "execution_count": 10,
   "id": "49224d5b",
   "metadata": {},
   "outputs": [
    {
     "data": {
      "text/plain": [
       "{'name': None}"
      ]
     },
     "execution_count": 10,
     "metadata": {},
     "output_type": "execute_result"
    }
   ],
   "source": [
    "r"
   ]
  },
  {
   "cell_type": "code",
   "execution_count": 12,
   "id": "d342fcb3",
   "metadata": {},
   "outputs": [
    {
     "data": {
      "text/plain": [
       "'pali'"
      ]
     },
     "execution_count": 12,
     "metadata": {},
     "output_type": "execute_result"
    }
   ],
   "source": [
    "r.setdefault('city','pali')"
   ]
  },
  {
   "cell_type": "code",
   "execution_count": 13,
   "id": "8a7614cb",
   "metadata": {},
   "outputs": [
    {
     "data": {
      "text/plain": [
       "{'name': None, 'city': 'pali'}"
      ]
     },
     "execution_count": 13,
     "metadata": {},
     "output_type": "execute_result"
    }
   ],
   "source": [
    "r"
   ]
  },
  {
   "cell_type": "code",
   "execution_count": 14,
   "id": "7167364a",
   "metadata": {},
   "outputs": [],
   "source": [
    "r.setdefault('name','naresh')"
   ]
  },
  {
   "cell_type": "code",
   "execution_count": 15,
   "id": "2a09139a",
   "metadata": {},
   "outputs": [
    {
     "data": {
      "text/plain": [
       "{'name': None, 'city': 'pali'}"
      ]
     },
     "execution_count": 15,
     "metadata": {},
     "output_type": "execute_result"
    }
   ],
   "source": [
    "r"
   ]
  },
  {
   "cell_type": "code",
   "execution_count": 16,
   "id": "27e7fca8",
   "metadata": {},
   "outputs": [],
   "source": [
    "r.update({'name':'naresh','city':'rani'})"
   ]
  },
  {
   "cell_type": "code",
   "execution_count": 17,
   "id": "5d3d6b13",
   "metadata": {},
   "outputs": [
    {
     "data": {
      "text/plain": [
       "{'name': 'naresh', 'city': 'rani'}"
      ]
     },
     "execution_count": 17,
     "metadata": {},
     "output_type": "execute_result"
    }
   ],
   "source": [
    "r"
   ]
  },
  {
   "cell_type": "code",
   "execution_count": 18,
   "id": "c03604aa",
   "metadata": {},
   "outputs": [],
   "source": [
    "r.update({'mobile':'9269885482'})"
   ]
  },
  {
   "cell_type": "code",
   "execution_count": 19,
   "id": "856d68b5",
   "metadata": {},
   "outputs": [
    {
     "data": {
      "text/plain": [
       "{'name': 'naresh', 'city': 'rani', 'mobile': '9269885482'}"
      ]
     },
     "execution_count": 19,
     "metadata": {},
     "output_type": "execute_result"
    }
   ],
   "source": [
    "r"
   ]
  },
  {
   "cell_type": "code",
   "execution_count": 22,
   "id": "f227fc4e",
   "metadata": {},
   "outputs": [
    {
     "data": {
      "text/plain": [
       "'9269885482'"
      ]
     },
     "execution_count": 22,
     "metadata": {},
     "output_type": "execute_result"
    }
   ],
   "source": [
    "r.get('mobile')"
   ]
  },
  {
   "cell_type": "code",
   "execution_count": 23,
   "id": "7e3cb650",
   "metadata": {},
   "outputs": [
    {
     "data": {
      "text/plain": [
       "{'name': 'naresh', 'city': 'rani', 'mobile': '9269885482'}"
      ]
     },
     "execution_count": 23,
     "metadata": {},
     "output_type": "execute_result"
    }
   ],
   "source": [
    "r"
   ]
  },
  {
   "cell_type": "code",
   "execution_count": 26,
   "id": "c0fb24c5",
   "metadata": {},
   "outputs": [
    {
     "data": {
      "text/plain": [
       "'naresh'"
      ]
     },
     "execution_count": 26,
     "metadata": {},
     "output_type": "execute_result"
    }
   ],
   "source": [
    "r['name']"
   ]
  },
  {
   "cell_type": "code",
   "execution_count": 28,
   "id": "0285c073",
   "metadata": {},
   "outputs": [],
   "source": [
    "r['country']='India'"
   ]
  },
  {
   "cell_type": "code",
   "execution_count": 29,
   "id": "89167b87",
   "metadata": {},
   "outputs": [
    {
     "data": {
      "text/plain": [
       "{'name': 'naresh', 'city': 'rani', 'mobile': '9269885482', 'country': 'India'}"
      ]
     },
     "execution_count": 29,
     "metadata": {},
     "output_type": "execute_result"
    }
   ],
   "source": [
    "r"
   ]
  },
  {
   "cell_type": "code",
   "execution_count": 30,
   "id": "4623c467",
   "metadata": {},
   "outputs": [
    {
     "data": {
      "text/plain": [
       "dict_keys(['name', 'city', 'mobile', 'country'])"
      ]
     },
     "execution_count": 30,
     "metadata": {},
     "output_type": "execute_result"
    }
   ],
   "source": [
    "r.keys()"
   ]
  },
  {
   "cell_type": "code",
   "execution_count": 31,
   "id": "b3f6608a",
   "metadata": {},
   "outputs": [
    {
     "data": {
      "text/plain": [
       "dict_values(['naresh', 'rani', '9269885482', 'India'])"
      ]
     },
     "execution_count": 31,
     "metadata": {},
     "output_type": "execute_result"
    }
   ],
   "source": [
    "r.values()"
   ]
  },
  {
   "cell_type": "code",
   "execution_count": 32,
   "id": "ee68ea96",
   "metadata": {},
   "outputs": [
    {
     "data": {
      "text/plain": [
       "'9269885482'"
      ]
     },
     "execution_count": 32,
     "metadata": {},
     "output_type": "execute_result"
    }
   ],
   "source": [
    "r.pop('mobile')"
   ]
  },
  {
   "cell_type": "code",
   "execution_count": 33,
   "id": "88fc1614",
   "metadata": {},
   "outputs": [
    {
     "data": {
      "text/plain": [
       "{'name': 'naresh', 'city': 'rani', 'country': 'India'}"
      ]
     },
     "execution_count": 33,
     "metadata": {},
     "output_type": "execute_result"
    }
   ],
   "source": [
    "r"
   ]
  },
  {
   "cell_type": "code",
   "execution_count": 35,
   "id": "ea41c926",
   "metadata": {},
   "outputs": [
    {
     "data": {
      "text/plain": [
       "'rani'"
      ]
     },
     "execution_count": 35,
     "metadata": {},
     "output_type": "execute_result"
    }
   ],
   "source": [
    "r.pop('city')"
   ]
  },
  {
   "cell_type": "code",
   "execution_count": 36,
   "id": "9c744f08",
   "metadata": {},
   "outputs": [
    {
     "data": {
      "text/plain": [
       "('country', 'India')"
      ]
     },
     "execution_count": 36,
     "metadata": {},
     "output_type": "execute_result"
    }
   ],
   "source": [
    "r.popitem()"
   ]
  },
  {
   "cell_type": "code",
   "execution_count": 52,
   "id": "949f6a92",
   "metadata": {},
   "outputs": [],
   "source": [
    "dr=dict.fromkeys(['name','class','city'], )"
   ]
  },
  {
   "cell_type": "code",
   "execution_count": 53,
   "id": "6c538c20",
   "metadata": {},
   "outputs": [
    {
     "data": {
      "text/plain": [
       "{'name': None, 'class': None, 'city': None}"
      ]
     },
     "execution_count": 53,
     "metadata": {},
     "output_type": "execute_result"
    }
   ],
   "source": [
    "dr"
   ]
  },
  {
   "cell_type": "code",
   "execution_count": 58,
   "id": "470804c4",
   "metadata": {},
   "outputs": [],
   "source": [
    "dr.update({'name':'naresh'})"
   ]
  },
  {
   "cell_type": "code",
   "execution_count": 59,
   "id": "dbcccd9a",
   "metadata": {},
   "outputs": [
    {
     "data": {
      "text/plain": [
       "{'name': 'naresh', 'class': None, 'city': None}"
      ]
     },
     "execution_count": 59,
     "metadata": {},
     "output_type": "execute_result"
    }
   ],
   "source": [
    "dr"
   ]
  },
  {
   "cell_type": "code",
   "execution_count": 60,
   "id": "58226230",
   "metadata": {},
   "outputs": [],
   "source": [
    "dr.clear()"
   ]
  },
  {
   "cell_type": "code",
   "execution_count": 61,
   "id": "8f9aa061",
   "metadata": {},
   "outputs": [
    {
     "data": {
      "text/plain": [
       "{}"
      ]
     },
     "execution_count": 61,
     "metadata": {},
     "output_type": "execute_result"
    }
   ],
   "source": [
    "dr"
   ]
  },
  {
   "cell_type": "code",
   "execution_count": 63,
   "id": "3fc9c2f5",
   "metadata": {},
   "outputs": [],
   "source": [
    "del dr"
   ]
  },
  {
   "cell_type": "code",
   "execution_count": 64,
   "id": "60ed4a7e",
   "metadata": {},
   "outputs": [
    {
     "ename": "NameError",
     "evalue": "name 'dr' is not defined",
     "output_type": "error",
     "traceback": [
      "\u001b[1;31m---------------------------------------------------------------------------\u001b[0m",
      "\u001b[1;31mNameError\u001b[0m                                 Traceback (most recent call last)",
      "Input \u001b[1;32mIn [64]\u001b[0m, in \u001b[0;36m<cell line: 1>\u001b[1;34m()\u001b[0m\n\u001b[1;32m----> 1\u001b[0m \u001b[43mdr\u001b[49m\n",
      "\u001b[1;31mNameError\u001b[0m: name 'dr' is not defined"
     ]
    }
   ],
   "source": []
  },
  {
   "cell_type": "code",
   "execution_count": 65,
   "id": "761b5b09",
   "metadata": {},
   "outputs": [],
   "source": [
    "dr=r.copy()"
   ]
  },
  {
   "cell_type": "code",
   "execution_count": 66,
   "id": "b22d6c1d",
   "metadata": {},
   "outputs": [
    {
     "data": {
      "text/plain": [
       "{'name': 'naresh'}"
      ]
     },
     "execution_count": 66,
     "metadata": {},
     "output_type": "execute_result"
    }
   ],
   "source": [
    "dr"
   ]
  },
  {
   "cell_type": "code",
   "execution_count": 67,
   "id": "246871a6",
   "metadata": {},
   "outputs": [],
   "source": [
    "r.update({'city':'pali'})"
   ]
  },
  {
   "cell_type": "code",
   "execution_count": 68,
   "id": "165f2c28",
   "metadata": {},
   "outputs": [
    {
     "data": {
      "text/plain": [
       "{'name': 'naresh'}"
      ]
     },
     "execution_count": 68,
     "metadata": {},
     "output_type": "execute_result"
    }
   ],
   "source": [
    "dr"
   ]
  },
  {
   "cell_type": "code",
   "execution_count": 69,
   "id": "149c10af",
   "metadata": {},
   "outputs": [
    {
     "data": {
      "text/plain": [
       "{'name': 'naresh', 'city': 'pali'}"
      ]
     },
     "execution_count": 69,
     "metadata": {},
     "output_type": "execute_result"
    }
   ],
   "source": [
    "r"
   ]
  },
  {
   "cell_type": "code",
   "execution_count": 71,
   "id": "95871515",
   "metadata": {},
   "outputs": [
    {
     "data": {
      "text/plain": [
       "{'name': 'naresh'}"
      ]
     },
     "execution_count": 71,
     "metadata": {},
     "output_type": "execute_result"
    }
   ],
   "source": [
    "dr"
   ]
  },
  {
   "cell_type": "code",
   "execution_count": 72,
   "id": "a084d9b5",
   "metadata": {},
   "outputs": [
    {
     "data": {
      "text/plain": [
       "{'name': 'naresh', 'city': 'pali'}"
      ]
     },
     "execution_count": 72,
     "metadata": {},
     "output_type": "execute_result"
    }
   ],
   "source": [
    "dr\n",
    "r"
   ]
  },
  {
   "cell_type": "code",
   "execution_count": 73,
   "id": "0b989175",
   "metadata": {},
   "outputs": [],
   "source": [
    "k=dict()"
   ]
  },
  {
   "cell_type": "code",
   "execution_count": 74,
   "id": "7f6c36ca",
   "metadata": {},
   "outputs": [
    {
     "data": {
      "text/plain": [
       "{}"
      ]
     },
     "execution_count": 74,
     "metadata": {},
     "output_type": "execute_result"
    }
   ],
   "source": [
    "k"
   ]
  },
  {
   "cell_type": "code",
   "execution_count": 75,
   "id": "6c15081c",
   "metadata": {},
   "outputs": [
    {
     "data": {
      "text/plain": [
       "'naresh'"
      ]
     },
     "execution_count": 75,
     "metadata": {},
     "output_type": "execute_result"
    }
   ],
   "source": [
    "k.setdefault('name','naresh')"
   ]
  },
  {
   "cell_type": "code",
   "execution_count": 76,
   "id": "60cb0850",
   "metadata": {},
   "outputs": [
    {
     "data": {
      "text/plain": [
       "{'name': 'naresh'}"
      ]
     },
     "execution_count": 76,
     "metadata": {},
     "output_type": "execute_result"
    }
   ],
   "source": [
    "k"
   ]
  },
  {
   "cell_type": "code",
   "execution_count": 77,
   "id": "f5a97bec",
   "metadata": {},
   "outputs": [],
   "source": [
    "k.update({'city':'pali','mobile':'9269885482'})"
   ]
  },
  {
   "cell_type": "code",
   "execution_count": 79,
   "id": "620d70d1",
   "metadata": {},
   "outputs": [
    {
     "data": {
      "text/plain": [
       "'pali'"
      ]
     },
     "execution_count": 79,
     "metadata": {},
     "output_type": "execute_result"
    }
   ],
   "source": [
    "k.pop('city')"
   ]
  },
  {
   "cell_type": "code",
   "execution_count": 80,
   "id": "024b54a5",
   "metadata": {},
   "outputs": [
    {
     "data": {
      "text/plain": [
       "'naresh'"
      ]
     },
     "execution_count": 80,
     "metadata": {},
     "output_type": "execute_result"
    }
   ],
   "source": [
    "k.get('name')"
   ]
  },
  {
   "cell_type": "code",
   "execution_count": 81,
   "id": "22faacbe",
   "metadata": {},
   "outputs": [],
   "source": [
    "k.get('city')"
   ]
  },
  {
   "cell_type": "code",
   "execution_count": 82,
   "id": "97ef3ea9",
   "metadata": {},
   "outputs": [
    {
     "ename": "KeyError",
     "evalue": "'city'",
     "output_type": "error",
     "traceback": [
      "\u001b[1;31m---------------------------------------------------------------------------\u001b[0m",
      "\u001b[1;31mKeyError\u001b[0m                                  Traceback (most recent call last)",
      "Input \u001b[1;32mIn [82]\u001b[0m, in \u001b[0;36m<cell line: 1>\u001b[1;34m()\u001b[0m\n\u001b[1;32m----> 1\u001b[0m \u001b[43mk\u001b[49m\u001b[43m[\u001b[49m\u001b[38;5;124;43m'\u001b[39;49m\u001b[38;5;124;43mcity\u001b[39;49m\u001b[38;5;124;43m'\u001b[39;49m\u001b[43m]\u001b[49m\n",
      "\u001b[1;31mKeyError\u001b[0m: 'city'"
     ]
    }
   ],
   "source": [
    "k['city']"
   ]
  },
  {
   "cell_type": "code",
   "execution_count": 83,
   "id": "e7462ce1",
   "metadata": {},
   "outputs": [
    {
     "data": {
      "text/plain": [
       "'9269885482'"
      ]
     },
     "execution_count": 83,
     "metadata": {},
     "output_type": "execute_result"
    }
   ],
   "source": [
    "k['mobile']"
   ]
  },
  {
   "cell_type": "code",
   "execution_count": 84,
   "id": "c70e268a",
   "metadata": {},
   "outputs": [
    {
     "data": {
      "text/plain": [
       "{'name': 'naresh', 'mobile': '9269885482'}"
      ]
     },
     "execution_count": 84,
     "metadata": {},
     "output_type": "execute_result"
    }
   ],
   "source": [
    "k"
   ]
  },
  {
   "cell_type": "code",
   "execution_count": 85,
   "id": "0987e436",
   "metadata": {},
   "outputs": [],
   "source": [
    "k['name']='NARESH'"
   ]
  },
  {
   "cell_type": "code",
   "execution_count": 87,
   "id": "5ba7872b",
   "metadata": {},
   "outputs": [
    {
     "data": {
      "text/plain": [
       "{'name': 'NARESH', 'mobile': '9269885482'}"
      ]
     },
     "execution_count": 87,
     "metadata": {},
     "output_type": "execute_result"
    }
   ],
   "source": [
    "k"
   ]
  },
  {
   "cell_type": "code",
   "execution_count": 88,
   "id": "6d1b53c3",
   "metadata": {},
   "outputs": [
    {
     "data": {
      "text/plain": [
       "dict_keys(['name', 'mobile'])"
      ]
     },
     "execution_count": 88,
     "metadata": {},
     "output_type": "execute_result"
    }
   ],
   "source": [
    "k.keys()"
   ]
  },
  {
   "cell_type": "code",
   "execution_count": 89,
   "id": "9136ff50",
   "metadata": {},
   "outputs": [
    {
     "data": {
      "text/plain": [
       "dict_values(['NARESH', '9269885482'])"
      ]
     },
     "execution_count": 89,
     "metadata": {},
     "output_type": "execute_result"
    }
   ],
   "source": [
    "k.values()"
   ]
  },
  {
   "cell_type": "code",
   "execution_count": 92,
   "id": "932bb931",
   "metadata": {},
   "outputs": [
    {
     "data": {
      "text/plain": [
       "dict_items([('name', 'NARESH'), ('mobile', '9269885482')])"
      ]
     },
     "execution_count": 92,
     "metadata": {},
     "output_type": "execute_result"
    }
   ],
   "source": [
    "k.items()"
   ]
  },
  {
   "cell_type": "code",
   "execution_count": 93,
   "id": "73b200f3",
   "metadata": {},
   "outputs": [
    {
     "data": {
      "text/plain": [
       "('mobile', '9269885482')"
      ]
     },
     "execution_count": 93,
     "metadata": {},
     "output_type": "execute_result"
    }
   ],
   "source": [
    "k.popitem()"
   ]
  },
  {
   "cell_type": "code",
   "execution_count": null,
   "id": "eceaf032",
   "metadata": {},
   "outputs": [],
   "source": []
  }
 ],
 "metadata": {
  "kernelspec": {
   "display_name": "Python 3 (ipykernel)",
   "language": "python",
   "name": "python3"
  },
  "language_info": {
   "codemirror_mode": {
    "name": "ipython",
    "version": 3
   },
   "file_extension": ".py",
   "mimetype": "text/x-python",
   "name": "python",
   "nbconvert_exporter": "python",
   "pygments_lexer": "ipython3",
   "version": "3.9.12"
  }
 },
 "nbformat": 4,
 "nbformat_minor": 5
}
