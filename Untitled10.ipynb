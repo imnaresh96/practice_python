{
 "cells": [
  {
   "cell_type": "code",
   "execution_count": null,
   "id": "d2468d8e",
   "metadata": {},
   "outputs": [],
   "source": [
    "\n"
   ]
  },
  {
   "cell_type": "code",
   "execution_count": null,
   "id": "b83c0015",
   "metadata": {},
   "outputs": [],
   "source": []
  },
  {
   "cell_type": "code",
   "execution_count": 1,
   "id": "c0e03b18",
   "metadata": {},
   "outputs": [],
   "source": [
    "ip='192.168.21.95'"
   ]
  },
  {
   "cell_type": "code",
   "execution_count": 2,
   "id": "499bf1c7",
   "metadata": {},
   "outputs": [
    {
     "data": {
      "text/plain": [
       "'192.168.21.95'"
      ]
     },
     "execution_count": 2,
     "metadata": {},
     "output_type": "execute_result"
    }
   ],
   "source": [
    "ip"
   ]
  },
  {
   "cell_type": "code",
   "execution_count": 3,
   "id": "5888a6ce",
   "metadata": {},
   "outputs": [],
   "source": [
    "import re"
   ]
  },
  {
   "cell_type": "code",
   "execution_count": null,
   "id": "4901bae0",
   "metadata": {},
   "outputs": [],
   "source": []
  },
  {
   "cell_type": "code",
   "execution_count": 4,
   "id": "79197c6a",
   "metadata": {},
   "outputs": [],
   "source": [
    "txt = \"The rain in Spain\"\n",
    "x = re.search(\"^The.*Spain$\", txt)"
   ]
  },
  {
   "cell_type": "code",
   "execution_count": 5,
   "id": "561df6ae",
   "metadata": {},
   "outputs": [
    {
     "data": {
      "text/plain": [
       "<re.Match object; span=(0, 17), match='The rain in Spain'>"
      ]
     },
     "execution_count": 5,
     "metadata": {},
     "output_type": "execute_result"
    }
   ],
   "source": [
    "x"
   ]
  },
  {
   "cell_type": "code",
   "execution_count": 9,
   "id": "29555cd1",
   "metadata": {},
   "outputs": [
    {
     "name": "stdout",
     "output_type": "stream",
     "text": [
      "[]\n"
     ]
    }
   ],
   "source": [
    "txt = \"The rain in Spain\"\n",
    "x = re.findall(\"th\", txt)\n",
    "print(x)"
   ]
  },
  {
   "cell_type": "code",
   "execution_count": 10,
   "id": "a479f6da",
   "metadata": {},
   "outputs": [
    {
     "name": "stdout",
     "output_type": "stream",
     "text": [
      "[]\n"
     ]
    }
   ],
   "source": [
    "txt = \"The rain in Spain\"\n",
    "x = re.findall(\"Portugal\", txt)\n",
    "print(x)"
   ]
  },
  {
   "cell_type": "code",
   "execution_count": 16,
   "id": "f066c86f",
   "metadata": {},
   "outputs": [
    {
     "name": "stdout",
     "output_type": "stream",
     "text": [
      "['19Rahul', '26mahendra']\n"
     ]
    }
   ],
   "source": [
    "pattern=r\"[1-9]+[a-z,A-Z]*\"\n",
    "text=\"19Rahul 26mahendra kamal\"\n",
    "x=re.findall(pattern,text)\n",
    "print(x)"
   ]
  },
  {
   "cell_type": "code",
   "execution_count": 22,
   "id": "9070c9b6",
   "metadata": {},
   "outputs": [
    {
     "name": "stdout",
     "output_type": "stream",
     "text": [
      "['19', '16', '15', '19', '19', '16']\n"
     ]
    },
    {
     "name": "stderr",
     "output_type": "stream",
     "text": [
      "C:\\Users\\Admin\\AppData\\Local\\Temp\\ipykernel_2444\\1509737574.py:3: FutureWarning: Possible nested set at position 13\n",
      "  x=re.findall(pattern,text)\n"
     ]
    }
   ],
   "source": [
    "pattern=r\"^192.168.20+[[0-9]|1[0-9]|2[0-5]]\"\n",
    "text=\"'192.168.20.15','192.1+8.23.20','192.168.20.20'\"\n",
    "x=re.findall(pattern,text)\n",
    "print(x)"
   ]
  },
  {
   "cell_type": "code",
   "execution_count": null,
   "id": "047336f1",
   "metadata": {},
   "outputs": [],
   "source": [
    "start == 192.168.20.0\n",
    "\n",
    "\n",
    "endip== 192.168.20.254"
   ]
  },
  {
   "cell_type": "code",
   "execution_count": 64,
   "id": "19ba70d6",
   "metadata": {},
   "outputs": [],
   "source": [
    "pattern=(r\"\\b(?:(192.168.([2][5][0-5]).([0-9]|[1-2][0-5][0-5]|25[0-4])))\\b\")"
   ]
  },
  {
   "cell_type": "code",
   "execution_count": 86,
   "id": "19a975bc",
   "metadata": {},
   "outputs": [
    {
     "name": "stdout",
     "output_type": "stream",
     "text": [
      "['192.168.20.23', '192.168.20.254', '192.168.20.240', '192.168.20.181', '192.168.20.2', '192.168.20.254']\n"
     ]
    }
   ],
   "source": [
    "pattern=(r\"\\b(?:(192.168.([2][0]).([0-9]|[1-9][0-9]|[1][0-9][0-9]|[2][0-5][0-4])))\\b\")\n",
    "text=\"192.168.20.23, 192.168.20.254, 192.168.18.95, 192.168.20.240, 192.168.20.181,192.168.20.2 , 192.168.20.254, 192.168.21.23\"\n",
    "x=re.findall(pattern,text)\n",
    "l=[]\n",
    "for i in x:\n",
    "    l.append(i[0])\n",
    "print(l)"
   ]
  },
  {
   "cell_type": "code",
   "execution_count": 88,
   "id": "f6c95317",
   "metadata": {},
   "outputs": [
    {
     "name": "stdout",
     "output_type": "stream",
     "text": [
      "['192.168.20.23', '192.168.20.254', '192.168.20.240', '192.168.20.181', '192.168.20.2', '192.168.20.254', '192.168.20.200']\n"
     ]
    }
   ],
   "source": [
    "pattern=(r\"\\b(?:(192.168.20.([0-9]|[1-9][0-9]|[1][0-9][0-9]|[2][0-5][0-4])))\\b\")\n",
    "text=\"192.168.20.23, 192.168.20.254, 192.168.18.95, 192.168.20.240, 192.168.20.181,192.168.20.2 , 192.168.20.254, 192.168.20.200\"\n",
    "x=re.findall(pattern,text)\n",
    "l=[]\n",
    "for i in x:\n",
    "    l.append(i[0])\n",
    "print(l)"
   ]
  },
  {
   "cell_type": "code",
   "execution_count": 98,
   "id": "b2468230",
   "metadata": {},
   "outputs": [],
   "source": [
    "def find_ip():\n",
    "    pattern=(r\"\\b(?:(192.168.20.([0-9]|[1-9][0-9]|[1][0-9][0-9]|[2][0-5][0-4])))\\b\")\n",
    "    ip_list=\"192.168.20.23, 192.168.20.254, 192.168.18.95, 192.168.20.240, 192.168.20.181,192.168.20.2 , 192.168.20.254, 192.168.20.200\"\n",
    "    search_ip=re.findall(pattern,ip_list)\n",
    "    sorted_ip=[]\n",
    "    for i in search_ip:\n",
    "        sorted_ip.append(i[0])\n",
    "    return sorted_ip"
   ]
  },
  {
   "cell_type": "code",
   "execution_count": 99,
   "id": "d747f67f",
   "metadata": {},
   "outputs": [
    {
     "data": {
      "text/plain": [
       "['192.168.20.23',\n",
       " '192.168.20.254',\n",
       " '192.168.20.240',\n",
       " '192.168.20.181',\n",
       " '192.168.20.2',\n",
       " '192.168.20.254',\n",
       " '192.168.20.200']"
      ]
     },
     "execution_count": 99,
     "metadata": {},
     "output_type": "execute_result"
    }
   ],
   "source": [
    "find_ip()"
   ]
  },
  {
   "cell_type": "code",
   "execution_count": null,
   "id": "5ca84d1d",
   "metadata": {},
   "outputs": [],
   "source": []
  }
 ],
 "metadata": {
  "kernelspec": {
   "display_name": "Python 3 (ipykernel)",
   "language": "python",
   "name": "python3"
  },
  "language_info": {
   "codemirror_mode": {
    "name": "ipython",
    "version": 3
   },
   "file_extension": ".py",
   "mimetype": "text/x-python",
   "name": "python",
   "nbconvert_exporter": "python",
   "pygments_lexer": "ipython3",
   "version": "3.9.12"
  }
 },
 "nbformat": 4,
 "nbformat_minor": 5
}
