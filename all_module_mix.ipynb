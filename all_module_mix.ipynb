{
 "cells": [
  {
   "cell_type": "code",
   "execution_count": 1,
   "id": "51625f11",
   "metadata": {},
   "outputs": [],
   "source": [
    "import random"
   ]
  },
  {
   "cell_type": "code",
   "execution_count": 2,
   "id": "58d9cdee",
   "metadata": {},
   "outputs": [
    {
     "data": {
      "text/plain": [
       "0.9036002756564865"
      ]
     },
     "execution_count": 2,
     "metadata": {},
     "output_type": "execute_result"
    }
   ],
   "source": [
    "random.random()"
   ]
  },
  {
   "cell_type": "code",
   "execution_count": 3,
   "id": "6f149485",
   "metadata": {},
   "outputs": [
    {
     "data": {
      "text/plain": [
       "0.087489247312731"
      ]
     },
     "execution_count": 3,
     "metadata": {},
     "output_type": "execute_result"
    }
   ],
   "source": [
    "random.random()"
   ]
  },
  {
   "cell_type": "code",
   "execution_count": 4,
   "id": "0037f1d5",
   "metadata": {},
   "outputs": [
    {
     "data": {
      "text/plain": [
       "4.590460067540052"
      ]
     },
     "execution_count": 4,
     "metadata": {},
     "output_type": "execute_result"
    }
   ],
   "source": [
    "random.random()*10"
   ]
  },
  {
   "cell_type": "code",
   "execution_count": 5,
   "id": "bb78e2a4",
   "metadata": {},
   "outputs": [
    {
     "data": {
      "text/plain": [
       "1.1273428750224368"
      ]
     },
     "execution_count": 5,
     "metadata": {},
     "output_type": "execute_result"
    }
   ],
   "source": [
    "random.random()*10"
   ]
  },
  {
   "cell_type": "code",
   "execution_count": 6,
   "id": "0794c540",
   "metadata": {},
   "outputs": [
    {
     "data": {
      "text/plain": [
       "0.7805692862485714"
      ]
     },
     "execution_count": 6,
     "metadata": {},
     "output_type": "execute_result"
    }
   ],
   "source": [
    "random.random()*10"
   ]
  },
  {
   "cell_type": "code",
   "execution_count": 7,
   "id": "fb8d01ba",
   "metadata": {},
   "outputs": [
    {
     "data": {
      "text/plain": [
       "3.555263419904785"
      ]
     },
     "execution_count": 7,
     "metadata": {},
     "output_type": "execute_result"
    }
   ],
   "source": [
    "random.random()*10"
   ]
  },
  {
   "cell_type": "code",
   "execution_count": 8,
   "id": "6ec09ede",
   "metadata": {},
   "outputs": [
    {
     "data": {
      "text/plain": [
       "7.212986828117702"
      ]
     },
     "execution_count": 8,
     "metadata": {},
     "output_type": "execute_result"
    }
   ],
   "source": [
    "random.random()*10"
   ]
  },
  {
   "cell_type": "code",
   "execution_count": 9,
   "id": "90f240ed",
   "metadata": {},
   "outputs": [
    {
     "data": {
      "text/plain": [
       "3.108549486591051"
      ]
     },
     "execution_count": 9,
     "metadata": {},
     "output_type": "execute_result"
    }
   ],
   "source": [
    "random.random()*10"
   ]
  },
  {
   "cell_type": "code",
   "execution_count": 10,
   "id": "7837a5c5",
   "metadata": {},
   "outputs": [
    {
     "data": {
      "text/plain": [
       "10"
      ]
     },
     "execution_count": 10,
     "metadata": {},
     "output_type": "execute_result"
    }
   ],
   "source": [
    "random.randrange(1,11)"
   ]
  },
  {
   "cell_type": "code",
   "execution_count": 12,
   "id": "1c9bcc3f",
   "metadata": {},
   "outputs": [
    {
     "data": {
      "text/plain": [
       "7"
      ]
     },
     "execution_count": 12,
     "metadata": {},
     "output_type": "execute_result"
    }
   ],
   "source": [
    "random.randrange(5,8)"
   ]
  },
  {
   "cell_type": "code",
   "execution_count": 13,
   "id": "87657d87",
   "metadata": {},
   "outputs": [
    {
     "data": {
      "text/plain": [
       "10"
      ]
     },
     "execution_count": 13,
     "metadata": {},
     "output_type": "execute_result"
    }
   ],
   "source": [
    "random.randint(1,11)"
   ]
  },
  {
   "cell_type": "code",
   "execution_count": 14,
   "id": "5d3bdfec",
   "metadata": {},
   "outputs": [
    {
     "data": {
      "text/plain": [
       "5"
      ]
     },
     "execution_count": 14,
     "metadata": {},
     "output_type": "execute_result"
    }
   ],
   "source": [
    "random.randint(5,8)"
   ]
  },
  {
   "cell_type": "code",
   "execution_count": 16,
   "id": "16a1345a",
   "metadata": {},
   "outputs": [
    {
     "data": {
      "text/plain": [
       "4"
      ]
     },
     "execution_count": 16,
     "metadata": {},
     "output_type": "execute_result"
    }
   ],
   "source": [
    "random.choice([5,4,6,9,8])"
   ]
  },
  {
   "cell_type": "code",
   "execution_count": 17,
   "id": "f0009dfa",
   "metadata": {},
   "outputs": [
    {
     "data": {
      "text/plain": [
       "4"
      ]
     },
     "execution_count": 17,
     "metadata": {},
     "output_type": "execute_result"
    }
   ],
   "source": [
    "random.choice([5,4,6,9,8])"
   ]
  },
  {
   "cell_type": "code",
   "execution_count": 18,
   "id": "6d77c802",
   "metadata": {},
   "outputs": [
    {
     "data": {
      "text/plain": [
       "8"
      ]
     },
     "execution_count": 18,
     "metadata": {},
     "output_type": "execute_result"
    }
   ],
   "source": [
    "random.choice([5,4,6,9,8])"
   ]
  },
  {
   "cell_type": "code",
   "execution_count": 19,
   "id": "1fbc2c80",
   "metadata": {},
   "outputs": [
    {
     "data": {
      "text/plain": [
       "[4, 6]"
      ]
     },
     "execution_count": 19,
     "metadata": {},
     "output_type": "execute_result"
    }
   ],
   "source": [
    "random.choices([5,4,6,9,8,5,4,6],k=2)"
   ]
  },
  {
   "cell_type": "code",
   "execution_count": 20,
   "id": "3486d615",
   "metadata": {},
   "outputs": [
    {
     "data": {
      "text/plain": [
       "[4, 9]"
      ]
     },
     "execution_count": 20,
     "metadata": {},
     "output_type": "execute_result"
    }
   ],
   "source": [
    "random.choices([5,4,6,9,8,5,4,6],k=2)"
   ]
  },
  {
   "cell_type": "code",
   "execution_count": 21,
   "id": "f6585abf",
   "metadata": {},
   "outputs": [
    {
     "data": {
      "text/plain": [
       "[5, 4]"
      ]
     },
     "execution_count": 21,
     "metadata": {},
     "output_type": "execute_result"
    }
   ],
   "source": [
    "random.choices([5,4,6,9,8,5,4,6],k=2)"
   ]
  },
  {
   "cell_type": "code",
   "execution_count": 22,
   "id": "fbfb6e99",
   "metadata": {},
   "outputs": [
    {
     "data": {
      "text/plain": [
       "[9, 8]"
      ]
     },
     "execution_count": 22,
     "metadata": {},
     "output_type": "execute_result"
    }
   ],
   "source": [
    "random.choices([5,4,6,9,8,5,4,6],k=2)"
   ]
  },
  {
   "cell_type": "code",
   "execution_count": 23,
   "id": "4dd954ec",
   "metadata": {},
   "outputs": [
    {
     "name": "stdout",
     "output_type": "stream",
     "text": [
      "hey\n",
      "hey\n",
      "hello\n",
      "hello\n",
      "hi\n",
      "hello\n",
      "hello\n",
      "hey\n",
      "hi\n",
      "hi\n"
     ]
    }
   ],
   "source": [
    "for i in range(10):\n",
    "    print(random.choice(['hi','hello','hey']))"
   ]
  },
  {
   "cell_type": "code",
   "execution_count": 24,
   "id": "67b01c95",
   "metadata": {},
   "outputs": [],
   "source": [
    "l=[54,4,5,8,9,8,5,6,5,2,6,]"
   ]
  },
  {
   "cell_type": "code",
   "execution_count": 26,
   "id": "226e323d",
   "metadata": {},
   "outputs": [],
   "source": [
    "l.sort()"
   ]
  },
  {
   "cell_type": "code",
   "execution_count": 27,
   "id": "00c93de9",
   "metadata": {},
   "outputs": [
    {
     "data": {
      "text/plain": [
       "[2, 4, 5, 5, 5, 6, 6, 8, 8, 9, 54]"
      ]
     },
     "execution_count": 27,
     "metadata": {},
     "output_type": "execute_result"
    }
   ],
   "source": [
    "l"
   ]
  },
  {
   "cell_type": "code",
   "execution_count": 29,
   "id": "c621b845",
   "metadata": {},
   "outputs": [],
   "source": [
    "random.shuffle(l)"
   ]
  },
  {
   "cell_type": "code",
   "execution_count": 30,
   "id": "503babc1",
   "metadata": {},
   "outputs": [
    {
     "data": {
      "text/plain": [
       "[5, 54, 8, 5, 2, 4, 8, 6, 5, 9, 6]"
      ]
     },
     "execution_count": 30,
     "metadata": {},
     "output_type": "execute_result"
    }
   ],
   "source": [
    "l"
   ]
  },
  {
   "cell_type": "code",
   "execution_count": 31,
   "id": "f79bff9a",
   "metadata": {},
   "outputs": [
    {
     "name": "stdout",
     "output_type": "stream",
     "text": [
      "['BPF', 'LOG4', 'NV_MAGICCONST', 'RECIP_BPF', 'Random', 'SG_MAGICCONST', 'SystemRandom', 'TWOPI', '_Sequence', '_Set', '__all__', '__builtins__', '__cached__', '__doc__', '__file__', '__loader__', '__name__', '__package__', '__spec__', '_accumulate', '_acos', '_bisect', '_ceil', '_cos', '_e', '_exp', '_floor', '_inst', '_log', '_os', '_pi', '_random', '_repeat', '_sha512', '_sin', '_sqrt', '_test', '_test_generator', '_urandom', '_warn', 'betavariate', 'choice', 'choices', 'expovariate', 'gammavariate', 'gauss', 'getrandbits', 'getstate', 'lognormvariate', 'normalvariate', 'paretovariate', 'randbytes', 'randint', 'random', 'randrange', 'sample', 'seed', 'setstate', 'shuffle', 'triangular', 'uniform', 'vonmisesvariate', 'weibullvariate']\n"
     ]
    }
   ],
   "source": [
    "print(dir(random))"
   ]
  },
  {
   "cell_type": "code",
   "execution_count": 32,
   "id": "a6ce832f",
   "metadata": {},
   "outputs": [],
   "source": [
    "import os"
   ]
  },
  {
   "cell_type": "code",
   "execution_count": 33,
   "id": "2237a57a",
   "metadata": {},
   "outputs": [
    {
     "data": {
      "text/plain": [
       "'H:\\\\Python\\\\practice_python'"
      ]
     },
     "execution_count": 33,
     "metadata": {},
     "output_type": "execute_result"
    }
   ],
   "source": [
    "os.getcwd()"
   ]
  },
  {
   "cell_type": "code",
   "execution_count": 36,
   "id": "8c6eb77f",
   "metadata": {},
   "outputs": [
    {
     "data": {
      "text/plain": [
       "['.git',\n",
       " '.ipynb_checkpoints',\n",
       " '1st.txt',\n",
       " 'anchor_tag.html',\n",
       " 'Anonymous_Function.ipynb',\n",
       " 'basic_code.html',\n",
       " 'collection_practice.ipynb',\n",
       " 'copy_paste_project_for_practice.ipynb',\n",
       " 'core_project_practice.ipynb',\n",
       " 'datatype.ipynb',\n",
       " 'datetime_module_practice.ipynb',\n",
       " 'demo.html',\n",
       " 'desktop.ini',\n",
       " 'driving_lic.ipynb',\n",
       " 'file_handling.ipynb',\n",
       " 'find lenth of string.ipynb',\n",
       " 'find_biggest_number.ipynb',\n",
       " 'find_factorial.ipynb',\n",
       " 'function _type.ipynb',\n",
       " 'functions.ipynb',\n",
       " 'function_all_type.ipynb',\n",
       " 'function_practice.ipynb',\n",
       " 'function_with_parameters.ipynb',\n",
       " 'heading.html',\n",
       " 'heart.ipynb',\n",
       " 'hyperlink.html',\n",
       " 'if_else.ipynb',\n",
       " 'image.html',\n",
       " 'keyword_arguments_function.ipynb',\n",
       " 'list_method_practice.ipynb',\n",
       " 'loops_control_statement.ipynb',\n",
       " 'math_module_practice.ipynb',\n",
       " 'module_practice.ipynb',\n",
       " 'mynewfile.txt',\n",
       " 'my_file.txt',\n",
       " 'odd_even_number.ipynb',\n",
       " 'positive_negative_value.ipynb',\n",
       " 'practice_dict.ipynb',\n",
       " 'practice_for_assignment.ipynb',\n",
       " 'practice_for_solve_problem.ipynb',\n",
       " 'practice_module.ipynb',\n",
       " 'project_ATM_Machine.ipynb',\n",
       " 'Project_Guess_Number.ipynb',\n",
       " 'project_login_info.ipynb',\n",
       " 'random_module.ipynb',\n",
       " 'Readme.md',\n",
       " 'revision.ipynb',\n",
       " 'set.ipynb',\n",
       " 'set_function.ipynb',\n",
       " 'set_method_practice.ipynb',\n",
       " 'set_operations.ipynb',\n",
       " 'slicing.ipynb',\n",
       " 'something.ipynb',\n",
       " 'stimulator_game.ipynb',\n",
       " 'Student_data.ipynb',\n",
       " 'turtle.ipynb',\n",
       " 'Untitled.ipynb',\n",
       " 'Untitled1.ipynb',\n",
       " 'Untitled2.ipynb',\n",
       " 'without_parameters_function.ipynb',\n",
       " '_random_module_practice.ipynb']"
      ]
     },
     "execution_count": 36,
     "metadata": {},
     "output_type": "execute_result"
    }
   ],
   "source": [
    "os.listdir(os.getcwd())"
   ]
  },
  {
   "cell_type": "code",
   "execution_count": 38,
   "id": "40ddda23",
   "metadata": {},
   "outputs": [
    {
     "name": "stdout",
     "output_type": "stream",
     "text": [
      "<DirEntry '.git'>\n",
      "<DirEntry '.ipynb_checkpoints'>\n",
      "<DirEntry '1st.txt'>\n",
      "<DirEntry 'anchor_tag.html'>\n",
      "<DirEntry 'Anonymous_Function.ipynb'>\n",
      "<DirEntry 'basic_code.html'>\n",
      "<DirEntry 'collection_practice.ipynb'>\n",
      "<DirEntry 'copy_paste_project_for_practice.ipynb'>\n",
      "<DirEntry 'core_project_practice.ipynb'>\n",
      "<DirEntry 'datatype.ipynb'>\n",
      "<DirEntry 'datetime_module_practice.ipynb'>\n",
      "<DirEntry 'demo.html'>\n",
      "<DirEntry 'desktop.ini'>\n",
      "<DirEntry 'driving_lic.ipynb'>\n",
      "<DirEntry 'file_handling.ipynb'>\n",
      "<DirEntry 'find lenth of string.ipynb'>\n",
      "<DirEntry 'find_biggest_number.ipynb'>\n",
      "<DirEntry 'find_factorial.ipynb'>\n",
      "<DirEntry 'function _type.ipynb'>\n",
      "<DirEntry 'functions.ipynb'>\n",
      "<DirEntry 'function_all_type.ipynb'>\n",
      "<DirEntry 'function_practice.ipynb'>\n",
      "<DirEntry 'function_with_parameters.ipynb'>\n",
      "<DirEntry 'heading.html'>\n",
      "<DirEntry 'heart.ipynb'>\n",
      "<DirEntry 'hyperlink.html'>\n",
      "<DirEntry 'if_else.ipynb'>\n",
      "<DirEntry 'image.html'>\n",
      "<DirEntry 'keyword_arguments_function.ipynb'>\n",
      "<DirEntry 'list_method_practice.ipynb'>\n",
      "<DirEntry 'loops_control_statement.ipynb'>\n",
      "<DirEntry 'math_module_practice.ipynb'>\n",
      "<DirEntry 'module_practice.ipynb'>\n",
      "<DirEntry 'mynewfile.txt'>\n",
      "<DirEntry 'my_file.txt'>\n",
      "<DirEntry 'odd_even_number.ipynb'>\n",
      "<DirEntry 'positive_negative_value.ipynb'>\n",
      "<DirEntry 'practice_dict.ipynb'>\n",
      "<DirEntry 'practice_for_assignment.ipynb'>\n",
      "<DirEntry 'practice_for_solve_problem.ipynb'>\n",
      "<DirEntry 'practice_module.ipynb'>\n",
      "<DirEntry 'project_ATM_Machine.ipynb'>\n",
      "<DirEntry 'Project_Guess_Number.ipynb'>\n",
      "<DirEntry 'project_login_info.ipynb'>\n",
      "<DirEntry 'random_module.ipynb'>\n",
      "<DirEntry 'Readme.md'>\n",
      "<DirEntry 'revision.ipynb'>\n",
      "<DirEntry 'set.ipynb'>\n",
      "<DirEntry 'set_function.ipynb'>\n",
      "<DirEntry 'set_method_practice.ipynb'>\n",
      "<DirEntry 'set_operations.ipynb'>\n",
      "<DirEntry 'slicing.ipynb'>\n",
      "<DirEntry 'something.ipynb'>\n",
      "<DirEntry 'stimulator_game.ipynb'>\n",
      "<DirEntry 'Student_data.ipynb'>\n",
      "<DirEntry 'turtle.ipynb'>\n",
      "<DirEntry 'Untitled.ipynb'>\n",
      "<DirEntry 'Untitled1.ipynb'>\n",
      "<DirEntry 'Untitled2.ipynb'>\n",
      "<DirEntry 'without_parameters_function.ipynb'>\n",
      "<DirEntry '_random_module_practice.ipynb'>\n"
     ]
    }
   ],
   "source": [
    "for item in os.scandir(os.getcwd()):\n",
    "    print(item)"
   ]
  },
  {
   "cell_type": "code",
   "execution_count": 41,
   "id": "65d7bac6",
   "metadata": {},
   "outputs": [
    {
     "name": "stdout",
     "output_type": "stream",
     "text": [
      "True <DirEntry '.git'>\n",
      "True <DirEntry '.ipynb_checkpoints'>\n",
      "False <DirEntry '1st.txt'>\n",
      "False <DirEntry 'anchor_tag.html'>\n",
      "False <DirEntry 'Anonymous_Function.ipynb'>\n",
      "False <DirEntry 'basic_code.html'>\n",
      "False <DirEntry 'collection_practice.ipynb'>\n",
      "False <DirEntry 'copy_paste_project_for_practice.ipynb'>\n",
      "False <DirEntry 'core_project_practice.ipynb'>\n",
      "False <DirEntry 'datatype.ipynb'>\n",
      "False <DirEntry 'datetime_module_practice.ipynb'>\n",
      "False <DirEntry 'demo.html'>\n",
      "False <DirEntry 'desktop.ini'>\n",
      "False <DirEntry 'driving_lic.ipynb'>\n",
      "False <DirEntry 'file_handling.ipynb'>\n",
      "False <DirEntry 'find lenth of string.ipynb'>\n",
      "False <DirEntry 'find_biggest_number.ipynb'>\n",
      "False <DirEntry 'find_factorial.ipynb'>\n",
      "False <DirEntry 'function _type.ipynb'>\n",
      "False <DirEntry 'functions.ipynb'>\n",
      "False <DirEntry 'function_all_type.ipynb'>\n",
      "False <DirEntry 'function_practice.ipynb'>\n",
      "False <DirEntry 'function_with_parameters.ipynb'>\n",
      "False <DirEntry 'heading.html'>\n",
      "False <DirEntry 'heart.ipynb'>\n",
      "False <DirEntry 'hyperlink.html'>\n",
      "False <DirEntry 'if_else.ipynb'>\n",
      "False <DirEntry 'image.html'>\n",
      "False <DirEntry 'keyword_arguments_function.ipynb'>\n",
      "False <DirEntry 'list_method_practice.ipynb'>\n",
      "False <DirEntry 'loops_control_statement.ipynb'>\n",
      "False <DirEntry 'math_module_practice.ipynb'>\n",
      "False <DirEntry 'module_practice.ipynb'>\n",
      "False <DirEntry 'mynewfile.txt'>\n",
      "False <DirEntry 'my_file.txt'>\n",
      "False <DirEntry 'odd_even_number.ipynb'>\n",
      "False <DirEntry 'positive_negative_value.ipynb'>\n",
      "False <DirEntry 'practice_dict.ipynb'>\n",
      "False <DirEntry 'practice_for_assignment.ipynb'>\n",
      "False <DirEntry 'practice_for_solve_problem.ipynb'>\n",
      "False <DirEntry 'practice_module.ipynb'>\n",
      "False <DirEntry 'project_ATM_Machine.ipynb'>\n",
      "False <DirEntry 'Project_Guess_Number.ipynb'>\n",
      "False <DirEntry 'project_login_info.ipynb'>\n",
      "False <DirEntry 'random_module.ipynb'>\n",
      "False <DirEntry 'Readme.md'>\n",
      "False <DirEntry 'revision.ipynb'>\n",
      "False <DirEntry 'set.ipynb'>\n",
      "False <DirEntry 'set_function.ipynb'>\n",
      "False <DirEntry 'set_method_practice.ipynb'>\n",
      "False <DirEntry 'set_operations.ipynb'>\n",
      "False <DirEntry 'slicing.ipynb'>\n",
      "False <DirEntry 'something.ipynb'>\n",
      "False <DirEntry 'stimulator_game.ipynb'>\n",
      "False <DirEntry 'Student_data.ipynb'>\n",
      "False <DirEntry 'turtle.ipynb'>\n",
      "False <DirEntry 'Untitled.ipynb'>\n",
      "False <DirEntry 'Untitled1.ipynb'>\n",
      "False <DirEntry 'Untitled2.ipynb'>\n",
      "False <DirEntry 'without_parameters_function.ipynb'>\n",
      "False <DirEntry '_random_module_practice.ipynb'>\n"
     ]
    }
   ],
   "source": [
    "for item in os.scandir(os.getcwd()):\n",
    "    print(item.is_dir(),item)"
   ]
  },
  {
   "cell_type": "code",
   "execution_count": 42,
   "id": "067e501f",
   "metadata": {},
   "outputs": [],
   "source": [
    "import math"
   ]
  },
  {
   "cell_type": "code",
   "execution_count": 43,
   "id": "39de62a1",
   "metadata": {},
   "outputs": [
    {
     "data": {
      "text/plain": [
       "16"
      ]
     },
     "execution_count": 43,
     "metadata": {},
     "output_type": "execute_result"
    }
   ],
   "source": [
    "pow(2,4)"
   ]
  },
  {
   "cell_type": "code",
   "execution_count": 45,
   "id": "6a073c4b",
   "metadata": {},
   "outputs": [
    {
     "data": {
      "text/plain": [
       "1953125"
      ]
     },
     "execution_count": 45,
     "metadata": {},
     "output_type": "execute_result"
    }
   ],
   "source": [
    "pow(5,9)"
   ]
  },
  {
   "cell_type": "code",
   "execution_count": 46,
   "id": "573910c8",
   "metadata": {},
   "outputs": [
    {
     "data": {
      "text/plain": [
       "625"
      ]
     },
     "execution_count": 46,
     "metadata": {},
     "output_type": "execute_result"
    }
   ],
   "source": [
    "pow(5,4)"
   ]
  },
  {
   "cell_type": "code",
   "execution_count": 47,
   "id": "6126e1b3",
   "metadata": {},
   "outputs": [
    {
     "data": {
      "text/plain": [
       "2.23606797749979"
      ]
     },
     "execution_count": 47,
     "metadata": {},
     "output_type": "execute_result"
    }
   ],
   "source": [
    "math.sqrt(5)"
   ]
  },
  {
   "cell_type": "code",
   "execution_count": 48,
   "id": "bb0437d1",
   "metadata": {},
   "outputs": [
    {
     "data": {
      "text/plain": [
       "3.0"
      ]
     },
     "execution_count": 48,
     "metadata": {},
     "output_type": "execute_result"
    }
   ],
   "source": [
    "math.sqrt(9)"
   ]
  },
  {
   "cell_type": "code",
   "execution_count": 50,
   "id": "b9d34335",
   "metadata": {},
   "outputs": [
    {
     "data": {
      "text/plain": [
       "0.0"
      ]
     },
     "execution_count": 50,
     "metadata": {},
     "output_type": "execute_result"
    }
   ],
   "source": [
    "math.remainder(4,2)"
   ]
  },
  {
   "cell_type": "code",
   "execution_count": 51,
   "id": "eaddbbf0",
   "metadata": {},
   "outputs": [
    {
     "data": {
      "text/plain": [
       "3.0"
      ]
     },
     "execution_count": 51,
     "metadata": {},
     "output_type": "execute_result"
    }
   ],
   "source": [
    "math.remainder(10,7)"
   ]
  },
  {
   "cell_type": "code",
   "execution_count": 54,
   "id": "18574440",
   "metadata": {},
   "outputs": [
    {
     "data": {
      "text/plain": [
       "3.0"
      ]
     },
     "execution_count": 54,
     "metadata": {},
     "output_type": "execute_result"
    }
   ],
   "source": [
    "math.remainder(10,7)"
   ]
  },
  {
   "cell_type": "code",
   "execution_count": 59,
   "id": "4f2ce31f",
   "metadata": {},
   "outputs": [
    {
     "data": {
      "text/plain": [
       "12.0"
      ]
     },
     "execution_count": 59,
     "metadata": {},
     "output_type": "execute_result"
    }
   ],
   "source": [
    "math.remainder(62,25)"
   ]
  },
  {
   "cell_type": "code",
   "execution_count": 60,
   "id": "8b7a996c",
   "metadata": {},
   "outputs": [
    {
     "data": {
      "text/plain": [
       "362880"
      ]
     },
     "execution_count": 60,
     "metadata": {},
     "output_type": "execute_result"
    }
   ],
   "source": [
    "math.factorial(9)"
   ]
  },
  {
   "cell_type": "code",
   "execution_count": 61,
   "id": "d9d9b8e5",
   "metadata": {},
   "outputs": [
    {
     "data": {
      "text/plain": [
       "120"
      ]
     },
     "execution_count": 61,
     "metadata": {},
     "output_type": "execute_result"
    }
   ],
   "source": [
    "math.factorial(5)"
   ]
  },
  {
   "cell_type": "code",
   "execution_count": 62,
   "id": "67094861",
   "metadata": {},
   "outputs": [
    {
     "name": "stdout",
     "output_type": "stream",
     "text": [
      "['__doc__', '__loader__', '__name__', '__package__', '__spec__', 'acos', 'acosh', 'asin', 'asinh', 'atan', 'atan2', 'atanh', 'ceil', 'comb', 'copysign', 'cos', 'cosh', 'degrees', 'dist', 'e', 'erf', 'erfc', 'exp', 'expm1', 'fabs', 'factorial', 'floor', 'fmod', 'frexp', 'fsum', 'gamma', 'gcd', 'hypot', 'inf', 'isclose', 'isfinite', 'isinf', 'isnan', 'isqrt', 'lcm', 'ldexp', 'lgamma', 'log', 'log10', 'log1p', 'log2', 'modf', 'nan', 'nextafter', 'perm', 'pi', 'pow', 'prod', 'radians', 'remainder', 'sin', 'sinh', 'sqrt', 'tan', 'tanh', 'tau', 'trunc', 'ulp']\n"
     ]
    }
   ],
   "source": [
    "print(dir(math))"
   ]
  },
  {
   "cell_type": "code",
   "execution_count": 63,
   "id": "52595cdc",
   "metadata": {},
   "outputs": [
    {
     "data": {
      "text/plain": [
       "5"
      ]
     },
     "execution_count": 63,
     "metadata": {},
     "output_type": "execute_result"
    }
   ],
   "source": [
    "math.floor(5)"
   ]
  },
  {
   "cell_type": "code",
   "execution_count": 65,
   "id": "a523195e",
   "metadata": {},
   "outputs": [
    {
     "data": {
      "text/plain": [
       "4"
      ]
     },
     "execution_count": 65,
     "metadata": {},
     "output_type": "execute_result"
    }
   ],
   "source": [
    "math.floor(4.8)"
   ]
  },
  {
   "cell_type": "code",
   "execution_count": 66,
   "id": "c90df847",
   "metadata": {},
   "outputs": [
    {
     "data": {
      "text/plain": [
       "5"
      ]
     },
     "execution_count": 66,
     "metadata": {},
     "output_type": "execute_result"
    }
   ],
   "source": [
    "math.floor(5.9)"
   ]
  },
  {
   "cell_type": "code",
   "execution_count": 68,
   "id": "58927488",
   "metadata": {},
   "outputs": [
    {
     "data": {
      "text/plain": [
       "54.0"
      ]
     },
     "execution_count": 68,
     "metadata": {},
     "output_type": "execute_result"
    }
   ],
   "source": [
    "math.fabs(54)"
   ]
  },
  {
   "cell_type": "code",
   "execution_count": 69,
   "id": "f08b51ff",
   "metadata": {},
   "outputs": [
    {
     "data": {
      "text/plain": [
       "45.0"
      ]
     },
     "execution_count": 69,
     "metadata": {},
     "output_type": "execute_result"
    }
   ],
   "source": [
    "math.fabs(-45)"
   ]
  },
  {
   "cell_type": "code",
   "execution_count": 71,
   "id": "b4c5fdeb",
   "metadata": {},
   "outputs": [
    {
     "data": {
      "text/plain": [
       "454"
      ]
     },
     "execution_count": 71,
     "metadata": {},
     "output_type": "execute_result"
    }
   ],
   "source": [
    "abs(-454)"
   ]
  },
  {
   "cell_type": "code",
   "execution_count": 73,
   "id": "a9db57eb",
   "metadata": {},
   "outputs": [
    {
     "data": {
      "text/plain": [
       "572.9577951308232"
      ]
     },
     "execution_count": 73,
     "metadata": {},
     "output_type": "execute_result"
    }
   ],
   "source": [
    "math.degrees(10)"
   ]
  },
  {
   "cell_type": "code",
   "execution_count": 74,
   "id": "50fb1f96",
   "metadata": {},
   "outputs": [
    {
     "data": {
      "text/plain": [
       "286.4788975654116"
      ]
     },
     "execution_count": 74,
     "metadata": {},
     "output_type": "execute_result"
    }
   ],
   "source": [
    "math.degrees(5)"
   ]
  },
  {
   "cell_type": "code",
   "execution_count": 75,
   "id": "3d15d790",
   "metadata": {},
   "outputs": [],
   "source": [
    "import calendar"
   ]
  },
  {
   "cell_type": "code",
   "execution_count": 77,
   "id": "d00371bf",
   "metadata": {},
   "outputs": [
    {
     "name": "stdout",
     "output_type": "stream",
     "text": [
      "                                  2022\n",
      "\n",
      "      January                   February                   March\n",
      "Mo Tu We Th Fr Sa Su      Mo Tu We Th Fr Sa Su      Mo Tu We Th Fr Sa Su\n",
      "                1  2          1  2  3  4  5  6          1  2  3  4  5  6\n",
      " 3  4  5  6  7  8  9       7  8  9 10 11 12 13       7  8  9 10 11 12 13\n",
      "10 11 12 13 14 15 16      14 15 16 17 18 19 20      14 15 16 17 18 19 20\n",
      "17 18 19 20 21 22 23      21 22 23 24 25 26 27      21 22 23 24 25 26 27\n",
      "24 25 26 27 28 29 30      28                        28 29 30 31\n",
      "31\n",
      "\n",
      "       April                      May                       June\n",
      "Mo Tu We Th Fr Sa Su      Mo Tu We Th Fr Sa Su      Mo Tu We Th Fr Sa Su\n",
      "             1  2  3                         1             1  2  3  4  5\n",
      " 4  5  6  7  8  9 10       2  3  4  5  6  7  8       6  7  8  9 10 11 12\n",
      "11 12 13 14 15 16 17       9 10 11 12 13 14 15      13 14 15 16 17 18 19\n",
      "18 19 20 21 22 23 24      16 17 18 19 20 21 22      20 21 22 23 24 25 26\n",
      "25 26 27 28 29 30         23 24 25 26 27 28 29      27 28 29 30\n",
      "                          30 31\n",
      "\n",
      "        July                     August                  September\n",
      "Mo Tu We Th Fr Sa Su      Mo Tu We Th Fr Sa Su      Mo Tu We Th Fr Sa Su\n",
      "             1  2  3       1  2  3  4  5  6  7                1  2  3  4\n",
      " 4  5  6  7  8  9 10       8  9 10 11 12 13 14       5  6  7  8  9 10 11\n",
      "11 12 13 14 15 16 17      15 16 17 18 19 20 21      12 13 14 15 16 17 18\n",
      "18 19 20 21 22 23 24      22 23 24 25 26 27 28      19 20 21 22 23 24 25\n",
      "25 26 27 28 29 30 31      29 30 31                  26 27 28 29 30\n",
      "\n",
      "      October                   November                  December\n",
      "Mo Tu We Th Fr Sa Su      Mo Tu We Th Fr Sa Su      Mo Tu We Th Fr Sa Su\n",
      "                1  2          1  2  3  4  5  6                1  2  3  4\n",
      " 3  4  5  6  7  8  9       7  8  9 10 11 12 13       5  6  7  8  9 10 11\n",
      "10 11 12 13 14 15 16      14 15 16 17 18 19 20      12 13 14 15 16 17 18\n",
      "17 18 19 20 21 22 23      21 22 23 24 25 26 27      19 20 21 22 23 24 25\n",
      "24 25 26 27 28 29 30      28 29 30                  26 27 28 29 30 31\n",
      "31\n",
      "\n"
     ]
    }
   ],
   "source": [
    "p=calendar.calendar(2022)\n",
    "print(p)"
   ]
  },
  {
   "cell_type": "code",
   "execution_count": 81,
   "id": "fb46dcca",
   "metadata": {},
   "outputs": [
    {
     "name": "stdout",
     "output_type": "stream",
     "text": [
      "    August 1996\n",
      "Mo Tu We Th Fr Sa Su\n",
      "          1  2  3  4\n",
      " 5  6  7  8  9 10 11\n",
      "12 13 14 15 16 17 18\n",
      "19 20 21 22 23 24 25\n",
      "26 27 28 29 30 31\n",
      "\n"
     ]
    }
   ],
   "source": [
    "l=calendar.month(1996,8)\n",
    "print(l)"
   ]
  },
  {
   "cell_type": "code",
   "execution_count": 82,
   "id": "636d439f",
   "metadata": {},
   "outputs": [],
   "source": [
    "k=calendar.month(2022,8)"
   ]
  },
  {
   "cell_type": "code",
   "execution_count": 83,
   "id": "932a0316",
   "metadata": {},
   "outputs": [
    {
     "name": "stdout",
     "output_type": "stream",
     "text": [
      "    August 2022\n",
      "Mo Tu We Th Fr Sa Su\n",
      " 1  2  3  4  5  6  7\n",
      " 8  9 10 11 12 13 14\n",
      "15 16 17 18 19 20 21\n",
      "22 23 24 25 26 27 28\n",
      "29 30 31\n",
      "\n"
     ]
    }
   ],
   "source": [
    "print(k)"
   ]
  },
  {
   "cell_type": "code",
   "execution_count": 84,
   "id": "a1a03878",
   "metadata": {},
   "outputs": [],
   "source": [
    "import datetime"
   ]
  },
  {
   "cell_type": "code",
   "execution_count": 85,
   "id": "d8002f60",
   "metadata": {},
   "outputs": [
    {
     "data": {
      "text/plain": [
       "datetime.datetime(2022, 10, 8, 12, 17, 58, 635869)"
      ]
     },
     "execution_count": 85,
     "metadata": {},
     "output_type": "execute_result"
    }
   ],
   "source": [
    "datetime.datetime.now()"
   ]
  },
  {
   "cell_type": "code",
   "execution_count": 86,
   "id": "484f31a4",
   "metadata": {},
   "outputs": [
    {
     "data": {
      "text/plain": [
       "datetime.datetime(2022, 10, 8, 12, 18, 14, 497823)"
      ]
     },
     "execution_count": 86,
     "metadata": {},
     "output_type": "execute_result"
    }
   ],
   "source": [
    "datetime.datetime.now()"
   ]
  },
  {
   "cell_type": "code",
   "execution_count": 87,
   "id": "283d0e49",
   "metadata": {},
   "outputs": [
    {
     "data": {
      "text/plain": [
       "datetime.datetime(2022, 10, 8, 12, 18, 22, 692034)"
      ]
     },
     "execution_count": 87,
     "metadata": {},
     "output_type": "execute_result"
    }
   ],
   "source": [
    "datetime.datetime.now()"
   ]
  },
  {
   "cell_type": "code",
   "execution_count": 89,
   "id": "90fa9ffd",
   "metadata": {},
   "outputs": [],
   "source": [
    "k=datetime.datetime.now()"
   ]
  },
  {
   "cell_type": "code",
   "execution_count": 90,
   "id": "40f234cc",
   "metadata": {},
   "outputs": [
    {
     "data": {
      "text/plain": [
       "datetime.date(2022, 10, 8)"
      ]
     },
     "execution_count": 90,
     "metadata": {},
     "output_type": "execute_result"
    }
   ],
   "source": [
    "k.date()"
   ]
  },
  {
   "cell_type": "code",
   "execution_count": 91,
   "id": "790be5fd",
   "metadata": {},
   "outputs": [
    {
     "data": {
      "text/plain": [
       "datetime.time(12, 20, 36, 518172)"
      ]
     },
     "execution_count": 91,
     "metadata": {},
     "output_type": "execute_result"
    }
   ],
   "source": [
    "k.time()"
   ]
  },
  {
   "cell_type": "code",
   "execution_count": 93,
   "id": "671d6251",
   "metadata": {},
   "outputs": [
    {
     "ename": "TypeError",
     "evalue": "timezone() missing required argument 'offset' (pos 1)",
     "output_type": "error",
     "traceback": [
      "\u001b[1;31m---------------------------------------------------------------------------\u001b[0m",
      "\u001b[1;31mTypeError\u001b[0m                                 Traceback (most recent call last)",
      "Input \u001b[1;32mIn [93]\u001b[0m, in \u001b[0;36m<cell line: 1>\u001b[1;34m()\u001b[0m\n\u001b[1;32m----> 1\u001b[0m \u001b[43mdatetime\u001b[49m\u001b[38;5;241;43m.\u001b[39;49m\u001b[43mtimezone\u001b[49m\u001b[43m(\u001b[49m\u001b[43m)\u001b[49m\n",
      "\u001b[1;31mTypeError\u001b[0m: timezone() missing required argument 'offset' (pos 1)"
     ]
    }
   ],
   "source": [
    "datetime.timezone()"
   ]
  },
  {
   "cell_type": "code",
   "execution_count": 1,
   "id": "34aec943",
   "metadata": {},
   "outputs": [],
   "source": [
    "file_obj=open('my_file.txt')"
   ]
  },
  {
   "cell_type": "code",
   "execution_count": 2,
   "id": "b7413046",
   "metadata": {},
   "outputs": [
    {
     "data": {
      "text/plain": [
       "'hello this is use for practice\\n new line addded\\n practice gone right file handling is correct hello hello\\nhello this is demo'"
      ]
     },
     "execution_count": 2,
     "metadata": {},
     "output_type": "execute_result"
    }
   ],
   "source": [
    "file_obj.read()"
   ]
  },
  {
   "cell_type": "code",
   "execution_count": 3,
   "id": "63e99081",
   "metadata": {},
   "outputs": [
    {
     "data": {
      "text/plain": [
       "False"
      ]
     },
     "execution_count": 3,
     "metadata": {},
     "output_type": "execute_result"
    }
   ],
   "source": [
    "file_obj.writable()"
   ]
  },
  {
   "cell_type": "code",
   "execution_count": 4,
   "id": "66be1769",
   "metadata": {},
   "outputs": [
    {
     "data": {
      "text/plain": [
       "True"
      ]
     },
     "execution_count": 4,
     "metadata": {},
     "output_type": "execute_result"
    }
   ],
   "source": [
    "file_obj.readable()"
   ]
  },
  {
   "cell_type": "code",
   "execution_count": 5,
   "id": "3a3d6ce4",
   "metadata": {},
   "outputs": [],
   "source": [
    "file_obj.close()"
   ]
  },
  {
   "cell_type": "code",
   "execution_count": 6,
   "id": "c9fd33a0",
   "metadata": {},
   "outputs": [],
   "source": [
    "file_obj=open('mynewfile.txt','a+')"
   ]
  },
  {
   "cell_type": "code",
   "execution_count": 7,
   "id": "bd3c1a7e",
   "metadata": {},
   "outputs": [
    {
     "data": {
      "text/plain": [
       "True"
      ]
     },
     "execution_count": 7,
     "metadata": {},
     "output_type": "execute_result"
    }
   ],
   "source": [
    "file_obj.readable()"
   ]
  },
  {
   "cell_type": "code",
   "execution_count": 8,
   "id": "a3ad8722",
   "metadata": {},
   "outputs": [
    {
     "data": {
      "text/plain": [
       "True"
      ]
     },
     "execution_count": 8,
     "metadata": {},
     "output_type": "execute_result"
    }
   ],
   "source": [
    "file_obj.writable()"
   ]
  },
  {
   "cell_type": "code",
   "execution_count": 9,
   "id": "d2060c3e",
   "metadata": {},
   "outputs": [
    {
     "data": {
      "text/plain": [
       "''"
      ]
     },
     "execution_count": 9,
     "metadata": {},
     "output_type": "execute_result"
    }
   ],
   "source": [
    "file_obj.read()"
   ]
  },
  {
   "cell_type": "code",
   "execution_count": 17,
   "id": "4a41590a",
   "metadata": {},
   "outputs": [
    {
     "data": {
      "text/plain": [
       "45"
      ]
     },
     "execution_count": 17,
     "metadata": {},
     "output_type": "execute_result"
    }
   ],
   "source": [
    "file_obj.write('this file empty when we open in w write  mode')"
   ]
  },
  {
   "cell_type": "code",
   "execution_count": 18,
   "id": "6aefc883",
   "metadata": {},
   "outputs": [
    {
     "data": {
      "text/plain": [
       "''"
      ]
     },
     "execution_count": 18,
     "metadata": {},
     "output_type": "execute_result"
    }
   ],
   "source": [
    "file_obj.read()"
   ]
  },
  {
   "cell_type": "code",
   "execution_count": 19,
   "id": "a9891751",
   "metadata": {},
   "outputs": [],
   "source": [
    "file_obj.close()"
   ]
  },
  {
   "cell_type": "code",
   "execution_count": 30,
   "id": "e9f51289",
   "metadata": {},
   "outputs": [],
   "source": [
    "file_obj=open('mynewfile.txt','r+')"
   ]
  },
  {
   "cell_type": "code",
   "execution_count": 31,
   "id": "8b23acc8",
   "metadata": {},
   "outputs": [
    {
     "data": {
      "text/plain": [
       "True"
      ]
     },
     "execution_count": 31,
     "metadata": {},
     "output_type": "execute_result"
    }
   ],
   "source": [
    "file_obj.readable()"
   ]
  },
  {
   "cell_type": "code",
   "execution_count": 32,
   "id": "a8c3dd74",
   "metadata": {},
   "outputs": [
    {
     "data": {
      "text/plain": [
       "True"
      ]
     },
     "execution_count": 32,
     "metadata": {},
     "output_type": "execute_result"
    }
   ],
   "source": [
    "file_obj.writable()"
   ]
  },
  {
   "cell_type": "code",
   "execution_count": 33,
   "id": "8dd3ebe9",
   "metadata": {},
   "outputs": [
    {
     "data": {
      "text/plain": [
       "'this file empty when we open in w write  mode\\n new line added'"
      ]
     },
     "execution_count": 33,
     "metadata": {},
     "output_type": "execute_result"
    }
   ],
   "source": [
    "file_obj.read()"
   ]
  },
  {
   "cell_type": "code",
   "execution_count": 34,
   "id": "c6a1ade9",
   "metadata": {},
   "outputs": [
    {
     "data": {
      "text/plain": [
       "16"
      ]
     },
     "execution_count": 34,
     "metadata": {},
     "output_type": "execute_result"
    }
   ],
   "source": [
    "file_obj.write('\\n new line added')"
   ]
  },
  {
   "cell_type": "code",
   "execution_count": 35,
   "id": "edf8fe25",
   "metadata": {},
   "outputs": [
    {
     "data": {
      "text/plain": [
       "''"
      ]
     },
     "execution_count": 35,
     "metadata": {},
     "output_type": "execute_result"
    }
   ],
   "source": [
    "file_obj.read()"
   ]
  },
  {
   "cell_type": "code",
   "execution_count": 36,
   "id": "a3bd56fb",
   "metadata": {},
   "outputs": [
    {
     "data": {
      "text/plain": [
       "0"
      ]
     },
     "execution_count": 36,
     "metadata": {},
     "output_type": "execute_result"
    }
   ],
   "source": [
    "file_obj.seek(0)"
   ]
  },
  {
   "cell_type": "code",
   "execution_count": 37,
   "id": "d1eee6ba",
   "metadata": {},
   "outputs": [
    {
     "data": {
      "text/plain": [
       "'this file empty when we open in w write  mode\\n new line added\\n new line added'"
      ]
     },
     "execution_count": 37,
     "metadata": {},
     "output_type": "execute_result"
    }
   ],
   "source": [
    "file_obj.read()"
   ]
  },
  {
   "cell_type": "code",
   "execution_count": 39,
   "id": "0f73f98c",
   "metadata": {},
   "outputs": [],
   "source": [
    "file_obj.close()"
   ]
  },
  {
   "cell_type": "code",
   "execution_count": null,
   "id": "227c3b9b",
   "metadata": {},
   "outputs": [],
   "source": []
  }
 ],
 "metadata": {
  "kernelspec": {
   "display_name": "Python 3.9.12 ('base')",
   "language": "python",
   "name": "python3"
  },
  "language_info": {
   "codemirror_mode": {
    "name": "ipython",
    "version": 3
   },
   "file_extension": ".py",
   "mimetype": "text/x-python",
   "name": "python",
   "nbconvert_exporter": "python",
   "pygments_lexer": "ipython3",
   "version": "3.9.12"
  },
  "vscode": {
   "interpreter": {
    "hash": "5ae58900cfbb8c43ab3495913814b7cf26024f51651a94ce8bf64d6111688e8d"
   }
  }
 },
 "nbformat": 4,
 "nbformat_minor": 5
}
