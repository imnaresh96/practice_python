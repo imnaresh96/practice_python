{
 "cells": [
  {
   "cell_type": "code",
   "execution_count": 1,
   "id": "570e286f",
   "metadata": {},
   "outputs": [],
   "source": [
    "import math\n"
   ]
  },
  {
   "cell_type": "code",
   "execution_count": 2,
   "id": "d9cf26d3",
   "metadata": {},
   "outputs": [
    {
     "name": "stdout",
     "output_type": "stream",
     "text": [
      "['__doc__', '__loader__', '__name__', '__package__', '__spec__', 'acos', 'acosh', 'asin', 'asinh', 'atan', 'atan2', 'atanh', 'ceil', 'comb', 'copysign', 'cos', 'cosh', 'degrees', 'dist', 'e', 'erf', 'erfc', 'exp', 'expm1', 'fabs', 'factorial', 'floor', 'fmod', 'frexp', 'fsum', 'gamma', 'gcd', 'hypot', 'inf', 'isclose', 'isfinite', 'isinf', 'isnan', 'isqrt', 'lcm', 'ldexp', 'lgamma', 'log', 'log10', 'log1p', 'log2', 'modf', 'nan', 'nextafter', 'perm', 'pi', 'pow', 'prod', 'radians', 'remainder', 'sin', 'sinh', 'sqrt', 'tan', 'tanh', 'tau', 'trunc', 'ulp']\n"
     ]
    }
   ],
   "source": [
    "print(dir(math))"
   ]
  },
  {
   "cell_type": "code",
   "execution_count": 3,
   "id": "3f2f6582",
   "metadata": {},
   "outputs": [
    {
     "data": {
      "text/plain": [
       "12.0"
      ]
     },
     "execution_count": 3,
     "metadata": {},
     "output_type": "execute_result"
    }
   ],
   "source": [
    "math.sqrt(144)"
   ]
  },
  {
   "cell_type": "code",
   "execution_count": 4,
   "id": "d24d2368",
   "metadata": {},
   "outputs": [
    {
     "data": {
      "text/plain": [
       "11.0"
      ]
     },
     "execution_count": 4,
     "metadata": {},
     "output_type": "execute_result"
    }
   ],
   "source": [
    "math.sqrt(121)"
   ]
  },
  {
   "cell_type": "code",
   "execution_count": 5,
   "id": "d96c47a0",
   "metadata": {},
   "outputs": [
    {
     "data": {
      "text/plain": [
       "13.0"
      ]
     },
     "execution_count": 5,
     "metadata": {},
     "output_type": "execute_result"
    }
   ],
   "source": [
    "math.sqrt(169)"
   ]
  },
  {
   "cell_type": "code",
   "execution_count": 11,
   "id": "230cb2f7",
   "metadata": {},
   "outputs": [
    {
     "data": {
      "text/plain": [
       "196.0"
      ]
     },
     "execution_count": 11,
     "metadata": {},
     "output_type": "execute_result"
    }
   ],
   "source": [
    "math.pow(14,2)"
   ]
  },
  {
   "cell_type": "code",
   "execution_count": 7,
   "id": "5c2f2090",
   "metadata": {},
   "outputs": [
    {
     "data": {
      "text/plain": [
       "4.0"
      ]
     },
     "execution_count": 7,
     "metadata": {},
     "output_type": "execute_result"
    }
   ],
   "source": [
    "math.pow(2,2)"
   ]
  },
  {
   "cell_type": "code",
   "execution_count": 8,
   "id": "4acc9670",
   "metadata": {},
   "outputs": [
    {
     "data": {
      "text/plain": [
       "16777216.0"
      ]
     },
     "execution_count": 8,
     "metadata": {},
     "output_type": "execute_result"
    }
   ],
   "source": [
    "math.pow(8,8)"
   ]
  },
  {
   "cell_type": "code",
   "execution_count": 9,
   "id": "18ce960d",
   "metadata": {},
   "outputs": [
    {
     "data": {
      "text/plain": [
       "285311670611.0"
      ]
     },
     "execution_count": 9,
     "metadata": {},
     "output_type": "execute_result"
    }
   ],
   "source": [
    "math.pow(11,11)"
   ]
  },
  {
   "cell_type": "code",
   "execution_count": 10,
   "id": "36b36c1b",
   "metadata": {},
   "outputs": [
    {
     "data": {
      "text/plain": [
       "1.1112006825558016e+16"
      ]
     },
     "execution_count": 10,
     "metadata": {},
     "output_type": "execute_result"
    }
   ],
   "source": [
    "math.pow(14,14)"
   ]
  },
  {
   "cell_type": "code",
   "execution_count": 12,
   "id": "809bae70",
   "metadata": {},
   "outputs": [
    {
     "data": {
      "text/plain": [
       "214358881.0"
      ]
     },
     "execution_count": 12,
     "metadata": {},
     "output_type": "execute_result"
    }
   ],
   "source": [
    "math.pow(11,8)"
   ]
  },
  {
   "cell_type": "code",
   "execution_count": 14,
   "id": "3164272b",
   "metadata": {},
   "outputs": [
    {
     "data": {
      "text/plain": [
       "3.141592653589793"
      ]
     },
     "execution_count": 14,
     "metadata": {},
     "output_type": "execute_result"
    }
   ],
   "source": [
    "math.pi"
   ]
  },
  {
   "cell_type": "code",
   "execution_count": 16,
   "id": "27939ac9",
   "metadata": {},
   "outputs": [
    {
     "data": {
      "text/plain": [
       "-1.0"
      ]
     },
     "execution_count": 16,
     "metadata": {},
     "output_type": "execute_result"
    }
   ],
   "source": [
    "math.remainder(5,3)"
   ]
  },
  {
   "cell_type": "code",
   "execution_count": 17,
   "id": "99097b1d",
   "metadata": {},
   "outputs": [
    {
     "data": {
      "text/plain": [
       "-1.0"
      ]
     },
     "execution_count": 17,
     "metadata": {},
     "output_type": "execute_result"
    }
   ],
   "source": [
    "math.remainder(17,3)"
   ]
  },
  {
   "cell_type": "code",
   "execution_count": 18,
   "id": "3de61ce6",
   "metadata": {},
   "outputs": [
    {
     "data": {
      "text/plain": [
       "1.0"
      ]
     },
     "execution_count": 18,
     "metadata": {},
     "output_type": "execute_result"
    }
   ],
   "source": [
    "math.remainder(21,5)"
   ]
  },
  {
   "cell_type": "code",
   "execution_count": 19,
   "id": "569992cc",
   "metadata": {},
   "outputs": [
    {
     "data": {
      "text/plain": [
       "-1.0"
      ]
     },
     "execution_count": 19,
     "metadata": {},
     "output_type": "execute_result"
    }
   ],
   "source": [
    "math.remainder(24,5)"
   ]
  },
  {
   "cell_type": "code",
   "execution_count": 20,
   "id": "773d3552",
   "metadata": {},
   "outputs": [
    {
     "data": {
      "text/plain": [
       "120"
      ]
     },
     "execution_count": 20,
     "metadata": {},
     "output_type": "execute_result"
    }
   ],
   "source": [
    "math.factorial(5)"
   ]
  },
  {
   "cell_type": "code",
   "execution_count": 24,
   "id": "aed226e8",
   "metadata": {},
   "outputs": [
    {
     "data": {
      "text/plain": [
       "51090942171709440000"
      ]
     },
     "execution_count": 24,
     "metadata": {},
     "output_type": "execute_result"
    }
   ],
   "source": [
    "math.factorial(21)"
   ]
  },
  {
   "cell_type": "code",
   "execution_count": 25,
   "id": "9bc027c3",
   "metadata": {},
   "outputs": [],
   "source": [
    "def fact(n):\n",
    "    factorial=1\n",
    "    for i in range(1,n+1):\n",
    "        factorial*=i\n",
    "    return factorial"
   ]
  },
  {
   "cell_type": "code",
   "execution_count": 33,
   "id": "87b2019e",
   "metadata": {},
   "outputs": [
    {
     "data": {
      "text/plain": [
       "40320"
      ]
     },
     "execution_count": 33,
     "metadata": {},
     "output_type": "execute_result"
    }
   ],
   "source": [
    "fact(8)"
   ]
  },
  {
   "cell_type": "code",
   "execution_count": 36,
   "id": "9b6f37ad",
   "metadata": {},
   "outputs": [
    {
     "data": {
      "text/plain": [
       "625"
      ]
     },
     "execution_count": 36,
     "metadata": {},
     "output_type": "execute_result"
    }
   ],
   "source": [
    "pow(5,4)"
   ]
  },
  {
   "cell_type": "code",
   "execution_count": 37,
   "id": "f65ffeac",
   "metadata": {},
   "outputs": [
    {
     "data": {
      "text/plain": [
       "1"
      ]
     },
     "execution_count": 37,
     "metadata": {},
     "output_type": "execute_result"
    }
   ],
   "source": [
    "pow(5,4,4)"
   ]
  },
  {
   "cell_type": "code",
   "execution_count": 38,
   "id": "d1d3cc74",
   "metadata": {},
   "outputs": [
    {
     "data": {
      "text/plain": [
       "0.08726646259971647"
      ]
     },
     "execution_count": 38,
     "metadata": {},
     "output_type": "execute_result"
    }
   ],
   "source": [
    "math.radians(5)"
   ]
  },
  {
   "cell_type": "code",
   "execution_count": 40,
   "id": "f05194f6",
   "metadata": {},
   "outputs": [
    {
     "data": {
      "text/plain": [
       "0.15707963267948966"
      ]
     },
     "execution_count": 40,
     "metadata": {},
     "output_type": "execute_result"
    }
   ],
   "source": [
    "math.radians(9)"
   ]
  },
  {
   "cell_type": "code",
   "execution_count": 41,
   "id": "2ec0916d",
   "metadata": {},
   "outputs": [
    {
     "data": {
      "text/plain": [
       "5"
      ]
     },
     "execution_count": 41,
     "metadata": {},
     "output_type": "execute_result"
    }
   ],
   "source": [
    "math.ceil(4.2)"
   ]
  },
  {
   "cell_type": "code",
   "execution_count": 42,
   "id": "81b573c8",
   "metadata": {},
   "outputs": [
    {
     "data": {
      "text/plain": [
       "4"
      ]
     },
     "execution_count": 42,
     "metadata": {},
     "output_type": "execute_result"
    }
   ],
   "source": [
    "math.floor(4.8)"
   ]
  },
  {
   "cell_type": "code",
   "execution_count": 43,
   "id": "8b81dcf0",
   "metadata": {},
   "outputs": [
    {
     "data": {
      "text/plain": [
       "4"
      ]
     },
     "execution_count": 43,
     "metadata": {},
     "output_type": "execute_result"
    }
   ],
   "source": [
    "math.ceil(4)"
   ]
  },
  {
   "cell_type": "code",
   "execution_count": 44,
   "id": "fd234ccb",
   "metadata": {},
   "outputs": [
    {
     "data": {
      "text/plain": [
       "5"
      ]
     },
     "execution_count": 44,
     "metadata": {},
     "output_type": "execute_result"
    }
   ],
   "source": [
    "math.floor(5)"
   ]
  },
  {
   "cell_type": "code",
   "execution_count": 47,
   "id": "fef84067",
   "metadata": {},
   "outputs": [
    {
     "data": {
      "text/plain": [
       "1"
      ]
     },
     "execution_count": 47,
     "metadata": {},
     "output_type": "execute_result"
    }
   ],
   "source": [
    "#change negative to positive\n",
    "abs(-1)"
   ]
  },
  {
   "cell_type": "code",
   "execution_count": 53,
   "id": "d5c9200e",
   "metadata": {},
   "outputs": [
    {
     "data": {
      "text/plain": [
       "5"
      ]
     },
     "execution_count": 53,
     "metadata": {},
     "output_type": "execute_result"
    }
   ],
   "source": [
    "abs(5)"
   ]
  },
  {
   "cell_type": "code",
   "execution_count": 51,
   "id": "56249c97",
   "metadata": {},
   "outputs": [
    {
     "data": {
      "text/plain": [
       "155.0"
      ]
     },
     "execution_count": 51,
     "metadata": {},
     "output_type": "execute_result"
    }
   ],
   "source": [
    "#change negative to positive and return floting number\n",
    "math.fabs(-155)"
   ]
  },
  {
   "cell_type": "code",
   "execution_count": 52,
   "id": "de8ef506",
   "metadata": {},
   "outputs": [
    {
     "data": {
      "text/plain": [
       "45.0"
      ]
     },
     "execution_count": 52,
     "metadata": {},
     "output_type": "execute_result"
    }
   ],
   "source": [
    "math.fabs(45)"
   ]
  },
  {
   "cell_type": "code",
   "execution_count": 54,
   "id": "cf2f8cc6",
   "metadata": {},
   "outputs": [
    {
     "data": {
      "text/plain": [
       "286.4788975654116"
      ]
     },
     "execution_count": 54,
     "metadata": {},
     "output_type": "execute_result"
    }
   ],
   "source": [
    "math.degrees(5)"
   ]
  },
  {
   "cell_type": "code",
   "execution_count": 55,
   "id": "1716eec7",
   "metadata": {},
   "outputs": [
    {
     "data": {
      "text/plain": [
       "5.0"
      ]
     },
     "execution_count": 55,
     "metadata": {},
     "output_type": "execute_result"
    }
   ],
   "source": [
    "math.radians(286.4788975654116)"
   ]
  },
  {
   "cell_type": "code",
   "execution_count": 56,
   "id": "9fc6a785",
   "metadata": {},
   "outputs": [
    {
     "data": {
      "text/plain": [
       "2.718281828459045"
      ]
     },
     "execution_count": 56,
     "metadata": {},
     "output_type": "execute_result"
    }
   ],
   "source": [
    "math.e"
   ]
  },
  {
   "cell_type": "code",
   "execution_count": 57,
   "id": "fa4a844e",
   "metadata": {},
   "outputs": [
    {
     "data": {
      "text/plain": [
       "2.718281828459045"
      ]
     },
     "execution_count": 57,
     "metadata": {},
     "output_type": "execute_result"
    }
   ],
   "source": [
    "math.e"
   ]
  },
  {
   "cell_type": "code",
   "execution_count": 58,
   "id": "c7f7bfbf",
   "metadata": {},
   "outputs": [
    {
     "data": {
      "text/plain": [
       "-0.9880316240928618"
      ]
     },
     "execution_count": 58,
     "metadata": {},
     "output_type": "execute_result"
    }
   ],
   "source": [
    "math.sin(30)"
   ]
  },
  {
   "cell_type": "code",
   "execution_count": 59,
   "id": "b0cd6c13",
   "metadata": {},
   "outputs": [
    {
     "data": {
      "text/plain": [
       "0.49999999999999994"
      ]
     },
     "execution_count": 59,
     "metadata": {},
     "output_type": "execute_result"
    }
   ],
   "source": [
    "math.sin(math.pi/6)"
   ]
  },
  {
   "cell_type": "code",
   "execution_count": 60,
   "id": "8f8c8bd8",
   "metadata": {},
   "outputs": [
    {
     "data": {
      "text/plain": [
       "0.9999999999999999"
      ]
     },
     "execution_count": 60,
     "metadata": {},
     "output_type": "execute_result"
    }
   ],
   "source": [
    "math.tan(math.pi/4)"
   ]
  },
  {
   "cell_type": "code",
   "execution_count": 61,
   "id": "f6871db8",
   "metadata": {},
   "outputs": [
    {
     "data": {
      "text/plain": [
       "45.0"
      ]
     },
     "execution_count": 61,
     "metadata": {},
     "output_type": "execute_result"
    }
   ],
   "source": [
    "math.fabs(-45)"
   ]
  },
  {
   "cell_type": "code",
   "execution_count": null,
   "id": "9dc2dcae",
   "metadata": {},
   "outputs": [],
   "source": []
  }
 ],
 "metadata": {
  "kernelspec": {
   "display_name": "Python 3 (ipykernel)",
   "language": "python",
   "name": "python3"
  },
  "language_info": {
   "codemirror_mode": {
    "name": "ipython",
    "version": 3
   },
   "file_extension": ".py",
   "mimetype": "text/x-python",
   "name": "python",
   "nbconvert_exporter": "python",
   "pygments_lexer": "ipython3",
   "version": "3.9.12"
  }
 },
 "nbformat": 4,
 "nbformat_minor": 5
}
