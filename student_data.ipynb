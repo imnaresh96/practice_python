{
 "cells": [
  {
   "cell_type": "code",
   "execution_count": null,
   "id": "f74fc436",
   "metadata": {},
   "outputs": [],
   "source": [
    "#data about student\n",
    "name=input('enter your full name: ')\n",
    "sub=input('enter your subject.: ')\n",
    "mob=int(input('enter your mobile number: '))\n",
    "city=input('Enter your city: ')\n",
    "student={name,sub,mob,city}\n",
    "\n",
    "print(f'Name={name}! Subject={subject} Mobile Number={mob} City={city}')"
   ]
  },
  {
   "cell_type": "code",
   "execution_count": null,
   "id": "d1626cd8",
   "metadata": {},
   "outputs": [],
   "source": [
    "\n",
    "\n"
   ]
  }
 ],
 "metadata": {
  "kernelspec": {
   "display_name": "Python 3 (ipykernel)",
   "language": "python",
   "name": "python3"
  },
  "language_info": {
   "codemirror_mode": {
    "name": "ipython",
    "version": 3
   },
   "file_extension": ".py",
   "mimetype": "text/x-python",
   "name": "python",
   "nbconvert_exporter": "python",
   "pygments_lexer": "ipython3",
   "version": "3.9.12"
  }
 },
 "nbformat": 4,
 "nbformat_minor": 5
}
