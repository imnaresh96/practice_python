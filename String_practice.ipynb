{
 "cells": [
  {
   "cell_type": "code",
   "execution_count": 1,
   "id": "7fac2996",
   "metadata": {},
   "outputs": [],
   "source": [
    "s='naresh kumar'"
   ]
  },
  {
   "cell_type": "code",
   "execution_count": 2,
   "id": "f953a2d7",
   "metadata": {},
   "outputs": [
    {
     "data": {
      "text/plain": [
       "'NARESH KUMAR'"
      ]
     },
     "execution_count": 2,
     "metadata": {},
     "output_type": "execute_result"
    }
   ],
   "source": [
    "s.upper()"
   ]
  },
  {
   "cell_type": "code",
   "execution_count": 4,
   "id": "e0f0a6f7",
   "metadata": {},
   "outputs": [
    {
     "data": {
      "text/plain": [
       "False"
      ]
     },
     "execution_count": 4,
     "metadata": {},
     "output_type": "execute_result"
    }
   ],
   "source": [
    "s.isupper()"
   ]
  },
  {
   "cell_type": "code",
   "execution_count": 5,
   "id": "e097233c",
   "metadata": {},
   "outputs": [
    {
     "data": {
      "text/plain": [
       "True"
      ]
     },
     "execution_count": 5,
     "metadata": {},
     "output_type": "execute_result"
    }
   ],
   "source": [
    "s.islower()"
   ]
  },
  {
   "cell_type": "code",
   "execution_count": 6,
   "id": "e848922f",
   "metadata": {},
   "outputs": [
    {
     "data": {
      "text/plain": [
       "'ramuk hseran'"
      ]
     },
     "execution_count": 6,
     "metadata": {},
     "output_type": "execute_result"
    }
   ],
   "source": [
    "s[::-1]"
   ]
  },
  {
   "cell_type": "code",
   "execution_count": 11,
   "id": "44ac4c17",
   "metadata": {},
   "outputs": [
    {
     "data": {
      "text/plain": [
       "'naresh kumar sisodiya'"
      ]
     },
     "execution_count": 11,
     "metadata": {},
     "output_type": "execute_result"
    }
   ],
   "source": [
    "s+' sisodiya'"
   ]
  },
  {
   "cell_type": "code",
   "execution_count": 12,
   "id": "4b91284c",
   "metadata": {},
   "outputs": [
    {
     "data": {
      "text/plain": [
       "'Naresh kumar'"
      ]
     },
     "execution_count": 12,
     "metadata": {},
     "output_type": "execute_result"
    }
   ],
   "source": [
    "s.capitalize()"
   ]
  },
  {
   "cell_type": "code",
   "execution_count": 13,
   "id": "44733be7",
   "metadata": {},
   "outputs": [
    {
     "data": {
      "text/plain": [
       "'Naresh Kumar'"
      ]
     },
     "execution_count": 13,
     "metadata": {},
     "output_type": "execute_result"
    }
   ],
   "source": [
    "s.title()"
   ]
  },
  {
   "cell_type": "code",
   "execution_count": 20,
   "id": "a8695030",
   "metadata": {},
   "outputs": [],
   "source": [
    "k='NARESH KUMAR {}'"
   ]
  },
  {
   "cell_type": "code",
   "execution_count": 21,
   "id": "a36713b7",
   "metadata": {},
   "outputs": [
    {
     "data": {
      "text/plain": [
       "'naresh kumar {}'"
      ]
     },
     "execution_count": 21,
     "metadata": {},
     "output_type": "execute_result"
    }
   ],
   "source": [
    "k.casefold()"
   ]
  },
  {
   "cell_type": "code",
   "execution_count": 22,
   "id": "c49ba8e1",
   "metadata": {},
   "outputs": [
    {
     "data": {
      "text/plain": [
       "'NARESH SISODIYA {}'"
      ]
     },
     "execution_count": 22,
     "metadata": {},
     "output_type": "execute_result"
    }
   ],
   "source": [
    "k.replace('KUMAR','SISODIYA')"
   ]
  },
  {
   "cell_type": "code",
   "execution_count": 23,
   "id": "3e63ace1",
   "metadata": {},
   "outputs": [
    {
     "data": {
      "text/plain": [
       "'NARESH KUMAR SISODIYA'"
      ]
     },
     "execution_count": 23,
     "metadata": {},
     "output_type": "execute_result"
    }
   ],
   "source": [
    "k.format('SISODIYA')"
   ]
  },
  {
   "cell_type": "code",
   "execution_count": 35,
   "id": "764d45ba",
   "metadata": {},
   "outputs": [],
   "source": [
    "r=''.join(k)"
   ]
  },
  {
   "cell_type": "code",
   "execution_count": 36,
   "id": "3d9f15d2",
   "metadata": {},
   "outputs": [
    {
     "data": {
      "text/plain": [
       "'NARESH KUMAR {}'"
      ]
     },
     "execution_count": 36,
     "metadata": {},
     "output_type": "execute_result"
    }
   ],
   "source": [
    "r"
   ]
  },
  {
   "cell_type": "code",
   "execution_count": 40,
   "id": "f0d46771",
   "metadata": {},
   "outputs": [
    {
     "data": {
      "text/plain": [
       "'NARESH KUMAR {}'"
      ]
     },
     "execution_count": 40,
     "metadata": {},
     "output_type": "execute_result"
    }
   ],
   "source": [
    "''.join(r)"
   ]
  },
  {
   "cell_type": "code",
   "execution_count": 41,
   "id": "63dbc68a",
   "metadata": {},
   "outputs": [
    {
     "data": {
      "text/plain": [
       "2"
      ]
     },
     "execution_count": 41,
     "metadata": {},
     "output_type": "execute_result"
    }
   ],
   "source": [
    "r.count('A')"
   ]
  },
  {
   "cell_type": "code",
   "execution_count": 42,
   "id": "2d6cef13",
   "metadata": {},
   "outputs": [
    {
     "data": {
      "text/plain": [
       "4"
      ]
     },
     "execution_count": 42,
     "metadata": {},
     "output_type": "execute_result"
    }
   ],
   "source": [
    "r.find('S')"
   ]
  },
  {
   "cell_type": "code",
   "execution_count": 43,
   "id": "3bb2d3fd",
   "metadata": {},
   "outputs": [
    {
     "data": {
      "text/plain": [
       "10"
      ]
     },
     "execution_count": 43,
     "metadata": {},
     "output_type": "execute_result"
    }
   ],
   "source": [
    "r.rfind('A')"
   ]
  },
  {
   "cell_type": "code",
   "execution_count": 45,
   "id": "0e56f36c",
   "metadata": {},
   "outputs": [
    {
     "data": {
      "text/plain": [
       "'00000NARESH KUMAR {}'"
      ]
     },
     "execution_count": 45,
     "metadata": {},
     "output_type": "execute_result"
    }
   ],
   "source": [
    "r.zfill(20)"
   ]
  },
  {
   "cell_type": "code",
   "execution_count": 46,
   "id": "92f7f0ad",
   "metadata": {},
   "outputs": [
    {
     "data": {
      "text/plain": [
       "'NARESH KUMAR {}'"
      ]
     },
     "execution_count": 46,
     "metadata": {},
     "output_type": "execute_result"
    }
   ],
   "source": [
    "r.strip()"
   ]
  },
  {
   "cell_type": "code",
   "execution_count": 47,
   "id": "efcd62e7",
   "metadata": {},
   "outputs": [],
   "source": [
    "m='    kumar     ramesh      '"
   ]
  },
  {
   "cell_type": "code",
   "execution_count": 48,
   "id": "d559e798",
   "metadata": {},
   "outputs": [
    {
     "data": {
      "text/plain": [
       "'kumar     ramesh'"
      ]
     },
     "execution_count": 48,
     "metadata": {},
     "output_type": "execute_result"
    }
   ],
   "source": [
    "m.strip()"
   ]
  },
  {
   "cell_type": "code",
   "execution_count": 51,
   "id": "3e840548",
   "metadata": {},
   "outputs": [
    {
     "data": {
      "text/plain": [
       "'    kumar     ramesh      '"
      ]
     },
     "execution_count": 51,
     "metadata": {},
     "output_type": "execute_result"
    }
   ],
   "source": [
    "''.join(m)"
   ]
  },
  {
   "cell_type": "code",
   "execution_count": 56,
   "id": "b9e7eb8b",
   "metadata": {},
   "outputs": [],
   "source": [
    "l=m.split()"
   ]
  },
  {
   "cell_type": "code",
   "execution_count": 59,
   "id": "63ce08bc",
   "metadata": {},
   "outputs": [
    {
     "data": {
      "text/plain": [
       "'kumar ramesh'"
      ]
     },
     "execution_count": 59,
     "metadata": {},
     "output_type": "execute_result"
    }
   ],
   "source": [
    "' '.join(l)"
   ]
  },
  {
   "cell_type": "code",
   "execution_count": null,
   "id": "fe30e310",
   "metadata": {},
   "outputs": [],
   "source": []
  }
 ],
 "metadata": {
  "kernelspec": {
   "display_name": "Python 3 (ipykernel)",
   "language": "python",
   "name": "python3"
  },
  "language_info": {
   "codemirror_mode": {
    "name": "ipython",
    "version": 3
   },
   "file_extension": ".py",
   "mimetype": "text/x-python",
   "name": "python",
   "nbconvert_exporter": "python",
   "pygments_lexer": "ipython3",
   "version": "3.9.12"
  }
 },
 "nbformat": 4,
 "nbformat_minor": 5
}
