{
 "cells": [
  {
   "cell_type": "code",
   "execution_count": 1,
   "id": "a225ef16",
   "metadata": {},
   "outputs": [],
   "source": [
    "s='naresh kumar'"
   ]
  },
  {
   "cell_type": "code",
   "execution_count": 2,
   "id": "cd8160da",
   "metadata": {},
   "outputs": [
    {
     "data": {
      "text/plain": [
       "'NARESH KUMAR'"
      ]
     },
     "execution_count": 2,
     "metadata": {},
     "output_type": "execute_result"
    }
   ],
   "source": [
    "s.upper()"
   ]
  },
  {
   "cell_type": "code",
   "execution_count": 4,
   "id": "c479d8f4",
   "metadata": {},
   "outputs": [
    {
     "data": {
      "text/plain": [
       "False"
      ]
     },
     "execution_count": 4,
     "metadata": {},
     "output_type": "execute_result"
    }
   ],
   "source": [
    "s.isupper()"
   ]
  },
  {
   "cell_type": "code",
   "execution_count": 5,
   "id": "88c3f5cf",
   "metadata": {},
   "outputs": [
    {
     "data": {
      "text/plain": [
       "True"
      ]
     },
     "execution_count": 5,
     "metadata": {},
     "output_type": "execute_result"
    }
   ],
   "source": [
    "s.islower()"
   ]
  },
  {
   "cell_type": "code",
   "execution_count": 6,
   "id": "d6a945a2",
   "metadata": {},
   "outputs": [
    {
     "data": {
      "text/plain": [
       "'ramuk hseran'"
      ]
     },
     "execution_count": 6,
     "metadata": {},
     "output_type": "execute_result"
    }
   ],
   "source": [
    "s[::-1]"
   ]
  },
  {
   "cell_type": "code",
   "execution_count": 11,
   "id": "04bce4c8",
   "metadata": {},
   "outputs": [
    {
     "data": {
      "text/plain": [
       "'naresh kumar sisodiya'"
      ]
     },
     "execution_count": 11,
     "metadata": {},
     "output_type": "execute_result"
    }
   ],
   "source": [
    "s+' sisodiya'"
   ]
  },
  {
   "cell_type": "code",
   "execution_count": 12,
   "id": "bded784d",
   "metadata": {},
   "outputs": [
    {
     "data": {
      "text/plain": [
       "'Naresh kumar'"
      ]
     },
     "execution_count": 12,
     "metadata": {},
     "output_type": "execute_result"
    }
   ],
   "source": [
    "s.capitalize()"
   ]
  },
  {
   "cell_type": "code",
   "execution_count": 13,
   "id": "aa88d85b",
   "metadata": {},
   "outputs": [
    {
     "data": {
      "text/plain": [
       "'Naresh Kumar'"
      ]
     },
     "execution_count": 13,
     "metadata": {},
     "output_type": "execute_result"
    }
   ],
   "source": [
    "s.title()"
   ]
  },
  {
   "cell_type": "code",
   "execution_count": 20,
   "id": "5a58f405",
   "metadata": {},
   "outputs": [],
   "source": [
    "k='NARESH KUMAR {}'"
   ]
  },
  {
   "cell_type": "code",
   "execution_count": 21,
   "id": "f59c7f9c",
   "metadata": {},
   "outputs": [
    {
     "data": {
      "text/plain": [
       "'naresh kumar {}'"
      ]
     },
     "execution_count": 21,
     "metadata": {},
     "output_type": "execute_result"
    }
   ],
   "source": [
    "k.casefold()"
   ]
  },
  {
   "cell_type": "code",
   "execution_count": 22,
   "id": "eb026976",
   "metadata": {},
   "outputs": [
    {
     "data": {
      "text/plain": [
       "'NARESH SISODIYA {}'"
      ]
     },
     "execution_count": 22,
     "metadata": {},
     "output_type": "execute_result"
    }
   ],
   "source": [
    "k.replace('KUMAR','SISODIYA')"
   ]
  },
  {
   "cell_type": "code",
   "execution_count": 23,
   "id": "8a3e632a",
   "metadata": {},
   "outputs": [
    {
     "data": {
      "text/plain": [
       "'NARESH KUMAR SISODIYA'"
      ]
     },
     "execution_count": 23,
     "metadata": {},
     "output_type": "execute_result"
    }
   ],
   "source": [
    "k.format('SISODIYA')"
   ]
  },
  {
   "cell_type": "code",
   "execution_count": 35,
   "id": "78be6a52",
   "metadata": {},
   "outputs": [],
   "source": [
    "r=''.join(k)"
   ]
  },
  {
   "cell_type": "code",
   "execution_count": 36,
   "id": "a716d7dd",
   "metadata": {},
   "outputs": [
    {
     "data": {
      "text/plain": [
       "'NARESH KUMAR {}'"
      ]
     },
     "execution_count": 36,
     "metadata": {},
     "output_type": "execute_result"
    }
   ],
   "source": [
    "r"
   ]
  },
  {
   "cell_type": "code",
   "execution_count": 40,
   "id": "4aa49854",
   "metadata": {},
   "outputs": [
    {
     "data": {
      "text/plain": [
       "'NARESH KUMAR {}'"
      ]
     },
     "execution_count": 40,
     "metadata": {},
     "output_type": "execute_result"
    }
   ],
   "source": [
    "''.join(r)"
   ]
  },
  {
   "cell_type": "code",
   "execution_count": 41,
   "id": "e75ef8f1",
   "metadata": {},
   "outputs": [
    {
     "data": {
      "text/plain": [
       "2"
      ]
     },
     "execution_count": 41,
     "metadata": {},
     "output_type": "execute_result"
    }
   ],
   "source": [
    "r.count('A')"
   ]
  },
  {
   "cell_type": "code",
   "execution_count": 42,
   "id": "ff72f955",
   "metadata": {},
   "outputs": [
    {
     "data": {
      "text/plain": [
       "4"
      ]
     },
     "execution_count": 42,
     "metadata": {},
     "output_type": "execute_result"
    }
   ],
   "source": [
    "r.find('S')"
   ]
  },
  {
   "cell_type": "code",
   "execution_count": 43,
   "id": "04a78a41",
   "metadata": {},
   "outputs": [
    {
     "data": {
      "text/plain": [
       "10"
      ]
     },
     "execution_count": 43,
     "metadata": {},
     "output_type": "execute_result"
    }
   ],
   "source": [
    "r.rfind('A')"
   ]
  },
  {
   "cell_type": "code",
   "execution_count": 45,
   "id": "e7ba74d3",
   "metadata": {},
   "outputs": [
    {
     "data": {
      "text/plain": [
       "'00000NARESH KUMAR {}'"
      ]
     },
     "execution_count": 45,
     "metadata": {},
     "output_type": "execute_result"
    }
   ],
   "source": [
    "r.zfill(20)"
   ]
  },
  {
   "cell_type": "code",
   "execution_count": 46,
   "id": "0d1bcce4",
   "metadata": {},
   "outputs": [
    {
     "data": {
      "text/plain": [
       "'NARESH KUMAR {}'"
      ]
     },
     "execution_count": 46,
     "metadata": {},
     "output_type": "execute_result"
    }
   ],
   "source": [
    "r.strip()"
   ]
  },
  {
   "cell_type": "code",
   "execution_count": 47,
   "id": "8863153d",
   "metadata": {},
   "outputs": [],
   "source": [
    "m='    kumar     ramesh      '"
   ]
  },
  {
   "cell_type": "code",
   "execution_count": 48,
   "id": "743bff30",
   "metadata": {},
   "outputs": [
    {
     "data": {
      "text/plain": [
       "'kumar     ramesh'"
      ]
     },
     "execution_count": 48,
     "metadata": {},
     "output_type": "execute_result"
    }
   ],
   "source": [
    "m.strip()"
   ]
  },
  {
   "cell_type": "code",
   "execution_count": 51,
   "id": "a9e63c6b",
   "metadata": {},
   "outputs": [
    {
     "data": {
      "text/plain": [
       "'    kumar     ramesh      '"
      ]
     },
     "execution_count": 51,
     "metadata": {},
     "output_type": "execute_result"
    }
   ],
   "source": [
    "''.join(m)"
   ]
  },
  {
   "cell_type": "code",
   "execution_count": null,
   "id": "0e61062d",
   "metadata": {},
   "outputs": [],
   "source": [
    "m.split()"
   ]
  }
 ],
 "metadata": {
  "kernelspec": {
   "display_name": "Python 3 (ipykernel)",
   "language": "python",
   "name": "python3"
  },
  "language_info": {
   "codemirror_mode": {
    "name": "ipython",
    "version": 3
   },
   "file_extension": ".py",
   "mimetype": "text/x-python",
   "name": "python",
   "nbconvert_exporter": "python",
   "pygments_lexer": "ipython3",
   "version": "3.9.12"
  }
 },
 "nbformat": 4,
 "nbformat_minor": 5
}
