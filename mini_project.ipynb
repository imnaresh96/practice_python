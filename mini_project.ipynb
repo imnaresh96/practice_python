{
 "cells": [
  {
   "cell_type": "code",
   "execution_count": 3,
   "id": "071f13ca",
   "metadata": {},
   "outputs": [
    {
     "name": "stdout",
     "output_type": "stream",
     "text": [
      "Hello Welcome To My Profile\n",
      "\n",
      "\n",
      "select your role \n",
      " 1. New Mamber \n",
      " 2. Exiting mamber\n",
      "Select your Role(1 for New Mamber. 2 for Exiting mamber): 2\n",
      "Enter Your Id: naresh\n",
      "Enter Your password: naresh\n",
      "Hello Welcome To Management Profile\n",
      "add new mamber ('naresh', 92223) at (2022-10-02 15:32:02.159180)\n"
     ]
    }
   ],
   "source": [
    "import random\n",
    "import calendar\n",
    "import datetime\n",
    "print(\"Hello Welcome To My Profile\\n\\n\")\n",
    "print('select your role \\n 1. New Mamber \\n 2. Exiting mamber')\n",
    "select=int(input('Select your Role(1 for New Mamber. 2 for Exiting mamber): '))\n",
    "az='abcdefghijklmnopqrstuvwxyzABCDEFGHIJKLMNOPQRSTUVWXYZ0123456789!@#$%^&*~'\n",
    "if select==1:\n",
    "    name=input('\\n\\n Enter Your Name: ')\n",
    "    user_id=random.randint(10000,99999)\n",
    "    password=''.join(random.choices(az,k=10))\n",
    "    time=datetime.datetime.now()\n",
    "    data=name,user_id\n",
    "    print(f'hello {name} ! Your Id is {user_id} and passward is {password}')\n",
    "          \n",
    "if select==2:\n",
    "    user_id=input('Enter Your Id: ')\n",
    "    password=input('Enter Your password: ')\n",
    "    if user_id==password:\n",
    "        print('Hello Welcome To Management Profile')\n",
    "        print(f'add new mamber {data} at ({time})')\n",
    "    else:\n",
    "        print('Check Your Id Password & Resubmit')\n",
    "    "
   ]
  },
  {
   "cell_type": "code",
   "execution_count": null,
   "id": "3c6cb38c",
   "metadata": {},
   "outputs": [],
   "source": []
  }
 ],
 "metadata": {
  "kernelspec": {
   "display_name": "Python 3 (ipykernel)",
   "language": "python",
   "name": "python3"
  },
  "language_info": {
   "codemirror_mode": {
    "name": "ipython",
    "version": 3
   },
   "file_extension": ".py",
   "mimetype": "text/x-python",
   "name": "python",
   "nbconvert_exporter": "python",
   "pygments_lexer": "ipython3",
   "version": "3.9.12"
  }
 },
 "nbformat": 4,
 "nbformat_minor": 5
}
