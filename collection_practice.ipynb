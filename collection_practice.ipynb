{
 "cells": [
  {
   "cell_type": "markdown",
   "id": "03346480",
   "metadata": {},
   "source": [
    "# list"
   ]
  },
  {
   "cell_type": "code",
   "execution_count": 1,
   "id": "be2ccf99",
   "metadata": {},
   "outputs": [],
   "source": [
    "l=[2,4,6,5,6]"
   ]
  },
  {
   "cell_type": "code",
   "execution_count": 2,
   "id": "c494ab0b",
   "metadata": {},
   "outputs": [
    {
     "data": {
      "text/plain": [
       "list"
      ]
     },
     "execution_count": 2,
     "metadata": {},
     "output_type": "execute_result"
    }
   ],
   "source": [
    "type(l)"
   ]
  },
  {
   "cell_type": "code",
   "execution_count": 4,
   "id": "40c1f5fa",
   "metadata": {},
   "outputs": [],
   "source": [
    "k=list()"
   ]
  },
  {
   "cell_type": "code",
   "execution_count": 5,
   "id": "258b8c06",
   "metadata": {},
   "outputs": [
    {
     "data": {
      "text/plain": [
       "list"
      ]
     },
     "execution_count": 5,
     "metadata": {},
     "output_type": "execute_result"
    }
   ],
   "source": [
    "type(k)"
   ]
  },
  {
   "cell_type": "markdown",
   "id": "3783104f",
   "metadata": {},
   "source": [
    "### add item in list"
   ]
  },
  {
   "cell_type": "code",
   "execution_count": 28,
   "id": "3317a92f",
   "metadata": {},
   "outputs": [],
   "source": [
    "#append -------> one by one , add end of list"
   ]
  },
  {
   "cell_type": "code",
   "execution_count": 29,
   "id": "d346b61d",
   "metadata": {},
   "outputs": [],
   "source": [
    "k.append(5)"
   ]
  },
  {
   "cell_type": "code",
   "execution_count": 30,
   "id": "f1f174b9",
   "metadata": {},
   "outputs": [
    {
     "data": {
      "text/plain": [
       "[2, 5]"
      ]
     },
     "execution_count": 30,
     "metadata": {},
     "output_type": "execute_result"
    }
   ],
   "source": [
    "k"
   ]
  },
  {
   "cell_type": "code",
   "execution_count": 31,
   "id": "9f29142d",
   "metadata": {},
   "outputs": [],
   "source": [
    "#extend ----------> multiple value add at a time , add end of list"
   ]
  },
  {
   "cell_type": "code",
   "execution_count": 32,
   "id": "60d0a23d",
   "metadata": {},
   "outputs": [],
   "source": [
    "k.extend([2,5,6,3])"
   ]
  },
  {
   "cell_type": "code",
   "execution_count": 33,
   "id": "097db776",
   "metadata": {},
   "outputs": [
    {
     "data": {
      "text/plain": [
       "[2, 5, 2, 5, 6, 3]"
      ]
     },
     "execution_count": 33,
     "metadata": {},
     "output_type": "execute_result"
    }
   ],
   "source": [
    "k"
   ]
  },
  {
   "cell_type": "code",
   "execution_count": 34,
   "id": "e507eab5",
   "metadata": {},
   "outputs": [],
   "source": [
    "#insert ----------> add a value using index number"
   ]
  },
  {
   "cell_type": "code",
   "execution_count": 35,
   "id": "202e883a",
   "metadata": {},
   "outputs": [],
   "source": [
    "k.insert(2,8)"
   ]
  },
  {
   "cell_type": "code",
   "execution_count": 36,
   "id": "cf803b90",
   "metadata": {},
   "outputs": [
    {
     "data": {
      "text/plain": [
       "[2, 5, 8, 2, 5, 6, 3]"
      ]
     },
     "execution_count": 36,
     "metadata": {},
     "output_type": "execute_result"
    }
   ],
   "source": [
    "k"
   ]
  },
  {
   "cell_type": "markdown",
   "id": "05e064eb",
   "metadata": {},
   "source": [
    "### remove item from list \n"
   ]
  },
  {
   "cell_type": "code",
   "execution_count": 38,
   "id": "b4ec93b4",
   "metadata": {},
   "outputs": [],
   "source": [
    "#pop --------> remove last element from  list "
   ]
  },
  {
   "cell_type": "code",
   "execution_count": 39,
   "id": "12bb510d",
   "metadata": {},
   "outputs": [
    {
     "data": {
      "text/plain": [
       "3"
      ]
     },
     "execution_count": 39,
     "metadata": {},
     "output_type": "execute_result"
    }
   ],
   "source": [
    "k.pop()"
   ]
  },
  {
   "cell_type": "code",
   "execution_count": 40,
   "id": "e979c3bb",
   "metadata": {},
   "outputs": [
    {
     "data": {
      "text/plain": [
       "6"
      ]
     },
     "execution_count": 40,
     "metadata": {},
     "output_type": "execute_result"
    }
   ],
   "source": [
    "k.pop()"
   ]
  },
  {
   "cell_type": "code",
   "execution_count": 41,
   "id": "9b2ceb65",
   "metadata": {},
   "outputs": [],
   "source": [
    "#pop(index number) --------> remove element using index number"
   ]
  },
  {
   "cell_type": "code",
   "execution_count": 42,
   "id": "f9bf23af",
   "metadata": {},
   "outputs": [
    {
     "data": {
      "text/plain": [
       "8"
      ]
     },
     "execution_count": 42,
     "metadata": {},
     "output_type": "execute_result"
    }
   ],
   "source": [
    "k.pop(2)"
   ]
  },
  {
   "cell_type": "code",
   "execution_count": 43,
   "id": "8cc7e174",
   "metadata": {},
   "outputs": [],
   "source": [
    "# remove ------------> remove element using value , remove value from left\n",
    "\n"
   ]
  },
  {
   "cell_type": "code",
   "execution_count": 45,
   "id": "abcc7b8e",
   "metadata": {},
   "outputs": [],
   "source": [
    "k.remove(5)"
   ]
  },
  {
   "cell_type": "code",
   "execution_count": 46,
   "id": "aeee881c",
   "metadata": {},
   "outputs": [
    {
     "data": {
      "text/plain": [
       "[2, 2, 5]"
      ]
     },
     "execution_count": 46,
     "metadata": {},
     "output_type": "execute_result"
    }
   ],
   "source": [
    "k"
   ]
  },
  {
   "cell_type": "markdown",
   "id": "63b44b79",
   "metadata": {},
   "source": [
    "### sort a list ------------> ascending to descending & descending to ascending order"
   ]
  },
  {
   "cell_type": "code",
   "execution_count": null,
   "id": "39750822",
   "metadata": {},
   "outputs": [],
   "source": []
  },
  {
   "cell_type": "code",
   "execution_count": 61,
   "id": "02d8c44e",
   "metadata": {},
   "outputs": [],
   "source": [
    "r=[5,4,6,9,8,5,2,1,3,6,5,7]"
   ]
  },
  {
   "cell_type": "code",
   "execution_count": 62,
   "id": "d89521fa",
   "metadata": {},
   "outputs": [],
   "source": [
    "r.sort()"
   ]
  },
  {
   "cell_type": "code",
   "execution_count": 63,
   "id": "3d9abe8e",
   "metadata": {},
   "outputs": [
    {
     "data": {
      "text/plain": [
       "[1, 2, 3, 4, 5, 5, 5, 6, 6, 7, 8, 9]"
      ]
     },
     "execution_count": 63,
     "metadata": {},
     "output_type": "execute_result"
    }
   ],
   "source": [
    "r"
   ]
  },
  {
   "cell_type": "code",
   "execution_count": null,
   "id": "f0141e82",
   "metadata": {},
   "outputs": [],
   "source": []
  },
  {
   "cell_type": "code",
   "execution_count": 64,
   "id": "d8c65836",
   "metadata": {},
   "outputs": [],
   "source": [
    "r.sort(reverse=True)"
   ]
  },
  {
   "cell_type": "code",
   "execution_count": 65,
   "id": "22fe37e4",
   "metadata": {},
   "outputs": [
    {
     "data": {
      "text/plain": [
       "[9, 8, 7, 6, 6, 5, 5, 5, 4, 3, 2, 1]"
      ]
     },
     "execution_count": 65,
     "metadata": {},
     "output_type": "execute_result"
    }
   ],
   "source": [
    "r"
   ]
  },
  {
   "cell_type": "code",
   "execution_count": 66,
   "id": "256db4e6",
   "metadata": {},
   "outputs": [],
   "source": [
    "r.sort(reverse=False)"
   ]
  },
  {
   "cell_type": "code",
   "execution_count": 67,
   "id": "01b382b1",
   "metadata": {},
   "outputs": [
    {
     "data": {
      "text/plain": [
       "[1, 2, 3, 4, 5, 5, 5, 6, 6, 7, 8, 9]"
      ]
     },
     "execution_count": 67,
     "metadata": {},
     "output_type": "execute_result"
    }
   ],
   "source": [
    "r"
   ]
  },
  {
   "cell_type": "code",
   "execution_count": null,
   "id": "6ff0d875",
   "metadata": {},
   "outputs": [],
   "source": []
  }
 ],
 "metadata": {
  "kernelspec": {
   "display_name": "Python 3 (ipykernel)",
   "language": "python",
   "name": "python3"
  },
  "language_info": {
   "codemirror_mode": {
    "name": "ipython",
    "version": 3
   },
   "file_extension": ".py",
   "mimetype": "text/x-python",
   "name": "python",
   "nbconvert_exporter": "python",
   "pygments_lexer": "ipython3",
   "version": "3.9.12"
  }
 },
 "nbformat": 4,
 "nbformat_minor": 5
}
