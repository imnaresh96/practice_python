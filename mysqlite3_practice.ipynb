{
 "cells": [
  {
   "cell_type": "code",
   "execution_count": 2,
   "id": "5b5643d3",
   "metadata": {},
   "outputs": [],
   "source": [
    "import sqlite3 as sql"
   ]
  },
  {
   "cell_type": "code",
   "execution_count": 3,
   "id": "aa368fae",
   "metadata": {},
   "outputs": [],
   "source": [
    "db=sql.connect('newdatabasesql.db')"
   ]
  },
  {
   "cell_type": "code",
   "execution_count": 4,
   "id": "f418419e",
   "metadata": {},
   "outputs": [],
   "source": [
    "cur=db.cursor()"
   ]
  },
  {
   "cell_type": "code",
   "execution_count": 5,
   "id": "716db050",
   "metadata": {},
   "outputs": [
    {
     "data": {
      "text/plain": [
       "<sqlite3.Cursor at 0x22592e06c70>"
      ]
     },
     "execution_count": 5,
     "metadata": {},
     "output_type": "execute_result"
    }
   ],
   "source": [
    "cur.execute(\"create table data(id int, name varchar(25), address varchar(25))\")"
   ]
  },
  {
   "cell_type": "code",
   "execution_count": 12,
   "id": "a9e35483",
   "metadata": {},
   "outputs": [
    {
     "data": {
      "text/plain": [
       "<sqlite3.Cursor at 0x22592e06c70>"
      ]
     },
     "execution_count": 12,
     "metadata": {},
     "output_type": "execute_result"
    }
   ],
   "source": [
    "cur.execute(\"select * from data\")"
   ]
  },
  {
   "cell_type": "code",
   "execution_count": 8,
   "id": "35fc21d0",
   "metadata": {},
   "outputs": [
    {
     "data": {
      "text/plain": [
       "[]"
      ]
     },
     "execution_count": 8,
     "metadata": {},
     "output_type": "execute_result"
    }
   ],
   "source": [
    "cur.fetchall()"
   ]
  },
  {
   "cell_type": "code",
   "execution_count": 9,
   "id": "9a7c3acb",
   "metadata": {},
   "outputs": [
    {
     "data": {
      "text/plain": [
       "<sqlite3.Cursor at 0x22592e06c70>"
      ]
     },
     "execution_count": 9,
     "metadata": {},
     "output_type": "execute_result"
    }
   ],
   "source": [
    "cur.execute(\"insert into data values(1,'Naresh','Pali')\")"
   ]
  },
  {
   "cell_type": "code",
   "execution_count": 10,
   "id": "f4eace30",
   "metadata": {},
   "outputs": [
    {
     "data": {
      "text/plain": [
       "[]"
      ]
     },
     "execution_count": 10,
     "metadata": {},
     "output_type": "execute_result"
    }
   ],
   "source": [
    "cur.fetchall()"
   ]
  },
  {
   "cell_type": "code",
   "execution_count": 11,
   "id": "4ef1ebab",
   "metadata": {},
   "outputs": [],
   "source": [
    "db.commit()"
   ]
  },
  {
   "cell_type": "code",
   "execution_count": 13,
   "id": "7410f3ee",
   "metadata": {},
   "outputs": [
    {
     "data": {
      "text/plain": [
       "[(1, 'Naresh', 'Pali')]"
      ]
     },
     "execution_count": 13,
     "metadata": {},
     "output_type": "execute_result"
    }
   ],
   "source": [
    "cur.fetchall()"
   ]
  },
  {
   "cell_type": "code",
   "execution_count": 16,
   "id": "dff16a2b",
   "metadata": {},
   "outputs": [
    {
     "data": {
      "text/plain": [
       "<sqlite3.Cursor at 0x22592e06c70>"
      ]
     },
     "execution_count": 16,
     "metadata": {},
     "output_type": "execute_result"
    }
   ],
   "source": [
    "cur.execute(\"insert into data values(2,'nishad','Ahmedabad')\")"
   ]
  },
  {
   "cell_type": "code",
   "execution_count": 25,
   "id": "d996fe4e",
   "metadata": {},
   "outputs": [],
   "source": [
    "newdata=[\n",
    "    {\n",
    "        'id':3,\n",
    "        'name':'Jaymiskin',\n",
    "        'address':'ahmedabad',\n",
    "    },\n",
    "    {\n",
    "        'id':4,\n",
    "        'name':'Abhimiskin',\n",
    "        'address':'ahmedabad',\n",
    "    }\n",
    "]"
   ]
  },
  {
   "cell_type": "code",
   "execution_count": 26,
   "id": "9050ad00",
   "metadata": {},
   "outputs": [
    {
     "name": "stdout",
     "output_type": "stream",
     "text": [
      "{'id': 3, 'name': 'Jaymiskin', 'address': 'ahmedabad'}\n",
      "{'id': 4, 'name': 'Abhimiskin', 'address': 'ahmedabad'}\n"
     ]
    }
   ],
   "source": [
    "for i in newdata:\n",
    "    print(i)"
   ]
  },
  {
   "cell_type": "code",
   "execution_count": 29,
   "id": "3d8439be",
   "metadata": {},
   "outputs": [
    {
     "name": "stdout",
     "output_type": "stream",
     "text": [
      "id 3\n",
      "name Jaymiskin\n",
      "address ahmedabad\n",
      "id 4\n",
      "name Abhimiskin\n",
      "address ahmedabad\n"
     ]
    }
   ],
   "source": [
    "for i in newdata:\n",
    "    for k in i:\n",
    "        print(k,i[k])"
   ]
  },
  {
   "cell_type": "code",
   "execution_count": null,
   "id": "a807c17c",
   "metadata": {},
   "outputs": [],
   "source": []
  }
 ],
 "metadata": {
  "kernelspec": {
   "display_name": "Python 3 (ipykernel)",
   "language": "python",
   "name": "python3"
  },
  "language_info": {
   "codemirror_mode": {
    "name": "ipython",
    "version": 3
   },
   "file_extension": ".py",
   "mimetype": "text/x-python",
   "name": "python",
   "nbconvert_exporter": "python",
   "pygments_lexer": "ipython3",
   "version": "3.9.12"
  }
 },
 "nbformat": 4,
 "nbformat_minor": 5
}
