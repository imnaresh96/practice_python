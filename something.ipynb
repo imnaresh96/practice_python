{
 "cells": [
  {
   "cell_type": "code",
   "execution_count": 7,
   "id": "6aef2608",
   "metadata": {},
   "outputs": [
    {
     "ename": "TypeError",
     "evalue": "'type' object is not iterable",
     "output_type": "error",
     "traceback": [
      "\u001b[1;31m---------------------------------------------------------------------------\u001b[0m",
      "\u001b[1;31mTypeError\u001b[0m                                 Traceback (most recent call last)",
      "Input \u001b[1;32mIn [7]\u001b[0m, in \u001b[0;36m<cell line: 2>\u001b[1;34m()\u001b[0m\n\u001b[0;32m      1\u001b[0m sets\u001b[38;5;241m=\u001b[39m{\u001b[38;5;124m'\u001b[39m\u001b[38;5;124mquestion\u001b[39m\u001b[38;5;124m'\u001b[39m,\u001b[38;5;124m'\u001b[39m\u001b[38;5;124moption\u001b[39m\u001b[38;5;124m'\u001b[39m,\u001b[38;5;124m'\u001b[39m\u001b[38;5;124mcurrect_ans\u001b[39m\u001b[38;5;124m'\u001b[39m,\u001b[38;5;124m'\u001b[39m\u001b[38;5;124mpoint\u001b[39m\u001b[38;5;124m'\u001b[39m}\n\u001b[1;32m----> 2\u001b[0m \u001b[38;5;28;01mfor\u001b[39;00m i \u001b[38;5;129;01min\u001b[39;00m \u001b[38;5;28mset\u001b[39m:\n\u001b[0;32m      3\u001b[0m     sets\u001b[38;5;241m.\u001b[39msetdefault(\u001b[38;5;28minput\u001b[39m())\n\u001b[0;32m      4\u001b[0m     \u001b[38;5;28mprint\u001b[39m(sets)\n",
      "\u001b[1;31mTypeError\u001b[0m: 'type' object is not iterable"
     ]
    }
   ],
   "source": [
    "sets={'question','option','currect_ans','point'}\n",
    "for i in set:\n",
    "    sets.setdefault(input())\n",
    "    print(sets)\n",
    "    "
   ]
  },
  {
   "cell_type": "code",
   "execution_count": 8,
   "id": "100de798",
   "metadata": {},
   "outputs": [
    {
     "name": "stdout",
     "output_type": "stream",
     "text": [
      "Enter Your Question: what is python\n",
      "Enter Your Option:  programming language, software, hardware, none\n",
      "programming language\n",
      "right answer \n"
     ]
    }
   ],
   "source": [
    "question=input('Enter Your Question: ')\n",
    "option=input('Enter Your Option:  ')\n",
    "currect_ans=input()\n",
    "point=0\n",
    "if currect_ans in option:\n",
    "    print('right answer ')\n",
    "    point+=1\n",
    "else:\n",
    "    print('wrong answer')"
   ]
  },
  {
   "cell_type": "code",
   "execution_count": 6,
   "id": "7349bbf6",
   "metadata": {},
   "outputs": [],
   "source": [
    "question_bank={'question','option','currect_ans','point'}\n",
    "for i in question_bank:\n",
    "    i=input(f'Enter your {i}: ')\n",
    "    question_bank.setdefault(i)\n",
    "    print(question_bank)"
   ]
  },
  {
   "cell_type": "code",
   "execution_count": null,
   "id": "c59e2405",
   "metadata": {},
   "outputs": [],
   "source": []
  }
 ],
 "metadata": {
  "kernelspec": {
   "display_name": "Python 3.9.12 ('base')",
   "language": "python",
   "name": "python3"
  },
  "language_info": {
   "codemirror_mode": {
    "name": "ipython",
    "version": 3
   },
   "file_extension": ".py",
   "mimetype": "text/x-python",
   "name": "python",
   "nbconvert_exporter": "python",
   "pygments_lexer": "ipython3",
   "version": "3.9.12"
  },
  "vscode": {
   "interpreter": {
    "hash": "5ae58900cfbb8c43ab3495913814b7cf26024f51651a94ce8bf64d6111688e8d"
   }
  }
 },
 "nbformat": 4,
 "nbformat_minor": 5
}
