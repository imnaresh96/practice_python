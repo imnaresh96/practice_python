{
 "cells": [
  {
   "cell_type": "code",
   "execution_count": 8,
   "id": "a1dd8233",
   "metadata": {},
   "outputs": [
    {
     "name": "stdout",
     "output_type": "stream",
     "text": [
      "Enter something here: bh j jj jj jhj\n",
      "5\n"
     ]
    }
   ],
   "source": [
    "#to find word in string\n",
    "string=input('Enter something here: ')\n",
    "f=' '\n",
    "c=0\n",
    "for i in string:\n",
    "  if i==f:\n",
    "    c +=1\n",
    "else:\n",
    "  print(c+1)"
   ]
  },
  {
   "cell_type": "code",
   "execution_count": null,
   "id": "0fa35bcd",
   "metadata": {},
   "outputs": [],
   "source": []
  }
 ],
 "metadata": {
  "kernelspec": {
   "display_name": "Python 3 (ipykernel)",
   "language": "python",
   "name": "python3"
  },
  "language_info": {
   "codemirror_mode": {
    "name": "ipython",
    "version": 3
   },
   "file_extension": ".py",
   "mimetype": "text/x-python",
   "name": "python",
   "nbconvert_exporter": "python",
   "pygments_lexer": "ipython3",
   "version": "3.9.12"
  }
 },
 "nbformat": 4,
 "nbformat_minor": 5
}
