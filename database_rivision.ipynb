{
 "cells": [
  {
   "cell_type": "code",
   "execution_count": 2,
   "id": "b1e13f4e",
   "metadata": {},
   "outputs": [],
   "source": [
    "import pymysql as sql"
   ]
  },
  {
   "cell_type": "code",
   "execution_count": 4,
   "id": "d72ce2dc",
   "metadata": {},
   "outputs": [],
   "source": [
    "db=sql.connect(host=\"localhost\",port=3306,user=\"root\",password='',database=\"tops\") "
   ]
  },
  {
   "cell_type": "code",
   "execution_count": 5,
   "id": "b3f7651e",
   "metadata": {},
   "outputs": [],
   "source": [
    "cur=db.cursor()"
   ]
  },
  {
   "cell_type": "code",
   "execution_count": 7,
   "id": "b75c30cf",
   "metadata": {},
   "outputs": [
    {
     "data": {
      "text/plain": [
       "3"
      ]
     },
     "execution_count": 7,
     "metadata": {},
     "output_type": "execute_result"
    }
   ],
   "source": [
    "cur.execute(\"select * from students\")"
   ]
  },
  {
   "cell_type": "code",
   "execution_count": 8,
   "id": "85007200",
   "metadata": {},
   "outputs": [
    {
     "data": {
      "text/plain": [
       "((1, 'Naresh', 'pali'), (2, 'Anand', 'Pali'), (3, 'Lokesh', 'Rani'))"
      ]
     },
     "execution_count": 8,
     "metadata": {},
     "output_type": "execute_result"
    }
   ],
   "source": [
    "cur.fetchall()"
   ]
  },
  {
   "cell_type": "code",
   "execution_count": 10,
   "id": "e6c80ecb",
   "metadata": {},
   "outputs": [
    {
     "name": "stdout",
     "output_type": "stream",
     "text": [
      "Enter Your id num: 4\n",
      "Enter Your Name: Nishad\n",
      "Enter Your Address: Ahmedabad\n",
      "((1, 'Naresh', 'pali'), (2, 'Anand', 'Pali'), (3, 'Lokesh', 'Rani'), (4, 'Nishad', 'Ahmedabad'))\n"
     ]
    }
   ],
   "source": [
    "i_d=int(input('Enter Your id num: '))\n",
    "name=input('Enter Your Name: ')\n",
    "address=input('Enter Your Address: ')\n",
    "\n",
    "query=f\"insert into students values('{i_d}','{name}','{address}')\"\n",
    "cur.execute(query)\n",
    "db.commit()\n",
    "cur.execute(\"select * from students\")\n",
    "print(cur.fetchall())"
   ]
  },
  {
   "cell_type": "code",
   "execution_count": null,
   "id": "0d9ba871",
   "metadata": {},
   "outputs": [],
   "source": []
  }
 ],
 "metadata": {
  "kernelspec": {
   "display_name": "Python 3 (ipykernel)",
   "language": "python",
   "name": "python3"
  },
  "language_info": {
   "codemirror_mode": {
    "name": "ipython",
    "version": 3
   },
   "file_extension": ".py",
   "mimetype": "text/x-python",
   "name": "python",
   "nbconvert_exporter": "python",
   "pygments_lexer": "ipython3",
   "version": "3.9.12"
  }
 },
 "nbformat": 4,
 "nbformat_minor": 5
}
