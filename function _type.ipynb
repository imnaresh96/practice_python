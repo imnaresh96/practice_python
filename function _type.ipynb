{
 "cells": [
  {
   "cell_type": "markdown",
   "id": "07120cc4",
   "metadata": {},
   "source": [
    "# User Define function"
   ]
  },
  {
   "cell_type": "markdown",
   "id": "b9337bb5",
   "metadata": {},
   "source": [
    "### default argument \n",
    "\n",
    "#### When the argument assigned to the definition is not given on the function call, the default value is passed."
   ]
  },
  {
   "cell_type": "code",
   "execution_count": 16,
   "id": "e3267e1c",
   "metadata": {},
   "outputs": [],
   "source": [
    "def add(x=5,y=5 ): \n",
    "    return x+y"
   ]
  },
  {
   "cell_type": "code",
   "execution_count": 17,
   "id": "2465af10",
   "metadata": {},
   "outputs": [
    {
     "data": {
      "text/plain": [
       "13"
      ]
     },
     "execution_count": 17,
     "metadata": {},
     "output_type": "execute_result"
    }
   ],
   "source": [
    "add(5,8)"
   ]
  },
  {
   "cell_type": "code",
   "execution_count": 18,
   "id": "8373597b",
   "metadata": {},
   "outputs": [
    {
     "data": {
      "text/plain": [
       "10"
      ]
     },
     "execution_count": 18,
     "metadata": {},
     "output_type": "execute_result"
    }
   ],
   "source": [
    "add()"
   ]
  },
  {
   "cell_type": "code",
   "execution_count": 19,
   "id": "64710344",
   "metadata": {},
   "outputs": [
    {
     "data": {
      "text/plain": [
       "13"
      ]
     },
     "execution_count": 19,
     "metadata": {},
     "output_type": "execute_result"
    }
   ],
   "source": [
    "add(8)"
   ]
  },
  {
   "cell_type": "markdown",
   "id": "b30ce42d",
   "metadata": {},
   "source": [
    "###  Required Argument\n",
    "\n",
    "#### In the Required Argument, it is mandatory to give arguments on the function call.\n",
    "#### If the argument is not given on the function call, then the exception of TypeError occurs."
   ]
  },
  {
   "cell_type": "code",
   "execution_count": 20,
   "id": "8a243e4a",
   "metadata": {},
   "outputs": [],
   "source": [
    "def multiplication(x,y):\n",
    "    return x*y"
   ]
  },
  {
   "cell_type": "code",
   "execution_count": 22,
   "id": "f3b21ec9",
   "metadata": {},
   "outputs": [
    {
     "data": {
      "text/plain": [
       "35"
      ]
     },
     "execution_count": 22,
     "metadata": {},
     "output_type": "execute_result"
    }
   ],
   "source": [
    "multiplication(5,7)"
   ]
  },
  {
   "cell_type": "code",
   "execution_count": 23,
   "id": "71201424",
   "metadata": {},
   "outputs": [
    {
     "ename": "TypeError",
     "evalue": "multiplication() missing 1 required positional argument: 'y'",
     "output_type": "error",
     "traceback": [
      "\u001b[1;31m---------------------------------------------------------------------------\u001b[0m",
      "\u001b[1;31mTypeError\u001b[0m                                 Traceback (most recent call last)",
      "Input \u001b[1;32mIn [23]\u001b[0m, in \u001b[0;36m<cell line: 1>\u001b[1;34m()\u001b[0m\n\u001b[1;32m----> 1\u001b[0m \u001b[43mmultiplication\u001b[49m\u001b[43m(\u001b[49m\u001b[38;5;241;43m5\u001b[39;49m\u001b[43m)\u001b[49m\n",
      "\u001b[1;31mTypeError\u001b[0m: multiplication() missing 1 required positional argument: 'y'"
     ]
    }
   ],
   "source": [
    "multiplication(5)"
   ]
  },
  {
   "cell_type": "markdown",
   "id": "681c45c1",
   "metadata": {},
   "source": [
    "### keyword argument\n",
    "#### With the help of Keyword Argument, the positions of the arguments are changed."
   ]
  },
  {
   "cell_type": "code",
   "execution_count": 25,
   "id": "74f1df13",
   "metadata": {},
   "outputs": [],
   "source": [
    "def data(name,age,district):\n",
    "    print(name)\n",
    "    print(age)\n",
    "    print(district)"
   ]
  },
  {
   "cell_type": "code",
   "execution_count": 26,
   "id": "27822f29",
   "metadata": {},
   "outputs": [
    {
     "name": "stdout",
     "output_type": "stream",
     "text": [
      "naresh\n",
      "26\n",
      "pali\n"
     ]
    }
   ],
   "source": [
    "data(name='naresh',age=26,district='pali')"
   ]
  },
  {
   "cell_type": "code",
   "execution_count": 27,
   "id": "a2ab583b",
   "metadata": {},
   "outputs": [
    {
     "name": "stdout",
     "output_type": "stream",
     "text": [
      "naresh\n",
      "25\n",
      "pali\n"
     ]
    }
   ],
   "source": [
    "data(name='naresh',district='pali',age=25)"
   ]
  },
  {
   "cell_type": "code",
   "execution_count": 28,
   "id": "b1d55583",
   "metadata": {},
   "outputs": [
    {
     "name": "stdout",
     "output_type": "stream",
     "text": [
      "naresh\n",
      "25\n",
      "pali\n"
     ]
    }
   ],
   "source": [
    "data(district='pali',age=25,name='naresh')"
   ]
  },
  {
   "cell_type": "code",
   "execution_count": 71,
   "id": "313f5323",
   "metadata": {},
   "outputs": [
    {
     "ename": "TypeError",
     "evalue": "data() got an unexpected keyword argument 'name'",
     "output_type": "error",
     "traceback": [
      "\u001b[1;31m---------------------------------------------------------------------------\u001b[0m",
      "\u001b[1;31mTypeError\u001b[0m                                 Traceback (most recent call last)",
      "Input \u001b[1;32mIn [71]\u001b[0m, in \u001b[0;36m<cell line: 1>\u001b[1;34m()\u001b[0m\n\u001b[1;32m----> 1\u001b[0m \u001b[43mdata\u001b[49m\u001b[43m(\u001b[49m\u001b[43mname\u001b[49m\u001b[38;5;241;43m=\u001b[39;49m\u001b[38;5;124;43m'\u001b[39;49m\u001b[38;5;124;43mnaresh\u001b[39;49m\u001b[38;5;124;43m'\u001b[39;49m\u001b[43m,\u001b[49m\u001b[43mwhere\u001b[49m\u001b[38;5;241;43m=\u001b[39;49m\u001b[38;5;124;43m'\u001b[39;49m\u001b[38;5;124;43mpali\u001b[39;49m\u001b[38;5;124;43m'\u001b[39;49m\u001b[43m)\u001b[49m\n",
      "\u001b[1;31mTypeError\u001b[0m: data() got an unexpected keyword argument 'name'"
     ]
    }
   ],
   "source": [
    "data(name='naresh',where='pali')"
   ]
  },
  {
   "cell_type": "markdown",
   "id": "772d228e",
   "metadata": {},
   "source": [
    "### Number of Arguments\n",
    "\n",
    "####  By default, a function must be called with the correct number of arguments. Meaning that if your function expects 2 arguments, you have to call the function with 2 arguments, not more, and not less."
   ]
  },
  {
   "cell_type": "code",
   "execution_count": 29,
   "id": "cff89a8d",
   "metadata": {},
   "outputs": [],
   "source": [
    "def data(x,y,z):\n",
    "    return x+y+z"
   ]
  },
  {
   "cell_type": "code",
   "execution_count": 30,
   "id": "43411dc1",
   "metadata": {},
   "outputs": [
    {
     "data": {
      "text/plain": [
       "18"
      ]
     },
     "execution_count": 30,
     "metadata": {},
     "output_type": "execute_result"
    }
   ],
   "source": [
    "data(8,4,6)"
   ]
  },
  {
   "cell_type": "code",
   "execution_count": 31,
   "id": "3201b76c",
   "metadata": {},
   "outputs": [
    {
     "ename": "TypeError",
     "evalue": "data() missing 1 required positional argument: 'z'",
     "output_type": "error",
     "traceback": [
      "\u001b[1;31m---------------------------------------------------------------------------\u001b[0m",
      "\u001b[1;31mTypeError\u001b[0m                                 Traceback (most recent call last)",
      "Input \u001b[1;32mIn [31]\u001b[0m, in \u001b[0;36m<cell line: 1>\u001b[1;34m()\u001b[0m\n\u001b[1;32m----> 1\u001b[0m \u001b[43mdata\u001b[49m\u001b[43m \u001b[49m\u001b[43m(\u001b[49m\u001b[38;5;241;43m5\u001b[39;49m\u001b[43m,\u001b[49m\u001b[38;5;241;43m4\u001b[39;49m\u001b[43m)\u001b[49m\n",
      "\u001b[1;31mTypeError\u001b[0m: data() missing 1 required positional argument: 'z'"
     ]
    }
   ],
   "source": [
    "data (5,4)"
   ]
  },
  {
   "cell_type": "markdown",
   "id": "7b78bc08",
   "metadata": {},
   "source": [
    "### Arbitrary Arguments, *args\n",
    "\n",
    "#### If you do not know how many arguments that will be passed into your function, add a * before the parameter name in the function definition.\n",
    "#### This way the function will receive a tuple of arguments, and can access the items accordingly:"
   ]
  },
  {
   "cell_type": "code",
   "execution_count": 32,
   "id": "417f0205",
   "metadata": {},
   "outputs": [],
   "source": [
    "def marks(*num):\n",
    "    sum=0\n",
    "    for i in num:\n",
    "        sum+=i\n",
    "    return sum"
   ]
  },
  {
   "cell_type": "code",
   "execution_count": 33,
   "id": "3de46f63",
   "metadata": {},
   "outputs": [
    {
     "data": {
      "text/plain": [
       "34"
      ]
     },
     "execution_count": 33,
     "metadata": {},
     "output_type": "execute_result"
    }
   ],
   "source": [
    "marks(5,4,6,5,8,6)"
   ]
  },
  {
   "cell_type": "code",
   "execution_count": 34,
   "id": "6d996fdc",
   "metadata": {},
   "outputs": [
    {
     "data": {
      "text/plain": [
       "6"
      ]
     },
     "execution_count": 34,
     "metadata": {},
     "output_type": "execute_result"
    }
   ],
   "source": [
    "marks(1,5)"
   ]
  },
  {
   "cell_type": "code",
   "execution_count": 35,
   "id": "11520cd5",
   "metadata": {},
   "outputs": [],
   "source": [
    "def marks(*num):\n",
    "    return num"
   ]
  },
  {
   "cell_type": "code",
   "execution_count": 36,
   "id": "e3400d07",
   "metadata": {},
   "outputs": [
    {
     "data": {
      "text/plain": [
       "(5, 4, 6, 7)"
      ]
     },
     "execution_count": 36,
     "metadata": {},
     "output_type": "execute_result"
    }
   ],
   "source": [
    "marks(5,4,6,7)"
   ]
  },
  {
   "cell_type": "code",
   "execution_count": 37,
   "id": "6c5f169c",
   "metadata": {},
   "outputs": [
    {
     "data": {
      "text/plain": [
       "function"
      ]
     },
     "execution_count": 37,
     "metadata": {},
     "output_type": "execute_result"
    }
   ],
   "source": [
    "type(marks)"
   ]
  },
  {
   "cell_type": "markdown",
   "id": "16b86c72",
   "metadata": {},
   "source": [
    "### Arbitrary Keyword Arguments, **kwargs\n",
    "\n",
    "#### If you do not know how many keyword arguments that will be passed into your function, add two asterisk: ** before the parameter name in the function definition.\n",
    "#### This way the function will receive a dictionary of arguments, and can access the items accordingly:"
   ]
  },
  {
   "cell_type": "code",
   "execution_count": 38,
   "id": "6fd0f4dd",
   "metadata": {},
   "outputs": [],
   "source": [
    "def info(**student):\n",
    "    return student"
   ]
  },
  {
   "cell_type": "code",
   "execution_count": 41,
   "id": "9d68be2d",
   "metadata": {},
   "outputs": [
    {
     "data": {
      "text/plain": [
       "{'name': 'naresh', 'subject': 'python'}"
      ]
     },
     "execution_count": 41,
     "metadata": {},
     "output_type": "execute_result"
    }
   ],
   "source": [
    "info(name='naresh',subject='python')"
   ]
  },
  {
   "cell_type": "code",
   "execution_count": 42,
   "id": "316b8a26",
   "metadata": {},
   "outputs": [
    {
     "data": {
      "text/plain": [
       "{'age': 23}"
      ]
     },
     "execution_count": 42,
     "metadata": {},
     "output_type": "execute_result"
    }
   ],
   "source": [
    "info(age=23)"
   ]
  },
  {
   "cell_type": "code",
   "execution_count": 55,
   "id": "dac542fd",
   "metadata": {},
   "outputs": [],
   "source": [
    "def fruits(food):\n",
    "    for i in food:\n",
    "        print(i)"
   ]
  },
  {
   "cell_type": "code",
   "execution_count": 56,
   "id": "57ea7030",
   "metadata": {},
   "outputs": [],
   "source": [
    "fruit=['banana','mango']"
   ]
  },
  {
   "cell_type": "code",
   "execution_count": 57,
   "id": "b008cc9e",
   "metadata": {
    "scrolled": true
   },
   "outputs": [
    {
     "name": "stdout",
     "output_type": "stream",
     "text": [
      "banana\n",
      "mango\n"
     ]
    }
   ],
   "source": [
    "fruits(fruit)"
   ]
  },
  {
   "cell_type": "markdown",
   "id": "652f096c",
   "metadata": {},
   "source": [
    "### Passing a List as an Argument"
   ]
  },
  {
   "cell_type": "code",
   "execution_count": 66,
   "id": "981d33d2",
   "metadata": {},
   "outputs": [],
   "source": [
    "def my_function(food):\n",
    "    for x in food:\n",
    "        print(x)"
   ]
  },
  {
   "cell_type": "code",
   "execution_count": 67,
   "id": "7c5f59c8",
   "metadata": {},
   "outputs": [],
   "source": [
    "fruits=['banana','mango','orange','grapes']"
   ]
  },
  {
   "cell_type": "code",
   "execution_count": 68,
   "id": "af386bb3",
   "metadata": {},
   "outputs": [
    {
     "name": "stdout",
     "output_type": "stream",
     "text": [
      "banana\n",
      "mango\n",
      "orange\n",
      "grapes\n"
     ]
    }
   ],
   "source": [
    "my_function(fruits)"
   ]
  },
  {
   "cell_type": "code",
   "execution_count": 69,
   "id": "0055061b",
   "metadata": {},
   "outputs": [],
   "source": [
    "name=('banana','mango','orange','grapes')"
   ]
  },
  {
   "cell_type": "code",
   "execution_count": 70,
   "id": "c3aaf40a",
   "metadata": {},
   "outputs": [
    {
     "name": "stdout",
     "output_type": "stream",
     "text": [
      "banana\n",
      "mango\n",
      "orange\n",
      "grapes\n"
     ]
    }
   ],
   "source": [
    "my_function(name)"
   ]
  },
  {
   "cell_type": "markdown",
   "id": "96e66811",
   "metadata": {},
   "source": [
    "## Anonymous Function - lambda and special functions - filter(), reduce()"
   ]
  },
  {
   "cell_type": "markdown",
   "id": "5483bddc",
   "metadata": {},
   "source": [
    "#### When a normal function is created, a specific name is given to the function. But Anonymous or Lambda Function has no name.\n",
    "#### 'def' keyword is used for Normal Function but 'lambda' keyword is used for Anonymous/Lambda Function. This function is very small."
   ]
  },
  {
   "cell_type": "code",
   "execution_count": 72,
   "id": "f1d935f2",
   "metadata": {},
   "outputs": [],
   "source": [
    "# creat a Anonymous Function\n",
    "name=lambda a,b: a+b"
   ]
  },
  {
   "cell_type": "code",
   "execution_count": 73,
   "id": "c3890720",
   "metadata": {},
   "outputs": [
    {
     "data": {
      "text/plain": [
       "13"
      ]
     },
     "execution_count": 73,
     "metadata": {},
     "output_type": "execute_result"
    }
   ],
   "source": [
    "name(6,7)"
   ]
  },
  {
   "cell_type": "code",
   "execution_count": 75,
   "id": "8b1d1948",
   "metadata": {},
   "outputs": [
    {
     "data": {
      "text/plain": [
       "9"
      ]
     },
     "execution_count": 75,
     "metadata": {},
     "output_type": "execute_result"
    }
   ],
   "source": [
    "name(4,5)"
   ]
  },
  {
   "cell_type": "code",
   "execution_count": null,
   "id": "18742004",
   "metadata": {},
   "outputs": [],
   "source": []
  },
  {
   "cell_type": "markdown",
   "id": "6875379d",
   "metadata": {},
   "source": [
    "### filter(function, iterable_object)"
   ]
  },
  {
   "cell_type": "code",
   "execution_count": 79,
   "id": "51697e16",
   "metadata": {},
   "outputs": [],
   "source": [
    "subject=filter(None,'python')"
   ]
  },
  {
   "cell_type": "code",
   "execution_count": 80,
   "id": "75247c30",
   "metadata": {},
   "outputs": [
    {
     "name": "stdout",
     "output_type": "stream",
     "text": [
      "p\n",
      "y\n",
      "t\n",
      "h\n",
      "o\n",
      "n\n"
     ]
    }
   ],
   "source": [
    "for i in subject:\n",
    "    print(i)"
   ]
  },
  {
   "cell_type": "code",
   "execution_count": 3,
   "id": "112babd5",
   "metadata": {},
   "outputs": [],
   "source": [
    "k=[5,4,6,9,8]"
   ]
  },
  {
   "cell_type": "code",
   "execution_count": 4,
   "id": "5564578e",
   "metadata": {},
   "outputs": [],
   "source": [
    "def add(x,y):\n",
    "    print(x+y)"
   ]
  },
  {
   "cell_type": "code",
   "execution_count": 5,
   "id": "5508387a",
   "metadata": {},
   "outputs": [],
   "source": [
    "result=filter(add,k)"
   ]
  },
  {
   "cell_type": "code",
   "execution_count": 7,
   "id": "fda8c3e3",
   "metadata": {},
   "outputs": [
    {
     "data": {
      "text/plain": [
       "<filter at 0x17b6f9191f0>"
      ]
     },
     "execution_count": 7,
     "metadata": {},
     "output_type": "execute_result"
    }
   ],
   "source": [
    "result"
   ]
  },
  {
   "cell_type": "markdown",
   "id": "57a0e332",
   "metadata": {},
   "source": [
    "## next(generator)"
   ]
  },
  {
   "cell_type": "code",
   "execution_count": 94,
   "id": "d91d9352",
   "metadata": {},
   "outputs": [],
   "source": [
    "k=[5,4,6,9,8]"
   ]
  },
  {
   "cell_type": "code",
   "execution_count": 99,
   "id": "90dce943",
   "metadata": {},
   "outputs": [],
   "source": [
    "def add(*num):\n",
    "    sum=0\n",
    "    for i in num:\n",
    "        sum+=i\n",
    "    return sum"
   ]
  },
  {
   "cell_type": "code",
   "execution_count": 100,
   "id": "b1601cbb",
   "metadata": {},
   "outputs": [
    {
     "data": {
      "text/plain": [
       "28"
      ]
     },
     "execution_count": 100,
     "metadata": {},
     "output_type": "execute_result"
    }
   ],
   "source": [
    "add(5,4,6,8,5)"
   ]
  },
  {
   "cell_type": "code",
   "execution_count": 105,
   "id": "921e5ea9",
   "metadata": {},
   "outputs": [],
   "source": [
    "sum=filter(None,k)"
   ]
  },
  {
   "cell_type": "code",
   "execution_count": 107,
   "id": "182e070e",
   "metadata": {},
   "outputs": [
    {
     "data": {
      "text/plain": [
       "5"
      ]
     },
     "execution_count": 107,
     "metadata": {},
     "output_type": "execute_result"
    }
   ],
   "source": [
    "next(sum)"
   ]
  },
  {
   "cell_type": "code",
   "execution_count": 108,
   "id": "8437babf",
   "metadata": {},
   "outputs": [
    {
     "data": {
      "text/plain": [
       "4"
      ]
     },
     "execution_count": 108,
     "metadata": {},
     "output_type": "execute_result"
    }
   ],
   "source": [
    "next(sum)"
   ]
  },
  {
   "cell_type": "code",
   "execution_count": 109,
   "id": "7b5704cf",
   "metadata": {},
   "outputs": [
    {
     "data": {
      "text/plain": [
       "6"
      ]
     },
     "execution_count": 109,
     "metadata": {},
     "output_type": "execute_result"
    }
   ],
   "source": [
    "next(sum)"
   ]
  },
  {
   "cell_type": "code",
   "execution_count": 110,
   "id": "9d65c875",
   "metadata": {},
   "outputs": [
    {
     "data": {
      "text/plain": [
       "9"
      ]
     },
     "execution_count": 110,
     "metadata": {},
     "output_type": "execute_result"
    }
   ],
   "source": [
    "next(sum)"
   ]
  },
  {
   "cell_type": "code",
   "execution_count": 111,
   "id": "8b9355c4",
   "metadata": {},
   "outputs": [
    {
     "data": {
      "text/plain": [
       "8"
      ]
     },
     "execution_count": 111,
     "metadata": {},
     "output_type": "execute_result"
    }
   ],
   "source": [
    "next(sum)"
   ]
  },
  {
   "cell_type": "code",
   "execution_count": 112,
   "id": "73ebe386",
   "metadata": {},
   "outputs": [
    {
     "ename": "StopIteration",
     "evalue": "",
     "output_type": "error",
     "traceback": [
      "\u001b[1;31m---------------------------------------------------------------------------\u001b[0m",
      "\u001b[1;31mStopIteration\u001b[0m                             Traceback (most recent call last)",
      "Input \u001b[1;32mIn [112]\u001b[0m, in \u001b[0;36m<cell line: 1>\u001b[1;34m()\u001b[0m\n\u001b[1;32m----> 1\u001b[0m \u001b[38;5;28;43mnext\u001b[39;49m\u001b[43m(\u001b[49m\u001b[38;5;28;43msum\u001b[39;49m\u001b[43m)\u001b[49m\n",
      "\u001b[1;31mStopIteration\u001b[0m: "
     ]
    }
   ],
   "source": [
    "next(sum)"
   ]
  },
  {
   "cell_type": "markdown",
   "id": "4bce6292",
   "metadata": {},
   "source": [
    "## reduce()"
   ]
  },
  {
   "cell_type": "code",
   "execution_count": 114,
   "id": "4168edea",
   "metadata": {},
   "outputs": [],
   "source": [
    "from functools import reduce\n",
    "def add(x,y):\n",
    "    return x+y"
   ]
  },
  {
   "cell_type": "code",
   "execution_count": 116,
   "id": "3628905d",
   "metadata": {},
   "outputs": [
    {
     "data": {
      "text/plain": [
       "9"
      ]
     },
     "execution_count": 116,
     "metadata": {},
     "output_type": "execute_result"
    }
   ],
   "source": [
    "add(5,4)"
   ]
  },
  {
   "cell_type": "code",
   "execution_count": 117,
   "id": "ce42b7bc",
   "metadata": {},
   "outputs": [
    {
     "ename": "TypeError",
     "evalue": "add() takes 2 positional arguments but 3 were given",
     "output_type": "error",
     "traceback": [
      "\u001b[1;31m---------------------------------------------------------------------------\u001b[0m",
      "\u001b[1;31mTypeError\u001b[0m                                 Traceback (most recent call last)",
      "Input \u001b[1;32mIn [117]\u001b[0m, in \u001b[0;36m<cell line: 1>\u001b[1;34m()\u001b[0m\n\u001b[1;32m----> 1\u001b[0m \u001b[43madd\u001b[49m\u001b[43m(\u001b[49m\u001b[38;5;241;43m5\u001b[39;49m\u001b[43m,\u001b[49m\u001b[38;5;241;43m4\u001b[39;49m\u001b[43m,\u001b[49m\u001b[38;5;241;43m6\u001b[39;49m\u001b[43m)\u001b[49m\n",
      "\u001b[1;31mTypeError\u001b[0m: add() takes 2 positional arguments but 3 were given"
     ]
    }
   ],
   "source": [
    "add(5,4,6)"
   ]
  },
  {
   "cell_type": "code",
   "execution_count": 119,
   "id": "e51c9752",
   "metadata": {},
   "outputs": [],
   "source": [
    "new_add=reduce(add,(5,4,6,8))"
   ]
  },
  {
   "cell_type": "code",
   "execution_count": 120,
   "id": "c5f4c2c2",
   "metadata": {},
   "outputs": [
    {
     "data": {
      "text/plain": [
       "23"
      ]
     },
     "execution_count": 120,
     "metadata": {},
     "output_type": "execute_result"
    }
   ],
   "source": [
    "new_add"
   ]
  },
  {
   "cell_type": "code",
   "execution_count": 121,
   "id": "628ec2a1",
   "metadata": {},
   "outputs": [],
   "source": [
    "def multi(x,y):\n",
    "    return x*y"
   ]
  },
  {
   "cell_type": "code",
   "execution_count": 122,
   "id": "c0702fef",
   "metadata": {},
   "outputs": [],
   "source": [
    "multiply=reduce(multi,(4,5,6,9,8))"
   ]
  },
  {
   "cell_type": "code",
   "execution_count": 123,
   "id": "129fc761",
   "metadata": {},
   "outputs": [
    {
     "data": {
      "text/plain": [
       "8640"
      ]
     },
     "execution_count": 123,
     "metadata": {},
     "output_type": "execute_result"
    }
   ],
   "source": [
    "multiply"
   ]
  },
  {
   "cell_type": "markdown",
   "id": "0d258e6b",
   "metadata": {},
   "source": [
    "## list comprehension"
   ]
  },
  {
   "cell_type": "code",
   "execution_count": 125,
   "id": "597fab59",
   "metadata": {},
   "outputs": [],
   "source": [
    "number=[*range(10)]"
   ]
  },
  {
   "cell_type": "code",
   "execution_count": 126,
   "id": "d02ba695",
   "metadata": {},
   "outputs": [
    {
     "data": {
      "text/plain": [
       "[0, 1, 2, 3, 4, 5, 6, 7, 8, 9]"
      ]
     },
     "execution_count": 126,
     "metadata": {},
     "output_type": "execute_result"
    }
   ],
   "source": [
    "number"
   ]
  },
  {
   "cell_type": "code",
   "execution_count": null,
   "id": "75444e4a",
   "metadata": {},
   "outputs": [],
   "source": []
  }
 ],
 "metadata": {
  "kernelspec": {
   "display_name": "Python 3 (ipykernel)",
   "language": "python",
   "name": "python3"
  },
  "language_info": {
   "codemirror_mode": {
    "name": "ipython",
    "version": 3
   },
   "file_extension": ".py",
   "mimetype": "text/x-python",
   "name": "python",
   "nbconvert_exporter": "python",
   "pygments_lexer": "ipython3",
   "version": "3.9.12"
  }
 },
 "nbformat": 4,
 "nbformat_minor": 5
}
