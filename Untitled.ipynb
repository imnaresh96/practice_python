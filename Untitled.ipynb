{
 "cells": [
  {
   "cell_type": "code",
   "execution_count": 1,
   "id": "b21b11bc",
   "metadata": {},
   "outputs": [
    {
     "name": "stdout",
     "output_type": "stream",
     "text": [
      "Welcome to fruit market\n",
      "1. Manager \n",
      "2. Customer\n",
      "Select Your role: 5\n"
     ]
    }
   ],
   "source": [
    "print('Welcome to fruit market')\n",
    "print('1. Manager \\n2. Customer')\n",
    "fruit_view=dict()\n",
    "option=int(input('Select Your role: '))\n",
    "if option==1:\n",
    "    print('Fruit Market Manager \\n 1. Add Fruit stock \\n 2. View Fruit Stock \\n 3. Update Fruit Stock')\n",
    "    choice=input('Enter Your Choice: ')\n",
    "    if choice==1:\n",
    "      print('ADD FRUIT STOCK')\n",
    "      fruit=input('Enter Fruit Name: ')\n",
    "      qty=input('Enter Quantity: ')\n",
    "      price=int(input('Enter Price: '))\n",
    "      fruit_view.update(fruit,qty,price)"
   ]
  },
  {
   "cell_type": "code",
   "execution_count": null,
   "id": "f756eb6d",
   "metadata": {},
   "outputs": [],
   "source": [
    "print('Welcome to fruit market')\n",
    "print('1. Manager \\n2. Customer')\n",
    "fruit_view ={'fruit':{'qty':'none','price':'none'}}\n",
    "option=int(input('Select Your role: '))\n",
    "if option==1:\n",
    "    print('Fruit Market Manager \\n 1. Add Fruit stock \\n 2. View Fruit Stock \\n 3. Update Fruit Stock')\n",
    "    choice=int(input('Enter Your Choice: '))\n",
    "    if choice==1:\n",
    "        print('ADD FRUIT STOCK')\n",
    "        fruit=input('Enter Fruit Name: ')\n",
    "        fruit_view['fruit']=fruit\n",
    "        qty=int(input('Enter Quantity (in kg): '))\n",
    "        fruit_view['qty']=qty\n",
    "        price=int(input('Enter Price (for kg): '))\n",
    "        fruit_view['price']=price\n",
    "        \n",
    "    elif choice==2:\n",
    "        print(fruit_view)\n",
    "        #repeat=('Do You Want To Perform More Operation: Press Y For Yes Or N For No: ')\n",
    "        #if repeat=='y' or repeat=='Y':\n",
    "        #    continue\n",
    "        #elif repeat=='n' or repeat=='N':\n",
    "         #   break\n",
    "        #else:\n",
    "         #   print('incorrect input')\n",
    "    elif choice==3:\n",
    "        print('Update Fruit Stock')\n",
    "        print(fruit_view)\n",
    "        fruit_qty=int(input('Enter Fruit Quantity: '))\n",
    "        fruit_view['qty']=qty+fruit_qty\n",
    "        fruit_price=int(input('Enter Fruit price: '))\n",
    "        fruit_view['price']=fruit_price\n",
    "else:\n",
    "    print(f'{fruit_view}')"
   ]
  }
 ],
 "metadata": {
  "kernelspec": {
   "display_name": "Python 3 (ipykernel)",
   "language": "python",
   "name": "python3"
  },
  "language_info": {
   "codemirror_mode": {
    "name": "ipython",
    "version": 3
   },
   "file_extension": ".py",
   "mimetype": "text/x-python",
   "name": "python",
   "nbconvert_exporter": "python",
   "pygments_lexer": "ipython3",
   "version": "3.9.12"
  }
 },
 "nbformat": 4,
 "nbformat_minor": 5
}
