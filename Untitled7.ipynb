{
 "cells": [
  {
   "cell_type": "code",
   "execution_count": 9,
   "id": "a34e36cb",
   "metadata": {},
   "outputs": [
    {
     "name": "stdout",
     "output_type": "stream",
     "text": [
      "['Went', 'Rohit']\n"
     ]
    }
   ],
   "source": [
    "x=\"Rohit Went\"\n",
    "y=x.split(\" \")[::-1]\n",
    "print(y)"
   ]
  },
  {
   "cell_type": "code",
   "execution_count": 6,
   "id": "f3e12214",
   "metadata": {},
   "outputs": [],
   "source": [
    "z=' '.join(y)"
   ]
  },
  {
   "cell_type": "code",
   "execution_count": 7,
   "id": "a0537492",
   "metadata": {},
   "outputs": [
    {
     "name": "stdout",
     "output_type": "stream",
     "text": [
      "Went Rohit\n"
     ]
    }
   ],
   "source": [
    "print(z)"
   ]
  },
  {
   "cell_type": "code",
   "execution_count": 26,
   "id": "c77cefa8",
   "metadata": {},
   "outputs": [],
   "source": [
    "a='jay nishad naresh'\n",
    "b=a.split()"
   ]
  },
  {
   "cell_type": "code",
   "execution_count": 31,
   "id": "6b4d40ba",
   "metadata": {},
   "outputs": [],
   "source": [
    "d=b.reverse()"
   ]
  },
  {
   "cell_type": "code",
   "execution_count": 34,
   "id": "43243240",
   "metadata": {},
   "outputs": [
    {
     "ename": "TypeError",
     "evalue": "can only join an iterable",
     "output_type": "error",
     "traceback": [
      "\u001b[1;31m---------------------------------------------------------------------------\u001b[0m",
      "\u001b[1;31mTypeError\u001b[0m                                 Traceback (most recent call last)",
      "Input \u001b[1;32mIn [34]\u001b[0m, in \u001b[0;36m<cell line: 1>\u001b[1;34m()\u001b[0m\n\u001b[1;32m----> 1\u001b[0m e\u001b[38;5;241m=\u001b[39m\u001b[38;5;124;43m'\u001b[39;49m\u001b[38;5;124;43m \u001b[39;49m\u001b[38;5;124;43m'\u001b[39;49m\u001b[38;5;241;43m.\u001b[39;49m\u001b[43mjoin\u001b[49m\u001b[43m(\u001b[49m\u001b[43md\u001b[49m\u001b[43m)\u001b[49m\n",
      "\u001b[1;31mTypeError\u001b[0m: can only join an iterable"
     ]
    }
   ],
   "source": [
    "e=' '.join(d)\n"
   ]
  },
  {
   "cell_type": "code",
   "execution_count": 30,
   "id": "f3e1b4aa",
   "metadata": {},
   "outputs": [],
   "source": []
  },
  {
   "cell_type": "markdown",
   "id": "ba2f7f7b",
   "metadata": {},
   "source": [
    "# Write a program to reverse an integer in Python."
   ]
  },
  {
   "cell_type": "code",
   "execution_count": 18,
   "id": "beefa499",
   "metadata": {},
   "outputs": [],
   "source": [
    "a=526"
   ]
  },
  {
   "cell_type": "code",
   "execution_count": 21,
   "id": "9f9c96b9",
   "metadata": {},
   "outputs": [
    {
     "name": "stdout",
     "output_type": "stream",
     "text": [
      "625\n"
     ]
    }
   ],
   "source": [
    "b=str(a)[::-1]\n",
    "print(b)"
   ]
  },
  {
   "cell_type": "markdown",
   "id": "c642b582",
   "metadata": {},
   "source": [
    "# Write a program in Python to check whether an integer is Armstrong number or not."
   ]
  },
  {
   "cell_type": "markdown",
   "id": "196217ca",
   "metadata": {},
   "source": [
    "# Write a program in Python to check given number is prime or not."
   ]
  },
  {
   "cell_type": "code",
   "execution_count": 42,
   "id": "475f736f",
   "metadata": {},
   "outputs": [
    {
     "name": "stdout",
     "output_type": "stream",
     "text": [
      "331\n",
      " prime number\n"
     ]
    }
   ],
   "source": [
    "a=int(input())\n",
    "if a==1:\n",
    "    print('Not A Prime Number')\n",
    "else:\n",
    "    for i in range(2,a):\n",
    "        if a%i==0:\n",
    "            print(' not prime Number')\n",
    "            break\n",
    "    else:\n",
    "        print(' prime number')"
   ]
  },
  {
   "cell_type": "markdown",
   "id": "877d2769",
   "metadata": {},
   "source": [
    "# Write a program in Python to print the Fibonacci series using iterative method."
   ]
  },
  {
   "cell_type": "code",
   "execution_count": 44,
   "id": "4e4e10f4",
   "metadata": {},
   "outputs": [
    {
     "name": "stdout",
     "output_type": "stream",
     "text": [
      "10\n",
      "1\n",
      "2\n",
      "3\n",
      "5\n",
      "8\n",
      "13\n",
      "21\n",
      "34\n",
      "55\n"
     ]
    }
   ],
   "source": [
    "a=int(input())\n",
    "b=0\n",
    "c=1\n",
    "if a==1:\n",
    "    print(a)\n",
    "for i in range(2,(a+1)):\n",
    "    d=b+c\n",
    "    b=c\n",
    "    c=d\n",
    "    print(c)"
   ]
  },
  {
   "cell_type": "markdown",
   "id": "72fe2bb8",
   "metadata": {},
   "source": [
    "# Write a program in Python to check whether a number is palindrome or not using iterative method."
   ]
  },
  {
   "cell_type": "code",
   "execution_count": 48,
   "id": "2800b386",
   "metadata": {},
   "outputs": [
    {
     "name": "stdout",
     "output_type": "stream",
     "text": [
      "1555551\n",
      "Number is palindrome\n"
     ]
    }
   ],
   "source": [
    "a=int(input())\n",
    "b=str(a)[::-1]\n",
    "if a==int(b):\n",
    "    print('Number is palindrome')\n",
    "else:\n",
    "    print('number is not palindrome')"
   ]
  },
  {
   "cell_type": "code",
   "execution_count": 50,
   "id": "c61cb895",
   "metadata": {},
   "outputs": [
    {
     "name": "stdout",
     "output_type": "stream",
     "text": [
      "mam\n",
      " is palindrome\n"
     ]
    }
   ],
   "source": [
    "a=input()\n",
    "b=a[::-1]\n",
    "if a==b:\n",
    "    print(' is palindrome')\n",
    "else:\n",
    "    print(' is not palindrome')"
   ]
  },
  {
   "cell_type": "markdown",
   "id": "79bcac5d",
   "metadata": {},
   "source": [
    "# Write a program in Python to check whether a number is palindrome or not using recursive method."
   ]
  },
  {
   "cell_type": "markdown",
   "id": "eccf8e66",
   "metadata": {},
   "source": [
    "# Write a program in Python to find greatest among three integers."
   ]
  },
  {
   "cell_type": "code",
   "execution_count": 53,
   "id": "e4174a95",
   "metadata": {},
   "outputs": [
    {
     "name": "stdout",
     "output_type": "stream",
     "text": [
      "5\n",
      "7\n",
      "6\n",
      "7 is greatest number\n"
     ]
    }
   ],
   "source": [
    "a=int(input())\n",
    "b=int(input())\n",
    "c=int(input())\n",
    "if a>b:\n",
    "    if a>c:\n",
    "        print(a , 'is greatest number')\n",
    "    else:\n",
    "        print(c, 'is greatest number')\n",
    "elif b>a:\n",
    "    if b>c:\n",
    "        print(b, 'is greatest number')\n",
    "    else:\n",
    "        print(c, 'is greatest number')\n",
    "        "
   ]
  },
  {
   "cell_type": "markdown",
   "id": "1eb1ddb6",
   "metadata": {},
   "source": [
    "# Write a program in Python to check if a number is binary?"
   ]
  },
  {
   "cell_type": "code",
   "execution_count": 56,
   "id": "2cef419c",
   "metadata": {},
   "outputs": [
    {
     "name": "stdout",
     "output_type": "stream",
     "text": [
      "10\n"
     ]
    },
    {
     "ename": "TypeError",
     "evalue": "argument of type 'int' is not iterable",
     "output_type": "error",
     "traceback": [
      "\u001b[1;31m---------------------------------------------------------------------------\u001b[0m",
      "\u001b[1;31mTypeError\u001b[0m                                 Traceback (most recent call last)",
      "Input \u001b[1;32mIn [56]\u001b[0m, in \u001b[0;36m<cell line: 3>\u001b[1;34m()\u001b[0m\n\u001b[0;32m      1\u001b[0m a\u001b[38;5;241m=\u001b[39m\u001b[38;5;28mint\u001b[39m(\u001b[38;5;28minput\u001b[39m())\n\u001b[0;32m      2\u001b[0m b\u001b[38;5;241m=\u001b[39m\u001b[38;5;241m10\u001b[39m\n\u001b[1;32m----> 3\u001b[0m \u001b[38;5;28;01mif\u001b[39;00m \u001b[43mb\u001b[49m\u001b[43m \u001b[49m\u001b[38;5;129;43;01min\u001b[39;49;00m\u001b[43m \u001b[49m\u001b[43ma\u001b[49m:\n\u001b[0;32m      4\u001b[0m     \u001b[38;5;28mprint\u001b[39m(\u001b[38;5;124m'\u001b[39m\u001b[38;5;124mbinary number\u001b[39m\u001b[38;5;124m'\u001b[39m)\n\u001b[0;32m      5\u001b[0m \u001b[38;5;28;01melse\u001b[39;00m:\n",
      "\u001b[1;31mTypeError\u001b[0m: argument of type 'int' is not iterable"
     ]
    }
   ],
   "source": [
    "a=int(input())\n",
    "b=10\n",
    "if b in a:\n",
    "    print('binary number')\n",
    "else:\n",
    "    print('not a binary number')"
   ]
  },
  {
   "cell_type": "code",
   "execution_count": null,
   "id": "ed652fba",
   "metadata": {},
   "outputs": [],
   "source": []
  }
 ],
 "metadata": {
  "kernelspec": {
   "display_name": "Python 3 (ipykernel)",
   "language": "python",
   "name": "python3"
  },
  "language_info": {
   "codemirror_mode": {
    "name": "ipython",
    "version": 3
   },
   "file_extension": ".py",
   "mimetype": "text/x-python",
   "name": "python",
   "nbconvert_exporter": "python",
   "pygments_lexer": "ipython3",
   "version": "3.9.12"
  }
 },
 "nbformat": 4,
 "nbformat_minor": 5
}
