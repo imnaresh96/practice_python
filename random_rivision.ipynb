{
 "cells": [
  {
   "cell_type": "code",
   "execution_count": 2,
   "id": "448e0608",
   "metadata": {},
   "outputs": [],
   "source": [
    "import random"
   ]
  },
  {
   "cell_type": "code",
   "execution_count": 3,
   "id": "7fd7b22a",
   "metadata": {},
   "outputs": [
    {
     "data": {
      "text/plain": [
       "0.7541127384250885"
      ]
     },
     "execution_count": 3,
     "metadata": {},
     "output_type": "execute_result"
    }
   ],
   "source": [
    "random.random()"
   ]
  },
  {
   "cell_type": "code",
   "execution_count": 4,
   "id": "eab305ac",
   "metadata": {},
   "outputs": [
    {
     "data": {
      "text/plain": [
       "6.706421749241932"
      ]
     },
     "execution_count": 4,
     "metadata": {},
     "output_type": "execute_result"
    }
   ],
   "source": [
    "random.random()*10"
   ]
  },
  {
   "cell_type": "code",
   "execution_count": 5,
   "id": "4a17d913",
   "metadata": {},
   "outputs": [
    {
     "data": {
      "text/plain": [
       "65.26232404759295"
      ]
     },
     "execution_count": 5,
     "metadata": {},
     "output_type": "execute_result"
    }
   ],
   "source": [
    "random.random()*100"
   ]
  },
  {
   "cell_type": "code",
   "execution_count": 8,
   "id": "5a7ba227",
   "metadata": {},
   "outputs": [],
   "source": [
    "l=[54,6,8,5,4]"
   ]
  },
  {
   "cell_type": "code",
   "execution_count": 10,
   "id": "64811606",
   "metadata": {},
   "outputs": [
    {
     "data": {
      "text/plain": [
       "5"
      ]
     },
     "execution_count": 10,
     "metadata": {},
     "output_type": "execute_result"
    }
   ],
   "source": [
    "random.choice(l)"
   ]
  },
  {
   "cell_type": "code",
   "execution_count": 12,
   "id": "f6aa44fd",
   "metadata": {},
   "outputs": [
    {
     "data": {
      "text/plain": [
       "[6, 6]"
      ]
     },
     "execution_count": 12,
     "metadata": {},
     "output_type": "execute_result"
    }
   ],
   "source": [
    "random.choices(l,k=2)"
   ]
  },
  {
   "cell_type": "code",
   "execution_count": 24,
   "id": "54352030",
   "metadata": {},
   "outputs": [
    {
     "data": {
      "text/plain": [
       "3"
      ]
     },
     "execution_count": 24,
     "metadata": {},
     "output_type": "execute_result"
    }
   ],
   "source": [
    "random.randrange(1,5,2)"
   ]
  },
  {
   "cell_type": "code",
   "execution_count": 26,
   "id": "28536661",
   "metadata": {},
   "outputs": [
    {
     "data": {
      "text/plain": [
       "['e', 'h']"
      ]
     },
     "execution_count": 26,
     "metadata": {},
     "output_type": "execute_result"
    }
   ],
   "source": [
    "random.choices(\"hello\",k=2)"
   ]
  },
  {
   "cell_type": "code",
   "execution_count": null,
   "id": "5ecaf029",
   "metadata": {},
   "outputs": [],
   "source": []
  }
 ],
 "metadata": {
  "kernelspec": {
   "display_name": "Python 3 (ipykernel)",
   "language": "python",
   "name": "python3"
  },
  "language_info": {
   "codemirror_mode": {
    "name": "ipython",
    "version": 3
   },
   "file_extension": ".py",
   "mimetype": "text/x-python",
   "name": "python",
   "nbconvert_exporter": "python",
   "pygments_lexer": "ipython3",
   "version": "3.9.12"
  }
 },
 "nbformat": 4,
 "nbformat_minor": 5
}
