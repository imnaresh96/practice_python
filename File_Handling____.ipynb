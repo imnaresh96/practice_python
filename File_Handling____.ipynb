{
 "cells": [
  {
   "cell_type": "code",
   "execution_count": 1,
   "id": "dc9f90b4",
   "metadata": {},
   "outputs": [],
   "source": [
    "file_obj=open('newdr.txt','w')"
   ]
  },
  {
   "cell_type": "code",
   "execution_count": 2,
   "id": "20d39d5d",
   "metadata": {},
   "outputs": [
    {
     "data": {
      "text/plain": [
       "False"
      ]
     },
     "execution_count": 2,
     "metadata": {},
     "output_type": "execute_result"
    }
   ],
   "source": [
    "file_obj.readable()"
   ]
  },
  {
   "cell_type": "code",
   "execution_count": 4,
   "id": "b4aca14d",
   "metadata": {},
   "outputs": [
    {
     "data": {
      "text/plain": [
       "True"
      ]
     },
     "execution_count": 4,
     "metadata": {},
     "output_type": "execute_result"
    }
   ],
   "source": [
    "file_obj.writable()"
   ]
  },
  {
   "cell_type": "code",
   "execution_count": 5,
   "id": "10df5004",
   "metadata": {},
   "outputs": [
    {
     "data": {
      "text/plain": [
       "31"
      ]
     },
     "execution_count": 5,
     "metadata": {},
     "output_type": "execute_result"
    }
   ],
   "source": [
    "file_obj.write('Hello this is demo for new file')"
   ]
  },
  {
   "cell_type": "code",
   "execution_count": 6,
   "id": "c40b47f1",
   "metadata": {},
   "outputs": [
    {
     "data": {
      "text/plain": [
       "<function TextIOWrapper.close()>"
      ]
     },
     "execution_count": 6,
     "metadata": {},
     "output_type": "execute_result"
    }
   ],
   "source": [
    "file_obj.close"
   ]
  },
  {
   "cell_type": "code",
   "execution_count": 7,
   "id": "8e88c7ee",
   "metadata": {},
   "outputs": [],
   "source": [
    "file_obj=open('newdr.txt','r')"
   ]
  },
  {
   "cell_type": "code",
   "execution_count": 12,
   "id": "e66eecb6",
   "metadata": {},
   "outputs": [
    {
     "data": {
      "text/plain": [
       "''"
      ]
     },
     "execution_count": 12,
     "metadata": {},
     "output_type": "execute_result"
    }
   ],
   "source": [
    "file_obj.read(2)"
   ]
  },
  {
   "cell_type": "code",
   "execution_count": 13,
   "id": "d0007e0c",
   "metadata": {},
   "outputs": [
    {
     "data": {
      "text/plain": [
       "0"
      ]
     },
     "execution_count": 13,
     "metadata": {},
     "output_type": "execute_result"
    }
   ],
   "source": [
    "file_obj.seek(0)"
   ]
  },
  {
   "cell_type": "code",
   "execution_count": 14,
   "id": "87d6186f",
   "metadata": {},
   "outputs": [
    {
     "data": {
      "text/plain": [
       "''"
      ]
     },
     "execution_count": 14,
     "metadata": {},
     "output_type": "execute_result"
    }
   ],
   "source": [
    "file_obj.read()"
   ]
  },
  {
   "cell_type": "code",
   "execution_count": 15,
   "id": "e613a7b2",
   "metadata": {},
   "outputs": [],
   "source": [
    "file_obj.close()"
   ]
  },
  {
   "cell_type": "code",
   "execution_count": 16,
   "id": "a2ffd90c",
   "metadata": {},
   "outputs": [],
   "source": [
    "file_obj=open('newdr.txt')"
   ]
  },
  {
   "cell_type": "code",
   "execution_count": 17,
   "id": "8e8e0486",
   "metadata": {},
   "outputs": [
    {
     "data": {
      "text/plain": [
       "True"
      ]
     },
     "execution_count": 17,
     "metadata": {},
     "output_type": "execute_result"
    }
   ],
   "source": [
    "file_obj.readable()"
   ]
  },
  {
   "cell_type": "code",
   "execution_count": 18,
   "id": "8e56fd6c",
   "metadata": {},
   "outputs": [
    {
     "data": {
      "text/plain": [
       "''"
      ]
     },
     "execution_count": 18,
     "metadata": {},
     "output_type": "execute_result"
    }
   ],
   "source": [
    "file_obj.read()"
   ]
  },
  {
   "cell_type": "code",
   "execution_count": 19,
   "id": "829b5345",
   "metadata": {},
   "outputs": [
    {
     "data": {
      "text/plain": [
       "0"
      ]
     },
     "execution_count": 19,
     "metadata": {},
     "output_type": "execute_result"
    }
   ],
   "source": [
    "file_obj.seek(0)"
   ]
  },
  {
   "cell_type": "code",
   "execution_count": 20,
   "id": "42c988b2",
   "metadata": {},
   "outputs": [
    {
     "data": {
      "text/plain": [
       "True"
      ]
     },
     "execution_count": 20,
     "metadata": {},
     "output_type": "execute_result"
    }
   ],
   "source": [
    "file_obj.readable()"
   ]
  },
  {
   "cell_type": "code",
   "execution_count": 21,
   "id": "cc870c09",
   "metadata": {},
   "outputs": [
    {
     "data": {
      "text/plain": [
       "False"
      ]
     },
     "execution_count": 21,
     "metadata": {},
     "output_type": "execute_result"
    }
   ],
   "source": [
    "file_obj.writable()"
   ]
  },
  {
   "cell_type": "code",
   "execution_count": 22,
   "id": "11b956ca",
   "metadata": {},
   "outputs": [],
   "source": [
    "file_obj.close()"
   ]
  },
  {
   "cell_type": "code",
   "execution_count": 23,
   "id": "3332f7f7",
   "metadata": {},
   "outputs": [],
   "source": [
    "file_obj=open('newdr.txt','w')"
   ]
  },
  {
   "cell_type": "code",
   "execution_count": 24,
   "id": "6a39a9ba",
   "metadata": {},
   "outputs": [
    {
     "data": {
      "text/plain": [
       "16"
      ]
     },
     "execution_count": 24,
     "metadata": {},
     "output_type": "execute_result"
    }
   ],
   "source": [
    "file_obj.write('New Mamber added')"
   ]
  },
  {
   "cell_type": "code",
   "execution_count": 25,
   "id": "2f5123ea",
   "metadata": {},
   "outputs": [],
   "source": [
    "file_obj.close()"
   ]
  },
  {
   "cell_type": "code",
   "execution_count": 26,
   "id": "1a0e0578",
   "metadata": {},
   "outputs": [],
   "source": [
    "file_obj=open('newdr.txt')"
   ]
  },
  {
   "cell_type": "code",
   "execution_count": 27,
   "id": "088b8a18",
   "metadata": {},
   "outputs": [
    {
     "data": {
      "text/plain": [
       "'New Mamber added'"
      ]
     },
     "execution_count": 27,
     "metadata": {},
     "output_type": "execute_result"
    }
   ],
   "source": [
    "file_obj.read()"
   ]
  },
  {
   "cell_type": "code",
   "execution_count": 29,
   "id": "5a6d2e15",
   "metadata": {},
   "outputs": [
    {
     "data": {
      "text/plain": [
       "0"
      ]
     },
     "execution_count": 29,
     "metadata": {},
     "output_type": "execute_result"
    }
   ],
   "source": [
    "file_obj.seek(0)"
   ]
  },
  {
   "cell_type": "code",
   "execution_count": 30,
   "id": "7e189ccc",
   "metadata": {},
   "outputs": [
    {
     "data": {
      "text/plain": [
       "'New M'"
      ]
     },
     "execution_count": 30,
     "metadata": {},
     "output_type": "execute_result"
    }
   ],
   "source": [
    "file_obj.read(5)"
   ]
  },
  {
   "cell_type": "code",
   "execution_count": 32,
   "id": "94f243cc",
   "metadata": {},
   "outputs": [
    {
     "data": {
      "text/plain": [
       "'amber added'"
      ]
     },
     "execution_count": 32,
     "metadata": {},
     "output_type": "execute_result"
    }
   ],
   "source": [
    "file_obj.read()"
   ]
  },
  {
   "cell_type": "code",
   "execution_count": 33,
   "id": "173ee8df",
   "metadata": {},
   "outputs": [
    {
     "data": {
      "text/plain": [
       "0"
      ]
     },
     "execution_count": 33,
     "metadata": {},
     "output_type": "execute_result"
    }
   ],
   "source": [
    "file_obj.seek(0)"
   ]
  },
  {
   "cell_type": "code",
   "execution_count": 34,
   "id": "1b4ad0a9",
   "metadata": {},
   "outputs": [],
   "source": [
    "file_obj.close()"
   ]
  },
  {
   "cell_type": "code",
   "execution_count": 35,
   "id": "a073bfdb",
   "metadata": {},
   "outputs": [],
   "source": [
    "file_obj=open('newdr.txt','a+')"
   ]
  },
  {
   "cell_type": "code",
   "execution_count": 36,
   "id": "b537ef4b",
   "metadata": {},
   "outputs": [
    {
     "data": {
      "text/plain": [
       "57"
      ]
     },
     "execution_count": 36,
     "metadata": {},
     "output_type": "execute_result"
    }
   ],
   "source": [
    "file_obj.write('/n hello there are some issue /n and some new information')"
   ]
  },
  {
   "cell_type": "code",
   "execution_count": 37,
   "id": "5e2dde76",
   "metadata": {},
   "outputs": [
    {
     "data": {
      "text/plain": [
       "''"
      ]
     },
     "execution_count": 37,
     "metadata": {},
     "output_type": "execute_result"
    }
   ],
   "source": [
    "file_obj.read()"
   ]
  },
  {
   "cell_type": "code",
   "execution_count": 38,
   "id": "704db36b",
   "metadata": {},
   "outputs": [
    {
     "data": {
      "text/plain": [
       "True"
      ]
     },
     "execution_count": 38,
     "metadata": {},
     "output_type": "execute_result"
    }
   ],
   "source": [
    "file_obj.readable()"
   ]
  },
  {
   "cell_type": "code",
   "execution_count": 39,
   "id": "1b514a6a",
   "metadata": {},
   "outputs": [],
   "source": [
    "file_obj.close()"
   ]
  },
  {
   "cell_type": "code",
   "execution_count": null,
   "id": "2900641d",
   "metadata": {},
   "outputs": [],
   "source": [
    "f"
   ]
  }
 ],
 "metadata": {
  "kernelspec": {
   "display_name": "Python 3 (ipykernel)",
   "language": "python",
   "name": "python3"
  },
  "language_info": {
   "codemirror_mode": {
    "name": "ipython",
    "version": 3
   },
   "file_extension": ".py",
   "mimetype": "text/x-python",
   "name": "python",
   "nbconvert_exporter": "python",
   "pygments_lexer": "ipython3",
   "version": "3.9.12"
  }
 },
 "nbformat": 4,
 "nbformat_minor": 5
}
