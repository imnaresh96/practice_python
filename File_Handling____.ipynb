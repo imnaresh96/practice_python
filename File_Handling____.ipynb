{
 "cells": [
  {
   "cell_type": "code",
   "execution_count": 1,
   "id": "dc9f90b4",
   "metadata": {},
   "outputs": [],
   "source": [
    "file_obj=open('newdr.txt','w')"
   ]
  },
  {
   "cell_type": "code",
   "execution_count": 2,
   "id": "20d39d5d",
   "metadata": {},
   "outputs": [
    {
     "data": {
      "text/plain": [
       "False"
      ]
     },
     "execution_count": 2,
     "metadata": {},
     "output_type": "execute_result"
    }
   ],
   "source": [
    "file_obj.readable()"
   ]
  },
  {
   "cell_type": "code",
   "execution_count": 4,
   "id": "b4aca14d",
   "metadata": {},
   "outputs": [
    {
     "data": {
      "text/plain": [
       "True"
      ]
     },
     "execution_count": 4,
     "metadata": {},
     "output_type": "execute_result"
    }
   ],
   "source": [
    "file_obj.writable()"
   ]
  },
  {
   "cell_type": "code",
   "execution_count": 5,
   "id": "10df5004",
   "metadata": {},
   "outputs": [
    {
     "data": {
      "text/plain": [
       "31"
      ]
     },
     "execution_count": 5,
     "metadata": {},
     "output_type": "execute_result"
    }
   ],
   "source": [
    "file_obj.write('Hello this is demo for new file')"
   ]
  },
  {
   "cell_type": "code",
   "execution_count": 6,
   "id": "c40b47f1",
   "metadata": {},
   "outputs": [
    {
     "data": {
      "text/plain": [
       "<function TextIOWrapper.close()>"
      ]
     },
     "execution_count": 6,
     "metadata": {},
     "output_type": "execute_result"
    }
   ],
   "source": [
    "file_obj.close"
   ]
  },
  {
   "cell_type": "code",
   "execution_count": 7,
   "id": "8e88c7ee",
   "metadata": {},
   "outputs": [],
   "source": [
    "file_obj=open('newdr.txt','r')"
   ]
  },
  {
   "cell_type": "code",
   "execution_count": 12,
   "id": "e66eecb6",
   "metadata": {},
   "outputs": [
    {
     "data": {
      "text/plain": [
       "''"
      ]
     },
     "execution_count": 12,
     "metadata": {},
     "output_type": "execute_result"
    }
   ],
   "source": [
    "file_obj.read(2)"
   ]
  },
  {
   "cell_type": "code",
   "execution_count": 13,
   "id": "d0007e0c",
   "metadata": {},
   "outputs": [
    {
     "data": {
      "text/plain": [
       "0"
      ]
     },
     "execution_count": 13,
     "metadata": {},
     "output_type": "execute_result"
    }
   ],
   "source": [
    "file_obj.seek(0)"
   ]
  },
  {
   "cell_type": "code",
   "execution_count": 14,
   "id": "87d6186f",
   "metadata": {},
   "outputs": [
    {
     "data": {
      "text/plain": [
       "''"
      ]
     },
     "execution_count": 14,
     "metadata": {},
     "output_type": "execute_result"
    }
   ],
   "source": [
    "file_obj.read()"
   ]
  },
  {
   "cell_type": "code",
   "execution_count": 15,
   "id": "e613a7b2",
   "metadata": {},
   "outputs": [],
   "source": [
    "file_obj.close()"
   ]
  },
  {
   "cell_type": "code",
   "execution_count": 16,
   "id": "a2ffd90c",
   "metadata": {},
   "outputs": [],
   "source": [
    "file_obj=open('newdr.txt')"
   ]
  },
  {
   "cell_type": "code",
   "execution_count": 17,
   "id": "8e8e0486",
   "metadata": {},
   "outputs": [
    {
     "data": {
      "text/plain": [
       "True"
      ]
     },
     "execution_count": 17,
     "metadata": {},
     "output_type": "execute_result"
    }
   ],
   "source": [
    "file_obj.readable()"
   ]
  },
  {
   "cell_type": "code",
   "execution_count": 18,
   "id": "8e56fd6c",
   "metadata": {},
   "outputs": [
    {
     "data": {
      "text/plain": [
       "''"
      ]
     },
     "execution_count": 18,
     "metadata": {},
     "output_type": "execute_result"
    }
   ],
   "source": [
    "file_obj.read()"
   ]
  },
  {
   "cell_type": "code",
   "execution_count": 19,
   "id": "829b5345",
   "metadata": {},
   "outputs": [
    {
     "data": {
      "text/plain": [
       "0"
      ]
     },
     "execution_count": 19,
     "metadata": {},
     "output_type": "execute_result"
    }
   ],
   "source": [
    "file_obj.seek(0)"
   ]
  },
  {
   "cell_type": "code",
   "execution_count": 20,
   "id": "42c988b2",
   "metadata": {},
   "outputs": [
    {
     "data": {
      "text/plain": [
       "True"
      ]
     },
     "execution_count": 20,
     "metadata": {},
     "output_type": "execute_result"
    }
   ],
   "source": [
    "file_obj.readable()"
   ]
  },
  {
   "cell_type": "code",
   "execution_count": 21,
   "id": "cc870c09",
   "metadata": {},
   "outputs": [
    {
     "data": {
      "text/plain": [
       "False"
      ]
     },
     "execution_count": 21,
     "metadata": {},
     "output_type": "execute_result"
    }
   ],
   "source": [
    "file_obj.writable()"
   ]
  },
  {
   "cell_type": "code",
   "execution_count": 22,
   "id": "11b956ca",
   "metadata": {},
   "outputs": [],
   "source": [
    "file_obj.close()"
   ]
  },
  {
   "cell_type": "code",
   "execution_count": 23,
   "id": "3332f7f7",
   "metadata": {},
   "outputs": [],
   "source": [
    "file_obj=open('newdr.txt','w')"
   ]
  },
  {
   "cell_type": "code",
   "execution_count": 24,
   "id": "6a39a9ba",
   "metadata": {},
   "outputs": [
    {
     "data": {
      "text/plain": [
       "16"
      ]
     },
     "execution_count": 24,
     "metadata": {},
     "output_type": "execute_result"
    }
   ],
   "source": [
    "file_obj.write('New Mamber added')"
   ]
  },
  {
   "cell_type": "code",
   "execution_count": 25,
   "id": "2f5123ea",
   "metadata": {},
   "outputs": [],
   "source": [
    "file_obj.close()"
   ]
  },
  {
   "cell_type": "code",
   "execution_count": 26,
   "id": "1a0e0578",
   "metadata": {},
   "outputs": [],
   "source": [
    "file_obj=open('newdr.txt')"
   ]
  },
  {
   "cell_type": "code",
   "execution_count": 27,
   "id": "088b8a18",
   "metadata": {},
   "outputs": [
    {
     "data": {
      "text/plain": [
       "'New Mamber added'"
      ]
     },
     "execution_count": 27,
     "metadata": {},
     "output_type": "execute_result"
    }
   ],
   "source": [
    "file_obj.read()"
   ]
  },
  {
   "cell_type": "code",
   "execution_count": 29,
   "id": "5a6d2e15",
   "metadata": {},
   "outputs": [
    {
     "data": {
      "text/plain": [
       "0"
      ]
     },
     "execution_count": 29,
     "metadata": {},
     "output_type": "execute_result"
    }
   ],
   "source": [
    "file_obj.seek(0)"
   ]
  },
  {
   "cell_type": "code",
   "execution_count": 30,
   "id": "7e189ccc",
   "metadata": {},
   "outputs": [
    {
     "data": {
      "text/plain": [
       "'New M'"
      ]
     },
     "execution_count": 30,
     "metadata": {},
     "output_type": "execute_result"
    }
   ],
   "source": [
    "file_obj.read(5)"
   ]
  },
  {
   "cell_type": "code",
   "execution_count": 32,
   "id": "94f243cc",
   "metadata": {},
   "outputs": [
    {
     "data": {
      "text/plain": [
       "'amber added'"
      ]
     },
     "execution_count": 32,
     "metadata": {},
     "output_type": "execute_result"
    }
   ],
   "source": [
    "file_obj.read()"
   ]
  },
  {
   "cell_type": "code",
   "execution_count": 33,
   "id": "173ee8df",
   "metadata": {},
   "outputs": [
    {
     "data": {
      "text/plain": [
       "0"
      ]
     },
     "execution_count": 33,
     "metadata": {},
     "output_type": "execute_result"
    }
   ],
   "source": [
    "file_obj.seek(0)"
   ]
  },
  {
   "cell_type": "code",
   "execution_count": 34,
   "id": "1b4ad0a9",
   "metadata": {},
   "outputs": [],
   "source": [
    "file_obj.close()"
   ]
  },
  {
   "cell_type": "code",
   "execution_count": 35,
   "id": "a073bfdb",
   "metadata": {},
   "outputs": [],
   "source": [
    "file_obj=open('newdr.txt','a+')"
   ]
  },
  {
   "cell_type": "code",
   "execution_count": 36,
   "id": "b537ef4b",
   "metadata": {},
   "outputs": [
    {
     "data": {
      "text/plain": [
       "57"
      ]
     },
     "execution_count": 36,
     "metadata": {},
     "output_type": "execute_result"
    }
   ],
   "source": [
    "file_obj.write('/n hello there are some issue /n and some new information')"
   ]
  },
  {
   "cell_type": "code",
   "execution_count": 37,
   "id": "5e2dde76",
   "metadata": {},
   "outputs": [
    {
     "data": {
      "text/plain": [
       "''"
      ]
     },
     "execution_count": 37,
     "metadata": {},
     "output_type": "execute_result"
    }
   ],
   "source": [
    "file_obj.read()"
   ]
  },
  {
   "cell_type": "code",
   "execution_count": 38,
   "id": "704db36b",
   "metadata": {},
   "outputs": [
    {
     "data": {
      "text/plain": [
       "True"
      ]
     },
     "execution_count": 38,
     "metadata": {},
     "output_type": "execute_result"
    }
   ],
   "source": [
    "file_obj.readable()"
   ]
  },
  {
   "cell_type": "code",
   "execution_count": 39,
   "id": "1b514a6a",
   "metadata": {},
   "outputs": [],
   "source": [
    "file_obj.close()"
   ]
  },
  {
   "cell_type": "code",
   "execution_count": 1,
   "id": "2900641d",
   "metadata": {},
   "outputs": [],
   "source": [
    "file_obj= open('newdir.txt','x')"
   ]
  },
  {
   "cell_type": "code",
   "execution_count": 2,
   "id": "2fa6cdf4",
   "metadata": {},
   "outputs": [
    {
     "data": {
      "text/plain": [
       "False"
      ]
     },
     "execution_count": 2,
     "metadata": {},
     "output_type": "execute_result"
    }
   ],
   "source": [
    "file_obj.readable()"
   ]
  },
  {
   "cell_type": "code",
   "execution_count": 3,
   "id": "f0cbbf2a",
   "metadata": {},
   "outputs": [
    {
     "data": {
      "text/plain": [
       "True"
      ]
     },
     "execution_count": 3,
     "metadata": {},
     "output_type": "execute_result"
    }
   ],
   "source": [
    "file_obj.writable()"
   ]
  },
  {
   "cell_type": "code",
   "execution_count": 4,
   "id": "5fbc6f5e",
   "metadata": {},
   "outputs": [
    {
     "data": {
      "text/plain": [
       "78"
      ]
     },
     "execution_count": 4,
     "metadata": {},
     "output_type": "execute_result"
    }
   ],
   "source": [
    "file_obj.write('Hello This is demo for how to write data in file help with file object command')"
   ]
  },
  {
   "cell_type": "code",
   "execution_count": 5,
   "id": "d1b7bdce",
   "metadata": {},
   "outputs": [],
   "source": [
    "file_obj.close()"
   ]
  },
  {
   "cell_type": "code",
   "execution_count": 7,
   "id": "fd063943",
   "metadata": {},
   "outputs": [],
   "source": [
    "file_obj=open('newdir.txt','r')"
   ]
  },
  {
   "cell_type": "code",
   "execution_count": 8,
   "id": "70fb3903",
   "metadata": {},
   "outputs": [
    {
     "data": {
      "text/plain": [
       "True"
      ]
     },
     "execution_count": 8,
     "metadata": {},
     "output_type": "execute_result"
    }
   ],
   "source": [
    "file_obj.readable()"
   ]
  },
  {
   "cell_type": "code",
   "execution_count": 9,
   "id": "e25da3ef",
   "metadata": {},
   "outputs": [
    {
     "data": {
      "text/plain": [
       "'Hello'"
      ]
     },
     "execution_count": 9,
     "metadata": {},
     "output_type": "execute_result"
    }
   ],
   "source": [
    "file_obj.read(5)"
   ]
  },
  {
   "cell_type": "code",
   "execution_count": 10,
   "id": "2a05d76c",
   "metadata": {},
   "outputs": [
    {
     "data": {
      "text/plain": [
       "' This'"
      ]
     },
     "execution_count": 10,
     "metadata": {},
     "output_type": "execute_result"
    }
   ],
   "source": [
    "file_obj.read(5)"
   ]
  },
  {
   "cell_type": "code",
   "execution_count": 11,
   "id": "52b633fe",
   "metadata": {},
   "outputs": [
    {
     "data": {
      "text/plain": [
       "' is demo f'"
      ]
     },
     "execution_count": 11,
     "metadata": {},
     "output_type": "execute_result"
    }
   ],
   "source": [
    "file_obj.read(10)"
   ]
  },
  {
   "cell_type": "code",
   "execution_count": 12,
   "id": "5aacff1b",
   "metadata": {},
   "outputs": [
    {
     "data": {
      "text/plain": [
       "'or how to write data in file help with file object command'"
      ]
     },
     "execution_count": 12,
     "metadata": {},
     "output_type": "execute_result"
    }
   ],
   "source": [
    "file_obj.read()"
   ]
  },
  {
   "cell_type": "code",
   "execution_count": 13,
   "id": "6ed173de",
   "metadata": {},
   "outputs": [
    {
     "data": {
      "text/plain": [
       "''"
      ]
     },
     "execution_count": 13,
     "metadata": {},
     "output_type": "execute_result"
    }
   ],
   "source": [
    "file_obj.read()"
   ]
  },
  {
   "cell_type": "code",
   "execution_count": 15,
   "id": "67a4c09d",
   "metadata": {},
   "outputs": [
    {
     "data": {
      "text/plain": [
       "5"
      ]
     },
     "execution_count": 15,
     "metadata": {},
     "output_type": "execute_result"
    }
   ],
   "source": [
    "file_obj.seek(5)"
   ]
  },
  {
   "cell_type": "code",
   "execution_count": 16,
   "id": "5c256a4c",
   "metadata": {},
   "outputs": [
    {
     "data": {
      "text/plain": [
       "' This is demo for how to write data in file help with file object command'"
      ]
     },
     "execution_count": 16,
     "metadata": {},
     "output_type": "execute_result"
    }
   ],
   "source": [
    "file_obj.read()"
   ]
  },
  {
   "cell_type": "code",
   "execution_count": 17,
   "id": "0922b1ae",
   "metadata": {},
   "outputs": [],
   "source": [
    "file_obj.close()"
   ]
  },
  {
   "cell_type": "code",
   "execution_count": 18,
   "id": "681fd114",
   "metadata": {},
   "outputs": [],
   "source": [
    "d=open('newdir.txt','a')"
   ]
  },
  {
   "cell_type": "code",
   "execution_count": 19,
   "id": "dc9d5efc",
   "metadata": {},
   "outputs": [
    {
     "data": {
      "text/plain": [
       "False"
      ]
     },
     "execution_count": 19,
     "metadata": {},
     "output_type": "execute_result"
    }
   ],
   "source": [
    "d.readable()"
   ]
  },
  {
   "cell_type": "code",
   "execution_count": 20,
   "id": "fd8e7727",
   "metadata": {},
   "outputs": [
    {
     "data": {
      "text/plain": [
       "True"
      ]
     },
     "execution_count": 20,
     "metadata": {},
     "output_type": "execute_result"
    }
   ],
   "source": [
    "d.writable()"
   ]
  },
  {
   "cell_type": "code",
   "execution_count": 21,
   "id": "cdb20b75",
   "metadata": {},
   "outputs": [
    {
     "data": {
      "text/plain": [
       "35"
      ]
     },
     "execution_count": 21,
     "metadata": {},
     "output_type": "execute_result"
    }
   ],
   "source": [
    "d.write('/n new data added /n from user side')"
   ]
  },
  {
   "cell_type": "code",
   "execution_count": 22,
   "id": "3d31599c",
   "metadata": {},
   "outputs": [],
   "source": [
    "d.close()"
   ]
  },
  {
   "cell_type": "code",
   "execution_count": 23,
   "id": "a445b793",
   "metadata": {},
   "outputs": [],
   "source": [
    "d=open('newdir.txt','a+')"
   ]
  },
  {
   "cell_type": "code",
   "execution_count": 24,
   "id": "f61e2931",
   "metadata": {},
   "outputs": [
    {
     "data": {
      "text/plain": [
       "''"
      ]
     },
     "execution_count": 24,
     "metadata": {},
     "output_type": "execute_result"
    }
   ],
   "source": [
    "d.read()"
   ]
  },
  {
   "cell_type": "code",
   "execution_count": 26,
   "id": "3c0f07bc",
   "metadata": {},
   "outputs": [
    {
     "data": {
      "text/plain": [
       "0"
      ]
     },
     "execution_count": 26,
     "metadata": {},
     "output_type": "execute_result"
    }
   ],
   "source": [
    "d.seek(0)"
   ]
  },
  {
   "cell_type": "code",
   "execution_count": 27,
   "id": "35668c85",
   "metadata": {},
   "outputs": [
    {
     "data": {
      "text/plain": [
       "True"
      ]
     },
     "execution_count": 27,
     "metadata": {},
     "output_type": "execute_result"
    }
   ],
   "source": [
    "d.readable()"
   ]
  },
  {
   "cell_type": "code",
   "execution_count": 28,
   "id": "52d78493",
   "metadata": {},
   "outputs": [
    {
     "data": {
      "text/plain": [
       "True"
      ]
     },
     "execution_count": 28,
     "metadata": {},
     "output_type": "execute_result"
    }
   ],
   "source": [
    "d.writable()"
   ]
  },
  {
   "cell_type": "code",
   "execution_count": 29,
   "id": "fdcd3207",
   "metadata": {},
   "outputs": [
    {
     "data": {
      "text/plain": [
       "'Hello'"
      ]
     },
     "execution_count": 29,
     "metadata": {},
     "output_type": "execute_result"
    }
   ],
   "source": [
    "d.read(5)"
   ]
  },
  {
   "cell_type": "code",
   "execution_count": 30,
   "id": "63460fab",
   "metadata": {},
   "outputs": [
    {
     "data": {
      "text/plain": [
       "' This is demo for how to write data in file help with file object command/n new data added /n from user side'"
      ]
     },
     "execution_count": 30,
     "metadata": {},
     "output_type": "execute_result"
    }
   ],
   "source": [
    "d.read()"
   ]
  },
  {
   "cell_type": "code",
   "execution_count": 31,
   "id": "9aee6f85",
   "metadata": {},
   "outputs": [],
   "source": [
    "d.close()"
   ]
  },
  {
   "cell_type": "code",
   "execution_count": 32,
   "id": "fab4940a",
   "metadata": {},
   "outputs": [],
   "source": [
    "d=open(\"newdir.txt\",'r+')"
   ]
  },
  {
   "cell_type": "code",
   "execution_count": 33,
   "id": "24a12664",
   "metadata": {},
   "outputs": [
    {
     "data": {
      "text/plain": [
       "True"
      ]
     },
     "execution_count": 33,
     "metadata": {},
     "output_type": "execute_result"
    }
   ],
   "source": [
    "d.readable()"
   ]
  },
  {
   "cell_type": "code",
   "execution_count": 34,
   "id": "f5a86117",
   "metadata": {},
   "outputs": [
    {
     "data": {
      "text/plain": [
       "True"
      ]
     },
     "execution_count": 34,
     "metadata": {},
     "output_type": "execute_result"
    }
   ],
   "source": [
    "d.writable()"
   ]
  },
  {
   "cell_type": "code",
   "execution_count": 37,
   "id": "e11580be",
   "metadata": {},
   "outputs": [
    {
     "data": {
      "text/plain": [
       "'He'"
      ]
     },
     "execution_count": 37,
     "metadata": {},
     "output_type": "execute_result"
    }
   ],
   "source": [
    "d.readline(2)"
   ]
  },
  {
   "cell_type": "code",
   "execution_count": 38,
   "id": "e239282c",
   "metadata": {},
   "outputs": [
    {
     "data": {
      "text/plain": [
       "'llo This is demo for how to write data in file help with file object command/n new data added /n from user side'"
      ]
     },
     "execution_count": 38,
     "metadata": {},
     "output_type": "execute_result"
    }
   ],
   "source": [
    "d.read()"
   ]
  },
  {
   "cell_type": "code",
   "execution_count": 39,
   "id": "86f9c348",
   "metadata": {},
   "outputs": [
    {
     "data": {
      "text/plain": [
       "0"
      ]
     },
     "execution_count": 39,
     "metadata": {},
     "output_type": "execute_result"
    }
   ],
   "source": [
    "d.seek(0)"
   ]
  },
  {
   "cell_type": "code",
   "execution_count": 40,
   "id": "200265b3",
   "metadata": {},
   "outputs": [
    {
     "data": {
      "text/plain": [
       "'Hello This is demo for how to write data in file help with file object command/n new data added /n from user side'"
      ]
     },
     "execution_count": 40,
     "metadata": {},
     "output_type": "execute_result"
    }
   ],
   "source": [
    "d.readline()"
   ]
  },
  {
   "cell_type": "code",
   "execution_count": 43,
   "id": "78d57f2f",
   "metadata": {},
   "outputs": [
    {
     "data": {
      "text/plain": [
       "0"
      ]
     },
     "execution_count": 43,
     "metadata": {},
     "output_type": "execute_result"
    }
   ],
   "source": [
    "d.seek(0)"
   ]
  },
  {
   "cell_type": "code",
   "execution_count": 44,
   "id": "9f6d941f",
   "metadata": {},
   "outputs": [
    {
     "data": {
      "text/plain": [
       "['Hello This is demo for how to write data in file help with file object command/n new data added /n from user side']"
      ]
     },
     "execution_count": 44,
     "metadata": {},
     "output_type": "execute_result"
    }
   ],
   "source": [
    "d.readlines(1)"
   ]
  },
  {
   "cell_type": "code",
   "execution_count": 46,
   "id": "fc247709",
   "metadata": {},
   "outputs": [
    {
     "data": {
      "text/plain": [
       "32"
      ]
     },
     "execution_count": 46,
     "metadata": {},
     "output_type": "execute_result"
    }
   ],
   "source": [
    "d.write(\"\\n This is'\\n' use for new newline\")"
   ]
  },
  {
   "cell_type": "code",
   "execution_count": 48,
   "id": "5bd0fdd4",
   "metadata": {},
   "outputs": [
    {
     "data": {
      "text/plain": [
       "0"
      ]
     },
     "execution_count": 48,
     "metadata": {},
     "output_type": "execute_result"
    }
   ],
   "source": [
    "d.seek(0)"
   ]
  },
  {
   "cell_type": "code",
   "execution_count": 49,
   "id": "21fc0a78",
   "metadata": {},
   "outputs": [
    {
     "data": {
      "text/plain": [
       "\"Hello This is demo for how to write data in file help with file object command/n new data added /n from user side\\n This is'\\n' use for new newline\""
      ]
     },
     "execution_count": 49,
     "metadata": {},
     "output_type": "execute_result"
    }
   ],
   "source": [
    "d.read()"
   ]
  },
  {
   "cell_type": "code",
   "execution_count": 50,
   "id": "988d05b9",
   "metadata": {},
   "outputs": [
    {
     "data": {
      "text/plain": [
       "0"
      ]
     },
     "execution_count": 50,
     "metadata": {},
     "output_type": "execute_result"
    }
   ],
   "source": [
    "d.seek(0)"
   ]
  },
  {
   "cell_type": "code",
   "execution_count": 51,
   "id": "2996c450",
   "metadata": {},
   "outputs": [
    {
     "data": {
      "text/plain": [
       "'Hello This is demo for how to write data in file help with file object command/n new data added /n from user side\\n'"
      ]
     },
     "execution_count": 51,
     "metadata": {},
     "output_type": "execute_result"
    }
   ],
   "source": [
    "d.readline()"
   ]
  },
  {
   "cell_type": "code",
   "execution_count": 52,
   "id": "bc507157",
   "metadata": {},
   "outputs": [
    {
     "data": {
      "text/plain": [
       "\" This is'\\n\""
      ]
     },
     "execution_count": 52,
     "metadata": {},
     "output_type": "execute_result"
    }
   ],
   "source": [
    "d.readline()"
   ]
  },
  {
   "cell_type": "code",
   "execution_count": 53,
   "id": "7553f1c8",
   "metadata": {},
   "outputs": [],
   "source": [
    "d.close()"
   ]
  },
  {
   "cell_type": "code",
   "execution_count": 56,
   "id": "07466f0e",
   "metadata": {},
   "outputs": [],
   "source": [
    "b=open('code1.jpg','rb')"
   ]
  },
  {
   "cell_type": "code",
   "execution_count": 57,
   "id": "0a23f276",
   "metadata": {},
   "outputs": [],
   "source": [
    "bin_data=b.read()"
   ]
  },
  {
   "cell_type": "code",
   "execution_count": 58,
   "id": "5e961de4",
   "metadata": {},
   "outputs": [],
   "source": [
    "b.close()"
   ]
  },
  {
   "cell_type": "code",
   "execution_count": 59,
   "id": "d9383b35",
   "metadata": {},
   "outputs": [
    {
     "data": {
      "text/plain": [
       "511165"
      ]
     },
     "execution_count": 59,
     "metadata": {},
     "output_type": "execute_result"
    }
   ],
   "source": [
    "len(bin_data)"
   ]
  },
  {
   "cell_type": "code",
   "execution_count": 60,
   "id": "8b9d9242",
   "metadata": {},
   "outputs": [
    {
     "data": {
      "text/plain": [
       "16"
      ]
     },
     "execution_count": 60,
     "metadata": {},
     "output_type": "execute_result"
    }
   ],
   "source": [
    "50//3"
   ]
  },
  {
   "cell_type": "code",
   "execution_count": 61,
   "id": "cdd7a840",
   "metadata": {},
   "outputs": [
    {
     "data": {
      "text/plain": [
       "16.666666666666668"
      ]
     },
     "execution_count": 61,
     "metadata": {},
     "output_type": "execute_result"
    }
   ],
   "source": [
    "50/3"
   ]
  },
  {
   "cell_type": "code",
   "execution_count": 62,
   "id": "9d3f41e7",
   "metadata": {},
   "outputs": [],
   "source": [
    "a='hello this is demo'"
   ]
  },
  {
   "cell_type": "code",
   "execution_count": 64,
   "id": "dfafd735",
   "metadata": {},
   "outputs": [
    {
     "name": "stdout",
     "output_type": "stream",
     "text": [
      "['__add__', '__class__', '__contains__', '__delattr__', '__dir__', '__doc__', '__eq__', '__format__', '__ge__', '__getattribute__', '__getitem__', '__getnewargs__', '__gt__', '__hash__', '__init__', '__init_subclass__', '__iter__', '__le__', '__len__', '__lt__', '__mod__', '__mul__', '__ne__', '__new__', '__reduce__', '__reduce_ex__', '__repr__', '__rmod__', '__rmul__', '__setattr__', '__sizeof__', '__str__', '__subclasshook__', 'capitalize', 'casefold', 'center', 'count', 'encode', 'endswith', 'expandtabs', 'find', 'format', 'format_map', 'index', 'isalnum', 'isalpha', 'isascii', 'isdecimal', 'isdigit', 'isidentifier', 'islower', 'isnumeric', 'isprintable', 'isspace', 'istitle', 'isupper', 'join', 'ljust', 'lower', 'lstrip', 'maketrans', 'partition', 'removeprefix', 'removesuffix', 'replace', 'rfind', 'rindex', 'rjust', 'rpartition', 'rsplit', 'rstrip', 'split', 'splitlines', 'startswith', 'strip', 'swapcase', 'title', 'translate', 'upper', 'zfill']\n"
     ]
    }
   ],
   "source": [
    "print(dir(a))"
   ]
  },
  {
   "cell_type": "code",
   "execution_count": 67,
   "id": "a491b834",
   "metadata": {},
   "outputs": [
    {
     "data": {
      "text/plain": [
       "('hello this is ', 'demo', '')"
      ]
     },
     "execution_count": 67,
     "metadata": {},
     "output_type": "execute_result"
    }
   ],
   "source": [
    "a.partition('demo')"
   ]
  },
  {
   "cell_type": "code",
   "execution_count": 68,
   "id": "06b2f3ed",
   "metadata": {},
   "outputs": [
    {
     "data": {
      "text/plain": [
       "b'\\xff\\xd8\\xff\\xe0\\x00\\x10JFIF\\x00\\x01\\x01\\x00\\x00'"
      ]
     },
     "execution_count": 68,
     "metadata": {},
     "output_type": "execute_result"
    }
   ],
   "source": [
    "bin_data[:15]"
   ]
  },
  {
   "cell_type": "code",
   "execution_count": null,
   "id": "5e09e29d",
   "metadata": {},
   "outputs": [],
   "source": []
  }
 ],
 "metadata": {
  "kernelspec": {
   "display_name": "Python 3 (ipykernel)",
   "language": "python",
   "name": "python3"
  },
  "language_info": {
   "codemirror_mode": {
    "name": "ipython",
    "version": 3
   },
   "file_extension": ".py",
   "mimetype": "text/x-python",
   "name": "python",
   "nbconvert_exporter": "python",
   "pygments_lexer": "ipython3",
   "version": "3.9.12"
  }
 },
 "nbformat": 4,
 "nbformat_minor": 5
}
