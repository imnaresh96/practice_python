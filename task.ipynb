{
 "cells": [
  {
   "cell_type": "code",
   "execution_count": 1,
   "id": "d0c56fa9",
   "metadata": {},
   "outputs": [
    {
     "name": "stdout",
     "output_type": "stream",
     "text": [
      "naresh\n",
      "['n:1', 'a:1', 'r:1', 'e:1', 's:1', 'h:1']\n"
     ]
    }
   ],
   "source": [
    "d=input()\n",
    "letter_count={}\n",
    "for i in d:\n",
    "    if i in letter_count:\n",
    "        letter_count[i]+=1\n",
    "    else:\n",
    "        letter_count[i]=1\n",
    "letter_pair=[f\"{key}:{value}\"for key,value in letter_count.items()]\n",
    "f=\",\".join(letter_pair)\n",
    "print(letter_pair)"
   ]
  },
  {
   "cell_type": "code",
   "execution_count": 31,
   "id": "1d6f9304",
   "metadata": {},
   "outputs": [],
   "source": [
    "def dic(string):\n",
    "    letter_count={}\n",
    "    for i in string:\n",
    "        if i in letter_count:\n",
    "            letter_count[i]+=1\n",
    "        else:\n",
    "            letter_count[i]=1\n",
    "        letter_pair=[f\"{key}:{value}\"for key,value in letter_count.items()]\n",
    "        f=\",\".join(letter_pair)\n",
    "        obj=open('newfiletxt2.txt','a+')\n",
    "    obj.write(f)\n",
    "    obj.seek(0)\n",
    "    return obj.read()"
   ]
  },
  {
   "cell_type": "code",
   "execution_count": 32,
   "id": "6aeeb389",
   "metadata": {},
   "outputs": [
    {
     "data": {
      "text/plain": [
       "'n:1,a:2,r:2,e:1,s:1,h:1, :1,k:1,u:1,m:1n:1,a:2,r:2,e:1,s:1,h:1, :1,k:1,u:1,m:1'"
      ]
     },
     "execution_count": 32,
     "metadata": {},
     "output_type": "execute_result"
    }
   ],
   "source": [
    "dic('naresh kumar')"
   ]
  },
  {
   "cell_type": "code",
   "execution_count": 23,
   "id": "b4167da7",
   "metadata": {},
   "outputs": [],
   "source": [
    "obj=open('newfiletxt.txt','a+')"
   ]
  },
  {
   "cell_type": "code",
   "execution_count": 26,
   "id": "d7b90cb9",
   "metadata": {},
   "outputs": [
    {
     "data": {
      "text/plain": [
       "'n,a,r,e,s,h, ,k,u,mn,a,r,e,s,h, ,k,u,mn,a,r,e,s,h, ,k,u,mn:1,a:2,r:2,e:1,s:1,h:1, :1,k:1,u:1,m:1'"
      ]
     },
     "execution_count": 26,
     "metadata": {},
     "output_type": "execute_result"
    }
   ],
   "source": [
    "obj.read()"
   ]
  },
  {
   "cell_type": "code",
   "execution_count": 25,
   "id": "76f4b69b",
   "metadata": {},
   "outputs": [
    {
     "data": {
      "text/plain": [
       "0"
      ]
     },
     "execution_count": 25,
     "metadata": {},
     "output_type": "execute_result"
    }
   ],
   "source": [
    "obj.seek(0)"
   ]
  },
  {
   "cell_type": "code",
   "execution_count": 44,
   "id": "919ebbcf",
   "metadata": {},
   "outputs": [],
   "source": [
    "def dic(string):\n",
    "    letter_count={}\n",
    "    for i in string:\n",
    "        if i in letter_count:\n",
    "            letter_count[i]+=1\n",
    "        else:\n",
    "            letter_count[i]=1\n",
    "        letter_pair=[f\"{key}:{value}\"for key,value in letter_count.items()]\n",
    "        f=\",\".join(letter_pair)\n",
    "        obj=open('newfiletxt2.txt','a+')\n",
    "    obj.write(f)\n",
    "    obj.seek(0)\n",
    "    return obj.read()\n"
   ]
  },
  {
   "cell_type": "code",
   "execution_count": 45,
   "id": "6482d54f",
   "metadata": {},
   "outputs": [
    {
     "data": {
      "text/plain": [
       "'n:1,a:2,r:2,e:1,s:1,h:1, :1,k:1,u:1,m:1n:1,a:2,r:2,e:1,s:1,h:1, :1,k:1,u:1,m:1n:1,a:2,r:2,e:1,s:1,h:1, :1,k:1,u:1,m:1'"
      ]
     },
     "execution_count": 45,
     "metadata": {},
     "output_type": "execute_result"
    }
   ],
   "source": [
    "dic('naresh kumar')"
   ]
  },
  {
   "cell_type": "code",
   "execution_count": null,
   "id": "36f13b21",
   "metadata": {},
   "outputs": [],
   "source": []
  },
  {
   "cell_type": "code",
   "execution_count": 43,
   "id": "12d862e1",
   "metadata": {},
   "outputs": [
    {
     "name": "stdout",
     "output_type": "stream",
     "text": [
      "naresh \n",
      "n n\n",
      "a a\n",
      "r r\n",
      "e e\n",
      "s s\n",
      "h h\n",
      "   \n",
      "[]\n"
     ]
    }
   ],
   "source": [
    "string=input()\n",
    "letter_count={}\n",
    "for i in string:\n",
    "    if i in letter_count:\n",
    "        letter_count[i]+=1\n",
    "    else:\n",
    "        letter_count[i]=1\n",
    "w=[]\n",
    "for i in letter_count:\n",
    "    for k in i:\n",
    "        print(i,k)\n",
    "print(w)"
   ]
  },
  {
   "cell_type": "code",
   "execution_count": 76,
   "id": "d8fb2059",
   "metadata": {},
   "outputs": [],
   "source": [
    "  obj=open('newfiletxt2.txt','r')"
   ]
  },
  {
   "cell_type": "code",
   "execution_count": 77,
   "id": "f4e8748c",
   "metadata": {},
   "outputs": [
    {
     "name": "stdout",
     "output_type": "stream",
     "text": [
      "['n:3', '::30', '1:24', ',:27', 'a:3', '2:6', 'r:3', 'e:3', 's:3', 'h:3', ' :3', 'k:3', 'u:3', 'm:3']\n"
     ]
    }
   ],
   "source": [
    "\n",
    "  \n",
    "    d=obj.read()\n",
    "    letter_count={}\n",
    "    for i in d:\n",
    "        if i in letter_count:\n",
    "            letter_count[i]+=1\n",
    "        else:\n",
    "            letter_count[i]=1\n",
    "        letter_pair=[f\"{key}:{value}\"for key,value in letter_count.items()]\n",
    "        f=\",\".join(letter_pair)\n",
    "    print(letter_pair)"
   ]
  },
  {
   "cell_type": "code",
   "execution_count": 75,
   "id": "5e04549a",
   "metadata": {},
   "outputs": [
    {
     "name": "stdout",
     "output_type": "stream",
     "text": [
      "['n 1 a 1 r 1 e 1 s 1 h 1']\n"
     ]
    },
    {
     "ename": "ValueError",
     "evalue": "not enough values to unpack (expected 2, got 1)",
     "output_type": "error",
     "traceback": [
      "\u001b[1;31m---------------------------------------------------------------------------\u001b[0m",
      "\u001b[1;31mValueError\u001b[0m                                Traceback (most recent call last)",
      "Input \u001b[1;32mIn [75]\u001b[0m, in \u001b[0;36m<cell line: 5>\u001b[1;34m()\u001b[0m\n\u001b[0;32m      4\u001b[0m w\u001b[38;5;241m=\u001b[39m[]\n\u001b[0;32m      5\u001b[0m \u001b[38;5;28;01mfor\u001b[39;00m i \u001b[38;5;129;01min\u001b[39;00m letter_pair:\n\u001b[1;32m----> 6\u001b[0m     key,value\u001b[38;5;241m=\u001b[39mi\u001b[38;5;241m.\u001b[39msplit(\u001b[38;5;124m'\u001b[39m\u001b[38;5;124m:\u001b[39m\u001b[38;5;124m'\u001b[39m)\n\u001b[0;32m      7\u001b[0m     w\u001b[38;5;241m.\u001b[39mappend({key:\u001b[38;5;28mint\u001b[39m(value)})\n\u001b[0;32m      8\u001b[0m \u001b[38;5;28mprint\u001b[39m(w)\n",
      "\u001b[1;31mValueError\u001b[0m: not enough values to unpack (expected 2, got 1)"
     ]
    }
   ],
   "source": [
    "letter_pair=' '.join(letter_pair)\n",
    "letter_pair=letter_pair.split(',')\n",
    "print(letter_pair)\n",
    "w=[]\n",
    "for i in letter_pair:\n",
    "    key,value=i.split(':')\n",
    "    w.append({key:int(value)})\n",
    "print(w)"
   ]
  },
  {
   "cell_type": "code",
   "execution_count": 66,
   "id": "40268385",
   "metadata": {},
   "outputs": [
    {
     "ename": "ValueError",
     "evalue": "empty separator",
     "output_type": "error",
     "traceback": [
      "\u001b[1;31m---------------------------------------------------------------------------\u001b[0m",
      "\u001b[1;31mValueError\u001b[0m                                Traceback (most recent call last)",
      "Input \u001b[1;32mIn [66]\u001b[0m, in \u001b[0;36m<cell line: 3>\u001b[1;34m()\u001b[0m\n\u001b[0;32m      2\u001b[0m w\u001b[38;5;241m=\u001b[39m[]\n\u001b[0;32m      3\u001b[0m \u001b[38;5;28;01mfor\u001b[39;00m i \u001b[38;5;129;01min\u001b[39;00m letter_pair:\n\u001b[1;32m----> 4\u001b[0m     key,value\u001b[38;5;241m=\u001b[39m\u001b[43mi\u001b[49m\u001b[38;5;241;43m.\u001b[39;49m\u001b[43msplit\u001b[49m\u001b[43m(\u001b[49m\u001b[38;5;124;43m'\u001b[39;49m\u001b[38;5;124;43m'\u001b[39;49m\u001b[43m)\u001b[49m\n\u001b[0;32m      5\u001b[0m     w\u001b[38;5;241m.\u001b[39mappend({key:value})\n\u001b[0;32m      6\u001b[0m \u001b[38;5;28mprint\u001b[39m(w)\n",
      "\u001b[1;31mValueError\u001b[0m: empty separator"
     ]
    }
   ],
   "source": [
    "letter_pair=letter_pair.split(':')\n",
    "w=[]\n",
    "for i in letter_pair:\n",
    "    key,value=i.split('')\n",
    "    w.append({key:value})\n",
    "print(w)"
   ]
  },
  {
   "cell_type": "code",
   "execution_count": 83,
   "id": "4bfdee7f",
   "metadata": {},
   "outputs": [],
   "source": [
    "def dic(string):\n",
    "    letter_count={}\n",
    "    for i in string:\n",
    "        if i in letter_count:\n",
    "            letter_count[i]+=1\n",
    "        else:\n",
    "            letter_count[i]=1\n",
    "        letter_pair=[f\"{key}:{value}\"for key,value in letter_count.items()]\n",
    "        f=\",\".join(letter_pair)\n",
    "        k=f.split(',')\n",
    "        w=[]\n",
    "        for i in k:\n",
    "            key,value=i.split(':')\n",
    "            w.append({key:int(value)})\n",
    "    print(w)"
   ]
  },
  {
   "cell_type": "code",
   "execution_count": 84,
   "id": "28437620",
   "metadata": {},
   "outputs": [
    {
     "name": "stdout",
     "output_type": "stream",
     "text": [
      "[{'k': 1}, {'u': 1}, {'m': 1}, {'a': 1}, {'r': 1}]\n"
     ]
    }
   ],
   "source": [
    "dic('kumar')"
   ]
  },
  {
   "cell_type": "code",
   "execution_count": 85,
   "id": "34f58e9f",
   "metadata": {},
   "outputs": [],
   "source": [
    "def dic(path):\n",
    "    obj=open(path,'r')\n",
    "    obj.seek(0)\n",
    "    string=obj.read()\n",
    "    letter_count={}\n",
    "    for i in string:\n",
    "        if i in letter_count:\n",
    "            letter_count[i]+=1\n",
    "        else:\n",
    "            letter_count[i]=1\n",
    "        letter_pair=[f\"{key}:{value}\"for key,value in letter_count.items()]\n",
    "        f=\",\".join(letter_pair)\n",
    "        k=f.split(',')\n",
    "        w=[]\n",
    "        for i in k:\n",
    "            key,value=i.split(':')\n",
    "            w.append({key:int(value)})\n",
    "    print(w)"
   ]
  },
  {
   "cell_type": "code",
   "execution_count": 87,
   "id": "1145ffaa",
   "metadata": {},
   "outputs": [
    {
     "name": "stdout",
     "output_type": "stream",
     "text": [
      "[{'N': 2}, {'e': 5}, {'w': 2}, {' ': 6}, {'d': 7}, {'a': 4}, {'t': 1}, {'\\n': 1}, {'l': 1}, {'i': 1}, {'n': 1}]\n"
     ]
    }
   ],
   "source": [
    "dic('newfile.txt')"
   ]
  },
  {
   "cell_type": "code",
   "execution_count": null,
   "id": "7028cbdf",
   "metadata": {},
   "outputs": [],
   "source": []
  }
 ],
 "metadata": {
  "kernelspec": {
   "display_name": "Python 3 (ipykernel)",
   "language": "python",
   "name": "python3"
  },
  "language_info": {
   "codemirror_mode": {
    "name": "ipython",
    "version": 3
   },
   "file_extension": ".py",
   "mimetype": "text/x-python",
   "name": "python",
   "nbconvert_exporter": "python",
   "pygments_lexer": "ipython3",
   "version": "3.9.12"
  }
 },
 "nbformat": 4,
 "nbformat_minor": 5
}
