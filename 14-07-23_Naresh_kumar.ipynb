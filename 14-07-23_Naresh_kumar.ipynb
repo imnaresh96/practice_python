{
 "cells": [
  {
   "cell_type": "code",
   "execution_count": 5,
   "id": "7d60c225",
   "metadata": {},
   "outputs": [],
   "source": [
    "from smtplib import *\n",
    "from pretty_html_table import build_table \n",
    "from email.message import EmailMessage\n",
    "import pymysql\n",
    "import pandas as pd"
   ]
  },
  {
   "cell_type": "code",
   "execution_count": 10,
   "id": "f25c48c5",
   "metadata": {},
   "outputs": [
    {
     "name": "stderr",
     "output_type": "stream",
     "text": [
      "C:\\Users\\naresh_kumar\\AppData\\Local\\Temp\\ipykernel_2372\\3770546316.py:5: UserWarning: pandas only supports SQLAlchemy connectable (engine/connection) or database string URI or sqlite3 DBAPI2 connection. Other DBAPI2 objects are not tested. Please consider using SQLAlchemy.\n",
      "  d=pd.read_sql(\"select * from SMPT\",conn)\n"
     ]
    },
    {
     "data": {
      "text/plain": [
       "{}"
      ]
     },
     "execution_count": 10,
     "metadata": {},
     "output_type": "execute_result"
    }
   ],
   "source": [
    "sender=\"nareshsisodiya1996@gmail.com\"\n",
    "rec='jyoti_pradhan@sattrixsoftware.com'\n",
    "password='yszbenixyrdrioei'\n",
    "conn=pymysql.connect(host=\"192.168.21.95\", user=\"test\", password=\"Sattrix@123\", database=\"Trainings\")\n",
    "d=pd.read_sql(\"select * from SMPT\",conn)\n",
    "d=pd.DataFrame(d)\n",
    "d=build_table(d,'blue_light')\n",
    "\n",
    "msg=EmailMessage()\n",
    "msg['from']=sender\n",
    "msg['to']=rec\n",
    "msg['subject']=\"Sattrix Family\"\n",
    "body=\"Hi this is logs data {} Thanks And Regard\".format(d)\n",
    "msg.set_content(body, subtype='html')\n",
    "\n",
    "server=SMTP('smtp.gmail.com',587)\n",
    "server.starttls()\n",
    "server.login(sender,password)\n",
    "server.send_message(msg)"
   ]
  },
  {
   "cell_type": "code",
   "execution_count": 11,
   "id": "b103e43c",
   "metadata": {},
   "outputs": [
    {
     "name": "stderr",
     "output_type": "stream",
     "text": [
      "C:\\Users\\naresh_kumar\\AppData\\Local\\Temp\\ipykernel_2372\\2229965488.py:1: UserWarning: pandas only supports SQLAlchemy connectable (engine/connection) or database string URI or sqlite3 DBAPI2 connection. Other DBAPI2 objects are not tested. Please consider using SQLAlchemy.\n",
      "  d=pd.read_sql(\"select * from SMPT\",conn)\n"
     ]
    }
   ],
   "source": [
    "d=pd.read_sql(\"select * from SMPT\",conn)\n",
    "d=pd.DataFrame(d)"
   ]
  },
  {
   "cell_type": "code",
   "execution_count": 12,
   "id": "008972b9",
   "metadata": {},
   "outputs": [
    {
     "data": {
      "text/html": [
       "<div>\n",
       "<style scoped>\n",
       "    .dataframe tbody tr th:only-of-type {\n",
       "        vertical-align: middle;\n",
       "    }\n",
       "\n",
       "    .dataframe tbody tr th {\n",
       "        vertical-align: top;\n",
       "    }\n",
       "\n",
       "    .dataframe thead th {\n",
       "        text-align: right;\n",
       "    }\n",
       "</style>\n",
       "<table border=\"1\" class=\"dataframe\">\n",
       "  <thead>\n",
       "    <tr style=\"text-align: right;\">\n",
       "      <th></th>\n",
       "      <th>YesterdayDate</th>\n",
       "      <th>Hour</th>\n",
       "      <th>customerName</th>\n",
       "      <th>TotalCount</th>\n",
       "    </tr>\n",
       "  </thead>\n",
       "  <tbody>\n",
       "    <tr>\n",
       "      <th>0</th>\n",
       "      <td>2023-07-03</td>\n",
       "      <td>1</td>\n",
       "      <td>HSC</td>\n",
       "      <td>8560</td>\n",
       "    </tr>\n",
       "    <tr>\n",
       "      <th>1</th>\n",
       "      <td>2023-07-03</td>\n",
       "      <td>2</td>\n",
       "      <td>HSC</td>\n",
       "      <td>3735</td>\n",
       "    </tr>\n",
       "    <tr>\n",
       "      <th>2</th>\n",
       "      <td>2023-07-03</td>\n",
       "      <td>10</td>\n",
       "      <td>HSC</td>\n",
       "      <td>46813</td>\n",
       "    </tr>\n",
       "    <tr>\n",
       "      <th>3</th>\n",
       "      <td>2023-07-03</td>\n",
       "      <td>11</td>\n",
       "      <td>HSC</td>\n",
       "      <td>247367</td>\n",
       "    </tr>\n",
       "    <tr>\n",
       "      <th>4</th>\n",
       "      <td>2023-07-03</td>\n",
       "      <td>12</td>\n",
       "      <td>HSC</td>\n",
       "      <td>350333</td>\n",
       "    </tr>\n",
       "    <tr>\n",
       "      <th>5</th>\n",
       "      <td>2023-07-03</td>\n",
       "      <td>13</td>\n",
       "      <td>HSC</td>\n",
       "      <td>218506</td>\n",
       "    </tr>\n",
       "    <tr>\n",
       "      <th>6</th>\n",
       "      <td>2023-07-03</td>\n",
       "      <td>14</td>\n",
       "      <td>HSC</td>\n",
       "      <td>191215</td>\n",
       "    </tr>\n",
       "    <tr>\n",
       "      <th>7</th>\n",
       "      <td>2023-07-03</td>\n",
       "      <td>15</td>\n",
       "      <td>HSC</td>\n",
       "      <td>372927</td>\n",
       "    </tr>\n",
       "    <tr>\n",
       "      <th>8</th>\n",
       "      <td>2023-07-03</td>\n",
       "      <td>16</td>\n",
       "      <td>HSC</td>\n",
       "      <td>282761</td>\n",
       "    </tr>\n",
       "    <tr>\n",
       "      <th>9</th>\n",
       "      <td>2023-07-03</td>\n",
       "      <td>17</td>\n",
       "      <td>HSC</td>\n",
       "      <td>249377</td>\n",
       "    </tr>\n",
       "    <tr>\n",
       "      <th>10</th>\n",
       "      <td>2023-07-03</td>\n",
       "      <td>18</td>\n",
       "      <td>HSC</td>\n",
       "      <td>218131</td>\n",
       "    </tr>\n",
       "    <tr>\n",
       "      <th>11</th>\n",
       "      <td>2023-07-03</td>\n",
       "      <td>19</td>\n",
       "      <td>HSC</td>\n",
       "      <td>363678</td>\n",
       "    </tr>\n",
       "    <tr>\n",
       "      <th>12</th>\n",
       "      <td>2023-07-03</td>\n",
       "      <td>20</td>\n",
       "      <td>HSC</td>\n",
       "      <td>337061</td>\n",
       "    </tr>\n",
       "    <tr>\n",
       "      <th>13</th>\n",
       "      <td>2023-07-03</td>\n",
       "      <td>21</td>\n",
       "      <td>HSC</td>\n",
       "      <td>308083</td>\n",
       "    </tr>\n",
       "    <tr>\n",
       "      <th>14</th>\n",
       "      <td>2023-07-03</td>\n",
       "      <td>22</td>\n",
       "      <td>HSC</td>\n",
       "      <td>263858</td>\n",
       "    </tr>\n",
       "    <tr>\n",
       "      <th>15</th>\n",
       "      <td>2023-07-03</td>\n",
       "      <td>23</td>\n",
       "      <td>HSC</td>\n",
       "      <td>264809</td>\n",
       "    </tr>\n",
       "  </tbody>\n",
       "</table>\n",
       "</div>"
      ],
      "text/plain": [
       "   YesterdayDate  Hour customerName  TotalCount\n",
       "0     2023-07-03     1          HSC        8560\n",
       "1     2023-07-03     2          HSC        3735\n",
       "2     2023-07-03    10          HSC       46813\n",
       "3     2023-07-03    11          HSC      247367\n",
       "4     2023-07-03    12          HSC      350333\n",
       "5     2023-07-03    13          HSC      218506\n",
       "6     2023-07-03    14          HSC      191215\n",
       "7     2023-07-03    15          HSC      372927\n",
       "8     2023-07-03    16          HSC      282761\n",
       "9     2023-07-03    17          HSC      249377\n",
       "10    2023-07-03    18          HSC      218131\n",
       "11    2023-07-03    19          HSC      363678\n",
       "12    2023-07-03    20          HSC      337061\n",
       "13    2023-07-03    21          HSC      308083\n",
       "14    2023-07-03    22          HSC      263858\n",
       "15    2023-07-03    23          HSC      264809"
      ]
     },
     "execution_count": 12,
     "metadata": {},
     "output_type": "execute_result"
    }
   ],
   "source": [
    "d"
   ]
  },
  {
   "cell_type": "code",
   "execution_count": 13,
   "id": "6c2abc3a",
   "metadata": {},
   "outputs": [
    {
     "name": "stderr",
     "output_type": "stream",
     "text": [
      "C:\\Users\\naresh_kumar\\AppData\\Local\\Temp\\ipykernel_2372\\3770546316.py:5: UserWarning: pandas only supports SQLAlchemy connectable (engine/connection) or database string URI or sqlite3 DBAPI2 connection. Other DBAPI2 objects are not tested. Please consider using SQLAlchemy.\n",
      "  d=pd.read_sql(\"select * from SMPT\",conn)\n"
     ]
    },
    {
     "data": {
      "text/plain": [
       "{}"
      ]
     },
     "execution_count": 13,
     "metadata": {},
     "output_type": "execute_result"
    }
   ],
   "source": [
    "sender=\"nareshsisodiya1996@gmail.com\"\n",
    "rec='jyoti_pradhan@sattrixsoftware.com'\n",
    "password='yszbenixyrdrioei'\n",
    "conn=pymysql.connect(host=\"192.168.21.95\", user=\"test\", password=\"Sattrix@123\", database=\"Trainings\")\n",
    "d=pd.read_sql(\"select * from SMPT\",conn)\n",
    "d=pd.DataFrame(d)\n",
    "d=build_table(d,'blue_light')\n",
    "\n",
    "msg=EmailMessage()\n",
    "msg['from']=sender\n",
    "msg['to']=rec\n",
    "msg['subject']=\"Sattrix Family\"\n",
    "body=\"Hi this is logs data {} Thanks And Regard\".format(d)\n",
    "msg.set_content(body, subtype='html')\n",
    "\n",
    "server=SMTP('smtp.gmail.com',587)\n",
    "server.starttls()\n",
    "server.login(sender,password)\n",
    "server.send_message(msg)"
   ]
  },
  {
   "cell_type": "code",
   "execution_count": null,
   "id": "b6f582a7",
   "metadata": {},
   "outputs": [],
   "source": [
    "sender=\"nareshsisodiya1996@gmail.com\"\n",
    "rec=\"naresh_kumar@sattrixsoftware.com\"\n",
    "password='yszbenixyrdrioei'\n",
    "subject=\"Python\"\n",
    "\n",
    "conn=pymysql.connect(host=\"192.168.21.95\", user=\"test\", password=\"Sattrix@123\", database=\"Trainings\")\n",
    "d=pd.read_sql(\"select * from SMPT\",conn)\n",
    "d=pd.DataFrame(d)\n",
    "# d=build_table(d,\"blue_light\")\n",
    "\n",
    "msg=EmailMessage()\n",
    "msg['From']=sender\n",
    "msg['To']=rec\n",
    "msg['Subject']=subject\n",
    "email_body='''\\t hy this is data table for Logs {} Thanks And Regard Naresh Kumar'''.format(build_table(d,'blue_light'))\n",
    "msg.set_content(email_body, subtype=\"html\")\n",
    " \n",
    "server=SMTP(\"smtp.gmail.com\",587)\n",
    "server.starttls()\n",
    "server.login(sender,password)\n",
    "\n",
    "server.send_message(msg)"
   ]
  },
  {
   "cell_type": "code",
   "execution_count": 15,
   "id": "43f2c37b",
   "metadata": {},
   "outputs": [
    {
     "name": "stdout",
     "output_type": "stream",
     "text": [
      "0\n",
      "1\n",
      "2\n"
     ]
    }
   ],
   "source": [
    "for i in range(3):\n",
    "    d=-1\n",
    "    print(i)\n",
    "    d+=2"
   ]
  },
  {
   "cell_type": "code",
   "execution_count": 16,
   "id": "c8a11342",
   "metadata": {},
   "outputs": [],
   "source": [
    "matrix = [[-2,  5,  3,  2],\n",
    "          [ 9, -6,  5,  1],\n",
    "          [ 3,  2,  7,  3],\n",
    "          [-1,  8, -4,  8]]"
   ]
  },
  {
   "cell_type": "code",
   "execution_count": 29,
   "id": "7f72b704",
   "metadata": {},
   "outputs": [
    {
     "name": "stdout",
     "output_type": "stream",
     "text": [
      "2\n",
      "5\n",
      "2\n",
      "-1\n"
     ]
    }
   ],
   "source": [
    "d=1\n",
    "for i in matrix:\n",
    "    print(i[-d])\n",
    "    d+=1"
   ]
  },
  {
   "cell_type": "code",
   "execution_count": 21,
   "id": "d18ebef4",
   "metadata": {},
   "outputs": [
    {
     "data": {
      "text/plain": [
       "0"
      ]
     },
     "execution_count": 21,
     "metadata": {},
     "output_type": "execute_result"
    }
   ],
   "source": [
    "d"
   ]
  },
  {
   "cell_type": "code",
   "execution_count": 22,
   "id": "1c4f7828",
   "metadata": {},
   "outputs": [
    {
     "data": {
      "text/plain": [
       "0"
      ]
     },
     "execution_count": 22,
     "metadata": {},
     "output_type": "execute_result"
    }
   ],
   "source": [
    "-1+1"
   ]
  },
  {
   "cell_type": "code",
   "execution_count": 30,
   "id": "f0f8ff24",
   "metadata": {},
   "outputs": [],
   "source": [
    "df=pd.read_csv(\"demo_inci1.csv\")"
   ]
  },
  {
   "cell_type": "code",
   "execution_count": 31,
   "id": "df72438b",
   "metadata": {},
   "outputs": [
    {
     "data": {
      "text/html": [
       "<div>\n",
       "<style scoped>\n",
       "    .dataframe tbody tr th:only-of-type {\n",
       "        vertical-align: middle;\n",
       "    }\n",
       "\n",
       "    .dataframe tbody tr th {\n",
       "        vertical-align: top;\n",
       "    }\n",
       "\n",
       "    .dataframe thead th {\n",
       "        text-align: right;\n",
       "    }\n",
       "</style>\n",
       "<table border=\"1\" class=\"dataframe\">\n",
       "  <thead>\n",
       "    <tr style=\"text-align: right;\">\n",
       "      <th></th>\n",
       "      <th>Unnamed: 0</th>\n",
       "      <th>Category</th>\n",
       "      <th>CreatedOn</th>\n",
       "      <th>src</th>\n",
       "      <th>dst</th>\n",
       "    </tr>\n",
       "  </thead>\n",
       "  <tbody>\n",
       "    <tr>\n",
       "      <th>0</th>\n",
       "      <td>0</td>\n",
       "      <td>abuse_categor</td>\n",
       "      <td>2023-07-04 12:34:31</td>\n",
       "      <td>45.112.178.18</td>\n",
       "      <td>14.99.224.214</td>\n",
       "    </tr>\n",
       "    <tr>\n",
       "      <th>1</th>\n",
       "      <td>1</td>\n",
       "      <td>anonymizer_categor</td>\n",
       "      <td>2023-07-04 12:34:31</td>\n",
       "      <td>192.168.5.51</td>\n",
       "      <td>52.113.195.132</td>\n",
       "    </tr>\n",
       "    <tr>\n",
       "      <th>2</th>\n",
       "      <td>2</td>\n",
       "      <td>abuse_categor</td>\n",
       "      <td>2023-07-04 12:34:31</td>\n",
       "      <td>45.112.178.18</td>\n",
       "      <td>14.99.224.214</td>\n",
       "    </tr>\n",
       "    <tr>\n",
       "      <th>3</th>\n",
       "      <td>3</td>\n",
       "      <td>abuse_categor</td>\n",
       "      <td>2023-07-04 12:34:31</td>\n",
       "      <td>45.112.178.18</td>\n",
       "      <td>14.99.224.214</td>\n",
       "    </tr>\n",
       "    <tr>\n",
       "      <th>4</th>\n",
       "      <td>4</td>\n",
       "      <td>abuse_categor</td>\n",
       "      <td>2023-07-04 12:34:31</td>\n",
       "      <td>45.112.178.18</td>\n",
       "      <td>14.99.224.214</td>\n",
       "    </tr>\n",
       "    <tr>\n",
       "      <th>...</th>\n",
       "      <td>...</td>\n",
       "      <td>...</td>\n",
       "      <td>...</td>\n",
       "      <td>...</td>\n",
       "      <td>...</td>\n",
       "    </tr>\n",
       "    <tr>\n",
       "      <th>395</th>\n",
       "      <td>395</td>\n",
       "      <td>attack_categor</td>\n",
       "      <td>2023-07-04 12:34:31</td>\n",
       "      <td>192.168.8.54</td>\n",
       "      <td>13.107.42.13</td>\n",
       "    </tr>\n",
       "    <tr>\n",
       "      <th>396</th>\n",
       "      <td>396</td>\n",
       "      <td>abuse_categor</td>\n",
       "      <td>2023-07-04 12:34:31</td>\n",
       "      <td>202.173.125.252</td>\n",
       "      <td>14.99.224.214</td>\n",
       "    </tr>\n",
       "    <tr>\n",
       "      <th>397</th>\n",
       "      <td>397</td>\n",
       "      <td>abuse_categor</td>\n",
       "      <td>2023-07-04 12:34:31</td>\n",
       "      <td>202.173.125.252</td>\n",
       "      <td>14.99.224.214</td>\n",
       "    </tr>\n",
       "    <tr>\n",
       "      <th>398</th>\n",
       "      <td>398</td>\n",
       "      <td>abuse_categor</td>\n",
       "      <td>2023-07-04 12:34:31</td>\n",
       "      <td>202.173.125.252</td>\n",
       "      <td>14.99.224.214</td>\n",
       "    </tr>\n",
       "    <tr>\n",
       "      <th>399</th>\n",
       "      <td>399</td>\n",
       "      <td>abuse_categor</td>\n",
       "      <td>2023-07-04 12:34:31</td>\n",
       "      <td>202.173.125.252</td>\n",
       "      <td>14.99.224.214</td>\n",
       "    </tr>\n",
       "  </tbody>\n",
       "</table>\n",
       "<p>400 rows × 5 columns</p>\n",
       "</div>"
      ],
      "text/plain": [
       "     Unnamed: 0            Category            CreatedOn              src  \\\n",
       "0             0       abuse_categor  2023-07-04 12:34:31    45.112.178.18   \n",
       "1             1  anonymizer_categor  2023-07-04 12:34:31     192.168.5.51   \n",
       "2             2       abuse_categor  2023-07-04 12:34:31    45.112.178.18   \n",
       "3             3       abuse_categor  2023-07-04 12:34:31    45.112.178.18   \n",
       "4             4       abuse_categor  2023-07-04 12:34:31    45.112.178.18   \n",
       "..          ...                 ...                  ...              ...   \n",
       "395         395      attack_categor  2023-07-04 12:34:31     192.168.8.54   \n",
       "396         396       abuse_categor  2023-07-04 12:34:31  202.173.125.252   \n",
       "397         397       abuse_categor  2023-07-04 12:34:31  202.173.125.252   \n",
       "398         398       abuse_categor  2023-07-04 12:34:31  202.173.125.252   \n",
       "399         399       abuse_categor  2023-07-04 12:34:31  202.173.125.252   \n",
       "\n",
       "                dst  \n",
       "0     14.99.224.214  \n",
       "1    52.113.195.132  \n",
       "2     14.99.224.214  \n",
       "3     14.99.224.214  \n",
       "4     14.99.224.214  \n",
       "..              ...  \n",
       "395    13.107.42.13  \n",
       "396   14.99.224.214  \n",
       "397   14.99.224.214  \n",
       "398   14.99.224.214  \n",
       "399   14.99.224.214  \n",
       "\n",
       "[400 rows x 5 columns]"
      ]
     },
     "execution_count": 31,
     "metadata": {},
     "output_type": "execute_result"
    }
   ],
   "source": [
    "df"
   ]
  },
  {
   "cell_type": "code",
   "execution_count": 32,
   "id": "8c534457",
   "metadata": {},
   "outputs": [],
   "source": [
    "from pandasql import sqldf"
   ]
  },
  {
   "cell_type": "code",
   "execution_count": 39,
   "id": "e124e733",
   "metadata": {},
   "outputs": [],
   "source": [
    "data=sqldf('''select * from df where src regexp '^192\\.168\\.(?:25[0-5])\\.(?:[1-9]|[1-9][0-9]|[1-2][0-4][0-9]|25[0-4])$' ''')"
   ]
  },
  {
   "cell_type": "code",
   "execution_count": 38,
   "id": "ce4fe65e",
   "metadata": {},
   "outputs": [],
   "source": [
    "data2=sqldf('''select * from df where src regexp \"(?:(192.168.([0-9]|1[0-9]|2[0-9]|3[0-1]).([0-9]|1[0-9]|2[0-4])$))\" ''')"
   ]
  },
  {
   "cell_type": "code",
   "execution_count": 40,
   "id": "f2bbfcfd",
   "metadata": {},
   "outputs": [
    {
     "data": {
      "text/html": [
       "<div>\n",
       "<style scoped>\n",
       "    .dataframe tbody tr th:only-of-type {\n",
       "        vertical-align: middle;\n",
       "    }\n",
       "\n",
       "    .dataframe tbody tr th {\n",
       "        vertical-align: top;\n",
       "    }\n",
       "\n",
       "    .dataframe thead th {\n",
       "        text-align: right;\n",
       "    }\n",
       "</style>\n",
       "<table border=\"1\" class=\"dataframe\">\n",
       "  <thead>\n",
       "    <tr style=\"text-align: right;\">\n",
       "      <th></th>\n",
       "      <th>Unnamed: 0</th>\n",
       "      <th>Category</th>\n",
       "      <th>CreatedOn</th>\n",
       "      <th>src</th>\n",
       "      <th>dst</th>\n",
       "    </tr>\n",
       "  </thead>\n",
       "  <tbody>\n",
       "  </tbody>\n",
       "</table>\n",
       "</div>"
      ],
      "text/plain": [
       "Empty DataFrame\n",
       "Columns: [Unnamed: 0, Category, CreatedOn, src, dst]\n",
       "Index: []"
      ]
     },
     "execution_count": 40,
     "metadata": {},
     "output_type": "execute_result"
    }
   ],
   "source": [
    "data"
   ]
  },
  {
   "cell_type": "code",
   "execution_count": 41,
   "id": "53b6aa0c",
   "metadata": {},
   "outputs": [
    {
     "data": {
      "text/html": [
       "<div>\n",
       "<style scoped>\n",
       "    .dataframe tbody tr th:only-of-type {\n",
       "        vertical-align: middle;\n",
       "    }\n",
       "\n",
       "    .dataframe tbody tr th {\n",
       "        vertical-align: top;\n",
       "    }\n",
       "\n",
       "    .dataframe thead th {\n",
       "        text-align: right;\n",
       "    }\n",
       "</style>\n",
       "<table border=\"1\" class=\"dataframe\">\n",
       "  <thead>\n",
       "    <tr style=\"text-align: right;\">\n",
       "      <th></th>\n",
       "      <th>Unnamed: 0</th>\n",
       "      <th>Category</th>\n",
       "      <th>CreatedOn</th>\n",
       "      <th>src</th>\n",
       "      <th>dst</th>\n",
       "    </tr>\n",
       "  </thead>\n",
       "  <tbody>\n",
       "    <tr>\n",
       "      <th>0</th>\n",
       "      <td>24</td>\n",
       "      <td>attack_categor</td>\n",
       "      <td>2023-07-04 12:34:31</td>\n",
       "      <td>192.168.6.2</td>\n",
       "      <td>184.26.161.66</td>\n",
       "    </tr>\n",
       "    <tr>\n",
       "      <th>1</th>\n",
       "      <td>124</td>\n",
       "      <td>attack_categor</td>\n",
       "      <td>2023-07-04 12:34:31</td>\n",
       "      <td>192.168.6.2</td>\n",
       "      <td>13.107.42.1</td>\n",
       "    </tr>\n",
       "    <tr>\n",
       "      <th>2</th>\n",
       "      <td>137</td>\n",
       "      <td>attack_categor</td>\n",
       "      <td>2023-07-04 12:34:31</td>\n",
       "      <td>192.168.6.2</td>\n",
       "      <td>13.107.42.1</td>\n",
       "    </tr>\n",
       "    <tr>\n",
       "      <th>3</th>\n",
       "      <td>138</td>\n",
       "      <td>attack_categor</td>\n",
       "      <td>2023-07-04 12:34:31</td>\n",
       "      <td>192.168.6.2</td>\n",
       "      <td>162.159.24.11</td>\n",
       "    </tr>\n",
       "    <tr>\n",
       "      <th>4</th>\n",
       "      <td>220</td>\n",
       "      <td>attack_categor</td>\n",
       "      <td>2023-07-04 12:34:31</td>\n",
       "      <td>192.168.6.2</td>\n",
       "      <td>217.13.106.203</td>\n",
       "    </tr>\n",
       "    <tr>\n",
       "      <th>5</th>\n",
       "      <td>226</td>\n",
       "      <td>attack_categor</td>\n",
       "      <td>2023-07-04 12:34:31</td>\n",
       "      <td>192.168.6.2</td>\n",
       "      <td>208.80.125.4</td>\n",
       "    </tr>\n",
       "    <tr>\n",
       "      <th>6</th>\n",
       "      <td>233</td>\n",
       "      <td>attack_categor</td>\n",
       "      <td>2023-07-04 12:34:31</td>\n",
       "      <td>192.168.6.2</td>\n",
       "      <td>208.80.125.4</td>\n",
       "    </tr>\n",
       "    <tr>\n",
       "      <th>7</th>\n",
       "      <td>248</td>\n",
       "      <td>anonymizer_categor</td>\n",
       "      <td>2023-07-04 12:34:31</td>\n",
       "      <td>192.168.6.2</td>\n",
       "      <td>217.13.106.203</td>\n",
       "    </tr>\n",
       "    <tr>\n",
       "      <th>8</th>\n",
       "      <td>262</td>\n",
       "      <td>attack_categor</td>\n",
       "      <td>2023-07-04 12:34:31</td>\n",
       "      <td>192.168.6.2</td>\n",
       "      <td>208.80.125.4</td>\n",
       "    </tr>\n",
       "    <tr>\n",
       "      <th>9</th>\n",
       "      <td>309</td>\n",
       "      <td>attack_categor</td>\n",
       "      <td>2023-07-04 12:34:31</td>\n",
       "      <td>192.168.6.2</td>\n",
       "      <td>208.80.125.4</td>\n",
       "    </tr>\n",
       "    <tr>\n",
       "      <th>10</th>\n",
       "      <td>327</td>\n",
       "      <td>attack_categor</td>\n",
       "      <td>2023-07-04 12:34:31</td>\n",
       "      <td>192.168.6.2</td>\n",
       "      <td>208.80.125.4</td>\n",
       "    </tr>\n",
       "  </tbody>\n",
       "</table>\n",
       "</div>"
      ],
      "text/plain": [
       "    Unnamed: 0            Category            CreatedOn          src  \\\n",
       "0           24      attack_categor  2023-07-04 12:34:31  192.168.6.2   \n",
       "1          124      attack_categor  2023-07-04 12:34:31  192.168.6.2   \n",
       "2          137      attack_categor  2023-07-04 12:34:31  192.168.6.2   \n",
       "3          138      attack_categor  2023-07-04 12:34:31  192.168.6.2   \n",
       "4          220      attack_categor  2023-07-04 12:34:31  192.168.6.2   \n",
       "5          226      attack_categor  2023-07-04 12:34:31  192.168.6.2   \n",
       "6          233      attack_categor  2023-07-04 12:34:31  192.168.6.2   \n",
       "7          248  anonymizer_categor  2023-07-04 12:34:31  192.168.6.2   \n",
       "8          262      attack_categor  2023-07-04 12:34:31  192.168.6.2   \n",
       "9          309      attack_categor  2023-07-04 12:34:31  192.168.6.2   \n",
       "10         327      attack_categor  2023-07-04 12:34:31  192.168.6.2   \n",
       "\n",
       "               dst  \n",
       "0    184.26.161.66  \n",
       "1      13.107.42.1  \n",
       "2      13.107.42.1  \n",
       "3    162.159.24.11  \n",
       "4   217.13.106.203  \n",
       "5     208.80.125.4  \n",
       "6     208.80.125.4  \n",
       "7   217.13.106.203  \n",
       "8     208.80.125.4  \n",
       "9     208.80.125.4  \n",
       "10    208.80.125.4  "
      ]
     },
     "execution_count": 41,
     "metadata": {},
     "output_type": "execute_result"
    }
   ],
   "source": [
    "data2"
   ]
  },
  {
   "cell_type": "code",
   "execution_count": 50,
   "id": "5926b2fc",
   "metadata": {},
   "outputs": [
    {
     "name": "stdout",
     "output_type": "stream",
     "text": [
      "0\n",
      "-1\n",
      "l-g = -1\n",
      "g-l = 1\n"
     ]
    }
   ],
   "source": [
    "matrix = [[-2,  5,  3],\n",
    "          [ 9, -6,  5],\n",
    "          [ 3,  2,  7]]\n",
    "\n",
    "d=1\n",
    "g=0\n",
    "for i in matrix:\n",
    "#     print(i[-d])\n",
    "    g+=i[-d]\n",
    "    d+=1\n",
    "print(g)\n",
    "d=0\n",
    "l=0\n",
    "for i in matrix:\n",
    "#     print(i[d])\n",
    "    l+=i[d]\n",
    "    d+=1\n",
    "print(l)\n",
    "print(\"l-g =\",l-g)\n",
    "print(\"g-l =\",g-l)"
   ]
  },
  {
   "cell_type": "code",
   "execution_count": 51,
   "id": "8643aed7",
   "metadata": {},
   "outputs": [],
   "source": [
    "import re\n"
   ]
  },
  {
   "cell_type": "code",
   "execution_count": 74,
   "id": "cc8aca8b",
   "metadata": {},
   "outputs": [
    {
     "name": "stdout",
     "output_type": "stream",
     "text": [
      "['naresh', 'kailash']\n"
     ]
    }
   ],
   "source": [
    "# pattern=r\"n|N[a-f][m-v][a-f][m-u][f-l]+\"\n",
    "pattern=\"[n|k]+[a-z]+\"\n",
    "text=\"naresh kailash rahul this is demo for find name startswith \"\n",
    "x=re.findall(pattern,text)\n",
    "print(x)"
   ]
  },
  {
   "cell_type": "code",
   "execution_count": 76,
   "id": "33ee362a",
   "metadata": {},
   "outputs": [
    {
     "data": {
      "text/plain": [
       "50.0"
      ]
     },
     "execution_count": 76,
     "metadata": {},
     "output_type": "execute_result"
    }
   ],
   "source": [
    "(3/6)*100"
   ]
  },
  {
   "cell_type": "code",
   "execution_count": 77,
   "id": "99cc7244",
   "metadata": {},
   "outputs": [
    {
     "data": {
      "text/plain": [
       "0.5"
      ]
     },
     "execution_count": 77,
     "metadata": {},
     "output_type": "execute_result"
    }
   ],
   "source": [
    "3/6"
   ]
  },
  {
   "cell_type": "code",
   "execution_count": 78,
   "id": "4919399f",
   "metadata": {},
   "outputs": [
    {
     "data": {
      "text/plain": [
       "0.2"
      ]
     },
     "execution_count": 78,
     "metadata": {},
     "output_type": "execute_result"
    }
   ],
   "source": [
    "10/50\n"
   ]
  },
  {
   "cell_type": "code",
   "execution_count": 79,
   "id": "dd802359",
   "metadata": {},
   "outputs": [
    {
     "data": {
      "text/plain": [
       "20.0"
      ]
     },
     "execution_count": 79,
     "metadata": {},
     "output_type": "execute_result"
    }
   ],
   "source": [
    "10/50*100"
   ]
  },
  {
   "cell_type": "code",
   "execution_count": 80,
   "id": "15549450",
   "metadata": {},
   "outputs": [
    {
     "data": {
      "text/plain": [
       "100.0"
      ]
     },
     "execution_count": 80,
     "metadata": {},
     "output_type": "execute_result"
    }
   ],
   "source": [
    "1.00000\n",
    "100.00"
   ]
  },
  {
   "cell_type": "code",
   "execution_count": 115,
   "id": "ca57d771",
   "metadata": {},
   "outputs": [
    {
     "name": "stdout",
     "output_type": "stream",
     "text": [
      "     #\n",
      "    ##\n",
      "   ###\n",
      "  ####\n",
      " #####\n",
      "######\n"
     ]
    }
   ],
   "source": [
    "for i in range(1,6+1):\n",
    "    print(' '*(6-i)+'#'*i)"
   ]
  },
  {
   "cell_type": "code",
   "execution_count": 390,
   "id": "51e5af6d",
   "metadata": {},
   "outputs": [
    {
     "name": "stdout",
     "output_type": "stream",
     "text": [
      "[]\n"
     ]
    }
   ],
   "source": [
    "text=\"8754512151 986568515 9983482226 9651034848 1236482136 7854303299\"\n",
    "pattern=r\"\\b (8|9+([0-6])+([1-5]+))\\b\"\n",
    "# pattern=r\" \"\n",
    "x=re.findall(pattern,text)\n",
    "print(x)"
   ]
  },
  {
   "cell_type": "code",
   "execution_count": 391,
   "id": "344c6163",
   "metadata": {},
   "outputs": [
    {
     "name": "stdout",
     "output_type": "stream",
     "text": [
      "[]\n"
     ]
    }
   ],
   "source": [
    "text=\"8754512151 986568515 9983482226 9651034848 1236482136 7854303299\"\n",
    "pattern=r\"\\b(^([1-9])([0-6]+))\\b\"\n",
    "# pattern=r\" \"\n",
    "x=re.findall(pattern,text)\n",
    "print(x)"
   ]
  },
  {
   "cell_type": "code",
   "execution_count": 392,
   "id": "dbe15168",
   "metadata": {},
   "outputs": [
    {
     "ename": "error",
     "evalue": "nothing to repeat at position 0",
     "output_type": "error",
     "traceback": [
      "\u001b[1;31m---------------------------------------------------------------------------\u001b[0m",
      "\u001b[1;31merror\u001b[0m                                     Traceback (most recent call last)",
      "Cell \u001b[1;32mIn[392], line 4\u001b[0m\n\u001b[0;32m      2\u001b[0m pattern\u001b[38;5;241m=\u001b[39m\u001b[38;5;124mr\u001b[39m\u001b[38;5;124m\"\u001b[39m\u001b[38;5;124m?:(8|9([0-6]+[0-9]+[0-5$]))\u001b[39m\u001b[38;5;124m\"\u001b[39m\n\u001b[0;32m      3\u001b[0m \u001b[38;5;66;03m# pattern=r\" \"\u001b[39;00m\n\u001b[1;32m----> 4\u001b[0m x\u001b[38;5;241m=\u001b[39m\u001b[43mre\u001b[49m\u001b[38;5;241;43m.\u001b[39;49m\u001b[43mfindall\u001b[49m\u001b[43m(\u001b[49m\u001b[43mpattern\u001b[49m\u001b[43m,\u001b[49m\u001b[43mtext\u001b[49m\u001b[43m)\u001b[49m\n\u001b[0;32m      5\u001b[0m \u001b[38;5;28mprint\u001b[39m(x)\n",
      "File \u001b[1;32m~\\AppData\\Local\\Programs\\Python\\Python310\\lib\\re.py:240\u001b[0m, in \u001b[0;36mfindall\u001b[1;34m(pattern, string, flags)\u001b[0m\n\u001b[0;32m    232\u001b[0m \u001b[38;5;28;01mdef\u001b[39;00m \u001b[38;5;21mfindall\u001b[39m(pattern, string, flags\u001b[38;5;241m=\u001b[39m\u001b[38;5;241m0\u001b[39m):\n\u001b[0;32m    233\u001b[0m \u001b[38;5;250m    \u001b[39m\u001b[38;5;124;03m\"\"\"Return a list of all non-overlapping matches in the string.\u001b[39;00m\n\u001b[0;32m    234\u001b[0m \n\u001b[0;32m    235\u001b[0m \u001b[38;5;124;03m    If one or more capturing groups are present in the pattern, return\u001b[39;00m\n\u001b[1;32m   (...)\u001b[0m\n\u001b[0;32m    238\u001b[0m \n\u001b[0;32m    239\u001b[0m \u001b[38;5;124;03m    Empty matches are included in the result.\"\"\"\u001b[39;00m\n\u001b[1;32m--> 240\u001b[0m     \u001b[38;5;28;01mreturn\u001b[39;00m \u001b[43m_compile\u001b[49m\u001b[43m(\u001b[49m\u001b[43mpattern\u001b[49m\u001b[43m,\u001b[49m\u001b[43m \u001b[49m\u001b[43mflags\u001b[49m\u001b[43m)\u001b[49m\u001b[38;5;241m.\u001b[39mfindall(string)\n",
      "File \u001b[1;32m~\\AppData\\Local\\Programs\\Python\\Python310\\lib\\re.py:303\u001b[0m, in \u001b[0;36m_compile\u001b[1;34m(pattern, flags)\u001b[0m\n\u001b[0;32m    301\u001b[0m \u001b[38;5;28;01mif\u001b[39;00m \u001b[38;5;129;01mnot\u001b[39;00m sre_compile\u001b[38;5;241m.\u001b[39misstring(pattern):\n\u001b[0;32m    302\u001b[0m     \u001b[38;5;28;01mraise\u001b[39;00m \u001b[38;5;167;01mTypeError\u001b[39;00m(\u001b[38;5;124m\"\u001b[39m\u001b[38;5;124mfirst argument must be string or compiled pattern\u001b[39m\u001b[38;5;124m\"\u001b[39m)\n\u001b[1;32m--> 303\u001b[0m p \u001b[38;5;241m=\u001b[39m \u001b[43msre_compile\u001b[49m\u001b[38;5;241;43m.\u001b[39;49m\u001b[43mcompile\u001b[49m\u001b[43m(\u001b[49m\u001b[43mpattern\u001b[49m\u001b[43m,\u001b[49m\u001b[43m \u001b[49m\u001b[43mflags\u001b[49m\u001b[43m)\u001b[49m\n\u001b[0;32m    304\u001b[0m \u001b[38;5;28;01mif\u001b[39;00m \u001b[38;5;129;01mnot\u001b[39;00m (flags \u001b[38;5;241m&\u001b[39m DEBUG):\n\u001b[0;32m    305\u001b[0m     \u001b[38;5;28;01mif\u001b[39;00m \u001b[38;5;28mlen\u001b[39m(_cache) \u001b[38;5;241m>\u001b[39m\u001b[38;5;241m=\u001b[39m _MAXCACHE:\n\u001b[0;32m    306\u001b[0m         \u001b[38;5;66;03m# Drop the oldest item\u001b[39;00m\n",
      "File \u001b[1;32m~\\AppData\\Local\\Programs\\Python\\Python310\\lib\\sre_compile.py:788\u001b[0m, in \u001b[0;36mcompile\u001b[1;34m(p, flags)\u001b[0m\n\u001b[0;32m    786\u001b[0m \u001b[38;5;28;01mif\u001b[39;00m isstring(p):\n\u001b[0;32m    787\u001b[0m     pattern \u001b[38;5;241m=\u001b[39m p\n\u001b[1;32m--> 788\u001b[0m     p \u001b[38;5;241m=\u001b[39m \u001b[43msre_parse\u001b[49m\u001b[38;5;241;43m.\u001b[39;49m\u001b[43mparse\u001b[49m\u001b[43m(\u001b[49m\u001b[43mp\u001b[49m\u001b[43m,\u001b[49m\u001b[43m \u001b[49m\u001b[43mflags\u001b[49m\u001b[43m)\u001b[49m\n\u001b[0;32m    789\u001b[0m \u001b[38;5;28;01melse\u001b[39;00m:\n\u001b[0;32m    790\u001b[0m     pattern \u001b[38;5;241m=\u001b[39m \u001b[38;5;28;01mNone\u001b[39;00m\n",
      "File \u001b[1;32m~\\AppData\\Local\\Programs\\Python\\Python310\\lib\\sre_parse.py:955\u001b[0m, in \u001b[0;36mparse\u001b[1;34m(str, flags, state)\u001b[0m\n\u001b[0;32m    952\u001b[0m state\u001b[38;5;241m.\u001b[39mstr \u001b[38;5;241m=\u001b[39m \u001b[38;5;28mstr\u001b[39m\n\u001b[0;32m    954\u001b[0m \u001b[38;5;28;01mtry\u001b[39;00m:\n\u001b[1;32m--> 955\u001b[0m     p \u001b[38;5;241m=\u001b[39m \u001b[43m_parse_sub\u001b[49m\u001b[43m(\u001b[49m\u001b[43msource\u001b[49m\u001b[43m,\u001b[49m\u001b[43m \u001b[49m\u001b[43mstate\u001b[49m\u001b[43m,\u001b[49m\u001b[43m \u001b[49m\u001b[43mflags\u001b[49m\u001b[43m \u001b[49m\u001b[38;5;241;43m&\u001b[39;49m\u001b[43m \u001b[49m\u001b[43mSRE_FLAG_VERBOSE\u001b[49m\u001b[43m,\u001b[49m\u001b[43m \u001b[49m\u001b[38;5;241;43m0\u001b[39;49m\u001b[43m)\u001b[49m\n\u001b[0;32m    956\u001b[0m \u001b[38;5;28;01mexcept\u001b[39;00m Verbose:\n\u001b[0;32m    957\u001b[0m     \u001b[38;5;66;03m# the VERBOSE flag was switched on inside the pattern.  to be\u001b[39;00m\n\u001b[0;32m    958\u001b[0m     \u001b[38;5;66;03m# on the safe side, we'll parse the whole thing again...\u001b[39;00m\n\u001b[0;32m    959\u001b[0m     state \u001b[38;5;241m=\u001b[39m State()\n",
      "File \u001b[1;32m~\\AppData\\Local\\Programs\\Python\\Python310\\lib\\sre_parse.py:444\u001b[0m, in \u001b[0;36m_parse_sub\u001b[1;34m(source, state, verbose, nested)\u001b[0m\n\u001b[0;32m    442\u001b[0m start \u001b[38;5;241m=\u001b[39m source\u001b[38;5;241m.\u001b[39mtell()\n\u001b[0;32m    443\u001b[0m \u001b[38;5;28;01mwhile\u001b[39;00m \u001b[38;5;28;01mTrue\u001b[39;00m:\n\u001b[1;32m--> 444\u001b[0m     itemsappend(\u001b[43m_parse\u001b[49m\u001b[43m(\u001b[49m\u001b[43msource\u001b[49m\u001b[43m,\u001b[49m\u001b[43m \u001b[49m\u001b[43mstate\u001b[49m\u001b[43m,\u001b[49m\u001b[43m \u001b[49m\u001b[43mverbose\u001b[49m\u001b[43m,\u001b[49m\u001b[43m \u001b[49m\u001b[43mnested\u001b[49m\u001b[43m \u001b[49m\u001b[38;5;241;43m+\u001b[39;49m\u001b[43m \u001b[49m\u001b[38;5;241;43m1\u001b[39;49m\u001b[43m,\u001b[49m\n\u001b[0;32m    445\u001b[0m \u001b[43m                       \u001b[49m\u001b[38;5;129;43;01mnot\u001b[39;49;00m\u001b[43m \u001b[49m\u001b[43mnested\u001b[49m\u001b[43m \u001b[49m\u001b[38;5;129;43;01mand\u001b[39;49;00m\u001b[43m \u001b[49m\u001b[38;5;129;43;01mnot\u001b[39;49;00m\u001b[43m \u001b[49m\u001b[43mitems\u001b[49m\u001b[43m)\u001b[49m)\n\u001b[0;32m    446\u001b[0m     \u001b[38;5;28;01mif\u001b[39;00m \u001b[38;5;129;01mnot\u001b[39;00m sourcematch(\u001b[38;5;124m\"\u001b[39m\u001b[38;5;124m|\u001b[39m\u001b[38;5;124m\"\u001b[39m):\n\u001b[0;32m    447\u001b[0m         \u001b[38;5;28;01mbreak\u001b[39;00m\n",
      "File \u001b[1;32m~\\AppData\\Local\\Programs\\Python\\Python310\\lib\\sre_parse.py:669\u001b[0m, in \u001b[0;36m_parse\u001b[1;34m(source, state, verbose, nested, first)\u001b[0m\n\u001b[0;32m    667\u001b[0m     item \u001b[38;5;241m=\u001b[39m \u001b[38;5;28;01mNone\u001b[39;00m\n\u001b[0;32m    668\u001b[0m \u001b[38;5;28;01mif\u001b[39;00m \u001b[38;5;129;01mnot\u001b[39;00m item \u001b[38;5;129;01mor\u001b[39;00m item[\u001b[38;5;241m0\u001b[39m][\u001b[38;5;241m0\u001b[39m] \u001b[38;5;129;01mis\u001b[39;00m AT:\n\u001b[1;32m--> 669\u001b[0m     \u001b[38;5;28;01mraise\u001b[39;00m source\u001b[38;5;241m.\u001b[39merror(\u001b[38;5;124m\"\u001b[39m\u001b[38;5;124mnothing to repeat\u001b[39m\u001b[38;5;124m\"\u001b[39m,\n\u001b[0;32m    670\u001b[0m                        source\u001b[38;5;241m.\u001b[39mtell() \u001b[38;5;241m-\u001b[39m here \u001b[38;5;241m+\u001b[39m \u001b[38;5;28mlen\u001b[39m(this))\n\u001b[0;32m    671\u001b[0m \u001b[38;5;28;01mif\u001b[39;00m item[\u001b[38;5;241m0\u001b[39m][\u001b[38;5;241m0\u001b[39m] \u001b[38;5;129;01min\u001b[39;00m _REPEATCODES:\n\u001b[0;32m    672\u001b[0m     \u001b[38;5;28;01mraise\u001b[39;00m source\u001b[38;5;241m.\u001b[39merror(\u001b[38;5;124m\"\u001b[39m\u001b[38;5;124mmultiple repeat\u001b[39m\u001b[38;5;124m\"\u001b[39m,\n\u001b[0;32m    673\u001b[0m                        source\u001b[38;5;241m.\u001b[39mtell() \u001b[38;5;241m-\u001b[39m here \u001b[38;5;241m+\u001b[39m \u001b[38;5;28mlen\u001b[39m(this))\n",
      "\u001b[1;31merror\u001b[0m: nothing to repeat at position 0"
     ]
    }
   ],
   "source": [
    "text=\"8754512151 986568515 9983482226 9651034848 1236482136 7854303299\"\n",
    "pattern=r\"?:(8|9([0-6]+[0-9]+[0-5$]))\"\n",
    "# pattern=r\" \"\n",
    "x=re.findall(pattern,text)\n",
    "print(x)"
   ]
  },
  {
   "cell_type": "code",
   "execution_count": 393,
   "id": "bbf786f5",
   "metadata": {},
   "outputs": [
    {
     "ename": "error",
     "evalue": "nothing to repeat at position 0",
     "output_type": "error",
     "traceback": [
      "\u001b[1;31m---------------------------------------------------------------------------\u001b[0m",
      "\u001b[1;31merror\u001b[0m                                     Traceback (most recent call last)",
      "Cell \u001b[1;32mIn[393], line 4\u001b[0m\n\u001b[0;32m      2\u001b[0m pattern\u001b[38;5;241m=\u001b[39m\u001b[38;5;124mr\u001b[39m\u001b[38;5;124m\"\u001b[39m\u001b[38;5;124m?:(^8|9+([0-6]+[0-9]+[0-5$]))\u001b[39m\u001b[38;5;124m\"\u001b[39m\n\u001b[0;32m      3\u001b[0m \u001b[38;5;66;03m# pattern=r\" \"\u001b[39;00m\n\u001b[1;32m----> 4\u001b[0m x\u001b[38;5;241m=\u001b[39m\u001b[43mre\u001b[49m\u001b[38;5;241;43m.\u001b[39;49m\u001b[43mfindall\u001b[49m\u001b[43m(\u001b[49m\u001b[43mpattern\u001b[49m\u001b[43m,\u001b[49m\u001b[43mtext\u001b[49m\u001b[43m)\u001b[49m\n\u001b[0;32m      5\u001b[0m \u001b[38;5;28mprint\u001b[39m(x)\n",
      "File \u001b[1;32m~\\AppData\\Local\\Programs\\Python\\Python310\\lib\\re.py:240\u001b[0m, in \u001b[0;36mfindall\u001b[1;34m(pattern, string, flags)\u001b[0m\n\u001b[0;32m    232\u001b[0m \u001b[38;5;28;01mdef\u001b[39;00m \u001b[38;5;21mfindall\u001b[39m(pattern, string, flags\u001b[38;5;241m=\u001b[39m\u001b[38;5;241m0\u001b[39m):\n\u001b[0;32m    233\u001b[0m \u001b[38;5;250m    \u001b[39m\u001b[38;5;124;03m\"\"\"Return a list of all non-overlapping matches in the string.\u001b[39;00m\n\u001b[0;32m    234\u001b[0m \n\u001b[0;32m    235\u001b[0m \u001b[38;5;124;03m    If one or more capturing groups are present in the pattern, return\u001b[39;00m\n\u001b[1;32m   (...)\u001b[0m\n\u001b[0;32m    238\u001b[0m \n\u001b[0;32m    239\u001b[0m \u001b[38;5;124;03m    Empty matches are included in the result.\"\"\"\u001b[39;00m\n\u001b[1;32m--> 240\u001b[0m     \u001b[38;5;28;01mreturn\u001b[39;00m \u001b[43m_compile\u001b[49m\u001b[43m(\u001b[49m\u001b[43mpattern\u001b[49m\u001b[43m,\u001b[49m\u001b[43m \u001b[49m\u001b[43mflags\u001b[49m\u001b[43m)\u001b[49m\u001b[38;5;241m.\u001b[39mfindall(string)\n",
      "File \u001b[1;32m~\\AppData\\Local\\Programs\\Python\\Python310\\lib\\re.py:303\u001b[0m, in \u001b[0;36m_compile\u001b[1;34m(pattern, flags)\u001b[0m\n\u001b[0;32m    301\u001b[0m \u001b[38;5;28;01mif\u001b[39;00m \u001b[38;5;129;01mnot\u001b[39;00m sre_compile\u001b[38;5;241m.\u001b[39misstring(pattern):\n\u001b[0;32m    302\u001b[0m     \u001b[38;5;28;01mraise\u001b[39;00m \u001b[38;5;167;01mTypeError\u001b[39;00m(\u001b[38;5;124m\"\u001b[39m\u001b[38;5;124mfirst argument must be string or compiled pattern\u001b[39m\u001b[38;5;124m\"\u001b[39m)\n\u001b[1;32m--> 303\u001b[0m p \u001b[38;5;241m=\u001b[39m \u001b[43msre_compile\u001b[49m\u001b[38;5;241;43m.\u001b[39;49m\u001b[43mcompile\u001b[49m\u001b[43m(\u001b[49m\u001b[43mpattern\u001b[49m\u001b[43m,\u001b[49m\u001b[43m \u001b[49m\u001b[43mflags\u001b[49m\u001b[43m)\u001b[49m\n\u001b[0;32m    304\u001b[0m \u001b[38;5;28;01mif\u001b[39;00m \u001b[38;5;129;01mnot\u001b[39;00m (flags \u001b[38;5;241m&\u001b[39m DEBUG):\n\u001b[0;32m    305\u001b[0m     \u001b[38;5;28;01mif\u001b[39;00m \u001b[38;5;28mlen\u001b[39m(_cache) \u001b[38;5;241m>\u001b[39m\u001b[38;5;241m=\u001b[39m _MAXCACHE:\n\u001b[0;32m    306\u001b[0m         \u001b[38;5;66;03m# Drop the oldest item\u001b[39;00m\n",
      "File \u001b[1;32m~\\AppData\\Local\\Programs\\Python\\Python310\\lib\\sre_compile.py:788\u001b[0m, in \u001b[0;36mcompile\u001b[1;34m(p, flags)\u001b[0m\n\u001b[0;32m    786\u001b[0m \u001b[38;5;28;01mif\u001b[39;00m isstring(p):\n\u001b[0;32m    787\u001b[0m     pattern \u001b[38;5;241m=\u001b[39m p\n\u001b[1;32m--> 788\u001b[0m     p \u001b[38;5;241m=\u001b[39m \u001b[43msre_parse\u001b[49m\u001b[38;5;241;43m.\u001b[39;49m\u001b[43mparse\u001b[49m\u001b[43m(\u001b[49m\u001b[43mp\u001b[49m\u001b[43m,\u001b[49m\u001b[43m \u001b[49m\u001b[43mflags\u001b[49m\u001b[43m)\u001b[49m\n\u001b[0;32m    789\u001b[0m \u001b[38;5;28;01melse\u001b[39;00m:\n\u001b[0;32m    790\u001b[0m     pattern \u001b[38;5;241m=\u001b[39m \u001b[38;5;28;01mNone\u001b[39;00m\n",
      "File \u001b[1;32m~\\AppData\\Local\\Programs\\Python\\Python310\\lib\\sre_parse.py:955\u001b[0m, in \u001b[0;36mparse\u001b[1;34m(str, flags, state)\u001b[0m\n\u001b[0;32m    952\u001b[0m state\u001b[38;5;241m.\u001b[39mstr \u001b[38;5;241m=\u001b[39m \u001b[38;5;28mstr\u001b[39m\n\u001b[0;32m    954\u001b[0m \u001b[38;5;28;01mtry\u001b[39;00m:\n\u001b[1;32m--> 955\u001b[0m     p \u001b[38;5;241m=\u001b[39m \u001b[43m_parse_sub\u001b[49m\u001b[43m(\u001b[49m\u001b[43msource\u001b[49m\u001b[43m,\u001b[49m\u001b[43m \u001b[49m\u001b[43mstate\u001b[49m\u001b[43m,\u001b[49m\u001b[43m \u001b[49m\u001b[43mflags\u001b[49m\u001b[43m \u001b[49m\u001b[38;5;241;43m&\u001b[39;49m\u001b[43m \u001b[49m\u001b[43mSRE_FLAG_VERBOSE\u001b[49m\u001b[43m,\u001b[49m\u001b[43m \u001b[49m\u001b[38;5;241;43m0\u001b[39;49m\u001b[43m)\u001b[49m\n\u001b[0;32m    956\u001b[0m \u001b[38;5;28;01mexcept\u001b[39;00m Verbose:\n\u001b[0;32m    957\u001b[0m     \u001b[38;5;66;03m# the VERBOSE flag was switched on inside the pattern.  to be\u001b[39;00m\n\u001b[0;32m    958\u001b[0m     \u001b[38;5;66;03m# on the safe side, we'll parse the whole thing again...\u001b[39;00m\n\u001b[0;32m    959\u001b[0m     state \u001b[38;5;241m=\u001b[39m State()\n",
      "File \u001b[1;32m~\\AppData\\Local\\Programs\\Python\\Python310\\lib\\sre_parse.py:444\u001b[0m, in \u001b[0;36m_parse_sub\u001b[1;34m(source, state, verbose, nested)\u001b[0m\n\u001b[0;32m    442\u001b[0m start \u001b[38;5;241m=\u001b[39m source\u001b[38;5;241m.\u001b[39mtell()\n\u001b[0;32m    443\u001b[0m \u001b[38;5;28;01mwhile\u001b[39;00m \u001b[38;5;28;01mTrue\u001b[39;00m:\n\u001b[1;32m--> 444\u001b[0m     itemsappend(\u001b[43m_parse\u001b[49m\u001b[43m(\u001b[49m\u001b[43msource\u001b[49m\u001b[43m,\u001b[49m\u001b[43m \u001b[49m\u001b[43mstate\u001b[49m\u001b[43m,\u001b[49m\u001b[43m \u001b[49m\u001b[43mverbose\u001b[49m\u001b[43m,\u001b[49m\u001b[43m \u001b[49m\u001b[43mnested\u001b[49m\u001b[43m \u001b[49m\u001b[38;5;241;43m+\u001b[39;49m\u001b[43m \u001b[49m\u001b[38;5;241;43m1\u001b[39;49m\u001b[43m,\u001b[49m\n\u001b[0;32m    445\u001b[0m \u001b[43m                       \u001b[49m\u001b[38;5;129;43;01mnot\u001b[39;49;00m\u001b[43m \u001b[49m\u001b[43mnested\u001b[49m\u001b[43m \u001b[49m\u001b[38;5;129;43;01mand\u001b[39;49;00m\u001b[43m \u001b[49m\u001b[38;5;129;43;01mnot\u001b[39;49;00m\u001b[43m \u001b[49m\u001b[43mitems\u001b[49m\u001b[43m)\u001b[49m)\n\u001b[0;32m    446\u001b[0m     \u001b[38;5;28;01mif\u001b[39;00m \u001b[38;5;129;01mnot\u001b[39;00m sourcematch(\u001b[38;5;124m\"\u001b[39m\u001b[38;5;124m|\u001b[39m\u001b[38;5;124m\"\u001b[39m):\n\u001b[0;32m    447\u001b[0m         \u001b[38;5;28;01mbreak\u001b[39;00m\n",
      "File \u001b[1;32m~\\AppData\\Local\\Programs\\Python\\Python310\\lib\\sre_parse.py:669\u001b[0m, in \u001b[0;36m_parse\u001b[1;34m(source, state, verbose, nested, first)\u001b[0m\n\u001b[0;32m    667\u001b[0m     item \u001b[38;5;241m=\u001b[39m \u001b[38;5;28;01mNone\u001b[39;00m\n\u001b[0;32m    668\u001b[0m \u001b[38;5;28;01mif\u001b[39;00m \u001b[38;5;129;01mnot\u001b[39;00m item \u001b[38;5;129;01mor\u001b[39;00m item[\u001b[38;5;241m0\u001b[39m][\u001b[38;5;241m0\u001b[39m] \u001b[38;5;129;01mis\u001b[39;00m AT:\n\u001b[1;32m--> 669\u001b[0m     \u001b[38;5;28;01mraise\u001b[39;00m source\u001b[38;5;241m.\u001b[39merror(\u001b[38;5;124m\"\u001b[39m\u001b[38;5;124mnothing to repeat\u001b[39m\u001b[38;5;124m\"\u001b[39m,\n\u001b[0;32m    670\u001b[0m                        source\u001b[38;5;241m.\u001b[39mtell() \u001b[38;5;241m-\u001b[39m here \u001b[38;5;241m+\u001b[39m \u001b[38;5;28mlen\u001b[39m(this))\n\u001b[0;32m    671\u001b[0m \u001b[38;5;28;01mif\u001b[39;00m item[\u001b[38;5;241m0\u001b[39m][\u001b[38;5;241m0\u001b[39m] \u001b[38;5;129;01min\u001b[39;00m _REPEATCODES:\n\u001b[0;32m    672\u001b[0m     \u001b[38;5;28;01mraise\u001b[39;00m source\u001b[38;5;241m.\u001b[39merror(\u001b[38;5;124m\"\u001b[39m\u001b[38;5;124mmultiple repeat\u001b[39m\u001b[38;5;124m\"\u001b[39m,\n\u001b[0;32m    673\u001b[0m                        source\u001b[38;5;241m.\u001b[39mtell() \u001b[38;5;241m-\u001b[39m here \u001b[38;5;241m+\u001b[39m \u001b[38;5;28mlen\u001b[39m(this))\n",
      "\u001b[1;31merror\u001b[0m: nothing to repeat at position 0"
     ]
    }
   ],
   "source": [
    "text=\"8754512151 986568515 9983482226 9651034848 1236482136 7854303299\"\n",
    "pattern=r\"?:(^8|9+([0-6]+[0-9]+[0-5$]))\"\n",
    "# pattern=r\" \"\n",
    "x=re.findall(pattern,text)\n",
    "print(x)"
   ]
  },
  {
   "cell_type": "code",
   "execution_count": 394,
   "id": "a040268d",
   "metadata": {},
   "outputs": [
    {
     "name": "stdout",
     "output_type": "stream",
     "text": [
      "<callable_iterator object at 0x000002044A04A7A0>\n"
     ]
    }
   ],
   "source": [
    "text=\"8754512151 986568515 9983482226 9651034848 1236482136 7854303299\"\n",
    "pattern=\"^8+[0-9]+\"\n",
    "x=re.finditer(pattern,text)\n",
    "print(x)"
   ]
  },
  {
   "cell_type": "code",
   "execution_count": 395,
   "id": "a0c66a78",
   "metadata": {},
   "outputs": [
    {
     "name": "stdout",
     "output_type": "stream",
     "text": [
      "<re.Match object; span=(0, 10), match='8754512151'>\n"
     ]
    }
   ],
   "source": [
    "for i in x:\n",
    "    print(i)"
   ]
  },
  {
   "cell_type": "code",
   "execution_count": 396,
   "id": "772147c1",
   "metadata": {},
   "outputs": [
    {
     "name": "stdout",
     "output_type": "stream",
     "text": [
      "['8754512151', '86568515', '83482226', '848', '82136', '854303299']\n"
     ]
    }
   ],
   "source": [
    "text=\"8754512151 986568515 9983482226 9651034848 1236482136 7854303299\"\n",
    "pattern=\"8+[0-9]+\"\n",
    "x=re.findall(pattern,text)\n",
    "print(x)"
   ]
  },
  {
   "cell_type": "code",
   "execution_count": 397,
   "id": "dbfa8a12",
   "metadata": {},
   "outputs": [
    {
     "name": "stdout",
     "output_type": "stream",
     "text": [
      "[]\n"
     ]
    }
   ],
   "source": [
    "pattern=r\"^t+[a-z,A-Z]+\"\n",
    "text=\"hello this is dtmo ti\"\n",
    "x=re.findall(pattern,text)\n",
    "print(x)"
   ]
  },
  {
   "cell_type": "code",
   "execution_count": 398,
   "id": "18f48a4d",
   "metadata": {},
   "outputs": [
    {
     "name": "stdout",
     "output_type": "stream",
     "text": [
      "[('986568515', '986568515', '86568515'), ('9983482226', '9983482226', '983482226'), ('9651034848', '9651034848', '651034848'), ('99', '99', '9')]\n"
     ]
    }
   ],
   "source": [
    "pattern=r\"((9([0-9]+)))\"\n",
    "text=\"8754512151 986568515 9983482226 9651034848 1236482136 7854303299\"\n",
    "x=re.findall(pattern,text)\n",
    "print(x)"
   ]
  },
  {
   "cell_type": "code",
   "execution_count": 399,
   "id": "7ef30928",
   "metadata": {},
   "outputs": [],
   "source": [
    "d=\"dog bite man\""
   ]
  },
  {
   "cell_type": "code",
   "execution_count": 400,
   "id": "1e9da7da",
   "metadata": {},
   "outputs": [
    {
     "data": {
      "text/plain": [
       "'man bite dog'"
      ]
     },
     "execution_count": 400,
     "metadata": {},
     "output_type": "execute_result"
    }
   ],
   "source": [
    "\"man bite dog\""
   ]
  },
  {
   "cell_type": "code",
   "execution_count": 401,
   "id": "bd720f1f",
   "metadata": {},
   "outputs": [
    {
     "data": {
      "text/plain": [
       "'nam etib god'"
      ]
     },
     "execution_count": 401,
     "metadata": {},
     "output_type": "execute_result"
    }
   ],
   "source": [
    "d[::-1]"
   ]
  },
  {
   "cell_type": "code",
   "execution_count": 402,
   "id": "e5f4ed4d",
   "metadata": {},
   "outputs": [
    {
     "data": {
      "text/plain": [
       "'man bite dog'"
      ]
     },
     "execution_count": 402,
     "metadata": {},
     "output_type": "execute_result"
    }
   ],
   "source": [
    "d=\"dog bite man\"\n",
    "f=d.split(' ')[::-1]\n",
    "d=' '.join(f)\n",
    "d"
   ]
  },
  {
   "cell_type": "code",
   "execution_count": 403,
   "id": "65675672",
   "metadata": {},
   "outputs": [
    {
     "data": {
      "text/plain": [
       "'man bite dog'"
      ]
     },
     "execution_count": 403,
     "metadata": {},
     "output_type": "execute_result"
    }
   ],
   "source": [
    "d=' '.join(f)\n",
    "d"
   ]
  },
  {
   "cell_type": "code",
   "execution_count": 404,
   "id": "ca91e37d",
   "metadata": {},
   "outputs": [],
   "source": [
    "a=f.reverse()"
   ]
  },
  {
   "cell_type": "code",
   "execution_count": 405,
   "id": "0d461321",
   "metadata": {},
   "outputs": [
    {
     "name": "stdout",
     "output_type": "stream",
     "text": [
      "None\n"
     ]
    }
   ],
   "source": [
    "print(a)"
   ]
  },
  {
   "cell_type": "code",
   "execution_count": 406,
   "id": "8143ef4b",
   "metadata": {},
   "outputs": [],
   "source": [
    "f=12562362"
   ]
  },
  {
   "cell_type": "code",
   "execution_count": 407,
   "id": "5de54012",
   "metadata": {},
   "outputs": [],
   "source": [
    "fd=str(f)[::-1]"
   ]
  },
  {
   "cell_type": "code",
   "execution_count": 408,
   "id": "fb5c8ec6",
   "metadata": {},
   "outputs": [
    {
     "data": {
      "text/plain": [
       "'26326521'"
      ]
     },
     "execution_count": 408,
     "metadata": {},
     "output_type": "execute_result"
    }
   ],
   "source": [
    "fd"
   ]
  },
  {
   "cell_type": "code",
   "execution_count": 409,
   "id": "596eeca5",
   "metadata": {},
   "outputs": [
    {
     "data": {
      "text/plain": [
       "26326521"
      ]
     },
     "execution_count": 409,
     "metadata": {},
     "output_type": "execute_result"
    }
   ],
   "source": [
    "int(fd)"
   ]
  },
  {
   "cell_type": "code",
   "execution_count": 410,
   "id": "fdf24038",
   "metadata": {},
   "outputs": [],
   "source": [
    "d=\"dog bite man\""
   ]
  },
  {
   "cell_type": "code",
   "execution_count": 411,
   "id": "ade0c4c0",
   "metadata": {},
   "outputs": [],
   "source": [
    "f=d.split(' ')"
   ]
  },
  {
   "cell_type": "code",
   "execution_count": 321,
   "id": "518cf57b",
   "metadata": {},
   "outputs": [],
   "source": [
    "l=[]\n",
    "for i in f:\n",
    "    l.append(i)\n",
    "#     print(l)\n",
    "k=l.reverse()\n",
    "k"
   ]
  },
  {
   "cell_type": "code",
   "execution_count": 322,
   "id": "1d919eaa",
   "metadata": {},
   "outputs": [
    {
     "name": "stdout",
     "output_type": "stream",
     "text": [
      "None\n"
     ]
    }
   ],
   "source": [
    "print(k)"
   ]
  },
  {
   "cell_type": "code",
   "execution_count": 310,
   "id": "1b5532bc",
   "metadata": {},
   "outputs": [
    {
     "name": "stdout",
     "output_type": "stream",
     "text": [
      "['__add__', '__class__', '__class_getitem__', '__contains__', '__delattr__', '__delitem__', '__dir__', '__doc__', '__eq__', '__format__', '__ge__', '__getattribute__', '__getitem__', '__gt__', '__hash__', '__iadd__', '__imul__', '__init__', '__init_subclass__', '__iter__', '__le__', '__len__', '__lt__', '__mul__', '__ne__', '__new__', '__reduce__', '__reduce_ex__', '__repr__', '__reversed__', '__rmul__', '__setattr__', '__setitem__', '__sizeof__', '__str__', '__subclasshook__', 'append', 'clear', 'copy', 'count', 'extend', 'index', 'insert', 'pop', 'remove', 'reverse', 'sort']\n"
     ]
    }
   ],
   "source": [
    "print(dir(f))"
   ]
  },
  {
   "cell_type": "code",
   "execution_count": 344,
   "id": "46560bc5",
   "metadata": {},
   "outputs": [
    {
     "name": "stdout",
     "output_type": "stream",
     "text": [
      "[]\n"
     ]
    }
   ],
   "source": [
    "pattern=r\"\\d{1}(^8?)\\d{8}\"\n",
    "text=\"8754512151 986568515 9983482226 9651034848 1236482136 7854303299\"\n",
    "x=re.findall(pattern,text)\n",
    "print(x)"
   ]
  },
  {
   "cell_type": "code",
   "execution_count": null,
   "id": "7a5dfd16",
   "metadata": {},
   "outputs": [],
   "source": [
    "/^4(0|1|3)[0-9]{6}$/"
   ]
  },
  {
   "cell_type": "code",
   "execution_count": 372,
   "id": "2f1c7955",
   "metadata": {},
   "outputs": [
    {
     "name": "stdout",
     "output_type": "stream",
     "text": [
      "[]\n"
     ]
    }
   ],
   "source": [
    "pattern=r\"\\b(^8[0|1|2]+[0-9]$)\\b\"\n",
    "text=\"8754512151 986568515 9983482226 9651034848 1236482136 7854303299\"\n",
    "x=re.findall(pattern,text)\n",
    "print(x)"
   ]
  },
  {
   "cell_type": "code",
   "execution_count": 379,
   "id": "4cff81c4",
   "metadata": {},
   "outputs": [
    {
     "name": "stdout",
     "output_type": "stream",
     "text": [
      "['8003523012']\n"
     ]
    }
   ],
   "source": [
    "pattern=r\"(^8[0-9]+)\"\n",
    "text=\"8754512151 986568515 9983482226 9651034848 1236482136 7854303299\"\n",
    "x=re.findall(pattern,text)\n",
    "print(x)"
   ]
  },
  {
   "cell_type": "code",
   "execution_count": 383,
   "id": "bbc8d4aa",
   "metadata": {},
   "outputs": [
    {
     "name": "stdout",
     "output_type": "stream",
     "text": [
      "    H\n",
      "  HHH\n",
      " HHHHH\n",
      " HHHHHHH\n",
      "HHHHHHHH     HHHHHHHH\n",
      "HHHHHHHH     HHHHHHHH\n",
      "HHHHHHHH     HHHHHHHH\n",
      "HHHHHHHH     HHHHHHHH\n",
      "HHHHHHHH     HHHHHHHH\n",
      "HHHHHHHH     HHHHHHHH\n",
      "HHHHHHHH     HHHHHHHH\n",
      "HHHHHHHH     HHHHHHHH\n",
      "HHHHHHHHHHHHHHHHHHHHHHHH\n",
      "HHHHHHHHHHHHHHHHHHHHHHHH\n",
      "HHHHHHHHHHHHHHHHHHHHHHHH\n",
      "HHHHHHHHHHHHHHHHHHHHHHHH\n",
      "HHHHHHHHHHHHHHHHHHHHHHHH\n",
      "HHHHHHHHHHHHHHHHHHHHHHHH\n",
      "HHHHHHHHHHHHHHHHHHHHHHHH\n",
      "HHHHHHHHHHHHHHHHHHHHHHHH\n",
      "HHHHHHHH     HHHHHHHH\n",
      "HHHHHHHH     HHHHHHHH\n",
      "HHHHHHHH     HHHHHHHH\n",
      "HHHHHHHH     HHHHHHHH\n",
      "HHHHHHHH     HHHHHHHH\n",
      "HHHHHHHH     HHHHHHHH\n",
      "HHHHHHHH     HHHHHHHH\n",
      "HHHHHHHH     HHHHHHHH\n"
     ]
    }
   ],
   "source": [
    "n=8\n",
    "for i in range(n):\n",
    "    if i%2==1:\n",
    "        print(\" \"*((n//2)-i), \"H\"*i)\n",
    "\n",
    "width=10\n",
    "for i in range(n):\n",
    "    print((\"H\"*n).ljust(width,\" \"),(\"H\"*n).rjust(width,\" \"))\n",
    "#     print((\"H\"*5).rjust(width,\" \"))\n",
    "for i in range(n):\n",
    "    print(\"H\"*(n*3))\n",
    "for i in range(n):\n",
    "    print((\"H\"*n).ljust(width,\" \"),(\"H\"*n).rjust(width,\" \"))"
   ]
  },
  {
   "cell_type": "code",
   "execution_count": 417,
   "id": "197702d9",
   "metadata": {},
   "outputs": [
    {
     "name": "stdout",
     "output_type": "stream",
     "text": [
      "['8754512151']\n"
     ]
    }
   ],
   "source": [
    "pattern=r\"^[8|9]+[0-9]+\"\n",
    "text=\"8754512151 986568515 9983482226 9651034848 1236482136 854303299\"\n",
    "x=re.findall(pattern,text)\n",
    "print(x)"
   ]
  },
  {
   "cell_type": "code",
   "execution_count": 418,
   "id": "4b942837",
   "metadata": {},
   "outputs": [],
   "source": [
    "def mid(x):\n",
    "    d=len(x)\n",
    "    if d%2==1:\n",
    "        g=(d//2)\n",
    "        return x[g]\n",
    "    else:\n",
    "        return \"\""
   ]
  },
  {
   "cell_type": "code",
   "execution_count": 419,
   "id": "8e4dd6f9",
   "metadata": {},
   "outputs": [],
   "source": [
    "def random_number():\n",
    "    import random\n",
    "    d=random.randint(1,100)\n",
    "    return d"
   ]
  },
  {
   "cell_type": "code",
   "execution_count": 442,
   "id": "a34f33d4",
   "metadata": {},
   "outputs": [],
   "source": [
    "def only_ints(x,y):\n",
    "    try:\n",
    "        if x==int(x) and y==int(y):\n",
    "            return True\n",
    "    except:\n",
    "        return False"
   ]
  },
  {
   "cell_type": "code",
   "execution_count": 443,
   "id": "3c484ad0",
   "metadata": {},
   "outputs": [
    {
     "data": {
      "text/plain": [
       "False"
      ]
     },
     "execution_count": 443,
     "metadata": {},
     "output_type": "execute_result"
    }
   ],
   "source": [
    "only_ints(12,'a')"
   ]
  },
  {
   "cell_type": "code",
   "execution_count": 455,
   "id": "d5d5abc4",
   "metadata": {},
   "outputs": [
    {
     "data": {
      "text/plain": [
       "False"
      ]
     },
     "execution_count": 455,
     "metadata": {},
     "output_type": "execute_result"
    }
   ],
   "source": [
    "only_ints(12,True)"
   ]
  },
  {
   "cell_type": "code",
   "execution_count": 457,
   "id": "6572ef6d",
   "metadata": {},
   "outputs": [
    {
     "data": {
      "text/plain": [
       "False"
      ]
     },
     "execution_count": 457,
     "metadata": {},
     "output_type": "execute_result"
    }
   ],
   "source": [
    "only_ints(True,True)"
   ]
  },
  {
   "cell_type": "code",
   "execution_count": 446,
   "id": "65ac752a",
   "metadata": {},
   "outputs": [
    {
     "data": {
      "text/plain": [
       "1"
      ]
     },
     "execution_count": 446,
     "metadata": {},
     "output_type": "execute_result"
    }
   ],
   "source": [
    "int(True)"
   ]
  },
  {
   "cell_type": "code",
   "execution_count": 448,
   "id": "bb8da2b7",
   "metadata": {},
   "outputs": [],
   "source": [
    "x=5"
   ]
  },
  {
   "cell_type": "code",
   "execution_count": 449,
   "id": "9f82f8fb",
   "metadata": {},
   "outputs": [
    {
     "data": {
      "text/plain": [
       "int"
      ]
     },
     "execution_count": 449,
     "metadata": {},
     "output_type": "execute_result"
    }
   ],
   "source": [
    "type(x)"
   ]
  },
  {
   "cell_type": "code",
   "execution_count": 450,
   "id": "119e86f1",
   "metadata": {},
   "outputs": [
    {
     "data": {
      "text/plain": [
       "bool"
      ]
     },
     "execution_count": 450,
     "metadata": {},
     "output_type": "execute_result"
    }
   ],
   "source": [
    "type(True)"
   ]
  },
  {
   "cell_type": "code",
   "execution_count": 456,
   "id": "ec159714",
   "metadata": {},
   "outputs": [],
   "source": [
    "def only_ints(x,y):\n",
    "    if type(x)==int and type(y)==int:\n",
    "            return True\n",
    "    else:\n",
    "        return False"
   ]
  },
  {
   "cell_type": "code",
   "execution_count": null,
   "id": "b24928fc",
   "metadata": {},
   "outputs": [],
   "source": []
  }
 ],
 "metadata": {
  "kernelspec": {
   "display_name": "Python 3 (ipykernel)",
   "language": "python",
   "name": "python3"
  },
  "language_info": {
   "codemirror_mode": {
    "name": "ipython",
    "version": 3
   },
   "file_extension": ".py",
   "mimetype": "text/x-python",
   "name": "python",
   "nbconvert_exporter": "python",
   "pygments_lexer": "ipython3",
   "version": "3.9.12"
  }
 },
 "nbformat": 4,
 "nbformat_minor": 5
}
