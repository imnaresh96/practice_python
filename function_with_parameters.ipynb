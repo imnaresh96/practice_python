{
 "cells": [
  {
   "cell_type": "markdown",
   "id": "6f1639b4",
   "metadata": {},
   "source": [
    "###  parameters function"
   ]
  },
  {
   "cell_type": "code",
   "execution_count": 1,
   "id": "996b2408",
   "metadata": {},
   "outputs": [],
   "source": [
    "def name(name):\n",
    "    print(name)"
   ]
  },
  {
   "cell_type": "code",
   "execution_count": 2,
   "id": "855a3e8f",
   "metadata": {},
   "outputs": [
    {
     "name": "stdout",
     "output_type": "stream",
     "text": [
      "naresh\n"
     ]
    }
   ],
   "source": [
    "name('naresh')"
   ]
  },
  {
   "cell_type": "markdown",
   "id": "16e34af8",
   "metadata": {},
   "source": [
    "kumar=name('naresh')"
   ]
  },
  {
   "cell_type": "raw",
   "id": "0c5afaaf",
   "metadata": {},
   "source": [
    "kumar"
   ]
  },
  {
   "cell_type": "code",
   "execution_count": 8,
   "id": "7a6608cc",
   "metadata": {},
   "outputs": [
    {
     "name": "stdout",
     "output_type": "stream",
     "text": [
      "naresh\n",
      "None\n"
     ]
    }
   ],
   "source": [
    "print(name('naresh'))"
   ]
  },
  {
   "cell_type": "markdown",
   "id": "1e41821b",
   "metadata": {},
   "source": [
    "### parameters and return value"
   ]
  },
  {
   "cell_type": "code",
   "execution_count": 3,
   "id": "26bdfc01",
   "metadata": {},
   "outputs": [],
   "source": [
    "def id(name):\n",
    "    return name"
   ]
  },
  {
   "cell_type": "code",
   "execution_count": 4,
   "id": "5e1bbe87",
   "metadata": {},
   "outputs": [
    {
     "data": {
      "text/plain": [
       "6564"
      ]
     },
     "execution_count": 4,
     "metadata": {},
     "output_type": "execute_result"
    }
   ],
   "source": [
    "id(6564)"
   ]
  },
  {
   "cell_type": "code",
   "execution_count": 5,
   "id": "10d14763",
   "metadata": {},
   "outputs": [],
   "source": [
    "naresh=id(4568748)"
   ]
  },
  {
   "cell_type": "code",
   "execution_count": 9,
   "id": "8d399033",
   "metadata": {},
   "outputs": [
    {
     "name": "stdout",
     "output_type": "stream",
     "text": [
      "4546\n"
     ]
    }
   ],
   "source": [
    "print(id(4546))"
   ]
  },
  {
   "cell_type": "markdown",
   "id": "8ea86d62",
   "metadata": {},
   "source": [
    "## return boolean value"
   ]
  },
  {
   "cell_type": "code",
   "execution_count": 16,
   "id": "2aaf015c",
   "metadata": {},
   "outputs": [],
   "source": [
    "def iseven(*x):\n",
    "    for i in x:\n",
    "        if i%2==0:\n",
    "            return True\n",
    "        return False\n"
   ]
  },
  {
   "cell_type": "code",
   "execution_count": 19,
   "id": "e32cb21b",
   "metadata": {},
   "outputs": [
    {
     "data": {
      "text/plain": [
       "False"
      ]
     },
     "execution_count": 19,
     "metadata": {},
     "output_type": "execute_result"
    }
   ],
   "source": [
    "iseven(1,2,5)"
   ]
  },
  {
   "cell_type": "code",
   "execution_count": 13,
   "id": "d5aef663",
   "metadata": {},
   "outputs": [
    {
     "data": {
      "text/plain": [
       "False"
      ]
     },
     "execution_count": 13,
     "metadata": {},
     "output_type": "execute_result"
    }
   ],
   "source": [
    "iseven(7)"
   ]
  },
  {
   "cell_type": "code",
   "execution_count": null,
   "id": "f34cfc53",
   "metadata": {},
   "outputs": [],
   "source": []
  }
 ],
 "metadata": {
  "kernelspec": {
   "display_name": "Python 3 (ipykernel)",
   "language": "python",
   "name": "python3"
  },
  "language_info": {
   "codemirror_mode": {
    "name": "ipython",
    "version": 3
   },
   "file_extension": ".py",
   "mimetype": "text/x-python",
   "name": "python",
   "nbconvert_exporter": "python",
   "pygments_lexer": "ipython3",
   "version": "3.9.12"
  }
 },
 "nbformat": 4,
 "nbformat_minor": 5
}
