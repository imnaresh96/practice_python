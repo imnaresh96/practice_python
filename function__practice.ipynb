{
 "cells": [
  {
   "cell_type": "code",
   "execution_count": 1,
   "id": "d679be76",
   "metadata": {},
   "outputs": [],
   "source": [
    "# simple function non returning function"
   ]
  },
  {
   "cell_type": "code",
   "execution_count": 10,
   "id": "11c62354",
   "metadata": {},
   "outputs": [],
   "source": [
    "def hello():\n",
    "    print('hello function')"
   ]
  },
  {
   "cell_type": "code",
   "execution_count": 11,
   "id": "284bd41c",
   "metadata": {},
   "outputs": [
    {
     "name": "stdout",
     "output_type": "stream",
     "text": [
      "hello function\n"
     ]
    }
   ],
   "source": [
    "hello()"
   ]
  },
  {
   "cell_type": "code",
   "execution_count": 12,
   "id": "eb591015",
   "metadata": {},
   "outputs": [
    {
     "name": "stdout",
     "output_type": "stream",
     "text": [
      "hello function\n"
     ]
    }
   ],
   "source": [
    "a=hello()"
   ]
  },
  {
   "cell_type": "code",
   "execution_count": 13,
   "id": "5174cf0a",
   "metadata": {},
   "outputs": [],
   "source": [
    "a"
   ]
  },
  {
   "cell_type": "code",
   "execution_count": 14,
   "id": "e0c67bcc",
   "metadata": {},
   "outputs": [
    {
     "data": {
      "text/plain": [
       "NoneType"
      ]
     },
     "execution_count": 14,
     "metadata": {},
     "output_type": "execute_result"
    }
   ],
   "source": [
    "type(a)"
   ]
  },
  {
   "cell_type": "code",
   "execution_count": 5,
   "id": "6be1f16c",
   "metadata": {},
   "outputs": [],
   "source": [
    "# simple function returning function"
   ]
  },
  {
   "cell_type": "code",
   "execution_count": 15,
   "id": "76542ec6",
   "metadata": {},
   "outputs": [],
   "source": [
    "def hello():\n",
    "    return ('hello function')"
   ]
  },
  {
   "cell_type": "code",
   "execution_count": 16,
   "id": "e0ed7bb5",
   "metadata": {},
   "outputs": [
    {
     "data": {
      "text/plain": [
       "'hello function'"
      ]
     },
     "execution_count": 16,
     "metadata": {},
     "output_type": "execute_result"
    }
   ],
   "source": [
    "hello()"
   ]
  },
  {
   "cell_type": "code",
   "execution_count": 17,
   "id": "ce28ae37",
   "metadata": {},
   "outputs": [],
   "source": [
    "a=hello()"
   ]
  },
  {
   "cell_type": "code",
   "execution_count": 18,
   "id": "225e6051",
   "metadata": {},
   "outputs": [
    {
     "data": {
      "text/plain": [
       "'hello function'"
      ]
     },
     "execution_count": 18,
     "metadata": {},
     "output_type": "execute_result"
    }
   ],
   "source": [
    "a"
   ]
  },
  {
   "cell_type": "code",
   "execution_count": 19,
   "id": "face7c13",
   "metadata": {},
   "outputs": [
    {
     "data": {
      "text/plain": [
       "str"
      ]
     },
     "execution_count": 19,
     "metadata": {},
     "output_type": "execute_result"
    }
   ],
   "source": [
    "type(a)"
   ]
  },
  {
   "cell_type": "code",
   "execution_count": 20,
   "id": "d9d4e009",
   "metadata": {},
   "outputs": [],
   "source": [
    "# function argument"
   ]
  },
  {
   "cell_type": "code",
   "execution_count": 24,
   "id": "af3d2cf5",
   "metadata": {},
   "outputs": [],
   "source": [
    "def hello(name):\n",
    "    return(f'hello {name} !')"
   ]
  },
  {
   "cell_type": "code",
   "execution_count": 25,
   "id": "09faa3b2",
   "metadata": {},
   "outputs": [
    {
     "ename": "TypeError",
     "evalue": "hello() missing 1 required positional argument: 'name'",
     "output_type": "error",
     "traceback": [
      "\u001b[1;31m---------------------------------------------------------------------------\u001b[0m",
      "\u001b[1;31mTypeError\u001b[0m                                 Traceback (most recent call last)",
      "Input \u001b[1;32mIn [25]\u001b[0m, in \u001b[0;36m<cell line: 1>\u001b[1;34m()\u001b[0m\n\u001b[1;32m----> 1\u001b[0m \u001b[43mhello\u001b[49m\u001b[43m(\u001b[49m\u001b[43m)\u001b[49m\n",
      "\u001b[1;31mTypeError\u001b[0m: hello() missing 1 required positional argument: 'name'"
     ]
    }
   ],
   "source": [
    "hello()"
   ]
  },
  {
   "cell_type": "code",
   "execution_count": 26,
   "id": "2a0c64da",
   "metadata": {},
   "outputs": [
    {
     "data": {
      "text/plain": [
       "'hello Naresh !'"
      ]
     },
     "execution_count": 26,
     "metadata": {},
     "output_type": "execute_result"
    }
   ],
   "source": [
    "hello('Naresh')"
   ]
  },
  {
   "cell_type": "code",
   "execution_count": 29,
   "id": "968b430d",
   "metadata": {},
   "outputs": [],
   "source": [
    "def add(x,y):\n",
    "    return x+y"
   ]
  },
  {
   "cell_type": "code",
   "execution_count": 30,
   "id": "4f93863b",
   "metadata": {},
   "outputs": [
    {
     "data": {
      "text/plain": [
       "14"
      ]
     },
     "execution_count": 30,
     "metadata": {},
     "output_type": "execute_result"
    }
   ],
   "source": [
    "add(5,9)"
   ]
  },
  {
   "cell_type": "code",
   "execution_count": 31,
   "id": "045f74e7",
   "metadata": {},
   "outputs": [],
   "source": [
    "# positional argument"
   ]
  },
  {
   "cell_type": "code",
   "execution_count": 38,
   "id": "fa01fd21",
   "metadata": {},
   "outputs": [],
   "source": [
    "def info(name,age):\n",
    "    return (f\"hello {name} ! Your Age Is {age} \")"
   ]
  },
  {
   "cell_type": "code",
   "execution_count": 39,
   "id": "4abc59e1",
   "metadata": {},
   "outputs": [
    {
     "data": {
      "text/plain": [
       "'hello naresh ! Your Age Is 26 '"
      ]
     },
     "execution_count": 39,
     "metadata": {},
     "output_type": "execute_result"
    }
   ],
   "source": [
    "info('naresh',26)"
   ]
  },
  {
   "cell_type": "code",
   "execution_count": 41,
   "id": "4583951d",
   "metadata": {},
   "outputs": [
    {
     "data": {
      "text/plain": [
       "'hello 26 ! Your Age Is naresh '"
      ]
     },
     "execution_count": 41,
     "metadata": {},
     "output_type": "execute_result"
    }
   ],
   "source": [
    "info(26,'naresh')"
   ]
  },
  {
   "cell_type": "code",
   "execution_count": 43,
   "id": "eb8656be",
   "metadata": {},
   "outputs": [],
   "source": [
    "# keyword argument"
   ]
  },
  {
   "cell_type": "code",
   "execution_count": 42,
   "id": "9a802a87",
   "metadata": {},
   "outputs": [
    {
     "data": {
      "text/plain": [
       "'hello naresh ! Your Age Is 26 '"
      ]
     },
     "execution_count": 42,
     "metadata": {},
     "output_type": "execute_result"
    }
   ],
   "source": [
    "info(age=26,name='naresh')"
   ]
  },
  {
   "cell_type": "code",
   "execution_count": 44,
   "id": "0ad840d4",
   "metadata": {},
   "outputs": [],
   "source": [
    "# default argument"
   ]
  },
  {
   "cell_type": "code",
   "execution_count": 47,
   "id": "98070983",
   "metadata": {},
   "outputs": [],
   "source": [
    "def info(name='Naresh', Roll_Num=263):\n",
    "    return (f\"hello {name}! Your Roll Number is {Roll_Num} \")"
   ]
  },
  {
   "cell_type": "code",
   "execution_count": 49,
   "id": "187883f7",
   "metadata": {},
   "outputs": [
    {
     "data": {
      "text/plain": [
       "'hello Naresh! Your Roll Number is 263 '"
      ]
     },
     "execution_count": 49,
     "metadata": {},
     "output_type": "execute_result"
    }
   ],
   "source": [
    "info()"
   ]
  },
  {
   "cell_type": "code",
   "execution_count": 50,
   "id": "95ae9eaf",
   "metadata": {},
   "outputs": [
    {
     "data": {
      "text/plain": [
       "'hello Kailash! Your Roll Number is 265 '"
      ]
     },
     "execution_count": 50,
     "metadata": {},
     "output_type": "execute_result"
    }
   ],
   "source": [
    "info('Kailash',265)"
   ]
  },
  {
   "cell_type": "code",
   "execution_count": 51,
   "id": "32d88e1d",
   "metadata": {},
   "outputs": [
    {
     "data": {
      "text/plain": [
       "'hello Naresh! Your Roll Number is 263 '"
      ]
     },
     "execution_count": 51,
     "metadata": {},
     "output_type": "execute_result"
    }
   ],
   "source": [
    "info('Naresh')"
   ]
  },
  {
   "cell_type": "code",
   "execution_count": 52,
   "id": "f997f676",
   "metadata": {},
   "outputs": [],
   "source": [
    "#arbitrary argument list argument list(*args)"
   ]
  },
  {
   "cell_type": "code",
   "execution_count": 54,
   "id": "671d4043",
   "metadata": {},
   "outputs": [],
   "source": [
    "def add(*number):\n",
    "    b=0\n",
    "    for i in number:\n",
    "        b+=i\n",
    "    return b"
   ]
  },
  {
   "cell_type": "code",
   "execution_count": 55,
   "id": "f5fd95d6",
   "metadata": {},
   "outputs": [
    {
     "data": {
      "text/plain": [
       "37"
      ]
     },
     "execution_count": 55,
     "metadata": {},
     "output_type": "execute_result"
    }
   ],
   "source": [
    "add(5,4,6,8,9,5)"
   ]
  },
  {
   "cell_type": "code",
   "execution_count": 56,
   "id": "69b45ad1",
   "metadata": {},
   "outputs": [],
   "source": [
    "# arbitrary keyword argument (**args)"
   ]
  },
  {
   "cell_type": "code",
   "execution_count": 77,
   "id": "ec8c8dfc",
   "metadata": {},
   "outputs": [],
   "source": [
    "def info(name,age,**data):\n",
    "    user={\n",
    "        'name':name,\n",
    "        'age':age,\n",
    "    }\n",
    "    user.update(data)\n",
    "    return user"
   ]
  },
  {
   "cell_type": "code",
   "execution_count": 78,
   "id": "b2310f95",
   "metadata": {},
   "outputs": [
    {
     "data": {
      "text/plain": [
       "{'name': 'naresh', 'age': 26}"
      ]
     },
     "execution_count": 78,
     "metadata": {},
     "output_type": "execute_result"
    }
   ],
   "source": [
    "info('naresh',26)"
   ]
  },
  {
   "cell_type": "code",
   "execution_count": 79,
   "id": "23d27206",
   "metadata": {},
   "outputs": [
    {
     "data": {
      "text/plain": [
       "{'name': 'naresh', 'age': 26, 'mobile': 265}"
      ]
     },
     "execution_count": 79,
     "metadata": {},
     "output_type": "execute_result"
    }
   ],
   "source": [
    "info('naresh',26, mobile=265)"
   ]
  },
  {
   "cell_type": "code",
   "execution_count": 80,
   "id": "c2b29196",
   "metadata": {},
   "outputs": [
    {
     "data": {
      "text/plain": [
       "{'name': 'kailash', 'age': 28, 'mobile': 87446, 'place': 'rani'}"
      ]
     },
     "execution_count": 80,
     "metadata": {},
     "output_type": "execute_result"
    }
   ],
   "source": [
    "info('kailash',28, mobile=87446, place='rani')"
   ]
  },
  {
   "cell_type": "code",
   "execution_count": 81,
   "id": "dda6f099",
   "metadata": {},
   "outputs": [],
   "source": [
    "# Anonymous Function\n",
    "hello=lambda:'hello dear'"
   ]
  },
  {
   "cell_type": "code",
   "execution_count": 82,
   "id": "d0c5294c",
   "metadata": {},
   "outputs": [
    {
     "data": {
      "text/plain": [
       "'hello dear'"
      ]
     },
     "execution_count": 82,
     "metadata": {},
     "output_type": "execute_result"
    }
   ],
   "source": [
    "hello()"
   ]
  },
  {
   "cell_type": "code",
   "execution_count": 86,
   "id": "85b15a47",
   "metadata": {},
   "outputs": [
    {
     "data": {
      "text/plain": [
       "function"
      ]
     },
     "execution_count": 86,
     "metadata": {},
     "output_type": "execute_result"
    }
   ],
   "source": [
    "type(hello)"
   ]
  },
  {
   "cell_type": "code",
   "execution_count": 84,
   "id": "137440cc",
   "metadata": {},
   "outputs": [
    {
     "data": {
      "text/plain": [
       "'<lambda>'"
      ]
     },
     "execution_count": 84,
     "metadata": {},
     "output_type": "execute_result"
    }
   ],
   "source": [
    "hello.__name__"
   ]
  },
  {
   "cell_type": "code",
   "execution_count": 87,
   "id": "96651992",
   "metadata": {},
   "outputs": [],
   "source": [
    "l=[5,4,6,9,8,5,4,7,1]"
   ]
  },
  {
   "cell_type": "code",
   "execution_count": 91,
   "id": "48dbf263",
   "metadata": {},
   "outputs": [],
   "source": [
    "k=lambda x,y:x+y"
   ]
  },
  {
   "cell_type": "code",
   "execution_count": 92,
   "id": "268ae297",
   "metadata": {},
   "outputs": [
    {
     "data": {
      "text/plain": [
       "11"
      ]
     },
     "execution_count": 92,
     "metadata": {},
     "output_type": "execute_result"
    }
   ],
   "source": [
    "k(5,6)"
   ]
  },
  {
   "cell_type": "code",
   "execution_count": 93,
   "id": "a9f84cf0",
   "metadata": {},
   "outputs": [],
   "source": [
    "k=(5)"
   ]
  },
  {
   "cell_type": "code",
   "execution_count": 94,
   "id": "5346e142",
   "metadata": {},
   "outputs": [
    {
     "data": {
      "text/plain": [
       "int"
      ]
     },
     "execution_count": 94,
     "metadata": {},
     "output_type": "execute_result"
    }
   ],
   "source": [
    "type(k)"
   ]
  },
  {
   "cell_type": "code",
   "execution_count": 95,
   "id": "597007d3",
   "metadata": {},
   "outputs": [],
   "source": [
    "k=(5,)"
   ]
  },
  {
   "cell_type": "code",
   "execution_count": 96,
   "id": "0f40a712",
   "metadata": {},
   "outputs": [
    {
     "data": {
      "text/plain": [
       "tuple"
      ]
     },
     "execution_count": 96,
     "metadata": {},
     "output_type": "execute_result"
    }
   ],
   "source": [
    "type(k)"
   ]
  },
  {
   "cell_type": "code",
   "execution_count": 98,
   "id": "d3c484f7",
   "metadata": {},
   "outputs": [],
   "source": [
    "i=('kjdkjdsfk')"
   ]
  },
  {
   "cell_type": "code",
   "execution_count": 99,
   "id": "9f0ee02b",
   "metadata": {},
   "outputs": [
    {
     "data": {
      "text/plain": [
       "str"
      ]
     },
     "execution_count": 99,
     "metadata": {},
     "output_type": "execute_result"
    }
   ],
   "source": [
    "type(i)"
   ]
  },
  {
   "cell_type": "code",
   "execution_count": 100,
   "id": "80595030",
   "metadata": {},
   "outputs": [],
   "source": [
    "t=(5,4,6,8,5,2,4)"
   ]
  },
  {
   "cell_type": "code",
   "execution_count": 101,
   "id": "e669df8a",
   "metadata": {},
   "outputs": [
    {
     "data": {
      "text/plain": [
       "(5, 4, 6, 8, 5, 2, 4)"
      ]
     },
     "execution_count": 101,
     "metadata": {},
     "output_type": "execute_result"
    }
   ],
   "source": [
    "t"
   ]
  },
  {
   "cell_type": "code",
   "execution_count": 102,
   "id": "ee089a6b",
   "metadata": {},
   "outputs": [],
   "source": [
    "d={5,4,6,9,8,5,2,4,8,5}"
   ]
  },
  {
   "cell_type": "code",
   "execution_count": 103,
   "id": "fd38535b",
   "metadata": {},
   "outputs": [
    {
     "data": {
      "text/plain": [
       "{2, 4, 5, 6, 8, 9}"
      ]
     },
     "execution_count": 103,
     "metadata": {},
     "output_type": "execute_result"
    }
   ],
   "source": [
    "d"
   ]
  },
  {
   "cell_type": "code",
   "execution_count": 1,
   "id": "11e542a1",
   "metadata": {},
   "outputs": [],
   "source": [
    "k=lambda x,y:x+y"
   ]
  },
  {
   "cell_type": "code",
   "execution_count": 2,
   "id": "beb1c27a",
   "metadata": {},
   "outputs": [
    {
     "data": {
      "text/plain": [
       "12"
      ]
     },
     "execution_count": 2,
     "metadata": {},
     "output_type": "execute_result"
    }
   ],
   "source": [
    "k(5,7)"
   ]
  },
  {
   "cell_type": "code",
   "execution_count": null,
   "id": "1d66000e",
   "metadata": {},
   "outputs": [],
   "source": []
  }
 ],
 "metadata": {
  "kernelspec": {
   "display_name": "Python 3 (ipykernel)",
   "language": "python",
   "name": "python3"
  },
  "language_info": {
   "codemirror_mode": {
    "name": "ipython",
    "version": 3
   },
   "file_extension": ".py",
   "mimetype": "text/x-python",
   "name": "python",
   "nbconvert_exporter": "python",
   "pygments_lexer": "ipython3",
   "version": "3.9.12"
  }
 },
 "nbformat": 4,
 "nbformat_minor": 5
}
