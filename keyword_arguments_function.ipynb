{
 "cells": [
  {
   "cell_type": "markdown",
   "id": "282a6db9",
   "metadata": {},
   "source": [
    "##  required argument with keyword."
   ]
  },
  {
   "cell_type": "code",
   "execution_count": 18,
   "id": "02e8b9f8",
   "metadata": {},
   "outputs": [],
   "source": [
    "def data(name,fathername,age,place,pincode,mobile,):\n",
    "    print(f'your name = {name} ')\n",
    "    print(f'father name= {fathername}')\n",
    "    print(f'your age= {age}')\n",
    "    print(f'contact number= {mobile}')\n",
    "    print(f'from= {place}')\n",
    "    print(f'pincode= {pincode}')\n",
    "    \n",
    "    "
   ]
  },
  {
   "cell_type": "code",
   "execution_count": 19,
   "id": "41212480",
   "metadata": {},
   "outputs": [
    {
     "name": "stdout",
     "output_type": "stream",
     "text": [
      "your name = Naresh \n",
      "father name= Jagdish chandra\n",
      "your age= 25\n",
      "contact number= 526548956\n",
      "from= Rani station\n",
      "pincode= 306115\n"
     ]
    }
   ],
   "source": [
    "data(name='Naresh',mobile=526548956, place='Rani station', pincode=306115,fathername='Jagdish chandra',age=25)"
   ]
  },
  {
   "cell_type": "markdown",
   "id": "9a033010",
   "metadata": {},
   "source": [
    "##  Arbitrary Keyword Arguments, **kwargs\n",
    "\n"
   ]
  },
  {
   "cell_type": "code",
   "execution_count": 12,
   "id": "ea8a3dd7",
   "metadata": {},
   "outputs": [],
   "source": [
    "def info(**data):\n",
    "    return data"
   ]
  },
  {
   "cell_type": "code",
   "execution_count": 15,
   "id": "dfee964a",
   "metadata": {},
   "outputs": [
    {
     "data": {
      "text/plain": [
       "{'name': 'Naresh',\n",
       " 'mobile': 526548956,\n",
       " 'place': 'Rani station',\n",
       " 'pincode': 306115,\n",
       " 'father_name': 'Jagdish chandra',\n",
       " 'age': 25}"
      ]
     },
     "execution_count": 15,
     "metadata": {},
     "output_type": "execute_result"
    }
   ],
   "source": [
    "info(name='Naresh',mobile=526548956, place='Rani station', pincode=306115,father_name='Jagdish chandra',age=25)"
   ]
  },
  {
   "cell_type": "code",
   "execution_count": null,
   "id": "bd09db6d",
   "metadata": {},
   "outputs": [],
   "source": []
  }
 ],
 "metadata": {
  "kernelspec": {
   "display_name": "Python 3 (ipykernel)",
   "language": "python",
   "name": "python3"
  },
  "language_info": {
   "codemirror_mode": {
    "name": "ipython",
    "version": 3
   },
   "file_extension": ".py",
   "mimetype": "text/x-python",
   "name": "python",
   "nbconvert_exporter": "python",
   "pygments_lexer": "ipython3",
   "version": "3.9.12"
  }
 },
 "nbformat": 4,
 "nbformat_minor": 5
}
