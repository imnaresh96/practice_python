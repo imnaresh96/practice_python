{
 "cells": [
  {
   "cell_type": "code",
   "execution_count": null,
   "id": "548989ff",
   "metadata": {},
   "outputs": [],
   "source": [
    "a=input('Enter your first name: ')\n",
    "b=input('Enter your middle name: ')\n",
    "c=input('Enter your last name: ')\n",
    "s=input('Enter your subject name: ')\n",
    "if s=='python':\n",
    "  print(f'hello Mr. {a} {b} {c} you are student of python, your faculty name is Mr Kapil Jangid')\n",
    "else:\n",
    "  print('try another subject')\n"
   ]
  },
  {
   "cell_type": "code",
   "execution_count": null,
   "id": "ccf0d432",
   "metadata": {},
   "outputs": [],
   "source": [
    "k=[5,8,9,20,51,5,6,5,8,4,5,2,4,]\n",
    "s=[]\n",
    "for i in k:\n",
    "    if i not in s:\n",
    "        s.append(i)\n",
    "else:\n",
    "    print(s)"
   ]
  },
  {
   "cell_type": "code",
   "execution_count": null,
   "id": "5c46159b",
   "metadata": {},
   "outputs": [],
   "source": [
    "k=[]\n",
    "s=0\n",
    "for i in k:\n",
    "    s+=0\n",
    "    if s==0:\n",
    "        print(\"list is empty\")\n",
    "    else:\n",
    "        print('list is not empty')"
   ]
  },
  {
   "cell_type": "code",
   "execution_count": null,
   "id": "20a69a23",
   "metadata": {},
   "outputs": [],
   "source": [
    "s=[4,8,95,3,6,4,2]\n",
    "k=[5,4,8,6,5,2,3]\n",
    "for k in s:\n",
    "    print(k)"
   ]
  },
  {
   "cell_type": "code",
   "execution_count": null,
   "id": "ca29881f",
   "metadata": {},
   "outputs": [],
   "source": [
    "mylist = [\"a]\n",
    "mylist = list(dict.fromkeys(mylist))\n",
    "print(mylist)\n"
   ]
  },
  {
   "cell_type": "code",
   "execution_count": 11,
   "id": "fa569aab",
   "metadata": {},
   "outputs": [
    {
     "name": "stdout",
     "output_type": "stream",
     "text": [
      "9\n"
     ]
    }
   ],
   "source": [
    "s=[4,5,6,9,8,5]\n",
    "n=0\n",
    "s.sort()\n",
    "for i in range(1,len(s)):\n",
    "    n=n+s[i]\n",
    "else:\n",
    "    print(s[-1])"
   ]
  },
  {
   "cell_type": "code",
   "execution_count": 13,
   "id": "b70a5307",
   "metadata": {},
   "outputs": [
    {
     "name": "stdout",
     "output_type": "stream",
     "text": [
      "Enter something here: fdsss\n",
      "try again with other value\n"
     ]
    }
   ],
   "source": [
    "#reverses a string if its length is a multiple of 4.\n",
    "s=input('Enter something here: ')\n",
    "k=len(s)\n",
    "if k % 4 == 0:\n",
    "    print(s[::-1])\n",
    "    \n",
    "else:\n",
    "    print('try again with other value')"
   ]
  },
  {
   "cell_type": "code",
   "execution_count": 4,
   "id": "a03bb807",
   "metadata": {},
   "outputs": [],
   "source": [
    "m='naresh'\n"
   ]
  },
  {
   "cell_type": "code",
   "execution_count": 10,
   "id": "bd69e86d",
   "metadata": {},
   "outputs": [
    {
     "data": {
      "text/plain": [
       "'nares'"
      ]
     },
     "execution_count": 10,
     "metadata": {},
     "output_type": "execute_result"
    }
   ],
   "source": [
    "m[]"
   ]
  },
  {
   "cell_type": "code",
   "execution_count": 19,
   "id": "c53f75f7",
   "metadata": {},
   "outputs": [
    {
     "name": "stdout",
     "output_type": "stream",
     "text": [
      "nash\n"
     ]
    }
   ],
   "source": [
    "s='naresh'\n",
    "k=len(s)\n",
    "if k > 2:\n",
    "    print(s[:2]+s[-2:])\n",
    "else:\n",
    "    pass\n",
    "    "
   ]
  },
  {
   "cell_type": "code",
   "execution_count": 21,
   "id": "bdd22a98",
   "metadata": {},
   "outputs": [
    {
     "name": "stdout",
     "output_type": "stream",
     "text": [
      "Enter Something here: naresh is not poor\n",
      "naresh is good\n"
     ]
    }
   ],
   "source": [
    "# replace 'not poor' to 'good'\n",
    "a=input('Enter Something here: ')\n",
    "k=a.replace('not poor','good')\n",
    "print(k)"
   ]
  },
  {
   "cell_type": "code",
   "execution_count": 27,
   "id": "c81c0530",
   "metadata": {},
   "outputs": [
    {
     "name": "stdout",
     "output_type": "stream",
     "text": [
      "kuresh\n",
      "namar\n"
     ]
    }
   ],
   "source": [
    "k='naresh'\n",
    "m='kumar'\n",
    "print(m[:2]+k[2:])\n",
    "print(k[:2]+m[2:])"
   ]
  },
  {
   "cell_type": "code",
   "execution_count": 32,
   "id": "7545607f",
   "metadata": {},
   "outputs": [
    {
     "name": "stdout",
     "output_type": "stream",
     "text": [
      "naresh\n",
      "kumar\n",
      "ku resh\n",
      "na mar\n"
     ]
    }
   ],
   "source": [
    "k=input()\n",
    "m=input()\n",
    "l=' '\n",
    "print(m[:2]+ l +k[2:])\n",
    "print(k[:2]+ l +m[2:])"
   ]
  },
  {
   "cell_type": "code",
   "execution_count": 39,
   "id": "7399b523",
   "metadata": {},
   "outputs": [
    {
     "name": "stdout",
     "output_type": "stream",
     "text": [
      "1\n",
      "3\n",
      "6\n",
      "10\n",
      "15\n",
      "21\n",
      "28\n"
     ]
    }
   ],
   "source": [
    "s=7\n",
    "n=1\n",
    "sum=0\n",
    "while n<=s:\n",
    "    sum=sum+n\n",
    "    print(sum)\n",
    "    n+=1"
   ]
  },
  {
   "cell_type": "code",
   "execution_count": 51,
   "id": "5673c2ef",
   "metadata": {},
   "outputs": [
    {
     "name": "stdout",
     "output_type": "stream",
     "text": [
      "1\n",
      "2\n",
      "3\n",
      "5\n",
      "8\n",
      "13\n",
      "21\n",
      "34\n"
     ]
    }
   ],
   "source": [
    "a=10\n",
    "b=0\n",
    "c=1\n",
    "for i in range(2, a):\n",
    "    d=b+c\n",
    "    b=c\n",
    "    c=d\n",
    "    print(d)"
   ]
  },
  {
   "cell_type": "code",
   "execution_count": 52,
   "id": "4fe36103",
   "metadata": {},
   "outputs": [
    {
     "name": "stdout",
     "output_type": "stream",
     "text": [
      "8\n",
      "1\n",
      "2\n",
      "3\n",
      "5\n",
      "8\n",
      "13\n"
     ]
    }
   ],
   "source": [
    "\n",
    "a=int(input())\n",
    "b=0\n",
    "c=1\n",
    "for i in range(2, a):\n",
    "    d=b+c\n",
    "    b=c\n",
    "    c=d\n",
    "    print(d)"
   ]
  },
  {
   "cell_type": "code",
   "execution_count": 66,
   "id": "91219a1f",
   "metadata": {},
   "outputs": [
    {
     "ename": "NameError",
     "evalue": "name 'count' is not defined",
     "output_type": "error",
     "traceback": [
      "\u001b[1;31m---------------------------------------------------------------------------\u001b[0m",
      "\u001b[1;31mNameError\u001b[0m                                 Traceback (most recent call last)",
      "Input \u001b[1;32mIn [66]\u001b[0m, in \u001b[0;36m<cell line: 3>\u001b[1;34m()\u001b[0m\n\u001b[0;32m      2\u001b[0m s\u001b[38;5;241m=\u001b[39m{}\n\u001b[0;32m      3\u001b[0m \u001b[38;5;28;01mfor\u001b[39;00m i \u001b[38;5;129;01min\u001b[39;00m k:\n\u001b[1;32m----> 4\u001b[0m     r \u001b[38;5;241m=\u001b[39m \u001b[43mcount\u001b[49m (i)\n\u001b[0;32m      5\u001b[0m     \u001b[38;5;28;01mif\u001b[39;00m r\u001b[38;5;241m>\u001b[39m\u001b[38;5;241m1\u001b[39m:\n\u001b[0;32m      6\u001b[0m         \u001b[38;5;28;01mpass\u001b[39;00m\n",
      "\u001b[1;31mNameError\u001b[0m: name 'count' is not defined"
     ]
    }
   ],
   "source": [
    "k='nareshkumar'\n",
    "s={}\n",
    "for i in k:\n",
    "    r = count (i)\n",
    "    if r>1:\n",
    "        pass\n",
    "    else:\n",
    "        print(r)"
   ]
  },
  {
   "cell_type": "code",
   "execution_count": 74,
   "id": "880dcfe8",
   "metadata": {},
   "outputs": [
    {
     "data": {
      "text/plain": [
       "3"
      ]
     },
     "execution_count": 74,
     "metadata": {},
     "output_type": "execute_result"
    }
   ],
   "source": [
    "a='hello world'\n",
    "a.count('l')"
   ]
  },
  {
   "cell_type": "code",
   "execution_count": 78,
   "id": "08496e72",
   "metadata": {},
   "outputs": [
    {
     "name": "stdout",
     "output_type": "stream",
     "text": [
      "17\n",
      "1\n",
      "2\n",
      "3\n",
      "5\n",
      "8\n",
      "13\n",
      "21\n",
      "34\n",
      "55\n",
      "89\n",
      "144\n",
      "233\n",
      "377\n",
      "610\n",
      "987\n",
      "1597\n",
      "2584\n"
     ]
    }
   ],
   "source": [
    "# Fibonacci series of given range.\n",
    "a=int(input())\n",
    "b=0\n",
    "c=1\n",
    "for i in range(a):\n",
    "    d=b+c\n",
    "    b=c\n",
    "    c=d\n",
    "    print(d)"
   ]
  },
  {
   "cell_type": "code",
   "execution_count": 16,
   "id": "0c872df2",
   "metadata": {},
   "outputs": [
    {
     "name": "stdout",
     "output_type": "stream",
     "text": [
      "2\n",
      "1\n"
     ]
    }
   ],
   "source": [
    "a=int(input())\n",
    "b=1\n",
    "c=0\n",
    "for i in range(a):\n",
    "    d=b+c\n",
    "    b=c\n",
    "    c=d\n",
    "print(c)"
   ]
  },
  {
   "cell_type": "code",
   "execution_count": 18,
   "id": "34de82ba",
   "metadata": {},
   "outputs": [
    {
     "data": {
      "text/plain": [
       "False"
      ]
     },
     "execution_count": 18,
     "metadata": {},
     "output_type": "execute_result"
    }
   ],
   "source": [
    "s='kailash kumar sisodiya'\n",
    "s.isupper()"
   ]
  },
  {
   "cell_type": "code",
   "execution_count": 19,
   "id": "37e92894",
   "metadata": {},
   "outputs": [
    {
     "data": {
      "text/plain": [
       "True"
      ]
     },
     "execution_count": 19,
     "metadata": {},
     "output_type": "execute_result"
    }
   ],
   "source": [
    "s.islower()"
   ]
  },
  {
   "cell_type": "code",
   "execution_count": 20,
   "id": "c8f04ac0",
   "metadata": {},
   "outputs": [
    {
     "data": {
      "text/plain": [
       "'KAILASH KUMAR SISODIYA'"
      ]
     },
     "execution_count": 20,
     "metadata": {},
     "output_type": "execute_result"
    }
   ],
   "source": [
    "s.upper()"
   ]
  },
  {
   "cell_type": "code",
   "execution_count": 25,
   "id": "6f80adcd",
   "metadata": {},
   "outputs": [
    {
     "data": {
      "text/plain": [
       "'Kailash kumar sisodiya'"
      ]
     },
     "execution_count": 25,
     "metadata": {},
     "output_type": "execute_result"
    }
   ],
   "source": [
    "s.capitalize()"
   ]
  },
  {
   "cell_type": "code",
   "execution_count": 26,
   "id": "ae19274d",
   "metadata": {},
   "outputs": [
    {
     "data": {
      "text/plain": [
       "'Kailash Kumar Sisodiya'"
      ]
     },
     "execution_count": 26,
     "metadata": {},
     "output_type": "execute_result"
    }
   ],
   "source": [
    "s.title()"
   ]
  },
  {
   "cell_type": "code",
   "execution_count": 28,
   "id": "dc6ad421",
   "metadata": {},
   "outputs": [
    {
     "data": {
      "text/plain": [
       "3"
      ]
     },
     "execution_count": 28,
     "metadata": {},
     "output_type": "execute_result"
    }
   ],
   "source": [
    "s.find('l')"
   ]
  },
  {
   "cell_type": "code",
   "execution_count": 29,
   "id": "09dd6b29",
   "metadata": {},
   "outputs": [
    {
     "data": {
      "text/plain": [
       "3"
      ]
     },
     "execution_count": 29,
     "metadata": {},
     "output_type": "execute_result"
    }
   ],
   "source": [
    "s.count('s')"
   ]
  },
  {
   "cell_type": "code",
   "execution_count": 30,
   "id": "f5a567d1",
   "metadata": {},
   "outputs": [
    {
     "data": {
      "text/plain": [
       "20"
      ]
     },
     "execution_count": 30,
     "metadata": {},
     "output_type": "execute_result"
    }
   ],
   "source": [
    "s.index('y')"
   ]
  },
  {
   "cell_type": "code",
   "execution_count": 31,
   "id": "cba1b7fe",
   "metadata": {},
   "outputs": [
    {
     "data": {
      "text/plain": [
       "False"
      ]
     },
     "execution_count": 31,
     "metadata": {},
     "output_type": "execute_result"
    }
   ],
   "source": [
    "s.isalpha()"
   ]
  },
  {
   "cell_type": "code",
   "execution_count": 32,
   "id": "9758b3fa",
   "metadata": {},
   "outputs": [
    {
     "data": {
      "text/plain": [
       "False"
      ]
     },
     "execution_count": 32,
     "metadata": {},
     "output_type": "execute_result"
    }
   ],
   "source": [
    "s.isnumeric()"
   ]
  },
  {
   "cell_type": "code",
   "execution_count": 33,
   "id": "3e864949",
   "metadata": {},
   "outputs": [
    {
     "data": {
      "text/plain": [
       "int"
      ]
     },
     "execution_count": 33,
     "metadata": {},
     "output_type": "execute_result"
    }
   ],
   "source": [
    "type(a)"
   ]
  },
  {
   "cell_type": "code",
   "execution_count": 34,
   "id": "37df1d9b",
   "metadata": {},
   "outputs": [
    {
     "data": {
      "text/plain": [
       "str"
      ]
     },
     "execution_count": 34,
     "metadata": {},
     "output_type": "execute_result"
    }
   ],
   "source": [
    "type(s)"
   ]
  },
  {
   "cell_type": "code",
   "execution_count": 35,
   "id": "892c0cb6",
   "metadata": {},
   "outputs": [
    {
     "data": {
      "text/plain": [
       "'ayidosis ramuk hsaliak'"
      ]
     },
     "execution_count": 35,
     "metadata": {},
     "output_type": "execute_result"
    }
   ],
   "source": [
    "s[::-1]"
   ]
  },
  {
   "cell_type": "code",
   "execution_count": 36,
   "id": "46bdb6a4",
   "metadata": {},
   "outputs": [
    {
     "name": "stdout",
     "output_type": "stream",
     "text": [
      "['__add__', '__class__', '__contains__', '__delattr__', '__dir__', '__doc__', '__eq__', '__format__', '__ge__', '__getattribute__', '__getitem__', '__getnewargs__', '__gt__', '__hash__', '__init__', '__init_subclass__', '__iter__', '__le__', '__len__', '__lt__', '__mod__', '__mul__', '__ne__', '__new__', '__reduce__', '__reduce_ex__', '__repr__', '__rmod__', '__rmul__', '__setattr__', '__sizeof__', '__str__', '__subclasshook__', 'capitalize', 'casefold', 'center', 'count', 'encode', 'endswith', 'expandtabs', 'find', 'format', 'format_map', 'index', 'isalnum', 'isalpha', 'isascii', 'isdecimal', 'isdigit', 'isidentifier', 'islower', 'isnumeric', 'isprintable', 'isspace', 'istitle', 'isupper', 'join', 'ljust', 'lower', 'lstrip', 'maketrans', 'partition', 'removeprefix', 'removesuffix', 'replace', 'rfind', 'rindex', 'rjust', 'rpartition', 'rsplit', 'rstrip', 'split', 'splitlines', 'startswith', 'strip', 'swapcase', 'title', 'translate', 'upper', 'zfill']\n"
     ]
    }
   ],
   "source": [
    "print(dir(s))"
   ]
  },
  {
   "cell_type": "code",
   "execution_count": 38,
   "id": "e744ca56",
   "metadata": {},
   "outputs": [
    {
     "data": {
      "text/plain": [
       "'kailash kumar sisodiya'"
      ]
     },
     "execution_count": 38,
     "metadata": {},
     "output_type": "execute_result"
    }
   ],
   "source": [
    "s.format('k','l')"
   ]
  },
  {
   "cell_type": "code",
   "execution_count": 39,
   "id": "98c9ba64",
   "metadata": {},
   "outputs": [
    {
     "data": {
      "text/plain": [
       "'kailash kumar sisodiya'"
      ]
     },
     "execution_count": 39,
     "metadata": {},
     "output_type": "execute_result"
    }
   ],
   "source": [
    "s.casefold()"
   ]
  },
  {
   "cell_type": "markdown",
   "id": "a9227448",
   "metadata": {},
   "source": [
    "m=s.upper()"
   ]
  },
  {
   "cell_type": "code",
   "execution_count": 41,
   "id": "29641df1",
   "metadata": {},
   "outputs": [],
   "source": [
    "m=s.upper()"
   ]
  },
  {
   "cell_type": "markdown",
   "id": "b43401b2",
   "metadata": {},
   "source": [
    "m"
   ]
  },
  {
   "cell_type": "code",
   "execution_count": 42,
   "id": "e158ee60",
   "metadata": {},
   "outputs": [
    {
     "name": "stdout",
     "output_type": "stream",
     "text": [
      "KAILASH KUMAR SISODIYA\n"
     ]
    }
   ],
   "source": [
    "print(m)"
   ]
  },
  {
   "cell_type": "code",
   "execution_count": 43,
   "id": "dcfff8c6",
   "metadata": {},
   "outputs": [
    {
     "data": {
      "text/plain": [
       "'kailash kumar sisodiya'"
      ]
     },
     "execution_count": 43,
     "metadata": {},
     "output_type": "execute_result"
    }
   ],
   "source": [
    "m.casefold()"
   ]
  },
  {
   "cell_type": "code",
   "execution_count": 45,
   "id": "e3c58feb",
   "metadata": {},
   "outputs": [
    {
     "data": {
      "text/plain": [
       "'hAILASH hUMAR SISODIYA'"
      ]
     },
     "execution_count": 45,
     "metadata": {},
     "output_type": "execute_result"
    }
   ],
   "source": [
    "m.replace('K','h')"
   ]
  },
  {
   "cell_type": "code",
   "execution_count": 50,
   "id": "49845fe1",
   "metadata": {},
   "outputs": [
    {
     "data": {
      "text/plain": [
       "'kailash kumar sisodiya'"
      ]
     },
     "execution_count": 50,
     "metadata": {},
     "output_type": "execute_result"
    }
   ],
   "source": [
    "s.format('from_rani')"
   ]
  },
  {
   "cell_type": "code",
   "execution_count": 53,
   "id": "a305a49b",
   "metadata": {},
   "outputs": [
    {
     "data": {
      "text/plain": [
       "'kailash kumar sisodiya rani'"
      ]
     },
     "execution_count": 53,
     "metadata": {},
     "output_type": "execute_result"
    }
   ],
   "source": [
    "'kailash kumar sisodiya {}'.format('rani')"
   ]
  },
  {
   "cell_type": "code",
   "execution_count": 54,
   "id": "53c87532",
   "metadata": {},
   "outputs": [
    {
     "data": {
      "text/plain": [
       "'hello dear'"
      ]
     },
     "execution_count": 54,
     "metadata": {},
     "output_type": "execute_result"
    }
   ],
   "source": [
    "'hello {}'.format('dear')"
   ]
  },
  {
   "cell_type": "code",
   "execution_count": 59,
   "id": "720d413c",
   "metadata": {},
   "outputs": [
    {
     "data": {
      "text/plain": [
       "'hello naresh'"
      ]
     },
     "execution_count": 59,
     "metadata": {},
     "output_type": "execute_result"
    }
   ],
   "source": [
    "'hello {name}'.format(name='naresh')"
   ]
  },
  {
   "cell_type": "code",
   "execution_count": 61,
   "id": "b74bf64a",
   "metadata": {},
   "outputs": [
    {
     "data": {
      "text/plain": [
       "'00hello'"
      ]
     },
     "execution_count": 61,
     "metadata": {},
     "output_type": "execute_result"
    }
   ],
   "source": [
    "'hello'.zfill(7)"
   ]
  },
  {
   "cell_type": "code",
   "execution_count": 62,
   "id": "ee962b64",
   "metadata": {},
   "outputs": [],
   "source": [
    "g='      naresh      kumar       '"
   ]
  },
  {
   "cell_type": "code",
   "execution_count": 63,
   "id": "6e0a47e5",
   "metadata": {},
   "outputs": [
    {
     "data": {
      "text/plain": [
       "'      naresh      kumar       '"
      ]
     },
     "execution_count": 63,
     "metadata": {},
     "output_type": "execute_result"
    }
   ],
   "source": [
    "g"
   ]
  },
  {
   "cell_type": "code",
   "execution_count": 64,
   "id": "13300d3e",
   "metadata": {},
   "outputs": [
    {
     "data": {
      "text/plain": [
       "'naresh      kumar'"
      ]
     },
     "execution_count": 64,
     "metadata": {},
     "output_type": "execute_result"
    }
   ],
   "source": [
    "g.strip()"
   ]
  },
  {
   "cell_type": "code",
   "execution_count": 65,
   "id": "8374d071",
   "metadata": {},
   "outputs": [
    {
     "data": {
      "text/plain": [
       "'      naresh      kumar'"
      ]
     },
     "execution_count": 65,
     "metadata": {},
     "output_type": "execute_result"
    }
   ],
   "source": [
    "g.rstrip()"
   ]
  },
  {
   "cell_type": "code",
   "execution_count": 66,
   "id": "af2522b2",
   "metadata": {},
   "outputs": [
    {
     "data": {
      "text/plain": [
       "'naresh      kumar       '"
      ]
     },
     "execution_count": 66,
     "metadata": {},
     "output_type": "execute_result"
    }
   ],
   "source": [
    "g.lstrip()"
   ]
  },
  {
   "cell_type": "code",
   "execution_count": 68,
   "id": "bcea2f8a",
   "metadata": {},
   "outputs": [
    {
     "data": {
      "text/plain": [
       "['      nares', '      kumar       ']"
      ]
     },
     "execution_count": 68,
     "metadata": {},
     "output_type": "execute_result"
    }
   ],
   "source": [
    "g.split('h')"
   ]
  },
  {
   "cell_type": "code",
   "execution_count": 70,
   "id": "bfa1833c",
   "metadata": {},
   "outputs": [
    {
     "data": {
      "text/plain": [
       "['      n', 'resh      kumar       ']"
      ]
     },
     "execution_count": 70,
     "metadata": {},
     "output_type": "execute_result"
    }
   ],
   "source": [
    "g.split('a',1)"
   ]
  },
  {
   "cell_type": "code",
   "execution_count": 73,
   "id": "6b2d8083",
   "metadata": {},
   "outputs": [
    {
     "data": {
      "text/plain": [
       "'            n a r e s h             k u m a r              '"
      ]
     },
     "execution_count": 73,
     "metadata": {},
     "output_type": "execute_result"
    }
   ],
   "source": [
    "' '.join(g)"
   ]
  },
  {
   "cell_type": "code",
   "execution_count": 74,
   "id": "c86c3039",
   "metadata": {},
   "outputs": [
    {
     "data": {
      "text/plain": [
       "['naresh', 'kumar']"
      ]
     },
     "execution_count": 74,
     "metadata": {},
     "output_type": "execute_result"
    }
   ],
   "source": [
    "g.split()"
   ]
  },
  {
   "cell_type": "code",
   "execution_count": 75,
   "id": "f9a95fa4",
   "metadata": {},
   "outputs": [
    {
     "data": {
      "text/plain": [
       "' * * * * * *n*a*r*e*s*h* * * * * * *k*u*m*a*r* * * * * * * '"
      ]
     },
     "execution_count": 75,
     "metadata": {},
     "output_type": "execute_result"
    }
   ],
   "source": [
    "'*'.join(g)"
   ]
  },
  {
   "cell_type": "code",
   "execution_count": 82,
   "id": "f5d55247",
   "metadata": {},
   "outputs": [
    {
     "data": {
      "text/plain": [
       "('      naresh      kum', 'a', 'r       ')"
      ]
     },
     "execution_count": 82,
     "metadata": {},
     "output_type": "execute_result"
    }
   ],
   "source": [
    "g.rpartition('a')"
   ]
  },
  {
   "cell_type": "code",
   "execution_count": 83,
   "id": "06dcf20c",
   "metadata": {},
   "outputs": [],
   "source": [
    "s=[]"
   ]
  },
  {
   "cell_type": "code",
   "execution_count": 84,
   "id": "850e0e14",
   "metadata": {},
   "outputs": [
    {
     "data": {
      "text/plain": [
       "list"
      ]
     },
     "execution_count": 84,
     "metadata": {},
     "output_type": "execute_result"
    }
   ],
   "source": [
    "type(s)"
   ]
  },
  {
   "cell_type": "code",
   "execution_count": 85,
   "id": "07ccbec5",
   "metadata": {},
   "outputs": [],
   "source": [
    "s.append(8)"
   ]
  },
  {
   "cell_type": "code",
   "execution_count": 86,
   "id": "19304d9b",
   "metadata": {},
   "outputs": [
    {
     "data": {
      "text/plain": [
       "[8]"
      ]
     },
     "execution_count": 86,
     "metadata": {},
     "output_type": "execute_result"
    }
   ],
   "source": [
    "s"
   ]
  },
  {
   "cell_type": "code",
   "execution_count": 87,
   "id": "1232b75d",
   "metadata": {},
   "outputs": [],
   "source": [
    "s.extend([7,4,5,2,1,6,3,5,2])"
   ]
  },
  {
   "cell_type": "code",
   "execution_count": 88,
   "id": "4a4c9eb6",
   "metadata": {},
   "outputs": [
    {
     "data": {
      "text/plain": [
       "[8, 7, 4, 5, 2, 1, 6, 3, 5, 2]"
      ]
     },
     "execution_count": 88,
     "metadata": {},
     "output_type": "execute_result"
    }
   ],
   "source": [
    "s"
   ]
  },
  {
   "cell_type": "code",
   "execution_count": 89,
   "id": "7474efcd",
   "metadata": {},
   "outputs": [],
   "source": [
    "s.insert(2,3)"
   ]
  },
  {
   "cell_type": "code",
   "execution_count": 90,
   "id": "b759a3a7",
   "metadata": {},
   "outputs": [
    {
     "data": {
      "text/plain": [
       "[8, 7, 3, 4, 5, 2, 1, 6, 3, 5, 2]"
      ]
     },
     "execution_count": 90,
     "metadata": {},
     "output_type": "execute_result"
    }
   ],
   "source": [
    "s"
   ]
  },
  {
   "cell_type": "code",
   "execution_count": 91,
   "id": "c9aaab07",
   "metadata": {},
   "outputs": [
    {
     "data": {
      "text/plain": [
       "2"
      ]
     },
     "execution_count": 91,
     "metadata": {},
     "output_type": "execute_result"
    }
   ],
   "source": [
    "s.pop()"
   ]
  },
  {
   "cell_type": "code",
   "execution_count": 92,
   "id": "4f93f2e9",
   "metadata": {},
   "outputs": [
    {
     "data": {
      "text/plain": [
       "7"
      ]
     },
     "execution_count": 92,
     "metadata": {},
     "output_type": "execute_result"
    }
   ],
   "source": [
    "s.pop(1)"
   ]
  },
  {
   "cell_type": "code",
   "execution_count": 93,
   "id": "ee617366",
   "metadata": {},
   "outputs": [],
   "source": [
    "s.reverse()"
   ]
  },
  {
   "cell_type": "code",
   "execution_count": 94,
   "id": "9497fa7d",
   "metadata": {},
   "outputs": [
    {
     "data": {
      "text/plain": [
       "[5, 3, 6, 1, 2, 5, 4, 3, 8]"
      ]
     },
     "execution_count": 94,
     "metadata": {},
     "output_type": "execute_result"
    }
   ],
   "source": [
    "s"
   ]
  },
  {
   "cell_type": "code",
   "execution_count": 95,
   "id": "eb796fd3",
   "metadata": {},
   "outputs": [],
   "source": [
    "s.sort()"
   ]
  },
  {
   "cell_type": "code",
   "execution_count": 96,
   "id": "f1d9d9a1",
   "metadata": {},
   "outputs": [
    {
     "data": {
      "text/plain": [
       "[1, 2, 3, 3, 4, 5, 5, 6, 8]"
      ]
     },
     "execution_count": 96,
     "metadata": {},
     "output_type": "execute_result"
    }
   ],
   "source": [
    "s"
   ]
  },
  {
   "cell_type": "code",
   "execution_count": 97,
   "id": "6eb7d564",
   "metadata": {},
   "outputs": [
    {
     "data": {
      "text/plain": [
       "1"
      ]
     },
     "execution_count": 97,
     "metadata": {},
     "output_type": "execute_result"
    }
   ],
   "source": [
    "s.count(2)"
   ]
  },
  {
   "cell_type": "code",
   "execution_count": 107,
   "id": "9812e458",
   "metadata": {},
   "outputs": [
    {
     "data": {
      "text/plain": [
       "5"
      ]
     },
     "execution_count": 107,
     "metadata": {},
     "output_type": "execute_result"
    }
   ],
   "source": [
    "s.rindex(5)"
   ]
  },
  {
   "cell_type": "code",
   "execution_count": 108,
   "id": "424e8345",
   "metadata": {},
   "outputs": [],
   "source": [
    "s.sort(reverse=True)"
   ]
  },
  {
   "cell_type": "code",
   "execution_count": 109,
   "id": "432c2eed",
   "metadata": {},
   "outputs": [
    {
     "data": {
      "text/plain": [
       "[8, 6, 5, 5, 4, 3, 3, 2, 1]"
      ]
     },
     "execution_count": 109,
     "metadata": {},
     "output_type": "execute_result"
    }
   ],
   "source": [
    "s"
   ]
  },
  {
   "cell_type": "code",
   "execution_count": 110,
   "id": "527542ef",
   "metadata": {},
   "outputs": [],
   "source": [
    "k=s.copy()"
   ]
  },
  {
   "cell_type": "code",
   "execution_count": 111,
   "id": "0e2f3632",
   "metadata": {},
   "outputs": [
    {
     "data": {
      "text/plain": [
       "[8, 6, 5, 5, 4, 3, 3, 2, 1]"
      ]
     },
     "execution_count": 111,
     "metadata": {},
     "output_type": "execute_result"
    }
   ],
   "source": [
    "k"
   ]
  },
  {
   "cell_type": "code",
   "execution_count": 112,
   "id": "573843f3",
   "metadata": {},
   "outputs": [
    {
     "name": "stdout",
     "output_type": "stream",
     "text": [
      "[8, 6, 5, 5, 4, 3, 3, 2, 1]\n"
     ]
    }
   ],
   "source": [
    "print(s)"
   ]
  },
  {
   "cell_type": "code",
   "execution_count": 113,
   "id": "74d162d3",
   "metadata": {},
   "outputs": [],
   "source": [
    "s.remove(5)"
   ]
  },
  {
   "cell_type": "code",
   "execution_count": 114,
   "id": "aa6c544a",
   "metadata": {},
   "outputs": [
    {
     "data": {
      "text/plain": [
       "[8, 6, 5, 4, 3, 3, 2, 1]"
      ]
     },
     "execution_count": 114,
     "metadata": {},
     "output_type": "execute_result"
    }
   ],
   "source": [
    "s"
   ]
  },
  {
   "cell_type": "code",
   "execution_count": 115,
   "id": "92d65a21",
   "metadata": {},
   "outputs": [
    {
     "data": {
      "text/plain": [
       "[1, 2, 3, 3, 4, 5, 6, 8]"
      ]
     },
     "execution_count": 115,
     "metadata": {},
     "output_type": "execute_result"
    }
   ],
   "source": [
    "sorted(s)"
   ]
  },
  {
   "cell_type": "code",
   "execution_count": 117,
   "id": "482983d8",
   "metadata": {},
   "outputs": [],
   "source": [
    "k=(5,4,8,9,7)"
   ]
  },
  {
   "cell_type": "code",
   "execution_count": 118,
   "id": "8cb55858",
   "metadata": {},
   "outputs": [
    {
     "data": {
      "text/plain": [
       "tuple"
      ]
     },
     "execution_count": 118,
     "metadata": {},
     "output_type": "execute_result"
    }
   ],
   "source": [
    "type(k)"
   ]
  },
  {
   "cell_type": "code",
   "execution_count": 119,
   "id": "8ecfbdf8",
   "metadata": {},
   "outputs": [],
   "source": [
    "d={}"
   ]
  },
  {
   "cell_type": "code",
   "execution_count": 120,
   "id": "0d2b1e4d",
   "metadata": {},
   "outputs": [
    {
     "data": {
      "text/plain": [
       "dict"
      ]
     },
     "execution_count": 120,
     "metadata": {},
     "output_type": "execute_result"
    }
   ],
   "source": [
    "type(d)"
   ]
  },
  {
   "cell_type": "code",
   "execution_count": 121,
   "id": "2eceae5a",
   "metadata": {},
   "outputs": [],
   "source": [
    "d.setdefault('name')"
   ]
  },
  {
   "cell_type": "code",
   "execution_count": 122,
   "id": "cdea1101",
   "metadata": {},
   "outputs": [
    {
     "data": {
      "text/plain": [
       "{'name': None}"
      ]
     },
     "execution_count": 122,
     "metadata": {},
     "output_type": "execute_result"
    }
   ],
   "source": [
    "d"
   ]
  },
  {
   "cell_type": "code",
   "execution_count": 123,
   "id": "a09027c0",
   "metadata": {},
   "outputs": [],
   "source": [
    "d.update({'class':'python','place':'maninagar'})"
   ]
  },
  {
   "cell_type": "code",
   "execution_count": 124,
   "id": "b0aaceca",
   "metadata": {},
   "outputs": [
    {
     "data": {
      "text/plain": [
       "{'name': None, 'class': 'python', 'place': 'maninagar'}"
      ]
     },
     "execution_count": 124,
     "metadata": {},
     "output_type": "execute_result"
    }
   ],
   "source": [
    "d"
   ]
  },
  {
   "cell_type": "code",
   "execution_count": 126,
   "id": "c1e93ba4",
   "metadata": {},
   "outputs": [],
   "source": [
    "d.update({'name':'naresh'})"
   ]
  },
  {
   "cell_type": "code",
   "execution_count": 127,
   "id": "fd64631a",
   "metadata": {},
   "outputs": [
    {
     "data": {
      "text/plain": [
       "{'name': 'naresh', 'class': 'python', 'place': 'maninagar'}"
      ]
     },
     "execution_count": 127,
     "metadata": {},
     "output_type": "execute_result"
    }
   ],
   "source": [
    "d"
   ]
  },
  {
   "cell_type": "code",
   "execution_count": 128,
   "id": "9b471a24",
   "metadata": {},
   "outputs": [
    {
     "data": {
      "text/plain": [
       "3"
      ]
     },
     "execution_count": 128,
     "metadata": {},
     "output_type": "execute_result"
    }
   ],
   "source": [
    "len(d)"
   ]
  },
  {
   "cell_type": "code",
   "execution_count": 130,
   "id": "b43c364f",
   "metadata": {},
   "outputs": [
    {
     "data": {
      "text/plain": [
       "'naresh'"
      ]
     },
     "execution_count": 130,
     "metadata": {},
     "output_type": "execute_result"
    }
   ],
   "source": [
    "d.get('name')"
   ]
  },
  {
   "cell_type": "code",
   "execution_count": 131,
   "id": "f27e5581",
   "metadata": {},
   "outputs": [],
   "source": [
    "d.get('dob')"
   ]
  },
  {
   "cell_type": "code",
   "execution_count": 134,
   "id": "95ce7690",
   "metadata": {},
   "outputs": [],
   "source": [
    "d['place']='ahmedabad'"
   ]
  },
  {
   "cell_type": "code",
   "execution_count": 135,
   "id": "586edf2d",
   "metadata": {},
   "outputs": [
    {
     "data": {
      "text/plain": [
       "{'name': 'naresh', 'class': 'python', 'place': 'ahmedabad'}"
      ]
     },
     "execution_count": 135,
     "metadata": {},
     "output_type": "execute_result"
    }
   ],
   "source": [
    "d"
   ]
  },
  {
   "cell_type": "code",
   "execution_count": 136,
   "id": "9957dbfa",
   "metadata": {},
   "outputs": [
    {
     "data": {
      "text/plain": [
       "dict_keys(['name', 'class', 'place'])"
      ]
     },
     "execution_count": 136,
     "metadata": {},
     "output_type": "execute_result"
    }
   ],
   "source": [
    "d.keys()"
   ]
  },
  {
   "cell_type": "code",
   "execution_count": 137,
   "id": "b1d353dd",
   "metadata": {},
   "outputs": [
    {
     "data": {
      "text/plain": [
       "dict_values(['naresh', 'python', 'ahmedabad'])"
      ]
     },
     "execution_count": 137,
     "metadata": {},
     "output_type": "execute_result"
    }
   ],
   "source": [
    "d.values()"
   ]
  },
  {
   "cell_type": "code",
   "execution_count": 138,
   "id": "b033292c",
   "metadata": {},
   "outputs": [
    {
     "data": {
      "text/plain": [
       "dict_items([('name', 'naresh'), ('class', 'python'), ('place', 'ahmedabad')])"
      ]
     },
     "execution_count": 138,
     "metadata": {},
     "output_type": "execute_result"
    }
   ],
   "source": [
    "d.items()"
   ]
  },
  {
   "cell_type": "code",
   "execution_count": 139,
   "id": "ef036182",
   "metadata": {},
   "outputs": [
    {
     "data": {
      "text/plain": [
       "('place', 'ahmedabad')"
      ]
     },
     "execution_count": 139,
     "metadata": {},
     "output_type": "execute_result"
    }
   ],
   "source": [
    "d.popitem()"
   ]
  },
  {
   "cell_type": "code",
   "execution_count": 140,
   "id": "a1f16dcd",
   "metadata": {},
   "outputs": [
    {
     "data": {
      "text/plain": [
       "1959423825344"
      ]
     },
     "execution_count": 140,
     "metadata": {},
     "output_type": "execute_result"
    }
   ],
   "source": [
    "id(d)"
   ]
  },
  {
   "cell_type": "code",
   "execution_count": 141,
   "id": "3c942686",
   "metadata": {},
   "outputs": [
    {
     "data": {
      "text/plain": [
       "1958505264128"
      ]
     },
     "execution_count": 141,
     "metadata": {},
     "output_type": "execute_result"
    }
   ],
   "source": [
    "id(k)"
   ]
  },
  {
   "cell_type": "code",
   "execution_count": 142,
   "id": "1438656c",
   "metadata": {},
   "outputs": [
    {
     "data": {
      "text/plain": [
       "1958506156864"
      ]
     },
     "execution_count": 142,
     "metadata": {},
     "output_type": "execute_result"
    }
   ],
   "source": [
    "id(s)"
   ]
  },
  {
   "cell_type": "code",
   "execution_count": null,
   "id": "41317b32",
   "metadata": {},
   "outputs": [],
   "source": []
  }
 ],
 "metadata": {
  "kernelspec": {
   "display_name": "Python 3 (ipykernel)",
   "language": "python",
   "name": "python3"
  },
  "language_info": {
   "codemirror_mode": {
    "name": "ipython",
    "version": 3
   },
   "file_extension": ".py",
   "mimetype": "text/x-python",
   "name": "python",
   "nbconvert_exporter": "python",
   "pygments_lexer": "ipython3",
   "version": "3.9.12"
  }
 },
 "nbformat": 4,
 "nbformat_minor": 5
}
