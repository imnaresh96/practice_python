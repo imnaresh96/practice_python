{
 "cells": [
  {
   "cell_type": "code",
   "execution_count": null,
   "id": "548989ff",
   "metadata": {},
   "outputs": [],
   "source": [
    "a=input('Enter your first name: ')\n",
    "b=input('Enter your middle name: ')\n",
    "c=input('Enter your last name: ')\n",
    "s=input('Enter your subject name: ')\n",
    "if s=='python':\n",
    "  print(f'hello Mr. {a} {b} {c} you are student of python, your faculty name is Mr Kapil Jangid')\n",
    "else:\n",
    "  print('try another subject')\n"
   ]
  },
  {
   "cell_type": "code",
   "execution_count": null,
   "id": "ccf0d432",
   "metadata": {},
   "outputs": [],
   "source": [
    "k=[5,8,9,20,51,5,6,5,8,4,5,2,4,]\n",
    "s=[]\n",
    "for i in k:\n",
    "    if i not in s:\n",
    "        s.append(i)\n",
    "else:\n",
    "    print(s)"
   ]
  },
  {
   "cell_type": "code",
   "execution_count": null,
   "id": "5c46159b",
   "metadata": {},
   "outputs": [],
   "source": [
    "k=[]\n",
    "s=0\n",
    "for i in k:\n",
    "    s+=0\n",
    "    if s==0:\n",
    "        print(\"list is empty\")\n",
    "    else:\n",
    "        print('list is not empty')"
   ]
  },
  {
   "cell_type": "code",
   "execution_count": null,
   "id": "20a69a23",
   "metadata": {},
   "outputs": [],
   "source": [
    "s=[4,8,95,3,6,4,2]\n",
    "k=[5,4,8,6,5,2,3]\n",
    "for k in s:\n",
    "    print(k)"
   ]
  },
  {
   "cell_type": "code",
   "execution_count": null,
   "id": "ca29881f",
   "metadata": {},
   "outputs": [],
   "source": [
    "mylist = [\"a]\n",
    "mylist = list(dict.fromkeys(mylist))\n",
    "print(mylist)\n"
   ]
  },
  {
   "cell_type": "code",
   "execution_count": 11,
   "id": "fa569aab",
   "metadata": {},
   "outputs": [
    {
     "name": "stdout",
     "output_type": "stream",
     "text": [
      "9\n"
     ]
    }
   ],
   "source": [
    "s=[4,5,6,9,8,5]\n",
    "n=0\n",
    "s.sort()\n",
    "for i in range(1,len(s)):\n",
    "    n=n+s[i]\n",
    "else:\n",
    "    print(s[-1])"
   ]
  },
  {
   "cell_type": "code",
   "execution_count": 13,
   "id": "b70a5307",
   "metadata": {},
   "outputs": [
    {
     "name": "stdout",
     "output_type": "stream",
     "text": [
      "Enter something here: fdsss\n",
      "try again with other value\n"
     ]
    }
   ],
   "source": [
    "#reverses a string if its length is a multiple of 4.\n",
    "s=input('Enter something here: ')\n",
    "k=len(s)\n",
    "if k % 4 == 0:\n",
    "    print(s[::-1])\n",
    "    \n",
    "else:\n",
    "    print('try again with other value')"
   ]
  },
  {
   "cell_type": "code",
   "execution_count": 4,
   "id": "f4e5af43",
   "metadata": {},
   "outputs": [],
   "source": [
    "m='naresh'\n"
   ]
  },
  {
   "cell_type": "code",
   "execution_count": 10,
   "id": "f94e4302",
   "metadata": {},
   "outputs": [
    {
     "data": {
      "text/plain": [
       "'nares'"
      ]
     },
     "execution_count": 10,
     "metadata": {},
     "output_type": "execute_result"
    }
   ],
   "source": [
    "m[]"
   ]
  },
  {
   "cell_type": "code",
   "execution_count": 19,
   "id": "957726ff",
   "metadata": {},
   "outputs": [
    {
     "name": "stdout",
     "output_type": "stream",
     "text": [
      "nash\n"
     ]
    }
   ],
   "source": [
    "s='naresh'\n",
    "k=len(s)\n",
    "if k > 2:\n",
    "    print(s[:2]+s[-2:])\n",
    "else:\n",
    "    pass\n",
    "    "
   ]
  },
  {
   "cell_type": "code",
   "execution_count": 21,
   "id": "bf317fb2",
   "metadata": {},
   "outputs": [
    {
     "name": "stdout",
     "output_type": "stream",
     "text": [
      "Enter Something here: naresh is not poor\n",
      "naresh is good\n"
     ]
    }
   ],
   "source": [
    "# replace 'not poor' to 'good'\n",
    "a=input('Enter Something here: ')\n",
    "k=a.replace('not poor','good')\n",
    "print(k)"
   ]
  },
  {
   "cell_type": "code",
   "execution_count": 27,
   "id": "3a373ddb",
   "metadata": {},
   "outputs": [
    {
     "name": "stdout",
     "output_type": "stream",
     "text": [
      "kuresh\n",
      "namar\n"
     ]
    }
   ],
   "source": [
    "k='naresh'\n",
    "m='kumar'\n",
    "print(m[:2]+k[2:])\n",
    "print(k[:2]+m[2:])"
   ]
  },
  {
   "cell_type": "code",
   "execution_count": 32,
   "id": "3e46112b",
   "metadata": {},
   "outputs": [
    {
     "name": "stdout",
     "output_type": "stream",
     "text": [
      "naresh\n",
      "kumar\n",
      "ku resh\n",
      "na mar\n"
     ]
    }
   ],
   "source": [
    "k=input()\n",
    "m=input()\n",
    "l=' '\n",
    "print(m[:2]+ l +k[2:])\n",
    "print(k[:2]+ l +m[2:])"
   ]
  },
  {
   "cell_type": "code",
   "execution_count": 39,
   "id": "7b58c345",
   "metadata": {},
   "outputs": [
    {
     "name": "stdout",
     "output_type": "stream",
     "text": [
      "1\n",
      "3\n",
      "6\n",
      "10\n",
      "15\n",
      "21\n",
      "28\n"
     ]
    }
   ],
   "source": [
    "s=7\n",
    "n=1\n",
    "sum=0\n",
    "while n<=s:\n",
    "    sum=sum+n\n",
    "    print(sum)\n",
    "    n+=1"
   ]
  },
  {
   "cell_type": "code",
   "execution_count": 51,
   "id": "c626c047",
   "metadata": {},
   "outputs": [
    {
     "name": "stdout",
     "output_type": "stream",
     "text": [
      "1\n",
      "2\n",
      "3\n",
      "5\n",
      "8\n",
      "13\n",
      "21\n",
      "34\n"
     ]
    }
   ],
   "source": [
    "a=10\n",
    "b=0\n",
    "c=1\n",
    "for i in range(2, a):\n",
    "    d=b+c\n",
    "    b=c\n",
    "    c=d\n",
    "    print(d)"
   ]
  },
  {
   "cell_type": "code",
   "execution_count": 52,
   "id": "67a153cc",
   "metadata": {},
   "outputs": [
    {
     "name": "stdout",
     "output_type": "stream",
     "text": [
      "8\n",
      "1\n",
      "2\n",
      "3\n",
      "5\n",
      "8\n",
      "13\n"
     ]
    }
   ],
   "source": [
    "# Fibonacci series of given range.\n",
    "a=int(input())\n",
    "b=0\n",
    "c=1\n",
    "for i in range(2, a):\n",
    "    d=b+c\n",
    "    b=c\n",
    "    c=d\n",
    "    print(d)"
   ]
  },
  {
   "cell_type": "code",
   "execution_count": null,
   "id": "dbf98cf7",
   "metadata": {},
   "outputs": [],
   "source": []
  }
 ],
 "metadata": {
  "kernelspec": {
   "display_name": "Python 3 (ipykernel)",
   "language": "python",
   "name": "python3"
  },
  "language_info": {
   "codemirror_mode": {
    "name": "ipython",
    "version": 3
   },
   "file_extension": ".py",
   "mimetype": "text/x-python",
   "name": "python",
   "nbconvert_exporter": "python",
   "pygments_lexer": "ipython3",
   "version": "3.9.12"
  }
 },
 "nbformat": 4,
 "nbformat_minor": 5
}
