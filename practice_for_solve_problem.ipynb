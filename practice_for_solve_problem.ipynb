{
 "cells": [
  {
   "cell_type": "code",
   "execution_count": null,
   "id": "548989ff",
   "metadata": {},
   "outputs": [],
   "source": [
    "a=input('Enter your first name: ')\n",
    "b=input('Enter your middle name: ')\n",
    "c=input('Enter your last name: ')\n",
    "s=input('Enter your subject name: ')\n",
    "if s=='python':\n",
    "  print(f'hello Mr. {a} {b} {c} you are student of python, your faculty name is Mr Kapil Jangid')\n",
    "else:\n",
    "  print('try another subject')\n"
   ]
  },
  {
   "cell_type": "code",
   "execution_count": null,
   "id": "ccf0d432",
   "metadata": {},
   "outputs": [],
   "source": [
    "k=[5,8,9,20,51,5,6,5,8,4,5,2,4,]\n",
    "s=[]\n",
    "for i in k:\n",
    "    if i not in s:\n",
    "        s.append(i)\n",
    "else:\n",
    "    print(s)"
   ]
  },
  {
   "cell_type": "code",
   "execution_count": null,
   "id": "5c46159b",
   "metadata": {},
   "outputs": [],
   "source": [
    "k=[]\n",
    "s=0\n",
    "for i in k:\n",
    "    s+=0\n",
    "    if s==0:\n",
    "        print(\"list is empty\")\n",
    "    else:\n",
    "        print('list is not empty')"
   ]
  },
  {
   "cell_type": "code",
   "execution_count": null,
   "id": "20a69a23",
   "metadata": {},
   "outputs": [],
   "source": [
    "s=[4,8,95,3,6,4,2]\n",
    "k=[5,4,8,6,5,2,3]\n",
    "for k in s:\n",
    "    print(k)"
   ]
  },
  {
   "cell_type": "code",
   "execution_count": null,
   "id": "ca29881f",
   "metadata": {},
   "outputs": [],
   "source": [
    "mylist = [\"a]\n",
    "mylist = list(dict.fromkeys(mylist))\n",
    "print(mylist)\n"
   ]
  },
  {
   "cell_type": "code",
   "execution_count": 11,
   "id": "fa569aab",
   "metadata": {},
   "outputs": [
    {
     "name": "stdout",
     "output_type": "stream",
     "text": [
      "9\n"
     ]
    }
   ],
   "source": [
    "s=[4,5,6,9,8,5]\n",
    "n=0\n",
    "s.sort()\n",
    "for i in range(1,len(s)):\n",
    "    n=n+s[i]\n",
    "else:\n",
    "    print(s[-1])"
   ]
  },
  {
   "cell_type": "code",
   "execution_count": 13,
   "id": "b70a5307",
   "metadata": {},
   "outputs": [
    {
     "name": "stdout",
     "output_type": "stream",
     "text": [
      "Enter something here: fdsss\n",
      "try again with other value\n"
     ]
    }
   ],
   "source": [
    "#reverses a string if its length is a multiple of 4.\n",
    "s=input('Enter something here: ')\n",
    "k=len(s)\n",
    "if k % 4 == 0:\n",
    "    print(s[::-1])\n",
    "    \n",
    "else:\n",
    "    print('try again with other value')"
   ]
  },
  {
   "cell_type": "code",
   "execution_count": 4,
   "id": "a03bb807",
   "metadata": {},
   "outputs": [],
   "source": [
    "m='naresh'\n"
   ]
  },
  {
   "cell_type": "code",
   "execution_count": 10,
   "id": "bd69e86d",
   "metadata": {},
   "outputs": [
    {
     "data": {
      "text/plain": [
       "'nares'"
      ]
     },
     "execution_count": 10,
     "metadata": {},
     "output_type": "execute_result"
    }
   ],
   "source": [
    "m[]"
   ]
  },
  {
   "cell_type": "code",
   "execution_count": 19,
   "id": "c53f75f7",
   "metadata": {},
   "outputs": [
    {
     "name": "stdout",
     "output_type": "stream",
     "text": [
      "nash\n"
     ]
    }
   ],
   "source": [
    "s='naresh'\n",
    "k=len(s)\n",
    "if k > 2:\n",
    "    print(s[:2]+s[-2:])\n",
    "else:\n",
    "    pass\n",
    "    "
   ]
  },
  {
   "cell_type": "code",
   "execution_count": 21,
   "id": "bdd22a98",
   "metadata": {},
   "outputs": [
    {
     "name": "stdout",
     "output_type": "stream",
     "text": [
      "Enter Something here: naresh is not poor\n",
      "naresh is good\n"
     ]
    }
   ],
   "source": [
    "# replace 'not poor' to 'good'\n",
    "a=input('Enter Something here: ')\n",
    "k=a.replace('not poor','good')\n",
    "print(k)"
   ]
  },
  {
   "cell_type": "code",
   "execution_count": 27,
   "id": "c81c0530",
   "metadata": {},
   "outputs": [
    {
     "name": "stdout",
     "output_type": "stream",
     "text": [
      "kuresh\n",
      "namar\n"
     ]
    }
   ],
   "source": [
    "k='naresh'\n",
    "m='kumar'\n",
    "print(m[:2]+k[2:])\n",
    "print(k[:2]+m[2:])"
   ]
  },
  {
   "cell_type": "code",
   "execution_count": 32,
   "id": "7545607f",
   "metadata": {},
   "outputs": [
    {
     "name": "stdout",
     "output_type": "stream",
     "text": [
      "naresh\n",
      "kumar\n",
      "ku resh\n",
      "na mar\n"
     ]
    }
   ],
   "source": [
    "k=input()\n",
    "m=input()\n",
    "l=' '\n",
    "print(m[:2]+ l +k[2:])\n",
    "print(k[:2]+ l +m[2:])"
   ]
  },
  {
   "cell_type": "code",
   "execution_count": 39,
   "id": "7399b523",
   "metadata": {},
   "outputs": [
    {
     "name": "stdout",
     "output_type": "stream",
     "text": [
      "1\n",
      "3\n",
      "6\n",
      "10\n",
      "15\n",
      "21\n",
      "28\n"
     ]
    }
   ],
   "source": [
    "s=7\n",
    "n=1\n",
    "sum=0\n",
    "while n<=s:\n",
    "    sum=sum+n\n",
    "    print(sum)\n",
    "    n+=1"
   ]
  },
  {
   "cell_type": "code",
   "execution_count": 51,
   "id": "5673c2ef",
   "metadata": {},
   "outputs": [
    {
     "name": "stdout",
     "output_type": "stream",
     "text": [
      "1\n",
      "2\n",
      "3\n",
      "5\n",
      "8\n",
      "13\n",
      "21\n",
      "34\n"
     ]
    }
   ],
   "source": [
    "a=10\n",
    "b=0\n",
    "c=1\n",
    "for i in range(2, a):\n",
    "    d=b+c\n",
    "    b=c\n",
    "    c=d\n",
    "    print(d)"
   ]
  },
  {
   "cell_type": "code",
   "execution_count": 52,
   "id": "4fe36103",
   "metadata": {},
   "outputs": [
    {
     "name": "stdout",
     "output_type": "stream",
     "text": [
      "8\n",
      "1\n",
      "2\n",
      "3\n",
      "5\n",
      "8\n",
      "13\n"
     ]
    }
   ],
   "source": [
    "\n",
    "a=int(input())\n",
    "b=0\n",
    "c=1\n",
    "for i in range(2, a):\n",
    "    d=b+c\n",
    "    b=c\n",
    "    c=d\n",
    "    print(d)"
   ]
  },
  {
   "cell_type": "code",
   "execution_count": 66,
   "id": "91219a1f",
   "metadata": {},
   "outputs": [
    {
     "ename": "NameError",
     "evalue": "name 'count' is not defined",
     "output_type": "error",
     "traceback": [
      "\u001b[1;31m---------------------------------------------------------------------------\u001b[0m",
      "\u001b[1;31mNameError\u001b[0m                                 Traceback (most recent call last)",
      "Input \u001b[1;32mIn [66]\u001b[0m, in \u001b[0;36m<cell line: 3>\u001b[1;34m()\u001b[0m\n\u001b[0;32m      2\u001b[0m s\u001b[38;5;241m=\u001b[39m{}\n\u001b[0;32m      3\u001b[0m \u001b[38;5;28;01mfor\u001b[39;00m i \u001b[38;5;129;01min\u001b[39;00m k:\n\u001b[1;32m----> 4\u001b[0m     r \u001b[38;5;241m=\u001b[39m \u001b[43mcount\u001b[49m (i)\n\u001b[0;32m      5\u001b[0m     \u001b[38;5;28;01mif\u001b[39;00m r\u001b[38;5;241m>\u001b[39m\u001b[38;5;241m1\u001b[39m:\n\u001b[0;32m      6\u001b[0m         \u001b[38;5;28;01mpass\u001b[39;00m\n",
      "\u001b[1;31mNameError\u001b[0m: name 'count' is not defined"
     ]
    }
   ],
   "source": [
    "k='nareshkumar'\n",
    "s={}\n",
    "for i in k:\n",
    "    r = count (i)\n",
    "    if r>1:\n",
    "        pass\n",
    "    else:\n",
    "        print(r)"
   ]
  },
  {
   "cell_type": "code",
   "execution_count": 74,
   "id": "880dcfe8",
   "metadata": {},
   "outputs": [
    {
     "data": {
      "text/plain": [
       "3"
      ]
     },
     "execution_count": 74,
     "metadata": {},
     "output_type": "execute_result"
    }
   ],
   "source": [
    "a='hello world'\n",
    "a.count('l')"
   ]
  },
  {
   "cell_type": "code",
   "execution_count": 78,
   "id": "08496e72",
   "metadata": {},
   "outputs": [
    {
     "name": "stdout",
     "output_type": "stream",
     "text": [
      "17\n",
      "1\n",
      "2\n",
      "3\n",
      "5\n",
      "8\n",
      "13\n",
      "21\n",
      "34\n",
      "55\n",
      "89\n",
      "144\n",
      "233\n",
      "377\n",
      "610\n",
      "987\n",
      "1597\n",
      "2584\n"
     ]
    }
   ],
   "source": [
    "# Fibonacci series of given range.\n",
    "a=int(input())\n",
    "b=0\n",
    "c=1\n",
    "for i in range(a):\n",
    "    d=b+c\n",
    "    b=c\n",
    "    c=d\n",
    "    print(d)"
   ]
  },
  {
   "cell_type": "code",
   "execution_count": 80,
   "id": "0c872df2",
   "metadata": {},
   "outputs": [
    {
     "name": "stdout",
     "output_type": "stream",
     "text": [
      "4\n",
      "1\n",
      "1\n",
      "1\n",
      "1\n"
     ]
    }
   ],
   "source": [
    "a=int(input())\n",
    "b=1\n",
    "c=1\n",
    "for i in range(a):\n",
    "    d=b*c\n",
    "    b=c\n",
    "    c=d\n",
    "    print(d)"
   ]
  },
  {
   "cell_type": "code",
   "execution_count": null,
   "id": "34de82ba",
   "metadata": {},
   "outputs": [],
   "source": []
  }
 ],
 "metadata": {
  "kernelspec": {
   "display_name": "Python 3 (ipykernel)",
   "language": "python",
   "name": "python3"
  },
  "language_info": {
   "codemirror_mode": {
    "name": "ipython",
    "version": 3
   },
   "file_extension": ".py",
   "mimetype": "text/x-python",
   "name": "python",
   "nbconvert_exporter": "python",
   "pygments_lexer": "ipython3",
   "version": "3.9.12"
  }
 },
 "nbformat": 4,
 "nbformat_minor": 5
}
