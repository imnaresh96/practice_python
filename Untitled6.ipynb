{
 "cells": [
  {
   "cell_type": "code",
   "execution_count": 13,
   "id": "1cc948e4",
   "metadata": {},
   "outputs": [
    {
     "name": "stdout",
     "output_type": "stream",
     "text": [
      "Enter A Number: -5\n",
      "Nagetive\n"
     ]
    }
   ],
   "source": [
    "a=input(\"Enter A Number: \")\n",
    "a=int(a)\n",
    "if a>0:\n",
    "    print(\"positive\")\n",
    "elif a<0:\n",
    "    print(\"Nagetive\")\n",
    "else:\n",
    "    print(\"zero\")\n",
    "        "
   ]
  },
  {
   "cell_type": "code",
   "execution_count": 19,
   "id": "568d5baa",
   "metadata": {},
   "outputs": [
    {
     "name": "stdout",
     "output_type": "stream",
     "text": [
      "Enter A Number: 5\n",
      "1\n",
      "2\n",
      "6\n",
      "24\n",
      "120\n"
     ]
    }
   ],
   "source": [
    "b=int(input(\"Enter A Number: \"))\n",
    "a=1\n",
    "for i in range(1,(b+1)):\n",
    "    a=a*i\n",
    "    print(a)\n",
    "    "
   ]
  },
  {
   "cell_type": "code",
   "execution_count": 21,
   "id": "bc044ea3",
   "metadata": {},
   "outputs": [
    {
     "name": "stdout",
     "output_type": "stream",
     "text": [
      "Enter A number: 5\n",
      "1\n",
      "2\n",
      "3\n",
      "5\n",
      "8\n"
     ]
    }
   ],
   "source": [
    "a=int(input(\"Enter A number: \"))\n",
    "a=int(a)\n",
    "b=0\n",
    "c=1\n",
    "for  i in range(1,(a+1)):\n",
    "    d=b+c\n",
    "    b=c\n",
    "    c=d\n",
    "    print(d)"
   ]
  },
  {
   "cell_type": "code",
   "execution_count": 22,
   "id": "574290a0",
   "metadata": {},
   "outputs": [
    {
     "name": "stdout",
     "output_type": "stream",
     "text": [
      "10\n",
      "1\n",
      "2\n",
      "3\n",
      "5\n",
      "8\n",
      "13\n",
      "21\n",
      "34\n",
      "55\n",
      "89\n"
     ]
    }
   ],
   "source": [
    "a=int(input())\n",
    "b=0\n",
    "c=1\n",
    "for i in range(1,(a+1)):\n",
    "    d=b+c\n",
    "    b=c\n",
    "    c=d\n",
    "    print(d)"
   ]
  },
  {
   "cell_type": "code",
   "execution_count": 23,
   "id": "98385091",
   "metadata": {},
   "outputs": [
    {
     "name": "stdout",
     "output_type": "stream",
     "text": [
      "before a=5 b=3\n",
      "after a=3 b=5\n"
     ]
    }
   ],
   "source": [
    "a=5\n",
    "b=3\n",
    "print(f\"before a={a} b={b}\")\n",
    "temp=a\n",
    "a=b\n",
    "b=temp\n",
    "print(f\"after a={a} b={b}\")"
   ]
  },
  {
   "cell_type": "code",
   "execution_count": 30,
   "id": "78a715b8",
   "metadata": {},
   "outputs": [
    {
     "name": "stdout",
     "output_type": "stream",
     "text": [
      "Enter A Number: 44\n",
      "number 44.0 is Even\n"
     ]
    }
   ],
   "source": [
    "a=float(input(\"Enter A Number: \"))\n",
    "if a%2==0:\n",
    "    print(f\"number {a} is Even\")\n",
    "else:\n",
    "    print(f\"number {a} is odd\")"
   ]
  },
  {
   "cell_type": "code",
   "execution_count": 33,
   "id": "d6d8c064",
   "metadata": {},
   "outputs": [
    {
     "name": "stdout",
     "output_type": "stream",
     "text": [
      "Enter A Letter: i\n",
      "i is vowel\n"
     ]
    }
   ],
   "source": [
    "a=input(\"Enter A Letter: \")\n",
    "if a=='a' or a=='e' or a=='i' or a=='o' or a=='u':\n",
    "    print(f\"{a} is vowel\")\n",
    "else:\n",
    "    print(f'{a} is not vowel')"
   ]
  },
  {
   "cell_type": "code",
   "execution_count": 40,
   "id": "9c5e0e62",
   "metadata": {},
   "outputs": [
    {
     "name": "stdout",
     "output_type": "stream",
     "text": [
      "Enter 1st Number2\n",
      "Enter 2nd Number3\n",
      "Enter 3rd Number2\n",
      "Sum is 0\n"
     ]
    }
   ],
   "source": [
    "a=int(input(\"Enter 1st Number\"))\n",
    "b=int(input(\"Enter 2nd Number\"))\n",
    "c=int(input(\"Enter 3rd Number\"))\n",
    "if a==b or b==c or a==c:\n",
    "    print(\"Sum is 0\")\n",
    "else:\n",
    "    print(\"sum is \",(a+b+c))"
   ]
  },
  {
   "cell_type": "code",
   "execution_count": 44,
   "id": "73455be6",
   "metadata": {},
   "outputs": [
    {
     "name": "stdout",
     "output_type": "stream",
     "text": [
      "Enter 1st Number3\n",
      "Enter 2nd Number8\n",
      "True\n"
     ]
    }
   ],
   "source": [
    "a=int(input(\"Enter 1st Number\"))\n",
    "b=int(input(\"Enter 2nd Number\"))\n",
    "if a-b==5 or b-a==5 or a+b==5:\n",
    "    print(True)\n",
    "else:\n",
    "    print(False)"
   ]
  },
  {
   "cell_type": "code",
   "execution_count": 45,
   "id": "ce1fe5a5",
   "metadata": {},
   "outputs": [
    {
     "name": "stdout",
     "output_type": "stream",
     "text": [
      "Naresh kumar\n",
      "Length of string is 12\n"
     ]
    }
   ],
   "source": [
    "a=input()\n",
    "b=0\n",
    "for i in a:\n",
    "    b+=1\n",
    "print(f\"Length of string is {b}\")\n"
   ]
  },
  {
   "cell_type": "code",
   "execution_count": 48,
   "id": "26835551",
   "metadata": {},
   "outputs": [
    {
     "name": "stdout",
     "output_type": "stream",
     "text": [
      "welcome to tops\n",
      "True\n"
     ]
    }
   ],
   "source": [
    "a=input()\n",
    "b=\"to\"\n",
    "if b in a:\n",
    "    print(True)\n",
    "else:\n",
    "    print(False)"
   ]
  },
  {
   "cell_type": "code",
   "execution_count": 56,
   "id": "1eaa45ef",
   "metadata": {},
   "outputs": [
    {
     "name": "stdout",
     "output_type": "stream",
     "text": [
      "hello\n",
      "dear\n",
      "dello   hear\n"
     ]
    }
   ],
   "source": [
    "a=input()\n",
    "b=input()\n",
    "c=b[:2]+a[2:]\n",
    "d=a[:2]+b[2:]\n",
    "print(c ,\" \",d)"
   ]
  },
  {
   "cell_type": "code",
   "execution_count": 60,
   "id": "e7e94262",
   "metadata": {},
   "outputs": [
    {
     "name": "stdout",
     "output_type": "stream",
     "text": [
      "laying\n",
      "layly\n"
     ]
    }
   ],
   "source": [
    "a=input()\n",
    "if len(a)>3:\n",
    "    if a.endswith('ing'):\n",
    "        b=a.replace('ing','ly')\n",
    "        print(b)\n",
    "    else:\n",
    "        a+='ing'\n",
    "        print(a)\n",
    "else:\n",
    "    print(\"try with new string\")"
   ]
  },
  {
   "cell_type": "code",
   "execution_count": 68,
   "id": "f4cdc350",
   "metadata": {},
   "outputs": [
    {
     "name": "stdout",
     "output_type": "stream",
     "text": [
      "naresh kumar     \n",
      "2\n"
     ]
    }
   ],
   "source": [
    "a=input()\n",
    "a=a.strip()\n",
    "b=\" \"\n",
    "c=1\n",
    "for i in a:\n",
    "    if i==b:\n",
    "        c+=1\n",
    "    \n",
    "print(c)"
   ]
  },
  {
   "cell_type": "code",
   "execution_count": 70,
   "id": "2c3e3175",
   "metadata": {},
   "outputs": [
    {
     "name": "stdout",
     "output_type": "stream",
     "text": [
      "i am not poor\n",
      "i am good\n"
     ]
    }
   ],
   "source": [
    "a=input()\n",
    "b=a.replace(\"not poor\",'good')\n",
    "print(b)"
   ]
  },
  {
   "cell_type": "code",
   "execution_count": 78,
   "id": "702fdeaa",
   "metadata": {},
   "outputs": [
    {
     "name": "stdout",
     "output_type": "stream",
     "text": [
      "7\n"
     ]
    }
   ],
   "source": [
    "a=[\"Naresh\",'Kailash','Rahul']\n",
    "longest=0\n",
    "for i in a:\n",
    "    if len(i)>longest:\n",
    "        longest=len(i)\n",
    "print(longest)"
   ]
  },
  {
   "cell_type": "code",
   "execution_count": 77,
   "id": "bcc6726a",
   "metadata": {},
   "outputs": [
    {
     "data": {
      "text/plain": [
       "('Naresh', 'Kailash', 'Rahul')"
      ]
     },
     "execution_count": 77,
     "metadata": {},
     "output_type": "execute_result"
    }
   ],
   "source": [
    "a"
   ]
  },
  {
   "cell_type": "code",
   "execution_count": 84,
   "id": "58e89f42",
   "metadata": {},
   "outputs": [
    {
     "name": "stdout",
     "output_type": "stream",
     "text": [
      "naresh kumar\n",
      "ramuk hseran\n"
     ]
    }
   ],
   "source": [
    "a=input()\n",
    "b=len(a)\n",
    "if b%4==0:\n",
    "    b=''.join(reversed(a))\n",
    "    print(b)\n",
    "else:\n",
    "    pass"
   ]
  },
  {
   "cell_type": "code",
   "execution_count": 85,
   "id": "4a2e059a",
   "metadata": {},
   "outputs": [
    {
     "name": "stdout",
     "output_type": "stream",
     "text": [
      "naresh\n",
      "nash\n"
     ]
    }
   ],
   "source": [
    "a=input()\n",
    "b=len(a)\n",
    "if b>2:\n",
    "    c=a[:2]+a[-2:]\n",
    "    print(c)\n",
    "else:\n",
    "    pass"
   ]
  },
  {
   "cell_type": "code",
   "execution_count": null,
   "id": "69b09223",
   "metadata": {},
   "outputs": [],
   "source": []
  }
 ],
 "metadata": {
  "kernelspec": {
   "display_name": "Python 3 (ipykernel)",
   "language": "python",
   "name": "python3"
  },
  "language_info": {
   "codemirror_mode": {
    "name": "ipython",
    "version": 3
   },
   "file_extension": ".py",
   "mimetype": "text/x-python",
   "name": "python",
   "nbconvert_exporter": "python",
   "pygments_lexer": "ipython3",
   "version": "3.9.12"
  }
 },
 "nbformat": 4,
 "nbformat_minor": 5
}
