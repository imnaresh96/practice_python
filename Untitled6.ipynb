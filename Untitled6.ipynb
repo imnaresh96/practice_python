{
 "cells": [
  {
   "cell_type": "code",
   "execution_count": 13,
   "id": "1cc948e4",
   "metadata": {},
   "outputs": [
    {
     "name": "stdout",
     "output_type": "stream",
     "text": [
      "Enter A Number: -5\n",
      "Nagetive\n"
     ]
    }
   ],
   "source": [
    "a=input(\"Enter A Number: \")\n",
    "a=int(a)\n",
    "if a>0:\n",
    "    print(\"positive\")\n",
    "elif a<0:\n",
    "    print(\"Nagetive\")\n",
    "else:\n",
    "    print(\"zero\")\n",
    "        "
   ]
  },
  {
   "cell_type": "code",
   "execution_count": 19,
   "id": "568d5baa",
   "metadata": {},
   "outputs": [
    {
     "name": "stdout",
     "output_type": "stream",
     "text": [
      "Enter A Number: 5\n",
      "1\n",
      "2\n",
      "6\n",
      "24\n",
      "120\n"
     ]
    }
   ],
   "source": [
    "b=int(input(\"Enter A Number: \"))\n",
    "a=1\n",
    "for i in range(1,(b+1)):\n",
    "    a=a*i\n",
    "    print(a)\n",
    "    "
   ]
  },
  {
   "cell_type": "code",
   "execution_count": 21,
   "id": "bc044ea3",
   "metadata": {},
   "outputs": [
    {
     "name": "stdout",
     "output_type": "stream",
     "text": [
      "Enter A number: 5\n",
      "1\n",
      "2\n",
      "3\n",
      "5\n",
      "8\n"
     ]
    }
   ],
   "source": [
    "a=int(input(\"Enter A number: \"))\n",
    "a=int(a)\n",
    "b=0\n",
    "c=1\n",
    "for  i in range(1,(a+1)):\n",
    "    d=b+c\n",
    "    b=c\n",
    "    c=d\n",
    "    print(d)"
   ]
  },
  {
   "cell_type": "code",
   "execution_count": 22,
   "id": "574290a0",
   "metadata": {},
   "outputs": [
    {
     "name": "stdout",
     "output_type": "stream",
     "text": [
      "10\n",
      "1\n",
      "2\n",
      "3\n",
      "5\n",
      "8\n",
      "13\n",
      "21\n",
      "34\n",
      "55\n",
      "89\n"
     ]
    }
   ],
   "source": [
    "a=int(input())\n",
    "b=0\n",
    "c=1\n",
    "for i in range(1,(a+1)):\n",
    "    d=b+c\n",
    "    b=c\n",
    "    c=d\n",
    "    print(d)"
   ]
  },
  {
   "cell_type": "code",
   "execution_count": 23,
   "id": "98385091",
   "metadata": {},
   "outputs": [
    {
     "name": "stdout",
     "output_type": "stream",
     "text": [
      "before a=5 b=3\n",
      "after a=3 b=5\n"
     ]
    }
   ],
   "source": [
    "a=5\n",
    "b=3\n",
    "print(f\"before a={a} b={b}\")\n",
    "temp=a\n",
    "a=b\n",
    "b=temp\n",
    "print(f\"after a={a} b={b}\")"
   ]
  },
  {
   "cell_type": "code",
   "execution_count": 30,
   "id": "78a715b8",
   "metadata": {},
   "outputs": [
    {
     "name": "stdout",
     "output_type": "stream",
     "text": [
      "Enter A Number: 44\n",
      "number 44.0 is Even\n"
     ]
    }
   ],
   "source": [
    "a=float(input(\"Enter A Number: \"))\n",
    "if a%2==0:\n",
    "    print(f\"number {a} is Even\")\n",
    "else:\n",
    "    print(f\"number {a} is odd\")"
   ]
  },
  {
   "cell_type": "code",
   "execution_count": 33,
   "id": "d6d8c064",
   "metadata": {},
   "outputs": [
    {
     "name": "stdout",
     "output_type": "stream",
     "text": [
      "Enter A Letter: i\n",
      "i is vowel\n"
     ]
    }
   ],
   "source": [
    "a=input(\"Enter A Letter: \")\n",
    "if a=='a' or a=='e' or a=='i' or a=='o' or a=='u':\n",
    "    print(f\"{a} is vowel\")\n",
    "else:\n",
    "    print(f'{a} is not vowel')"
   ]
  },
  {
   "cell_type": "code",
   "execution_count": 40,
   "id": "9c5e0e62",
   "metadata": {},
   "outputs": [
    {
     "name": "stdout",
     "output_type": "stream",
     "text": [
      "Enter 1st Number2\n",
      "Enter 2nd Number3\n",
      "Enter 3rd Number2\n",
      "Sum is 0\n"
     ]
    }
   ],
   "source": [
    "a=int(input(\"Enter 1st Number\"))\n",
    "b=int(input(\"Enter 2nd Number\"))\n",
    "c=int(input(\"Enter 3rd Number\"))\n",
    "if a==b or b==c or a==c:\n",
    "    print(\"Sum is 0\")\n",
    "else:\n",
    "    print(\"sum is \",(a+b+c))"
   ]
  },
  {
   "cell_type": "code",
   "execution_count": 44,
   "id": "73455be6",
   "metadata": {},
   "outputs": [
    {
     "name": "stdout",
     "output_type": "stream",
     "text": [
      "Enter 1st Number3\n",
      "Enter 2nd Number8\n",
      "True\n"
     ]
    }
   ],
   "source": [
    "a=int(input(\"Enter 1st Number\"))\n",
    "b=int(input(\"Enter 2nd Number\"))\n",
    "if a-b==5 or b-a==5 or a+b==5:\n",
    "    print(True)\n",
    "else:\n",
    "    print(False)"
   ]
  },
  {
   "cell_type": "code",
   "execution_count": 45,
   "id": "ce1fe5a5",
   "metadata": {},
   "outputs": [
    {
     "name": "stdout",
     "output_type": "stream",
     "text": [
      "Naresh kumar\n",
      "Length of string is 12\n"
     ]
    }
   ],
   "source": [
    "a=input()\n",
    "b=0\n",
    "for i in a:\n",
    "    b+=1\n",
    "print(f\"Length of string is {b}\")\n"
   ]
  },
  {
   "cell_type": "code",
   "execution_count": 48,
   "id": "26835551",
   "metadata": {},
   "outputs": [
    {
     "name": "stdout",
     "output_type": "stream",
     "text": [
      "welcome to tops\n",
      "True\n"
     ]
    }
   ],
   "source": [
    "a=input()\n",
    "b=\"to\"\n",
    "if b in a:\n",
    "    print(True)\n",
    "else:\n",
    "    print(False)"
   ]
  },
  {
   "cell_type": "code",
   "execution_count": 56,
   "id": "1eaa45ef",
   "metadata": {},
   "outputs": [
    {
     "name": "stdout",
     "output_type": "stream",
     "text": [
      "hello\n",
      "dear\n",
      "dello   hear\n"
     ]
    }
   ],
   "source": [
    "a=input()\n",
    "b=input()\n",
    "c=b[:2]+a[2:]\n",
    "d=a[:2]+b[2:]\n",
    "print(c ,\" \",d)"
   ]
  },
  {
   "cell_type": "code",
   "execution_count": 60,
   "id": "e7e94262",
   "metadata": {},
   "outputs": [
    {
     "name": "stdout",
     "output_type": "stream",
     "text": [
      "laying\n",
      "layly\n"
     ]
    }
   ],
   "source": [
    "a=input()\n",
    "if len(a)>3:\n",
    "    if a.endswith('ing'):\n",
    "        b=a.replace('ing','ly')\n",
    "        print(b)\n",
    "    else:\n",
    "        a+='ing'\n",
    "        print(a)\n",
    "else:\n",
    "    print(\"try with new string\")"
   ]
  },
  {
   "cell_type": "code",
   "execution_count": 68,
   "id": "f4cdc350",
   "metadata": {},
   "outputs": [
    {
     "name": "stdout",
     "output_type": "stream",
     "text": [
      "naresh kumar     \n",
      "2\n"
     ]
    }
   ],
   "source": [
    "a=input()\n",
    "a=a.strip()\n",
    "b=\" \"\n",
    "c=1\n",
    "for i in a:\n",
    "    if i==b:\n",
    "        c+=1\n",
    "    \n",
    "print(c)"
   ]
  },
  {
   "cell_type": "code",
   "execution_count": 70,
   "id": "2c3e3175",
   "metadata": {},
   "outputs": [
    {
     "name": "stdout",
     "output_type": "stream",
     "text": [
      "i am not poor\n",
      "i am good\n"
     ]
    }
   ],
   "source": [
    "a=input()\n",
    "b=a.replace(\"not poor\",'good')\n",
    "print(b)"
   ]
  },
  {
   "cell_type": "code",
   "execution_count": 78,
   "id": "702fdeaa",
   "metadata": {},
   "outputs": [
    {
     "name": "stdout",
     "output_type": "stream",
     "text": [
      "7\n"
     ]
    }
   ],
   "source": [
    "a=[\"Naresh\",'Kailash','Rahul']\n",
    "longest=0\n",
    "for i in a:\n",
    "    if len(i)>longest:\n",
    "        longest=len(i)\n",
    "print(longest)"
   ]
  },
  {
   "cell_type": "code",
   "execution_count": 77,
   "id": "bcc6726a",
   "metadata": {},
   "outputs": [
    {
     "data": {
      "text/plain": [
       "('Naresh', 'Kailash', 'Rahul')"
      ]
     },
     "execution_count": 77,
     "metadata": {},
     "output_type": "execute_result"
    }
   ],
   "source": [
    "a"
   ]
  },
  {
   "cell_type": "code",
   "execution_count": 84,
   "id": "58e89f42",
   "metadata": {},
   "outputs": [
    {
     "name": "stdout",
     "output_type": "stream",
     "text": [
      "naresh kumar\n",
      "ramuk hseran\n"
     ]
    }
   ],
   "source": [
    "a=input()\n",
    "b=len(a)\n",
    "if b%4==0:\n",
    "    b=''.join(reversed(a))\n",
    "    print(b)\n",
    "else:\n",
    "    pass"
   ]
  },
  {
   "cell_type": "code",
   "execution_count": 85,
   "id": "4a2e059a",
   "metadata": {},
   "outputs": [
    {
     "name": "stdout",
     "output_type": "stream",
     "text": [
      "naresh\n",
      "nash\n"
     ]
    }
   ],
   "source": [
    "a=input()\n",
    "b=len(a)\n",
    "if b>2:\n",
    "    c=a[:2]+a[-2:]\n",
    "    print(c)\n",
    "else:\n",
    "    pass"
   ]
  },
  {
   "cell_type": "code",
   "execution_count": 7,
   "id": "69b09223",
   "metadata": {},
   "outputs": [],
   "source": [
    "a=[25,65,4,5,6,8,5]"
   ]
  },
  {
   "cell_type": "code",
   "execution_count": 8,
   "id": "dc21b6ac",
   "metadata": {},
   "outputs": [],
   "source": [
    "a.reverse()"
   ]
  },
  {
   "cell_type": "code",
   "execution_count": 3,
   "id": "bbb2c99b",
   "metadata": {},
   "outputs": [],
   "source": [
    "a.sort()"
   ]
  },
  {
   "cell_type": "code",
   "execution_count": 9,
   "id": "51354a7d",
   "metadata": {},
   "outputs": [
    {
     "data": {
      "text/plain": [
       "[5, 8, 6, 5, 4, 65, 25]"
      ]
     },
     "execution_count": 9,
     "metadata": {},
     "output_type": "execute_result"
    }
   ],
   "source": [
    "a"
   ]
  },
  {
   "cell_type": "code",
   "execution_count": 10,
   "id": "e01b20cf",
   "metadata": {},
   "outputs": [
    {
     "data": {
      "text/plain": [
       "25"
      ]
     },
     "execution_count": 10,
     "metadata": {},
     "output_type": "execute_result"
    }
   ],
   "source": [
    "a.pop()"
   ]
  },
  {
   "cell_type": "code",
   "execution_count": 11,
   "id": "4fd2684c",
   "metadata": {},
   "outputs": [],
   "source": [
    "a.append(5)"
   ]
  },
  {
   "cell_type": "code",
   "execution_count": 12,
   "id": "44546f22",
   "metadata": {},
   "outputs": [
    {
     "data": {
      "text/plain": [
       "[5, 8, 6, 5, 4, 65, 5]"
      ]
     },
     "execution_count": 12,
     "metadata": {},
     "output_type": "execute_result"
    }
   ],
   "source": [
    "a"
   ]
  },
  {
   "cell_type": "code",
   "execution_count": 13,
   "id": "cb02cfcc",
   "metadata": {},
   "outputs": [],
   "source": [
    "a.extend([5,5,4,6,85,])"
   ]
  },
  {
   "cell_type": "code",
   "execution_count": 14,
   "id": "5aee9281",
   "metadata": {},
   "outputs": [
    {
     "data": {
      "text/plain": [
       "[5, 8, 6, 5, 4, 65, 5, 5, 5, 4, 6, 85]"
      ]
     },
     "execution_count": 14,
     "metadata": {},
     "output_type": "execute_result"
    }
   ],
   "source": [
    "a"
   ]
  },
  {
   "cell_type": "code",
   "execution_count": 15,
   "id": "8c1f58f0",
   "metadata": {},
   "outputs": [
    {
     "ename": "AttributeError",
     "evalue": "'list' object has no attribute 'sum'",
     "output_type": "error",
     "traceback": [
      "\u001b[1;31m---------------------------------------------------------------------------\u001b[0m",
      "\u001b[1;31mAttributeError\u001b[0m                            Traceback (most recent call last)",
      "Input \u001b[1;32mIn [15]\u001b[0m, in \u001b[0;36m<cell line: 1>\u001b[1;34m()\u001b[0m\n\u001b[1;32m----> 1\u001b[0m \u001b[43ma\u001b[49m\u001b[38;5;241;43m.\u001b[39;49m\u001b[43msum\u001b[49m()\n",
      "\u001b[1;31mAttributeError\u001b[0m: 'list' object has no attribute 'sum'"
     ]
    }
   ],
   "source": [
    "a.sum()"
   ]
  },
  {
   "cell_type": "code",
   "execution_count": 16,
   "id": "528f68f5",
   "metadata": {},
   "outputs": [
    {
     "name": "stdout",
     "output_type": "stream",
     "text": [
      "['__add__', '__class__', '__class_getitem__', '__contains__', '__delattr__', '__delitem__', '__dir__', '__doc__', '__eq__', '__format__', '__ge__', '__getattribute__', '__getitem__', '__gt__', '__hash__', '__iadd__', '__imul__', '__init__', '__init_subclass__', '__iter__', '__le__', '__len__', '__lt__', '__mul__', '__ne__', '__new__', '__reduce__', '__reduce_ex__', '__repr__', '__reversed__', '__rmul__', '__setattr__', '__setitem__', '__sizeof__', '__str__', '__subclasshook__', 'append', 'clear', 'copy', 'count', 'extend', 'index', 'insert', 'pop', 'remove', 'reverse', 'sort']\n"
     ]
    }
   ],
   "source": [
    "print(dir(a))"
   ]
  },
  {
   "cell_type": "code",
   "execution_count": 17,
   "id": "dc51e16a",
   "metadata": {},
   "outputs": [
    {
     "data": {
      "text/plain": [
       "203"
      ]
     },
     "execution_count": 17,
     "metadata": {},
     "output_type": "execute_result"
    }
   ],
   "source": [
    "\n",
    "sum(a)"
   ]
  },
  {
   "cell_type": "code",
   "execution_count": 18,
   "id": "39ab8c5b",
   "metadata": {},
   "outputs": [],
   "source": [
    "b=(5,4,6,9,8,5,2)"
   ]
  },
  {
   "cell_type": "code",
   "execution_count": 19,
   "id": "347d2857",
   "metadata": {},
   "outputs": [
    {
     "data": {
      "text/plain": [
       "39"
      ]
     },
     "execution_count": 19,
     "metadata": {},
     "output_type": "execute_result"
    }
   ],
   "source": [
    "sum(b)"
   ]
  },
  {
   "cell_type": "code",
   "execution_count": 20,
   "id": "121e9490",
   "metadata": {},
   "outputs": [],
   "source": [
    "a.sort()"
   ]
  },
  {
   "cell_type": "code",
   "execution_count": 21,
   "id": "619cf51e",
   "metadata": {},
   "outputs": [
    {
     "data": {
      "text/plain": [
       "[4, 4, 5, 5, 5, 5, 5, 6, 6, 8, 65, 85]"
      ]
     },
     "execution_count": 21,
     "metadata": {},
     "output_type": "execute_result"
    }
   ],
   "source": [
    "a"
   ]
  },
  {
   "cell_type": "code",
   "execution_count": 22,
   "id": "fbd1d78d",
   "metadata": {},
   "outputs": [
    {
     "data": {
      "text/plain": [
       "85"
      ]
     },
     "execution_count": 22,
     "metadata": {},
     "output_type": "execute_result"
    }
   ],
   "source": [
    "a[-1]"
   ]
  },
  {
   "cell_type": "code",
   "execution_count": 23,
   "id": "8d3f8f3c",
   "metadata": {},
   "outputs": [
    {
     "data": {
      "text/plain": [
       "4"
      ]
     },
     "execution_count": 23,
     "metadata": {},
     "output_type": "execute_result"
    }
   ],
   "source": [
    "a[0]"
   ]
  },
  {
   "cell_type": "code",
   "execution_count": 24,
   "id": "623365f2",
   "metadata": {},
   "outputs": [
    {
     "name": "stdout",
     "output_type": "stream",
     "text": [
      "203\n"
     ]
    }
   ],
   "source": [
    "c=0\n",
    "for i in a:\n",
    "    c+=i\n",
    "print(c)"
   ]
  },
  {
   "cell_type": "code",
   "execution_count": 29,
   "id": "0e3120ba",
   "metadata": {},
   "outputs": [
    {
     "name": "stdout",
     "output_type": "stream",
     "text": [
      "[4, 5, 6, 8, 65, 85]\n"
     ]
    }
   ],
   "source": [
    "c=list()\n",
    "for i in a:\n",
    "    if i not in c:\n",
    "        c.append(i)\n",
    "print(c)"
   ]
  },
  {
   "cell_type": "code",
   "execution_count": 38,
   "id": "d1965242",
   "metadata": {},
   "outputs": [
    {
     "name": "stdout",
     "output_type": "stream",
     "text": [
      "Not Empty\n"
     ]
    }
   ],
   "source": [
    "a=[5,4,5,8]\n",
    "b=len(a)\n",
    "if 0>b:\n",
    "    print(\"Empty\")\n",
    "else:\n",
    "    print(\"Not Empty\")"
   ]
  },
  {
   "cell_type": "code",
   "execution_count": 39,
   "id": "df8dac8c",
   "metadata": {},
   "outputs": [
    {
     "data": {
      "text/plain": [
       "[4, 5, 6, 8, 65, 85]"
      ]
     },
     "execution_count": 39,
     "metadata": {},
     "output_type": "execute_result"
    }
   ],
   "source": [
    "c"
   ]
  },
  {
   "cell_type": "code",
   "execution_count": 40,
   "id": "0ad37903",
   "metadata": {},
   "outputs": [
    {
     "data": {
      "text/plain": [
       "[5, 4, 5, 8]"
      ]
     },
     "execution_count": 40,
     "metadata": {},
     "output_type": "execute_result"
    }
   ],
   "source": [
    "a"
   ]
  },
  {
   "cell_type": "code",
   "execution_count": 43,
   "id": "defa32ff",
   "metadata": {},
   "outputs": [
    {
     "name": "stdout",
     "output_type": "stream",
     "text": [
      "True\n"
     ]
    }
   ],
   "source": [
    "for i in c:\n",
    "    if i in a:\n",
    "        print(True)\n",
    "        break\n",
    "    "
   ]
  },
  {
   "cell_type": "code",
   "execution_count": 44,
   "id": "4a69fbfa",
   "metadata": {},
   "outputs": [
    {
     "data": {
      "text/plain": [
       "[4, 5, 6, 8, 65, 85]"
      ]
     },
     "execution_count": 44,
     "metadata": {},
     "output_type": "execute_result"
    }
   ],
   "source": [
    "c"
   ]
  },
  {
   "cell_type": "code",
   "execution_count": 45,
   "id": "b608bf7c",
   "metadata": {},
   "outputs": [
    {
     "data": {
      "text/plain": [
       "[5, 4, 5, 8]"
      ]
     },
     "execution_count": 45,
     "metadata": {},
     "output_type": "execute_result"
    }
   ],
   "source": [
    "a"
   ]
  },
  {
   "cell_type": "code",
   "execution_count": 46,
   "id": "a424c1c6",
   "metadata": {},
   "outputs": [],
   "source": [
    "a=[5,4,5,6,9,8,5,2,3,1,7,8,]"
   ]
  },
  {
   "cell_type": "code",
   "execution_count": 47,
   "id": "8b9aa21c",
   "metadata": {},
   "outputs": [
    {
     "name": "stdout",
     "output_type": "stream",
     "text": [
      "[5, 4, 6, 9, 8, 2, 3, 1, 7]\n"
     ]
    }
   ],
   "source": [
    "b=list()\n",
    "for i in a:\n",
    "    if i not in b:\n",
    "        b.append(i)\n",
    "print(b)"
   ]
  },
  {
   "cell_type": "code",
   "execution_count": 48,
   "id": "0799e329",
   "metadata": {},
   "outputs": [
    {
     "name": "stdout",
     "output_type": "stream",
     "text": [
      "abtth\n"
     ]
    }
   ],
   "source": [
    "a=['a','b','t','t','h']\n",
    "b=''.join(a)\n",
    "print(b)"
   ]
  },
  {
   "cell_type": "code",
   "execution_count": 49,
   "id": "74b1c619",
   "metadata": {},
   "outputs": [],
   "source": [
    "a=(5,4,6,8,5,4)"
   ]
  },
  {
   "cell_type": "code",
   "execution_count": 52,
   "id": "c873a85f",
   "metadata": {},
   "outputs": [],
   "source": [
    "b=str(a)"
   ]
  },
  {
   "cell_type": "code",
   "execution_count": 53,
   "id": "501556be",
   "metadata": {},
   "outputs": [
    {
     "data": {
      "text/plain": [
       "'(5, 4, 6, 8, 5, 4)'"
      ]
     },
     "execution_count": 53,
     "metadata": {},
     "output_type": "execute_result"
    }
   ],
   "source": [
    "b"
   ]
  },
  {
   "cell_type": "code",
   "execution_count": 57,
   "id": "ac631321",
   "metadata": {},
   "outputs": [
    {
     "name": "stdout",
     "output_type": "stream",
     "text": [
      "krishna\n"
     ]
    }
   ],
   "source": [
    "a=('k','r','i','s','h','n','a')\n",
    "b=''\n",
    "c=str()\n",
    "for i in a:\n",
    "    b=b+i\n",
    "print(b)"
   ]
  },
  {
   "cell_type": "code",
   "execution_count": 60,
   "id": "9ea59886",
   "metadata": {},
   "outputs": [
    {
     "name": "stdout",
     "output_type": "stream",
     "text": [
      "((1, 3, 8), (2, 4, 9), (4, 0, 7))\n"
     ]
    }
   ],
   "source": [
    "l = [(1,2,4), (3,4,0 ), (8,9,7)]\n",
    "k=zip(*l)\n",
    "k=tuple(k)\n",
    "print(k)"
   ]
  },
  {
   "cell_type": "code",
   "execution_count": 73,
   "id": "98b375ff",
   "metadata": {},
   "outputs": [],
   "source": [
    "a=(\"Naresh\")\n",
    "b=[5,4,6,5,7,4]\n",
    "c=zip(b,a)"
   ]
  },
  {
   "cell_type": "code",
   "execution_count": 74,
   "id": "ed53010c",
   "metadata": {},
   "outputs": [
    {
     "data": {
      "text/plain": [
       "<zip at 0x186cc4183c0>"
      ]
     },
     "execution_count": 74,
     "metadata": {},
     "output_type": "execute_result"
    }
   ],
   "source": [
    "c"
   ]
  },
  {
   "cell_type": "code",
   "execution_count": 75,
   "id": "aa861e2d",
   "metadata": {},
   "outputs": [],
   "source": [
    "c=tuple(c)"
   ]
  },
  {
   "cell_type": "code",
   "execution_count": 76,
   "id": "f0abce5a",
   "metadata": {},
   "outputs": [
    {
     "data": {
      "text/plain": [
       "((5, 'N'), (4, 'a'), (6, 'r'), (5, 'e'), (7, 's'), (4, 'h'))"
      ]
     },
     "execution_count": 76,
     "metadata": {},
     "output_type": "execute_result"
    }
   ],
   "source": [
    "c"
   ]
  },
  {
   "cell_type": "code",
   "execution_count": 77,
   "id": "4b33df01",
   "metadata": {},
   "outputs": [
    {
     "name": "stdout",
     "output_type": "stream",
     "text": [
      "{'a': 1, 'b': 2, 'c': 3}\n",
      "{1: 'a', 2: 'b', 3: 'c'}\n"
     ]
    }
   ],
   "source": [
    "t = ((\"a\", 1),('b', 2),('c',3))\n",
    "di1 = dict(t)\n",
    "di2 = dict((y,x) for x,y in t)\n",
    "print(di1)\n",
    "print(di2)"
   ]
  },
  {
   "cell_type": "code",
   "execution_count": 80,
   "id": "8c0e7650",
   "metadata": {},
   "outputs": [
    {
     "name": "stdout",
     "output_type": "stream",
     "text": [
      "{'a': 1, 'b': 2, 'c': 3}\n"
     ]
    }
   ],
   "source": [
    "t = ((\"a\", 1),('b', 2),('c',3))\n",
    "d=dict((x,y)for x,y in t)\n",
    "print(d)"
   ]
  },
  {
   "cell_type": "code",
   "execution_count": 81,
   "id": "b6d238fa",
   "metadata": {},
   "outputs": [
    {
     "name": "stdout",
     "output_type": "stream",
     "text": [
      "name\n",
      "True\n"
     ]
    }
   ],
   "source": [
    "m={'name':'naresh','class':'python','place':'maninagar'}\n",
    "d=m.keys()\n",
    "s=input()\n",
    "print(s in d)"
   ]
  },
  {
   "cell_type": "code",
   "execution_count": 82,
   "id": "2e6a9d2e",
   "metadata": {},
   "outputs": [
    {
     "name": "stdout",
     "output_type": "stream",
     "text": [
      "institute = tops\n",
      "place = maninagar station\n",
      "sub = all type programming language\n"
     ]
    }
   ],
   "source": [
    "r={'institute':'tops','place':'maninagar station','sub':'all type programming language'}\n",
    "for i , m in r.items():\n",
    "    print(i,'=',m)"
   ]
  },
  {
   "cell_type": "code",
   "execution_count": 83,
   "id": "93c73621",
   "metadata": {},
   "outputs": [
    {
     "data": {
      "text/plain": [
       "dict_items([('institute', 'tops'), ('place', 'maninagar station'), ('sub', 'all type programming language')])"
      ]
     },
     "execution_count": 83,
     "metadata": {},
     "output_type": "execute_result"
    }
   ],
   "source": [
    "r.items()"
   ]
  },
  {
   "cell_type": "code",
   "execution_count": 84,
   "id": "4eb2e497",
   "metadata": {},
   "outputs": [
    {
     "name": "stdout",
     "output_type": "stream",
     "text": [
      "{1: 1, 2: 4, 3: 9, 4: 16, 5: 25, 6: 36, 7: 49, 8: 64, 9: 81, 10: 100, 11: 121, 12: 144, 13: 169, 14: 196, 15: 225}\n"
     ]
    }
   ],
   "source": [
    "d=dict()\n",
    "for x in range(1,16):\n",
    "    d[x]=x**2\n",
    "print(d)"
   ]
  },
  {
   "cell_type": "code",
   "execution_count": 85,
   "id": "2112f65f",
   "metadata": {},
   "outputs": [
    {
     "name": "stdout",
     "output_type": "stream",
     "text": [
      "['__class__', '__class_getitem__', '__contains__', '__delattr__', '__delitem__', '__dir__', '__doc__', '__eq__', '__format__', '__ge__', '__getattribute__', '__getitem__', '__gt__', '__hash__', '__init__', '__init_subclass__', '__ior__', '__iter__', '__le__', '__len__', '__lt__', '__ne__', '__new__', '__or__', '__reduce__', '__reduce_ex__', '__repr__', '__reversed__', '__ror__', '__setattr__', '__setitem__', '__sizeof__', '__str__', '__subclasshook__', 'clear', 'copy', 'fromkeys', 'get', 'items', 'keys', 'pop', 'popitem', 'setdefault', 'update', 'values']\n"
     ]
    }
   ],
   "source": [
    "print(dir(d))"
   ]
  },
  {
   "cell_type": "code",
   "execution_count": 86,
   "id": "d7ee92cf",
   "metadata": {},
   "outputs": [
    {
     "ename": "SyntaxError",
     "evalue": "invalid syntax (1942941819.py, line 1)",
     "output_type": "error",
     "traceback": [
      "\u001b[1;36m  Input \u001b[1;32mIn [86]\u001b[1;36m\u001b[0m\n\u001b[1;33m    d=fromkeys([1,**])\u001b[0m\n\u001b[1;37m                  ^\u001b[0m\n\u001b[1;31mSyntaxError\u001b[0m\u001b[1;31m:\u001b[0m invalid syntax\n"
     ]
    }
   ],
   "source": [
    "d=fromkeys([1,**])"
   ]
  },
  {
   "cell_type": "code",
   "execution_count": 90,
   "id": "6843355c",
   "metadata": {},
   "outputs": [],
   "source": [
    "d=dict.fromkeys([i for i in range(1,16)],'**')"
   ]
  },
  {
   "cell_type": "code",
   "execution_count": 91,
   "id": "0f8c666c",
   "metadata": {},
   "outputs": [
    {
     "data": {
      "text/plain": [
       "{1: '**',\n",
       " 2: '**',\n",
       " 3: '**',\n",
       " 4: '**',\n",
       " 5: '**',\n",
       " 6: '**',\n",
       " 7: '**',\n",
       " 8: '**',\n",
       " 9: '**',\n",
       " 10: '**',\n",
       " 11: '**',\n",
       " 12: '**',\n",
       " 13: '**',\n",
       " 14: '**',\n",
       " 15: '**'}"
      ]
     },
     "execution_count": 91,
     "metadata": {},
     "output_type": "execute_result"
    }
   ],
   "source": [
    "d"
   ]
  },
  {
   "cell_type": "code",
   "execution_count": 1,
   "id": "6e457028",
   "metadata": {},
   "outputs": [
    {
     "name": "stdout",
     "output_type": "stream",
     "text": [
      "['K', 'B', 'A']\n"
     ]
    }
   ],
   "source": [
    "my_dict = {\"A\":3,\"B\":4,\"H\":1,\"K\":8,\"T\":0}\n",
    "\n",
    "my_keys = sorted(my_dict, key=my_dict.get, reverse=True)[:3]\n",
    "\n",
    "# where `my_keys` holds the value:\n",
    "print(my_keys)"
   ]
  },
  {
   "cell_type": "code",
   "execution_count": 2,
   "id": "2672c1c6",
   "metadata": {},
   "outputs": [],
   "source": [
    "key=my_dict.get"
   ]
  },
  {
   "cell_type": "code",
   "execution_count": 3,
   "id": "6baa64da",
   "metadata": {},
   "outputs": [
    {
     "data": {
      "text/plain": [
       "<function dict.get(key, default=None, /)>"
      ]
     },
     "execution_count": 3,
     "metadata": {},
     "output_type": "execute_result"
    }
   ],
   "source": [
    "key"
   ]
  },
  {
   "cell_type": "code",
   "execution_count": 4,
   "id": "05e6d0f9",
   "metadata": {},
   "outputs": [
    {
     "data": {
      "text/plain": [
       "['K', 'B', 'A']"
      ]
     },
     "execution_count": 4,
     "metadata": {},
     "output_type": "execute_result"
    }
   ],
   "source": [
    "my_keys"
   ]
  },
  {
   "cell_type": "code",
   "execution_count": 6,
   "id": "f0cd46b8",
   "metadata": {},
   "outputs": [
    {
     "name": "stdout",
     "output_type": "stream",
     "text": [
      "madam\n",
      "palindrome\n"
     ]
    }
   ],
   "source": [
    "a=input()\n",
    "b=a[::-1]\n",
    "if a==b:\n",
    "    print(\"palindrome\")\n",
    "else:\n",
    "    print(\" not palindrome\")"
   ]
  },
  {
   "cell_type": "code",
   "execution_count": 7,
   "id": "26b05020",
   "metadata": {},
   "outputs": [],
   "source": [
    "import random"
   ]
  },
  {
   "cell_type": "code",
   "execution_count": 8,
   "id": "792b2cf4",
   "metadata": {},
   "outputs": [
    {
     "data": {
      "text/plain": [
       "0.9085003659570334"
      ]
     },
     "execution_count": 8,
     "metadata": {},
     "output_type": "execute_result"
    }
   ],
   "source": [
    "random.random()"
   ]
  },
  {
   "cell_type": "code",
   "execution_count": 9,
   "id": "4a3f9fc8",
   "metadata": {},
   "outputs": [
    {
     "data": {
      "text/plain": [
       "34.875148628126205"
      ]
     },
     "execution_count": 9,
     "metadata": {},
     "output_type": "execute_result"
    }
   ],
   "source": [
    "random.random()*100"
   ]
  },
  {
   "cell_type": "code",
   "execution_count": 16,
   "id": "21e09bd3",
   "metadata": {},
   "outputs": [
    {
     "data": {
      "text/plain": [
       "3"
      ]
     },
     "execution_count": 16,
     "metadata": {},
     "output_type": "execute_result"
    }
   ],
   "source": [
    "random.randint(1,3)"
   ]
  },
  {
   "cell_type": "code",
   "execution_count": 25,
   "id": "66b10f0a",
   "metadata": {},
   "outputs": [
    {
     "data": {
      "text/plain": [
       "3"
      ]
     },
     "execution_count": 25,
     "metadata": {},
     "output_type": "execute_result"
    }
   ],
   "source": [
    "random.randrange(10)"
   ]
  },
  {
   "cell_type": "code",
   "execution_count": 26,
   "id": "45b1221c",
   "metadata": {},
   "outputs": [
    {
     "name": "stdout",
     "output_type": "stream",
     "text": [
      "['BPF', 'LOG4', 'NV_MAGICCONST', 'RECIP_BPF', 'Random', 'SG_MAGICCONST', 'SystemRandom', 'TWOPI', '_Sequence', '_Set', '__all__', '__builtins__', '__cached__', '__doc__', '__file__', '__loader__', '__name__', '__package__', '__spec__', '_accumulate', '_acos', '_bisect', '_ceil', '_cos', '_e', '_exp', '_floor', '_inst', '_log', '_os', '_pi', '_random', '_repeat', '_sha512', '_sin', '_sqrt', '_test', '_test_generator', '_urandom', '_warn', 'betavariate', 'choice', 'choices', 'expovariate', 'gammavariate', 'gauss', 'getrandbits', 'getstate', 'lognormvariate', 'normalvariate', 'paretovariate', 'randbytes', 'randint', 'random', 'randrange', 'sample', 'seed', 'setstate', 'shuffle', 'triangular', 'uniform', 'vonmisesvariate', 'weibullvariate']\n"
     ]
    }
   ],
   "source": [
    "print(dir(random))"
   ]
  },
  {
   "cell_type": "code",
   "execution_count": 33,
   "id": "45e10f9b",
   "metadata": {},
   "outputs": [
    {
     "data": {
      "text/plain": [
       "4"
      ]
     },
     "execution_count": 33,
     "metadata": {},
     "output_type": "execute_result"
    }
   ],
   "source": [
    "random.choice([1,5,4,6,8,5,2,1])"
   ]
  },
  {
   "cell_type": "code",
   "execution_count": 35,
   "id": "b6a37131",
   "metadata": {},
   "outputs": [
    {
     "data": {
      "text/plain": [
       "['l', 'l', 'H', 'E', 'l']"
      ]
     },
     "execution_count": 35,
     "metadata": {},
     "output_type": "execute_result"
    }
   ],
   "source": [
    "random.choices('HEllo',k=5)"
   ]
  },
  {
   "cell_type": "code",
   "execution_count": 36,
   "id": "b635dcf3",
   "metadata": {},
   "outputs": [],
   "source": [
    "import os"
   ]
  },
  {
   "cell_type": "code",
   "execution_count": 37,
   "id": "0f7ef11b",
   "metadata": {},
   "outputs": [
    {
     "data": {
      "text/plain": [
       "'G:\\\\Python\\\\practice_python'"
      ]
     },
     "execution_count": 37,
     "metadata": {},
     "output_type": "execute_result"
    }
   ],
   "source": [
    "os.getcwd()"
   ]
  },
  {
   "cell_type": "code",
   "execution_count": 38,
   "id": "53d8f7f6",
   "metadata": {},
   "outputs": [
    {
     "data": {
      "text/plain": [
       "['.git',\n",
       " '.gitignore',\n",
       " '.ipynb_checkpoints',\n",
       " '1st.txt',\n",
       " 'all_module_mix.ipynb',\n",
       " 'Anonymous_Function.ipynb',\n",
       " 'binary_data_file_handling.ipynb',\n",
       " 'binary_file.txt',\n",
       " 'binary_format.ipynb',\n",
       " 'class&object.ipynb',\n",
       " 'code1.jpg',\n",
       " 'collection_practice.ipynb',\n",
       " 'collection_rivision.ipynb',\n",
       " 'collection___.ipynb',\n",
       " 'collection______.ipynb',\n",
       " 'copy_paste_project_for_practice.ipynb',\n",
       " 'core_project_practice.ipynb',\n",
       " 'Database.ipynb',\n",
       " 'database_practice.ipynb',\n",
       " 'database_rivision.ipynb',\n",
       " 'database_sqlite3_practice.ipynb',\n",
       " 'datatype.ipynb',\n",
       " 'datetime_module_practice.ipynb',\n",
       " 'demo_file_for',\n",
       " 'desktop.ini',\n",
       " 'dict.ipynb',\n",
       " 'driving_lic.ipynb',\n",
       " 'Encapsulation.ipynb',\n",
       " 'exception_handling.ipynb',\n",
       " 'exception_handling_rivision_.ipynb',\n",
       " 'exception_____.ipynb',\n",
       " 'file_handling.ipynb',\n",
       " 'file_handling_practice..ipynb',\n",
       " 'file_handling_rivision.ipynb',\n",
       " 'File_Handling____.ipynb',\n",
       " 'find lenth of string.ipynb',\n",
       " 'find_biggest_number.ipynb',\n",
       " 'find_factorial.ipynb',\n",
       " 'firstenv',\n",
       " 'For_&_While_Loop.ipynb',\n",
       " 'for_loop.ipynb',\n",
       " 'function _type.ipynb',\n",
       " 'functions.ipynb',\n",
       " 'function_all_type.ipynb',\n",
       " 'function_practice.ipynb',\n",
       " 'function_rivision .ipynb',\n",
       " 'function_with_parameters.ipynb',\n",
       " 'function__practice.ipynb',\n",
       " 'Function____.ipynb',\n",
       " 'FUNCTION_____.ipynb',\n",
       " 'heart.ipynb',\n",
       " 'hyperlink.html',\n",
       " 'if_else.ipynb',\n",
       " 'interest_per_day.ipynb',\n",
       " 'Interview_Question.ipynb',\n",
       " 'keyword_arguments_function.ipynb',\n",
       " 'list.ipynb',\n",
       " 'list_method_practice.ipynb',\n",
       " 'loops_control_statement.ipynb',\n",
       " 'math_module_practice.ipynb',\n",
       " 'modules_practice.ipynb',\n",
       " 'module_2practice.ipynb',\n",
       " 'module_practice.ipynb',\n",
       " 'mydatabase.db',\n",
       " 'mydatabase.db-journal',\n",
       " 'mydatabase1.db',\n",
       " 'mynewfile.txt',\n",
       " 'mypracticedatabase.db',\n",
       " 'mypratice2.db',\n",
       " 'mypythondata.db',\n",
       " 'mysqlite3_practice.ipynb',\n",
       " 'mysql_database.ipynb',\n",
       " 'my_file.txt',\n",
       " 'newdatabase.db',\n",
       " 'newdatabasesql.db',\n",
       " 'newdir.txt',\n",
       " 'newdr.txt',\n",
       " 'new_data.txt',\n",
       " 'new_file.jpg',\n",
       " 'new_file.txt',\n",
       " 'new_img.jpg',\n",
       " 'new_text_file.txt',\n",
       " 'odd_even_number.ipynb',\n",
       " 'oops_concept.ipynb',\n",
       " 'operators_and_conditional_statement.ipynb',\n",
       " 'Operators__.ipynb',\n",
       " 'polymorphism.ipynb',\n",
       " 'positive_negative_value.ipynb',\n",
       " 'practice .ipynb',\n",
       " 'practice_calendar_module.ipynb',\n",
       " 'practice_dict.ipynb',\n",
       " 'practice_for_assignment.ipynb',\n",
       " 'practice_for_solve_problem.ipynb',\n",
       " 'project_ATM_Machine.ipynb',\n",
       " 'Project_Guess_Number.ipynb',\n",
       " 'project_login_info.ipynb',\n",
       " 'project_sumalator.ipynb',\n",
       " 'random_module.ipynb',\n",
       " 'random_rivision.ipynb',\n",
       " 'Readme.md',\n",
       " 'requiredments2.txt',\n",
       " 'requirements.txt',\n",
       " 'revision.ipynb',\n",
       " 'rivisionoffilehandling.txt',\n",
       " 'second.txt',\n",
       " 'secondenv',\n",
       " 'set.ipynb',\n",
       " 'set_function.ipynb',\n",
       " 'set_method_practice.ipynb',\n",
       " 'set_operations.ipynb',\n",
       " 'slice_pactice.ipynb',\n",
       " 'slicing.ipynb',\n",
       " 'something.ipynb',\n",
       " 'sqlite.......ipynb',\n",
       " 'sqlite3____.ipynb',\n",
       " 'stimulator_game.ipynb',\n",
       " 'string_method.ipynb',\n",
       " 'string_practice..ipynb',\n",
       " 'string___.ipynb',\n",
       " 'string_______.ipynb',\n",
       " 'Student_data.ipynb',\n",
       " 'tuple.ipynb',\n",
       " 'turtle.ipynb',\n",
       " 'Untitled.ipynb',\n",
       " 'Untitled1.ipynb',\n",
       " 'Untitled2.ipynb',\n",
       " 'Untitled3.ipynb',\n",
       " 'Untitled4.ipynb',\n",
       " 'Untitled5.ipynb',\n",
       " 'Untitled6.ipynb',\n",
       " 'without_parameters_function.ipynb',\n",
       " '_random_module_practice.ipynb']"
      ]
     },
     "execution_count": 38,
     "metadata": {},
     "output_type": "execute_result"
    }
   ],
   "source": [
    "os.listdir(os.getcwd())"
   ]
  },
  {
   "cell_type": "code",
   "execution_count": 42,
   "id": "6eddd80d",
   "metadata": {},
   "outputs": [
    {
     "name": "stdout",
     "output_type": "stream",
     "text": [
      ".git\n",
      ".ipynb_checkpoints\n",
      "firstenv\n",
      "secondenv\n"
     ]
    }
   ],
   "source": [
    "for item in os.scandir(os.getcwd()):\n",
    "    if item.is_dir():\n",
    "        print(item.name)"
   ]
  },
  {
   "cell_type": "code",
   "execution_count": 43,
   "id": "3d933525",
   "metadata": {},
   "outputs": [],
   "source": [
    "import math"
   ]
  },
  {
   "cell_type": "code",
   "execution_count": 44,
   "id": "cfff56c5",
   "metadata": {},
   "outputs": [
    {
     "data": {
      "text/plain": [
       "3.141592653589793"
      ]
     },
     "execution_count": 44,
     "metadata": {},
     "output_type": "execute_result"
    }
   ],
   "source": [
    "math.pi"
   ]
  },
  {
   "cell_type": "code",
   "execution_count": 47,
   "id": "804bd223",
   "metadata": {},
   "outputs": [
    {
     "data": {
      "text/plain": [
       "2048.0"
      ]
     },
     "execution_count": 47,
     "metadata": {},
     "output_type": "execute_result"
    }
   ],
   "source": [
    "math.pow(2,11)"
   ]
  },
  {
   "cell_type": "code",
   "execution_count": 48,
   "id": "a149e3b5",
   "metadata": {},
   "outputs": [
    {
     "data": {
      "text/plain": [
       "3.0"
      ]
     },
     "execution_count": 48,
     "metadata": {},
     "output_type": "execute_result"
    }
   ],
   "source": [
    "math.sqrt(9)"
   ]
  },
  {
   "cell_type": "code",
   "execution_count": 51,
   "id": "17a6be2f",
   "metadata": {},
   "outputs": [
    {
     "data": {
      "text/plain": [
       "0.0"
      ]
     },
     "execution_count": 51,
     "metadata": {},
     "output_type": "execute_result"
    }
   ],
   "source": [
    "math.remainder(4,4)"
   ]
  },
  {
   "cell_type": "code",
   "execution_count": 52,
   "id": "ceb7a5c8",
   "metadata": {},
   "outputs": [
    {
     "data": {
      "text/plain": [
       "120"
      ]
     },
     "execution_count": 52,
     "metadata": {},
     "output_type": "execute_result"
    }
   ],
   "source": [
    "math.factorial(5)"
   ]
  },
  {
   "cell_type": "code",
   "execution_count": 53,
   "id": "c8137233",
   "metadata": {},
   "outputs": [],
   "source": [
    "import datetime"
   ]
  },
  {
   "cell_type": "code",
   "execution_count": 57,
   "id": "d753e471",
   "metadata": {},
   "outputs": [
    {
     "data": {
      "text/plain": [
       "datetime.datetime(2023, 4, 12, 18, 38, 33, 755513)"
      ]
     },
     "execution_count": 57,
     "metadata": {},
     "output_type": "execute_result"
    }
   ],
   "source": [
    "datetime.datetime.now()"
   ]
  },
  {
   "cell_type": "code",
   "execution_count": 65,
   "id": "6d136baf",
   "metadata": {},
   "outputs": [
    {
     "name": "stdout",
     "output_type": "stream",
     "text": [
      "['__class__', '__delattr__', '__dir__', '__doc__', '__eq__', '__format__', '__ge__', '__getattribute__', '__gt__', '__hash__', '__init__', '__init_subclass__', '__le__', '__lt__', '__ne__', '__new__', '__reduce__', '__reduce_ex__', '__repr__', '__setattr__', '__sizeof__', '__str__', '__subclasshook__', 'dst', 'fold', 'fromisoformat', 'hour', 'isoformat', 'max', 'microsecond', 'min', 'minute', 'replace', 'resolution', 'second', 'strftime', 'tzinfo', 'tzname', 'utcoffset']\n"
     ]
    }
   ],
   "source": [
    "print(dir(datetime.time))"
   ]
  },
  {
   "cell_type": "code",
   "execution_count": 63,
   "id": "a50b96fa",
   "metadata": {},
   "outputs": [
    {
     "data": {
      "text/plain": [
       "datetime.date(2023, 4, 12)"
      ]
     },
     "execution_count": 63,
     "metadata": {},
     "output_type": "execute_result"
    }
   ],
   "source": [
    "datetime.date.today()"
   ]
  },
  {
   "cell_type": "code",
   "execution_count": 68,
   "id": "ce1c82f6",
   "metadata": {},
   "outputs": [
    {
     "ename": "TypeError",
     "evalue": "'datetime.time' object is not callable",
     "output_type": "error",
     "traceback": [
      "\u001b[1;31m---------------------------------------------------------------------------\u001b[0m",
      "\u001b[1;31mTypeError\u001b[0m                                 Traceback (most recent call last)",
      "Input \u001b[1;32mIn [68]\u001b[0m, in \u001b[0;36m<cell line: 1>\u001b[1;34m()\u001b[0m\n\u001b[1;32m----> 1\u001b[0m \u001b[43mdatetime\u001b[49m\u001b[38;5;241;43m.\u001b[39;49m\u001b[43mtime\u001b[49m\u001b[38;5;241;43m.\u001b[39;49m\u001b[43mmin\u001b[49m\u001b[43m(\u001b[49m\u001b[43m)\u001b[49m\n",
      "\u001b[1;31mTypeError\u001b[0m: 'datetime.time' object is not callable"
     ]
    }
   ],
   "source": [
    "datetime.time.min()"
   ]
  },
  {
   "cell_type": "code",
   "execution_count": 72,
   "id": "828a597e",
   "metadata": {},
   "outputs": [],
   "source": [
    "import calendar"
   ]
  },
  {
   "cell_type": "code",
   "execution_count": 79,
   "id": "82f79026",
   "metadata": {},
   "outputs": [
    {
     "ename": "NameError",
     "evalue": "name 'may' is not defined",
     "output_type": "error",
     "traceback": [
      "\u001b[1;31m---------------------------------------------------------------------------\u001b[0m",
      "\u001b[1;31mNameError\u001b[0m                                 Traceback (most recent call last)",
      "Input \u001b[1;32mIn [79]\u001b[0m, in \u001b[0;36m<cell line: 1>\u001b[1;34m()\u001b[0m\n\u001b[1;32m----> 1\u001b[0m \u001b[38;5;28mprint\u001b[39m(calendar\u001b[38;5;241m.\u001b[39mcalendar(\u001b[43mmay\u001b[49m))\n",
      "\u001b[1;31mNameError\u001b[0m: name 'may' is not defined"
     ]
    }
   ],
   "source": [
    "\n",
    "print(calendar.calendar())"
   ]
  },
  {
   "cell_type": "code",
   "execution_count": 74,
   "id": "5382218f",
   "metadata": {},
   "outputs": [
    {
     "name": "stdout",
     "output_type": "stream",
     "text": [
      "['Calendar', 'EPOCH', 'FRIDAY', 'February', 'HTMLCalendar', 'IllegalMonthError', 'IllegalWeekdayError', 'January', 'LocaleHTMLCalendar', 'LocaleTextCalendar', 'MONDAY', 'SATURDAY', 'SUNDAY', 'THURSDAY', 'TUESDAY', 'TextCalendar', 'WEDNESDAY', '_EPOCH_ORD', '__all__', '__builtins__', '__cached__', '__doc__', '__file__', '__loader__', '__name__', '__package__', '__spec__', '_colwidth', '_locale', '_localized_day', '_localized_month', '_monthlen', '_nextmonth', '_prevmonth', '_spacing', 'c', 'calendar', 'datetime', 'day_abbr', 'day_name', 'different_locale', 'error', 'firstweekday', 'format', 'formatstring', 'isleap', 'leapdays', 'main', 'mdays', 'month', 'month_abbr', 'month_name', 'monthcalendar', 'monthrange', 'prcal', 'prmonth', 'prweek', 'repeat', 'setfirstweekday', 'sys', 'timegm', 'week', 'weekday', 'weekheader']\n"
     ]
    }
   ],
   "source": [
    "print(dir(calendar))"
   ]
  },
  {
   "cell_type": "code",
   "execution_count": 80,
   "id": "cef2d33c",
   "metadata": {},
   "outputs": [],
   "source": [
    "file=open('newdata.txt','x')"
   ]
  },
  {
   "cell_type": "code",
   "execution_count": 82,
   "id": "b1b85262",
   "metadata": {},
   "outputs": [
    {
     "data": {
      "text/plain": [
       "22"
      ]
     },
     "execution_count": 82,
     "metadata": {},
     "output_type": "execute_result"
    }
   ],
   "source": [
    "file.write('Hello this is demo for')"
   ]
  },
  {
   "cell_type": "code",
   "execution_count": 83,
   "id": "ac4339bc",
   "metadata": {},
   "outputs": [],
   "source": [
    "file.close()"
   ]
  },
  {
   "cell_type": "code",
   "execution_count": 84,
   "id": "6dea17f7",
   "metadata": {},
   "outputs": [],
   "source": [
    "file=open('newdata.txt')"
   ]
  },
  {
   "cell_type": "code",
   "execution_count": 85,
   "id": "8ac1be31",
   "metadata": {},
   "outputs": [
    {
     "data": {
      "text/plain": [
       "'Hello this is demo for'"
      ]
     },
     "execution_count": 85,
     "metadata": {},
     "output_type": "execute_result"
    }
   ],
   "source": [
    "file.read()"
   ]
  },
  {
   "cell_type": "code",
   "execution_count": 86,
   "id": "5e6f52fa",
   "metadata": {},
   "outputs": [
    {
     "data": {
      "text/plain": [
       "0"
      ]
     },
     "execution_count": 86,
     "metadata": {},
     "output_type": "execute_result"
    }
   ],
   "source": [
    "file.seek(0)"
   ]
  },
  {
   "cell_type": "code",
   "execution_count": 87,
   "id": "4ccc9e35",
   "metadata": {},
   "outputs": [
    {
     "data": {
      "text/plain": [
       "'Hello this is demo for'"
      ]
     },
     "execution_count": 87,
     "metadata": {},
     "output_type": "execute_result"
    }
   ],
   "source": [
    "file.read()"
   ]
  },
  {
   "cell_type": "code",
   "execution_count": 103,
   "id": "aa26b44b",
   "metadata": {},
   "outputs": [
    {
     "data": {
      "text/plain": [
       "True"
      ]
     },
     "execution_count": 103,
     "metadata": {},
     "output_type": "execute_result"
    }
   ],
   "source": [
    "file.readable()"
   ]
  },
  {
   "cell_type": "code",
   "execution_count": 104,
   "id": "32555409",
   "metadata": {},
   "outputs": [
    {
     "data": {
      "text/plain": [
       "True"
      ]
     },
     "execution_count": 104,
     "metadata": {},
     "output_type": "execute_result"
    }
   ],
   "source": [
    "file.writable()"
   ]
  },
  {
   "cell_type": "code",
   "execution_count": 101,
   "id": "62ff842f",
   "metadata": {},
   "outputs": [],
   "source": [
    "file.close()"
   ]
  },
  {
   "cell_type": "code",
   "execution_count": 102,
   "id": "a1cd9c11",
   "metadata": {},
   "outputs": [],
   "source": [
    "file=open('newdata.txt','a+')"
   ]
  },
  {
   "cell_type": "code",
   "execution_count": 99,
   "id": "27587cbb",
   "metadata": {},
   "outputs": [
    {
     "data": {
      "text/plain": [
       "34"
      ]
     },
     "execution_count": 99,
     "metadata": {},
     "output_type": "execute_result"
    }
   ],
   "source": [
    "file.write('\\n New data added using append mode')"
   ]
  },
  {
   "cell_type": "code",
   "execution_count": 109,
   "id": "d6f0811a",
   "metadata": {},
   "outputs": [
    {
     "data": {
      "text/plain": [
       "'Hello this is demo for\\n'"
      ]
     },
     "execution_count": 109,
     "metadata": {},
     "output_type": "execute_result"
    }
   ],
   "source": [
    "file.readline()"
   ]
  },
  {
   "cell_type": "code",
   "execution_count": 108,
   "id": "a0b90a4a",
   "metadata": {},
   "outputs": [
    {
     "data": {
      "text/plain": [
       "0"
      ]
     },
     "execution_count": 108,
     "metadata": {},
     "output_type": "execute_result"
    }
   ],
   "source": [
    "file.seek(0)"
   ]
  },
  {
   "cell_type": "code",
   "execution_count": null,
   "id": "2d2cb098",
   "metadata": {},
   "outputs": [],
   "source": []
  }
 ],
 "metadata": {
  "kernelspec": {
   "display_name": "Python 3 (ipykernel)",
   "language": "python",
   "name": "python3"
  },
  "language_info": {
   "codemirror_mode": {
    "name": "ipython",
    "version": 3
   },
   "file_extension": ".py",
   "mimetype": "text/x-python",
   "name": "python",
   "nbconvert_exporter": "python",
   "pygments_lexer": "ipython3",
   "version": "3.9.12"
  }
 },
 "nbformat": 4,
 "nbformat_minor": 5
}
