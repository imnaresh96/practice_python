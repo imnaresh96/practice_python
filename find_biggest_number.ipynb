{
 "cells": [
  {
   "cell_type": "code",
   "execution_count": 4,
   "id": "01b84f15",
   "metadata": {},
   "outputs": [
    {
     "name": "stdout",
     "output_type": "stream",
     "text": [
      "n is a biggest number\n"
     ]
    }
   ],
   "source": [
    "# Biggest  number \n",
    "l=17\n",
    "m=14\n",
    "n=19\n",
    "if l > m:\n",
    "    if l > n:\n",
    "        print('l is a biggest number')\n",
    "    else:\n",
    "        print('n is a biggest number')\n",
    "else:\n",
    "    print('m is a biggest number')"
   ]
  },
  {
   "cell_type": "code",
   "execution_count": null,
   "id": "ce5090b0",
   "metadata": {},
   "outputs": [],
   "source": []
  }
 ],
 "metadata": {
  "kernelspec": {
   "display_name": "Python 3 (ipykernel)",
   "language": "python",
   "name": "python3"
  },
  "language_info": {
   "codemirror_mode": {
    "name": "ipython",
    "version": 3
   },
   "file_extension": ".py",
   "mimetype": "text/x-python",
   "name": "python",
   "nbconvert_exporter": "python",
   "pygments_lexer": "ipython3",
   "version": "3.9.12"
  }
 },
 "nbformat": 4,
 "nbformat_minor": 5
}
