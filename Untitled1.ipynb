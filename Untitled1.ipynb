{
 "cells": [
  {
   "cell_type": "code",
   "execution_count": 1,
   "id": "4b41ffe1",
   "metadata": {},
   "outputs": [],
   "source": [
    "#number is positive, negative or zero.\n"
   ]
  },
  {
   "cell_type": "code",
   "execution_count": 6,
   "id": "6536e18d",
   "metadata": {},
   "outputs": [
    {
     "name": "stdout",
     "output_type": "stream",
     "text": [
      "Enter Number Here: 0\n",
      "Number is Zero\n"
     ]
    }
   ],
   "source": [
    "num=int(input('Enter Number Here: '))\n",
    "if num==0:\n",
    "    print('Number is Zero')\n",
    "elif num>0:\n",
    "    print('Number is Positive')\n",
    "else:\n",
    "    print('Number is Negative')"
   ]
  },
  {
   "cell_type": "code",
   "execution_count": 16,
   "id": "5a466e5e",
   "metadata": {},
   "outputs": [
    {
     "name": "stdout",
     "output_type": "stream",
     "text": [
      "Enter Number for find factorial: 5\n",
      "Number 5 factorial is 120\n"
     ]
    }
   ],
   "source": [
    "#Factorial number of given number.\n",
    "num=int(input('Enter Number for find factorial: '))\n",
    "factorial=1\n",
    "if num==1:\n",
    "    print(f\"Number {num} factorial is 1\")\n",
    "elif num<=0:\n",
    "    print(f'Negative Number does not exits factorial ')\n",
    "else:\n",
    "    for i in range(1,num+1):\n",
    "        factorial = factorial*i\n",
    "    print(f'Number {num} factorial is {factorial}')"
   ]
  },
  {
   "cell_type": "code",
   "execution_count": 17,
   "id": "0cf35bb8",
   "metadata": {},
   "outputs": [
    {
     "name": "stdout",
     "output_type": "stream",
     "text": [
      "Enter Number For Fibonacci series: 20\n",
      "4181\n"
     ]
    }
   ],
   "source": [
    "# Fibonacci series of given range.\n",
    "num=int(input(\"Enter Number For Fibonacci series: \"))\n",
    "b=0\n",
    "c=1\n",
    "for i in range(2,num):\n",
    "    d=b+c\n",
    "    b=c\n",
    "    c=d\n",
    "print(d)\n"
   ]
  },
  {
   "cell_type": "code",
   "execution_count": 18,
   "id": "a83d6251",
   "metadata": {},
   "outputs": [
    {
     "name": "stdout",
     "output_type": "stream",
     "text": [
      "0\n",
      "1\n",
      "2\n",
      "3\n",
      "4\n",
      "6\n",
      "7\n",
      "8\n",
      "9\n"
     ]
    }
   ],
   "source": [
    "#continue statement\n",
    "for i in range(10):\n",
    "    if i==5:\n",
    "        continue\n",
    "    else:\n",
    "        print(i)"
   ]
  },
  {
   "cell_type": "code",
   "execution_count": 20,
   "id": "2347a564",
   "metadata": {},
   "outputs": [
    {
     "name": "stdout",
     "output_type": "stream",
     "text": [
      "before swap a=5, b=8\n",
      "After swap a=8, b=5\n"
     ]
    }
   ],
   "source": [
    "#swap two number with temp variable & without temp\n",
    "a=5\n",
    "b=8\n",
    "temp=0\n",
    "print(f\"before swap a={a}, b={b}\")\n",
    "temp=a\n",
    "a=b\n",
    "b=temp\n",
    "print(f\"After swap a={a}, b={b}\")"
   ]
  },
  {
   "cell_type": "code",
   "execution_count": 24,
   "id": "faad9e4d",
   "metadata": {},
   "outputs": [
    {
     "name": "stdout",
     "output_type": "stream",
     "text": [
      "Enter Number: -12\n",
      "Even Number\n"
     ]
    }
   ],
   "source": [
    "#  given number is even or odd\n",
    "num=int(input(\"Enter Number: \"))\n",
    "if num%2==0:\n",
    "    print('Even Number')\n",
    "else:\n",
    "    print('Odd Number')"
   ]
  },
  {
   "cell_type": "code",
   "execution_count": 27,
   "id": "17b89c7f",
   "metadata": {},
   "outputs": [
    {
     "name": "stdout",
     "output_type": "stream",
     "text": [
      "Enter A latter for chaeck: i\n",
      "i is Vowel\n"
     ]
    }
   ],
   "source": [
    "#passed letter is a vowel or not.\n",
    "char=input('Enter A latter for chaeck: ')\n",
    "if char=='a'or char=='e' or char=='i' or char=='o' or char=='u':\n",
    "    print(f'{char} is Vowel')\n",
    "else:\n",
    "    print(f\"{char} is not Vowel\")\n"
   ]
  },
  {
   "cell_type": "code",
   "execution_count": null,
   "id": "9209b229",
   "metadata": {},
   "outputs": [],
   "source": []
  }
 ],
 "metadata": {
  "kernelspec": {
   "display_name": "Python 3 (ipykernel)",
   "language": "python",
   "name": "python3"
  },
  "language_info": {
   "codemirror_mode": {
    "name": "ipython",
    "version": 3
   },
   "file_extension": ".py",
   "mimetype": "text/x-python",
   "name": "python",
   "nbconvert_exporter": "python",
   "pygments_lexer": "ipython3",
   "version": "3.9.12"
  }
 },
 "nbformat": 4,
 "nbformat_minor": 5
}
