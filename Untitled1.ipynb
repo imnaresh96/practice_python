{
 "cells": [
  {
   "cell_type": "code",
   "execution_count": 1,
   "id": "de346eca",
   "metadata": {},
   "outputs": [
    {
     "name": "stdout",
     "output_type": "stream",
     "text": [
      "0\n",
      "1\n",
      "2\n",
      "3\n",
      "4\n",
      "5\n",
      "6\n",
      "7\n",
      "8\n",
      "9\n"
     ]
    }
   ],
   "source": [
    "for i in range(10):\n",
    "    print(i)"
   ]
  },
  {
   "cell_type": "code",
   "execution_count": 2,
   "id": "5ce3c29d",
   "metadata": {},
   "outputs": [
    {
     "name": "stdout",
     "output_type": "stream",
     "text": [
      "H\n",
      "e\n",
      "l\n",
      "l\n",
      "o\n"
     ]
    }
   ],
   "source": [
    "for i in 'Hello':\n",
    "    print(i)"
   ]
  },
  {
   "cell_type": "code",
   "execution_count": 3,
   "id": "ff76686e",
   "metadata": {},
   "outputs": [
    {
     "name": "stdout",
     "output_type": "stream",
     "text": [
      "4\n",
      "8\n",
      "12\n",
      "16\n",
      "20\n",
      "24\n",
      "28\n",
      "32\n",
      "36\n",
      "40\n"
     ]
    }
   ],
   "source": [
    "for i in range(1,11):\n",
    "    print(4*i)"
   ]
  },
  {
   "cell_type": "code",
   "execution_count": 8,
   "id": "11bdef3f",
   "metadata": {},
   "outputs": [
    {
     "name": "stdout",
     "output_type": "stream",
     "text": [
      "4 * 1 = 4\n",
      "4 * 2 = 8\n",
      "4 * 3 = 12\n",
      "4 * 4 = 16\n",
      "4 * 5 = 20\n",
      "4 * 6 = 24\n",
      "4 * 7 = 28\n",
      "4 * 8 = 32\n",
      "4 * 9 = 36\n",
      "4 * 10 = 40\n"
     ]
    }
   ],
   "source": [
    "n=4\n",
    "for i in range(1,11):\n",
    "    print(f'{n} * {i} = {n*i}')"
   ]
  },
  {
   "cell_type": "code",
   "execution_count": 9,
   "id": "8ac1f9c1",
   "metadata": {},
   "outputs": [
    {
     "data": {
      "text/plain": [
       "4"
      ]
     },
     "execution_count": 9,
     "metadata": {},
     "output_type": "execute_result"
    }
   ],
   "source": [
    "n"
   ]
  },
  {
   "cell_type": "code",
   "execution_count": 10,
   "id": "8f5a9ea3",
   "metadata": {},
   "outputs": [
    {
     "data": {
      "text/plain": [
       "4"
      ]
     },
     "execution_count": 10,
     "metadata": {},
     "output_type": "execute_result"
    }
   ],
   "source": [
    "n"
   ]
  },
  {
   "cell_type": "code",
   "execution_count": 11,
   "id": "41f59bc6",
   "metadata": {},
   "outputs": [
    {
     "name": "stdout",
     "output_type": "stream",
     "text": [
      "4\n"
     ]
    }
   ],
   "source": [
    "print(n)"
   ]
  },
  {
   "cell_type": "code",
   "execution_count": 12,
   "id": "f3211633",
   "metadata": {},
   "outputs": [],
   "source": [
    "n=4"
   ]
  },
  {
   "cell_type": "code",
   "execution_count": 13,
   "id": "f90c70aa",
   "metadata": {},
   "outputs": [
    {
     "data": {
      "text/plain": [
       "4"
      ]
     },
     "execution_count": 13,
     "metadata": {},
     "output_type": "execute_result"
    }
   ],
   "source": [
    "n"
   ]
  },
  {
   "cell_type": "code",
   "execution_count": 14,
   "id": "94a26021",
   "metadata": {},
   "outputs": [
    {
     "name": "stdout",
     "output_type": "stream",
     "text": [
      "4\n",
      "8\n",
      "12\n",
      "16\n",
      "20\n",
      "24\n",
      "28\n",
      "32\n",
      "36\n",
      "40\n"
     ]
    }
   ],
   "source": [
    "i =1\n",
    "while i<11:\n",
    "    print(i*4)\n",
    "    i+=1"
   ]
  },
  {
   "cell_type": "code",
   "execution_count": 18,
   "id": "b01f47be",
   "metadata": {},
   "outputs": [
    {
     "name": "stdout",
     "output_type": "stream",
     "text": [
      "2\n",
      "4\n",
      "6\n",
      "8\n",
      "10\n"
     ]
    }
   ],
   "source": [
    "i=1\n",
    "while i<11:\n",
    "    if i%2==0:\n",
    "        print(i)\n",
    "    else:\n",
    "        pass\n",
    "    i+=1"
   ]
  },
  {
   "cell_type": "code",
   "execution_count": 22,
   "id": "3c606534",
   "metadata": {},
   "outputs": [
    {
     "name": "stdout",
     "output_type": "stream",
     "text": [
      "3\n"
     ]
    }
   ],
   "source": [
    "c=0\n",
    "string='Hello How Are you'\n",
    "f='o'\n",
    "for i in string:\n",
    "    if i==f:\n",
    "        c+=1\n",
    "        \n",
    "else:\n",
    "    print(c)"
   ]
  },
  {
   "cell_type": "code",
   "execution_count": 106,
   "id": "4106df36",
   "metadata": {},
   "outputs": [
    {
     "name": "stdout",
     "output_type": "stream",
     "text": [
      "\n",
      " *\n",
      " * *\n",
      " * * *\n",
      " * * * *\n",
      " * * * * *\n",
      " * * * * * *\n",
      " * * * * * * *\n",
      " * * * * * * * *\n",
      " * * * * * * * * *\n",
      " * * * * * * * * * *\n",
      " * * * * * * * * * * *\n"
     ]
    }
   ],
   "source": [
    "for i in range(12):\n",
    "    print(\"*\"*i)"
   ]
  },
  {
   "cell_type": "code",
   "execution_count": 40,
   "id": "57fcd7da",
   "metadata": {},
   "outputs": [
    {
     "name": "stdout",
     "output_type": "stream",
     "text": [
      " * * * * * * * * * *\n",
      " * * * * * * * * *\n",
      " * * * * * * * *\n",
      " * * * * * * *\n",
      " * * * * * *\n",
      " * * * * *\n",
      " * * * *\n",
      " * * *\n",
      " * *\n",
      " *\n",
      "\n",
      " *\n",
      " * *\n",
      " * * *\n",
      " * * * *\n",
      " * * * * *\n",
      " * * * * * *\n",
      " * * * * * * *\n",
      " * * * * * * * *\n",
      " * * * * * * * * *\n",
      " * * * * * * * * * *\n"
     ]
    }
   ],
   "source": [
    "for i in range(10,0,-1):\n",
    "    print(\" *\"*i)\n",
    "for i in range(11):\n",
    "    print(\" *\"*i)"
   ]
  },
  {
   "cell_type": "code",
   "execution_count": 85,
   "id": "29e088d2",
   "metadata": {},
   "outputs": [
    {
     "name": "stdout",
     "output_type": "stream",
     "text": [
      "                    \n",
      "                  *\n",
      "                **\n",
      "              ***\n",
      "            ****\n",
      "          *****\n",
      "        ******\n",
      "      *******\n",
      "    ********\n",
      "  *********\n",
      "**********\n",
      "**********\n",
      "  *********\n",
      "    ********\n",
      "      *******\n",
      "        ******\n",
      "          *****\n",
      "            ****\n",
      "              ***\n",
      "                **\n",
      "                  *\n",
      "                    \n"
     ]
    }
   ],
   "source": [
    "n=11\n",
    "for i in range(n):\n",
    "    print(\"  \"*(10-i)+ \"*\"*i)\n",
    "for i in range(n):\n",
    "    print(\"  \"*(i)+\"*\"*(10-i))"
   ]
  },
  {
   "cell_type": "code",
   "execution_count": 90,
   "id": "9a3883fd",
   "metadata": {},
   "outputs": [
    {
     "name": "stdout",
     "output_type": "stream",
     "text": [
      "          *\n",
      "         * *\n",
      "        * * *\n",
      "       * * * *\n",
      "      * * * * *\n",
      "     * * * * * *\n",
      "    * * * * * * *\n",
      "   * * * * * * * *\n",
      "  * * * * * * * * *\n"
     ]
    }
   ],
   "source": [
    "for i in range(1,10):\n",
    "    print(\" \"*(10-i)+\" *\"*i)"
   ]
  },
  {
   "cell_type": "code",
   "execution_count": 101,
   "id": "b4d39b84",
   "metadata": {},
   "outputs": [
    {
     "name": "stdout",
     "output_type": "stream",
     "text": [
      "          *\n",
      "         * *\n",
      "        * * *\n",
      "       * * * *\n",
      "      * * * * *\n",
      "     * * * * * *\n",
      "    * * * * * * *\n",
      "   * * * * * * * *\n",
      "  * * * * * * * * *\n",
      " * * * * * * * * * *\n",
      "  * * * * * * * * *\n",
      "   * * * * * * * *\n",
      "    * * * * * * *\n",
      "     * * * * * *\n",
      "      * * * * *\n",
      "       * * * *\n",
      "        * * *\n",
      "         * *\n",
      "          *\n"
     ]
    }
   ],
   "source": [
    "for i in range(1,10):\n",
    "    print(\" \"*(10-i)+\" *\"*i)\n",
    "for i in range(10):\n",
    "    print(\" \"*i+\" *\"*(10-i))"
   ]
  },
  {
   "cell_type": "code",
   "execution_count": 115,
   "id": "3b0dcfd1",
   "metadata": {},
   "outputs": [
    {
     "name": "stdout",
     "output_type": "stream",
     "text": [
      "**********\n",
      "*********\n",
      "********\n",
      "*******\n",
      "******\n",
      "*****\n",
      "****\n",
      "***\n",
      "**\n",
      "*\n"
     ]
    }
   ],
   "source": [
    "for i in range(10):\n",
    "    print(\"\"*i +\"*\"*(10-i))"
   ]
  },
  {
   "cell_type": "code",
   "execution_count": 9,
   "id": "ca96e8f4",
   "metadata": {},
   "outputs": [
    {
     "name": "stdout",
     "output_type": "stream",
     "text": [
      "50\n",
      "40\n",
      "40\n",
      "40\n"
     ]
    }
   ],
   "source": [
    "n1=int(input())\n",
    "n2=int(input())\n",
    "if (n2>n1):\n",
    "    n3=n1%n2\n",
    "    if n3!=0:\n",
    "        n1=n2\n",
    "        n2=n3\n",
    "        n3=n1%n2\n",
    "        print(n2)\n",
    "else:\n",
    "    n3=n2%n1\n",
    "    print(n3)\n",
    "    if n3!=0:\n",
    "        n1=n2\n",
    "        n2=n3\n",
    "        n3=n1%n2\n",
    "        print(n2)"
   ]
  },
  {
   "cell_type": "code",
   "execution_count": 4,
   "id": "1beb0aa8",
   "metadata": {},
   "outputs": [
    {
     "name": "stdout",
     "output_type": "stream",
     "text": [
      "10 0 0\n"
     ]
    }
   ],
   "source": [
    "n1=n2\n",
    "n2=n3\n",
    "n3=n2%n1\n",
    "print(n1,n3,n2)"
   ]
  },
  {
   "cell_type": "code",
   "execution_count": 14,
   "id": "acdaa5ac",
   "metadata": {},
   "outputs": [
    {
     "name": "stdout",
     "output_type": "stream",
     "text": [
      "10\n",
      "15\n",
      "before swaping n1 is 10 n2 is 15\n",
      "after swaping n1 is 15 n2 is 10\n"
     ]
    }
   ],
   "source": [
    "n1=int(input())\n",
    "n2=int(input())\n",
    "print(\"before swaping n1 is\",n1,'n2 is',n2)\n",
    "n1=n1-n2\n",
    "n2=n1+n2\n",
    "n1=n2-n1\n",
    "print(\"after swaping n1 is\",n1,'n2 is',n2)"
   ]
  },
  {
   "cell_type": "code",
   "execution_count": 15,
   "id": "f5aa01d9",
   "metadata": {},
   "outputs": [
    {
     "name": "stdout",
     "output_type": "stream",
     "text": [
      "10\n",
      "12\n",
      "before swaping n1 is 10 n2 is 12\n",
      "after swaping n1 is 12 n2 is 10\n"
     ]
    }
   ],
   "source": [
    "n1=int(input())\n",
    "n2=int(input())\n",
    "print(\"before swaping n1 is\",n1,'n2 is',n2)\n",
    "n3=n1\n",
    "n1=n2\n",
    "n2=n3\n",
    "print(\"after swaping n1 is\",n1,'n2 is',n2)"
   ]
  },
  {
   "cell_type": "code",
   "execution_count": 19,
   "id": "e0e6665e",
   "metadata": {},
   "outputs": [
    {
     "name": "stdout",
     "output_type": "stream",
     "text": [
      "1\n",
      "5\n",
      "6\n"
     ]
    }
   ],
   "source": [
    "n1=int(input())\n",
    "n2=int(input())\n",
    "n3=n1.__add__(n2)\n",
    "print(n3)"
   ]
  },
  {
   "cell_type": "code",
   "execution_count": 20,
   "id": "303f3aad",
   "metadata": {},
   "outputs": [
    {
     "name": "stdout",
     "output_type": "stream",
     "text": [
      "naresh kumar kaik\n",
      "3\n"
     ]
    }
   ],
   "source": [
    "s=input()\n",
    "d='k'\n",
    "k=s.count(d)\n",
    "print(k)"
   ]
  },
  {
   "cell_type": "code",
   "execution_count": 23,
   "id": "02cf473e",
   "metadata": {},
   "outputs": [
    {
     "name": "stdout",
     "output_type": "stream",
     "text": [
      "madam\n",
      "yes\n"
     ]
    }
   ],
   "source": [
    "s=input()\n",
    "d=s[::-1]\n",
    "if s==d:\n",
    "    print('yes')\n",
    "else:\n",
    "    print('not')"
   ]
  },
  {
   "cell_type": "code",
   "execution_count": 26,
   "id": "15635814",
   "metadata": {},
   "outputs": [
    {
     "name": "stdout",
     "output_type": "stream",
     "text": [
      "naresh kumar\n",
      "kumar naresh\n"
     ]
    }
   ],
   "source": [
    "s=input()\n",
    "s=s.split(' ')[::-1]\n",
    "s=' '.join(s)\n",
    "print(s)"
   ]
  },
  {
   "cell_type": "code",
   "execution_count": 32,
   "id": "68a1fcab",
   "metadata": {},
   "outputs": [
    {
     "name": "stdout",
     "output_type": "stream",
     "text": [
      "['naresh', 'kumar']\n",
      "<class 'list'>\n",
      "['naresh', 'kumar']\n"
     ]
    }
   ],
   "source": [
    "s='naresh kumar'\n",
    "s=s.split(' ')\n",
    "print(s)\n",
    "print(type(s))\n",
    "# s=s.reverse()\n",
    "print(s)"
   ]
  },
  {
   "cell_type": "code",
   "execution_count": 48,
   "id": "13caf1e1",
   "metadata": {},
   "outputs": [
    {
     "name": "stdout",
     "output_type": "stream",
     "text": [
      "['__add__', '__class__', '__class_getitem__', '__contains__', '__delattr__', '__delitem__', '__dir__', '__doc__', '__eq__', '__format__', '__ge__', '__getattribute__', '__getitem__', '__gt__', '__hash__', '__iadd__', '__imul__', '__init__', '__init_subclass__', '__iter__', '__le__', '__len__', '__lt__', '__mul__', '__ne__', '__new__', '__reduce__', '__reduce_ex__', '__repr__', '__reversed__', '__rmul__', '__setattr__', '__setitem__', '__sizeof__', '__str__', '__subclasshook__', 'append', 'clear', 'copy', 'count', 'extend', 'index', 'insert', 'pop', 'remove', 'reverse', 'sort']\n"
     ]
    }
   ],
   "source": [
    "print(dir(s))"
   ]
  },
  {
   "cell_type": "code",
   "execution_count": 55,
   "id": "52cfa1fa",
   "metadata": {},
   "outputs": [],
   "source": [
    "d=[5,1,2,5,6,8,5]"
   ]
  },
  {
   "cell_type": "code",
   "execution_count": 56,
   "id": "90eab28e",
   "metadata": {},
   "outputs": [],
   "source": [
    "d.reverse()"
   ]
  },
  {
   "cell_type": "code",
   "execution_count": null,
   "id": "b24fb67e",
   "metadata": {},
   "outputs": [],
   "source": []
  },
  {
   "cell_type": "code",
   "execution_count": 57,
   "id": "7738026c",
   "metadata": {},
   "outputs": [
    {
     "data": {
      "text/plain": [
       "[5, 8, 6, 5, 2, 1, 5]"
      ]
     },
     "execution_count": 57,
     "metadata": {},
     "output_type": "execute_result"
    }
   ],
   "source": [
    "d"
   ]
  },
  {
   "cell_type": "code",
   "execution_count": null,
   "id": "913f7c67",
   "metadata": {},
   "outputs": [],
   "source": []
  }
 ],
 "metadata": {
  "kernelspec": {
   "display_name": "Python 3 (ipykernel)",
   "language": "python",
   "name": "python3"
  },
  "language_info": {
   "codemirror_mode": {
    "name": "ipython",
    "version": 3
   },
   "file_extension": ".py",
   "mimetype": "text/x-python",
   "name": "python",
   "nbconvert_exporter": "python",
   "pygments_lexer": "ipython3",
   "version": "3.9.12"
  }
 },
 "nbformat": 4,
 "nbformat_minor": 5
}
