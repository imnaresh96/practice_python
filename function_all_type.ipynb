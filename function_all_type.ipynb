{
 "cells": [
  {
   "cell_type": "code",
   "execution_count": 1,
   "id": "1a3e515c",
   "metadata": {},
   "outputs": [],
   "source": [
    "def hello(): #simple function\n",
    "    print('hello viewer')"
   ]
  },
  {
   "cell_type": "code",
   "execution_count": 2,
   "id": "de5e0792",
   "metadata": {},
   "outputs": [
    {
     "name": "stdout",
     "output_type": "stream",
     "text": [
      "hello viewer\n"
     ]
    }
   ],
   "source": [
    "hello()"
   ]
  },
  {
   "cell_type": "code",
   "execution_count": 3,
   "id": "89492822",
   "metadata": {},
   "outputs": [],
   "source": [
    "def add(x=5,y=8): #default function\n",
    "    print(x+y)\n",
    "    "
   ]
  },
  {
   "cell_type": "code",
   "execution_count": 4,
   "id": "aabe9104",
   "metadata": {},
   "outputs": [
    {
     "name": "stdout",
     "output_type": "stream",
     "text": [
      "13\n"
     ]
    }
   ],
   "source": [
    "add(5)"
   ]
  },
  {
   "cell_type": "code",
   "execution_count": 5,
   "id": "c82a5427",
   "metadata": {},
   "outputs": [
    {
     "name": "stdout",
     "output_type": "stream",
     "text": [
      "8\n"
     ]
    }
   ],
   "source": [
    "add(3,5)"
   ]
  },
  {
   "cell_type": "code",
   "execution_count": 6,
   "id": "c1b358f8",
   "metadata": {},
   "outputs": [
    {
     "name": "stdout",
     "output_type": "stream",
     "text": [
      "10\n"
     ]
    }
   ],
   "source": [
    "add(6,4)"
   ]
  },
  {
   "cell_type": "code",
   "execution_count": 7,
   "id": "b2a658db",
   "metadata": {},
   "outputs": [],
   "source": [
    "def add(x,y): #required argument \n",
    "    return x+y"
   ]
  },
  {
   "cell_type": "code",
   "execution_count": 8,
   "id": "e34a8635",
   "metadata": {},
   "outputs": [
    {
     "ename": "TypeError",
     "evalue": "add() missing 2 required positional arguments: 'x' and 'y'",
     "output_type": "error",
     "traceback": [
      "\u001b[1;31m---------------------------------------------------------------------------\u001b[0m",
      "\u001b[1;31mTypeError\u001b[0m                                 Traceback (most recent call last)",
      "Input \u001b[1;32mIn [8]\u001b[0m, in \u001b[0;36m<cell line: 1>\u001b[1;34m()\u001b[0m\n\u001b[1;32m----> 1\u001b[0m \u001b[43madd\u001b[49m\u001b[43m(\u001b[49m\u001b[43m)\u001b[49m\n",
      "\u001b[1;31mTypeError\u001b[0m: add() missing 2 required positional arguments: 'x' and 'y'"
     ]
    }
   ],
   "source": [
    "add()"
   ]
  },
  {
   "cell_type": "code",
   "execution_count": 9,
   "id": "c0655045",
   "metadata": {},
   "outputs": [
    {
     "data": {
      "text/plain": [
       "12"
      ]
     },
     "execution_count": 9,
     "metadata": {},
     "output_type": "execute_result"
    }
   ],
   "source": [
    "add(5,7)"
   ]
  },
  {
   "cell_type": "code",
   "execution_count": 10,
   "id": "8f7ba53f",
   "metadata": {},
   "outputs": [
    {
     "ename": "TypeError",
     "evalue": "add() takes 2 positional arguments but 4 were given",
     "output_type": "error",
     "traceback": [
      "\u001b[1;31m---------------------------------------------------------------------------\u001b[0m",
      "\u001b[1;31mTypeError\u001b[0m                                 Traceback (most recent call last)",
      "Input \u001b[1;32mIn [10]\u001b[0m, in \u001b[0;36m<cell line: 1>\u001b[1;34m()\u001b[0m\n\u001b[1;32m----> 1\u001b[0m \u001b[43madd\u001b[49m\u001b[43m(\u001b[49m\u001b[38;5;241;43m5\u001b[39;49m\u001b[43m,\u001b[49m\u001b[38;5;241;43m4\u001b[39;49m\u001b[43m,\u001b[49m\u001b[38;5;241;43m6\u001b[39;49m\u001b[43m,\u001b[49m\u001b[38;5;241;43m8\u001b[39;49m\u001b[43m)\u001b[49m\n",
      "\u001b[1;31mTypeError\u001b[0m: add() takes 2 positional arguments but 4 were given"
     ]
    }
   ],
   "source": [
    "add(5,4,6,8)"
   ]
  },
  {
   "cell_type": "code",
   "execution_count": 15,
   "id": "e7b8a13e",
   "metadata": {},
   "outputs": [],
   "source": [
    "def add(*value): #arbitary argument \n",
    "    k=0\n",
    "    for i in value:\n",
    "        k+=i\n",
    "    return k\n",
    "        "
   ]
  },
  {
   "cell_type": "code",
   "execution_count": 16,
   "id": "65ffb1f3",
   "metadata": {},
   "outputs": [
    {
     "data": {
      "text/plain": [
       "15"
      ]
     },
     "execution_count": 16,
     "metadata": {},
     "output_type": "execute_result"
    }
   ],
   "source": [
    "add(5,4,6)"
   ]
  },
  {
   "cell_type": "code",
   "execution_count": 17,
   "id": "58dba0a0",
   "metadata": {},
   "outputs": [
    {
     "data": {
      "text/plain": [
       "67"
      ]
     },
     "execution_count": 17,
     "metadata": {},
     "output_type": "execute_result"
    }
   ],
   "source": [
    "add(5,4,9,5,6,8,5,5,6,5,2,2,5,)"
   ]
  },
  {
   "cell_type": "code",
   "execution_count": 19,
   "id": "895abdb8",
   "metadata": {},
   "outputs": [
    {
     "data": {
      "text/plain": [
       "26"
      ]
     },
     "execution_count": 19,
     "metadata": {},
     "output_type": "execute_result"
    }
   ],
   "source": [
    "add(5,4,8,6,3)"
   ]
  },
  {
   "cell_type": "code",
   "execution_count": 22,
   "id": "cf5a5cc0",
   "metadata": {},
   "outputs": [],
   "source": [
    "def info(name,subject,time): #required argument positional \n",
    "    print(f'name={name},time={time},subject={subject}')"
   ]
  },
  {
   "cell_type": "code",
   "execution_count": 26,
   "id": "e8df68fe",
   "metadata": {},
   "outputs": [
    {
     "name": "stdout",
     "output_type": "stream",
     "text": [
      "name=naresh,time=11:40,subject=python\n"
     ]
    }
   ],
   "source": [
    "info('naresh','python','11:40')"
   ]
  },
  {
   "cell_type": "code",
   "execution_count": 27,
   "id": "196b3949",
   "metadata": {},
   "outputs": [
    {
     "name": "stdout",
     "output_type": "stream",
     "text": [
      "name=python,time=naresh,subject=11:40\n"
     ]
    }
   ],
   "source": [
    "info('python','11:40','naresh')"
   ]
  },
  {
   "cell_type": "code",
   "execution_count": 28,
   "id": "b9fbeef0",
   "metadata": {},
   "outputs": [],
   "source": [
    "def data(**new): #arbitary key-value argument\n",
    "    print(new)\n",
    "    "
   ]
  },
  {
   "cell_type": "code",
   "execution_count": 29,
   "id": "c699d0bb",
   "metadata": {},
   "outputs": [
    {
     "name": "stdout",
     "output_type": "stream",
     "text": [
      "{'name': 'naresh', 'subject': 'python'}\n"
     ]
    }
   ],
   "source": [
    "data(name='naresh',subject='python')"
   ]
  },
  {
   "cell_type": "code",
   "execution_count": 40,
   "id": "af01e55c",
   "metadata": {},
   "outputs": [],
   "source": [
    "name=lambda x,y: x+y #lambda function"
   ]
  },
  {
   "cell_type": "code",
   "execution_count": 41,
   "id": "38fd09d2",
   "metadata": {},
   "outputs": [
    {
     "data": {
      "text/plain": [
       "'nareshkumar'"
      ]
     },
     "execution_count": 41,
     "metadata": {},
     "output_type": "execute_result"
    }
   ],
   "source": [
    "name('naresh','kumar')"
   ]
  },
  {
   "cell_type": "code",
   "execution_count": 42,
   "id": "a6d0ee94",
   "metadata": {},
   "outputs": [],
   "source": [
    "k=name('naresh','kumar')"
   ]
  },
  {
   "cell_type": "code",
   "execution_count": 43,
   "id": "06b9b627",
   "metadata": {},
   "outputs": [
    {
     "data": {
      "text/plain": [
       "'nareshkumar'"
      ]
     },
     "execution_count": 43,
     "metadata": {},
     "output_type": "execute_result"
    }
   ],
   "source": [
    "k"
   ]
  },
  {
   "cell_type": "code",
   "execution_count": 44,
   "id": "7b04545e",
   "metadata": {},
   "outputs": [
    {
     "data": {
      "text/plain": [
       "str"
      ]
     },
     "execution_count": 44,
     "metadata": {},
     "output_type": "execute_result"
    }
   ],
   "source": [
    "type(k)"
   ]
  },
  {
   "cell_type": "code",
   "execution_count": 45,
   "id": "a1d2c14b",
   "metadata": {},
   "outputs": [
    {
     "data": {
      "text/plain": [
       "function"
      ]
     },
     "execution_count": 45,
     "metadata": {},
     "output_type": "execute_result"
    }
   ],
   "source": [
    "type(name)"
   ]
  },
  {
   "cell_type": "code",
   "execution_count": 50,
   "id": "00102583",
   "metadata": {},
   "outputs": [
    {
     "name": "stdout",
     "output_type": "stream",
     "text": [
      "['__annotations__', '__call__', '__class__', '__closure__', '__code__', '__defaults__', '__delattr__', '__dict__', '__dir__', '__doc__', '__eq__', '__format__', '__ge__', '__get__', '__getattribute__', '__globals__', '__gt__', '__hash__', '__init__', '__init_subclass__', '__kwdefaults__', '__le__', '__lt__', '__module__', '__name__', '__ne__', '__new__', '__qualname__', '__reduce__', '__reduce_ex__', '__repr__', '__setattr__', '__sizeof__', '__str__', '__subclasshook__']\n"
     ]
    }
   ],
   "source": [
    "print(dir(name))"
   ]
  },
  {
   "cell_type": "code",
   "execution_count": 54,
   "id": "998b0c2d",
   "metadata": {},
   "outputs": [],
   "source": [
    "# filter function"
   ]
  },
  {
   "cell_type": "code",
   "execution_count": 56,
   "id": "2952a547",
   "metadata": {},
   "outputs": [],
   "source": [
    "def add(x+y):\n",
    "    return x+y"
   ]
  },
  {
   "cell_type": "code",
   "execution_count": 69,
   "id": "e939b1ab",
   "metadata": {},
   "outputs": [],
   "source": [
    "k=[7,8,5,2,6,9,8,5]"
   ]
  },
  {
   "cell_type": "code",
   "execution_count": 70,
   "id": "1441afd8",
   "metadata": {},
   "outputs": [],
   "source": [
    "new_list=filter(add,k)"
   ]
  },
  {
   "cell_type": "code",
   "execution_count": 71,
   "id": "79bbee09",
   "metadata": {},
   "outputs": [
    {
     "name": "stdout",
     "output_type": "stream",
     "text": [
      "<filter object at 0x0000023722C195B0>\n"
     ]
    }
   ],
   "source": [
    "print(new_list)"
   ]
  },
  {
   "cell_type": "code",
   "execution_count": 72,
   "id": "f9907395",
   "metadata": {},
   "outputs": [
    {
     "data": {
      "text/plain": [
       "filter"
      ]
     },
     "execution_count": 72,
     "metadata": {},
     "output_type": "execute_result"
    }
   ],
   "source": [
    "type(new_list)"
   ]
  },
  {
   "cell_type": "code",
   "execution_count": 121,
   "id": "a75036c3",
   "metadata": {},
   "outputs": [],
   "source": [
    "def add(*value):\n",
    "    s=0\n",
    "    for i in value:\n",
    "        s+=i\n",
    "    return s"
   ]
  },
  {
   "cell_type": "code",
   "execution_count": 122,
   "id": "42c0658e",
   "metadata": {},
   "outputs": [],
   "source": [
    "k=[5,4,6,9,85]\n",
    "new_list=filter(add,k)"
   ]
  },
  {
   "cell_type": "code",
   "execution_count": 123,
   "id": "c96ba1e5",
   "metadata": {},
   "outputs": [
    {
     "data": {
      "text/plain": [
       "<filter at 0x23722d4f970>"
      ]
     },
     "execution_count": 123,
     "metadata": {},
     "output_type": "execute_result"
    }
   ],
   "source": [
    "new_list"
   ]
  },
  {
   "cell_type": "code",
   "execution_count": 133,
   "id": "fb33357b",
   "metadata": {},
   "outputs": [],
   "source": [
    "def is_even(x):\n",
    "    p=list()\n",
    "    for i in x:\n",
    "        if i%2==0:\n",
    "            p.append(i)\n",
    "    return p"
   ]
  },
  {
   "cell_type": "code",
   "execution_count": 136,
   "id": "c3cbf8d0",
   "metadata": {},
   "outputs": [],
   "source": [
    "new_even=filter(is_even,k)"
   ]
  },
  {
   "cell_type": "code",
   "execution_count": 137,
   "id": "1aee330f",
   "metadata": {},
   "outputs": [
    {
     "ename": "TypeError",
     "evalue": "'int' object is not iterable",
     "output_type": "error",
     "traceback": [
      "\u001b[1;31m---------------------------------------------------------------------------\u001b[0m",
      "\u001b[1;31mTypeError\u001b[0m                                 Traceback (most recent call last)",
      "Input \u001b[1;32mIn [137]\u001b[0m, in \u001b[0;36m<cell line: 1>\u001b[1;34m()\u001b[0m\n\u001b[1;32m----> 1\u001b[0m \u001b[38;5;28mprint\u001b[39m(\u001b[38;5;28;43mlist\u001b[39;49m\u001b[43m(\u001b[49m\u001b[43mnew_even\u001b[49m\u001b[43m)\u001b[49m)\n",
      "Input \u001b[1;32mIn [133]\u001b[0m, in \u001b[0;36mis_even\u001b[1;34m(x)\u001b[0m\n\u001b[0;32m      1\u001b[0m \u001b[38;5;28;01mdef\u001b[39;00m \u001b[38;5;21mis_even\u001b[39m(x):\n\u001b[0;32m      2\u001b[0m     p\u001b[38;5;241m=\u001b[39m\u001b[38;5;28mlist\u001b[39m()\n\u001b[1;32m----> 3\u001b[0m     \u001b[38;5;28;01mfor\u001b[39;00m i \u001b[38;5;129;01min\u001b[39;00m x:\n\u001b[0;32m      4\u001b[0m         \u001b[38;5;28;01mif\u001b[39;00m i\u001b[38;5;241m%\u001b[39m\u001b[38;5;241m2\u001b[39m\u001b[38;5;241m==\u001b[39m\u001b[38;5;241m0\u001b[39m:\n\u001b[0;32m      5\u001b[0m             p\u001b[38;5;241m.\u001b[39mappend(i)\n",
      "\u001b[1;31mTypeError\u001b[0m: 'int' object is not iterable"
     ]
    }
   ],
   "source": [
    "print(list(new_even))"
   ]
  },
  {
   "cell_type": "code",
   "execution_count": 115,
   "id": "d2773b07",
   "metadata": {},
   "outputs": [],
   "source": [
    "l2=[i for i in range(1,11)]"
   ]
  },
  {
   "cell_type": "code",
   "execution_count": 116,
   "id": "ebec2dfa",
   "metadata": {},
   "outputs": [
    {
     "data": {
      "text/plain": [
       "[1, 2, 3, 4, 5, 6, 7, 8, 9, 10]"
      ]
     },
     "execution_count": 116,
     "metadata": {},
     "output_type": "execute_result"
    }
   ],
   "source": [
    "l2"
   ]
  },
  {
   "cell_type": "code",
   "execution_count": 126,
   "id": "8dfe9c4d",
   "metadata": {},
   "outputs": [],
   "source": [
    "def add(x,y):\n",
    "    return x+y"
   ]
  },
  {
   "cell_type": "code",
   "execution_count": 128,
   "id": "84670721",
   "metadata": {},
   "outputs": [
    {
     "name": "stdout",
     "output_type": "stream",
     "text": [
      "85\n"
     ]
    }
   ],
   "source": [
    "from functools import reduce\n",
    "new_reduce_list=reduce(add,[5,8,9,5,6,52])\n",
    "print(new_reduce_list)"
   ]
  },
  {
   "cell_type": "code",
   "execution_count": 129,
   "id": "3e87eaa5",
   "metadata": {},
   "outputs": [],
   "source": [
    "def multiply(x,y):\n",
    "    return x*y"
   ]
  },
  {
   "cell_type": "code",
   "execution_count": 130,
   "id": "edd1d8ac",
   "metadata": {},
   "outputs": [],
   "source": [
    "new_reduce=reduce(multiply,[8,4,6,9,8,5])"
   ]
  },
  {
   "cell_type": "code",
   "execution_count": 131,
   "id": "b723830c",
   "metadata": {},
   "outputs": [
    {
     "data": {
      "text/plain": [
       "69120"
      ]
     },
     "execution_count": 131,
     "metadata": {},
     "output_type": "execute_result"
    }
   ],
   "source": [
    "new_reduce"
   ]
  },
  {
   "cell_type": "code",
   "execution_count": null,
   "id": "0de40ee2",
   "metadata": {},
   "outputs": [],
   "source": []
  }
 ],
 "metadata": {
  "kernelspec": {
   "display_name": "Python 3 (ipykernel)",
   "language": "python",
   "name": "python3"
  },
  "language_info": {
   "codemirror_mode": {
    "name": "ipython",
    "version": 3
   },
   "file_extension": ".py",
   "mimetype": "text/x-python",
   "name": "python",
   "nbconvert_exporter": "python",
   "pygments_lexer": "ipython3",
   "version": "3.9.12"
  }
 },
 "nbformat": 4,
 "nbformat_minor": 5
}
