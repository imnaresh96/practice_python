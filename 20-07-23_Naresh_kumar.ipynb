{
 "cells": [
  {
   "cell_type": "code",
   "execution_count": 1,
   "id": "6c944316",
   "metadata": {},
   "outputs": [],
   "source": [
    "import pandas as pd\n",
    "from datetime import datetime,timedelta\n",
    "# from flask import request"
   ]
  },
  {
   "cell_type": "code",
   "execution_count": 2,
   "id": "a9eb5c02",
   "metadata": {},
   "outputs": [],
   "source": [
    "import pymysql\n",
    "\n",
    "mydb=pymysql.connect(host='192.168.21.95',user='test',password='Sattrix@123',database='Trainings')\n"
   ]
  },
  {
   "cell_type": "code",
   "execution_count": 3,
   "id": "dfd5b4e3",
   "metadata": {},
   "outputs": [
    {
     "name": "stderr",
     "output_type": "stream",
     "text": [
      "/tmp/ipykernel_85037/966559835.py:4: UserWarning: pandas only supports SQLAlchemy connectable (engine/connection) or database string URI or sqlite3 DBAPI2 connection. Other DBAPI2 objects are not tested. Please consider using SQLAlchemy.\n",
      "  pandas_dataframe=pd.read_sql(\"select * from Sattrix\",mydb)\n"
     ]
    }
   ],
   "source": [
    "# data=request.get_json()\n",
    "count=0\n",
    "dict_of_df={}\n",
    "pandas_dataframe=pd.read_sql(\"select * from Sattrix\",mydb)"
   ]
  },
  {
   "cell_type": "code",
   "execution_count": 4,
   "id": "f9f62762",
   "metadata": {},
   "outputs": [
    {
     "data": {
      "text/html": [
       "<div>\n",
       "<style scoped>\n",
       "    .dataframe tbody tr th:only-of-type {\n",
       "        vertical-align: middle;\n",
       "    }\n",
       "\n",
       "    .dataframe tbody tr th {\n",
       "        vertical-align: top;\n",
       "    }\n",
       "\n",
       "    .dataframe thead th {\n",
       "        text-align: right;\n",
       "    }\n",
       "</style>\n",
       "<table border=\"1\" class=\"dataframe\">\n",
       "  <thead>\n",
       "    <tr style=\"text-align: right;\">\n",
       "      <th></th>\n",
       "      <th>id</th>\n",
       "      <th>name</th>\n",
       "      <th>email</th>\n",
       "      <th>password</th>\n",
       "      <th>phone_number</th>\n",
       "      <th>address</th>\n",
       "      <th>pincode</th>\n",
       "    </tr>\n",
       "  </thead>\n",
       "  <tbody>\n",
       "    <tr>\n",
       "      <th>0</th>\n",
       "      <td>1</td>\n",
       "      <td>dinesh kumar</td>\n",
       "      <td>dinesh@gmail.com</td>\n",
       "      <td>pbkdf2:sha256:600000$i0NiBXqqE854s6sj$ee150deb...</td>\n",
       "      <td>136482971</td>\n",
       "      <td>lucknow</td>\n",
       "      <td>306115</td>\n",
       "    </tr>\n",
       "    <tr>\n",
       "      <th>1</th>\n",
       "      <td>3</td>\n",
       "      <td>naresh</td>\n",
       "      <td>naresh23@gmail.com</td>\n",
       "      <td>pbkdf2:sha256:600000$RWxPbaAezfmf2KrV$a5b08f48...</td>\n",
       "      <td>1364829016</td>\n",
       "      <td>ahmedabad154</td>\n",
       "      <td>306115</td>\n",
       "    </tr>\n",
       "    <tr>\n",
       "      <th>2</th>\n",
       "      <td>4</td>\n",
       "      <td>Naresh Kumar</td>\n",
       "      <td>naresh@gmail.com</td>\n",
       "      <td>pbkdf2:sha256:600000$zTZhY02Ew5h0IqL8$2eb782c9...</td>\n",
       "      <td>9265413875</td>\n",
       "      <td>Ahmedabad</td>\n",
       "      <td>310265</td>\n",
       "    </tr>\n",
       "    <tr>\n",
       "      <th>3</th>\n",
       "      <td>5</td>\n",
       "      <td>naresh kumar</td>\n",
       "      <td>naresh26@gmail.com</td>\n",
       "      <td>pbkdf2:sha256:600000$OJ98GkbuIg17YIlY$97f44787...</td>\n",
       "      <td>1364829562</td>\n",
       "      <td>ahmedabad</td>\n",
       "      <td>306115</td>\n",
       "    </tr>\n",
       "    <tr>\n",
       "      <th>4</th>\n",
       "      <td>6</td>\n",
       "      <td>naresh kumar</td>\n",
       "      <td>nareshkumar@gmail.com</td>\n",
       "      <td>pbkdf2:sha256:600000$8xdUctmKLOjGacx3$e12399cf...</td>\n",
       "      <td>1364829542</td>\n",
       "      <td>ahmedabad</td>\n",
       "      <td>306115</td>\n",
       "    </tr>\n",
       "    <tr>\n",
       "      <th>5</th>\n",
       "      <td>7</td>\n",
       "      <td>naresh sisodiya</td>\n",
       "      <td>nareshsisodiya@gmail.com</td>\n",
       "      <td>pbkdf2:sha256:600000$ssrpHjaXtRprbcvL$45c27f6e...</td>\n",
       "      <td>1364829565</td>\n",
       "      <td>ahmedabad</td>\n",
       "      <td>306115</td>\n",
       "    </tr>\n",
       "  </tbody>\n",
       "</table>\n",
       "</div>"
      ],
      "text/plain": [
       "   id             name                     email  \\\n",
       "0   1     dinesh kumar          dinesh@gmail.com   \n",
       "1   3          naresh         naresh23@gmail.com   \n",
       "2   4     Naresh Kumar          naresh@gmail.com   \n",
       "3   5     naresh kumar        naresh26@gmail.com   \n",
       "4   6     naresh kumar     nareshkumar@gmail.com   \n",
       "5   7  naresh sisodiya  nareshsisodiya@gmail.com   \n",
       "\n",
       "                                            password phone_number  \\\n",
       "0  pbkdf2:sha256:600000$i0NiBXqqE854s6sj$ee150deb...    136482971   \n",
       "1  pbkdf2:sha256:600000$RWxPbaAezfmf2KrV$a5b08f48...   1364829016   \n",
       "2  pbkdf2:sha256:600000$zTZhY02Ew5h0IqL8$2eb782c9...   9265413875   \n",
       "3  pbkdf2:sha256:600000$OJ98GkbuIg17YIlY$97f44787...   1364829562   \n",
       "4  pbkdf2:sha256:600000$8xdUctmKLOjGacx3$e12399cf...   1364829542   \n",
       "5  pbkdf2:sha256:600000$ssrpHjaXtRprbcvL$45c27f6e...   1364829565   \n",
       "\n",
       "        address  pincode  \n",
       "0       lucknow   306115  \n",
       "1  ahmedabad154   306115  \n",
       "2     Ahmedabad   310265  \n",
       "3     ahmedabad   306115  \n",
       "4     ahmedabad   306115  \n",
       "5     ahmedabad   306115  "
      ]
     },
     "execution_count": 4,
     "metadata": {},
     "output_type": "execute_result"
    }
   ],
   "source": [
    "pandas_dataframe"
   ]
  },
  {
   "cell_type": "code",
   "execution_count": 5,
   "id": "04cd82a3",
   "metadata": {},
   "outputs": [
    {
     "name": "stdout",
     "output_type": "stream",
     "text": [
      "306115\n",
      "306115\n",
      "310265\n",
      "306115\n",
      "306115\n",
      "306115\n"
     ]
    }
   ],
   "source": [
    "for i , j in pandas_dataframe.iterrows():\n",
    "    print(j['pincode'])"
   ]
  },
  {
   "cell_type": "code",
   "execution_count": 6,
   "id": "f4a54d76",
   "metadata": {},
   "outputs": [],
   "source": [
    "data=pd.read_csv('test.csv')"
   ]
  },
  {
   "cell_type": "code",
   "execution_count": 7,
   "id": "8451eba5",
   "metadata": {},
   "outputs": [
    {
     "data": {
      "text/html": [
       "<div>\n",
       "<style scoped>\n",
       "    .dataframe tbody tr th:only-of-type {\n",
       "        vertical-align: middle;\n",
       "    }\n",
       "\n",
       "    .dataframe tbody tr th {\n",
       "        vertical-align: top;\n",
       "    }\n",
       "\n",
       "    .dataframe thead th {\n",
       "        text-align: right;\n",
       "    }\n",
       "</style>\n",
       "<table border=\"1\" class=\"dataframe\">\n",
       "  <thead>\n",
       "    <tr style=\"text-align: right;\">\n",
       "      <th></th>\n",
       "      <th>Unnamed: 0</th>\n",
       "      <th>StartTime</th>\n",
       "      <th>RuleId</th>\n",
       "      <th>RuleName</th>\n",
       "    </tr>\n",
       "  </thead>\n",
       "  <tbody>\n",
       "    <tr>\n",
       "      <th>0</th>\n",
       "      <td>0</td>\n",
       "      <td>2023-05-16 14:59:30</td>\n",
       "      <td>320</td>\n",
       "      <td>Microsoft Logs</td>\n",
       "    </tr>\n",
       "    <tr>\n",
       "      <th>1</th>\n",
       "      <td>1</td>\n",
       "      <td>2023-05-16 14:59:30</td>\n",
       "      <td>320</td>\n",
       "      <td>Microsoft Logs</td>\n",
       "    </tr>\n",
       "    <tr>\n",
       "      <th>2</th>\n",
       "      <td>2</td>\n",
       "      <td>2023-05-16 14:59:30</td>\n",
       "      <td>320</td>\n",
       "      <td>Microsoft Logs</td>\n",
       "    </tr>\n",
       "    <tr>\n",
       "      <th>3</th>\n",
       "      <td>3</td>\n",
       "      <td>2023-05-16 14:59:30</td>\n",
       "      <td>320</td>\n",
       "      <td>Microsoft Logs</td>\n",
       "    </tr>\n",
       "    <tr>\n",
       "      <th>4</th>\n",
       "      <td>4</td>\n",
       "      <td>2023-05-16 14:59:30</td>\n",
       "      <td>320</td>\n",
       "      <td>Microsoft Logs</td>\n",
       "    </tr>\n",
       "    <tr>\n",
       "      <th>...</th>\n",
       "      <td>...</td>\n",
       "      <td>...</td>\n",
       "      <td>...</td>\n",
       "      <td>...</td>\n",
       "    </tr>\n",
       "    <tr>\n",
       "      <th>23643</th>\n",
       "      <td>23643</td>\n",
       "      <td>2023-05-31 16:29:54</td>\n",
       "      <td>325</td>\n",
       "      <td>Securnoix Alerts_Redington</td>\n",
       "    </tr>\n",
       "    <tr>\n",
       "      <th>23644</th>\n",
       "      <td>23644</td>\n",
       "      <td>2023-05-31 23:45:57</td>\n",
       "      <td>325</td>\n",
       "      <td>Securnoix Alerts_Redington</td>\n",
       "    </tr>\n",
       "    <tr>\n",
       "      <th>23645</th>\n",
       "      <td>23645</td>\n",
       "      <td>2023-05-31 23:45:57</td>\n",
       "      <td>325</td>\n",
       "      <td>Securnoix Alerts_Redington</td>\n",
       "    </tr>\n",
       "    <tr>\n",
       "      <th>23646</th>\n",
       "      <td>23646</td>\n",
       "      <td>2023-05-31 23:45:57</td>\n",
       "      <td>325</td>\n",
       "      <td>Securnoix Alerts_Redington</td>\n",
       "    </tr>\n",
       "    <tr>\n",
       "      <th>23647</th>\n",
       "      <td>23647</td>\n",
       "      <td>2023-05-31 23:45:57</td>\n",
       "      <td>325</td>\n",
       "      <td>Securnoix Alerts_Redington</td>\n",
       "    </tr>\n",
       "  </tbody>\n",
       "</table>\n",
       "<p>23648 rows × 4 columns</p>\n",
       "</div>"
      ],
      "text/plain": [
       "       Unnamed: 0            StartTime  RuleId                    RuleName\n",
       "0               0  2023-05-16 14:59:30     320              Microsoft Logs\n",
       "1               1  2023-05-16 14:59:30     320              Microsoft Logs\n",
       "2               2  2023-05-16 14:59:30     320              Microsoft Logs\n",
       "3               3  2023-05-16 14:59:30     320              Microsoft Logs\n",
       "4               4  2023-05-16 14:59:30     320              Microsoft Logs\n",
       "...           ...                  ...     ...                         ...\n",
       "23643       23643  2023-05-31 16:29:54     325  Securnoix Alerts_Redington\n",
       "23644       23644  2023-05-31 23:45:57     325  Securnoix Alerts_Redington\n",
       "23645       23645  2023-05-31 23:45:57     325  Securnoix Alerts_Redington\n",
       "23646       23646  2023-05-31 23:45:57     325  Securnoix Alerts_Redington\n",
       "23647       23647  2023-05-31 23:45:57     325  Securnoix Alerts_Redington\n",
       "\n",
       "[23648 rows x 4 columns]"
      ]
     },
     "execution_count": 7,
     "metadata": {},
     "output_type": "execute_result"
    }
   ],
   "source": [
    "data"
   ]
  },
  {
   "cell_type": "code",
   "execution_count": 8,
   "id": "79570593",
   "metadata": {},
   "outputs": [
    {
     "data": {
      "text/html": [
       "<div>\n",
       "<style scoped>\n",
       "    .dataframe tbody tr th:only-of-type {\n",
       "        vertical-align: middle;\n",
       "    }\n",
       "\n",
       "    .dataframe tbody tr th {\n",
       "        vertical-align: top;\n",
       "    }\n",
       "\n",
       "    .dataframe thead th {\n",
       "        text-align: right;\n",
       "    }\n",
       "</style>\n",
       "<table border=\"1\" class=\"dataframe\">\n",
       "  <thead>\n",
       "    <tr style=\"text-align: right;\">\n",
       "      <th></th>\n",
       "      <th>RuleId</th>\n",
       "      <th>RuleName</th>\n",
       "    </tr>\n",
       "  </thead>\n",
       "  <tbody>\n",
       "    <tr>\n",
       "      <th>0</th>\n",
       "      <td>320</td>\n",
       "      <td>Microsoft Logs</td>\n",
       "    </tr>\n",
       "    <tr>\n",
       "      <th>1</th>\n",
       "      <td>320</td>\n",
       "      <td>Microsoft Logs</td>\n",
       "    </tr>\n",
       "    <tr>\n",
       "      <th>2</th>\n",
       "      <td>320</td>\n",
       "      <td>Microsoft Logs</td>\n",
       "    </tr>\n",
       "    <tr>\n",
       "      <th>3</th>\n",
       "      <td>320</td>\n",
       "      <td>Microsoft Logs</td>\n",
       "    </tr>\n",
       "    <tr>\n",
       "      <th>4</th>\n",
       "      <td>320</td>\n",
       "      <td>Microsoft Logs</td>\n",
       "    </tr>\n",
       "    <tr>\n",
       "      <th>...</th>\n",
       "      <td>...</td>\n",
       "      <td>...</td>\n",
       "    </tr>\n",
       "    <tr>\n",
       "      <th>23643</th>\n",
       "      <td>325</td>\n",
       "      <td>Securnoix Alerts_Redington</td>\n",
       "    </tr>\n",
       "    <tr>\n",
       "      <th>23644</th>\n",
       "      <td>325</td>\n",
       "      <td>Securnoix Alerts_Redington</td>\n",
       "    </tr>\n",
       "    <tr>\n",
       "      <th>23645</th>\n",
       "      <td>325</td>\n",
       "      <td>Securnoix Alerts_Redington</td>\n",
       "    </tr>\n",
       "    <tr>\n",
       "      <th>23646</th>\n",
       "      <td>325</td>\n",
       "      <td>Securnoix Alerts_Redington</td>\n",
       "    </tr>\n",
       "    <tr>\n",
       "      <th>23647</th>\n",
       "      <td>325</td>\n",
       "      <td>Securnoix Alerts_Redington</td>\n",
       "    </tr>\n",
       "  </tbody>\n",
       "</table>\n",
       "<p>23648 rows × 2 columns</p>\n",
       "</div>"
      ],
      "text/plain": [
       "       RuleId                    RuleName\n",
       "0         320              Microsoft Logs\n",
       "1         320              Microsoft Logs\n",
       "2         320              Microsoft Logs\n",
       "3         320              Microsoft Logs\n",
       "4         320              Microsoft Logs\n",
       "...       ...                         ...\n",
       "23643     325  Securnoix Alerts_Redington\n",
       "23644     325  Securnoix Alerts_Redington\n",
       "23645     325  Securnoix Alerts_Redington\n",
       "23646     325  Securnoix Alerts_Redington\n",
       "23647     325  Securnoix Alerts_Redington\n",
       "\n",
       "[23648 rows x 2 columns]"
      ]
     },
     "execution_count": 8,
     "metadata": {},
     "output_type": "execute_result"
    }
   ],
   "source": [
    "data.iloc[:,2:4]"
   ]
  },
  {
   "cell_type": "code",
   "execution_count": 9,
   "id": "3e5d1126",
   "metadata": {},
   "outputs": [],
   "source": [
    "from pandasql import sqldf"
   ]
  },
  {
   "cell_type": "code",
   "execution_count": 10,
   "id": "721c3b3e",
   "metadata": {},
   "outputs": [
    {
     "name": "stdout",
     "output_type": "stream",
     "text": [
      "Defaulting to user installation because normal site-packages is not writeable\n",
      "Requirement already satisfied: pandasql in /home/sattrix/.local/lib/python3.10/site-packages (0.7.3)\n",
      "Requirement already satisfied: sqlalchemy in /home/sattrix/.local/lib/python3.10/site-packages (from pandasql) (2.0.19)\n",
      "Requirement already satisfied: numpy in /home/sattrix/.local/lib/python3.10/site-packages (from pandasql) (1.25.1)\n",
      "Requirement already satisfied: pandas in /home/sattrix/.local/lib/python3.10/site-packages (from pandasql) (2.0.3)\n",
      "Requirement already satisfied: pytz>=2020.1 in /usr/lib/python3/dist-packages (from pandas->pandasql) (2022.1)\n",
      "Requirement already satisfied: tzdata>=2022.1 in /home/sattrix/.local/lib/python3.10/site-packages (from pandas->pandasql) (2023.3)\n",
      "Requirement already satisfied: python-dateutil>=2.8.2 in /home/sattrix/.local/lib/python3.10/site-packages (from pandas->pandasql) (2.8.2)\n",
      "Requirement already satisfied: greenlet!=0.4.17 in /home/sattrix/.local/lib/python3.10/site-packages (from sqlalchemy->pandasql) (2.0.2)\n",
      "Requirement already satisfied: typing-extensions>=4.2.0 in /home/sattrix/.local/lib/python3.10/site-packages (from sqlalchemy->pandasql) (4.7.1)\n",
      "Requirement already satisfied: six>=1.5 in /usr/lib/python3/dist-packages (from python-dateutil>=2.8.2->pandas->pandasql) (1.16.0)\n",
      "Note: you may need to restart the kernel to use updated packages.\n"
     ]
    }
   ],
   "source": [
    "pip install pandasql"
   ]
  },
  {
   "cell_type": "code",
   "execution_count": 11,
   "id": "b114eeee",
   "metadata": {},
   "outputs": [],
   "source": [
    "from pandasql import sqldf\n",
    "import pymysql\n",
    "import pandas as pd"
   ]
  },
  {
   "cell_type": "code",
   "execution_count": 12,
   "id": "81768a8b",
   "metadata": {},
   "outputs": [],
   "source": [
    "db=pymysql.connect(host='192.168.21.95', user='test', password='Sattrix@123', database='Trainings')"
   ]
  },
  {
   "cell_type": "code",
   "execution_count": 13,
   "id": "c3e9e702",
   "metadata": {},
   "outputs": [
    {
     "name": "stderr",
     "output_type": "stream",
     "text": [
      "/tmp/ipykernel_85037/2533310026.py:1: UserWarning: pandas only supports SQLAlchemy connectable (engine/connection) or database string URI or sqlite3 DBAPI2 connection. Other DBAPI2 objects are not tested. Please consider using SQLAlchemy.\n",
      "  data=pd.read_sql('''select * from Rule_LightWeightlist_new''',db)\n"
     ]
    }
   ],
   "source": [
    "db=pymysql.connect(host='192.168.21.95', user='test', password='Sattrix@123', database='Trainings')\n",
    "data=pd.read_sql('''select * from Rule_LightWeightlist_new''',db)"
   ]
  },
  {
   "cell_type": "code",
   "execution_count": 14,
   "id": "8c8f08ae",
   "metadata": {},
   "outputs": [
    {
     "data": {
      "text/html": [
       "<div>\n",
       "<style scoped>\n",
       "    .dataframe tbody tr th:only-of-type {\n",
       "        vertical-align: middle;\n",
       "    }\n",
       "\n",
       "    .dataframe tbody tr th {\n",
       "        vertical-align: top;\n",
       "    }\n",
       "\n",
       "    .dataframe thead th {\n",
       "        text-align: right;\n",
       "    }\n",
       "</style>\n",
       "<table border=\"1\" class=\"dataframe\">\n",
       "  <thead>\n",
       "    <tr style=\"text-align: right;\">\n",
       "      <th></th>\n",
       "      <th>ID</th>\n",
       "      <th>Count</th>\n",
       "      <th>Rule_ListId</th>\n",
       "      <th>Insert_time</th>\n",
       "      <th>Modified_time</th>\n",
       "      <th>ColumnName</th>\n",
       "      <th>ColumnValue</th>\n",
       "    </tr>\n",
       "  </thead>\n",
       "  <tbody>\n",
       "    <tr>\n",
       "      <th>0</th>\n",
       "      <td>1</td>\n",
       "      <td>1</td>\n",
       "      <td>16</td>\n",
       "      <td>2023-07-19 18:01:42</td>\n",
       "      <td>2023-07-19 18:01:42</td>\n",
       "      <td>IP</td>\n",
       "      <td>['192.168.23.179', '192.168.23.180', '192.168....</td>\n",
       "    </tr>\n",
       "    <tr>\n",
       "      <th>1</th>\n",
       "      <td>2</td>\n",
       "      <td>1</td>\n",
       "      <td>16</td>\n",
       "      <td>2023-07-19 18:01:42</td>\n",
       "      <td>2023-07-19 18:01:42</td>\n",
       "      <td>name</td>\n",
       "      <td>['tes', 'user', 'atuks']</td>\n",
       "    </tr>\n",
       "  </tbody>\n",
       "</table>\n",
       "</div>"
      ],
      "text/plain": [
       "   ID  Count  Rule_ListId          Insert_time        Modified_time  \\\n",
       "0   1      1           16  2023-07-19 18:01:42  2023-07-19 18:01:42   \n",
       "1   2      1           16  2023-07-19 18:01:42  2023-07-19 18:01:42   \n",
       "\n",
       "  ColumnName                                        ColumnValue  \n",
       "0         IP  ['192.168.23.179', '192.168.23.180', '192.168....  \n",
       "1       name                           ['tes', 'user', 'atuks']  "
      ]
     },
     "execution_count": 14,
     "metadata": {},
     "output_type": "execute_result"
    }
   ],
   "source": [
    "data"
   ]
  },
  {
   "cell_type": "code",
   "execution_count": 68,
   "id": "1216a723",
   "metadata": {},
   "outputs": [
    {
     "name": "stdout",
     "output_type": "stream",
     "text": [
      "0    ['192.168.23.179', '192.168.23.180', '192.168....\n",
      "1                             ['tes', 'user', 'atuks']\n",
      "Name: ColumnValue, dtype: object\n"
     ]
    },
    {
     "name": "stderr",
     "output_type": "stream",
     "text": [
      "/tmp/ipykernel_85037/3412562604.py:2: UserWarning: pandas only supports SQLAlchemy connectable (engine/connection) or database string URI or sqlite3 DBAPI2 connection. Other DBAPI2 objects are not tested. Please consider using SQLAlchemy.\n",
      "  data=pd.read_sql('''select * from Rule_LightWeightlist_new''',db)\n"
     ]
    }
   ],
   "source": [
    "db=pymysql.connect(host='192.168.21.95', user='test', password='Sattrix@123', database='Trainings')\n",
    "data=pd.read_sql('''select * from Rule_LightWeightlist_new''',db)\n",
    "print(data['ColumnValue'])"
   ]
  },
  {
   "cell_type": "code",
   "execution_count": 69,
   "id": "e98e1d5b",
   "metadata": {},
   "outputs": [],
   "source": [
    "d=data['ColumnValue']"
   ]
  },
  {
   "cell_type": "code",
   "execution_count": 70,
   "id": "6272fc36",
   "metadata": {},
   "outputs": [
    {
     "data": {
      "text/plain": [
       "0    ['192.168.23.179', '192.168.23.180', '192.168....\n",
       "1                             ['tes', 'user', 'atuks']\n",
       "Name: ColumnValue, dtype: object"
      ]
     },
     "execution_count": 70,
     "metadata": {},
     "output_type": "execute_result"
    }
   ],
   "source": [
    "d"
   ]
  },
  {
   "cell_type": "code",
   "execution_count": 18,
   "id": "09e682ec",
   "metadata": {},
   "outputs": [
    {
     "data": {
      "text/plain": [
       "\"['192.168.23.179', '192.168.23.180', '192.168.23.206', '192.168.23.215', '192.168.23.227', '192.168.9.57', '192.168.23.222', '192.168.23.229', '192.168.23.132', '192.168.23.160']\""
      ]
     },
     "execution_count": 18,
     "metadata": {},
     "output_type": "execute_result"
    }
   ],
   "source": [
    "d[0]"
   ]
  },
  {
   "cell_type": "code",
   "execution_count": 19,
   "id": "110c5312",
   "metadata": {},
   "outputs": [
    {
     "ename": "ValueError",
     "evalue": "If using all scalar values, you must pass an index",
     "output_type": "error",
     "traceback": [
      "\u001b[0;31m---------------------------------------------------------------------------\u001b[0m",
      "\u001b[0;31mValueError\u001b[0m                                Traceback (most recent call last)",
      "Cell \u001b[0;32mIn[19], line 1\u001b[0m\n\u001b[0;32m----> 1\u001b[0m a\u001b[38;5;241m=\u001b[39m\u001b[43mpd\u001b[49m\u001b[38;5;241;43m.\u001b[39;49m\u001b[43mDataFrame\u001b[49m\u001b[43m(\u001b[49m\u001b[43m{\u001b[49m\u001b[38;5;124;43m'\u001b[39;49m\u001b[38;5;124;43mip\u001b[39;49m\u001b[38;5;124;43m'\u001b[39;49m\u001b[43m:\u001b[49m\u001b[43md\u001b[49m\u001b[43m[\u001b[49m\u001b[38;5;241;43m0\u001b[39;49m\u001b[43m]\u001b[49m\u001b[43m,\u001b[49m\u001b[43m \u001b[49m\u001b[38;5;124;43m'\u001b[39;49m\u001b[38;5;124;43mname\u001b[39;49m\u001b[38;5;124;43m'\u001b[39;49m\u001b[43m:\u001b[49m\u001b[43md\u001b[49m\u001b[43m[\u001b[49m\u001b[38;5;241;43m1\u001b[39;49m\u001b[43m]\u001b[49m\u001b[43m}\u001b[49m\u001b[43m)\u001b[49m\n",
      "File \u001b[0;32m~/.local/lib/python3.10/site-packages/pandas/core/frame.py:709\u001b[0m, in \u001b[0;36mDataFrame.__init__\u001b[0;34m(self, data, index, columns, dtype, copy)\u001b[0m\n\u001b[1;32m    703\u001b[0m     mgr \u001b[38;5;241m=\u001b[39m \u001b[38;5;28mself\u001b[39m\u001b[38;5;241m.\u001b[39m_init_mgr(\n\u001b[1;32m    704\u001b[0m         data, axes\u001b[38;5;241m=\u001b[39m{\u001b[38;5;124m\"\u001b[39m\u001b[38;5;124mindex\u001b[39m\u001b[38;5;124m\"\u001b[39m: index, \u001b[38;5;124m\"\u001b[39m\u001b[38;5;124mcolumns\u001b[39m\u001b[38;5;124m\"\u001b[39m: columns}, dtype\u001b[38;5;241m=\u001b[39mdtype, copy\u001b[38;5;241m=\u001b[39mcopy\n\u001b[1;32m    705\u001b[0m     )\n\u001b[1;32m    707\u001b[0m \u001b[38;5;28;01melif\u001b[39;00m \u001b[38;5;28misinstance\u001b[39m(data, \u001b[38;5;28mdict\u001b[39m):\n\u001b[1;32m    708\u001b[0m     \u001b[38;5;66;03m# GH#38939 de facto copy defaults to False only in non-dict cases\u001b[39;00m\n\u001b[0;32m--> 709\u001b[0m     mgr \u001b[38;5;241m=\u001b[39m \u001b[43mdict_to_mgr\u001b[49m\u001b[43m(\u001b[49m\u001b[43mdata\u001b[49m\u001b[43m,\u001b[49m\u001b[43m \u001b[49m\u001b[43mindex\u001b[49m\u001b[43m,\u001b[49m\u001b[43m \u001b[49m\u001b[43mcolumns\u001b[49m\u001b[43m,\u001b[49m\u001b[43m \u001b[49m\u001b[43mdtype\u001b[49m\u001b[38;5;241;43m=\u001b[39;49m\u001b[43mdtype\u001b[49m\u001b[43m,\u001b[49m\u001b[43m \u001b[49m\u001b[43mcopy\u001b[49m\u001b[38;5;241;43m=\u001b[39;49m\u001b[43mcopy\u001b[49m\u001b[43m,\u001b[49m\u001b[43m \u001b[49m\u001b[43mtyp\u001b[49m\u001b[38;5;241;43m=\u001b[39;49m\u001b[43mmanager\u001b[49m\u001b[43m)\u001b[49m\n\u001b[1;32m    710\u001b[0m \u001b[38;5;28;01melif\u001b[39;00m \u001b[38;5;28misinstance\u001b[39m(data, ma\u001b[38;5;241m.\u001b[39mMaskedArray):\n\u001b[1;32m    711\u001b[0m     \u001b[38;5;28;01mfrom\u001b[39;00m \u001b[38;5;21;01mnumpy\u001b[39;00m\u001b[38;5;21;01m.\u001b[39;00m\u001b[38;5;21;01mma\u001b[39;00m \u001b[38;5;28;01mimport\u001b[39;00m mrecords\n",
      "File \u001b[0;32m~/.local/lib/python3.10/site-packages/pandas/core/internals/construction.py:481\u001b[0m, in \u001b[0;36mdict_to_mgr\u001b[0;34m(data, index, columns, dtype, typ, copy)\u001b[0m\n\u001b[1;32m    477\u001b[0m     \u001b[38;5;28;01melse\u001b[39;00m:\n\u001b[1;32m    478\u001b[0m         \u001b[38;5;66;03m# dtype check to exclude e.g. range objects, scalars\u001b[39;00m\n\u001b[1;32m    479\u001b[0m         arrays \u001b[38;5;241m=\u001b[39m [x\u001b[38;5;241m.\u001b[39mcopy() \u001b[38;5;28;01mif\u001b[39;00m \u001b[38;5;28mhasattr\u001b[39m(x, \u001b[38;5;124m\"\u001b[39m\u001b[38;5;124mdtype\u001b[39m\u001b[38;5;124m\"\u001b[39m) \u001b[38;5;28;01melse\u001b[39;00m x \u001b[38;5;28;01mfor\u001b[39;00m x \u001b[38;5;129;01min\u001b[39;00m arrays]\n\u001b[0;32m--> 481\u001b[0m \u001b[38;5;28;01mreturn\u001b[39;00m \u001b[43marrays_to_mgr\u001b[49m\u001b[43m(\u001b[49m\u001b[43marrays\u001b[49m\u001b[43m,\u001b[49m\u001b[43m \u001b[49m\u001b[43mcolumns\u001b[49m\u001b[43m,\u001b[49m\u001b[43m \u001b[49m\u001b[43mindex\u001b[49m\u001b[43m,\u001b[49m\u001b[43m \u001b[49m\u001b[43mdtype\u001b[49m\u001b[38;5;241;43m=\u001b[39;49m\u001b[43mdtype\u001b[49m\u001b[43m,\u001b[49m\u001b[43m \u001b[49m\u001b[43mtyp\u001b[49m\u001b[38;5;241;43m=\u001b[39;49m\u001b[43mtyp\u001b[49m\u001b[43m,\u001b[49m\u001b[43m \u001b[49m\u001b[43mconsolidate\u001b[49m\u001b[38;5;241;43m=\u001b[39;49m\u001b[43mcopy\u001b[49m\u001b[43m)\u001b[49m\n",
      "File \u001b[0;32m~/.local/lib/python3.10/site-packages/pandas/core/internals/construction.py:115\u001b[0m, in \u001b[0;36marrays_to_mgr\u001b[0;34m(arrays, columns, index, dtype, verify_integrity, typ, consolidate)\u001b[0m\n\u001b[1;32m    112\u001b[0m \u001b[38;5;28;01mif\u001b[39;00m verify_integrity:\n\u001b[1;32m    113\u001b[0m     \u001b[38;5;66;03m# figure out the index, if necessary\u001b[39;00m\n\u001b[1;32m    114\u001b[0m     \u001b[38;5;28;01mif\u001b[39;00m index \u001b[38;5;129;01mis\u001b[39;00m \u001b[38;5;28;01mNone\u001b[39;00m:\n\u001b[0;32m--> 115\u001b[0m         index \u001b[38;5;241m=\u001b[39m \u001b[43m_extract_index\u001b[49m\u001b[43m(\u001b[49m\u001b[43marrays\u001b[49m\u001b[43m)\u001b[49m\n\u001b[1;32m    116\u001b[0m     \u001b[38;5;28;01melse\u001b[39;00m:\n\u001b[1;32m    117\u001b[0m         index \u001b[38;5;241m=\u001b[39m ensure_index(index)\n",
      "File \u001b[0;32m~/.local/lib/python3.10/site-packages/pandas/core/internals/construction.py:645\u001b[0m, in \u001b[0;36m_extract_index\u001b[0;34m(data)\u001b[0m\n\u001b[1;32m    642\u001b[0m         \u001b[38;5;28;01mraise\u001b[39;00m \u001b[38;5;167;01mValueError\u001b[39;00m(\u001b[38;5;124m\"\u001b[39m\u001b[38;5;124mPer-column arrays must each be 1-dimensional\u001b[39m\u001b[38;5;124m\"\u001b[39m)\n\u001b[1;32m    644\u001b[0m \u001b[38;5;28;01mif\u001b[39;00m \u001b[38;5;129;01mnot\u001b[39;00m indexes \u001b[38;5;129;01mand\u001b[39;00m \u001b[38;5;129;01mnot\u001b[39;00m raw_lengths:\n\u001b[0;32m--> 645\u001b[0m     \u001b[38;5;28;01mraise\u001b[39;00m \u001b[38;5;167;01mValueError\u001b[39;00m(\u001b[38;5;124m\"\u001b[39m\u001b[38;5;124mIf using all scalar values, you must pass an index\u001b[39m\u001b[38;5;124m\"\u001b[39m)\n\u001b[1;32m    647\u001b[0m \u001b[38;5;28;01mif\u001b[39;00m have_series:\n\u001b[1;32m    648\u001b[0m     index \u001b[38;5;241m=\u001b[39m union_indexes(indexes)\n",
      "\u001b[0;31mValueError\u001b[0m: If using all scalar values, you must pass an index"
     ]
    }
   ],
   "source": [
    "a=pd.DataFrame({'ip':d[0], 'name':d[1]})"
   ]
  },
  {
   "cell_type": "code",
   "execution_count": 20,
   "id": "990711b8",
   "metadata": {},
   "outputs": [
    {
     "data": {
      "text/plain": [
       "\"['192.168.23.179', '192.168.23.180', '192.168.23.206', '192.168.23.215', '192.168.23.227', '192.168.9.57', '192.168.23.222', '192.168.23.229', '192.168.23.132', '192.168.23.160']\""
      ]
     },
     "execution_count": 20,
     "metadata": {},
     "output_type": "execute_result"
    }
   ],
   "source": [
    "d[0]"
   ]
  },
  {
   "cell_type": "code",
   "execution_count": 21,
   "id": "2f48848a",
   "metadata": {},
   "outputs": [
    {
     "name": "stdout",
     "output_type": "stream",
     "text": [
      "['192.168.23.179', '192.168.23.180', '192.168.23.206', '192.168.23.215', '192.168.23.227', '192.168.9.57', '192.168.23.222', '192.168.23.229', '192.168.23.132', '192.168.23.160']\n",
      "['tes', 'user', 'atuks']\n"
     ]
    }
   ],
   "source": [
    "k=[]\n",
    "for i in d:\n",
    "    print(i)"
   ]
  },
  {
   "cell_type": "code",
   "execution_count": 22,
   "id": "7882d517",
   "metadata": {},
   "outputs": [],
   "source": [
    "f=d[0]\n",
    "g=d[1]"
   ]
  },
  {
   "cell_type": "code",
   "execution_count": 23,
   "id": "08aae7eb",
   "metadata": {},
   "outputs": [
    {
     "data": {
      "text/plain": [
       "\"['192.168.23.179', '192.168.23.180', '192.168.23.206', '192.168.23.215', '192.168.23.227', '192.168.9.57', '192.168.23.222', '192.168.23.229', '192.168.23.132', '192.168.23.160']\""
      ]
     },
     "execution_count": 23,
     "metadata": {},
     "output_type": "execute_result"
    }
   ],
   "source": [
    "f"
   ]
  },
  {
   "cell_type": "code",
   "execution_count": 24,
   "id": "abae6927",
   "metadata": {},
   "outputs": [
    {
     "data": {
      "text/plain": [
       "\"['tes', 'user', 'atuks']\""
      ]
     },
     "execution_count": 24,
     "metadata": {},
     "output_type": "execute_result"
    }
   ],
   "source": [
    "g"
   ]
  },
  {
   "cell_type": "code",
   "execution_count": 25,
   "id": "f60ea4fc",
   "metadata": {},
   "outputs": [
    {
     "data": {
      "text/plain": [
       "\"['192.168.23.179', '192.168.23.180', '192.168.23.206', '192.168.23.215', '192.168.23.227', '192.168.9.57', '192.168.23.222', '192.168.23.229', '192.168.23.132', '192.168.23.160']\""
      ]
     },
     "execution_count": 25,
     "metadata": {},
     "output_type": "execute_result"
    }
   ],
   "source": [
    "f"
   ]
  },
  {
   "cell_type": "code",
   "execution_count": 26,
   "id": "5ad2fb7a",
   "metadata": {},
   "outputs": [
    {
     "data": {
      "text/plain": [
       "\"['192.168.23.179', '192.168.23.180', '192.168.23.206', '192.168.23.215', '192.168.23.227', '192.168.9.57', '192.168.23.222', '192.168.23.229', '192.168.23.132', '192.168.23.160']\""
      ]
     },
     "execution_count": 26,
     "metadata": {},
     "output_type": "execute_result"
    }
   ],
   "source": [
    "f"
   ]
  },
  {
   "cell_type": "code",
   "execution_count": 27,
   "id": "14faff1c",
   "metadata": {},
   "outputs": [],
   "source": [
    "da={\n",
    "    \"ip\":f,\n",
    "    \"name\":g,\n",
    "#     \"insert_time\":\n",
    "#     \"Modified_time\":\n",
    "}"
   ]
  },
  {
   "cell_type": "code",
   "execution_count": 28,
   "id": "20c1224a",
   "metadata": {
    "scrolled": true
   },
   "outputs": [
    {
     "data": {
      "text/plain": [
       "{'ip': \"['192.168.23.179', '192.168.23.180', '192.168.23.206', '192.168.23.215', '192.168.23.227', '192.168.9.57', '192.168.23.222', '192.168.23.229', '192.168.23.132', '192.168.23.160']\",\n",
       " 'name': \"['tes', 'user', 'atuks']\"}"
      ]
     },
     "execution_count": 28,
     "metadata": {},
     "output_type": "execute_result"
    }
   ],
   "source": [
    "da"
   ]
  },
  {
   "cell_type": "code",
   "execution_count": 29,
   "id": "d7b8493d",
   "metadata": {},
   "outputs": [
    {
     "ename": "ValueError",
     "evalue": "If using all scalar values, you must pass an index",
     "output_type": "error",
     "traceback": [
      "\u001b[0;31m---------------------------------------------------------------------------\u001b[0m",
      "\u001b[0;31mValueError\u001b[0m                                Traceback (most recent call last)",
      "Cell \u001b[0;32mIn[29], line 1\u001b[0m\n\u001b[0;32m----> 1\u001b[0m r\u001b[38;5;241m=\u001b[39m\u001b[43mpd\u001b[49m\u001b[38;5;241;43m.\u001b[39;49m\u001b[43mDataFrame\u001b[49m\u001b[43m(\u001b[49m\u001b[43mda\u001b[49m\u001b[43m)\u001b[49m\n",
      "File \u001b[0;32m~/.local/lib/python3.10/site-packages/pandas/core/frame.py:709\u001b[0m, in \u001b[0;36mDataFrame.__init__\u001b[0;34m(self, data, index, columns, dtype, copy)\u001b[0m\n\u001b[1;32m    703\u001b[0m     mgr \u001b[38;5;241m=\u001b[39m \u001b[38;5;28mself\u001b[39m\u001b[38;5;241m.\u001b[39m_init_mgr(\n\u001b[1;32m    704\u001b[0m         data, axes\u001b[38;5;241m=\u001b[39m{\u001b[38;5;124m\"\u001b[39m\u001b[38;5;124mindex\u001b[39m\u001b[38;5;124m\"\u001b[39m: index, \u001b[38;5;124m\"\u001b[39m\u001b[38;5;124mcolumns\u001b[39m\u001b[38;5;124m\"\u001b[39m: columns}, dtype\u001b[38;5;241m=\u001b[39mdtype, copy\u001b[38;5;241m=\u001b[39mcopy\n\u001b[1;32m    705\u001b[0m     )\n\u001b[1;32m    707\u001b[0m \u001b[38;5;28;01melif\u001b[39;00m \u001b[38;5;28misinstance\u001b[39m(data, \u001b[38;5;28mdict\u001b[39m):\n\u001b[1;32m    708\u001b[0m     \u001b[38;5;66;03m# GH#38939 de facto copy defaults to False only in non-dict cases\u001b[39;00m\n\u001b[0;32m--> 709\u001b[0m     mgr \u001b[38;5;241m=\u001b[39m \u001b[43mdict_to_mgr\u001b[49m\u001b[43m(\u001b[49m\u001b[43mdata\u001b[49m\u001b[43m,\u001b[49m\u001b[43m \u001b[49m\u001b[43mindex\u001b[49m\u001b[43m,\u001b[49m\u001b[43m \u001b[49m\u001b[43mcolumns\u001b[49m\u001b[43m,\u001b[49m\u001b[43m \u001b[49m\u001b[43mdtype\u001b[49m\u001b[38;5;241;43m=\u001b[39;49m\u001b[43mdtype\u001b[49m\u001b[43m,\u001b[49m\u001b[43m \u001b[49m\u001b[43mcopy\u001b[49m\u001b[38;5;241;43m=\u001b[39;49m\u001b[43mcopy\u001b[49m\u001b[43m,\u001b[49m\u001b[43m \u001b[49m\u001b[43mtyp\u001b[49m\u001b[38;5;241;43m=\u001b[39;49m\u001b[43mmanager\u001b[49m\u001b[43m)\u001b[49m\n\u001b[1;32m    710\u001b[0m \u001b[38;5;28;01melif\u001b[39;00m \u001b[38;5;28misinstance\u001b[39m(data, ma\u001b[38;5;241m.\u001b[39mMaskedArray):\n\u001b[1;32m    711\u001b[0m     \u001b[38;5;28;01mfrom\u001b[39;00m \u001b[38;5;21;01mnumpy\u001b[39;00m\u001b[38;5;21;01m.\u001b[39;00m\u001b[38;5;21;01mma\u001b[39;00m \u001b[38;5;28;01mimport\u001b[39;00m mrecords\n",
      "File \u001b[0;32m~/.local/lib/python3.10/site-packages/pandas/core/internals/construction.py:481\u001b[0m, in \u001b[0;36mdict_to_mgr\u001b[0;34m(data, index, columns, dtype, typ, copy)\u001b[0m\n\u001b[1;32m    477\u001b[0m     \u001b[38;5;28;01melse\u001b[39;00m:\n\u001b[1;32m    478\u001b[0m         \u001b[38;5;66;03m# dtype check to exclude e.g. range objects, scalars\u001b[39;00m\n\u001b[1;32m    479\u001b[0m         arrays \u001b[38;5;241m=\u001b[39m [x\u001b[38;5;241m.\u001b[39mcopy() \u001b[38;5;28;01mif\u001b[39;00m \u001b[38;5;28mhasattr\u001b[39m(x, \u001b[38;5;124m\"\u001b[39m\u001b[38;5;124mdtype\u001b[39m\u001b[38;5;124m\"\u001b[39m) \u001b[38;5;28;01melse\u001b[39;00m x \u001b[38;5;28;01mfor\u001b[39;00m x \u001b[38;5;129;01min\u001b[39;00m arrays]\n\u001b[0;32m--> 481\u001b[0m \u001b[38;5;28;01mreturn\u001b[39;00m \u001b[43marrays_to_mgr\u001b[49m\u001b[43m(\u001b[49m\u001b[43marrays\u001b[49m\u001b[43m,\u001b[49m\u001b[43m \u001b[49m\u001b[43mcolumns\u001b[49m\u001b[43m,\u001b[49m\u001b[43m \u001b[49m\u001b[43mindex\u001b[49m\u001b[43m,\u001b[49m\u001b[43m \u001b[49m\u001b[43mdtype\u001b[49m\u001b[38;5;241;43m=\u001b[39;49m\u001b[43mdtype\u001b[49m\u001b[43m,\u001b[49m\u001b[43m \u001b[49m\u001b[43mtyp\u001b[49m\u001b[38;5;241;43m=\u001b[39;49m\u001b[43mtyp\u001b[49m\u001b[43m,\u001b[49m\u001b[43m \u001b[49m\u001b[43mconsolidate\u001b[49m\u001b[38;5;241;43m=\u001b[39;49m\u001b[43mcopy\u001b[49m\u001b[43m)\u001b[49m\n",
      "File \u001b[0;32m~/.local/lib/python3.10/site-packages/pandas/core/internals/construction.py:115\u001b[0m, in \u001b[0;36marrays_to_mgr\u001b[0;34m(arrays, columns, index, dtype, verify_integrity, typ, consolidate)\u001b[0m\n\u001b[1;32m    112\u001b[0m \u001b[38;5;28;01mif\u001b[39;00m verify_integrity:\n\u001b[1;32m    113\u001b[0m     \u001b[38;5;66;03m# figure out the index, if necessary\u001b[39;00m\n\u001b[1;32m    114\u001b[0m     \u001b[38;5;28;01mif\u001b[39;00m index \u001b[38;5;129;01mis\u001b[39;00m \u001b[38;5;28;01mNone\u001b[39;00m:\n\u001b[0;32m--> 115\u001b[0m         index \u001b[38;5;241m=\u001b[39m \u001b[43m_extract_index\u001b[49m\u001b[43m(\u001b[49m\u001b[43marrays\u001b[49m\u001b[43m)\u001b[49m\n\u001b[1;32m    116\u001b[0m     \u001b[38;5;28;01melse\u001b[39;00m:\n\u001b[1;32m    117\u001b[0m         index \u001b[38;5;241m=\u001b[39m ensure_index(index)\n",
      "File \u001b[0;32m~/.local/lib/python3.10/site-packages/pandas/core/internals/construction.py:645\u001b[0m, in \u001b[0;36m_extract_index\u001b[0;34m(data)\u001b[0m\n\u001b[1;32m    642\u001b[0m         \u001b[38;5;28;01mraise\u001b[39;00m \u001b[38;5;167;01mValueError\u001b[39;00m(\u001b[38;5;124m\"\u001b[39m\u001b[38;5;124mPer-column arrays must each be 1-dimensional\u001b[39m\u001b[38;5;124m\"\u001b[39m)\n\u001b[1;32m    644\u001b[0m \u001b[38;5;28;01mif\u001b[39;00m \u001b[38;5;129;01mnot\u001b[39;00m indexes \u001b[38;5;129;01mand\u001b[39;00m \u001b[38;5;129;01mnot\u001b[39;00m raw_lengths:\n\u001b[0;32m--> 645\u001b[0m     \u001b[38;5;28;01mraise\u001b[39;00m \u001b[38;5;167;01mValueError\u001b[39;00m(\u001b[38;5;124m\"\u001b[39m\u001b[38;5;124mIf using all scalar values, you must pass an index\u001b[39m\u001b[38;5;124m\"\u001b[39m)\n\u001b[1;32m    647\u001b[0m \u001b[38;5;28;01mif\u001b[39;00m have_series:\n\u001b[1;32m    648\u001b[0m     index \u001b[38;5;241m=\u001b[39m union_indexes(indexes)\n",
      "\u001b[0;31mValueError\u001b[0m: If using all scalar values, you must pass an index"
     ]
    }
   ],
   "source": [
    "r=pd.DataFrame(da)"
   ]
  },
  {
   "cell_type": "code",
   "execution_count": 30,
   "id": "5cfd98ea",
   "metadata": {},
   "outputs": [
    {
     "ename": "NameError",
     "evalue": "name 'r' is not defined",
     "output_type": "error",
     "traceback": [
      "\u001b[0;31m---------------------------------------------------------------------------\u001b[0m",
      "\u001b[0;31mNameError\u001b[0m                                 Traceback (most recent call last)",
      "Cell \u001b[0;32mIn[30], line 1\u001b[0m\n\u001b[0;32m----> 1\u001b[0m \u001b[38;5;28mprint\u001b[39m(\u001b[43mr\u001b[49m)\n",
      "\u001b[0;31mNameError\u001b[0m: name 'r' is not defined"
     ]
    }
   ],
   "source": [
    "print(r)"
   ]
  },
  {
   "cell_type": "code",
   "execution_count": 155,
   "id": "d1afef64",
   "metadata": {},
   "outputs": [
    {
     "name": "stderr",
     "output_type": "stream",
     "text": [
      "/tmp/ipykernel_85037/2410784991.py:1: UserWarning: pandas only supports SQLAlchemy connectable (engine/connection) or database string URI or sqlite3 DBAPI2 connection. Other DBAPI2 objects are not tested. Please consider using SQLAlchemy.\n",
      "  data=pd.read_sql('''select ColumnName,ColumnValue from Rule_LightWeightlist_new''',db)\n"
     ]
    }
   ],
   "source": [
    "data=pd.read_sql('''select ColumnName,ColumnValue from Rule_LightWeightlist_new''',db)"
   ]
  },
  {
   "cell_type": "code",
   "execution_count": 156,
   "id": "0221c4c7",
   "metadata": {},
   "outputs": [
    {
     "data": {
      "text/html": [
       "<div>\n",
       "<style scoped>\n",
       "    .dataframe tbody tr th:only-of-type {\n",
       "        vertical-align: middle;\n",
       "    }\n",
       "\n",
       "    .dataframe tbody tr th {\n",
       "        vertical-align: top;\n",
       "    }\n",
       "\n",
       "    .dataframe thead th {\n",
       "        text-align: right;\n",
       "    }\n",
       "</style>\n",
       "<table border=\"1\" class=\"dataframe\">\n",
       "  <thead>\n",
       "    <tr style=\"text-align: right;\">\n",
       "      <th></th>\n",
       "      <th>ColumnName</th>\n",
       "      <th>ColumnValue</th>\n",
       "    </tr>\n",
       "  </thead>\n",
       "  <tbody>\n",
       "    <tr>\n",
       "      <th>0</th>\n",
       "      <td>IP</td>\n",
       "      <td>['192.168.23.179', '192.168.23.180', '192.168....</td>\n",
       "    </tr>\n",
       "    <tr>\n",
       "      <th>1</th>\n",
       "      <td>name</td>\n",
       "      <td>['tes', 'user', 'atuks']</td>\n",
       "    </tr>\n",
       "  </tbody>\n",
       "</table>\n",
       "</div>"
      ],
      "text/plain": [
       "  ColumnName                                        ColumnValue\n",
       "0         IP  ['192.168.23.179', '192.168.23.180', '192.168....\n",
       "1       name                           ['tes', 'user', 'atuks']"
      ]
     },
     "execution_count": 156,
     "metadata": {},
     "output_type": "execute_result"
    }
   ],
   "source": [
    "data"
   ]
  },
  {
   "cell_type": "code",
   "execution_count": 158,
   "id": "6d73af72",
   "metadata": {},
   "outputs": [
    {
     "name": "stderr",
     "output_type": "stream",
     "text": [
      "/tmp/ipykernel_85037/1155269426.py:1: UserWarning: pandas only supports SQLAlchemy connectable (engine/connection) or database string URI or sqlite3 DBAPI2 connection. Other DBAPI2 objects are not tested. Please consider using SQLAlchemy.\n",
      "  data=pd.read_sql('''select ColumnName,ColumnValue from Rule_LightWeightlist_new''',db)\n"
     ]
    },
    {
     "data": {
      "text/html": [
       "<div>\n",
       "<style scoped>\n",
       "    .dataframe tbody tr th:only-of-type {\n",
       "        vertical-align: middle;\n",
       "    }\n",
       "\n",
       "    .dataframe tbody tr th {\n",
       "        vertical-align: top;\n",
       "    }\n",
       "\n",
       "    .dataframe thead th {\n",
       "        text-align: right;\n",
       "    }\n",
       "</style>\n",
       "<table border=\"1\" class=\"dataframe\">\n",
       "  <thead>\n",
       "    <tr style=\"text-align: right;\">\n",
       "      <th></th>\n",
       "      <th>IP</th>\n",
       "    </tr>\n",
       "  </thead>\n",
       "  <tbody>\n",
       "    <tr>\n",
       "      <th>0</th>\n",
       "      <td>['192.168.23.179'</td>\n",
       "    </tr>\n",
       "    <tr>\n",
       "      <th>1</th>\n",
       "      <td>'192.168.23.180'</td>\n",
       "    </tr>\n",
       "    <tr>\n",
       "      <th>2</th>\n",
       "      <td>'192.168.23.206'</td>\n",
       "    </tr>\n",
       "    <tr>\n",
       "      <th>3</th>\n",
       "      <td>'192.168.23.215'</td>\n",
       "    </tr>\n",
       "    <tr>\n",
       "      <th>4</th>\n",
       "      <td>'192.168.23.227'</td>\n",
       "    </tr>\n",
       "    <tr>\n",
       "      <th>5</th>\n",
       "      <td>'192.168.9.57'</td>\n",
       "    </tr>\n",
       "    <tr>\n",
       "      <th>6</th>\n",
       "      <td>'192.168.23.222'</td>\n",
       "    </tr>\n",
       "    <tr>\n",
       "      <th>7</th>\n",
       "      <td>'192.168.23.229'</td>\n",
       "    </tr>\n",
       "    <tr>\n",
       "      <th>8</th>\n",
       "      <td>'192.168.23.132'</td>\n",
       "    </tr>\n",
       "    <tr>\n",
       "      <th>9</th>\n",
       "      <td>'192.168.23.160']</td>\n",
       "    </tr>\n",
       "  </tbody>\n",
       "</table>\n",
       "</div>"
      ],
      "text/plain": [
       "                   IP\n",
       "0   ['192.168.23.179'\n",
       "1    '192.168.23.180'\n",
       "2    '192.168.23.206'\n",
       "3    '192.168.23.215'\n",
       "4    '192.168.23.227'\n",
       "5      '192.168.9.57'\n",
       "6    '192.168.23.222'\n",
       "7    '192.168.23.229'\n",
       "8    '192.168.23.132'\n",
       "9   '192.168.23.160']"
      ]
     },
     "execution_count": 158,
     "metadata": {},
     "output_type": "execute_result"
    }
   ],
   "source": [
    "data=pd.read_sql('''select ColumnName,ColumnValue from Rule_LightWeightlist_new''',db)\n",
    "df=data.iloc[0,1]\n",
    "gf=df\n",
    "r=df.split(',')\n",
    "s=pd.DataFrame({'IP':r})\n",
    "s"
   ]
  },
  {
   "cell_type": "code",
   "execution_count": 123,
   "id": "ff2dfbe4",
   "metadata": {},
   "outputs": [
    {
     "name": "stdout",
     "output_type": "stream",
     "text": [
      "['192.168.23.179', '192.168.23.180', '192.168.23.206', '192.168.23.215', '192.168.23.227', '192.168.9.57', '192.168.23.222', '192.168.23.229', '192.168.23.132', '192.168.23.160']\n"
     ]
    }
   ],
   "source": [
    "print(df)"
   ]
  },
  {
   "cell_type": "code",
   "execution_count": 124,
   "id": "069df494",
   "metadata": {},
   "outputs": [
    {
     "ename": "AttributeError",
     "evalue": "'DataFrame' object has no attribute 'split'",
     "output_type": "error",
     "traceback": [
      "\u001b[0;31m---------------------------------------------------------------------------\u001b[0m",
      "\u001b[0;31mAttributeError\u001b[0m                            Traceback (most recent call last)",
      "\u001b[0;32m/tmp/ipykernel_85037/3910270938.py\u001b[0m in \u001b[0;36m?\u001b[0;34m()\u001b[0m\n\u001b[0;32m----> 1\u001b[0;31m \u001b[0mdata\u001b[0m\u001b[0;34m.\u001b[0m\u001b[0msplit\u001b[0m\u001b[0;34m(\u001b[0m\u001b[0;34m)\u001b[0m\u001b[0;34m\u001b[0m\u001b[0;34m\u001b[0m\u001b[0m\n\u001b[0m",
      "\u001b[0;32m~/.local/lib/python3.10/site-packages/pandas/core/generic.py\u001b[0m in \u001b[0;36m?\u001b[0;34m(self, name)\u001b[0m\n\u001b[1;32m   5985\u001b[0m             \u001b[0;32mand\u001b[0m \u001b[0mname\u001b[0m \u001b[0;32mnot\u001b[0m \u001b[0;32min\u001b[0m \u001b[0mself\u001b[0m\u001b[0;34m.\u001b[0m\u001b[0m_accessors\u001b[0m\u001b[0;34m\u001b[0m\u001b[0;34m\u001b[0m\u001b[0m\n\u001b[1;32m   5986\u001b[0m             \u001b[0;32mand\u001b[0m \u001b[0mself\u001b[0m\u001b[0;34m.\u001b[0m\u001b[0m_info_axis\u001b[0m\u001b[0;34m.\u001b[0m\u001b[0m_can_hold_identifiers_and_holds_name\u001b[0m\u001b[0;34m(\u001b[0m\u001b[0mname\u001b[0m\u001b[0;34m)\u001b[0m\u001b[0;34m\u001b[0m\u001b[0;34m\u001b[0m\u001b[0m\n\u001b[1;32m   5987\u001b[0m         ):\n\u001b[1;32m   5988\u001b[0m             \u001b[0;32mreturn\u001b[0m \u001b[0mself\u001b[0m\u001b[0;34m[\u001b[0m\u001b[0mname\u001b[0m\u001b[0;34m]\u001b[0m\u001b[0;34m\u001b[0m\u001b[0;34m\u001b[0m\u001b[0m\n\u001b[0;32m-> 5989\u001b[0;31m         \u001b[0;32mreturn\u001b[0m \u001b[0mobject\u001b[0m\u001b[0;34m.\u001b[0m\u001b[0m__getattribute__\u001b[0m\u001b[0;34m(\u001b[0m\u001b[0mself\u001b[0m\u001b[0;34m,\u001b[0m \u001b[0mname\u001b[0m\u001b[0;34m)\u001b[0m\u001b[0;34m\u001b[0m\u001b[0;34m\u001b[0m\u001b[0m\n\u001b[0m",
      "\u001b[0;31mAttributeError\u001b[0m: 'DataFrame' object has no attribute 'split'"
     ]
    }
   ],
   "source": [
    "data.split()"
   ]
  },
  {
   "cell_type": "code",
   "execution_count": 125,
   "id": "6fd5e33c",
   "metadata": {},
   "outputs": [
    {
     "data": {
      "text/plain": [
       "pandas.core.frame.DataFrame"
      ]
     },
     "execution_count": 125,
     "metadata": {},
     "output_type": "execute_result"
    }
   ],
   "source": [
    "type(data)"
   ]
  },
  {
   "cell_type": "code",
   "execution_count": 126,
   "id": "1d8db709",
   "metadata": {},
   "outputs": [],
   "source": [
    "data=str(data)"
   ]
  },
  {
   "cell_type": "code",
   "execution_count": 127,
   "id": "fd8ae43f",
   "metadata": {},
   "outputs": [],
   "source": [
    "data=str(data)\n",
    "r=data.split(\",\")"
   ]
  },
  {
   "cell_type": "code",
   "execution_count": 128,
   "id": "7509d559",
   "metadata": {},
   "outputs": [
    {
     "name": "stdout",
     "output_type": "stream",
     "text": [
      "[\"  ColumnName                                        ColumnValue\\n0         IP  ['192.168.23.179'\", \" '192.168.23.180'\", \" '192.168....\\n1       name                           ['tes'\", \" 'user'\", \" 'atuks']\"]\n"
     ]
    }
   ],
   "source": [
    "print(r)"
   ]
  },
  {
   "cell_type": "code",
   "execution_count": 129,
   "id": "f1b4bf78",
   "metadata": {},
   "outputs": [
    {
     "ename": "AttributeError",
     "evalue": "'str' object has no attribute 'iloc'",
     "output_type": "error",
     "traceback": [
      "\u001b[0;31m---------------------------------------------------------------------------\u001b[0m",
      "\u001b[0;31mAttributeError\u001b[0m                            Traceback (most recent call last)",
      "Cell \u001b[0;32mIn[129], line 1\u001b[0m\n\u001b[0;32m----> 1\u001b[0m df\u001b[38;5;241m=\u001b[39m\u001b[43mdata\u001b[49m\u001b[38;5;241;43m.\u001b[39;49m\u001b[43miloc\u001b[49m[\u001b[38;5;241m0\u001b[39m,\u001b[38;5;241m1\u001b[39m]\n",
      "\u001b[0;31mAttributeError\u001b[0m: 'str' object has no attribute 'iloc'"
     ]
    }
   ],
   "source": [
    "df=data.iloc[0,1]"
   ]
  },
  {
   "cell_type": "code",
   "execution_count": 130,
   "id": "8bf224cf",
   "metadata": {},
   "outputs": [
    {
     "data": {
      "text/plain": [
       "\"['192.168.23.179', '192.168.23.180', '192.168.23.206', '192.168.23.215', '192.168.23.227', '192.168.9.57', '192.168.23.222', '192.168.23.229', '192.168.23.132', '192.168.23.160']\""
      ]
     },
     "execution_count": 130,
     "metadata": {},
     "output_type": "execute_result"
    }
   ],
   "source": [
    "df"
   ]
  },
  {
   "cell_type": "code",
   "execution_count": 131,
   "id": "ec3a9bb3",
   "metadata": {},
   "outputs": [
    {
     "data": {
      "text/plain": [
       "str"
      ]
     },
     "execution_count": 131,
     "metadata": {},
     "output_type": "execute_result"
    }
   ],
   "source": [
    "type(df)"
   ]
  },
  {
   "cell_type": "code",
   "execution_count": 132,
   "id": "7d1a642f",
   "metadata": {},
   "outputs": [
    {
     "name": "stdout",
     "output_type": "stream",
     "text": [
      "['192.168.23.179', '192.168.23.180', '192.168.23.206', '192.168.23.215', '192.168.23.227', '192.168.9.57', '192.168.23.222', '192.168.23.229', '192.168.23.132', '192.168.23.160']\n"
     ]
    }
   ],
   "source": [
    "print(df)"
   ]
  },
  {
   "cell_type": "code",
   "execution_count": 133,
   "id": "a10d74b4",
   "metadata": {},
   "outputs": [],
   "source": [
    "gf=df"
   ]
  },
  {
   "cell_type": "code",
   "execution_count": 154,
   "id": "73589e1b",
   "metadata": {},
   "outputs": [
    {
     "data": {
      "text/html": [
       "<div>\n",
       "<style scoped>\n",
       "    .dataframe tbody tr th:only-of-type {\n",
       "        vertical-align: middle;\n",
       "    }\n",
       "\n",
       "    .dataframe tbody tr th {\n",
       "        vertical-align: top;\n",
       "    }\n",
       "\n",
       "    .dataframe thead th {\n",
       "        text-align: right;\n",
       "    }\n",
       "</style>\n",
       "<table border=\"1\" class=\"dataframe\">\n",
       "  <thead>\n",
       "    <tr style=\"text-align: right;\">\n",
       "      <th></th>\n",
       "      <th>IP</th>\n",
       "    </tr>\n",
       "  </thead>\n",
       "  <tbody>\n",
       "    <tr>\n",
       "      <th>0</th>\n",
       "      <td>ID  Count  Rule_ListId          Insert_time...</td>\n",
       "    </tr>\n",
       "    <tr>\n",
       "      <th>1</th>\n",
       "      <td>'192.168.23.180'</td>\n",
       "    </tr>\n",
       "    <tr>\n",
       "      <th>2</th>\n",
       "      <td>'192.168....  \\n1       name                 ...</td>\n",
       "    </tr>\n",
       "    <tr>\n",
       "      <th>3</th>\n",
       "      <td>'user'</td>\n",
       "    </tr>\n",
       "    <tr>\n",
       "      <th>4</th>\n",
       "      <td>'atuks']</td>\n",
       "    </tr>\n",
       "  </tbody>\n",
       "</table>\n",
       "</div>"
      ],
      "text/plain": [
       "                                                  IP\n",
       "0     ID  Count  Rule_ListId          Insert_time...\n",
       "1                                   '192.168.23.180'\n",
       "2   '192.168....  \\n1       name                 ...\n",
       "3                                             'user'\n",
       "4                                         'atuks']  "
      ]
     },
     "execution_count": 154,
     "metadata": {},
     "output_type": "execute_result"
    }
   ],
   "source": [
    "gf=df\n",
    "data=str(data)\n",
    "r=data.split(\",\")\n",
    "# r=df.split(',')\n",
    "s=pd.DataFrame({'IP':r})\n",
    "s"
   ]
  },
  {
   "cell_type": "code",
   "execution_count": 141,
   "id": "cc372f5e",
   "metadata": {},
   "outputs": [
    {
     "data": {
      "text/plain": [
       "list"
      ]
     },
     "execution_count": 141,
     "metadata": {},
     "output_type": "execute_result"
    }
   ],
   "source": [
    "type(r)"
   ]
  },
  {
   "cell_type": "code",
   "execution_count": 142,
   "id": "66795ea9",
   "metadata": {},
   "outputs": [
    {
     "data": {
      "text/plain": [
       "\" '192.168.23.180'\""
      ]
     },
     "execution_count": 142,
     "metadata": {},
     "output_type": "execute_result"
    }
   ],
   "source": [
    "r[1]"
   ]
  },
  {
   "cell_type": "code",
   "execution_count": 143,
   "id": "a8da2f2e",
   "metadata": {},
   "outputs": [
    {
     "data": {
      "text/plain": [
       "\" '192.168.23.215'\""
      ]
     },
     "execution_count": 143,
     "metadata": {},
     "output_type": "execute_result"
    }
   ],
   "source": [
    "r[3]"
   ]
  },
  {
   "cell_type": "code",
   "execution_count": 144,
   "id": "861b4d87",
   "metadata": {},
   "outputs": [],
   "source": [
    "s=pd.DataFrame({'IP':r})"
   ]
  },
  {
   "cell_type": "code",
   "execution_count": 145,
   "id": "3575d511",
   "metadata": {},
   "outputs": [
    {
     "data": {
      "text/html": [
       "<div>\n",
       "<style scoped>\n",
       "    .dataframe tbody tr th:only-of-type {\n",
       "        vertical-align: middle;\n",
       "    }\n",
       "\n",
       "    .dataframe tbody tr th {\n",
       "        vertical-align: top;\n",
       "    }\n",
       "\n",
       "    .dataframe thead th {\n",
       "        text-align: right;\n",
       "    }\n",
       "</style>\n",
       "<table border=\"1\" class=\"dataframe\">\n",
       "  <thead>\n",
       "    <tr style=\"text-align: right;\">\n",
       "      <th></th>\n",
       "      <th>IP</th>\n",
       "    </tr>\n",
       "  </thead>\n",
       "  <tbody>\n",
       "    <tr>\n",
       "      <th>0</th>\n",
       "      <td>['192.168.23.179'</td>\n",
       "    </tr>\n",
       "    <tr>\n",
       "      <th>1</th>\n",
       "      <td>'192.168.23.180'</td>\n",
       "    </tr>\n",
       "    <tr>\n",
       "      <th>2</th>\n",
       "      <td>'192.168.23.206'</td>\n",
       "    </tr>\n",
       "    <tr>\n",
       "      <th>3</th>\n",
       "      <td>'192.168.23.215'</td>\n",
       "    </tr>\n",
       "    <tr>\n",
       "      <th>4</th>\n",
       "      <td>'192.168.23.227'</td>\n",
       "    </tr>\n",
       "    <tr>\n",
       "      <th>5</th>\n",
       "      <td>'192.168.9.57'</td>\n",
       "    </tr>\n",
       "    <tr>\n",
       "      <th>6</th>\n",
       "      <td>'192.168.23.222'</td>\n",
       "    </tr>\n",
       "    <tr>\n",
       "      <th>7</th>\n",
       "      <td>'192.168.23.229'</td>\n",
       "    </tr>\n",
       "    <tr>\n",
       "      <th>8</th>\n",
       "      <td>'192.168.23.132'</td>\n",
       "    </tr>\n",
       "    <tr>\n",
       "      <th>9</th>\n",
       "      <td>'192.168.23.160']</td>\n",
       "    </tr>\n",
       "  </tbody>\n",
       "</table>\n",
       "</div>"
      ],
      "text/plain": [
       "                   IP\n",
       "0   ['192.168.23.179'\n",
       "1    '192.168.23.180'\n",
       "2    '192.168.23.206'\n",
       "3    '192.168.23.215'\n",
       "4    '192.168.23.227'\n",
       "5      '192.168.9.57'\n",
       "6    '192.168.23.222'\n",
       "7    '192.168.23.229'\n",
       "8    '192.168.23.132'\n",
       "9   '192.168.23.160']"
      ]
     },
     "execution_count": 145,
     "metadata": {},
     "output_type": "execute_result"
    }
   ],
   "source": [
    "s"
   ]
  },
  {
   "cell_type": "code",
   "execution_count": 151,
   "id": "33869d0e",
   "metadata": {},
   "outputs": [
    {
     "name": "stderr",
     "output_type": "stream",
     "text": [
      "/tmp/ipykernel_85037/1018432746.py:2: UserWarning: pandas only supports SQLAlchemy connectable (engine/connection) or database string URI or sqlite3 DBAPI2 connection. Other DBAPI2 objects are not tested. Please consider using SQLAlchemy.\n",
      "  data=pd.read_sql('''select * from Rule_LightWeightlist_new''',db)\n"
     ]
    },
    {
     "ename": "AttributeError",
     "evalue": "'numpy.int64' object has no attribute 'split'",
     "output_type": "error",
     "traceback": [
      "\u001b[0;31m---------------------------------------------------------------------------\u001b[0m",
      "\u001b[0;31mAttributeError\u001b[0m                            Traceback (most recent call last)",
      "Cell \u001b[0;32mIn[151], line 5\u001b[0m\n\u001b[1;32m      3\u001b[0m df\u001b[38;5;241m=\u001b[39mdata\u001b[38;5;241m.\u001b[39miloc[\u001b[38;5;241m0\u001b[39m,\u001b[38;5;241m1\u001b[39m]\n\u001b[1;32m      4\u001b[0m gf\u001b[38;5;241m=\u001b[39mdf\n\u001b[0;32m----> 5\u001b[0m r\u001b[38;5;241m=\u001b[39m\u001b[43mdf\u001b[49m\u001b[38;5;241;43m.\u001b[39;49m\u001b[43msplit\u001b[49m(\u001b[38;5;124m'\u001b[39m\u001b[38;5;124m,\u001b[39m\u001b[38;5;124m'\u001b[39m)\n\u001b[1;32m      6\u001b[0m s\u001b[38;5;241m=\u001b[39mpd\u001b[38;5;241m.\u001b[39mDataFrame({\u001b[38;5;124m'\u001b[39m\u001b[38;5;124mIP\u001b[39m\u001b[38;5;124m'\u001b[39m:r})\n\u001b[1;32m      7\u001b[0m s\n",
      "\u001b[0;31mAttributeError\u001b[0m: 'numpy.int64' object has no attribute 'split'"
     ]
    }
   ],
   "source": [
    "db=pymysql.connect(host='192.168.21.95', user='test', password='Sattrix@123', database='Trainings')\n",
    "data=pd.read_sql('''select * from Rule_LightWeightlist_new''',db)\n",
    "print(data['ColumnValue'])\n",
    "df=data.iloc[0,1]\n",
    "r=str(df).split(',')\n"
   ]
  },
  {
   "cell_type": "code",
   "execution_count": 107,
   "id": "4ee11074",
   "metadata": {},
   "outputs": [
    {
     "data": {
      "text/plain": [
       "numpy.int64"
      ]
     },
     "execution_count": 107,
     "metadata": {},
     "output_type": "execute_result"
    }
   ],
   "source": [
    "type(df)"
   ]
  },
  {
   "cell_type": "code",
   "execution_count": 108,
   "id": "2f5080bd",
   "metadata": {},
   "outputs": [],
   "source": [
    "f=str(df)"
   ]
  },
  {
   "cell_type": "code",
   "execution_count": 109,
   "id": "65073bc7",
   "metadata": {},
   "outputs": [
    {
     "data": {
      "text/plain": [
       "'1'"
      ]
     },
     "execution_count": 109,
     "metadata": {},
     "output_type": "execute_result"
    }
   ],
   "source": [
    "f"
   ]
  },
  {
   "cell_type": "code",
   "execution_count": 238,
   "id": "77aacd28",
   "metadata": {},
   "outputs": [
    {
     "name": "stdout",
     "output_type": "stream",
     "text": [
      "                  IP      name\n",
      "0   '192.168.23.179'     'tes'\n",
      "1   '192.168.23.180'    'user'\n",
      "2   '192.168.23.206'   'atuks'\n",
      "3   '192.168.23.215'       NaN\n",
      "4   '192.168.23.227'       NaN\n",
      "5     '192.168.9.57'       NaN\n",
      "6   '192.168.23.222'       NaN\n",
      "7   '192.168.23.229'       NaN\n",
      "8   '192.168.23.132'       NaN\n",
      "9   '192.168.23.160'       NaN\n"
     ]
    },
    {
     "name": "stderr",
     "output_type": "stream",
     "text": [
      "/tmp/ipykernel_85037/3919802552.py:2: UserWarning: pandas only supports SQLAlchemy connectable (engine/connection) or database string URI or sqlite3 DBAPI2 connection. Other DBAPI2 objects are not tested. Please consider using SQLAlchemy.\n",
      "  data=pd.read_sql('''select * from Rule_LightWeightlist_new''',db)\n",
      "/tmp/ipykernel_85037/3919802552.py:4: UserWarning: pandas only supports SQLAlchemy connectable (engine/connection) or database string URI or sqlite3 DBAPI2 connection. Other DBAPI2 objects are not tested. Please consider using SQLAlchemy.\n",
      "  data=pd.read_sql('''select ColumnName,ColumnValue,Insert_time , Modified_time from Rule_LightWeightlist_new''',db)\n"
     ]
    }
   ],
   "source": [
    "db=pymysql.connect(host='192.168.21.95', user='test', password='Sattrix@123', database='Trainings')\n",
    "data=pd.read_sql('''select * from Rule_LightWeightlist_new''',db)\n",
    "# print(data['ColumnValue'])\n",
    "data=pd.read_sql('''select ColumnName,ColumnValue,Insert_time , Modified_time from Rule_LightWeightlist_new''',db)\n",
    "df=data.iloc[0,1]\n",
    "v=df.strip('[,]')\n",
    "l=data.iloc[1,1]\n",
    "m=l.strip('[,]')\n",
    "g=m.split(',')\n",
    "gf=v\n",
    "r=v.split(',')\n",
    "s=pd.DataFrame({'IP':r})\n",
    "k=pd.DataFrame({'name':g})\n",
    "ab=data.iloc[0,2]\n",
    "\n",
    "fd=pd.concat([s,k],axis=1)\n",
    "print(fd)"
   ]
  },
  {
   "cell_type": "code",
   "execution_count": 167,
   "id": "e046249d",
   "metadata": {},
   "outputs": [],
   "source": [
    "l=data.iloc[1,1]"
   ]
  },
  {
   "cell_type": "code",
   "execution_count": 169,
   "id": "4fa13929",
   "metadata": {},
   "outputs": [
    {
     "data": {
      "text/plain": [
       "\"['tes', 'user', 'atuks']\""
      ]
     },
     "execution_count": 169,
     "metadata": {},
     "output_type": "execute_result"
    }
   ],
   "source": [
    "l"
   ]
  },
  {
   "cell_type": "code",
   "execution_count": 184,
   "id": "bd4946f6",
   "metadata": {},
   "outputs": [],
   "source": [
    "g=l.split(',')"
   ]
  },
  {
   "cell_type": "code",
   "execution_count": 185,
   "id": "8334b283",
   "metadata": {},
   "outputs": [
    {
     "name": "stdout",
     "output_type": "stream",
     "text": [
      "['tes'\n",
      " 'user'\n",
      " 'atuks']\n"
     ]
    }
   ],
   "source": [
    "for i in g:\n",
    "    print(i)"
   ]
  },
  {
   "cell_type": "code",
   "execution_count": 186,
   "id": "cb3000bf",
   "metadata": {},
   "outputs": [
    {
     "data": {
      "text/html": [
       "<div>\n",
       "<style scoped>\n",
       "    .dataframe tbody tr th:only-of-type {\n",
       "        vertical-align: middle;\n",
       "    }\n",
       "\n",
       "    .dataframe tbody tr th {\n",
       "        vertical-align: top;\n",
       "    }\n",
       "\n",
       "    .dataframe thead th {\n",
       "        text-align: right;\n",
       "    }\n",
       "</style>\n",
       "<table border=\"1\" class=\"dataframe\">\n",
       "  <thead>\n",
       "    <tr style=\"text-align: right;\">\n",
       "      <th></th>\n",
       "      <th>0</th>\n",
       "    </tr>\n",
       "  </thead>\n",
       "  <tbody>\n",
       "    <tr>\n",
       "      <th>0</th>\n",
       "      <td>['tes'</td>\n",
       "    </tr>\n",
       "    <tr>\n",
       "      <th>1</th>\n",
       "      <td>'user'</td>\n",
       "    </tr>\n",
       "    <tr>\n",
       "      <th>2</th>\n",
       "      <td>'atuks']</td>\n",
       "    </tr>\n",
       "  </tbody>\n",
       "</table>\n",
       "</div>"
      ],
      "text/plain": [
       "           0\n",
       "0     ['tes'\n",
       "1     'user'\n",
       "2   'atuks']"
      ]
     },
     "execution_count": 186,
     "metadata": {},
     "output_type": "execute_result"
    }
   ],
   "source": [
    "pd.DataFrame(g)"
   ]
  },
  {
   "cell_type": "code",
   "execution_count": 200,
   "id": "2134f557",
   "metadata": {},
   "outputs": [
    {
     "data": {
      "text/plain": [
       "\"'tes', 'user', 'atuks'\""
      ]
     },
     "execution_count": 200,
     "metadata": {},
     "output_type": "execute_result"
    }
   ],
   "source": [
    "l.strip('[,]')"
   ]
  },
  {
   "cell_type": "code",
   "execution_count": 191,
   "id": "f4a3f537",
   "metadata": {},
   "outputs": [
    {
     "data": {
      "text/html": [
       "<div>\n",
       "<style scoped>\n",
       "    .dataframe tbody tr th:only-of-type {\n",
       "        vertical-align: middle;\n",
       "    }\n",
       "\n",
       "    .dataframe tbody tr th {\n",
       "        vertical-align: top;\n",
       "    }\n",
       "\n",
       "    .dataframe thead th {\n",
       "        text-align: right;\n",
       "    }\n",
       "</style>\n",
       "<table border=\"1\" class=\"dataframe\">\n",
       "  <thead>\n",
       "    <tr style=\"text-align: right;\">\n",
       "      <th></th>\n",
       "      <th>name</th>\n",
       "    </tr>\n",
       "  </thead>\n",
       "  <tbody>\n",
       "    <tr>\n",
       "      <th>0</th>\n",
       "      <td>['tes'</td>\n",
       "    </tr>\n",
       "    <tr>\n",
       "      <th>1</th>\n",
       "      <td>'user'</td>\n",
       "    </tr>\n",
       "    <tr>\n",
       "      <th>2</th>\n",
       "      <td>'atuks']</td>\n",
       "    </tr>\n",
       "  </tbody>\n",
       "</table>\n",
       "</div>"
      ],
      "text/plain": [
       "        name\n",
       "0     ['tes'\n",
       "1     'user'\n",
       "2   'atuks']"
      ]
     },
     "execution_count": 191,
     "metadata": {},
     "output_type": "execute_result"
    }
   ],
   "source": [
    "k"
   ]
  },
  {
   "cell_type": "code",
   "execution_count": 212,
   "id": "62448a76",
   "metadata": {},
   "outputs": [
    {
     "data": {
      "text/html": [
       "<div>\n",
       "<style scoped>\n",
       "    .dataframe tbody tr th:only-of-type {\n",
       "        vertical-align: middle;\n",
       "    }\n",
       "\n",
       "    .dataframe tbody tr th {\n",
       "        vertical-align: top;\n",
       "    }\n",
       "\n",
       "    .dataframe thead th {\n",
       "        text-align: right;\n",
       "    }\n",
       "</style>\n",
       "<table border=\"1\" class=\"dataframe\">\n",
       "  <thead>\n",
       "    <tr style=\"text-align: right;\">\n",
       "      <th></th>\n",
       "      <th>IP</th>\n",
       "      <th>name</th>\n",
       "    </tr>\n",
       "  </thead>\n",
       "  <tbody>\n",
       "    <tr>\n",
       "      <th>0</th>\n",
       "      <td>'192.168.23.179'</td>\n",
       "      <td>'tes'</td>\n",
       "    </tr>\n",
       "    <tr>\n",
       "      <th>1</th>\n",
       "      <td>'192.168.23.180'</td>\n",
       "      <td>'user'</td>\n",
       "    </tr>\n",
       "    <tr>\n",
       "      <th>2</th>\n",
       "      <td>'192.168.23.206'</td>\n",
       "      <td>'atuks'</td>\n",
       "    </tr>\n",
       "    <tr>\n",
       "      <th>3</th>\n",
       "      <td>'192.168.23.215'</td>\n",
       "      <td>NaN</td>\n",
       "    </tr>\n",
       "    <tr>\n",
       "      <th>4</th>\n",
       "      <td>'192.168.23.227'</td>\n",
       "      <td>NaN</td>\n",
       "    </tr>\n",
       "    <tr>\n",
       "      <th>5</th>\n",
       "      <td>'192.168.9.57'</td>\n",
       "      <td>NaN</td>\n",
       "    </tr>\n",
       "    <tr>\n",
       "      <th>6</th>\n",
       "      <td>'192.168.23.222'</td>\n",
       "      <td>NaN</td>\n",
       "    </tr>\n",
       "    <tr>\n",
       "      <th>7</th>\n",
       "      <td>'192.168.23.229'</td>\n",
       "      <td>NaN</td>\n",
       "    </tr>\n",
       "    <tr>\n",
       "      <th>8</th>\n",
       "      <td>'192.168.23.132'</td>\n",
       "      <td>NaN</td>\n",
       "    </tr>\n",
       "    <tr>\n",
       "      <th>9</th>\n",
       "      <td>'192.168.23.160'</td>\n",
       "      <td>NaN</td>\n",
       "    </tr>\n",
       "  </tbody>\n",
       "</table>\n",
       "</div>"
      ],
      "text/plain": [
       "                  IP      name\n",
       "0   '192.168.23.179'     'tes'\n",
       "1   '192.168.23.180'    'user'\n",
       "2   '192.168.23.206'   'atuks'\n",
       "3   '192.168.23.215'       NaN\n",
       "4   '192.168.23.227'       NaN\n",
       "5     '192.168.9.57'       NaN\n",
       "6   '192.168.23.222'       NaN\n",
       "7   '192.168.23.229'       NaN\n",
       "8   '192.168.23.132'       NaN\n",
       "9   '192.168.23.160'       NaN"
      ]
     },
     "execution_count": 212,
     "metadata": {},
     "output_type": "execute_result"
    }
   ],
   "source": [
    "pd.concat([s,k],axis=1)"
   ]
  },
  {
   "cell_type": "code",
   "execution_count": 215,
   "id": "a8a3b744",
   "metadata": {},
   "outputs": [],
   "source": [
    "kl=r[0].replace(\"'\",\" \")"
   ]
  },
  {
   "cell_type": "code",
   "execution_count": 214,
   "id": "aa76ccab",
   "metadata": {},
   "outputs": [
    {
     "ename": "ValueError",
     "evalue": "could not convert string to float: \"'192.168.23.179'\"",
     "output_type": "error",
     "traceback": [
      "\u001b[0;31m---------------------------------------------------------------------------\u001b[0m",
      "\u001b[0;31mValueError\u001b[0m                                Traceback (most recent call last)",
      "Cell \u001b[0;32mIn[214], line 2\u001b[0m\n\u001b[1;32m      1\u001b[0m \u001b[38;5;28;01mfor\u001b[39;00m i \u001b[38;5;129;01min\u001b[39;00m r:\n\u001b[0;32m----> 2\u001b[0m     \u001b[38;5;28mprint\u001b[39m(\u001b[38;5;28;43mfloat\u001b[39;49m\u001b[43m(\u001b[49m\u001b[43mi\u001b[49m\u001b[43m)\u001b[49m)\n",
      "\u001b[0;31mValueError\u001b[0m: could not convert string to float: \"'192.168.23.179'\""
     ]
    }
   ],
   "source": [
    "for i in r:\n",
    "    print(float(i))"
   ]
  },
  {
   "cell_type": "code",
   "execution_count": 217,
   "id": "2491b89a",
   "metadata": {},
   "outputs": [
    {
     "ename": "ValueError",
     "evalue": "invalid literal for int() with base 10: ' 192.168.23.179 '",
     "output_type": "error",
     "traceback": [
      "\u001b[0;31m---------------------------------------------------------------------------\u001b[0m",
      "\u001b[0;31mValueError\u001b[0m                                Traceback (most recent call last)",
      "Cell \u001b[0;32mIn[217], line 1\u001b[0m\n\u001b[0;32m----> 1\u001b[0m \u001b[38;5;28mprint\u001b[39m(\u001b[38;5;28;43mint\u001b[39;49m\u001b[43m(\u001b[49m\u001b[43mkl\u001b[49m\u001b[43m)\u001b[49m)\n",
      "\u001b[0;31mValueError\u001b[0m: invalid literal for int() with base 10: ' 192.168.23.179 '"
     ]
    }
   ],
   "source": []
  },
  {
   "cell_type": "code",
   "execution_count": 232,
   "id": "8574ca66",
   "metadata": {},
   "outputs": [
    {
     "name": "stderr",
     "output_type": "stream",
     "text": [
      "/tmp/ipykernel_85037/301203018.py:2: UserWarning: pandas only supports SQLAlchemy connectable (engine/connection) or database string URI or sqlite3 DBAPI2 connection. Other DBAPI2 objects are not tested. Please consider using SQLAlchemy.\n",
      "  data=pd.read_sql('''select ColumnName,ColumnValue, Insert_time , Modified_time from Rule_LightWeightlist_new''',db)\n"
     ]
    },
    {
     "data": {
      "text/html": [
       "<div>\n",
       "<style scoped>\n",
       "    .dataframe tbody tr th:only-of-type {\n",
       "        vertical-align: middle;\n",
       "    }\n",
       "\n",
       "    .dataframe tbody tr th {\n",
       "        vertical-align: top;\n",
       "    }\n",
       "\n",
       "    .dataframe thead th {\n",
       "        text-align: right;\n",
       "    }\n",
       "</style>\n",
       "<table border=\"1\" class=\"dataframe\">\n",
       "  <thead>\n",
       "    <tr style=\"text-align: right;\">\n",
       "      <th></th>\n",
       "      <th>ColumnName</th>\n",
       "      <th>ColumnValue</th>\n",
       "      <th>Insert_time</th>\n",
       "      <th>Modified_time</th>\n",
       "    </tr>\n",
       "  </thead>\n",
       "  <tbody>\n",
       "    <tr>\n",
       "      <th>0</th>\n",
       "      <td>IP</td>\n",
       "      <td>['192.168.23.179', '192.168.23.180', '192.168....</td>\n",
       "      <td>2023-07-19 18:01:42</td>\n",
       "      <td>2023-07-19 18:01:42</td>\n",
       "    </tr>\n",
       "    <tr>\n",
       "      <th>1</th>\n",
       "      <td>name</td>\n",
       "      <td>['tes', 'user', 'atuks']</td>\n",
       "      <td>2023-07-19 18:01:42</td>\n",
       "      <td>2023-07-19 18:01:42</td>\n",
       "    </tr>\n",
       "  </tbody>\n",
       "</table>\n",
       "</div>"
      ],
      "text/plain": [
       "  ColumnName                                        ColumnValue  \\\n",
       "0         IP  ['192.168.23.179', '192.168.23.180', '192.168....   \n",
       "1       name                           ['tes', 'user', 'atuks']   \n",
       "\n",
       "           Insert_time        Modified_time  \n",
       "0  2023-07-19 18:01:42  2023-07-19 18:01:42  \n",
       "1  2023-07-19 18:01:42  2023-07-19 18:01:42  "
      ]
     },
     "execution_count": 232,
     "metadata": {},
     "output_type": "execute_result"
    }
   ],
   "source": [
    "db=pymysql.connect(host='192.168.21.95', user='test', password='Sattrix@123', database='Trainings')\n",
    "data=pd.read_sql('''select ColumnName,ColumnValue, Insert_time , Modified_time from Rule_LightWeightlist_new''',db)\n",
    "data"
   ]
  },
  {
   "cell_type": "code",
   "execution_count": 226,
   "id": "529ba79f",
   "metadata": {},
   "outputs": [],
   "source": [
    "c=data['Insert_time']"
   ]
  },
  {
   "cell_type": "code",
   "execution_count": 225,
   "id": "c960f73f",
   "metadata": {},
   "outputs": [
    {
     "data": {
      "text/plain": [
       "0    2023-07-19 18:01:42\n",
       "1    2023-07-19 18:01:42\n",
       "Name: Modified_time, dtype: object"
      ]
     },
     "execution_count": 225,
     "metadata": {},
     "output_type": "execute_result"
    }
   ],
   "source": [
    "data['Modified_time']"
   ]
  },
  {
   "cell_type": "code",
   "execution_count": 227,
   "id": "7b4fba95",
   "metadata": {},
   "outputs": [
    {
     "name": "stdout",
     "output_type": "stream",
     "text": [
      "0    2023-07-19 18:01:42\n",
      "1    2023-07-19 18:01:42\n",
      "Name: Insert_time, dtype: object\n"
     ]
    }
   ],
   "source": [
    "print(c)"
   ]
  },
  {
   "cell_type": "code",
   "execution_count": 236,
   "id": "af8100c7",
   "metadata": {},
   "outputs": [
    {
     "data": {
      "text/plain": [
       "'2023-07-19 18:01:42'"
      ]
     },
     "execution_count": 236,
     "metadata": {},
     "output_type": "execute_result"
    }
   ],
   "source": [
    "data.iloc[0,2]"
   ]
  },
  {
   "cell_type": "code",
   "execution_count": 242,
   "id": "194840c4",
   "metadata": {},
   "outputs": [
    {
     "ename": "ValueError",
     "evalue": "If using all scalar values, you must pass an index",
     "output_type": "error",
     "traceback": [
      "\u001b[0;31m---------------------------------------------------------------------------\u001b[0m",
      "\u001b[0;31mValueError\u001b[0m                                Traceback (most recent call last)",
      "Cell \u001b[0;32mIn[242], line 1\u001b[0m\n\u001b[0;32m----> 1\u001b[0m \u001b[43mpd\u001b[49m\u001b[38;5;241;43m.\u001b[39;49m\u001b[43mDataFrame\u001b[49m\u001b[43m(\u001b[49m\u001b[43m{\u001b[49m\u001b[38;5;124;43m'\u001b[39;49m\u001b[38;5;124;43mStart_time\u001b[39;49m\u001b[38;5;124;43m'\u001b[39;49m\u001b[43m:\u001b[49m\u001b[43mab\u001b[49m\u001b[43m}\u001b[49m\u001b[43m)\u001b[49m\n",
      "File \u001b[0;32m~/.local/lib/python3.10/site-packages/pandas/core/frame.py:709\u001b[0m, in \u001b[0;36mDataFrame.__init__\u001b[0;34m(self, data, index, columns, dtype, copy)\u001b[0m\n\u001b[1;32m    703\u001b[0m     mgr \u001b[38;5;241m=\u001b[39m \u001b[38;5;28mself\u001b[39m\u001b[38;5;241m.\u001b[39m_init_mgr(\n\u001b[1;32m    704\u001b[0m         data, axes\u001b[38;5;241m=\u001b[39m{\u001b[38;5;124m\"\u001b[39m\u001b[38;5;124mindex\u001b[39m\u001b[38;5;124m\"\u001b[39m: index, \u001b[38;5;124m\"\u001b[39m\u001b[38;5;124mcolumns\u001b[39m\u001b[38;5;124m\"\u001b[39m: columns}, dtype\u001b[38;5;241m=\u001b[39mdtype, copy\u001b[38;5;241m=\u001b[39mcopy\n\u001b[1;32m    705\u001b[0m     )\n\u001b[1;32m    707\u001b[0m \u001b[38;5;28;01melif\u001b[39;00m \u001b[38;5;28misinstance\u001b[39m(data, \u001b[38;5;28mdict\u001b[39m):\n\u001b[1;32m    708\u001b[0m     \u001b[38;5;66;03m# GH#38939 de facto copy defaults to False only in non-dict cases\u001b[39;00m\n\u001b[0;32m--> 709\u001b[0m     mgr \u001b[38;5;241m=\u001b[39m \u001b[43mdict_to_mgr\u001b[49m\u001b[43m(\u001b[49m\u001b[43mdata\u001b[49m\u001b[43m,\u001b[49m\u001b[43m \u001b[49m\u001b[43mindex\u001b[49m\u001b[43m,\u001b[49m\u001b[43m \u001b[49m\u001b[43mcolumns\u001b[49m\u001b[43m,\u001b[49m\u001b[43m \u001b[49m\u001b[43mdtype\u001b[49m\u001b[38;5;241;43m=\u001b[39;49m\u001b[43mdtype\u001b[49m\u001b[43m,\u001b[49m\u001b[43m \u001b[49m\u001b[43mcopy\u001b[49m\u001b[38;5;241;43m=\u001b[39;49m\u001b[43mcopy\u001b[49m\u001b[43m,\u001b[49m\u001b[43m \u001b[49m\u001b[43mtyp\u001b[49m\u001b[38;5;241;43m=\u001b[39;49m\u001b[43mmanager\u001b[49m\u001b[43m)\u001b[49m\n\u001b[1;32m    710\u001b[0m \u001b[38;5;28;01melif\u001b[39;00m \u001b[38;5;28misinstance\u001b[39m(data, ma\u001b[38;5;241m.\u001b[39mMaskedArray):\n\u001b[1;32m    711\u001b[0m     \u001b[38;5;28;01mfrom\u001b[39;00m \u001b[38;5;21;01mnumpy\u001b[39;00m\u001b[38;5;21;01m.\u001b[39;00m\u001b[38;5;21;01mma\u001b[39;00m \u001b[38;5;28;01mimport\u001b[39;00m mrecords\n",
      "File \u001b[0;32m~/.local/lib/python3.10/site-packages/pandas/core/internals/construction.py:481\u001b[0m, in \u001b[0;36mdict_to_mgr\u001b[0;34m(data, index, columns, dtype, typ, copy)\u001b[0m\n\u001b[1;32m    477\u001b[0m     \u001b[38;5;28;01melse\u001b[39;00m:\n\u001b[1;32m    478\u001b[0m         \u001b[38;5;66;03m# dtype check to exclude e.g. range objects, scalars\u001b[39;00m\n\u001b[1;32m    479\u001b[0m         arrays \u001b[38;5;241m=\u001b[39m [x\u001b[38;5;241m.\u001b[39mcopy() \u001b[38;5;28;01mif\u001b[39;00m \u001b[38;5;28mhasattr\u001b[39m(x, \u001b[38;5;124m\"\u001b[39m\u001b[38;5;124mdtype\u001b[39m\u001b[38;5;124m\"\u001b[39m) \u001b[38;5;28;01melse\u001b[39;00m x \u001b[38;5;28;01mfor\u001b[39;00m x \u001b[38;5;129;01min\u001b[39;00m arrays]\n\u001b[0;32m--> 481\u001b[0m \u001b[38;5;28;01mreturn\u001b[39;00m \u001b[43marrays_to_mgr\u001b[49m\u001b[43m(\u001b[49m\u001b[43marrays\u001b[49m\u001b[43m,\u001b[49m\u001b[43m \u001b[49m\u001b[43mcolumns\u001b[49m\u001b[43m,\u001b[49m\u001b[43m \u001b[49m\u001b[43mindex\u001b[49m\u001b[43m,\u001b[49m\u001b[43m \u001b[49m\u001b[43mdtype\u001b[49m\u001b[38;5;241;43m=\u001b[39;49m\u001b[43mdtype\u001b[49m\u001b[43m,\u001b[49m\u001b[43m \u001b[49m\u001b[43mtyp\u001b[49m\u001b[38;5;241;43m=\u001b[39;49m\u001b[43mtyp\u001b[49m\u001b[43m,\u001b[49m\u001b[43m \u001b[49m\u001b[43mconsolidate\u001b[49m\u001b[38;5;241;43m=\u001b[39;49m\u001b[43mcopy\u001b[49m\u001b[43m)\u001b[49m\n",
      "File \u001b[0;32m~/.local/lib/python3.10/site-packages/pandas/core/internals/construction.py:115\u001b[0m, in \u001b[0;36marrays_to_mgr\u001b[0;34m(arrays, columns, index, dtype, verify_integrity, typ, consolidate)\u001b[0m\n\u001b[1;32m    112\u001b[0m \u001b[38;5;28;01mif\u001b[39;00m verify_integrity:\n\u001b[1;32m    113\u001b[0m     \u001b[38;5;66;03m# figure out the index, if necessary\u001b[39;00m\n\u001b[1;32m    114\u001b[0m     \u001b[38;5;28;01mif\u001b[39;00m index \u001b[38;5;129;01mis\u001b[39;00m \u001b[38;5;28;01mNone\u001b[39;00m:\n\u001b[0;32m--> 115\u001b[0m         index \u001b[38;5;241m=\u001b[39m \u001b[43m_extract_index\u001b[49m\u001b[43m(\u001b[49m\u001b[43marrays\u001b[49m\u001b[43m)\u001b[49m\n\u001b[1;32m    116\u001b[0m     \u001b[38;5;28;01melse\u001b[39;00m:\n\u001b[1;32m    117\u001b[0m         index \u001b[38;5;241m=\u001b[39m ensure_index(index)\n",
      "File \u001b[0;32m~/.local/lib/python3.10/site-packages/pandas/core/internals/construction.py:645\u001b[0m, in \u001b[0;36m_extract_index\u001b[0;34m(data)\u001b[0m\n\u001b[1;32m    642\u001b[0m         \u001b[38;5;28;01mraise\u001b[39;00m \u001b[38;5;167;01mValueError\u001b[39;00m(\u001b[38;5;124m\"\u001b[39m\u001b[38;5;124mPer-column arrays must each be 1-dimensional\u001b[39m\u001b[38;5;124m\"\u001b[39m)\n\u001b[1;32m    644\u001b[0m \u001b[38;5;28;01mif\u001b[39;00m \u001b[38;5;129;01mnot\u001b[39;00m indexes \u001b[38;5;129;01mand\u001b[39;00m \u001b[38;5;129;01mnot\u001b[39;00m raw_lengths:\n\u001b[0;32m--> 645\u001b[0m     \u001b[38;5;28;01mraise\u001b[39;00m \u001b[38;5;167;01mValueError\u001b[39;00m(\u001b[38;5;124m\"\u001b[39m\u001b[38;5;124mIf using all scalar values, you must pass an index\u001b[39m\u001b[38;5;124m\"\u001b[39m)\n\u001b[1;32m    647\u001b[0m \u001b[38;5;28;01mif\u001b[39;00m have_series:\n\u001b[1;32m    648\u001b[0m     index \u001b[38;5;241m=\u001b[39m union_indexes(indexes)\n",
      "\u001b[0;31mValueError\u001b[0m: If using all scalar values, you must pass an index"
     ]
    }
   ],
   "source": [
    "pd.DataFrame({'Start_time':ab})"
   ]
  },
  {
   "cell_type": "code",
   "execution_count": 292,
   "id": "f62b36f1",
   "metadata": {},
   "outputs": [
    {
     "name": "stdout",
     "output_type": "stream",
     "text": [
      "                  IP      name          Insert_time        Modified_time\n",
      "0   '192.168.23.179'     'tes'  2023-07-19 18:01:42  2023-07-19 18:01:42\n",
      "1   '192.168.23.180'    'user'  2023-07-19 18:01:42  2023-07-19 18:01:42\n",
      "2   '192.168.23.206'   'atuks'  2023-07-19 18:01:42  2023-07-19 18:01:42\n",
      "3   '192.168.23.215'       NaN  2023-07-19 18:01:42  2023-07-19 18:01:42\n",
      "4   '192.168.23.227'       NaN  2023-07-19 18:01:42  2023-07-19 18:01:42\n",
      "5     '192.168.9.57'       NaN  2023-07-19 18:01:42  2023-07-19 18:01:42\n",
      "6   '192.168.23.222'       NaN  2023-07-19 18:01:42  2023-07-19 18:01:42\n",
      "7   '192.168.23.229'       NaN  2023-07-19 18:01:42  2023-07-19 18:01:42\n",
      "8   '192.168.23.132'       NaN  2023-07-19 18:01:42  2023-07-19 18:01:42\n",
      "9   '192.168.23.160'       NaN  2023-07-19 18:01:42  2023-07-19 18:01:42\n"
     ]
    },
    {
     "name": "stderr",
     "output_type": "stream",
     "text": [
      "/tmp/ipykernel_85037/3111404073.py:2: UserWarning: pandas only supports SQLAlchemy connectable (engine/connection) or database string URI or sqlite3 DBAPI2 connection. Other DBAPI2 objects are not tested. Please consider using SQLAlchemy.\n",
      "  data=pd.read_sql('''select * from Rule_LightWeightlist_new''',db)\n",
      "/tmp/ipykernel_85037/3111404073.py:4: UserWarning: pandas only supports SQLAlchemy connectable (engine/connection) or database string URI or sqlite3 DBAPI2 connection. Other DBAPI2 objects are not tested. Please consider using SQLAlchemy.\n",
      "  data=pd.read_sql('''select ColumnName,ColumnValue,Insert_time , Modified_time from Rule_LightWeightlist_new''',db)\n"
     ]
    }
   ],
   "source": [
    "db=pymysql.connect(host='192.168.21.95', user='test', password='Sattrix@123', database='Trainings')\n",
    "data=pd.read_sql('''select * from Rule_LightWeightlist_new''',db)\n",
    "# print(data['ColumnValue'])\n",
    "data=pd.read_sql('''select ColumnName,ColumnValue,Insert_time , Modified_time from Rule_LightWeightlist_new''',db)\n",
    "df=data.iloc[0,1]\n",
    "v=df.strip('[,]')\n",
    "l=data.iloc[1,1]\n",
    "m=l.strip('[,]')\n",
    "g=m.split(',')\n",
    "r=v.split(',')\n",
    "s=pd.DataFrame({'IP':r})\n",
    "k=pd.DataFrame({'name':g})\n",
    "# ab=data.iloc[0,2]\n",
    "sa=data['Insert_time']\n",
    "vc=pd.DataFrame(sa)\n",
    "p=pd.DataFrame(vc)\n",
    "aa=data['Modified_time']\n",
    "ac=pd.DataFrame(aa)\n",
    "z=pd.DataFrame(ac)\n",
    "\n",
    "fd=pd.concat([s,k,p,z],axis=1)\n",
    "fd['Insert_time'].fillna(fd.loc[0,'Insert_time'],inplace=True)\n",
    "fd['Modified_time'].fillna(fd.loc[0,'Modified_time'],inplace=True)\n",
    "\n",
    "print(fd)"
   ]
  },
  {
   "cell_type": "code",
   "execution_count": 243,
   "id": "40b121b4",
   "metadata": {},
   "outputs": [
    {
     "data": {
      "text/plain": [
       "str"
      ]
     },
     "execution_count": 243,
     "metadata": {},
     "output_type": "execute_result"
    }
   ],
   "source": [
    "type(ab)"
   ]
  },
  {
   "cell_type": "code",
   "execution_count": 244,
   "id": "47dfbf63",
   "metadata": {},
   "outputs": [
    {
     "data": {
      "text/plain": [
       "'2023-07-19 18:01:42'"
      ]
     },
     "execution_count": 244,
     "metadata": {},
     "output_type": "execute_result"
    }
   ],
   "source": [
    "ab"
   ]
  },
  {
   "cell_type": "code",
   "execution_count": 258,
   "id": "f9578717",
   "metadata": {},
   "outputs": [],
   "source": [
    "# bv=pd.DataFrame({v:'ab'})"
   ]
  },
  {
   "cell_type": "code",
   "execution_count": 254,
   "id": "d108eb09",
   "metadata": {},
   "outputs": [
    {
     "data": {
      "text/html": [
       "<div>\n",
       "<style scoped>\n",
       "    .dataframe tbody tr th:only-of-type {\n",
       "        vertical-align: middle;\n",
       "    }\n",
       "\n",
       "    .dataframe tbody tr th {\n",
       "        vertical-align: top;\n",
       "    }\n",
       "\n",
       "    .dataframe thead th {\n",
       "        text-align: right;\n",
       "    }\n",
       "</style>\n",
       "<table border=\"1\" class=\"dataframe\">\n",
       "  <thead>\n",
       "    <tr style=\"text-align: right;\">\n",
       "      <th></th>\n",
       "      <th>0</th>\n",
       "    </tr>\n",
       "  </thead>\n",
       "  <tbody>\n",
       "    <tr>\n",
       "      <th>0</th>\n",
       "      <td>2023-07-19 18:01:42</td>\n",
       "    </tr>\n",
       "    <tr>\n",
       "      <th>1</th>\n",
       "      <td>v</td>\n",
       "    </tr>\n",
       "  </tbody>\n",
       "</table>\n",
       "</div>"
      ],
      "text/plain": [
       "                     0\n",
       "0  2023-07-19 18:01:42\n",
       "1                    v"
      ]
     },
     "execution_count": 254,
     "metadata": {},
     "output_type": "execute_result"
    }
   ],
   "source": [
    "bv"
   ]
  },
  {
   "cell_type": "code",
   "execution_count": 259,
   "id": "fb85c9c2",
   "metadata": {},
   "outputs": [
    {
     "data": {
      "text/plain": [
       "[\"'192.168.23.179'\",\n",
       " \" '192.168.23.180'\",\n",
       " \" '192.168.23.206'\",\n",
       " \" '192.168.23.215'\",\n",
       " \" '192.168.23.227'\",\n",
       " \" '192.168.9.57'\",\n",
       " \" '192.168.23.222'\",\n",
       " \" '192.168.23.229'\",\n",
       " \" '192.168.23.132'\",\n",
       " \" '192.168.23.160'\"]"
      ]
     },
     "execution_count": 259,
     "metadata": {},
     "output_type": "execute_result"
    }
   ],
   "source": [
    "r"
   ]
  },
  {
   "cell_type": "code",
   "execution_count": 262,
   "id": "29015d90",
   "metadata": {},
   "outputs": [
    {
     "ename": "ValueError",
     "evalue": "could not convert string to float: \"'192.168.23.179'\"",
     "output_type": "error",
     "traceback": [
      "\u001b[0;31m---------------------------------------------------------------------------\u001b[0m",
      "\u001b[0;31mValueError\u001b[0m                                Traceback (most recent call last)",
      "Cell \u001b[0;32mIn[262], line 2\u001b[0m\n\u001b[1;32m      1\u001b[0m \u001b[38;5;28;01mfor\u001b[39;00m i \u001b[38;5;129;01min\u001b[39;00m r:\n\u001b[0;32m----> 2\u001b[0m     \u001b[38;5;28mprint\u001b[39m(\u001b[38;5;28;43mfloat\u001b[39;49m\u001b[43m(\u001b[49m\u001b[43mi\u001b[49m\u001b[43m)\u001b[49m)\n",
      "\u001b[0;31mValueError\u001b[0m: could not convert string to float: \"'192.168.23.179'\""
     ]
    }
   ],
   "source": [
    "for i in r:\n",
    "    print(float(i))"
   ]
  },
  {
   "cell_type": "code",
   "execution_count": 268,
   "id": "59b111c6",
   "metadata": {},
   "outputs": [],
   "source": [
    "sa=data['Insert_time']"
   ]
  },
  {
   "cell_type": "code",
   "execution_count": 274,
   "id": "a7f5ca88",
   "metadata": {},
   "outputs": [
    {
     "ename": "KeyError",
     "evalue": "2",
     "output_type": "error",
     "traceback": [
      "\u001b[0;31m---------------------------------------------------------------------------\u001b[0m",
      "\u001b[0;31mValueError\u001b[0m                                Traceback (most recent call last)",
      "File \u001b[0;32m~/.local/lib/python3.10/site-packages/pandas/core/indexes/range.py:345\u001b[0m, in \u001b[0;36mRangeIndex.get_loc\u001b[0;34m(self, key)\u001b[0m\n\u001b[1;32m    344\u001b[0m \u001b[38;5;28;01mtry\u001b[39;00m:\n\u001b[0;32m--> 345\u001b[0m     \u001b[38;5;28;01mreturn\u001b[39;00m \u001b[38;5;28;43mself\u001b[39;49m\u001b[38;5;241;43m.\u001b[39;49m\u001b[43m_range\u001b[49m\u001b[38;5;241;43m.\u001b[39;49m\u001b[43mindex\u001b[49m\u001b[43m(\u001b[49m\u001b[43mnew_key\u001b[49m\u001b[43m)\u001b[49m\n\u001b[1;32m    346\u001b[0m \u001b[38;5;28;01mexcept\u001b[39;00m \u001b[38;5;167;01mValueError\u001b[39;00m \u001b[38;5;28;01mas\u001b[39;00m err:\n",
      "\u001b[0;31mValueError\u001b[0m: 2 is not in range",
      "\nThe above exception was the direct cause of the following exception:\n",
      "\u001b[0;31mKeyError\u001b[0m                                  Traceback (most recent call last)",
      "Cell \u001b[0;32mIn[274], line 1\u001b[0m\n\u001b[0;32m----> 1\u001b[0m \u001b[43msa\u001b[49m\u001b[43m[\u001b[49m\u001b[38;5;241;43m2\u001b[39;49m\u001b[43m]\u001b[49m\n",
      "File \u001b[0;32m~/.local/lib/python3.10/site-packages/pandas/core/series.py:1007\u001b[0m, in \u001b[0;36mSeries.__getitem__\u001b[0;34m(self, key)\u001b[0m\n\u001b[1;32m   1004\u001b[0m     \u001b[38;5;28;01mreturn\u001b[39;00m \u001b[38;5;28mself\u001b[39m\u001b[38;5;241m.\u001b[39m_values[key]\n\u001b[1;32m   1006\u001b[0m \u001b[38;5;28;01melif\u001b[39;00m key_is_scalar:\n\u001b[0;32m-> 1007\u001b[0m     \u001b[38;5;28;01mreturn\u001b[39;00m \u001b[38;5;28;43mself\u001b[39;49m\u001b[38;5;241;43m.\u001b[39;49m\u001b[43m_get_value\u001b[49m\u001b[43m(\u001b[49m\u001b[43mkey\u001b[49m\u001b[43m)\u001b[49m\n\u001b[1;32m   1009\u001b[0m \u001b[38;5;28;01mif\u001b[39;00m is_hashable(key):\n\u001b[1;32m   1010\u001b[0m     \u001b[38;5;66;03m# Otherwise index.get_value will raise InvalidIndexError\u001b[39;00m\n\u001b[1;32m   1011\u001b[0m     \u001b[38;5;28;01mtry\u001b[39;00m:\n\u001b[1;32m   1012\u001b[0m         \u001b[38;5;66;03m# For labels that don't resolve as scalars like tuples and frozensets\u001b[39;00m\n",
      "File \u001b[0;32m~/.local/lib/python3.10/site-packages/pandas/core/series.py:1116\u001b[0m, in \u001b[0;36mSeries._get_value\u001b[0;34m(self, label, takeable)\u001b[0m\n\u001b[1;32m   1113\u001b[0m     \u001b[38;5;28;01mreturn\u001b[39;00m \u001b[38;5;28mself\u001b[39m\u001b[38;5;241m.\u001b[39m_values[label]\n\u001b[1;32m   1115\u001b[0m \u001b[38;5;66;03m# Similar to Index.get_value, but we do not fall back to positional\u001b[39;00m\n\u001b[0;32m-> 1116\u001b[0m loc \u001b[38;5;241m=\u001b[39m \u001b[38;5;28;43mself\u001b[39;49m\u001b[38;5;241;43m.\u001b[39;49m\u001b[43mindex\u001b[49m\u001b[38;5;241;43m.\u001b[39;49m\u001b[43mget_loc\u001b[49m\u001b[43m(\u001b[49m\u001b[43mlabel\u001b[49m\u001b[43m)\u001b[49m\n\u001b[1;32m   1118\u001b[0m \u001b[38;5;28;01mif\u001b[39;00m is_integer(loc):\n\u001b[1;32m   1119\u001b[0m     \u001b[38;5;28;01mreturn\u001b[39;00m \u001b[38;5;28mself\u001b[39m\u001b[38;5;241m.\u001b[39m_values[loc]\n",
      "File \u001b[0;32m~/.local/lib/python3.10/site-packages/pandas/core/indexes/range.py:347\u001b[0m, in \u001b[0;36mRangeIndex.get_loc\u001b[0;34m(self, key)\u001b[0m\n\u001b[1;32m    345\u001b[0m         \u001b[38;5;28;01mreturn\u001b[39;00m \u001b[38;5;28mself\u001b[39m\u001b[38;5;241m.\u001b[39m_range\u001b[38;5;241m.\u001b[39mindex(new_key)\n\u001b[1;32m    346\u001b[0m     \u001b[38;5;28;01mexcept\u001b[39;00m \u001b[38;5;167;01mValueError\u001b[39;00m \u001b[38;5;28;01mas\u001b[39;00m err:\n\u001b[0;32m--> 347\u001b[0m         \u001b[38;5;28;01mraise\u001b[39;00m \u001b[38;5;167;01mKeyError\u001b[39;00m(key) \u001b[38;5;28;01mfrom\u001b[39;00m \u001b[38;5;21;01merr\u001b[39;00m\n\u001b[1;32m    348\u001b[0m \u001b[38;5;28;01mif\u001b[39;00m \u001b[38;5;28misinstance\u001b[39m(key, Hashable):\n\u001b[1;32m    349\u001b[0m     \u001b[38;5;28;01mraise\u001b[39;00m \u001b[38;5;167;01mKeyError\u001b[39;00m(key)\n",
      "\u001b[0;31mKeyError\u001b[0m: 2"
     ]
    }
   ],
   "source": []
  },
  {
   "cell_type": "code",
   "execution_count": 275,
   "id": "445c79da",
   "metadata": {},
   "outputs": [
    {
     "data": {
      "text/html": [
       "<div>\n",
       "<style scoped>\n",
       "    .dataframe tbody tr th:only-of-type {\n",
       "        vertical-align: middle;\n",
       "    }\n",
       "\n",
       "    .dataframe tbody tr th {\n",
       "        vertical-align: top;\n",
       "    }\n",
       "\n",
       "    .dataframe thead th {\n",
       "        text-align: right;\n",
       "    }\n",
       "</style>\n",
       "<table border=\"1\" class=\"dataframe\">\n",
       "  <thead>\n",
       "    <tr style=\"text-align: right;\">\n",
       "      <th></th>\n",
       "      <th>Insert_time</th>\n",
       "    </tr>\n",
       "  </thead>\n",
       "  <tbody>\n",
       "    <tr>\n",
       "      <th>0</th>\n",
       "      <td>2023-07-19 18:01:42</td>\n",
       "    </tr>\n",
       "    <tr>\n",
       "      <th>1</th>\n",
       "      <td>2023-07-19 18:01:42</td>\n",
       "    </tr>\n",
       "  </tbody>\n",
       "</table>\n",
       "</div>"
      ],
      "text/plain": [
       "           Insert_time\n",
       "0  2023-07-19 18:01:42\n",
       "1  2023-07-19 18:01:42"
      ]
     },
     "execution_count": 275,
     "metadata": {},
     "output_type": "execute_result"
    }
   ],
   "source": [
    "pd.DataFrame(sa)"
   ]
  },
  {
   "cell_type": "code",
   "execution_count": 280,
   "id": "8bf06eb9",
   "metadata": {},
   "outputs": [
    {
     "data": {
      "text/html": [
       "<div>\n",
       "<style scoped>\n",
       "    .dataframe tbody tr th:only-of-type {\n",
       "        vertical-align: middle;\n",
       "    }\n",
       "\n",
       "    .dataframe tbody tr th {\n",
       "        vertical-align: top;\n",
       "    }\n",
       "\n",
       "    .dataframe thead th {\n",
       "        text-align: right;\n",
       "    }\n",
       "</style>\n",
       "<table border=\"1\" class=\"dataframe\">\n",
       "  <thead>\n",
       "    <tr style=\"text-align: right;\">\n",
       "      <th></th>\n",
       "      <th>IP</th>\n",
       "      <th>name</th>\n",
       "      <th>Insert_time</th>\n",
       "      <th>Modified_time</th>\n",
       "    </tr>\n",
       "  </thead>\n",
       "  <tbody>\n",
       "    <tr>\n",
       "      <th>0</th>\n",
       "      <td>'192.168.23.179'</td>\n",
       "      <td>'tes'</td>\n",
       "      <td>2023-07-19 18:01:42</td>\n",
       "      <td>2023-07-19 18:01:42</td>\n",
       "    </tr>\n",
       "    <tr>\n",
       "      <th>1</th>\n",
       "      <td>'192.168.23.180'</td>\n",
       "      <td>'user'</td>\n",
       "      <td>2023-07-19 18:01:42</td>\n",
       "      <td>2023-07-19 18:01:42</td>\n",
       "    </tr>\n",
       "    <tr>\n",
       "      <th>2</th>\n",
       "      <td>'192.168.23.206'</td>\n",
       "      <td>'atuks'</td>\n",
       "      <td>NaN</td>\n",
       "      <td>NaN</td>\n",
       "    </tr>\n",
       "    <tr>\n",
       "      <th>3</th>\n",
       "      <td>'192.168.23.215'</td>\n",
       "      <td>NaN</td>\n",
       "      <td>NaN</td>\n",
       "      <td>NaN</td>\n",
       "    </tr>\n",
       "    <tr>\n",
       "      <th>4</th>\n",
       "      <td>'192.168.23.227'</td>\n",
       "      <td>NaN</td>\n",
       "      <td>NaN</td>\n",
       "      <td>NaN</td>\n",
       "    </tr>\n",
       "    <tr>\n",
       "      <th>5</th>\n",
       "      <td>'192.168.9.57'</td>\n",
       "      <td>NaN</td>\n",
       "      <td>NaN</td>\n",
       "      <td>NaN</td>\n",
       "    </tr>\n",
       "    <tr>\n",
       "      <th>6</th>\n",
       "      <td>'192.168.23.222'</td>\n",
       "      <td>NaN</td>\n",
       "      <td>NaN</td>\n",
       "      <td>NaN</td>\n",
       "    </tr>\n",
       "    <tr>\n",
       "      <th>7</th>\n",
       "      <td>'192.168.23.229'</td>\n",
       "      <td>NaN</td>\n",
       "      <td>NaN</td>\n",
       "      <td>NaN</td>\n",
       "    </tr>\n",
       "    <tr>\n",
       "      <th>8</th>\n",
       "      <td>'192.168.23.132'</td>\n",
       "      <td>NaN</td>\n",
       "      <td>NaN</td>\n",
       "      <td>NaN</td>\n",
       "    </tr>\n",
       "    <tr>\n",
       "      <th>9</th>\n",
       "      <td>'192.168.23.160'</td>\n",
       "      <td>NaN</td>\n",
       "      <td>NaN</td>\n",
       "      <td>NaN</td>\n",
       "    </tr>\n",
       "  </tbody>\n",
       "</table>\n",
       "</div>"
      ],
      "text/plain": [
       "                  IP      name          Insert_time        Modified_time\n",
       "0   '192.168.23.179'     'tes'  2023-07-19 18:01:42  2023-07-19 18:01:42\n",
       "1   '192.168.23.180'    'user'  2023-07-19 18:01:42  2023-07-19 18:01:42\n",
       "2   '192.168.23.206'   'atuks'                  NaN                  NaN\n",
       "3   '192.168.23.215'       NaN                  NaN                  NaN\n",
       "4   '192.168.23.227'       NaN                  NaN                  NaN\n",
       "5     '192.168.9.57'       NaN                  NaN                  NaN\n",
       "6   '192.168.23.222'       NaN                  NaN                  NaN\n",
       "7   '192.168.23.229'       NaN                  NaN                  NaN\n",
       "8   '192.168.23.132'       NaN                  NaN                  NaN\n",
       "9   '192.168.23.160'       NaN                  NaN                  NaN"
      ]
     },
     "execution_count": 280,
     "metadata": {},
     "output_type": "execute_result"
    }
   ],
   "source": [
    "fd"
   ]
  },
  {
   "cell_type": "code",
   "execution_count": 288,
   "id": "3bfa3b56",
   "metadata": {},
   "outputs": [
    {
     "data": {
      "text/plain": [
       "0    2023-07-19 18:01:42\n",
       "1    2023-07-19 18:01:42\n",
       "2    2023-07-19 18:01:42\n",
       "3    2023-07-19 18:01:42\n",
       "4    2023-07-19 18:01:42\n",
       "5    2023-07-19 18:01:42\n",
       "6    2023-07-19 18:01:42\n",
       "7    2023-07-19 18:01:42\n",
       "8    2023-07-19 18:01:42\n",
       "9    2023-07-19 18:01:42\n",
       "Name: Insert_time, dtype: object"
      ]
     },
     "execution_count": 288,
     "metadata": {},
     "output_type": "execute_result"
    }
   ],
   "source": [
    "fd['Insert_time'].fillna(fd.loc[0,'Insert_time'])\n"
   ]
  },
  {
   "cell_type": "code",
   "execution_count": 287,
   "id": "663dad37",
   "metadata": {},
   "outputs": [
    {
     "data": {
      "text/plain": [
       "'2023-07-19 18:01:42'"
      ]
     },
     "execution_count": 287,
     "metadata": {},
     "output_type": "execute_result"
    }
   ],
   "source": [
    "fd.loc[0,'Insert_time']"
   ]
  },
  {
   "cell_type": "code",
   "execution_count": 289,
   "id": "221e0afa",
   "metadata": {},
   "outputs": [
    {
     "data": {
      "text/plain": [
       "0    2023-07-19 18:01:42\n",
       "1    2023-07-19 18:01:42\n",
       "2    2023-07-19 18:01:42\n",
       "3    2023-07-19 18:01:42\n",
       "4    2023-07-19 18:01:42\n",
       "5    2023-07-19 18:01:42\n",
       "6    2023-07-19 18:01:42\n",
       "7    2023-07-19 18:01:42\n",
       "8    2023-07-19 18:01:42\n",
       "9    2023-07-19 18:01:42\n",
       "Name: Modified_time, dtype: object"
      ]
     },
     "execution_count": 289,
     "metadata": {},
     "output_type": "execute_result"
    }
   ],
   "source": [
    "fd['Modified_time'].fillna(fd.loc[0,'Modified_time'])"
   ]
  },
  {
   "cell_type": "code",
   "execution_count": 294,
   "id": "e61c0519",
   "metadata": {},
   "outputs": [],
   "source": [
    "jsk=data['ColumnValue']"
   ]
  },
  {
   "cell_type": "code",
   "execution_count": 295,
   "id": "5b629f84",
   "metadata": {},
   "outputs": [
    {
     "name": "stdout",
     "output_type": "stream",
     "text": [
      "0    ['192.168.23.179', '192.168.23.180', '192.168....\n",
      "1                             ['tes', 'user', 'atuks']\n",
      "Name: ColumnValue, dtype: object\n"
     ]
    }
   ],
   "source": [
    "print(jsk)"
   ]
  },
  {
   "cell_type": "code",
   "execution_count": 296,
   "id": "ed2b1a88",
   "metadata": {},
   "outputs": [
    {
     "data": {
      "text/plain": [
       "\"['192.168.23.179', '192.168.23.180', '192.168.23.206', '192.168.23.215', '192.168.23.227', '192.168.9.57', '192.168.23.222', '192.168.23.229', '192.168.23.132', '192.168.23.160']\""
      ]
     },
     "execution_count": 296,
     "metadata": {},
     "output_type": "execute_result"
    }
   ],
   "source": [
    "jsk[0]"
   ]
  },
  {
   "cell_type": "code",
   "execution_count": 297,
   "id": "dcb204d0",
   "metadata": {},
   "outputs": [
    {
     "data": {
      "text/plain": [
       "\"['tes', 'user', 'atuks']\""
      ]
     },
     "execution_count": 297,
     "metadata": {},
     "output_type": "execute_result"
    }
   ],
   "source": [
    "jsk[1]"
   ]
  },
  {
   "cell_type": "code",
   "execution_count": 298,
   "id": "65d6281f",
   "metadata": {},
   "outputs": [],
   "source": [
    "y=open('newd.csv','x')"
   ]
  },
  {
   "cell_type": "code",
   "execution_count": 299,
   "id": "993ed430",
   "metadata": {},
   "outputs": [
    {
     "ename": "TypeError",
     "evalue": "write() argument must be str, not DataFrame",
     "output_type": "error",
     "traceback": [
      "\u001b[0;31m---------------------------------------------------------------------------\u001b[0m",
      "\u001b[0;31mTypeError\u001b[0m                                 Traceback (most recent call last)",
      "Cell \u001b[0;32mIn[299], line 1\u001b[0m\n\u001b[0;32m----> 1\u001b[0m \u001b[43my\u001b[49m\u001b[38;5;241;43m.\u001b[39;49m\u001b[43mwrite\u001b[49m\u001b[43m(\u001b[49m\u001b[43mfd\u001b[49m\u001b[43m)\u001b[49m\n",
      "\u001b[0;31mTypeError\u001b[0m: write() argument must be str, not DataFrame"
     ]
    }
   ],
   "source": [
    "y.write(fd)"
   ]
  },
  {
   "cell_type": "code",
   "execution_count": 300,
   "id": "889b3736",
   "metadata": {},
   "outputs": [
    {
     "data": {
      "text/html": [
       "<div>\n",
       "<style scoped>\n",
       "    .dataframe tbody tr th:only-of-type {\n",
       "        vertical-align: middle;\n",
       "    }\n",
       "\n",
       "    .dataframe tbody tr th {\n",
       "        vertical-align: top;\n",
       "    }\n",
       "\n",
       "    .dataframe thead th {\n",
       "        text-align: right;\n",
       "    }\n",
       "</style>\n",
       "<table border=\"1\" class=\"dataframe\">\n",
       "  <thead>\n",
       "    <tr style=\"text-align: right;\">\n",
       "      <th></th>\n",
       "      <th>IP</th>\n",
       "      <th>name</th>\n",
       "      <th>Insert_time</th>\n",
       "      <th>Modified_time</th>\n",
       "    </tr>\n",
       "  </thead>\n",
       "  <tbody>\n",
       "    <tr>\n",
       "      <th>0</th>\n",
       "      <td>'192.168.23.179'</td>\n",
       "      <td>'tes'</td>\n",
       "      <td>2023-07-19 18:01:42</td>\n",
       "      <td>2023-07-19 18:01:42</td>\n",
       "    </tr>\n",
       "    <tr>\n",
       "      <th>1</th>\n",
       "      <td>'192.168.23.180'</td>\n",
       "      <td>'user'</td>\n",
       "      <td>2023-07-19 18:01:42</td>\n",
       "      <td>2023-07-19 18:01:42</td>\n",
       "    </tr>\n",
       "    <tr>\n",
       "      <th>2</th>\n",
       "      <td>'192.168.23.206'</td>\n",
       "      <td>'atuks'</td>\n",
       "      <td>2023-07-19 18:01:42</td>\n",
       "      <td>2023-07-19 18:01:42</td>\n",
       "    </tr>\n",
       "    <tr>\n",
       "      <th>3</th>\n",
       "      <td>'192.168.23.215'</td>\n",
       "      <td>NaN</td>\n",
       "      <td>2023-07-19 18:01:42</td>\n",
       "      <td>2023-07-19 18:01:42</td>\n",
       "    </tr>\n",
       "    <tr>\n",
       "      <th>4</th>\n",
       "      <td>'192.168.23.227'</td>\n",
       "      <td>NaN</td>\n",
       "      <td>2023-07-19 18:01:42</td>\n",
       "      <td>2023-07-19 18:01:42</td>\n",
       "    </tr>\n",
       "    <tr>\n",
       "      <th>5</th>\n",
       "      <td>'192.168.9.57'</td>\n",
       "      <td>NaN</td>\n",
       "      <td>2023-07-19 18:01:42</td>\n",
       "      <td>2023-07-19 18:01:42</td>\n",
       "    </tr>\n",
       "    <tr>\n",
       "      <th>6</th>\n",
       "      <td>'192.168.23.222'</td>\n",
       "      <td>NaN</td>\n",
       "      <td>2023-07-19 18:01:42</td>\n",
       "      <td>2023-07-19 18:01:42</td>\n",
       "    </tr>\n",
       "    <tr>\n",
       "      <th>7</th>\n",
       "      <td>'192.168.23.229'</td>\n",
       "      <td>NaN</td>\n",
       "      <td>2023-07-19 18:01:42</td>\n",
       "      <td>2023-07-19 18:01:42</td>\n",
       "    </tr>\n",
       "    <tr>\n",
       "      <th>8</th>\n",
       "      <td>'192.168.23.132'</td>\n",
       "      <td>NaN</td>\n",
       "      <td>2023-07-19 18:01:42</td>\n",
       "      <td>2023-07-19 18:01:42</td>\n",
       "    </tr>\n",
       "    <tr>\n",
       "      <th>9</th>\n",
       "      <td>'192.168.23.160'</td>\n",
       "      <td>NaN</td>\n",
       "      <td>2023-07-19 18:01:42</td>\n",
       "      <td>2023-07-19 18:01:42</td>\n",
       "    </tr>\n",
       "  </tbody>\n",
       "</table>\n",
       "</div>"
      ],
      "text/plain": [
       "                  IP      name          Insert_time        Modified_time\n",
       "0   '192.168.23.179'     'tes'  2023-07-19 18:01:42  2023-07-19 18:01:42\n",
       "1   '192.168.23.180'    'user'  2023-07-19 18:01:42  2023-07-19 18:01:42\n",
       "2   '192.168.23.206'   'atuks'  2023-07-19 18:01:42  2023-07-19 18:01:42\n",
       "3   '192.168.23.215'       NaN  2023-07-19 18:01:42  2023-07-19 18:01:42\n",
       "4   '192.168.23.227'       NaN  2023-07-19 18:01:42  2023-07-19 18:01:42\n",
       "5     '192.168.9.57'       NaN  2023-07-19 18:01:42  2023-07-19 18:01:42\n",
       "6   '192.168.23.222'       NaN  2023-07-19 18:01:42  2023-07-19 18:01:42\n",
       "7   '192.168.23.229'       NaN  2023-07-19 18:01:42  2023-07-19 18:01:42\n",
       "8   '192.168.23.132'       NaN  2023-07-19 18:01:42  2023-07-19 18:01:42\n",
       "9   '192.168.23.160'       NaN  2023-07-19 18:01:42  2023-07-19 18:01:42"
      ]
     },
     "execution_count": 300,
     "metadata": {},
     "output_type": "execute_result"
    }
   ],
   "source": [
    "fd"
   ]
  },
  {
   "cell_type": "code",
   "execution_count": 301,
   "id": "f152f45c",
   "metadata": {},
   "outputs": [
    {
     "name": "stdout",
     "output_type": "stream",
     "text": [
      "                  IP      name          Insert_time        Modified_time\n",
      "0   '192.168.23.179'     'tes'  2023-07-19 18:01:42  2023-07-19 18:01:42\n",
      "1   '192.168.23.180'    'user'  2023-07-19 18:01:42  2023-07-19 18:01:42\n",
      "2   '192.168.23.206'   'atuks'  2023-07-19 18:01:42  2023-07-19 18:01:42\n",
      "3   '192.168.23.215'       NaN  2023-07-19 18:01:42  2023-07-19 18:01:42\n",
      "4   '192.168.23.227'       NaN  2023-07-19 18:01:42  2023-07-19 18:01:42\n",
      "5     '192.168.9.57'       NaN  2023-07-19 18:01:42  2023-07-19 18:01:42\n",
      "6   '192.168.23.222'       NaN  2023-07-19 18:01:42  2023-07-19 18:01:42\n",
      "7   '192.168.23.229'       NaN  2023-07-19 18:01:42  2023-07-19 18:01:42\n",
      "8   '192.168.23.132'       NaN  2023-07-19 18:01:42  2023-07-19 18:01:42\n",
      "9   '192.168.23.160'       NaN  2023-07-19 18:01:42  2023-07-19 18:01:42\n"
     ]
    }
   ],
   "source": [
    "print(fd)"
   ]
  },
  {
   "cell_type": "code",
   "execution_count": 302,
   "id": "3190c729",
   "metadata": {},
   "outputs": [
    {
     "name": "stdout",
     "output_type": "stream",
     "text": [
      "                  Ip      name          Insert_time        Modified_time\n",
      "0   '192.168.23.179'     'tes'  2023-07-19 18:01:42  2023-07-19 18:01:42\n",
      "1   '192.168.23.180'    'user'  2023-07-19 18:01:42  2023-07-19 18:01:42\n",
      "2   '192.168.23.206'   'atuks'  2023-07-19 18:01:42  2023-07-19 18:01:42\n",
      "3   '192.168.23.215'       NaN  2023-07-19 18:01:42  2023-07-19 18:01:42\n",
      "4   '192.168.23.227'       NaN  2023-07-19 18:01:42  2023-07-19 18:01:42\n",
      "5     '192.168.9.57'       NaN  2023-07-19 18:01:42  2023-07-19 18:01:42\n",
      "6   '192.168.23.222'       NaN  2023-07-19 18:01:42  2023-07-19 18:01:42\n",
      "7   '192.168.23.229'       NaN  2023-07-19 18:01:42  2023-07-19 18:01:42\n",
      "8   '192.168.23.132'       NaN  2023-07-19 18:01:42  2023-07-19 18:01:42\n",
      "9   '192.168.23.160'       NaN  2023-07-19 18:01:42  2023-07-19 18:01:42\n"
     ]
    },
    {
     "name": "stderr",
     "output_type": "stream",
     "text": [
      "/tmp/ipykernel_85037/684450496.py:2: UserWarning: pandas only supports SQLAlchemy connectable (engine/connection) or database string URI or sqlite3 DBAPI2 connection. Other DBAPI2 objects are not tested. Please consider using SQLAlchemy.\n",
      "  data=pd.read_sql('''select * from Rule_LightWeightlist_new''',db)\n",
      "/tmp/ipykernel_85037/684450496.py:4: UserWarning: pandas only supports SQLAlchemy connectable (engine/connection) or database string URI or sqlite3 DBAPI2 connection. Other DBAPI2 objects are not tested. Please consider using SQLAlchemy.\n",
      "  data=pd.read_sql('''select ColumnName,ColumnValue,Insert_time , Modified_time from Rule_LightWeightlist_new''',db)\n"
     ]
    }
   ],
   "source": [
    "db=pymysql.connect(host='192.168.21.95', user='test', password='Sattrix@123', database='Trainings')\n",
    "data=pd.read_sql('''select * from Rule_LightWeightlist_new''',db)\n",
    "# print(data['ColumnValue'])\n",
    "data=pd.read_sql('''select ColumnName,ColumnValue,Insert_time , Modified_time from Rule_LightWeightlist_new''',db)\n",
    "df=data.iloc[0,1]\n",
    "v=df.strip('[,]')\n",
    "l=data.iloc[1,1]\n",
    "m=l.strip('[,]')\n",
    "g=m.split(',')\n",
    "r=v.split(',')\n",
    "s=pd.DataFrame({'Ip':r})\n",
    "k=pd.DataFrame({'name':g})\n",
    "# ab=data.iloc[0,2]\n",
    "sa=data['Insert_time']\n",
    "vc=pd.DataFrame(sa)\n",
    "p=pd.DataFrame(vc)\n",
    "aa=data['Modified_time']\n",
    "ac=pd.DataFrame(aa)\n",
    "z=pd.DataFrame(ac)\n",
    "\n",
    "fd=pd.concat([s,k,p,z],axis=1)\n",
    "fd['Insert_time'].fillna(fd.loc[0,'Insert_time'],inplace=True)\n",
    "fd['Modified_time'].fillna(fd.loc[0,'Modified_time'],inplace=True)\n",
    "\n",
    "print(fd)"
   ]
  },
  {
   "cell_type": "code",
   "execution_count": 304,
   "id": "f07b16ac",
   "metadata": {},
   "outputs": [
    {
     "data": {
      "text/plain": [
       "'2023-07-19 18:01:42'"
      ]
     },
     "execution_count": 304,
     "metadata": {},
     "output_type": "execute_result"
    }
   ],
   "source": [
    "fd.loc[5,'Insert_time']"
   ]
  },
  {
   "cell_type": "code",
   "execution_count": 316,
   "id": "935495e7",
   "metadata": {},
   "outputs": [
    {
     "data": {
      "text/html": [
       "<div>\n",
       "<style scoped>\n",
       "    .dataframe tbody tr th:only-of-type {\n",
       "        vertical-align: middle;\n",
       "    }\n",
       "\n",
       "    .dataframe tbody tr th {\n",
       "        vertical-align: top;\n",
       "    }\n",
       "\n",
       "    .dataframe thead th {\n",
       "        text-align: right;\n",
       "    }\n",
       "</style>\n",
       "<table border=\"1\" class=\"dataframe\">\n",
       "  <thead>\n",
       "    <tr style=\"text-align: right;\">\n",
       "      <th></th>\n",
       "      <th>Ip</th>\n",
       "      <th>name</th>\n",
       "      <th>Insert_time</th>\n",
       "      <th>Modified_time</th>\n",
       "    </tr>\n",
       "  </thead>\n",
       "  <tbody>\n",
       "    <tr>\n",
       "      <th>0</th>\n",
       "      <td>'192.168.23.179'</td>\n",
       "      <td>'tes'</td>\n",
       "      <td>2023-07-19 18:01:42</td>\n",
       "      <td>2023-07-19 18:01:42</td>\n",
       "    </tr>\n",
       "    <tr>\n",
       "      <th>1</th>\n",
       "      <td>'192.168.23.180'</td>\n",
       "      <td>'user'</td>\n",
       "      <td>2023-07-19 18:01:42</td>\n",
       "      <td>2023-07-19 18:01:42</td>\n",
       "    </tr>\n",
       "    <tr>\n",
       "      <th>2</th>\n",
       "      <td>'192.168.23.206'</td>\n",
       "      <td>'atuks'</td>\n",
       "      <td>2023-07-19 18:01:42</td>\n",
       "      <td>2023-07-19 18:01:42</td>\n",
       "    </tr>\n",
       "    <tr>\n",
       "      <th>3</th>\n",
       "      <td>'192.168.23.215'</td>\n",
       "      <td>NaN</td>\n",
       "      <td>2023-07-19 18:01:42</td>\n",
       "      <td>2023-07-19 18:01:42</td>\n",
       "    </tr>\n",
       "    <tr>\n",
       "      <th>4</th>\n",
       "      <td>'192.168.23.227'</td>\n",
       "      <td>NaN</td>\n",
       "      <td>2023-07-19 18:01:42</td>\n",
       "      <td>2023-07-19 18:01:42</td>\n",
       "    </tr>\n",
       "    <tr>\n",
       "      <th>5</th>\n",
       "      <td>'192.168.9.57'</td>\n",
       "      <td>NaN</td>\n",
       "      <td>2023-07-19 18:01:42</td>\n",
       "      <td>2023-07-19 18:01:42</td>\n",
       "    </tr>\n",
       "    <tr>\n",
       "      <th>6</th>\n",
       "      <td>'192.168.23.222'</td>\n",
       "      <td>NaN</td>\n",
       "      <td>2023-07-19 18:01:42</td>\n",
       "      <td>2023-07-19 18:01:42</td>\n",
       "    </tr>\n",
       "    <tr>\n",
       "      <th>7</th>\n",
       "      <td>'192.168.23.229'</td>\n",
       "      <td>NaN</td>\n",
       "      <td>2023-07-19 18:01:42</td>\n",
       "      <td>2023-07-19 18:01:42</td>\n",
       "    </tr>\n",
       "    <tr>\n",
       "      <th>8</th>\n",
       "      <td>'192.168.23.132'</td>\n",
       "      <td>NaN</td>\n",
       "      <td>2023-07-19 18:01:42</td>\n",
       "      <td>2023-07-19 18:01:42</td>\n",
       "    </tr>\n",
       "    <tr>\n",
       "      <th>9</th>\n",
       "      <td>'192.168.23.160'</td>\n",
       "      <td>NaN</td>\n",
       "      <td>2023-07-19 18:01:42</td>\n",
       "      <td>2023-07-19 18:01:42</td>\n",
       "    </tr>\n",
       "  </tbody>\n",
       "</table>\n",
       "</div>"
      ],
      "text/plain": [
       "                  Ip      name          Insert_time        Modified_time\n",
       "0   '192.168.23.179'     'tes'  2023-07-19 18:01:42  2023-07-19 18:01:42\n",
       "1   '192.168.23.180'    'user'  2023-07-19 18:01:42  2023-07-19 18:01:42\n",
       "2   '192.168.23.206'   'atuks'  2023-07-19 18:01:42  2023-07-19 18:01:42\n",
       "3   '192.168.23.215'       NaN  2023-07-19 18:01:42  2023-07-19 18:01:42\n",
       "4   '192.168.23.227'       NaN  2023-07-19 18:01:42  2023-07-19 18:01:42\n",
       "5     '192.168.9.57'       NaN  2023-07-19 18:01:42  2023-07-19 18:01:42\n",
       "6   '192.168.23.222'       NaN  2023-07-19 18:01:42  2023-07-19 18:01:42\n",
       "7   '192.168.23.229'       NaN  2023-07-19 18:01:42  2023-07-19 18:01:42\n",
       "8   '192.168.23.132'       NaN  2023-07-19 18:01:42  2023-07-19 18:01:42\n",
       "9   '192.168.23.160'       NaN  2023-07-19 18:01:42  2023-07-19 18:01:42"
      ]
     },
     "execution_count": 316,
     "metadata": {},
     "output_type": "execute_result"
    }
   ],
   "source": [
    "fd[fd['Ip'] <'192.168.'] "
   ]
  },
  {
   "cell_type": "code",
   "execution_count": 312,
   "id": "30d887ec",
   "metadata": {},
   "outputs": [
    {
     "data": {
      "text/html": [
       "<div>\n",
       "<style scoped>\n",
       "    .dataframe tbody tr th:only-of-type {\n",
       "        vertical-align: middle;\n",
       "    }\n",
       "\n",
       "    .dataframe tbody tr th {\n",
       "        vertical-align: top;\n",
       "    }\n",
       "\n",
       "    .dataframe thead th {\n",
       "        text-align: right;\n",
       "    }\n",
       "</style>\n",
       "<table border=\"1\" class=\"dataframe\">\n",
       "  <thead>\n",
       "    <tr style=\"text-align: right;\">\n",
       "      <th></th>\n",
       "      <th>Ip</th>\n",
       "      <th>name</th>\n",
       "      <th>Insert_time</th>\n",
       "      <th>Modified_time</th>\n",
       "    </tr>\n",
       "  </thead>\n",
       "  <tbody>\n",
       "  </tbody>\n",
       "</table>\n",
       "</div>"
      ],
      "text/plain": [
       "Empty DataFrame\n",
       "Columns: [Ip, name, Insert_time, Modified_time]\n",
       "Index: []"
      ]
     },
     "execution_count": 312,
     "metadata": {},
     "output_type": "execute_result"
    }
   ],
   "source": [
    "rslt_df"
   ]
  },
  {
   "cell_type": "code",
   "execution_count": 320,
   "id": "f9858dd2",
   "metadata": {},
   "outputs": [
    {
     "data": {
      "text/plain": [
       "False"
      ]
     },
     "execution_count": 320,
     "metadata": {},
     "output_type": "execute_result"
    }
   ],
   "source": [
    "'2023-07-19 18:01:42' in fd"
   ]
  },
  {
   "cell_type": "code",
   "execution_count": 326,
   "id": "60ac17a4",
   "metadata": {},
   "outputs": [
    {
     "name": "stdout",
     "output_type": "stream",
     "text": [
      "Ip\n",
      "name\n",
      "Insert_time\n",
      "Modified_time\n"
     ]
    }
   ],
   "source": [
    "for i in fd:\n",
    "#     for k in i:   print(k)\n",
    "#     print(ip[i])\n",
    "    print(i)"
   ]
  },
  {
   "cell_type": "code",
   "execution_count": 334,
   "id": "0738a157",
   "metadata": {},
   "outputs": [
    {
     "data": {
      "text/html": [
       "<div>\n",
       "<style scoped>\n",
       "    .dataframe tbody tr th:only-of-type {\n",
       "        vertical-align: middle;\n",
       "    }\n",
       "\n",
       "    .dataframe tbody tr th {\n",
       "        vertical-align: top;\n",
       "    }\n",
       "\n",
       "    .dataframe thead th {\n",
       "        text-align: right;\n",
       "    }\n",
       "</style>\n",
       "<table border=\"1\" class=\"dataframe\">\n",
       "  <thead>\n",
       "    <tr style=\"text-align: right;\">\n",
       "      <th></th>\n",
       "      <th>Ip</th>\n",
       "      <th>name</th>\n",
       "      <th>Insert_time</th>\n",
       "      <th>Modified_time</th>\n",
       "    </tr>\n",
       "  </thead>\n",
       "  <tbody>\n",
       "    <tr>\n",
       "      <th>0</th>\n",
       "      <td>125</td>\n",
       "      <td>'tes'</td>\n",
       "      <td>2023-07-19 18:01:42</td>\n",
       "      <td>2023-07-19 18:01:42</td>\n",
       "    </tr>\n",
       "    <tr>\n",
       "      <th>1</th>\n",
       "      <td>'192.168.23.180'</td>\n",
       "      <td>'user'</td>\n",
       "      <td>2023-07-19 18:01:42</td>\n",
       "      <td>2023-07-19 18:01:42</td>\n",
       "    </tr>\n",
       "    <tr>\n",
       "      <th>2</th>\n",
       "      <td>'192.168.23.206'</td>\n",
       "      <td>'atuks'</td>\n",
       "      <td>2023-07-19 18:01:42</td>\n",
       "      <td>2023-07-19 18:01:42</td>\n",
       "    </tr>\n",
       "    <tr>\n",
       "      <th>3</th>\n",
       "      <td>'192.168.23.215'</td>\n",
       "      <td>NaN</td>\n",
       "      <td>2023-07-19 18:01:42</td>\n",
       "      <td>2023-07-19 18:01:42</td>\n",
       "    </tr>\n",
       "    <tr>\n",
       "      <th>4</th>\n",
       "      <td>'192.168.23.227'</td>\n",
       "      <td>NaN</td>\n",
       "      <td>2023-07-19 18:01:42</td>\n",
       "      <td>2023-07-19 18:01:42</td>\n",
       "    </tr>\n",
       "    <tr>\n",
       "      <th>5</th>\n",
       "      <td>'192.168.9.57'</td>\n",
       "      <td>NaN</td>\n",
       "      <td>2023-07-19 18:01:42</td>\n",
       "      <td>2023-07-19 18:01:42</td>\n",
       "    </tr>\n",
       "    <tr>\n",
       "      <th>6</th>\n",
       "      <td>'192.168.23.222'</td>\n",
       "      <td>NaN</td>\n",
       "      <td>2023-07-19 18:01:42</td>\n",
       "      <td>2023-07-19 18:01:42</td>\n",
       "    </tr>\n",
       "    <tr>\n",
       "      <th>7</th>\n",
       "      <td>'192.168.23.229'</td>\n",
       "      <td>NaN</td>\n",
       "      <td>2023-07-19 18:01:42</td>\n",
       "      <td>2023-07-19 18:01:42</td>\n",
       "    </tr>\n",
       "    <tr>\n",
       "      <th>8</th>\n",
       "      <td>'192.168.23.132'</td>\n",
       "      <td>NaN</td>\n",
       "      <td>2023-07-19 18:01:42</td>\n",
       "      <td>2023-07-19 18:01:42</td>\n",
       "    </tr>\n",
       "    <tr>\n",
       "      <th>9</th>\n",
       "      <td>'192.168.23.160'</td>\n",
       "      <td>NaN</td>\n",
       "      <td>2023-07-19 18:01:42</td>\n",
       "      <td>2023-07-19 18:01:42</td>\n",
       "    </tr>\n",
       "  </tbody>\n",
       "</table>\n",
       "</div>"
      ],
      "text/plain": [
       "                  Ip      name          Insert_time        Modified_time\n",
       "0                125     'tes'  2023-07-19 18:01:42  2023-07-19 18:01:42\n",
       "1   '192.168.23.180'    'user'  2023-07-19 18:01:42  2023-07-19 18:01:42\n",
       "2   '192.168.23.206'   'atuks'  2023-07-19 18:01:42  2023-07-19 18:01:42\n",
       "3   '192.168.23.215'       NaN  2023-07-19 18:01:42  2023-07-19 18:01:42\n",
       "4   '192.168.23.227'       NaN  2023-07-19 18:01:42  2023-07-19 18:01:42\n",
       "5     '192.168.9.57'       NaN  2023-07-19 18:01:42  2023-07-19 18:01:42\n",
       "6   '192.168.23.222'       NaN  2023-07-19 18:01:42  2023-07-19 18:01:42\n",
       "7   '192.168.23.229'       NaN  2023-07-19 18:01:42  2023-07-19 18:01:42\n",
       "8   '192.168.23.132'       NaN  2023-07-19 18:01:42  2023-07-19 18:01:42\n",
       "9   '192.168.23.160'       NaN  2023-07-19 18:01:42  2023-07-19 18:01:42"
      ]
     },
     "execution_count": 334,
     "metadata": {},
     "output_type": "execute_result"
    }
   ],
   "source": [
    "fd.replace(\"'192.168.23.179'\",125)"
   ]
  },
  {
   "cell_type": "code",
   "execution_count": 330,
   "id": "f990c4af",
   "metadata": {},
   "outputs": [
    {
     "data": {
      "text/html": [
       "<div>\n",
       "<style scoped>\n",
       "    .dataframe tbody tr th:only-of-type {\n",
       "        vertical-align: middle;\n",
       "    }\n",
       "\n",
       "    .dataframe tbody tr th {\n",
       "        vertical-align: top;\n",
       "    }\n",
       "\n",
       "    .dataframe thead th {\n",
       "        text-align: right;\n",
       "    }\n",
       "</style>\n",
       "<table border=\"1\" class=\"dataframe\">\n",
       "  <thead>\n",
       "    <tr style=\"text-align: right;\">\n",
       "      <th></th>\n",
       "      <th>Ip</th>\n",
       "      <th>name</th>\n",
       "      <th>Insert_time</th>\n",
       "      <th>Modified_time</th>\n",
       "    </tr>\n",
       "  </thead>\n",
       "  <tbody>\n",
       "    <tr>\n",
       "      <th>0</th>\n",
       "      <td>'192.168.23.179'</td>\n",
       "      <td>'tes'</td>\n",
       "      <td>2023-07-19 18:01:42</td>\n",
       "      <td>2023-07-19 18:01:42</td>\n",
       "    </tr>\n",
       "    <tr>\n",
       "      <th>1</th>\n",
       "      <td>'192.168.23.180'</td>\n",
       "      <td>'user'</td>\n",
       "      <td>2023-07-19 18:01:42</td>\n",
       "      <td>2023-07-19 18:01:42</td>\n",
       "    </tr>\n",
       "    <tr>\n",
       "      <th>2</th>\n",
       "      <td>'192.168.23.206'</td>\n",
       "      <td>'atuks'</td>\n",
       "      <td>2023-07-19 18:01:42</td>\n",
       "      <td>2023-07-19 18:01:42</td>\n",
       "    </tr>\n",
       "    <tr>\n",
       "      <th>3</th>\n",
       "      <td>'192.168.23.215'</td>\n",
       "      <td>NaN</td>\n",
       "      <td>2023-07-19 18:01:42</td>\n",
       "      <td>2023-07-19 18:01:42</td>\n",
       "    </tr>\n",
       "    <tr>\n",
       "      <th>4</th>\n",
       "      <td>'192.168.23.227'</td>\n",
       "      <td>NaN</td>\n",
       "      <td>2023-07-19 18:01:42</td>\n",
       "      <td>2023-07-19 18:01:42</td>\n",
       "    </tr>\n",
       "    <tr>\n",
       "      <th>5</th>\n",
       "      <td>'192.168.9.57'</td>\n",
       "      <td>NaN</td>\n",
       "      <td>2023-07-19 18:01:42</td>\n",
       "      <td>2023-07-19 18:01:42</td>\n",
       "    </tr>\n",
       "    <tr>\n",
       "      <th>6</th>\n",
       "      <td>'192.168.23.222'</td>\n",
       "      <td>NaN</td>\n",
       "      <td>2023-07-19 18:01:42</td>\n",
       "      <td>2023-07-19 18:01:42</td>\n",
       "    </tr>\n",
       "    <tr>\n",
       "      <th>7</th>\n",
       "      <td>'192.168.23.229'</td>\n",
       "      <td>NaN</td>\n",
       "      <td>2023-07-19 18:01:42</td>\n",
       "      <td>2023-07-19 18:01:42</td>\n",
       "    </tr>\n",
       "    <tr>\n",
       "      <th>8</th>\n",
       "      <td>'192.168.23.132'</td>\n",
       "      <td>NaN</td>\n",
       "      <td>2023-07-19 18:01:42</td>\n",
       "      <td>2023-07-19 18:01:42</td>\n",
       "    </tr>\n",
       "    <tr>\n",
       "      <th>9</th>\n",
       "      <td>'192.168.23.160'</td>\n",
       "      <td>NaN</td>\n",
       "      <td>2023-07-19 18:01:42</td>\n",
       "      <td>2023-07-19 18:01:42</td>\n",
       "    </tr>\n",
       "  </tbody>\n",
       "</table>\n",
       "</div>"
      ],
      "text/plain": [
       "                  Ip      name          Insert_time        Modified_time\n",
       "0   '192.168.23.179'     'tes'  2023-07-19 18:01:42  2023-07-19 18:01:42\n",
       "1   '192.168.23.180'    'user'  2023-07-19 18:01:42  2023-07-19 18:01:42\n",
       "2   '192.168.23.206'   'atuks'  2023-07-19 18:01:42  2023-07-19 18:01:42\n",
       "3   '192.168.23.215'       NaN  2023-07-19 18:01:42  2023-07-19 18:01:42\n",
       "4   '192.168.23.227'       NaN  2023-07-19 18:01:42  2023-07-19 18:01:42\n",
       "5     '192.168.9.57'       NaN  2023-07-19 18:01:42  2023-07-19 18:01:42\n",
       "6   '192.168.23.222'       NaN  2023-07-19 18:01:42  2023-07-19 18:01:42\n",
       "7   '192.168.23.229'       NaN  2023-07-19 18:01:42  2023-07-19 18:01:42\n",
       "8   '192.168.23.132'       NaN  2023-07-19 18:01:42  2023-07-19 18:01:42\n",
       "9   '192.168.23.160'       NaN  2023-07-19 18:01:42  2023-07-19 18:01:42"
      ]
     },
     "execution_count": 330,
     "metadata": {},
     "output_type": "execute_result"
    }
   ],
   "source": [
    "fd"
   ]
  },
  {
   "cell_type": "code",
   "execution_count": 339,
   "id": "f4fba51b",
   "metadata": {},
   "outputs": [],
   "source": [
    "xc=\"'ramesh','kumar','sharma'\""
   ]
  },
  {
   "cell_type": "code",
   "execution_count": 340,
   "id": "6e093fe1",
   "metadata": {},
   "outputs": [
    {
     "data": {
      "text/plain": [
       "\"'ramesh','kumar','sharma'\""
      ]
     },
     "execution_count": 340,
     "metadata": {},
     "output_type": "execute_result"
    }
   ],
   "source": [
    "xc"
   ]
  },
  {
   "cell_type": "code",
   "execution_count": 342,
   "id": "9c5c9608",
   "metadata": {},
   "outputs": [],
   "source": [
    "xs=xc.split(',')"
   ]
  },
  {
   "cell_type": "code",
   "execution_count": 343,
   "id": "321f31fd",
   "metadata": {},
   "outputs": [
    {
     "name": "stdout",
     "output_type": "stream",
     "text": [
      "'ramesh'\n",
      "'kumar'\n",
      "'sharma'\n"
     ]
    }
   ],
   "source": [
    "for i in xs:\n",
    "    print(i)"
   ]
  },
  {
   "cell_type": "code",
   "execution_count": 344,
   "id": "f10e5925",
   "metadata": {},
   "outputs": [
    {
     "data": {
      "text/html": [
       "<div>\n",
       "<style scoped>\n",
       "    .dataframe tbody tr th:only-of-type {\n",
       "        vertical-align: middle;\n",
       "    }\n",
       "\n",
       "    .dataframe tbody tr th {\n",
       "        vertical-align: top;\n",
       "    }\n",
       "\n",
       "    .dataframe thead th {\n",
       "        text-align: right;\n",
       "    }\n",
       "</style>\n",
       "<table border=\"1\" class=\"dataframe\">\n",
       "  <thead>\n",
       "    <tr style=\"text-align: right;\">\n",
       "      <th></th>\n",
       "      <th>Jyoti</th>\n",
       "    </tr>\n",
       "  </thead>\n",
       "  <tbody>\n",
       "    <tr>\n",
       "      <th>0</th>\n",
       "      <td>'ramesh'</td>\n",
       "    </tr>\n",
       "    <tr>\n",
       "      <th>1</th>\n",
       "      <td>'kumar'</td>\n",
       "    </tr>\n",
       "    <tr>\n",
       "      <th>2</th>\n",
       "      <td>'sharma'</td>\n",
       "    </tr>\n",
       "  </tbody>\n",
       "</table>\n",
       "</div>"
      ],
      "text/plain": [
       "      Jyoti\n",
       "0  'ramesh'\n",
       "1   'kumar'\n",
       "2  'sharma'"
      ]
     },
     "execution_count": 344,
     "metadata": {},
     "output_type": "execute_result"
    }
   ],
   "source": [
    "pd.DataFrame({'Jyoti':xs})"
   ]
  },
  {
   "cell_type": "code",
   "execution_count": 359,
   "id": "04c8316b",
   "metadata": {},
   "outputs": [],
   "source": [
    "flag=0\n",
    "def pr():\n",
    "    global flag\n",
    "    if flag==0:\n",
    "        flag=1\n",
    "        print('hello')\n",
    "    else:\n",
    "        print('world')"
   ]
  },
  {
   "cell_type": "code",
   "execution_count": 360,
   "id": "c1626711",
   "metadata": {},
   "outputs": [
    {
     "name": "stdout",
     "output_type": "stream",
     "text": [
      "0\n"
     ]
    }
   ],
   "source": [
    "print(flag)"
   ]
  },
  {
   "cell_type": "code",
   "execution_count": 364,
   "id": "231d1422",
   "metadata": {},
   "outputs": [
    {
     "name": "stdout",
     "output_type": "stream",
     "text": [
      "world\n"
     ]
    }
   ],
   "source": [
    "pr()"
   ]
  },
  {
   "cell_type": "code",
   "execution_count": null,
   "id": "5d4cb5ec",
   "metadata": {},
   "outputs": [],
   "source": []
  },
  {
   "cell_type": "code",
   "execution_count": 368,
   "id": "d21bcf59",
   "metadata": {},
   "outputs": [
    {
     "name": "stderr",
     "output_type": "stream",
     "text": [
      "/tmp/ipykernel_85037/373105364.py:2: UserWarning: pandas only supports SQLAlchemy connectable (engine/connection) or database string URI or sqlite3 DBAPI2 connection. Other DBAPI2 objects are not tested. Please consider using SQLAlchemy.\n",
      "  dt=pd.read_sql('''select * from Rule_LightWeightlist_new''',db)\n"
     ]
    }
   ],
   "source": [
    "db=pymysql.connect(host='192.168.21.95', user='test', password='Sattrix@123', database='Trainings')\n",
    "dt=pd.read_sql('''select * from Rule_LightWeightlist_new''',db)"
   ]
  },
  {
   "cell_type": "code",
   "execution_count": 371,
   "id": "7f867eff",
   "metadata": {},
   "outputs": [
    {
     "data": {
      "text/html": [
       "<div>\n",
       "<style scoped>\n",
       "    .dataframe tbody tr th:only-of-type {\n",
       "        vertical-align: middle;\n",
       "    }\n",
       "\n",
       "    .dataframe tbody tr th {\n",
       "        vertical-align: top;\n",
       "    }\n",
       "\n",
       "    .dataframe thead th {\n",
       "        text-align: right;\n",
       "    }\n",
       "</style>\n",
       "<table border=\"1\" class=\"dataframe\">\n",
       "  <thead>\n",
       "    <tr style=\"text-align: right;\">\n",
       "      <th></th>\n",
       "      <th>ID</th>\n",
       "      <th>Count</th>\n",
       "      <th>Rule_ListId</th>\n",
       "      <th>Insert_time</th>\n",
       "      <th>Modified_time</th>\n",
       "      <th>ColumnName</th>\n",
       "      <th>ColumnValue</th>\n",
       "    </tr>\n",
       "  </thead>\n",
       "  <tbody>\n",
       "    <tr>\n",
       "      <th>0</th>\n",
       "      <td>1</td>\n",
       "      <td>1</td>\n",
       "      <td>16</td>\n",
       "      <td>2023-07-19 18:01:42</td>\n",
       "      <td>2023-07-19 18:01:42</td>\n",
       "      <td>IP</td>\n",
       "      <td>['192.168.23.179', '192.168.23.180', '192.168....</td>\n",
       "    </tr>\n",
       "    <tr>\n",
       "      <th>1</th>\n",
       "      <td>2</td>\n",
       "      <td>1</td>\n",
       "      <td>16</td>\n",
       "      <td>2023-07-19 18:01:42</td>\n",
       "      <td>2023-07-19 18:01:42</td>\n",
       "      <td>name</td>\n",
       "      <td>['tes', 'user', 'atuks']</td>\n",
       "    </tr>\n",
       "  </tbody>\n",
       "</table>\n",
       "</div>"
      ],
      "text/plain": [
       "   ID  Count  Rule_ListId          Insert_time        Modified_time  \\\n",
       "0   1      1           16  2023-07-19 18:01:42  2023-07-19 18:01:42   \n",
       "1   2      1           16  2023-07-19 18:01:42  2023-07-19 18:01:42   \n",
       "\n",
       "  ColumnName                                        ColumnValue  \n",
       "0         IP  ['192.168.23.179', '192.168.23.180', '192.168....  \n",
       "1       name                           ['tes', 'user', 'atuks']  "
      ]
     },
     "execution_count": 371,
     "metadata": {},
     "output_type": "execute_result"
    }
   ],
   "source": [
    "dt"
   ]
  },
  {
   "cell_type": "code",
   "execution_count": null,
   "id": "3d73af8e",
   "metadata": {},
   "outputs": [],
   "source": []
  },
  {
   "cell_type": "code",
   "execution_count": 367,
   "id": "73376e89",
   "metadata": {},
   "outputs": [
    {
     "name": "stdout",
     "output_type": "stream",
     "text": [
      "                  Ip      name          Insert_time        Modified_time\n",
      "0   '192.168.23.179'     'tes'  2023-07-19 18:01:42  2023-07-19 18:01:42\n",
      "1   '192.168.23.180'    'user'  2023-07-19 18:01:42  2023-07-19 18:01:42\n",
      "2   '192.168.23.206'   'atuks'  2023-07-19 18:01:42  2023-07-19 18:01:42\n",
      "3   '192.168.23.215'       NaN  2023-07-19 18:01:42  2023-07-19 18:01:42\n",
      "4   '192.168.23.227'       NaN  2023-07-19 18:01:42  2023-07-19 18:01:42\n",
      "5     '192.168.9.57'       NaN  2023-07-19 18:01:42  2023-07-19 18:01:42\n",
      "6   '192.168.23.222'       NaN  2023-07-19 18:01:42  2023-07-19 18:01:42\n",
      "7   '192.168.23.229'       NaN  2023-07-19 18:01:42  2023-07-19 18:01:42\n",
      "8   '192.168.23.132'       NaN  2023-07-19 18:01:42  2023-07-19 18:01:42\n",
      "9   '192.168.23.160'       NaN  2023-07-19 18:01:42  2023-07-19 18:01:42\n"
     ]
    },
    {
     "name": "stderr",
     "output_type": "stream",
     "text": [
      "/tmp/ipykernel_85037/684450496.py:2: UserWarning: pandas only supports SQLAlchemy connectable (engine/connection) or database string URI or sqlite3 DBAPI2 connection. Other DBAPI2 objects are not tested. Please consider using SQLAlchemy.\n",
      "  data=pd.read_sql('''select * from Rule_LightWeightlist_new''',db)\n",
      "/tmp/ipykernel_85037/684450496.py:4: UserWarning: pandas only supports SQLAlchemy connectable (engine/connection) or database string URI or sqlite3 DBAPI2 connection. Other DBAPI2 objects are not tested. Please consider using SQLAlchemy.\n",
      "  data=pd.read_sql('''select ColumnName,ColumnValue,Insert_time , Modified_time from Rule_LightWeightlist_new''',db)\n"
     ]
    }
   ],
   "source": [
    "db=pymysql.connect(host='192.168.21.95', user='test', password='Sattrix@123', database='Trainings')\n",
    "data=pd.read_sql('''select * from Rule_LightWeightlist_new''',db)\n",
    "# print(data['ColumnValue'])\n",
    "data=pd.read_sql('''select ColumnName,ColumnValue,Insert_time , Modified_time from Rule_LightWeightlist_new''',db)\n",
    "df=data.iloc[0,1]\n",
    "v=df.strip('[,]')\n",
    "l=data.iloc[1,1]\n",
    "m=l.strip('[,]')\n",
    "g=m.split(',')\n",
    "r=v.split(',')\n",
    "s=pd.DataFrame({'Ip':r})\n",
    "k=pd.DataFrame({'name':g})\n",
    "# ab=data.iloc[0,2]\n",
    "sa=data['Insert_time']\n",
    "vc=pd.DataFrame(sa)\n",
    "p=pd.DataFrame(vc)\n",
    "aa=data['Modified_time']\n",
    "ac=pd.DataFrame(aa)\n",
    "z=pd.DataFrame(ac)\n",
    "\n",
    "fd=pd.concat([s,k,p,z],axis=1)\n",
    "fd['Insert_time'].fillna(fd.loc[0,'Insert_time'],inplace=True)\n",
    "fd['Modified_time'].fillna(fd.loc[0,'Modified_time'],inplace=True)\n",
    "\n",
    "print(fd)"
   ]
  },
  {
   "cell_type": "code",
   "execution_count": 373,
   "id": "0b5f4a8d",
   "metadata": {},
   "outputs": [
    {
     "name": "stderr",
     "output_type": "stream",
     "text": [
      "/tmp/ipykernel_85037/1033624282.py:2: UserWarning: pandas only supports SQLAlchemy connectable (engine/connection) or database string URI or sqlite3 DBAPI2 connection. Other DBAPI2 objects are not tested. Please consider using SQLAlchemy.\n",
      "  data=pd.read_sql('''select * from Rule_LightWeightlist_new''',db)\n",
      "/tmp/ipykernel_85037/1033624282.py:4: UserWarning: pandas only supports SQLAlchemy connectable (engine/connection) or database string URI or sqlite3 DBAPI2 connection. Other DBAPI2 objects are not tested. Please consider using SQLAlchemy.\n",
      "  data=pd.read_sql('''select ColumnName,ColumnValue,Insert_time , Modified_time from Rule_LightWeightlist_new''',db)\n"
     ]
    },
    {
     "data": {
      "text/html": [
       "<div>\n",
       "<style scoped>\n",
       "    .dataframe tbody tr th:only-of-type {\n",
       "        vertical-align: middle;\n",
       "    }\n",
       "\n",
       "    .dataframe tbody tr th {\n",
       "        vertical-align: top;\n",
       "    }\n",
       "\n",
       "    .dataframe thead th {\n",
       "        text-align: right;\n",
       "    }\n",
       "</style>\n",
       "<table border=\"1\" class=\"dataframe\">\n",
       "  <thead>\n",
       "    <tr style=\"text-align: right;\">\n",
       "      <th></th>\n",
       "      <th>Ip</th>\n",
       "      <th>name</th>\n",
       "      <th>Insert_time</th>\n",
       "      <th>Modified_time</th>\n",
       "    </tr>\n",
       "  </thead>\n",
       "  <tbody>\n",
       "    <tr>\n",
       "      <th>0</th>\n",
       "      <td>'192.168.23.179'</td>\n",
       "      <td>'tes'</td>\n",
       "      <td>2023-07-19 18:01:42</td>\n",
       "      <td>2023-07-19 18:01:42</td>\n",
       "    </tr>\n",
       "    <tr>\n",
       "      <th>1</th>\n",
       "      <td>'192.168.23.180'</td>\n",
       "      <td>'user'</td>\n",
       "      <td>2023-07-19 18:01:42</td>\n",
       "      <td>2023-07-19 18:01:42</td>\n",
       "    </tr>\n",
       "    <tr>\n",
       "      <th>2</th>\n",
       "      <td>'192.168.23.206'</td>\n",
       "      <td>'atuks'</td>\n",
       "      <td>2023-07-19 18:01:42</td>\n",
       "      <td>2023-07-19 18:01:42</td>\n",
       "    </tr>\n",
       "    <tr>\n",
       "      <th>3</th>\n",
       "      <td>'192.168.23.215'</td>\n",
       "      <td>NaN</td>\n",
       "      <td>2023-07-19 18:01:42</td>\n",
       "      <td>2023-07-19 18:01:42</td>\n",
       "    </tr>\n",
       "    <tr>\n",
       "      <th>4</th>\n",
       "      <td>'192.168.23.227'</td>\n",
       "      <td>NaN</td>\n",
       "      <td>2023-07-19 18:01:42</td>\n",
       "      <td>2023-07-19 18:01:42</td>\n",
       "    </tr>\n",
       "    <tr>\n",
       "      <th>5</th>\n",
       "      <td>'192.168.9.57'</td>\n",
       "      <td>NaN</td>\n",
       "      <td>2023-07-19 18:01:42</td>\n",
       "      <td>2023-07-19 18:01:42</td>\n",
       "    </tr>\n",
       "    <tr>\n",
       "      <th>6</th>\n",
       "      <td>'192.168.23.222'</td>\n",
       "      <td>NaN</td>\n",
       "      <td>2023-07-19 18:01:42</td>\n",
       "      <td>2023-07-19 18:01:42</td>\n",
       "    </tr>\n",
       "    <tr>\n",
       "      <th>7</th>\n",
       "      <td>'192.168.23.229'</td>\n",
       "      <td>NaN</td>\n",
       "      <td>2023-07-19 18:01:42</td>\n",
       "      <td>2023-07-19 18:01:42</td>\n",
       "    </tr>\n",
       "    <tr>\n",
       "      <th>8</th>\n",
       "      <td>'192.168.23.132'</td>\n",
       "      <td>NaN</td>\n",
       "      <td>2023-07-19 18:01:42</td>\n",
       "      <td>2023-07-19 18:01:42</td>\n",
       "    </tr>\n",
       "    <tr>\n",
       "      <th>9</th>\n",
       "      <td>'192.168.23.160'</td>\n",
       "      <td>NaN</td>\n",
       "      <td>2023-07-19 18:01:42</td>\n",
       "      <td>2023-07-19 18:01:42</td>\n",
       "    </tr>\n",
       "  </tbody>\n",
       "</table>\n",
       "</div>"
      ],
      "text/plain": [
       "                  Ip      name          Insert_time        Modified_time\n",
       "0   '192.168.23.179'     'tes'  2023-07-19 18:01:42  2023-07-19 18:01:42\n",
       "1   '192.168.23.180'    'user'  2023-07-19 18:01:42  2023-07-19 18:01:42\n",
       "2   '192.168.23.206'   'atuks'  2023-07-19 18:01:42  2023-07-19 18:01:42\n",
       "3   '192.168.23.215'       NaN  2023-07-19 18:01:42  2023-07-19 18:01:42\n",
       "4   '192.168.23.227'       NaN  2023-07-19 18:01:42  2023-07-19 18:01:42\n",
       "5     '192.168.9.57'       NaN  2023-07-19 18:01:42  2023-07-19 18:01:42\n",
       "6   '192.168.23.222'       NaN  2023-07-19 18:01:42  2023-07-19 18:01:42\n",
       "7   '192.168.23.229'       NaN  2023-07-19 18:01:42  2023-07-19 18:01:42\n",
       "8   '192.168.23.132'       NaN  2023-07-19 18:01:42  2023-07-19 18:01:42\n",
       "9   '192.168.23.160'       NaN  2023-07-19 18:01:42  2023-07-19 18:01:42"
      ]
     },
     "execution_count": 373,
     "metadata": {},
     "output_type": "execute_result"
    }
   ],
   "source": [
    "db=pymysql.connect(host='192.168.21.95', user='test', password='Sattrix@123', database='Trainings')\n",
    "data=pd.read_sql('''select * from Rule_LightWeightlist_new''',db)\n",
    "# print(data['ColumnValue'])\n",
    "data=pd.read_sql('''select ColumnName,ColumnValue,Insert_time , Modified_time from Rule_LightWeightlist_new''',db)\n",
    "df=data.iloc[0,1]\n",
    "v=df.strip('[,]')\n",
    "l=data.iloc[1,1]\n",
    "m=l.strip('[,]')\n",
    "g=m.split(',')\n",
    "r=v.split(',')\n",
    "s=pd.DataFrame({'Ip':r})\n",
    "k=pd.DataFrame({'name':g})\n",
    "# ab=data.iloc[0,2]\n",
    "sa=data['Insert_time']\n",
    "vc=pd.DataFrame(sa)\n",
    "p=pd.DataFrame(vc)\n",
    "aa=data['Modified_time']\n",
    "ac=pd.DataFrame(aa)\n",
    "z=pd.DataFrame(ac)\n",
    "\n",
    "fd=pd.concat([s,k,p,z],axis=1)\n",
    "fd['Insert_time'].fillna(fd.loc[0,'Insert_time'],inplace=True)\n",
    "fd['Modified_time'].fillna(fd.loc[0,'Modified_time'],inplace=True)\n",
    "\n",
    "fd"
   ]
  },
  {
   "cell_type": "code",
   "execution_count": null,
   "id": "d84e0aa5",
   "metadata": {},
   "outputs": [],
   "source": []
  }
 ],
 "metadata": {
  "kernelspec": {
   "display_name": "Python 3 (ipykernel)",
   "language": "python",
   "name": "python3"
  },
  "language_info": {
   "codemirror_mode": {
    "name": "ipython",
    "version": 3
   },
   "file_extension": ".py",
   "mimetype": "text/x-python",
   "name": "python",
   "nbconvert_exporter": "python",
   "pygments_lexer": "ipython3",
   "version": "3.10.6"
  }
 },
 "nbformat": 4,
 "nbformat_minor": 5
}
