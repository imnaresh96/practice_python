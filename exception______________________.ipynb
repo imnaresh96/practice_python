{
 "cells": [
  {
   "cell_type": "code",
   "execution_count": 1,
   "id": "19295e02",
   "metadata": {},
   "outputs": [
    {
     "name": "stdout",
     "output_type": "stream",
     "text": [
      "before\n"
     ]
    },
    {
     "ename": "NameError",
     "evalue": "name 'address' is not defined",
     "output_type": "error",
     "traceback": [
      "\u001b[1;31m---------------------------------------------------------------------------\u001b[0m",
      "\u001b[1;31mNameError\u001b[0m                                 Traceback (most recent call last)",
      "Input \u001b[1;32mIn [1]\u001b[0m, in \u001b[0;36m<cell line: 2>\u001b[1;34m()\u001b[0m\n\u001b[0;32m      1\u001b[0m \u001b[38;5;28mprint\u001b[39m(\u001b[38;5;124m'\u001b[39m\u001b[38;5;124mbefore\u001b[39m\u001b[38;5;124m'\u001b[39m)\n\u001b[1;32m----> 2\u001b[0m \u001b[38;5;28mprint\u001b[39m(\u001b[43maddress\u001b[49m)\n\u001b[0;32m      3\u001b[0m \u001b[38;5;28mprint\u001b[39m(\u001b[38;5;124m'\u001b[39m\u001b[38;5;124mafter\u001b[39m\u001b[38;5;124m'\u001b[39m)\n",
      "\u001b[1;31mNameError\u001b[0m: name 'address' is not defined"
     ]
    }
   ],
   "source": [
    "print('before')\n",
    "print(address)\n",
    "print('after')"
   ]
  },
  {
   "cell_type": "code",
   "execution_count": 3,
   "id": "872f83fd",
   "metadata": {},
   "outputs": [
    {
     "name": "stdout",
     "output_type": "stream",
     "text": [
      "before\n",
      "something went wrong\n",
      "after\n"
     ]
    }
   ],
   "source": [
    "print('before')\n",
    "try:\n",
    "    print(address)\n",
    "except:\n",
    "    print('something went wrong')\n",
    "print('after')"
   ]
  },
  {
   "cell_type": "code",
   "execution_count": 5,
   "id": "3deda1df",
   "metadata": {},
   "outputs": [
    {
     "name": "stdout",
     "output_type": "stream",
     "text": [
      "division by zero\n"
     ]
    }
   ],
   "source": [
    "try:\n",
    "    print(50/0)\n",
    "except Exception as err:\n",
    "    print(err)"
   ]
  },
  {
   "cell_type": "code",
   "execution_count": 11,
   "id": "c66cbcb4",
   "metadata": {},
   "outputs": [
    {
     "name": "stdout",
     "output_type": "stream",
     "text": [
      "nishad\n",
      "division by zero\n"
     ]
    }
   ],
   "source": [
    "try:\n",
    "    a='nishad'\n",
    "    print(a)\n",
    "    print(50/0)\n",
    "except IndexError as err:\n",
    "    print(err)\n",
    "except ZeroDivisionError as err:\n",
    "    print(err)"
   ]
  },
  {
   "cell_type": "code",
   "execution_count": 14,
   "id": "362f2231",
   "metadata": {},
   "outputs": [
    {
     "name": "stdout",
     "output_type": "stream",
     "text": [
      "name 'rahul' is not defined\n"
     ]
    }
   ],
   "source": [
    "try:\n",
    "    a='nishad'\n",
    "    print(rahul)\n",
    "except(NameError, IndexError, ZeroDivisionError) as err:\n",
    "    print(err)"
   ]
  },
  {
   "cell_type": "code",
   "execution_count": 15,
   "id": "18690d61",
   "metadata": {},
   "outputs": [
    {
     "name": "stdout",
     "output_type": "stream",
     "text": [
      "name 'r' is not defined\n",
      "done\n"
     ]
    }
   ],
   "source": [
    "try:\n",
    "    print(r)\n",
    "except Exception as err:\n",
    "    print(err)\n",
    "finally: \n",
    "    print('done')"
   ]
  },
  {
   "cell_type": "code",
   "execution_count": 17,
   "id": "a7fc4144",
   "metadata": {},
   "outputs": [
    {
     "ename": "Exception",
     "evalue": "auto raise",
     "output_type": "error",
     "traceback": [
      "\u001b[1;31m---------------------------------------------------------------------------\u001b[0m",
      "\u001b[1;31mException\u001b[0m                                 Traceback (most recent call last)",
      "Input \u001b[1;32mIn [17]\u001b[0m, in \u001b[0;36m<cell line: 1>\u001b[1;34m()\u001b[0m\n\u001b[1;32m----> 1\u001b[0m \u001b[38;5;28;01mraise\u001b[39;00m \u001b[38;5;167;01mException\u001b[39;00m(\u001b[38;5;124m'\u001b[39m\u001b[38;5;124mauto raise\u001b[39m\u001b[38;5;124m'\u001b[39m)\n",
      "\u001b[1;31mException\u001b[0m: auto raise"
     ]
    }
   ],
   "source": [
    "raise Exception('auto raise')"
   ]
  },
  {
   "cell_type": "code",
   "execution_count": 18,
   "id": "3b9ee479",
   "metadata": {},
   "outputs": [
    {
     "ename": "ValueError",
     "evalue": "data not found",
     "output_type": "error",
     "traceback": [
      "\u001b[1;31m---------------------------------------------------------------------------\u001b[0m",
      "\u001b[1;31mValueError\u001b[0m                                Traceback (most recent call last)",
      "Input \u001b[1;32mIn [18]\u001b[0m, in \u001b[0;36m<cell line: 1>\u001b[1;34m()\u001b[0m\n\u001b[1;32m----> 1\u001b[0m \u001b[38;5;28;01mraise\u001b[39;00m \u001b[38;5;167;01mValueError\u001b[39;00m(\u001b[38;5;124m'\u001b[39m\u001b[38;5;124mdata not found\u001b[39m\u001b[38;5;124m'\u001b[39m)\n",
      "\u001b[1;31mValueError\u001b[0m: data not found"
     ]
    }
   ],
   "source": [
    "raise ValueError('data not found')"
   ]
  },
  {
   "cell_type": "code",
   "execution_count": 25,
   "id": "8033b535",
   "metadata": {},
   "outputs": [
    {
     "name": "stdout",
     "output_type": "stream",
     "text": [
      "Enter Your Age: 17.5\n"
     ]
    },
    {
     "ename": "Exception",
     "evalue": "Enter Only Numeric Value",
     "output_type": "error",
     "traceback": [
      "\u001b[1;31m---------------------------------------------------------------------------\u001b[0m",
      "\u001b[1;31mException\u001b[0m                                 Traceback (most recent call last)",
      "Input \u001b[1;32mIn [25]\u001b[0m, in \u001b[0;36m<cell line: 2>\u001b[1;34m()\u001b[0m\n\u001b[0;32m      6\u001b[0m         \u001b[38;5;28;01mraise\u001b[39;00m \u001b[38;5;167;01mException\u001b[39;00m (\u001b[38;5;124m'\u001b[39m\u001b[38;5;124mnot eligible\u001b[39m\u001b[38;5;124m'\u001b[39m)\n\u001b[0;32m      7\u001b[0m \u001b[38;5;28;01melse\u001b[39;00m:\n\u001b[1;32m----> 8\u001b[0m     \u001b[38;5;28;01mraise\u001b[39;00m \u001b[38;5;167;01mException\u001b[39;00m(\u001b[38;5;124m'\u001b[39m\u001b[38;5;124mEnter Only Numeric Value\u001b[39m\u001b[38;5;124m'\u001b[39m)\n",
      "\u001b[1;31mException\u001b[0m: Enter Only Numeric Value"
     ]
    }
   ],
   "source": [
    "age=input('Enter Your Age: ')\n",
    "if age.isnumeric():\n",
    "    if int(age)>=18:\n",
    "        print('eligible')\n",
    "    else:\n",
    "        raise Exception ('not eligible')\n",
    "else:\n",
    "    raise Exception('Enter Only Numeric Value')"
   ]
  },
  {
   "cell_type": "code",
   "execution_count": 26,
   "id": "e720552c",
   "metadata": {},
   "outputs": [
    {
     "ename": "AssertionError",
     "evalue": "triggerd",
     "output_type": "error",
     "traceback": [
      "\u001b[1;31m---------------------------------------------------------------------------\u001b[0m",
      "\u001b[1;31mAssertionError\u001b[0m                            Traceback (most recent call last)",
      "Input \u001b[1;32mIn [26]\u001b[0m, in \u001b[0;36m<cell line: 1>\u001b[1;34m()\u001b[0m\n\u001b[1;32m----> 1\u001b[0m \u001b[38;5;28;01massert\u001b[39;00m \u001b[38;5;28;01mFalse\u001b[39;00m, \u001b[38;5;124m'\u001b[39m\u001b[38;5;124mtriggerd\u001b[39m\u001b[38;5;124m'\u001b[39m\n",
      "\u001b[1;31mAssertionError\u001b[0m: triggerd"
     ]
    }
   ],
   "source": [
    "assert False, 'triggerd'"
   ]
  },
  {
   "cell_type": "code",
   "execution_count": 34,
   "id": "e3c95332",
   "metadata": {},
   "outputs": [
    {
     "name": "stdout",
     "output_type": "stream",
     "text": [
      "Enter Your Age: fg\n"
     ]
    },
    {
     "ename": "AssertionError",
     "evalue": "Enter Only Numerical Value",
     "output_type": "error",
     "traceback": [
      "\u001b[1;31m---------------------------------------------------------------------------\u001b[0m",
      "\u001b[1;31mAssertionError\u001b[0m                            Traceback (most recent call last)",
      "Input \u001b[1;32mIn [34]\u001b[0m, in \u001b[0;36m<cell line: 2>\u001b[1;34m()\u001b[0m\n\u001b[0;32m      1\u001b[0m age\u001b[38;5;241m=\u001b[39m\u001b[38;5;28minput\u001b[39m(\u001b[38;5;124m'\u001b[39m\u001b[38;5;124mEnter Your Age: \u001b[39m\u001b[38;5;124m'\u001b[39m)\n\u001b[1;32m----> 2\u001b[0m \u001b[38;5;28;01massert\u001b[39;00m age\u001b[38;5;241m.\u001b[39misnumeric(), \u001b[38;5;124m'\u001b[39m\u001b[38;5;124mEnter Only Numerical Value\u001b[39m\u001b[38;5;124m'\u001b[39m\n\u001b[0;32m      3\u001b[0m \u001b[38;5;28;01massert\u001b[39;00m \u001b[38;5;28mint\u001b[39m(age)\u001b[38;5;241m>\u001b[39m\u001b[38;5;241m=\u001b[39m\u001b[38;5;241m18\u001b[39m, \u001b[38;5;124m'\u001b[39m\u001b[38;5;124mnot eligible\u001b[39m\u001b[38;5;124m'\u001b[39m\n\u001b[0;32m      4\u001b[0m \u001b[38;5;28mprint\u001b[39m(\u001b[38;5;124m'\u001b[39m\u001b[38;5;124meligible\u001b[39m\u001b[38;5;124m'\u001b[39m)\n",
      "\u001b[1;31mAssertionError\u001b[0m: Enter Only Numerical Value"
     ]
    }
   ],
   "source": [
    "age=input('Enter Your Age: ')\n",
    "assert age.isnumeric(), 'Enter Only Numerical Value'\n",
    "assert int(age)>=18, 'not eligible'\n",
    "print('eligible')"
   ]
  },
  {
   "cell_type": "code",
   "execution_count": 36,
   "id": "1f256268",
   "metadata": {},
   "outputs": [
    {
     "name": "stdout",
     "output_type": "stream",
     "text": [
      "Enter Your Age: h\n",
      "Enter Only Numerical Value\n"
     ]
    }
   ],
   "source": [
    "age=input('Enter Your Age: ')\n",
    "try:\n",
    "    assert age.isnumeric(), 'Enter Only Numerical Value'\n",
    "    assert int(age)>=18, 'not eligible'\n",
    "    print('eligible')\n",
    "except Exception as err:\n",
    "    print(err)"
   ]
  },
  {
   "cell_type": "code",
   "execution_count": null,
   "id": "b2e630f7",
   "metadata": {},
   "outputs": [],
   "source": []
  }
 ],
 "metadata": {
  "kernelspec": {
   "display_name": "Python 3 (ipykernel)",
   "language": "python",
   "name": "python3"
  },
  "language_info": {
   "codemirror_mode": {
    "name": "ipython",
    "version": 3
   },
   "file_extension": ".py",
   "mimetype": "text/x-python",
   "name": "python",
   "nbconvert_exporter": "python",
   "pygments_lexer": "ipython3",
   "version": "3.9.12"
  }
 },
 "nbformat": 4,
 "nbformat_minor": 5
}
