{
 "cells": [
  {
   "cell_type": "code",
   "execution_count": 1,
   "id": "a6603976",
   "metadata": {},
   "outputs": [
    {
     "name": "stdout",
     "output_type": "stream",
     "text": [
      "Enter a number: 52\n",
      "the factorial of 52 is 80658175170943878571660636856403766975289505440883277824000000000000\n"
     ]
    }
   ],
   "source": [
    "num=int(input('Enter a number: '))\n",
    "factorial=1\n",
    "if num<0:\n",
    "  print(\"sorry factorial does not exits for nagetive number\")\n",
    "elif num==0:\n",
    "  print(\"the factorial of 0 is 1\")\n",
    "else:\n",
    "  for i in range(1, num+1):\n",
    "    factorial = factorial*i\n",
    "  print(\"the factorial of\",num,\"is\",factorial)"
   ]
  },
  {
   "cell_type": "code",
   "execution_count": null,
   "id": "1134ab64",
   "metadata": {},
   "outputs": [],
   "source": []
  }
 ],
 "metadata": {
  "kernelspec": {
   "display_name": "Python 3 (ipykernel)",
   "language": "python",
   "name": "python3"
  },
  "language_info": {
   "codemirror_mode": {
    "name": "ipython",
    "version": 3
   },
   "file_extension": ".py",
   "mimetype": "text/x-python",
   "name": "python",
   "nbconvert_exporter": "python",
   "pygments_lexer": "ipython3",
   "version": "3.9.12"
  }
 },
 "nbformat": 4,
 "nbformat_minor": 5
}
