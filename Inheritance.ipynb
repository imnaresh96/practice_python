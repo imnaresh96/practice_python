{
 "cells": [
  {
   "cell_type": "code",
   "execution_count": 5,
   "id": "1db830b5",
   "metadata": {},
   "outputs": [],
   "source": [
    "class Father:\n",
    "    def Lands(self):\n",
    "        print(\"50 Ekar Lands\")\n",
    "\n",
    "class Son(Father):\n",
    "    def Money(self):\n",
    "        print(\"50 Lac\")\n",
    "    \n",
    "    "
   ]
  },
  {
   "cell_type": "code",
   "execution_count": 6,
   "id": "c60d34e6",
   "metadata": {},
   "outputs": [],
   "source": [
    "s=Son() #Object "
   ]
  },
  {
   "cell_type": "code",
   "execution_count": 7,
   "id": "f9c2f643",
   "metadata": {},
   "outputs": [
    {
     "name": "stdout",
     "output_type": "stream",
     "text": [
      "50 Ekar Lands\n"
     ]
    }
   ],
   "source": [
    "s.Lands() #calling parent class's function/method with Object"
   ]
  },
  {
   "cell_type": "code",
   "execution_count": 9,
   "id": "4f6fad94",
   "metadata": {},
   "outputs": [
    {
     "name": "stdout",
     "output_type": "stream",
     "text": [
      "50 Lac\n"
     ]
    }
   ],
   "source": [
    "s.Money() #calling child class's function/method with object"
   ]
  },
  {
   "cell_type": "code",
   "execution_count": 11,
   "id": "a48d1c7e",
   "metadata": {},
   "outputs": [
    {
     "ename": "TypeError",
     "evalue": "Money() missing 1 required positional argument: 'self'",
     "output_type": "error",
     "traceback": [
      "\u001b[1;31m---------------------------------------------------------------------------\u001b[0m",
      "\u001b[1;31mTypeError\u001b[0m                                 Traceback (most recent call last)",
      "Input \u001b[1;32mIn [11]\u001b[0m, in \u001b[0;36m<cell line: 1>\u001b[1;34m()\u001b[0m\n\u001b[1;32m----> 1\u001b[0m \u001b[43mSon\u001b[49m\u001b[38;5;241;43m.\u001b[39;49m\u001b[43mMoney\u001b[49m\u001b[43m(\u001b[49m\u001b[43m)\u001b[49m\n",
      "\u001b[1;31mTypeError\u001b[0m: Money() missing 1 required positional argument: 'self'"
     ]
    }
   ],
   "source": [
    "Son.Money()"
   ]
  },
  {
   "cell_type": "code",
   "execution_count": 14,
   "id": "c9fffc44",
   "metadata": {},
   "outputs": [
    {
     "ename": "NameError",
     "evalue": "name 'self' is not defined",
     "output_type": "error",
     "traceback": [
      "\u001b[1;31m---------------------------------------------------------------------------\u001b[0m",
      "\u001b[1;31mNameError\u001b[0m                                 Traceback (most recent call last)",
      "Input \u001b[1;32mIn [14]\u001b[0m, in \u001b[0;36m<cell line: 1>\u001b[1;34m()\u001b[0m\n\u001b[1;32m----> 1\u001b[0m Father\u001b[38;5;241m.\u001b[39mLands(\u001b[38;5;28;43mself\u001b[39;49m)\n",
      "\u001b[1;31mNameError\u001b[0m: name 'self' is not defined"
     ]
    }
   ],
   "source": [
    "Father.Lands()"
   ]
  },
  {
   "cell_type": "code",
   "execution_count": 15,
   "id": "cf51c996",
   "metadata": {},
   "outputs": [],
   "source": [
    "#Single Inheritance"
   ]
  },
  {
   "cell_type": "code",
   "execution_count": 16,
   "id": "39e3f90a",
   "metadata": {},
   "outputs": [
    {
     "name": "stdout",
     "output_type": "stream",
     "text": [
      "Enter First Number: 12\n",
      "Enter Second Number: 2\n"
     ]
    }
   ],
   "source": [
    "class A:\n",
    "    num1=int(input(\"Enter First Number: \"))\n",
    "    num2=int(input(\"Enter Second Number: \"))\n",
    "    \n",
    "    def add(self):\n",
    "        print(self.num1+self.num2)\n",
    "    def sub(self):\n",
    "        print(self.num1-self.num2)\n",
    "class B(A):\n",
    "    \n",
    "    def mul(self):\n",
    "        print(self.num1 * self.num2)\n",
    "    def div(self):\n",
    "        print(self.num1%self.num2)"
   ]
  },
  {
   "cell_type": "code",
   "execution_count": 17,
   "id": "03324476",
   "metadata": {},
   "outputs": [],
   "source": [
    "d=B()"
   ]
  },
  {
   "cell_type": "code",
   "execution_count": 18,
   "id": "147f6371",
   "metadata": {},
   "outputs": [
    {
     "name": "stdout",
     "output_type": "stream",
     "text": [
      "14\n"
     ]
    }
   ],
   "source": [
    "d.add()"
   ]
  },
  {
   "cell_type": "code",
   "execution_count": 19,
   "id": "bd712031",
   "metadata": {},
   "outputs": [
    {
     "data": {
      "text/plain": [
       "<bound method B.div of <__main__.B object at 0x0000028CA023CC40>>"
      ]
     },
     "execution_count": 19,
     "metadata": {},
     "output_type": "execute_result"
    }
   ],
   "source": [
    "d.div"
   ]
  },
  {
   "cell_type": "code",
   "execution_count": 20,
   "id": "13fe5ef2",
   "metadata": {},
   "outputs": [
    {
     "name": "stdout",
     "output_type": "stream",
     "text": [
      "0\n"
     ]
    }
   ],
   "source": [
    "d.div()"
   ]
  },
  {
   "cell_type": "code",
   "execution_count": 21,
   "id": "42819d92",
   "metadata": {},
   "outputs": [
    {
     "name": "stdout",
     "output_type": "stream",
     "text": [
      "10\n"
     ]
    }
   ],
   "source": [
    "d.sub()"
   ]
  },
  {
   "cell_type": "code",
   "execution_count": 22,
   "id": "f3057b51",
   "metadata": {},
   "outputs": [
    {
     "name": "stdout",
     "output_type": "stream",
     "text": [
      "24\n"
     ]
    }
   ],
   "source": [
    "d.mul()"
   ]
  },
  {
   "cell_type": "code",
   "execution_count": 23,
   "id": "a2dbc7b5",
   "metadata": {},
   "outputs": [],
   "source": [
    "# multilevel inheritance"
   ]
  },
  {
   "cell_type": "code",
   "execution_count": 27,
   "id": "ce5fdd3c",
   "metadata": {},
   "outputs": [],
   "source": [
    "class F:\n",
    "    surname=\"Singh\"\n",
    "class S(F):\n",
    "    def show(self):\n",
    "        print(\"Ankit\",self.surname)\n",
    "class G(S):\n",
    "    def disp(self):\n",
    "        print(\"Rahul\",self.surname)"
   ]
  },
  {
   "cell_type": "code",
   "execution_count": 28,
   "id": "e34b7070",
   "metadata": {},
   "outputs": [],
   "source": [
    "s=S()"
   ]
  },
  {
   "cell_type": "code",
   "execution_count": 29,
   "id": "f26ce4ab",
   "metadata": {},
   "outputs": [
    {
     "name": "stdout",
     "output_type": "stream",
     "text": [
      "Ankit Singh\n"
     ]
    }
   ],
   "source": [
    "s.show()"
   ]
  },
  {
   "cell_type": "code",
   "execution_count": 30,
   "id": "ca0a775d",
   "metadata": {},
   "outputs": [],
   "source": [
    "g=G()"
   ]
  },
  {
   "cell_type": "code",
   "execution_count": 31,
   "id": "07ff3716",
   "metadata": {},
   "outputs": [
    {
     "name": "stdout",
     "output_type": "stream",
     "text": [
      "Rahul Singh\n"
     ]
    }
   ],
   "source": [
    "g.disp()"
   ]
  },
  {
   "cell_type": "code",
   "execution_count": null,
   "id": "376ecf7e",
   "metadata": {},
   "outputs": [],
   "source": []
  }
 ],
 "metadata": {
  "kernelspec": {
   "display_name": "Python 3 (ipykernel)",
   "language": "python",
   "name": "python3"
  },
  "language_info": {
   "codemirror_mode": {
    "name": "ipython",
    "version": 3
   },
   "file_extension": ".py",
   "mimetype": "text/x-python",
   "name": "python",
   "nbconvert_exporter": "python",
   "pygments_lexer": "ipython3",
   "version": "3.9.12"
  }
 },
 "nbformat": 4,
 "nbformat_minor": 5
}
