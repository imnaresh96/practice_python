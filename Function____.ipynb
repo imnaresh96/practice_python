{
 "cells": [
  {
   "cell_type": "code",
   "execution_count": 1,
   "id": "56b406ee",
   "metadata": {},
   "outputs": [],
   "source": [
    "def hello():\n",
    "    print('Hello')"
   ]
  },
  {
   "cell_type": "code",
   "execution_count": 2,
   "id": "0f9f0a6d",
   "metadata": {},
   "outputs": [
    {
     "name": "stdout",
     "output_type": "stream",
     "text": [
      "Hello\n"
     ]
    }
   ],
   "source": [
    "hello()"
   ]
  },
  {
   "cell_type": "code",
   "execution_count": 3,
   "id": "ae196cd9",
   "metadata": {},
   "outputs": [
    {
     "name": "stdout",
     "output_type": "stream",
     "text": [
      "Hello\n"
     ]
    }
   ],
   "source": [
    "d=hello()"
   ]
  },
  {
   "cell_type": "code",
   "execution_count": 4,
   "id": "5de93768",
   "metadata": {},
   "outputs": [],
   "source": [
    "d"
   ]
  },
  {
   "cell_type": "code",
   "execution_count": 5,
   "id": "fee1e51b",
   "metadata": {},
   "outputs": [
    {
     "data": {
      "text/plain": [
       "NoneType"
      ]
     },
     "execution_count": 5,
     "metadata": {},
     "output_type": "execute_result"
    }
   ],
   "source": [
    "type(d)"
   ]
  },
  {
   "cell_type": "code",
   "execution_count": 6,
   "id": "dfc8d1b5",
   "metadata": {},
   "outputs": [],
   "source": [
    "def nk():\n",
    "    return 'Hello'"
   ]
  },
  {
   "cell_type": "code",
   "execution_count": 7,
   "id": "5634b9c0",
   "metadata": {},
   "outputs": [],
   "source": [
    "d=nk()"
   ]
  },
  {
   "cell_type": "code",
   "execution_count": 8,
   "id": "da0791f9",
   "metadata": {},
   "outputs": [
    {
     "data": {
      "text/plain": [
       "str"
      ]
     },
     "execution_count": 8,
     "metadata": {},
     "output_type": "execute_result"
    }
   ],
   "source": [
    "type(d)"
   ]
  },
  {
   "cell_type": "code",
   "execution_count": 9,
   "id": "a0fe4eee",
   "metadata": {},
   "outputs": [
    {
     "data": {
      "text/plain": [
       "'Hello'"
      ]
     },
     "execution_count": 9,
     "metadata": {},
     "output_type": "execute_result"
    }
   ],
   "source": [
    "d"
   ]
  },
  {
   "cell_type": "code",
   "execution_count": 10,
   "id": "75765e69",
   "metadata": {},
   "outputs": [],
   "source": [
    "#function argument"
   ]
  },
  {
   "cell_type": "code",
   "execution_count": 11,
   "id": "08178f38",
   "metadata": {},
   "outputs": [],
   "source": [
    "def add(x):\n",
    "    x+=5\n",
    "    return x\n",
    "    "
   ]
  },
  {
   "cell_type": "code",
   "execution_count": 12,
   "id": "2a423509",
   "metadata": {},
   "outputs": [
    {
     "ename": "TypeError",
     "evalue": "add() missing 1 required positional argument: 'x'",
     "output_type": "error",
     "traceback": [
      "\u001b[1;31m---------------------------------------------------------------------------\u001b[0m",
      "\u001b[1;31mTypeError\u001b[0m                                 Traceback (most recent call last)",
      "Input \u001b[1;32mIn [12]\u001b[0m, in \u001b[0;36m<cell line: 1>\u001b[1;34m()\u001b[0m\n\u001b[1;32m----> 1\u001b[0m \u001b[43madd\u001b[49m\u001b[43m(\u001b[49m\u001b[43m)\u001b[49m\n",
      "\u001b[1;31mTypeError\u001b[0m: add() missing 1 required positional argument: 'x'"
     ]
    }
   ],
   "source": [
    "add()"
   ]
  },
  {
   "cell_type": "code",
   "execution_count": 13,
   "id": "1198020c",
   "metadata": {},
   "outputs": [
    {
     "data": {
      "text/plain": [
       "10"
      ]
     },
     "execution_count": 13,
     "metadata": {},
     "output_type": "execute_result"
    }
   ],
   "source": [
    "add(5)"
   ]
  },
  {
   "cell_type": "code",
   "execution_count": 18,
   "id": "eeaea475",
   "metadata": {},
   "outputs": [],
   "source": [
    "def addition(x,y):\n",
    "    return x+y"
   ]
  },
  {
   "cell_type": "code",
   "execution_count": 19,
   "id": "ed0690a4",
   "metadata": {},
   "outputs": [
    {
     "data": {
      "text/plain": [
       "9"
      ]
     },
     "execution_count": 19,
     "metadata": {},
     "output_type": "execute_result"
    }
   ],
   "source": [
    "addition(5,4)"
   ]
  },
  {
   "cell_type": "code",
   "execution_count": 21,
   "id": "16ebc2df",
   "metadata": {},
   "outputs": [],
   "source": [
    "# positional argument\n",
    "def info(name,place):\n",
    "    return f\"Hello {name}! You Are From {place}\""
   ]
  },
  {
   "cell_type": "code",
   "execution_count": 22,
   "id": "c77b4a7f",
   "metadata": {},
   "outputs": [
    {
     "data": {
      "text/plain": [
       "'Hello Naresh! You Are From Rani'"
      ]
     },
     "execution_count": 22,
     "metadata": {},
     "output_type": "execute_result"
    }
   ],
   "source": [
    "info('Naresh', 'Rani')"
   ]
  },
  {
   "cell_type": "code",
   "execution_count": 23,
   "id": "e5d53a61",
   "metadata": {},
   "outputs": [
    {
     "data": {
      "text/plain": [
       "'Hello Rani! You Are From Naresh'"
      ]
     },
     "execution_count": 23,
     "metadata": {},
     "output_type": "execute_result"
    }
   ],
   "source": [
    "info('Rani','Naresh')"
   ]
  },
  {
   "cell_type": "code",
   "execution_count": 24,
   "id": "8fb80c20",
   "metadata": {},
   "outputs": [],
   "source": [
    "# default argument\n",
    "def inf(name,place=None):\n",
    "    return f\"Hello {name}! You Are From {place}\""
   ]
  },
  {
   "cell_type": "code",
   "execution_count": 25,
   "id": "e0176643",
   "metadata": {},
   "outputs": [
    {
     "data": {
      "text/plain": [
       "'Hello Naresh! You Are From None'"
      ]
     },
     "execution_count": 25,
     "metadata": {},
     "output_type": "execute_result"
    }
   ],
   "source": [
    "inf('Naresh')"
   ]
  },
  {
   "cell_type": "code",
   "execution_count": 26,
   "id": "08a963a1",
   "metadata": {},
   "outputs": [
    {
     "data": {
      "text/plain": [
       "'Hello Naresh Kumar! You Are From Rani'"
      ]
     },
     "execution_count": 26,
     "metadata": {},
     "output_type": "execute_result"
    }
   ],
   "source": [
    "info('Naresh Kumar','Rani')"
   ]
  },
  {
   "cell_type": "code",
   "execution_count": 27,
   "id": "6e353272",
   "metadata": {},
   "outputs": [],
   "source": [
    "# keyword argument"
   ]
  },
  {
   "cell_type": "code",
   "execution_count": 28,
   "id": "afef558f",
   "metadata": {},
   "outputs": [
    {
     "data": {
      "text/plain": [
       "'Hello Naresh kumar! You Are From Pali'"
      ]
     },
     "execution_count": 28,
     "metadata": {},
     "output_type": "execute_result"
    }
   ],
   "source": [
    "info(place='Pali', name='Naresh kumar')"
   ]
  },
  {
   "cell_type": "code",
   "execution_count": 29,
   "id": "dc9abf02",
   "metadata": {},
   "outputs": [],
   "source": [
    "# arbitrary argument list"
   ]
  },
  {
   "cell_type": "code",
   "execution_count": 30,
   "id": "48659255",
   "metadata": {},
   "outputs": [],
   "source": [
    "def add(*number):\n",
    "    s=0\n",
    "    for i in number:\n",
    "        s+=i\n",
    "    return s"
   ]
  },
  {
   "cell_type": "code",
   "execution_count": 31,
   "id": "88907536",
   "metadata": {},
   "outputs": [
    {
     "data": {
      "text/plain": [
       "79"
      ]
     },
     "execution_count": 31,
     "metadata": {},
     "output_type": "execute_result"
    }
   ],
   "source": [
    "add(5,4,65,5)"
   ]
  },
  {
   "cell_type": "code",
   "execution_count": 32,
   "id": "f58def8b",
   "metadata": {},
   "outputs": [],
   "source": [
    "# arbitrary keyword argument list"
   ]
  },
  {
   "cell_type": "code",
   "execution_count": 33,
   "id": "5a7a6797",
   "metadata": {},
   "outputs": [],
   "source": [
    "def info(**mamber):\n",
    "    return mamber"
   ]
  },
  {
   "cell_type": "code",
   "execution_count": 34,
   "id": "d59e221a",
   "metadata": {},
   "outputs": [
    {
     "data": {
      "text/plain": [
       "{'name': 'naresh', 'Language': 'python', 'address': 'Rani'}"
      ]
     },
     "execution_count": 34,
     "metadata": {},
     "output_type": "execute_result"
    }
   ],
   "source": [
    "info(name='naresh', Language='python', address='Rani')"
   ]
  },
  {
   "cell_type": "code",
   "execution_count": 35,
   "id": "1edf2ab4",
   "metadata": {},
   "outputs": [],
   "source": [
    "isEven= lambda x: x/2==0"
   ]
  },
  {
   "cell_type": "code",
   "execution_count": 36,
   "id": "847d8f1d",
   "metadata": {},
   "outputs": [
    {
     "data": {
      "text/plain": [
       "False"
      ]
     },
     "execution_count": 36,
     "metadata": {},
     "output_type": "execute_result"
    }
   ],
   "source": [
    "isEven(6)"
   ]
  },
  {
   "cell_type": "code",
   "execution_count": 37,
   "id": "b2495bc1",
   "metadata": {},
   "outputs": [
    {
     "data": {
      "text/plain": [
       "False"
      ]
     },
     "execution_count": 37,
     "metadata": {},
     "output_type": "execute_result"
    }
   ],
   "source": [
    "isEven(5)"
   ]
  },
  {
   "cell_type": "code",
   "execution_count": 8,
   "id": "87a18d24",
   "metadata": {},
   "outputs": [],
   "source": [
    "add= lambda x,y: x+y"
   ]
  },
  {
   "cell_type": "code",
   "execution_count": 9,
   "id": "aa62ac7b",
   "metadata": {},
   "outputs": [
    {
     "data": {
      "text/plain": [
       "13"
      ]
     },
     "execution_count": 9,
     "metadata": {},
     "output_type": "execute_result"
    }
   ],
   "source": [
    "add(5,8)"
   ]
  },
  {
   "cell_type": "code",
   "execution_count": 10,
   "id": "20116a07",
   "metadata": {},
   "outputs": [
    {
     "data": {
      "text/plain": [
       "13"
      ]
     },
     "execution_count": 10,
     "metadata": {},
     "output_type": "execute_result"
    }
   ],
   "source": [
    "add(5,8)"
   ]
  },
  {
   "cell_type": "code",
   "execution_count": 11,
   "id": "181f1cc1",
   "metadata": {},
   "outputs": [
    {
     "data": {
      "text/plain": [
       "9"
      ]
     },
     "execution_count": 11,
     "metadata": {},
     "output_type": "execute_result"
    }
   ],
   "source": [
    "add(7,2)"
   ]
  },
  {
   "cell_type": "code",
   "execution_count": 12,
   "id": "07ed3b3f",
   "metadata": {},
   "outputs": [
    {
     "name": "stdout",
     "output_type": "stream",
     "text": [
      "38\n"
     ]
    }
   ],
   "source": [
    "print(add(8,add(22,8)))"
   ]
  },
  {
   "cell_type": "code",
   "execution_count": 15,
   "id": "2f131791",
   "metadata": {},
   "outputs": [],
   "source": [
    "d=(5,)"
   ]
  },
  {
   "cell_type": "code",
   "execution_count": 16,
   "id": "f9caeed7",
   "metadata": {},
   "outputs": [
    {
     "data": {
      "text/plain": [
       "tuple"
      ]
     },
     "execution_count": 16,
     "metadata": {},
     "output_type": "execute_result"
    }
   ],
   "source": [
    "type(d)"
   ]
  },
  {
   "cell_type": "code",
   "execution_count": null,
   "id": "340b3d55",
   "metadata": {},
   "outputs": [],
   "source": []
  }
 ],
 "metadata": {
  "kernelspec": {
   "display_name": "Python 3 (ipykernel)",
   "language": "python",
   "name": "python3"
  },
  "language_info": {
   "codemirror_mode": {
    "name": "ipython",
    "version": 3
   },
   "file_extension": ".py",
   "mimetype": "text/x-python",
   "name": "python",
   "nbconvert_exporter": "python",
   "pygments_lexer": "ipython3",
   "version": "3.9.12"
  }
 },
 "nbformat": 4,
 "nbformat_minor": 5
}
