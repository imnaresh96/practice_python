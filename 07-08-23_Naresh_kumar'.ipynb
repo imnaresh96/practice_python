{
 "cells": [
  {
   "cell_type": "code",
   "execution_count": 4,
   "id": "c2abf212",
   "metadata": {},
   "outputs": [],
   "source": [
    "from smtplib import SMTP\n",
    "from email.mime.text import MIMEText\n",
    "from email.mime.multipart import MIMEMultipart\n",
    "import smtplib \n",
    "import pandas as pd\n",
    "import pymysql"
   ]
  },
  {
   "cell_type": "code",
   "execution_count": 8,
   "id": "7ab3afc9",
   "metadata": {},
   "outputs": [
    {
     "data": {
      "text/plain": [
       "(221,\n",
       " b'2.0.0 closing connection c5-20020a170902b68500b001b892aac5c9sm5802523pls.298 - gsmtp')"
      ]
     },
     "execution_count": 8,
     "metadata": {},
     "output_type": "execute_result"
    }
   ],
   "source": [
    "import smtplib\n",
    "\n",
    "import mimetypes\n",
    "\n",
    "import os\n",
    "\n",
    "sender='nareshsisodiya1996@gmail.com'\n",
    "receiver='naresh_kumar@sattrixsoftware.com'\n",
    "subject=\"Subject\"\n",
    "pdf_file_path=\"test.csv\"\n",
    "\n",
    "with open(pdf_file_path, 'rb') as f:\n",
    "    pdf_content = f.read()\n",
    "\n",
    "\n",
    "\n",
    "mime_type, encoding = mimetypes.guess_type(pdf_file_path)\n",
    "\n",
    "if mime_type is None:\n",
    "    mime_type = 'application/octet-stream'\n",
    "\n",
    "if pdf_file_path.endswith(\".pdf\"):\n",
    "    attachment = MIMEBase(mime_type, 'pdf', filename=os.path.basename(pdf_file_path))\n",
    "elif pdf_file_path.endswith(\".xlsx\"):\n",
    "    attachment = MIMEBase(mime_type, 'xlsx', filename=os.path.basename(pdf_file_path))\n",
    "else:\n",
    "    attachment = MIMEBase(mime_type, 'csv', filename=os.path.basename(pdf_file_path))\n",
    "\n",
    "attachment.set_payload(pdf_content)\n",
    "\n",
    "encoders.encode_base64(attachment)\n",
    "\n",
    "\n",
    "\n",
    "email = MIMEMultipart()\n",
    "\n",
    "email['From'] = sender\n",
    "\n",
    "email['To'] = receiver\n",
    "\n",
    "email['Subject'] = subject\n",
    "\n",
    "email.attach(MIMEText('This is the email body.', 'plain'))\n",
    "\n",
    "email.attach(attachment)\n",
    "\n",
    "\n",
    "\n",
    "smtp = smtplib.SMTP('smtp.gmail.com', 587)\n",
    "\n",
    "smtp.starttls()\n",
    "\n",
    "smtp.login(sender, 'yszbenixyrdrioei')\n",
    "\n",
    "smtp.sendmail(email['From'], email['To'], email.as_string())\n",
    "\n",
    "smtp.quit()\n",
    "\n",
    "\n"
   ]
  },
  {
   "cell_type": "code",
   "execution_count": 6,
   "id": "987f4602",
   "metadata": {},
   "outputs": [],
   "source": [
    "import email, smtplib, ssl\n",
    "\n",
    "from email import encoders\n",
    "\n",
    "from email.mime.base import MIMEBase\n",
    "from email.mime.multipart import MIMEMultipart\n",
    "from email.mime.text import MIMEText"
   ]
  },
  {
   "cell_type": "code",
   "execution_count": 9,
   "id": "0e8692df",
   "metadata": {},
   "outputs": [],
   "source": [
    "import smtplib\n",
    "\n",
    "import mimetypes\n",
    "\n",
    "import os\n",
    "\n",
    " \n",
    "\n",
    "def send_email_with_pdf_attachment(sender, receiver, subject, pdf_file_path):\n",
    "    with open(pdf_file_path, 'rb') as f:\n",
    "        pdf_content = f.read()\n",
    "\n",
    " \n",
    "\n",
    "    mime_type, encoding = mimetypes.guess_type(pdf_file_path)\n",
    "\n",
    "    if mime_type is None:\n",
    "            mime_type = 'application/octet-stream'\n",
    "    \n",
    "    attachment = MIMEBase(mime_type, 'pdf', filename=os.path.basename(pdf_file_path))\n",
    "\n",
    "    attachment.set_payload(pdf_content)\n",
    "\n",
    "    encoders.encode_base64(attachment)\n",
    "\n",
    "\n",
    "\n",
    "    email = MIMEMultipart()\n",
    "\n",
    "    email['From'] = sender\n",
    "\n",
    "    email['To'] = receiver\n",
    "\n",
    "    email['Subject'] = subject\n",
    "\n",
    "    email.attach(MIMEText('This is the email body.', 'plain'))\n",
    "\n",
    "    email.attach(attachment)\n",
    "\n",
    "\n",
    "\n",
    "    smtp = smtplib.SMTP('smtp.gmail.com', 587)\n",
    "\n",
    "    smtp.starttls()\n",
    "\n",
    "    smtp.login(sender, 'yszbenixyrdrioei')\n",
    "\n",
    "    smtp.sendmail(email['From'], email['To'], email.as_string())\n",
    "\n",
    "    smtp.quit()\n",
    "\n",
    "\n",
    "\n",
    "    if __name__ == '__main__':\n",
    "\n",
    "        send_email_with_pdf_attachment('nareshsisodiya1996@gmail.com', 'naresh_kumar@sattrixsoftware.com', 'subject', \"rushee_1690875401624.pdf\")\n"
   ]
  },
  {
   "cell_type": "code",
   "execution_count": 1,
   "id": "5eb1cb2d",
   "metadata": {},
   "outputs": [],
   "source": [
    "def send_email_with_pdf_attachment(sender, receiver ,pdf_file):\n",
    "    import smtplib\n",
    "\n",
    "    import mimetypes\n",
    "\n",
    "    import os\n",
    "\n",
    "    sender=sender\n",
    "    receiver= receiver\n",
    "    subject=\"Subject\"\n",
    "    pdf_file_path=pdf_file\n",
    "\n",
    "    with open(pdf_file_path, 'rb') as f:\n",
    "        pdf_content = f.read()\n",
    "\n",
    "\n",
    "\n",
    "    mime_type, encoding = mimetypes.guess_type(pdf_file_path)\n",
    "\n",
    "    if mime_type is None:\n",
    "        mime_type = 'application/octet-stream'\n",
    "\n",
    "    if pdf_file_path.endswith(\".pdf\"):\n",
    "        attachment = MIMEBase(mime_type, 'pdf', filename=os.path.basename(pdf_file_path))\n",
    "    elif pdf_file_path.endswith(\".xlsx\") or pdf_file_path.endswith('xls'):\n",
    "        attachment = MIMEBase(mime_type, 'xlsx', filename=os.path.basename(pdf_file_path))\n",
    "    else:\n",
    "        attachment = MIMEBase(mime_type, 'csv', filename=os.path.basename(pdf_file_path))\n",
    "\n",
    "    attachment.set_payload(pdf_content)\n",
    "\n",
    "    encoders.encode_base64(attachment)\n",
    "\n",
    "\n",
    "\n",
    "    email = MIMEMultipart()\n",
    "\n",
    "    email['From'] = sender\n",
    "\n",
    "    email['To'] =','.join(receiver)\n",
    "\n",
    "    email['Subject'] = subject\n",
    "\n",
    "    email.attach(MIMEText('This is the email body.', 'plain'))\n",
    "\n",
    "    email.attach(attachment)\n",
    "\n",
    "\n",
    "\n",
    "    smtp = smtplib.SMTP('smtp.gmail.com', 587)\n",
    "\n",
    "    smtp.starttls()\n",
    "\n",
    "    smtp.login(sender, 'yszbenixyrdrioei')\n",
    "\n",
    "    smtp.sendmail(email['From'], email['To'], email.as_string())\n",
    "\n",
    "    smtp.quit()\n",
    "\n",
    "\n"
   ]
  },
  {
   "cell_type": "code",
   "execution_count": 2,
   "id": "9afd3e78",
   "metadata": {},
   "outputs": [
    {
     "ename": "FileNotFoundError",
     "evalue": "[Errno 2] No such file or directory: 'excel.xls'",
     "output_type": "error",
     "traceback": [
      "\u001b[1;31m---------------------------------------------------------------------------\u001b[0m",
      "\u001b[1;31mFileNotFoundError\u001b[0m                         Traceback (most recent call last)",
      "Input \u001b[1;32mIn [2]\u001b[0m, in \u001b[0;36m<cell line: 1>\u001b[1;34m()\u001b[0m\n\u001b[1;32m----> 1\u001b[0m \u001b[43msend_email_with_pdf_attachment\u001b[49m\u001b[43m(\u001b[49m\u001b[38;5;124;43m'\u001b[39;49m\u001b[38;5;124;43mnareshsisodiya1996@gmail.com\u001b[39;49m\u001b[38;5;124;43m'\u001b[39;49m\u001b[43m,\u001b[49m\u001b[43m[\u001b[49m\u001b[38;5;124;43m'\u001b[39;49m\u001b[38;5;124;43mjyoti_pradhan@sattrixsoftware.com\u001b[39;49m\u001b[38;5;124;43m'\u001b[39;49m\u001b[43m,\u001b[49m\u001b[38;5;124;43m'\u001b[39;49m\u001b[38;5;124;43mnaresh_kumar@sattrixsoftware.com\u001b[39;49m\u001b[38;5;124;43m'\u001b[39;49m\u001b[43m]\u001b[49m\u001b[43m,\u001b[49m\u001b[38;5;124;43m'\u001b[39;49m\u001b[38;5;124;43mexcel.xls\u001b[39;49m\u001b[38;5;124;43m'\u001b[39;49m\u001b[43m)\u001b[49m\n",
      "Input \u001b[1;32mIn [1]\u001b[0m, in \u001b[0;36msend_email_with_pdf_attachment\u001b[1;34m(sender, receiver, pdf_file)\u001b[0m\n\u001b[0;32m     10\u001b[0m subject\u001b[38;5;241m=\u001b[39m\u001b[38;5;124m\"\u001b[39m\u001b[38;5;124mSubject\u001b[39m\u001b[38;5;124m\"\u001b[39m\n\u001b[0;32m     11\u001b[0m pdf_file_path\u001b[38;5;241m=\u001b[39mpdf_file\n\u001b[1;32m---> 13\u001b[0m \u001b[38;5;28;01mwith\u001b[39;00m \u001b[38;5;28;43mopen\u001b[39;49m\u001b[43m(\u001b[49m\u001b[43mpdf_file_path\u001b[49m\u001b[43m,\u001b[49m\u001b[43m \u001b[49m\u001b[38;5;124;43m'\u001b[39;49m\u001b[38;5;124;43mrb\u001b[39;49m\u001b[38;5;124;43m'\u001b[39;49m\u001b[43m)\u001b[49m \u001b[38;5;28;01mas\u001b[39;00m f:\n\u001b[0;32m     14\u001b[0m     pdf_content \u001b[38;5;241m=\u001b[39m f\u001b[38;5;241m.\u001b[39mread()\n\u001b[0;32m     18\u001b[0m mime_type, encoding \u001b[38;5;241m=\u001b[39m mimetypes\u001b[38;5;241m.\u001b[39mguess_type(pdf_file_path)\n",
      "\u001b[1;31mFileNotFoundError\u001b[0m: [Errno 2] No such file or directory: 'excel.xls'"
     ]
    }
   ],
   "source": [
    "send_email_with_pdf_attachment('nareshsisodiya1996@gmail.com',['jyoti_pradhan@sattrixsoftware.com','naresh_kumar@sattrixsoftware.com'],'excel.xls')"
   ]
  },
  {
   "cell_type": "code",
   "execution_count": 13,
   "id": "232ece76",
   "metadata": {},
   "outputs": [],
   "source": [
    "def reports_path():\n",
    "    report_path = __file__\n",
    "    strip = report_path.rfind(\"/report_api\")\n",
    "    # print(\"strip==========================+++++++++++++++++++++++++++++++==========================++++++++++++++\", report_path)\n",
    "    report_path = (report_path[:strip])\n",
    "    # print(\"report_path: ==========================+++++++++++++++++++++++++++++++==========================++++++++++++++\", report_path)\n",
    "    # report_path=\"https://192.168.5.13:7074/Report_get_file_path?filter=/opt/NewEvol/Current/NewEvol_Solr/Datalake/reports/report_pdf\"\n",
    "    return report_path"
   ]
  },
  {
   "cell_type": "code",
   "execution_count": 16,
   "id": "803f9689",
   "metadata": {},
   "outputs": [
    {
     "ename": "NameError",
     "evalue": "name '__file__' is not defined",
     "output_type": "error",
     "traceback": [
      "\u001b[0;31m---------------------------------------------------------------------------\u001b[0m",
      "\u001b[0;31mNameError\u001b[0m                                 Traceback (most recent call last)",
      "Cell \u001b[0;32mIn[16], line 1\u001b[0m\n\u001b[0;32m----> 1\u001b[0m \u001b[43mreports_path\u001b[49m\u001b[43m(\u001b[49m\u001b[43m)\u001b[49m\n",
      "Cell \u001b[0;32mIn[13], line 2\u001b[0m, in \u001b[0;36mreports_path\u001b[0;34m()\u001b[0m\n\u001b[1;32m      1\u001b[0m \u001b[38;5;28;01mdef\u001b[39;00m \u001b[38;5;21mreports_path\u001b[39m():\n\u001b[0;32m----> 2\u001b[0m     report_path \u001b[38;5;241m=\u001b[39m \u001b[38;5;18;43m__file__\u001b[39;49m\n\u001b[1;32m      3\u001b[0m     strip \u001b[38;5;241m=\u001b[39m report_path\u001b[38;5;241m.\u001b[39mrfind(\u001b[38;5;124m\"\u001b[39m\u001b[38;5;124m/report_api\u001b[39m\u001b[38;5;124m\"\u001b[39m)\n\u001b[1;32m      4\u001b[0m     \u001b[38;5;66;03m# print(\"strip==========================+++++++++++++++++++++++++++++++==========================++++++++++++++\", report_path)\u001b[39;00m\n",
      "\u001b[0;31mNameError\u001b[0m: name '__file__' is not defined"
     ]
    }
   ],
   "source": [
    "reports_path()"
   ]
  },
  {
   "cell_type": "code",
   "execution_count": 17,
   "id": "bd253c63",
   "metadata": {},
   "outputs": [
    {
     "ename": "ModuleNotFoundError",
     "evalue": "No module named '__file__'",
     "output_type": "error",
     "traceback": [
      "\u001b[0;31m---------------------------------------------------------------------------\u001b[0m",
      "\u001b[0;31mModuleNotFoundError\u001b[0m                       Traceback (most recent call last)",
      "Cell \u001b[0;32mIn[17], line 1\u001b[0m\n\u001b[0;32m----> 1\u001b[0m \u001b[38;5;28;01mimport\u001b[39;00m \u001b[38;5;21;01m__file__\u001b[39;00m\n",
      "\u001b[0;31mModuleNotFoundError\u001b[0m: No module named '__file__'"
     ]
    }
   ],
   "source": [
    "import __file__"
   ]
  },
  {
   "cell_type": "code",
   "execution_count": 18,
   "id": "1b7127a4",
   "metadata": {},
   "outputs": [
    {
     "ename": "NameError",
     "evalue": "name '__file__' is not defined",
     "output_type": "error",
     "traceback": [
      "\u001b[0;31m---------------------------------------------------------------------------\u001b[0m",
      "\u001b[0;31mNameError\u001b[0m                                 Traceback (most recent call last)",
      "Cell \u001b[0;32mIn[18], line 3\u001b[0m\n\u001b[1;32m      1\u001b[0m \u001b[38;5;28;01mimport\u001b[39;00m \u001b[38;5;21;01mos\u001b[39;00m\n\u001b[0;32m----> 3\u001b[0m script_dir \u001b[38;5;241m=\u001b[39m os\u001b[38;5;241m.\u001b[39mpath\u001b[38;5;241m.\u001b[39mdirname(os\u001b[38;5;241m.\u001b[39mpath\u001b[38;5;241m.\u001b[39mabspath(\u001b[38;5;18;43m__file__\u001b[39;49m))\n\u001b[1;32m      4\u001b[0m data_file \u001b[38;5;241m=\u001b[39m os\u001b[38;5;241m.\u001b[39mpath\u001b[38;5;241m.\u001b[39mjoin(script_dir, \u001b[38;5;124m\"\u001b[39m\u001b[38;5;124mdata\u001b[39m\u001b[38;5;124m\"\u001b[39m, \u001b[38;5;124m\"\u001b[39m\u001b[38;5;124mdata_file.txt\u001b[39m\u001b[38;5;124m\"\u001b[39m)\n",
      "\u001b[0;31mNameError\u001b[0m: name '__file__' is not defined"
     ]
    }
   ],
   "source": [
    "import os\n",
    "\n",
    "script_dir = os.path.dirname(os.path.abspath(__file__))\n",
    "data_file = os.path.join(script_dir, \"data\", \"data_file.txt\")"
   ]
  },
  {
   "cell_type": "code",
   "execution_count": 25,
   "id": "75e9866e",
   "metadata": {},
   "outputs": [
    {
     "data": {
      "text/plain": [
       "'naresh_kumar@sattrixsoftware.com'"
      ]
     },
     "execution_count": 25,
     "metadata": {},
     "output_type": "execute_result"
    }
   ],
   "source": [
    "email['to']"
   ]
  },
  {
   "cell_type": "code",
   "execution_count": 27,
   "id": "363da4bb",
   "metadata": {},
   "outputs": [
    {
     "ename": "UnicodeDecodeError",
     "evalue": "'utf-8' codec can't decode byte 0x93 in position 10: invalid start byte",
     "output_type": "error",
     "traceback": [
      "\u001b[0;31m---------------------------------------------------------------------------\u001b[0m",
      "\u001b[0;31mUnicodeDecodeError\u001b[0m                        Traceback (most recent call last)",
      "Cell \u001b[0;32mIn[27], line 12\u001b[0m\n\u001b[1;32m     10\u001b[0m msg[\u001b[38;5;124m'\u001b[39m\u001b[38;5;124mTo\u001b[39m\u001b[38;5;124m'\u001b[39m] \u001b[38;5;241m=\u001b[39m \u001b[38;5;124m\"\u001b[39m\u001b[38;5;124m,\u001b[39m\u001b[38;5;124m\"\u001b[39m\u001b[38;5;241m.\u001b[39mjoin(emailto)\n\u001b[1;32m     11\u001b[0m msg[\u001b[38;5;124m'\u001b[39m\u001b[38;5;124mSubject\u001b[39m\u001b[38;5;124m'\u001b[39m] \u001b[38;5;241m=\u001b[39mEmailSubject\n\u001b[0;32m---> 12\u001b[0m msg\u001b[38;5;241m.\u001b[39mattach(MIMEText(\u001b[38;5;28;43mopen\u001b[39;49m\u001b[43m(\u001b[49m\u001b[38;5;124;43m\"\u001b[39;49m\u001b[38;5;124;43m/home/sattrix/Downloads/Chart Deny Action Of Firewall_1691390746915.pdf\u001b[39;49m\u001b[38;5;124;43m\"\u001b[39;49m\u001b[43m)\u001b[49m\u001b[38;5;241;43m.\u001b[39;49m\u001b[43mread\u001b[49m\u001b[43m(\u001b[49m\u001b[43m)\u001b[49m))\n\u001b[1;32m     13\u001b[0m mailserver \u001b[38;5;241m=\u001b[39m smtplib\u001b[38;5;241m.\u001b[39mSMTP(EmailConfigHost, EmailConfigPort)\n\u001b[1;32m     14\u001b[0m mailserver\u001b[38;5;241m.\u001b[39mehlo()\n",
      "File \u001b[0;32m/usr/lib/python3.10/codecs.py:322\u001b[0m, in \u001b[0;36mBufferedIncrementalDecoder.decode\u001b[0;34m(self, input, final)\u001b[0m\n\u001b[1;32m    319\u001b[0m \u001b[38;5;28;01mdef\u001b[39;00m \u001b[38;5;21mdecode\u001b[39m(\u001b[38;5;28mself\u001b[39m, \u001b[38;5;28minput\u001b[39m, final\u001b[38;5;241m=\u001b[39m\u001b[38;5;28;01mFalse\u001b[39;00m):\n\u001b[1;32m    320\u001b[0m     \u001b[38;5;66;03m# decode input (taking the buffer into account)\u001b[39;00m\n\u001b[1;32m    321\u001b[0m     data \u001b[38;5;241m=\u001b[39m \u001b[38;5;28mself\u001b[39m\u001b[38;5;241m.\u001b[39mbuffer \u001b[38;5;241m+\u001b[39m \u001b[38;5;28minput\u001b[39m\n\u001b[0;32m--> 322\u001b[0m     (result, consumed) \u001b[38;5;241m=\u001b[39m \u001b[38;5;28;43mself\u001b[39;49m\u001b[38;5;241;43m.\u001b[39;49m\u001b[43m_buffer_decode\u001b[49m\u001b[43m(\u001b[49m\u001b[43mdata\u001b[49m\u001b[43m,\u001b[49m\u001b[43m \u001b[49m\u001b[38;5;28;43mself\u001b[39;49m\u001b[38;5;241;43m.\u001b[39;49m\u001b[43merrors\u001b[49m\u001b[43m,\u001b[49m\u001b[43m \u001b[49m\u001b[43mfinal\u001b[49m\u001b[43m)\u001b[49m\n\u001b[1;32m    323\u001b[0m     \u001b[38;5;66;03m# keep undecoded input until the next call\u001b[39;00m\n\u001b[1;32m    324\u001b[0m     \u001b[38;5;28mself\u001b[39m\u001b[38;5;241m.\u001b[39mbuffer \u001b[38;5;241m=\u001b[39m data[consumed:]\n",
      "\u001b[0;31mUnicodeDecodeError\u001b[0m: 'utf-8' codec can't decode byte 0x93 in position 10: invalid start byte"
     ]
    }
   ],
   "source": [
    "EmailConfigHost = 'smtp.gmail.com'\n",
    "EmailConfigPort = 587\n",
    "EmailFromId = 'nareshsisodiya1996@gmail.com'\n",
    "EmailPassword = 'yszbenixyrdrioei'\n",
    "emailto = ['jyoti_pradhan@sattrixsoftware.com','naresh_kumar@sattrixsoftware.com']\n",
    "EmailSubject = 'Report_Alert'\n",
    "EmailTypeDescr = \"Report Generated Successfully For Report Name {} \\nThank You\"\n",
    "msg = MIMEMultipart()\n",
    "msg['From'] = EmailFromId\n",
    "msg['To'] = \",\".join(emailto)\n",
    "msg['Subject'] =EmailSubject\n",
    "msg.attach(MIMEText(open(\"/home/sattrix/Downloads/rushee_1690875401624.pdf\").read()))\n",
    "mailserver = smtplib.SMTP(EmailConfigHost, EmailConfigPort)\n",
    "mailserver.ehlo()\n",
    "mailserver.starttls()\n",
    "mailserver.ehlo()\n",
    "mailserver.login(EmailFromId, EmailPassword)\n",
    "\n",
    "mailserver.sendmail(EmailFromId, emailto, msg.as_string())\n",
    "\n",
    "# Should be mailServer.quit(), but that crashes...\n",
    "mailserver.close()\n",
    "print(\"mail sent successfully\")"
   ]
  },
  {
   "cell_type": "code",
   "execution_count": 28,
   "id": "9d42af43",
   "metadata": {},
   "outputs": [
    {
     "ename": "NameError",
     "evalue": "name 'mysql_host' is not defined",
     "output_type": "error",
     "traceback": [
      "\u001b[0;31m---------------------------------------------------------------------------\u001b[0m",
      "\u001b[0;31mNameError\u001b[0m                                 Traceback (most recent call last)",
      "Cell \u001b[0;32mIn[28], line 1\u001b[0m\n\u001b[0;32m----> 1\u001b[0m app\u001b[38;5;241m.\u001b[39mconfig[\u001b[38;5;124m'\u001b[39m\u001b[38;5;124mMYSQL_HOST\u001b[39m\u001b[38;5;124m'\u001b[39m] \u001b[38;5;241m=\u001b[39m \u001b[43mmysql_host\u001b[49m  \u001b[38;5;66;03m# '192.168.21.8'\u001b[39;00m\n\u001b[1;32m      3\u001b[0m app\u001b[38;5;241m.\u001b[39mconfig[\u001b[38;5;124m'\u001b[39m\u001b[38;5;124mMYSQL_USER\u001b[39m\u001b[38;5;124m'\u001b[39m] \u001b[38;5;241m=\u001b[39m mysql_user  \u001b[38;5;66;03m# 'sattrix'\u001b[39;00m\n\u001b[1;32m      5\u001b[0m app\u001b[38;5;241m.\u001b[39mconfig[\u001b[38;5;124m'\u001b[39m\u001b[38;5;124mMYSQL_PASSWORD\u001b[39m\u001b[38;5;124m'\u001b[39m] \u001b[38;5;241m=\u001b[39m mysql_psw  \u001b[38;5;66;03m# 'Sattrix@123'\u001b[39;00m\n",
      "\u001b[0;31mNameError\u001b[0m: name 'mysql_host' is not defined"
     ]
    }
   ],
   "source": [
    "\n",
    "app.config['MYSQL_HOST'] = mysql_host  # '192.168.21.8'\n",
    "\n",
    "app.config['MYSQL_USER'] = mysql_user  # 'sattrix'\n",
    "\n",
    "app.config['MYSQL_PASSWORD'] = mysql_psw  # 'Sattrix@123'\n",
    "\n",
    "app.config['MYSQL_DB'] = mysql_default_db  # 'NextEra'"
   ]
  },
  {
   "cell_type": "code",
   "execution_count": 29,
   "id": "8755b785",
   "metadata": {},
   "outputs": [],
   "source": [
    "import pymysql"
   ]
  },
  {
   "cell_type": "code",
   "execution_count": 40,
   "id": "b146cf1a",
   "metadata": {},
   "outputs": [
    {
     "ename": "OperationalError",
     "evalue": "(2003, \"Can't connect to MySQL server on '192.168.21.8' ([Errno 113] No route to host)\")",
     "output_type": "error",
     "traceback": [
      "\u001b[0;31m---------------------------------------------------------------------------\u001b[0m",
      "\u001b[0;31mOSError\u001b[0m                                   Traceback (most recent call last)",
      "File \u001b[0;32m~/.local/lib/python3.10/site-packages/pymysql/connections.py:644\u001b[0m, in \u001b[0;36mConnection.connect\u001b[0;34m(self, sock)\u001b[0m\n\u001b[1;32m    643\u001b[0m \u001b[38;5;28;01mtry\u001b[39;00m:\n\u001b[0;32m--> 644\u001b[0m     sock \u001b[38;5;241m=\u001b[39m \u001b[43msocket\u001b[49m\u001b[38;5;241;43m.\u001b[39;49m\u001b[43mcreate_connection\u001b[49m\u001b[43m(\u001b[49m\n\u001b[1;32m    645\u001b[0m \u001b[43m        \u001b[49m\u001b[43m(\u001b[49m\u001b[38;5;28;43mself\u001b[39;49m\u001b[38;5;241;43m.\u001b[39;49m\u001b[43mhost\u001b[49m\u001b[43m,\u001b[49m\u001b[43m \u001b[49m\u001b[38;5;28;43mself\u001b[39;49m\u001b[38;5;241;43m.\u001b[39;49m\u001b[43mport\u001b[49m\u001b[43m)\u001b[49m\u001b[43m,\u001b[49m\u001b[43m \u001b[49m\u001b[38;5;28;43mself\u001b[39;49m\u001b[38;5;241;43m.\u001b[39;49m\u001b[43mconnect_timeout\u001b[49m\u001b[43m,\u001b[49m\u001b[43m \u001b[49m\u001b[38;5;241;43m*\u001b[39;49m\u001b[38;5;241;43m*\u001b[39;49m\u001b[43mkwargs\u001b[49m\n\u001b[1;32m    646\u001b[0m \u001b[43m    \u001b[49m\u001b[43m)\u001b[49m\n\u001b[1;32m    647\u001b[0m     \u001b[38;5;28;01mbreak\u001b[39;00m\n",
      "File \u001b[0;32m/usr/lib/python3.10/socket.py:845\u001b[0m, in \u001b[0;36mcreate_connection\u001b[0;34m(address, timeout, source_address)\u001b[0m\n\u001b[1;32m    844\u001b[0m \u001b[38;5;28;01mtry\u001b[39;00m:\n\u001b[0;32m--> 845\u001b[0m     \u001b[38;5;28;01mraise\u001b[39;00m err\n\u001b[1;32m    846\u001b[0m \u001b[38;5;28;01mfinally\u001b[39;00m:\n\u001b[1;32m    847\u001b[0m     \u001b[38;5;66;03m# Break explicitly a reference cycle\u001b[39;00m\n",
      "File \u001b[0;32m/usr/lib/python3.10/socket.py:833\u001b[0m, in \u001b[0;36mcreate_connection\u001b[0;34m(address, timeout, source_address)\u001b[0m\n\u001b[1;32m    832\u001b[0m     sock\u001b[38;5;241m.\u001b[39mbind(source_address)\n\u001b[0;32m--> 833\u001b[0m \u001b[43msock\u001b[49m\u001b[38;5;241;43m.\u001b[39;49m\u001b[43mconnect\u001b[49m\u001b[43m(\u001b[49m\u001b[43msa\u001b[49m\u001b[43m)\u001b[49m\n\u001b[1;32m    834\u001b[0m \u001b[38;5;66;03m# Break explicitly a reference cycle\u001b[39;00m\n",
      "\u001b[0;31mOSError\u001b[0m: [Errno 113] No route to host",
      "\nDuring handling of the above exception, another exception occurred:\n",
      "\u001b[0;31mOperationalError\u001b[0m                          Traceback (most recent call last)",
      "Cell \u001b[0;32mIn[40], line 1\u001b[0m\n\u001b[0;32m----> 1\u001b[0m db\u001b[38;5;241m=\u001b[39m\u001b[43mpymysql\u001b[49m\u001b[38;5;241;43m.\u001b[39;49m\u001b[43mconnect\u001b[49m\u001b[43m(\u001b[49m\u001b[43mhost\u001b[49m\u001b[38;5;241;43m=\u001b[39;49m\u001b[38;5;124;43m\"\u001b[39;49m\u001b[38;5;124;43m192.168.21.8\u001b[39;49m\u001b[38;5;124;43m\"\u001b[39;49m\u001b[43m,\u001b[49m\u001b[43m \u001b[49m\u001b[43muser\u001b[49m\u001b[38;5;241;43m=\u001b[39;49m\u001b[38;5;124;43m\"\u001b[39;49m\u001b[38;5;124;43msattrix\u001b[39;49m\u001b[38;5;124;43m\"\u001b[39;49m\u001b[43m,\u001b[49m\u001b[43m \u001b[49m\u001b[43mpassword\u001b[49m\u001b[38;5;241;43m=\u001b[39;49m\u001b[38;5;124;43m\"\u001b[39;49m\u001b[38;5;124;43mSattrix@123\u001b[39;49m\u001b[38;5;124;43m\"\u001b[39;49m\u001b[43m,\u001b[49m\u001b[43m \u001b[49m\u001b[43mdatabase\u001b[49m\u001b[38;5;241;43m=\u001b[39;49m\u001b[38;5;124;43m\"\u001b[39;49m\u001b[38;5;124;43mNextEra\u001b[39;49m\u001b[38;5;124;43m\"\u001b[39;49m\u001b[43m)\u001b[49m\n",
      "File \u001b[0;32m~/.local/lib/python3.10/site-packages/pymysql/connections.py:358\u001b[0m, in \u001b[0;36mConnection.__init__\u001b[0;34m(self, user, password, host, database, unix_socket, port, charset, collation, sql_mode, read_default_file, conv, use_unicode, client_flag, cursorclass, init_command, connect_timeout, read_default_group, autocommit, local_infile, max_allowed_packet, defer_connect, auth_plugin_map, read_timeout, write_timeout, bind_address, binary_prefix, program_name, server_public_key, ssl, ssl_ca, ssl_cert, ssl_disabled, ssl_key, ssl_verify_cert, ssl_verify_identity, compress, named_pipe, passwd, db)\u001b[0m\n\u001b[1;32m    356\u001b[0m     \u001b[38;5;28mself\u001b[39m\u001b[38;5;241m.\u001b[39m_sock \u001b[38;5;241m=\u001b[39m \u001b[38;5;28;01mNone\u001b[39;00m\n\u001b[1;32m    357\u001b[0m \u001b[38;5;28;01melse\u001b[39;00m:\n\u001b[0;32m--> 358\u001b[0m     \u001b[38;5;28;43mself\u001b[39;49m\u001b[38;5;241;43m.\u001b[39;49m\u001b[43mconnect\u001b[49m\u001b[43m(\u001b[49m\u001b[43m)\u001b[49m\n",
      "File \u001b[0;32m~/.local/lib/python3.10/site-packages/pymysql/connections.py:711\u001b[0m, in \u001b[0;36mConnection.connect\u001b[0;34m(self, sock)\u001b[0m\n\u001b[1;32m    709\u001b[0m     \u001b[38;5;28;01mif\u001b[39;00m DEBUG:\n\u001b[1;32m    710\u001b[0m         \u001b[38;5;28mprint\u001b[39m(exc\u001b[38;5;241m.\u001b[39mtraceback)\n\u001b[0;32m--> 711\u001b[0m     \u001b[38;5;28;01mraise\u001b[39;00m exc\n\u001b[1;32m    713\u001b[0m \u001b[38;5;66;03m# If e is neither DatabaseError or IOError, It's a bug.\u001b[39;00m\n\u001b[1;32m    714\u001b[0m \u001b[38;5;66;03m# But raising AssertionError hides original error.\u001b[39;00m\n\u001b[1;32m    715\u001b[0m \u001b[38;5;66;03m# So just reraise it.\u001b[39;00m\n\u001b[1;32m    716\u001b[0m \u001b[38;5;28;01mraise\u001b[39;00m\n",
      "\u001b[0;31mOperationalError\u001b[0m: (2003, \"Can't connect to MySQL server on '192.168.21.8' ([Errno 113] No route to host)\")"
     ]
    }
   ],
   "source": [
    "db=pymysql.connect(host=\"192.168.21.8\", user=\"sattrix\", password=\"Sattrix@123\", database=\"NextEra\")"
   ]
  },
  {
   "cell_type": "code",
   "execution_count": 36,
   "id": "4debe0bb",
   "metadata": {},
   "outputs": [
    {
     "data": {
      "text/plain": [
       "<pymysql.connections.Connection at 0x7faac47ee620>"
      ]
     },
     "execution_count": 36,
     "metadata": {},
     "output_type": "execute_result"
    }
   ],
   "source": [
    "db"
   ]
  },
  {
   "cell_type": "code",
   "execution_count": 37,
   "id": "f7534dd7",
   "metadata": {},
   "outputs": [],
   "source": [
    "cur=db.cursor()"
   ]
  },
  {
   "cell_type": "code",
   "execution_count": 38,
   "id": "b1cde361",
   "metadata": {},
   "outputs": [
    {
     "data": {
      "text/plain": [
       "3"
      ]
     },
     "execution_count": 38,
     "metadata": {},
     "output_type": "execute_result"
    }
   ],
   "source": [
    "cur.execute(\"select * from user\")"
   ]
  },
  {
   "cell_type": "code",
   "execution_count": 39,
   "id": "5beceee1",
   "metadata": {},
   "outputs": [
    {
     "data": {
      "text/plain": [
       "((1,\n",
       "  'rohan',\n",
       "  'Sisodiya',\n",
       "  '23',\n",
       "  'naresh@gmail.com',\n",
       "  '54545635',\n",
       "  'gfgfdgfsffsdg'),\n",
       " (2,\n",
       "  'naresh',\n",
       "  'kumar',\n",
       "  '26',\n",
       "  'naresh@gmail.com',\n",
       "  '5454545454',\n",
       "  'gfgfdgfsffsdg'),\n",
       " (3,\n",
       "  'rohan',\n",
       "  'Sisodiya',\n",
       "  '23',\n",
       "  'naresh@gmail.com',\n",
       "  '54545635',\n",
       "  'gfgfdgfsffsdg'))"
      ]
     },
     "execution_count": 39,
     "metadata": {},
     "output_type": "execute_result"
    }
   ],
   "source": [
    "cur.fetchall()"
   ]
  },
  {
   "cell_type": "code",
   "execution_count": 41,
   "id": "0bb5d504",
   "metadata": {},
   "outputs": [],
   "source": [
    "import pandas as pd"
   ]
  },
  {
   "cell_type": "code",
   "execution_count": 42,
   "id": "809c2b50",
   "metadata": {},
   "outputs": [],
   "source": [
    "data=pd.read_csv(\"test.csv\")"
   ]
  },
  {
   "cell_type": "code",
   "execution_count": 43,
   "id": "200d0486",
   "metadata": {},
   "outputs": [
    {
     "data": {
      "text/html": [
       "<div>\n",
       "<style scoped>\n",
       "    .dataframe tbody tr th:only-of-type {\n",
       "        vertical-align: middle;\n",
       "    }\n",
       "\n",
       "    .dataframe tbody tr th {\n",
       "        vertical-align: top;\n",
       "    }\n",
       "\n",
       "    .dataframe thead th {\n",
       "        text-align: right;\n",
       "    }\n",
       "</style>\n",
       "<table border=\"1\" class=\"dataframe\">\n",
       "  <thead>\n",
       "    <tr style=\"text-align: right;\">\n",
       "      <th></th>\n",
       "      <th>Unnamed: 0</th>\n",
       "      <th>StartTime</th>\n",
       "      <th>RuleId</th>\n",
       "      <th>RuleName</th>\n",
       "    </tr>\n",
       "  </thead>\n",
       "  <tbody>\n",
       "    <tr>\n",
       "      <th>0</th>\n",
       "      <td>0</td>\n",
       "      <td>2023-05-16 14:59:30</td>\n",
       "      <td>320</td>\n",
       "      <td>Microsoft Logs</td>\n",
       "    </tr>\n",
       "    <tr>\n",
       "      <th>1</th>\n",
       "      <td>1</td>\n",
       "      <td>2023-05-16 14:59:30</td>\n",
       "      <td>320</td>\n",
       "      <td>Microsoft Logs</td>\n",
       "    </tr>\n",
       "    <tr>\n",
       "      <th>2</th>\n",
       "      <td>2</td>\n",
       "      <td>2023-05-16 14:59:30</td>\n",
       "      <td>320</td>\n",
       "      <td>Microsoft Logs</td>\n",
       "    </tr>\n",
       "    <tr>\n",
       "      <th>3</th>\n",
       "      <td>3</td>\n",
       "      <td>2023-05-16 14:59:30</td>\n",
       "      <td>320</td>\n",
       "      <td>Microsoft Logs</td>\n",
       "    </tr>\n",
       "    <tr>\n",
       "      <th>4</th>\n",
       "      <td>4</td>\n",
       "      <td>2023-05-16 14:59:30</td>\n",
       "      <td>320</td>\n",
       "      <td>Microsoft Logs</td>\n",
       "    </tr>\n",
       "    <tr>\n",
       "      <th>...</th>\n",
       "      <td>...</td>\n",
       "      <td>...</td>\n",
       "      <td>...</td>\n",
       "      <td>...</td>\n",
       "    </tr>\n",
       "    <tr>\n",
       "      <th>23643</th>\n",
       "      <td>23643</td>\n",
       "      <td>2023-05-31 16:29:54</td>\n",
       "      <td>325</td>\n",
       "      <td>Securnoix Alerts_Redington</td>\n",
       "    </tr>\n",
       "    <tr>\n",
       "      <th>23644</th>\n",
       "      <td>23644</td>\n",
       "      <td>2023-05-31 23:45:57</td>\n",
       "      <td>325</td>\n",
       "      <td>Securnoix Alerts_Redington</td>\n",
       "    </tr>\n",
       "    <tr>\n",
       "      <th>23645</th>\n",
       "      <td>23645</td>\n",
       "      <td>2023-05-31 23:45:57</td>\n",
       "      <td>325</td>\n",
       "      <td>Securnoix Alerts_Redington</td>\n",
       "    </tr>\n",
       "    <tr>\n",
       "      <th>23646</th>\n",
       "      <td>23646</td>\n",
       "      <td>2023-05-31 23:45:57</td>\n",
       "      <td>325</td>\n",
       "      <td>Securnoix Alerts_Redington</td>\n",
       "    </tr>\n",
       "    <tr>\n",
       "      <th>23647</th>\n",
       "      <td>23647</td>\n",
       "      <td>2023-05-31 23:45:57</td>\n",
       "      <td>325</td>\n",
       "      <td>Securnoix Alerts_Redington</td>\n",
       "    </tr>\n",
       "  </tbody>\n",
       "</table>\n",
       "<p>23648 rows × 4 columns</p>\n",
       "</div>"
      ],
      "text/plain": [
       "       Unnamed: 0            StartTime  RuleId                    RuleName\n",
       "0               0  2023-05-16 14:59:30     320              Microsoft Logs\n",
       "1               1  2023-05-16 14:59:30     320              Microsoft Logs\n",
       "2               2  2023-05-16 14:59:30     320              Microsoft Logs\n",
       "3               3  2023-05-16 14:59:30     320              Microsoft Logs\n",
       "4               4  2023-05-16 14:59:30     320              Microsoft Logs\n",
       "...           ...                  ...     ...                         ...\n",
       "23643       23643  2023-05-31 16:29:54     325  Securnoix Alerts_Redington\n",
       "23644       23644  2023-05-31 23:45:57     325  Securnoix Alerts_Redington\n",
       "23645       23645  2023-05-31 23:45:57     325  Securnoix Alerts_Redington\n",
       "23646       23646  2023-05-31 23:45:57     325  Securnoix Alerts_Redington\n",
       "23647       23647  2023-05-31 23:45:57     325  Securnoix Alerts_Redington\n",
       "\n",
       "[23648 rows x 4 columns]"
      ]
     },
     "execution_count": 43,
     "metadata": {},
     "output_type": "execute_result"
    }
   ],
   "source": [
    "data"
   ]
  },
  {
   "cell_type": "code",
   "execution_count": 46,
   "id": "4f7acc23",
   "metadata": {},
   "outputs": [
    {
     "data": {
      "text/plain": [
       "'2023-05-16 14:59:30'"
      ]
     },
     "execution_count": 46,
     "metadata": {},
     "output_type": "execute_result"
    }
   ],
   "source": [
    "data.iloc[0,1]"
   ]
  },
  {
   "cell_type": "code",
   "execution_count": 47,
   "id": "33de6f7e",
   "metadata": {},
   "outputs": [
    {
     "data": {
      "text/plain": [
       "'2023-05-16 14:59:30'"
      ]
     },
     "execution_count": 47,
     "metadata": {},
     "output_type": "execute_result"
    }
   ],
   "source": [
    "data.loc[0,'StartTime']"
   ]
  },
  {
   "cell_type": "code",
   "execution_count": 53,
   "id": "ee135fcd",
   "metadata": {},
   "outputs": [
    {
     "ename": "TypeError",
     "evalue": "You have to supply one of 'by' and 'level'",
     "output_type": "error",
     "traceback": [
      "\u001b[0;31m---------------------------------------------------------------------------\u001b[0m",
      "\u001b[0;31mTypeError\u001b[0m                                 Traceback (most recent call last)",
      "\u001b[0;32m/tmp/ipykernel_12751/2661790075.py\u001b[0m in \u001b[0;36m?\u001b[0;34m()\u001b[0m\n\u001b[0;32m----> 1\u001b[0;31m \u001b[0mdata\u001b[0m\u001b[0;34m[\u001b[0m\u001b[0;34m[\u001b[0m\u001b[0;34m'StartTime'\u001b[0m\u001b[0;34m,\u001b[0m\u001b[0;34m'RuleId'\u001b[0m\u001b[0;34m,\u001b[0m\u001b[0;34m'RuleName'\u001b[0m\u001b[0;34m]\u001b[0m\u001b[0;34m]\u001b[0m\u001b[0;34m.\u001b[0m\u001b[0mgroupby\u001b[0m\u001b[0;34m(\u001b[0m\u001b[0;34m)\u001b[0m\u001b[0;34m\u001b[0m\u001b[0;34m\u001b[0m\u001b[0m\n\u001b[0m",
      "\u001b[0;32m~/.local/lib/python3.10/site-packages/pandas/core/frame.py\u001b[0m in \u001b[0;36m?\u001b[0;34m(self, by, axis, level, as_index, sort, group_keys, observed, dropna)\u001b[0m\n\u001b[1;32m   8245\u001b[0m     ) -> DataFrameGroupBy:\n\u001b[1;32m   8246\u001b[0m         \u001b[0;32mfrom\u001b[0m \u001b[0mpandas\u001b[0m\u001b[0;34m.\u001b[0m\u001b[0mcore\u001b[0m\u001b[0;34m.\u001b[0m\u001b[0mgroupby\u001b[0m\u001b[0;34m.\u001b[0m\u001b[0mgeneric\u001b[0m \u001b[0;32mimport\u001b[0m \u001b[0mDataFrameGroupBy\u001b[0m\u001b[0;34m\u001b[0m\u001b[0;34m\u001b[0m\u001b[0m\n\u001b[1;32m   8247\u001b[0m \u001b[0;34m\u001b[0m\u001b[0m\n\u001b[1;32m   8248\u001b[0m         \u001b[0;32mif\u001b[0m \u001b[0mlevel\u001b[0m \u001b[0;32mis\u001b[0m \u001b[0;32mNone\u001b[0m \u001b[0;32mand\u001b[0m \u001b[0mby\u001b[0m \u001b[0;32mis\u001b[0m \u001b[0;32mNone\u001b[0m\u001b[0;34m:\u001b[0m\u001b[0;34m\u001b[0m\u001b[0;34m\u001b[0m\u001b[0m\n\u001b[0;32m-> 8249\u001b[0;31m             \u001b[0;32mraise\u001b[0m \u001b[0mTypeError\u001b[0m\u001b[0;34m(\u001b[0m\u001b[0;34m\"You have to supply one of 'by' and 'level'\"\u001b[0m\u001b[0;34m)\u001b[0m\u001b[0;34m\u001b[0m\u001b[0;34m\u001b[0m\u001b[0m\n\u001b[0m\u001b[1;32m   8250\u001b[0m         \u001b[0maxis\u001b[0m \u001b[0;34m=\u001b[0m \u001b[0mself\u001b[0m\u001b[0;34m.\u001b[0m\u001b[0m_get_axis_number\u001b[0m\u001b[0;34m(\u001b[0m\u001b[0maxis\u001b[0m\u001b[0;34m)\u001b[0m\u001b[0;34m\u001b[0m\u001b[0;34m\u001b[0m\u001b[0m\n\u001b[1;32m   8251\u001b[0m \u001b[0;34m\u001b[0m\u001b[0m\n\u001b[1;32m   8252\u001b[0m         return DataFrameGroupBy(\n",
      "\u001b[0;31mTypeError\u001b[0m: You have to supply one of 'by' and 'level'"
     ]
    }
   ],
   "source": [
    "data[['StartTime','RuleId','RuleName']].groupby()"
   ]
  },
  {
   "cell_type": "code",
   "execution_count": 75,
   "id": "e9a622ea",
   "metadata": {},
   "outputs": [],
   "source": [
    "d=data.groupby(['RuleId', \"RuleName\", \"StartTime\"])[['RuleName']].count()"
   ]
  },
  {
   "cell_type": "code",
   "execution_count": 76,
   "id": "35ded061",
   "metadata": {},
   "outputs": [
    {
     "name": "stdout",
     "output_type": "stream",
     "text": [
      "<class 'pandas.core.frame.DataFrame'>\n",
      "MultiIndex: 131 entries, (320, 'Microsoft Logs', '2023-05-16 14:57:58') to (325, 'Securnoix Alerts_Redington', '2023-05-31 23:45:57')\n",
      "Data columns (total 1 columns):\n",
      " #   Column    Non-Null Count  Dtype\n",
      "---  ------    --------------  -----\n",
      " 0   RuleName  131 non-null    int64\n",
      "dtypes: int64(1)\n",
      "memory usage: 2.8+ KB\n"
     ]
    }
   ],
   "source": [
    "d.info()"
   ]
  },
  {
   "cell_type": "code",
   "execution_count": 77,
   "id": "0ae3d7f8",
   "metadata": {},
   "outputs": [
    {
     "data": {
      "text/plain": [
       "'                                                       RuleName\\nRuleId RuleName                   StartTime                    \\n320    Microsoft Logs             2023-05-16 14:57:58        24\\n                                  2023-05-16 14:58:00        16\\n                                  2023-05-16 14:58:02         5\\n                                  2023-05-16 14:58:03         6\\n                                  2023-05-16 14:58:28         6\\n                                  2023-05-16 14:58:29        12\\n                                  2023-05-16 14:58:30        16\\n                                  2023-05-16 14:58:31         6\\n                                  2023-05-16 14:58:59        52\\n                                  2023-05-16 14:59:01        20\\n                                  2023-05-16 14:59:30         5\\n                                  2023-05-16 14:59:33        14\\n                                  2023-05-16 14:59:34        30\\n                                  2023-05-16 14:59:59        16\\n                                  2023-05-16 15:00:03        10\\n                                  2023-05-16 15:00:05         9\\n                                  2023-05-16 15:00:32        17\\n                                  2023-05-16 15:00:33        15\\n                                  2023-05-16 15:00:34         9\\n                                  2023-05-16 15:01:00        48\\n                                  2023-05-16 15:01:01         8\\n                                  2023-05-16 15:01:29        39\\n                                  2023-05-16 15:01:30        13\\n                                  2023-05-16 15:01:32        18\\n                                  2023-05-16 15:01:57        11\\n                                  2023-05-16 15:01:58         5\\n                                  2023-05-16 15:01:59        22\\n                                  2023-05-16 15:02:00         2\\n                                  2023-05-16 15:02:01         8\\n                                  2023-05-16 15:02:28        17\\n                                  2023-05-16 15:02:29         9\\n                                  2023-05-16 15:02:31        15\\n                                  2023-05-19 16:24:31        53\\n                                  2023-05-19 16:24:59        12\\n                                  2023-05-19 16:25:01         7\\n                                  2023-05-19 16:25:03        39\\n                                  2023-05-19 16:25:29        83\\n                                  2023-05-19 16:25:31        52\\n                                  2023-05-19 16:26:01         9\\n                                  2023-05-19 16:26:02        30\\n325    Securnoix Alerts_Redington 2023-05-17 06:29:37      1000\\n                                  2023-05-17 08:22:18        40\\n                                  2023-05-17 08:37:20        26\\n                                  2023-05-17 09:37:22         3\\n                                  2023-05-17 11:22:34         2\\n                                  2023-05-17 12:08:02       488\\n                                  2023-05-17 13:07:59        35\\n                                  2023-05-17 13:22:58         6\\n                                  2023-05-17 13:38:01       146\\n                                  2023-05-17 13:38:02       420\\n                                  2023-05-17 14:08:03       150\\n                                  2023-05-17 14:23:05         4\\n                                  2023-05-17 15:08:35       173\\n                                  2023-05-17 15:38:35       549\\n                                  2023-05-17 15:38:36       408\\n                                  2023-05-17 15:53:30         6\\n                                  2023-05-17 16:38:35         2\\n                                  2023-05-17 17:38:37       253\\n                                  2023-05-17 17:38:38       160\\n                                  2023-05-17 18:23:42         2\\n                                  2023-05-17 18:39:03       372\\n                                  2023-05-17 18:39:04       608\\n                                  2023-05-17 19:39:34         3\\n                                  2023-05-17 21:39:34       609\\n                                  2023-05-17 23:09:46         3\\n                                  2023-05-20 09:02:25         2\\n                                  2023-05-20 15:48:17         2\\n                                  2023-05-20 16:33:25         3\\n                                  2023-05-20 17:33:28         2\\n                                  2023-05-20 20:33:45         2\\n                                  2023-05-20 23:34:09         2\\n                                  2023-05-21 04:35:16         2\\n                                  2023-05-21 05:34:58         2\\n                                  2023-05-21 06:05:32         2\\n                                  2023-05-21 11:50:45         2\\n                                  2023-05-21 13:21:00         3\\n                                  2023-05-21 17:51:30         2\\n                                  2023-05-21 18:37:00         2\\n                                  2023-05-22 02:52:58        10\\n                                  2023-05-22 12:09:13         3\\n                                  2023-05-22 12:39:11        18\\n                                  2023-05-22 13:09:16        39\\n                                  2023-05-22 13:24:18       220\\n                                  2023-05-22 13:24:19       283\\n                                  2023-05-22 13:39:22       530\\n                                  2023-05-22 13:54:24       371\\n                                  2023-05-22 14:09:44       660\\n                                  2023-05-22 14:24:44       975\\n                                  2023-05-22 14:24:45        25\\n                                  2023-05-22 14:39:45       870\\n                                  2023-05-22 15:40:16       466\\n                                  2023-05-22 16:25:24      1000\\n                                  2023-05-22 16:40:28       553\\n                                  2023-05-22 16:55:30       172\\n                                  2023-05-22 17:25:37         3\\n                                  2023-05-22 19:56:25         2\\n                                  2023-05-23 05:57:14         2\\n                                  2023-05-23 06:12:37         2\\n                                  2023-05-23 06:27:17         3\\n                                  2023-05-23 08:42:49         2\\n                                  2023-05-23 10:28:25         2\\n                                  2023-05-23 10:57:59         1\\n                                  2023-05-23 10:58:00         2\\n                                  2023-05-23 11:13:01         6\\n                                  2023-05-23 11:28:03       154\\n                                  2023-05-23 11:43:23       576\\n                                  2023-05-23 11:58:23      1000\\n                                  2023-05-23 12:13:24       551\\n                                  2023-05-23 12:28:23       675\\n                                  2023-05-23 12:28:24         9\\n                                  2023-05-23 12:43:23       695\\n                                  2023-05-23 12:43:24       305\\n                                  2023-05-23 12:58:32      1000\\n                                  2023-05-23 13:13:33      1000\\n                                  2023-05-23 13:28:37      1000\\n                                  2023-05-23 13:43:53       924\\n                                  2023-05-23 13:58:54      1000\\n                                  2023-05-24 15:48:41        10\\n                                  2023-05-25 11:07:22       197\\n                                  2023-05-25 11:07:23         1\\n                                  2023-05-25 11:22:34       115\\n                                  2023-05-25 11:22:35       885\\n                                  2023-05-25 11:37:44       948\\n                                  2023-05-25 11:37:45        52\\n                                  2023-05-31 11:44:22         4\\n                                  2023-05-31 11:59:21         3\\n                                  2023-05-31 13:59:49        20\\n                                  2023-05-31 14:14:50         9\\n                                  2023-05-31 15:59:55         3\\n                                  2023-05-31 16:29:54         4\\n                                  2023-05-31 23:45:57         4'"
      ]
     },
     "execution_count": 77,
     "metadata": {},
     "output_type": "execute_result"
    }
   ],
   "source": [
    "d.to_string()"
   ]
  },
  {
   "cell_type": "code",
   "execution_count": null,
   "id": "690bb93a",
   "metadata": {},
   "outputs": [],
   "source": []
  },
  {
   "cell_type": "code",
   "execution_count": null,
   "id": "63810629",
   "metadata": {},
   "outputs": [],
   "source": []
  }
 ],
 "metadata": {
  "kernelspec": {
   "display_name": "Python 3 (ipykernel)",
   "language": "python",
   "name": "python3"
  },
  "language_info": {
   "codemirror_mode": {
    "name": "ipython",
    "version": 3
   },
   "file_extension": ".py",
   "mimetype": "text/x-python",
   "name": "python",
   "nbconvert_exporter": "python",
   "pygments_lexer": "ipython3",
   "version": "3.9.12"
  }
 },
 "nbformat": 4,
 "nbformat_minor": 5
}
