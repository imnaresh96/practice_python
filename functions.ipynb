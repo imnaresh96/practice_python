{
 "cells": [
  {
   "cell_type": "markdown",
   "id": "df2e4ca1",
   "metadata": {},
   "source": [
    "### function practice"
   ]
  },
  {
   "cell_type": "markdown",
   "id": "ad820961",
   "metadata": {},
   "source": [
    "##### simple function"
   ]
  },
  {
   "cell_type": "code",
   "execution_count": 2,
   "id": "fe7141c8",
   "metadata": {},
   "outputs": [],
   "source": [
    "def hello():\n",
    "    print('welcome to tops')"
   ]
  },
  {
   "cell_type": "code",
   "execution_count": 3,
   "id": "b0ca8319",
   "metadata": {},
   "outputs": [
    {
     "data": {
      "text/plain": [
       "function"
      ]
     },
     "execution_count": 3,
     "metadata": {},
     "output_type": "execute_result"
    }
   ],
   "source": [
    "type(hello)"
   ]
  },
  {
   "cell_type": "code",
   "execution_count": 4,
   "id": "11deca07",
   "metadata": {},
   "outputs": [
    {
     "name": "stdout",
     "output_type": "stream",
     "text": [
      "<function hello at 0x000001744BF38790>\n"
     ]
    }
   ],
   "source": [
    "print(hello)"
   ]
  },
  {
   "cell_type": "code",
   "execution_count": 5,
   "id": "f2962d0f",
   "metadata": {},
   "outputs": [
    {
     "name": "stdout",
     "output_type": "stream",
     "text": [
      "welcome to tops\n"
     ]
    }
   ],
   "source": [
    "hello()"
   ]
  },
  {
   "cell_type": "code",
   "execution_count": 7,
   "id": "fb813481",
   "metadata": {},
   "outputs": [],
   "source": [
    "a=hello"
   ]
  },
  {
   "cell_type": "code",
   "execution_count": 8,
   "id": "78cdb929",
   "metadata": {},
   "outputs": [
    {
     "name": "stdout",
     "output_type": "stream",
     "text": [
      "<function hello at 0x000001744BF38790>\n"
     ]
    }
   ],
   "source": [
    "print(a)"
   ]
  },
  {
   "cell_type": "code",
   "execution_count": 9,
   "id": "906fd0a9",
   "metadata": {},
   "outputs": [
    {
     "name": "stdout",
     "output_type": "stream",
     "text": [
      "welcome to tops\n"
     ]
    }
   ],
   "source": [
    "w=hello()"
   ]
  },
  {
   "cell_type": "code",
   "execution_count": 10,
   "id": "631b5724",
   "metadata": {},
   "outputs": [
    {
     "name": "stdout",
     "output_type": "stream",
     "text": [
      "None\n"
     ]
    }
   ],
   "source": [
    "print(w)"
   ]
  },
  {
   "cell_type": "code",
   "execution_count": 11,
   "id": "1aadb632",
   "metadata": {},
   "outputs": [
    {
     "data": {
      "text/plain": [
       "NoneType"
      ]
     },
     "execution_count": 11,
     "metadata": {},
     "output_type": "execute_result"
    }
   ],
   "source": [
    "type(w)"
   ]
  },
  {
   "cell_type": "code",
   "execution_count": 12,
   "id": "7949ca7a",
   "metadata": {},
   "outputs": [
    {
     "name": "stdout",
     "output_type": "stream",
     "text": [
      "welcome to tops\n"
     ]
    }
   ],
   "source": [
    "hello()"
   ]
  },
  {
   "cell_type": "code",
   "execution_count": 13,
   "id": "3ddb5cfa",
   "metadata": {},
   "outputs": [],
   "source": [
    "def life():\n",
    "    return 'not allow'"
   ]
  },
  {
   "cell_type": "code",
   "execution_count": 14,
   "id": "099f28a2",
   "metadata": {},
   "outputs": [
    {
     "data": {
      "text/plain": [
       "'not allow'"
      ]
     },
     "execution_count": 14,
     "metadata": {},
     "output_type": "execute_result"
    }
   ],
   "source": [
    "life()\n"
   ]
  },
  {
   "cell_type": "code",
   "execution_count": null,
   "id": "664d7ff6",
   "metadata": {},
   "outputs": [],
   "source": [
    "# function arguments "
   ]
  },
  {
   "cell_type": "code",
   "execution_count": 15,
   "id": "f238899c",
   "metadata": {},
   "outputs": [],
   "source": [
    "def hello(name):\n",
    "    return f\"hello {name}\""
   ]
  },
  {
   "cell_type": "code",
   "execution_count": 16,
   "id": "9fce05c4",
   "metadata": {},
   "outputs": [
    {
     "ename": "TypeError",
     "evalue": "hello() missing 1 required positional argument: 'name'",
     "output_type": "error",
     "traceback": [
      "\u001b[1;31m---------------------------------------------------------------------------\u001b[0m",
      "\u001b[1;31mTypeError\u001b[0m                                 Traceback (most recent call last)",
      "Input \u001b[1;32mIn [16]\u001b[0m, in \u001b[0;36m<cell line: 1>\u001b[1;34m()\u001b[0m\n\u001b[1;32m----> 1\u001b[0m \u001b[43mhello\u001b[49m\u001b[43m(\u001b[49m\u001b[43m)\u001b[49m\n",
      "\u001b[1;31mTypeError\u001b[0m: hello() missing 1 required positional argument: 'name'"
     ]
    }
   ],
   "source": [
    "hello()"
   ]
  },
  {
   "cell_type": "code",
   "execution_count": 18,
   "id": "deaec31f",
   "metadata": {},
   "outputs": [
    {
     "data": {
      "text/plain": [
       "'hello naresh'"
      ]
     },
     "execution_count": 18,
     "metadata": {},
     "output_type": "execute_result"
    }
   ],
   "source": [
    "hello('naresh')"
   ]
  },
  {
   "cell_type": "code",
   "execution_count": 19,
   "id": "411c0929",
   "metadata": {},
   "outputs": [
    {
     "data": {
      "text/plain": [
       "'hello vishal'"
      ]
     },
     "execution_count": 19,
     "metadata": {},
     "output_type": "execute_result"
    }
   ],
   "source": [
    "hello('vishal')"
   ]
  },
  {
   "cell_type": "code",
   "execution_count": 20,
   "id": "e4bb6185",
   "metadata": {},
   "outputs": [
    {
     "data": {
      "text/plain": [
       "'hello nishad'"
      ]
     },
     "execution_count": 20,
     "metadata": {},
     "output_type": "execute_result"
    }
   ],
   "source": [
    "hello('nishad')"
   ]
  },
  {
   "cell_type": "code",
   "execution_count": 21,
   "id": "8fc93f83",
   "metadata": {},
   "outputs": [],
   "source": [
    "def data(name,age):\n",
    "    return f\" hello {name} your are {age} year's old\""
   ]
  },
  {
   "cell_type": "code",
   "execution_count": 23,
   "id": "fd62e5f6",
   "metadata": {},
   "outputs": [
    {
     "data": {
      "text/plain": [
       "\" hello naresh your are 23 year's old\""
      ]
     },
     "execution_count": 23,
     "metadata": {},
     "output_type": "execute_result"
    }
   ],
   "source": [
    "data ('naresh',23)"
   ]
  },
  {
   "cell_type": "code",
   "execution_count": 24,
   "id": "8c3c39a6",
   "metadata": {},
   "outputs": [
    {
     "data": {
      "text/plain": [
       "\" hello 23 your are naresh year's old\""
      ]
     },
     "execution_count": 24,
     "metadata": {},
     "output_type": "execute_result"
    }
   ],
   "source": [
    "data (23,'naresh')"
   ]
  },
  {
   "cell_type": "code",
   "execution_count": 26,
   "id": "6f3ef162",
   "metadata": {},
   "outputs": [
    {
     "data": {
      "text/plain": [
       "\" hello naresh your are 26 year's old\""
      ]
     },
     "execution_count": 26,
     "metadata": {},
     "output_type": "execute_result"
    }
   ],
   "source": [
    "data(age='26', name='naresh')"
   ]
  },
  {
   "cell_type": "code",
   "execution_count": 27,
   "id": "e5540bd8",
   "metadata": {},
   "outputs": [
    {
     "data": {
      "text/plain": [
       "\" hello vishal your are 21 year's old\""
      ]
     },
     "execution_count": 27,
     "metadata": {},
     "output_type": "execute_result"
    }
   ],
   "source": [
    "data('vishal',21)"
   ]
  },
  {
   "cell_type": "code",
   "execution_count": 31,
   "id": "37f997c4",
   "metadata": {},
   "outputs": [],
   "source": [
    "def add(x,y):\n",
    "    print(x+y)"
   ]
  },
  {
   "cell_type": "code",
   "execution_count": 32,
   "id": "95e6c73e",
   "metadata": {},
   "outputs": [
    {
     "name": "stdout",
     "output_type": "stream",
     "text": [
      "15\n"
     ]
    }
   ],
   "source": [
    "add(6,9)"
   ]
  },
  {
   "cell_type": "code",
   "execution_count": 33,
   "id": "1f58eae1",
   "metadata": {},
   "outputs": [
    {
     "name": "stdout",
     "output_type": "stream",
     "text": [
      "856614\n"
     ]
    }
   ],
   "source": [
    "add(25,856589)"
   ]
  },
  {
   "cell_type": "code",
   "execution_count": 34,
   "id": "15f4b294",
   "metadata": {},
   "outputs": [
    {
     "ename": "TypeError",
     "evalue": "add() missing 1 required positional argument: 'y'",
     "output_type": "error",
     "traceback": [
      "\u001b[1;31m---------------------------------------------------------------------------\u001b[0m",
      "\u001b[1;31mTypeError\u001b[0m                                 Traceback (most recent call last)",
      "Input \u001b[1;32mIn [34]\u001b[0m, in \u001b[0;36m<cell line: 1>\u001b[1;34m()\u001b[0m\n\u001b[1;32m----> 1\u001b[0m \u001b[43madd\u001b[49m\u001b[43m(\u001b[49m\u001b[38;5;241;43m4\u001b[39;49m\u001b[43m)\u001b[49m\n",
      "\u001b[1;31mTypeError\u001b[0m: add() missing 1 required positional argument: 'y'"
     ]
    }
   ],
   "source": [
    "add(4)"
   ]
  },
  {
   "cell_type": "code",
   "execution_count": 4,
   "id": "dfd2db4b",
   "metadata": {},
   "outputs": [
    {
     "data": {
      "text/plain": [
       "42"
      ]
     },
     "execution_count": 4,
     "metadata": {},
     "output_type": "execute_result"
    }
   ],
   "source": [
    "def data(x,y):\n",
    "    if type(x)==str and type(y) !=str or type(x)==int and type(y) !=int or type(x)==str and type(y)==str:\n",
    "        print('both arguement should be the int type')\n",
    "    else:\n",
    "        return (x*y)\n",
    "\n",
    "\n",
    "data(6,7)"
   ]
  },
  {
   "cell_type": "code",
   "execution_count": 54,
   "id": "dd638382",
   "metadata": {},
   "outputs": [
    {
     "data": {
      "text/plain": [
       "45"
      ]
     },
     "execution_count": 54,
     "metadata": {},
     "output_type": "execute_result"
    }
   ],
   "source": [
    "data(5,9)"
   ]
  },
  {
   "cell_type": "code",
   "execution_count": 55,
   "id": "dceb3724",
   "metadata": {},
   "outputs": [
    {
     "name": "stdout",
     "output_type": "stream",
     "text": [
      "both arguement should be the int type\n"
     ]
    }
   ],
   "source": [
    "data('a',4)"
   ]
  },
  {
   "cell_type": "code",
   "execution_count": 56,
   "id": "ed0de19d",
   "metadata": {},
   "outputs": [
    {
     "name": "stdout",
     "output_type": "stream",
     "text": [
      "both arguement should be the int type\n"
     ]
    }
   ],
   "source": [
    "data(8,'t')"
   ]
  },
  {
   "cell_type": "code",
   "execution_count": 3,
   "id": "142c423b",
   "metadata": {},
   "outputs": [
    {
     "ename": "NameError",
     "evalue": "name 'data' is not defined",
     "output_type": "error",
     "traceback": [
      "\u001b[1;31m---------------------------------------------------------------------------\u001b[0m",
      "\u001b[1;31mNameError\u001b[0m                                 Traceback (most recent call last)",
      "\u001b[1;32mh:\\Python\\practice_python\\functions.ipynb Cell 34\u001b[0m in \u001b[0;36m<cell line: 1>\u001b[1;34m()\u001b[0m\n\u001b[1;32m----> <a href='vscode-notebook-cell:/h%3A/Python/practice_python/functions.ipynb#X45sZmlsZQ%3D%3D?line=0'>1</a>\u001b[0m data(\u001b[39m'\u001b[39m\u001b[39mt\u001b[39m\u001b[39m'\u001b[39m,\u001b[39m'\u001b[39m\u001b[39mr\u001b[39m\u001b[39m'\u001b[39m)\n",
      "\u001b[1;31mNameError\u001b[0m: name 'data' is not defined"
     ]
    }
   ],
   "source": [
    "data('t','r')"
   ]
  },
  {
   "cell_type": "code",
   "execution_count": 58,
   "id": "b75c03f7",
   "metadata": {},
   "outputs": [],
   "source": [
    "##default arguments\n"
   ]
  },
  {
   "cell_type": "code",
   "execution_count": 10,
   "id": "1a33bc21",
   "metadata": {},
   "outputs": [
    {
     "name": "stdout",
     "output_type": "stream",
     "text": [
      " hello dear naresh your age is 23 & your mobile number is 85698\n",
      " hello dear naresh your age is 23 & your mobile number is 874562\n"
     ]
    }
   ],
   "source": [
    "def new(name, age, mobile=None):\n",
    "    if mobile:\n",
    "        print (f\" hello dear {name} your age is {age} & your mobile number is {mobile}\")\n",
    "    else:\n",
    "        print (f\" hello dear {name} your age is {age}\")\n",
    "        \n",
    "\n",
    "new('naresh',23,85698)\n",
    "\n",
    "\n",
    "new(name='naresh',mobile=874562, age=23)"
   ]
  },
  {
   "cell_type": "code",
   "execution_count": 1,
   "id": "9955e8fd",
   "metadata": {},
   "outputs": [
    {
     "ename": "NameError",
     "evalue": "name 'new' is not defined",
     "output_type": "error",
     "traceback": [
      "\u001b[1;31m---------------------------------------------------------------------------\u001b[0m",
      "\u001b[1;31mNameError\u001b[0m                                 Traceback (most recent call last)",
      "\u001b[1;32mh:\\Python\\practice_python\\functions.ipynb Cell 37\u001b[0m in \u001b[0;36m<cell line: 1>\u001b[1;34m()\u001b[0m\n\u001b[1;32m----> <a href='vscode-notebook-cell:/h%3A/Python/practice_python/functions.ipynb#X51sZmlsZQ%3D%3D?line=0'>1</a>\u001b[0m new(\u001b[39m'\u001b[39m\u001b[39mnaresh\u001b[39m\u001b[39m'\u001b[39m,\u001b[39m23\u001b[39m)\n",
      "\u001b[1;31mNameError\u001b[0m: name 'new' is not defined"
     ]
    }
   ],
   "source": [
    "new('naresh',23)"
   ]
  },
  {
   "cell_type": "code",
   "execution_count": 71,
   "id": "a5c62918",
   "metadata": {},
   "outputs": [],
   "source": [
    "new('naresh',23,'class:python')"
   ]
  },
  {
   "cell_type": "code",
   "execution_count": 13,
   "id": "0c39353e",
   "metadata": {},
   "outputs": [],
   "source": [
    "def addition(x,y,*numbers):\n",
    "    s=x+y\n",
    "    for i in numbers:\n",
    "        s+=i\n",
    "    return s\n",
    "\n",
    "\n",
    "    addition(9,8)"
   ]
  },
  {
   "cell_type": "code",
   "execution_count": 14,
   "id": "92704d04",
   "metadata": {},
   "outputs": [
    {
     "data": {
      "text/plain": [
       "17"
      ]
     },
     "execution_count": 14,
     "metadata": {},
     "output_type": "execute_result"
    }
   ],
   "source": [
    "addition(8,9)"
   ]
  },
  {
   "cell_type": "code",
   "execution_count": 15,
   "id": "a89aa1ca",
   "metadata": {},
   "outputs": [
    {
     "data": {
      "text/plain": [
       "23"
      ]
     },
     "execution_count": 15,
     "metadata": {},
     "output_type": "execute_result"
    }
   ],
   "source": [
    "addition(7,6,4,3,3)"
   ]
  },
  {
   "cell_type": "code",
   "execution_count": 16,
   "id": "3ba128ef",
   "metadata": {},
   "outputs": [
    {
     "ename": "TypeError",
     "evalue": "addition() missing 1 required positional argument: 'y'",
     "output_type": "error",
     "traceback": [
      "\u001b[1;31m---------------------------------------------------------------------------\u001b[0m",
      "\u001b[1;31mTypeError\u001b[0m                                 Traceback (most recent call last)",
      "\u001b[1;32mh:\\Python\\practice_python\\functions.ipynb Cell 42\u001b[0m in \u001b[0;36m<cell line: 1>\u001b[1;34m()\u001b[0m\n\u001b[1;32m----> <a href='vscode-notebook-cell:/h%3A/Python/practice_python/functions.ipynb#X56sZmlsZQ%3D%3D?line=0'>1</a>\u001b[0m addition(\u001b[39m5\u001b[39;49m)\n",
      "\u001b[1;31mTypeError\u001b[0m: addition() missing 1 required positional argument: 'y'"
     ]
    }
   ],
   "source": [
    "addition(5)"
   ]
  },
  {
   "cell_type": "code",
   "execution_count": 17,
   "id": "78df041e",
   "metadata": {},
   "outputs": [
    {
     "ename": "TypeError",
     "evalue": "addition() missing 2 required positional arguments: 'x' and 'y'",
     "output_type": "error",
     "traceback": [
      "\u001b[1;31m---------------------------------------------------------------------------\u001b[0m",
      "\u001b[1;31mTypeError\u001b[0m                                 Traceback (most recent call last)",
      "\u001b[1;32mh:\\Python\\practice_python\\functions.ipynb Cell 43\u001b[0m in \u001b[0;36m<cell line: 1>\u001b[1;34m()\u001b[0m\n\u001b[1;32m----> <a href='vscode-notebook-cell:/h%3A/Python/practice_python/functions.ipynb#X60sZmlsZQ%3D%3D?line=0'>1</a>\u001b[0m addition()\n",
      "\u001b[1;31mTypeError\u001b[0m: addition() missing 2 required positional arguments: 'x' and 'y'"
     ]
    }
   ],
   "source": [
    "addition()"
   ]
  },
  {
   "cell_type": "code",
   "execution_count": 18,
   "id": "a58f0754",
   "metadata": {},
   "outputs": [
    {
     "data": {
      "text/plain": [
       "47"
      ]
     },
     "execution_count": 18,
     "metadata": {},
     "output_type": "execute_result"
    }
   ],
   "source": [
    "addition(5,6,7,4,3,2,8,7,5)"
   ]
  },
  {
   "cell_type": "code",
   "execution_count": 19,
   "id": "ca269934",
   "metadata": {},
   "outputs": [],
   "source": [
    "def info(**data):\n",
    "    print(data)\n",
    "    "
   ]
  },
  {
   "cell_type": "code",
   "execution_count": 20,
   "id": "aa7ffa76",
   "metadata": {},
   "outputs": [
    {
     "ename": "TypeError",
     "evalue": "info() takes 0 positional arguments but 1 was given",
     "output_type": "error",
     "traceback": [
      "\u001b[1;31m---------------------------------------------------------------------------\u001b[0m",
      "\u001b[1;31mTypeError\u001b[0m                                 Traceback (most recent call last)",
      "\u001b[1;32mh:\\Python\\practice_python\\functions.ipynb Cell 46\u001b[0m in \u001b[0;36m<cell line: 1>\u001b[1;34m()\u001b[0m\n\u001b[1;32m----> <a href='vscode-notebook-cell:/h%3A/Python/practice_python/functions.ipynb#X63sZmlsZQ%3D%3D?line=0'>1</a>\u001b[0m info(\u001b[39m'\u001b[39;49m\u001b[39mname\u001b[39;49m\u001b[39m'\u001b[39;49m)\n",
      "\u001b[1;31mTypeError\u001b[0m: info() takes 0 positional arguments but 1 was given"
     ]
    }
   ],
   "source": [
    "info('name')"
   ]
  },
  {
   "cell_type": "code",
   "execution_count": 5,
   "id": "85f3c75b",
   "metadata": {},
   "outputs": [
    {
     "ename": "NameError",
     "evalue": "name 'info' is not defined",
     "output_type": "error",
     "traceback": [
      "\u001b[1;31m---------------------------------------------------------------------------\u001b[0m",
      "\u001b[1;31mNameError\u001b[0m                                 Traceback (most recent call last)",
      "\u001b[1;32mh:\\Python\\practice_python\\functions.ipynb Cell 47\u001b[0m in \u001b[0;36m<cell line: 1>\u001b[1;34m()\u001b[0m\n\u001b[1;32m----> <a href='vscode-notebook-cell:/h%3A/Python/practice_python/functions.ipynb#X64sZmlsZQ%3D%3D?line=0'>1</a>\u001b[0m info(name\u001b[39m=\u001b[39m\u001b[39m'\u001b[39m\u001b[39mnaresh\u001b[39m\u001b[39m'\u001b[39m,sub\u001b[39m=\u001b[39m\u001b[39m'\u001b[39m\u001b[39mpython\u001b[39m\u001b[39m'\u001b[39m)\n",
      "\u001b[1;31mNameError\u001b[0m: name 'info' is not defined"
     ]
    }
   ],
   "source": [
    "info(name='naresh',sub='python')"
   ]
  },
  {
   "cell_type": "code",
   "execution_count": 34,
   "id": "bf9f3688",
   "metadata": {},
   "outputs": [],
   "source": [
    "def stu(name, city,**others):\n",
    "    data ={\n",
    "        \"name\":name,\n",
    "        \"city\":city,\n",
    "    }\n",
    "    data.update(others)\n",
    "    return data\n"
   ]
  },
  {
   "cell_type": "code",
   "execution_count": 37,
   "id": "229d3f26",
   "metadata": {},
   "outputs": [
    {
     "data": {
      "text/plain": [
       "{'name': 'naresh', 'city': 'ahmedabad', 'sub': 'pyhon', 'mobile': 84465646}"
      ]
     },
     "execution_count": 37,
     "metadata": {},
     "output_type": "execute_result"
    }
   ],
   "source": [
    "stu('naresh','ahmedabad' , sub='pyhon', mobile=84465646)"
   ]
  },
  {
   "cell_type": "code",
   "execution_count": 1,
   "id": "e4aaab39",
   "metadata": {},
   "outputs": [],
   "source": [
    "def hello():\n",
    "    print('hello students')"
   ]
  },
  {
   "cell_type": "code",
   "execution_count": 2,
   "id": "18c090e0",
   "metadata": {},
   "outputs": [
    {
     "data": {
      "text/plain": [
       "function"
      ]
     },
     "execution_count": 2,
     "metadata": {},
     "output_type": "execute_result"
    }
   ],
   "source": [
    "type(hello)"
   ]
  },
  {
   "cell_type": "code",
   "execution_count": 3,
   "id": "220681ba",
   "metadata": {},
   "outputs": [
    {
     "name": "stdout",
     "output_type": "stream",
     "text": [
      "hello students\n"
     ]
    }
   ],
   "source": [
    "hello()"
   ]
  },
  {
   "cell_type": "code",
   "execution_count": 4,
   "id": "48e0f39a",
   "metadata": {},
   "outputs": [],
   "source": [
    "a=hello"
   ]
  },
  {
   "cell_type": "code",
   "execution_count": 5,
   "id": "a5e5876d",
   "metadata": {},
   "outputs": [
    {
     "data": {
      "text/plain": [
       "<function __main__.hello()>"
      ]
     },
     "execution_count": 5,
     "metadata": {},
     "output_type": "execute_result"
    }
   ],
   "source": [
    "a"
   ]
  },
  {
   "cell_type": "code",
   "execution_count": 6,
   "id": "a20d9448",
   "metadata": {},
   "outputs": [
    {
     "data": {
      "text/plain": [
       "function"
      ]
     },
     "execution_count": 6,
     "metadata": {},
     "output_type": "execute_result"
    }
   ],
   "source": [
    "type(a)"
   ]
  },
  {
   "cell_type": "code",
   "execution_count": 7,
   "id": "388aec6e",
   "metadata": {},
   "outputs": [
    {
     "name": "stdout",
     "output_type": "stream",
     "text": [
      "<function hello at 0x00000202C574F280>\n"
     ]
    }
   ],
   "source": [
    "print(a)"
   ]
  },
  {
   "cell_type": "code",
   "execution_count": 8,
   "id": "b68d1ef9",
   "metadata": {},
   "outputs": [
    {
     "name": "stdout",
     "output_type": "stream",
     "text": [
      "hello students\n"
     ]
    }
   ],
   "source": [
    "a=hello()"
   ]
  },
  {
   "cell_type": "code",
   "execution_count": 9,
   "id": "7764bf61",
   "metadata": {},
   "outputs": [
    {
     "data": {
      "text/plain": [
       "NoneType"
      ]
     },
     "execution_count": 9,
     "metadata": {},
     "output_type": "execute_result"
    }
   ],
   "source": [
    "type(a)"
   ]
  },
  {
   "cell_type": "code",
   "execution_count": 10,
   "id": "1459f40a",
   "metadata": {},
   "outputs": [
    {
     "name": "stdout",
     "output_type": "stream",
     "text": [
      "None\n"
     ]
    }
   ],
   "source": [
    "print(a)"
   ]
  },
  {
   "cell_type": "code",
   "execution_count": 9,
   "id": "ff7fa871",
   "metadata": {},
   "outputs": [],
   "source": [
    "def tata(name):\n",
    "    print(f'hello {name}')"
   ]
  },
  {
   "cell_type": "code",
   "execution_count": 10,
   "id": "3c2bd0b3",
   "metadata": {},
   "outputs": [
    {
     "name": "stdout",
     "output_type": "stream",
     "text": [
      "hello naresh\n"
     ]
    }
   ],
   "source": [
    "tata('naresh')"
   ]
  },
  {
   "cell_type": "code",
   "execution_count": 13,
   "id": "e7f92898",
   "metadata": {},
   "outputs": [
    {
     "name": "stdout",
     "output_type": "stream",
     "text": [
      "hello naresh\n"
     ]
    }
   ],
   "source": [
    "tata('naresh')"
   ]
  },
  {
   "cell_type": "code",
   "execution_count": 14,
   "id": "132091d7",
   "metadata": {},
   "outputs": [
    {
     "name": "stdout",
     "output_type": "stream",
     "text": [
      "hello 856\n"
     ]
    }
   ],
   "source": [
    "tata('856')"
   ]
  },
  {
   "cell_type": "code",
   "execution_count": 19,
   "id": "18a3ef51",
   "metadata": {},
   "outputs": [],
   "source": [
    "def tata(name,age,sub):\n",
    "    print(f'hello {name} ! you are {age} years old, your subject is {sub}')"
   ]
  },
  {
   "cell_type": "code",
   "execution_count": 20,
   "id": "5d1de60a",
   "metadata": {},
   "outputs": [
    {
     "name": "stdout",
     "output_type": "stream",
     "text": [
      "hello naresh ! you are 25 years old, your subject is python\n"
     ]
    }
   ],
   "source": [
    "tata('naresh',25,'python')"
   ]
  },
  {
   "cell_type": "code",
   "execution_count": 21,
   "id": "4ff649bc",
   "metadata": {},
   "outputs": [
    {
     "name": "stdout",
     "output_type": "stream",
     "text": [
      "hello naresh ! you are 25 years old, your subject is python\n"
     ]
    }
   ],
   "source": [
    "tata(age=25,name='naresh',sub='python')"
   ]
  },
  {
   "cell_type": "code",
   "execution_count": 22,
   "id": "ce597b66",
   "metadata": {},
   "outputs": [],
   "source": [
    "def data(*numbers):\n",
    "    b=0\n",
    "    for i in numbers:\n",
    "        b+=i\n",
    "    return b\n"
   ]
  },
  {
   "cell_type": "code",
   "execution_count": 23,
   "id": "7a42cdd7",
   "metadata": {},
   "outputs": [
    {
     "data": {
      "text/plain": [
       "28"
      ]
     },
     "execution_count": 23,
     "metadata": {},
     "output_type": "execute_result"
    }
   ],
   "source": [
    "data(8,5,4,6,3,2)"
   ]
  },
  {
   "cell_type": "code",
   "execution_count": 2,
   "id": "0acd8461",
   "metadata": {},
   "outputs": [],
   "source": [
    "def status(name,age,mobile):\n",
    "    if type(name)==str and type(age)==int and type(mobile)==int:\n",
    "        return f\" hello {name}! your age is {age}, for contact to call and text this number {mobile}\"\n",
    "    else:\n",
    "        return \"please confirm your all details and resubmit\""
   ]
  },
  {
   "cell_type": "code",
   "execution_count": 3,
   "id": "ebf35b85",
   "metadata": {},
   "outputs": [
    {
     "data": {
      "text/plain": [
       "' hello naresh! your age is 25, for contact to call and text this number 54879894'"
      ]
     },
     "execution_count": 3,
     "metadata": {},
     "output_type": "execute_result"
    }
   ],
   "source": [
    "status(name='naresh',age=25,mobile=54879894)"
   ]
  },
  {
   "cell_type": "code",
   "execution_count": 4,
   "id": "9ae29d75",
   "metadata": {},
   "outputs": [
    {
     "data": {
      "text/plain": [
       "'please confirm your all details and resubmit'"
      ]
     },
     "execution_count": 4,
     "metadata": {},
     "output_type": "execute_result"
    }
   ],
   "source": [
    "status('naresh',25,'de')"
   ]
  },
  {
   "cell_type": "code",
   "execution_count": null,
   "id": "9f4fb6f0",
   "metadata": {},
   "outputs": [],
   "source": []
  }
 ],
 "metadata": {
  "kernelspec": {
   "display_name": "Python 3.9.12 ('base')",
   "language": "python",
   "name": "python3"
  },
  "language_info": {
   "codemirror_mode": {
    "name": "ipython",
    "version": 3
   },
   "file_extension": ".py",
   "mimetype": "text/x-python",
   "name": "python",
   "nbconvert_exporter": "python",
   "pygments_lexer": "ipython3",
   "version": "3.9.12"
  },
  "vscode": {
   "interpreter": {
    "hash": "5ae58900cfbb8c43ab3495913814b7cf26024f51651a94ce8bf64d6111688e8d"
   }
  }
 },
 "nbformat": 4,
 "nbformat_minor": 5
}
