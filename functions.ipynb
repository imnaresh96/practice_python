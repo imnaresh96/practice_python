{
 "cells": [
  {
   "cell_type": "markdown",
   "id": "df2e4ca1",
   "metadata": {},
   "source": [
    "### function practice"
   ]
  },
  {
   "cell_type": "markdown",
   "id": "ad820961",
   "metadata": {},
   "source": [
    "##### simple function"
   ]
  },
  {
   "cell_type": "code",
   "execution_count": 2,
   "id": "fe7141c8",
   "metadata": {},
   "outputs": [],
   "source": [
    "def hello():\n",
    "    print('welcome to tops')"
   ]
  },
  {
   "cell_type": "code",
   "execution_count": 3,
   "id": "b0ca8319",
   "metadata": {},
   "outputs": [
    {
     "data": {
      "text/plain": [
       "function"
      ]
     },
     "execution_count": 3,
     "metadata": {},
     "output_type": "execute_result"
    }
   ],
   "source": [
    "type(hello)"
   ]
  },
  {
   "cell_type": "code",
   "execution_count": 4,
   "id": "11deca07",
   "metadata": {},
   "outputs": [
    {
     "name": "stdout",
     "output_type": "stream",
     "text": [
      "<function hello at 0x000001744BF38790>\n"
     ]
    }
   ],
   "source": [
    "print(hello)"
   ]
  },
  {
   "cell_type": "code",
   "execution_count": 5,
   "id": "f2962d0f",
   "metadata": {},
   "outputs": [
    {
     "name": "stdout",
     "output_type": "stream",
     "text": [
      "welcome to tops\n"
     ]
    }
   ],
   "source": [
    "hello()"
   ]
  },
  {
   "cell_type": "code",
   "execution_count": 7,
   "id": "fb813481",
   "metadata": {},
   "outputs": [],
   "source": [
    "a=hello"
   ]
  },
  {
   "cell_type": "code",
   "execution_count": 8,
   "id": "78cdb929",
   "metadata": {},
   "outputs": [
    {
     "name": "stdout",
     "output_type": "stream",
     "text": [
      "<function hello at 0x000001744BF38790>\n"
     ]
    }
   ],
   "source": [
    "print(a)"
   ]
  },
  {
   "cell_type": "code",
   "execution_count": 9,
   "id": "906fd0a9",
   "metadata": {},
   "outputs": [
    {
     "name": "stdout",
     "output_type": "stream",
     "text": [
      "welcome to tops\n"
     ]
    }
   ],
   "source": [
    "w=hello()"
   ]
  },
  {
   "cell_type": "code",
   "execution_count": 10,
   "id": "631b5724",
   "metadata": {},
   "outputs": [
    {
     "name": "stdout",
     "output_type": "stream",
     "text": [
      "None\n"
     ]
    }
   ],
   "source": [
    "print(w)"
   ]
  },
  {
   "cell_type": "code",
   "execution_count": 11,
   "id": "1aadb632",
   "metadata": {},
   "outputs": [
    {
     "data": {
      "text/plain": [
       "NoneType"
      ]
     },
     "execution_count": 11,
     "metadata": {},
     "output_type": "execute_result"
    }
   ],
   "source": [
    "type(w)"
   ]
  },
  {
   "cell_type": "code",
   "execution_count": 12,
   "id": "7949ca7a",
   "metadata": {},
   "outputs": [
    {
     "name": "stdout",
     "output_type": "stream",
     "text": [
      "welcome to tops\n"
     ]
    }
   ],
   "source": [
    "hello()"
   ]
  },
  {
   "cell_type": "code",
   "execution_count": 13,
   "id": "3ddb5cfa",
   "metadata": {},
   "outputs": [],
   "source": [
    "def life():\n",
    "    return 'not allow'"
   ]
  },
  {
   "cell_type": "code",
   "execution_count": 14,
   "id": "099f28a2",
   "metadata": {},
   "outputs": [
    {
     "data": {
      "text/plain": [
       "'not allow'"
      ]
     },
     "execution_count": 14,
     "metadata": {},
     "output_type": "execute_result"
    }
   ],
   "source": [
    "life()\n"
   ]
  },
  {
   "cell_type": "code",
   "execution_count": null,
   "id": "664d7ff6",
   "metadata": {},
   "outputs": [],
   "source": [
    "# function arguments "
   ]
  },
  {
   "cell_type": "code",
   "execution_count": 15,
   "id": "f238899c",
   "metadata": {},
   "outputs": [],
   "source": [
    "def hello(name):\n",
    "    return f\"hello {name}\""
   ]
  },
  {
   "cell_type": "code",
   "execution_count": 16,
   "id": "9fce05c4",
   "metadata": {},
   "outputs": [
    {
     "ename": "TypeError",
     "evalue": "hello() missing 1 required positional argument: 'name'",
     "output_type": "error",
     "traceback": [
      "\u001b[1;31m---------------------------------------------------------------------------\u001b[0m",
      "\u001b[1;31mTypeError\u001b[0m                                 Traceback (most recent call last)",
      "Input \u001b[1;32mIn [16]\u001b[0m, in \u001b[0;36m<cell line: 1>\u001b[1;34m()\u001b[0m\n\u001b[1;32m----> 1\u001b[0m \u001b[43mhello\u001b[49m\u001b[43m(\u001b[49m\u001b[43m)\u001b[49m\n",
      "\u001b[1;31mTypeError\u001b[0m: hello() missing 1 required positional argument: 'name'"
     ]
    }
   ],
   "source": [
    "hello()"
   ]
  },
  {
   "cell_type": "code",
   "execution_count": 18,
   "id": "deaec31f",
   "metadata": {},
   "outputs": [
    {
     "data": {
      "text/plain": [
       "'hello naresh'"
      ]
     },
     "execution_count": 18,
     "metadata": {},
     "output_type": "execute_result"
    }
   ],
   "source": [
    "hello('naresh')"
   ]
  },
  {
   "cell_type": "code",
   "execution_count": 19,
   "id": "411c0929",
   "metadata": {},
   "outputs": [
    {
     "data": {
      "text/plain": [
       "'hello vishal'"
      ]
     },
     "execution_count": 19,
     "metadata": {},
     "output_type": "execute_result"
    }
   ],
   "source": [
    "hello('vishal')"
   ]
  },
  {
   "cell_type": "code",
   "execution_count": 20,
   "id": "e4bb6185",
   "metadata": {},
   "outputs": [
    {
     "data": {
      "text/plain": [
       "'hello nishad'"
      ]
     },
     "execution_count": 20,
     "metadata": {},
     "output_type": "execute_result"
    }
   ],
   "source": [
    "hello('nishad')"
   ]
  },
  {
   "cell_type": "code",
   "execution_count": 21,
   "id": "8fc93f83",
   "metadata": {},
   "outputs": [],
   "source": [
    "def data(name,age):\n",
    "    return f\" hello {name} your are {age} year's old\""
   ]
  },
  {
   "cell_type": "code",
   "execution_count": 23,
   "id": "fd62e5f6",
   "metadata": {},
   "outputs": [
    {
     "data": {
      "text/plain": [
       "\" hello naresh your are 23 year's old\""
      ]
     },
     "execution_count": 23,
     "metadata": {},
     "output_type": "execute_result"
    }
   ],
   "source": [
    "data ('naresh',23)"
   ]
  },
  {
   "cell_type": "code",
   "execution_count": 24,
   "id": "8c3c39a6",
   "metadata": {},
   "outputs": [
    {
     "data": {
      "text/plain": [
       "\" hello 23 your are naresh year's old\""
      ]
     },
     "execution_count": 24,
     "metadata": {},
     "output_type": "execute_result"
    }
   ],
   "source": [
    "data (23,'naresh')"
   ]
  },
  {
   "cell_type": "code",
   "execution_count": 26,
   "id": "6f3ef162",
   "metadata": {},
   "outputs": [
    {
     "data": {
      "text/plain": [
       "\" hello naresh your are 26 year's old\""
      ]
     },
     "execution_count": 26,
     "metadata": {},
     "output_type": "execute_result"
    }
   ],
   "source": [
    "data(age='26', name='naresh')"
   ]
  },
  {
   "cell_type": "code",
   "execution_count": 27,
   "id": "e5540bd8",
   "metadata": {},
   "outputs": [
    {
     "data": {
      "text/plain": [
       "\" hello vishal your are 21 year's old\""
      ]
     },
     "execution_count": 27,
     "metadata": {},
     "output_type": "execute_result"
    }
   ],
   "source": [
    "data('vishal',21)"
   ]
  },
  {
   "cell_type": "code",
   "execution_count": 31,
   "id": "37f997c4",
   "metadata": {},
   "outputs": [],
   "source": [
    "def add(x,y):\n",
    "    print(x+y)"
   ]
  },
  {
   "cell_type": "code",
   "execution_count": 32,
   "id": "95e6c73e",
   "metadata": {},
   "outputs": [
    {
     "name": "stdout",
     "output_type": "stream",
     "text": [
      "15\n"
     ]
    }
   ],
   "source": [
    "add(6,9)"
   ]
  },
  {
   "cell_type": "code",
   "execution_count": 33,
   "id": "1f58eae1",
   "metadata": {},
   "outputs": [
    {
     "name": "stdout",
     "output_type": "stream",
     "text": [
      "856614\n"
     ]
    }
   ],
   "source": [
    "add(25,856589)"
   ]
  },
  {
   "cell_type": "code",
   "execution_count": 34,
   "id": "15f4b294",
   "metadata": {},
   "outputs": [
    {
     "ename": "TypeError",
     "evalue": "add() missing 1 required positional argument: 'y'",
     "output_type": "error",
     "traceback": [
      "\u001b[1;31m---------------------------------------------------------------------------\u001b[0m",
      "\u001b[1;31mTypeError\u001b[0m                                 Traceback (most recent call last)",
      "Input \u001b[1;32mIn [34]\u001b[0m, in \u001b[0;36m<cell line: 1>\u001b[1;34m()\u001b[0m\n\u001b[1;32m----> 1\u001b[0m \u001b[43madd\u001b[49m\u001b[43m(\u001b[49m\u001b[38;5;241;43m4\u001b[39;49m\u001b[43m)\u001b[49m\n",
      "\u001b[1;31mTypeError\u001b[0m: add() missing 1 required positional argument: 'y'"
     ]
    }
   ],
   "source": [
    "add(4)"
   ]
  },
  {
   "cell_type": "code",
   "execution_count": 53,
   "id": "dfd2db4b",
   "metadata": {},
   "outputs": [],
   "source": [
    "def data(x,y):\n",
    "    if type(x)==str and type(y) !=str or type(x)==int and type(y) !=int or type(x)==str and type(y)==str:\n",
    "        print('both arguement should be the int type')\n",
    "    else:\n",
    "        return (x*y)"
   ]
  },
  {
   "cell_type": "code",
   "execution_count": 54,
   "id": "dd638382",
   "metadata": {},
   "outputs": [
    {
     "data": {
      "text/plain": [
       "45"
      ]
     },
     "execution_count": 54,
     "metadata": {},
     "output_type": "execute_result"
    }
   ],
   "source": [
    "data(5,9)"
   ]
  },
  {
   "cell_type": "code",
   "execution_count": 55,
   "id": "dceb3724",
   "metadata": {},
   "outputs": [
    {
     "name": "stdout",
     "output_type": "stream",
     "text": [
      "both arguement should be the int type\n"
     ]
    }
   ],
   "source": [
    "data('a',4)"
   ]
  },
  {
   "cell_type": "code",
   "execution_count": 56,
   "id": "ed0de19d",
   "metadata": {},
   "outputs": [
    {
     "name": "stdout",
     "output_type": "stream",
     "text": [
      "both arguement should be the int type\n"
     ]
    }
   ],
   "source": [
    "data(8,'t')"
   ]
  },
  {
   "cell_type": "code",
   "execution_count": 57,
   "id": "142c423b",
   "metadata": {},
   "outputs": [
    {
     "name": "stdout",
     "output_type": "stream",
     "text": [
      "both arguement should be the int type\n"
     ]
    }
   ],
   "source": [
    "data('t','r')"
   ]
  },
  {
   "cell_type": "code",
   "execution_count": 58,
   "id": "b75c03f7",
   "metadata": {},
   "outputs": [],
   "source": [
    "##default arguments\n"
   ]
  },
  {
   "cell_type": "code",
   "execution_count": 1,
   "id": "1a33bc21",
   "metadata": {},
   "outputs": [],
   "source": [
    "def new(name, age, mobile=None):\n",
    "    if mobile:\n",
    "        f\" hello dear {name} your age is {age} & your mobile number is {mobile}\"\n",
    "    else:\n",
    "        f\" hello dear {name} your age is {age}\"\n",
    "        "
   ]
  },
  {
   "cell_type": "code",
   "execution_count": 70,
   "id": "9955e8fd",
   "metadata": {},
   "outputs": [],
   "source": [
    "new('naresh',23)"
   ]
  },
  {
   "cell_type": "code",
   "execution_count": 71,
   "id": "a5c62918",
   "metadata": {},
   "outputs": [],
   "source": [
    "new('naresh',23,'class:python')"
   ]
  },
  {
   "cell_type": "code",
   "execution_count": null,
   "id": "0c39353e",
   "metadata": {},
   "outputs": [],
   "source": []
  }
 ],
 "metadata": {
  "kernelspec": {
   "display_name": "Python 3 (ipykernel)",
   "language": "python",
   "name": "python3"
  },
  "language_info": {
   "codemirror_mode": {
    "name": "ipython",
    "version": 3
   },
   "file_extension": ".py",
   "mimetype": "text/x-python",
   "name": "python",
   "nbconvert_exporter": "python",
   "pygments_lexer": "ipython3",
   "version": "3.9.12"
  }
 },
 "nbformat": 4,
 "nbformat_minor": 5
}
