{
 "cells": [
  {
   "cell_type": "code",
   "execution_count": 1,
   "id": "98a31713",
   "metadata": {},
   "outputs": [],
   "source": [
    "a='gg'"
   ]
  },
  {
   "cell_type": "code",
   "execution_count": 2,
   "id": "1cf67bfb",
   "metadata": {},
   "outputs": [
    {
     "data": {
      "text/plain": [
       "'gggh'"
      ]
     },
     "execution_count": 2,
     "metadata": {},
     "output_type": "execute_result"
    }
   ],
   "source": [
    "a+'gh'"
   ]
  },
  {
   "cell_type": "code",
   "execution_count": 3,
   "id": "0a2d7810",
   "metadata": {},
   "outputs": [],
   "source": [
    "a='hello this is demo'"
   ]
  },
  {
   "cell_type": "code",
   "execution_count": 4,
   "id": "07614d6e",
   "metadata": {},
   "outputs": [
    {
     "data": {
      "text/plain": [
       "'HELLO THIS IS DEMO'"
      ]
     },
     "execution_count": 4,
     "metadata": {},
     "output_type": "execute_result"
    }
   ],
   "source": [
    "a.upper()"
   ]
  },
  {
   "cell_type": "code",
   "execution_count": 5,
   "id": "053feee2",
   "metadata": {},
   "outputs": [
    {
     "data": {
      "text/plain": [
       "'hello this is demo'"
      ]
     },
     "execution_count": 5,
     "metadata": {},
     "output_type": "execute_result"
    }
   ],
   "source": [
    "a.lower()"
   ]
  },
  {
   "cell_type": "code",
   "execution_count": 6,
   "id": "a7fc720d",
   "metadata": {},
   "outputs": [
    {
     "data": {
      "text/plain": [
       "'Hello this is demo'"
      ]
     },
     "execution_count": 6,
     "metadata": {},
     "output_type": "execute_result"
    }
   ],
   "source": [
    "a.capitalize()"
   ]
  },
  {
   "cell_type": "code",
   "execution_count": 7,
   "id": "ced0e06b",
   "metadata": {},
   "outputs": [
    {
     "data": {
      "text/plain": [
       "'Hello This Is Demo'"
      ]
     },
     "execution_count": 7,
     "metadata": {},
     "output_type": "execute_result"
    }
   ],
   "source": [
    "a.title()"
   ]
  },
  {
   "cell_type": "code",
   "execution_count": 8,
   "id": "16730fd3",
   "metadata": {},
   "outputs": [
    {
     "data": {
      "text/plain": [
       "False"
      ]
     },
     "execution_count": 8,
     "metadata": {},
     "output_type": "execute_result"
    }
   ],
   "source": [
    "a.isupper()"
   ]
  },
  {
   "cell_type": "code",
   "execution_count": 9,
   "id": "21d9195d",
   "metadata": {},
   "outputs": [
    {
     "data": {
      "text/plain": [
       "True"
      ]
     },
     "execution_count": 9,
     "metadata": {},
     "output_type": "execute_result"
    }
   ],
   "source": [
    "a.islower()"
   ]
  },
  {
   "cell_type": "code",
   "execution_count": 14,
   "id": "d09a8ce4",
   "metadata": {},
   "outputs": [],
   "source": [
    "d=[* range(1,11)]"
   ]
  },
  {
   "cell_type": "code",
   "execution_count": 15,
   "id": "191a1b85",
   "metadata": {},
   "outputs": [
    {
     "data": {
      "text/plain": [
       "[1, 2, 3, 4, 5, 6, 7, 8, 9, 10]"
      ]
     },
     "execution_count": 15,
     "metadata": {},
     "output_type": "execute_result"
    }
   ],
   "source": [
    "d"
   ]
  },
  {
   "cell_type": "code",
   "execution_count": 16,
   "id": "990405c8",
   "metadata": {},
   "outputs": [
    {
     "data": {
      "text/plain": [
       "'hello this is demo'"
      ]
     },
     "execution_count": 16,
     "metadata": {},
     "output_type": "execute_result"
    }
   ],
   "source": [
    "a"
   ]
  },
  {
   "cell_type": "code",
   "execution_count": 17,
   "id": "ec0105b3",
   "metadata": {},
   "outputs": [],
   "source": [
    "b=a.split(' ')[::-1]"
   ]
  },
  {
   "cell_type": "code",
   "execution_count": 18,
   "id": "82eec619",
   "metadata": {},
   "outputs": [],
   "source": [
    "c=' '.join(b)"
   ]
  },
  {
   "cell_type": "code",
   "execution_count": 19,
   "id": "fcc83883",
   "metadata": {},
   "outputs": [
    {
     "data": {
      "text/plain": [
       "'demo is this hello'"
      ]
     },
     "execution_count": 19,
     "metadata": {},
     "output_type": "execute_result"
    }
   ],
   "source": [
    "c"
   ]
  },
  {
   "cell_type": "code",
   "execution_count": 20,
   "id": "1bbe3328",
   "metadata": {},
   "outputs": [],
   "source": [
    "d=84846448"
   ]
  },
  {
   "cell_type": "code",
   "execution_count": 23,
   "id": "be86fe51",
   "metadata": {},
   "outputs": [
    {
     "name": "stdout",
     "output_type": "stream",
     "text": [
      "84464848\n"
     ]
    }
   ],
   "source": [
    "d=print(str(d)[::-1])"
   ]
  },
  {
   "cell_type": "code",
   "execution_count": 24,
   "id": "dc481338",
   "metadata": {},
   "outputs": [
    {
     "data": {
      "text/plain": [
       "['hello', 'this', 'is', 'demo']"
      ]
     },
     "execution_count": 24,
     "metadata": {},
     "output_type": "execute_result"
    }
   ],
   "source": [
    "a.split(' ')"
   ]
  },
  {
   "cell_type": "code",
   "execution_count": 25,
   "id": "431d628a",
   "metadata": {},
   "outputs": [
    {
     "data": {
      "text/plain": [
       "['hello', 'this', 'is', 'demo']"
      ]
     },
     "execution_count": 25,
     "metadata": {},
     "output_type": "execute_result"
    }
   ],
   "source": [
    "a.split()"
   ]
  },
  {
   "cell_type": "code",
   "execution_count": 26,
   "id": "5dbd40e1",
   "metadata": {},
   "outputs": [
    {
     "data": {
      "text/plain": [
       "['hello ', 'his is demo']"
      ]
     },
     "execution_count": 26,
     "metadata": {},
     "output_type": "execute_result"
    }
   ],
   "source": [
    "a.split('t')"
   ]
  },
  {
   "cell_type": "code",
   "execution_count": 27,
   "id": "054a0544",
   "metadata": {},
   "outputs": [
    {
     "data": {
      "text/plain": [
       "['hello th', 's ', 's demo']"
      ]
     },
     "execution_count": 27,
     "metadata": {},
     "output_type": "execute_result"
    }
   ],
   "source": [
    "a.split('i')"
   ]
  },
  {
   "cell_type": "code",
   "execution_count": 28,
   "id": "6f33e4e4",
   "metadata": {},
   "outputs": [
    {
     "data": {
      "text/plain": [
       "'hello this is demo'"
      ]
     },
     "execution_count": 28,
     "metadata": {},
     "output_type": "execute_result"
    }
   ],
   "source": [
    "a.strip()"
   ]
  },
  {
   "cell_type": "code",
   "execution_count": 30,
   "id": "46b4a572",
   "metadata": {},
   "outputs": [],
   "source": [
    "a='     hello       this  is                demo      '"
   ]
  },
  {
   "cell_type": "code",
   "execution_count": 32,
   "id": "651ca99a",
   "metadata": {},
   "outputs": [],
   "source": [
    "b=a.strip()"
   ]
  },
  {
   "cell_type": "code",
   "execution_count": 33,
   "id": "78da0bd1",
   "metadata": {},
   "outputs": [
    {
     "data": {
      "text/plain": [
       "'hello       this  is                demo'"
      ]
     },
     "execution_count": 33,
     "metadata": {},
     "output_type": "execute_result"
    }
   ],
   "source": [
    "b"
   ]
  },
  {
   "cell_type": "code",
   "execution_count": 34,
   "id": "37bc102b",
   "metadata": {},
   "outputs": [
    {
     "data": {
      "text/plain": [
       "'h e l l o               t h i s     i s                                 d e m o'"
      ]
     },
     "execution_count": 34,
     "metadata": {},
     "output_type": "execute_result"
    }
   ],
   "source": [
    "' '.join(b)"
   ]
  },
  {
   "cell_type": "code",
   "execution_count": 35,
   "id": "5fa303c1",
   "metadata": {},
   "outputs": [
    {
     "data": {
      "text/plain": [
       "'     hellM       this  is                demM      '"
      ]
     },
     "execution_count": 35,
     "metadata": {},
     "output_type": "execute_result"
    }
   ],
   "source": [
    "a.replace('o','M')"
   ]
  },
  {
   "cell_type": "code",
   "execution_count": 37,
   "id": "505b3d9d",
   "metadata": {},
   "outputs": [
    {
     "data": {
      "text/plain": [
       "'     hellO       this  is                demO      '"
      ]
     },
     "execution_count": 37,
     "metadata": {},
     "output_type": "execute_result"
    }
   ],
   "source": [
    "a.replace('o','O')"
   ]
  },
  {
   "cell_type": "code",
   "execution_count": 38,
   "id": "619630f8",
   "metadata": {},
   "outputs": [
    {
     "name": "stdout",
     "output_type": "stream",
     "text": [
      "['__add__', '__class__', '__contains__', '__delattr__', '__dir__', '__doc__', '__eq__', '__format__', '__ge__', '__getattribute__', '__getitem__', '__getnewargs__', '__gt__', '__hash__', '__init__', '__init_subclass__', '__iter__', '__le__', '__len__', '__lt__', '__mod__', '__mul__', '__ne__', '__new__', '__reduce__', '__reduce_ex__', '__repr__', '__rmod__', '__rmul__', '__setattr__', '__sizeof__', '__str__', '__subclasshook__', 'capitalize', 'casefold', 'center', 'count', 'encode', 'endswith', 'expandtabs', 'find', 'format', 'format_map', 'index', 'isalnum', 'isalpha', 'isascii', 'isdecimal', 'isdigit', 'isidentifier', 'islower', 'isnumeric', 'isprintable', 'isspace', 'istitle', 'isupper', 'join', 'ljust', 'lower', 'lstrip', 'maketrans', 'partition', 'removeprefix', 'removesuffix', 'replace', 'rfind', 'rindex', 'rjust', 'rpartition', 'rsplit', 'rstrip', 'split', 'splitlines', 'startswith', 'strip', 'swapcase', 'title', 'translate', 'upper', 'zfill']\n"
     ]
    }
   ],
   "source": [
    "print(dir(a))"
   ]
  },
  {
   "cell_type": "code",
   "execution_count": 39,
   "id": "23bf2405",
   "metadata": {},
   "outputs": [
    {
     "data": {
      "text/plain": [
       "'     HELLO       THIS  IS                DEMO      '"
      ]
     },
     "execution_count": 39,
     "metadata": {},
     "output_type": "execute_result"
    }
   ],
   "source": [
    "a.swapcase()"
   ]
  },
  {
   "cell_type": "code",
   "execution_count": 41,
   "id": "1693c158",
   "metadata": {},
   "outputs": [
    {
     "data": {
      "text/plain": [
       "'     hello       this  is                demo      '"
      ]
     },
     "execution_count": 41,
     "metadata": {},
     "output_type": "execute_result"
    }
   ],
   "source": [
    "a.translate('s')"
   ]
  },
  {
   "cell_type": "code",
   "execution_count": 44,
   "id": "23e79e29",
   "metadata": {},
   "outputs": [
    {
     "data": {
      "text/plain": [
       "'00000000000000     hello       this  is                demo      '"
      ]
     },
     "execution_count": 44,
     "metadata": {},
     "output_type": "execute_result"
    }
   ],
   "source": [
    "a.zfill(65)"
   ]
  },
  {
   "cell_type": "code",
   "execution_count": 46,
   "id": "a2309f58",
   "metadata": {},
   "outputs": [
    {
     "data": {
      "text/plain": [
       "'     hello       this  is                demo      '"
      ]
     },
     "execution_count": 46,
     "metadata": {},
     "output_type": "execute_result"
    }
   ],
   "source": [
    "a.removesuffix('d')"
   ]
  },
  {
   "cell_type": "code",
   "execution_count": 47,
   "id": "62007a8e",
   "metadata": {},
   "outputs": [
    {
     "data": {
      "text/plain": [
       "False"
      ]
     },
     "execution_count": 47,
     "metadata": {},
     "output_type": "execute_result"
    }
   ],
   "source": [
    "a.isspace()"
   ]
  },
  {
   "cell_type": "code",
   "execution_count": 48,
   "id": "ab52d33d",
   "metadata": {},
   "outputs": [
    {
     "data": {
      "text/plain": [
       "1"
      ]
     },
     "execution_count": 48,
     "metadata": {},
     "output_type": "execute_result"
    }
   ],
   "source": [
    "a.count('d')"
   ]
  },
  {
   "cell_type": "code",
   "execution_count": 49,
   "id": "0c25103a",
   "metadata": {},
   "outputs": [
    {
     "data": {
      "text/plain": [
       "0"
      ]
     },
     "execution_count": 49,
     "metadata": {},
     "output_type": "execute_result"
    }
   ],
   "source": [
    "a.count('z')"
   ]
  },
  {
   "cell_type": "code",
   "execution_count": 50,
   "id": "1b4f8e1e",
   "metadata": {},
   "outputs": [
    {
     "ename": "ValueError",
     "evalue": "substring not found",
     "output_type": "error",
     "traceback": [
      "\u001b[1;31m---------------------------------------------------------------------------\u001b[0m",
      "\u001b[1;31mValueError\u001b[0m                                Traceback (most recent call last)",
      "Input \u001b[1;32mIn [50]\u001b[0m, in \u001b[0;36m<cell line: 1>\u001b[1;34m()\u001b[0m\n\u001b[1;32m----> 1\u001b[0m \u001b[43ma\u001b[49m\u001b[38;5;241;43m.\u001b[39;49m\u001b[43mindex\u001b[49m\u001b[43m(\u001b[49m\u001b[38;5;124;43m'\u001b[39;49m\u001b[38;5;124;43mz\u001b[39;49m\u001b[38;5;124;43m'\u001b[39;49m\u001b[43m)\u001b[49m\n",
      "\u001b[1;31mValueError\u001b[0m: substring not found"
     ]
    }
   ],
   "source": [
    "a.index('z')"
   ]
  },
  {
   "cell_type": "code",
   "execution_count": 51,
   "id": "51532e5f",
   "metadata": {},
   "outputs": [
    {
     "data": {
      "text/plain": [
       "-1"
      ]
     },
     "execution_count": 51,
     "metadata": {},
     "output_type": "execute_result"
    }
   ],
   "source": [
    "a.find('z')"
   ]
  },
  {
   "cell_type": "code",
   "execution_count": 52,
   "id": "786a6046",
   "metadata": {},
   "outputs": [],
   "source": [
    "b=\"Hello {}\""
   ]
  },
  {
   "cell_type": "code",
   "execution_count": 53,
   "id": "3b2022ae",
   "metadata": {},
   "outputs": [
    {
     "data": {
      "text/plain": [
       "'Hello Nishad'"
      ]
     },
     "execution_count": 53,
     "metadata": {},
     "output_type": "execute_result"
    }
   ],
   "source": [
    "b.format('Nishad')"
   ]
  },
  {
   "cell_type": "code",
   "execution_count": 55,
   "id": "d0a84a05",
   "metadata": {},
   "outputs": [
    {
     "data": {
      "text/plain": [
       "'Hello Mehta Nishad'"
      ]
     },
     "execution_count": 55,
     "metadata": {},
     "output_type": "execute_result"
    }
   ],
   "source": [
    "b.format('Mehta Nishad')"
   ]
  },
  {
   "cell_type": "code",
   "execution_count": 60,
   "id": "ac5c1940",
   "metadata": {},
   "outputs": [],
   "source": [
    "c='hello {1} You Are From {0}'"
   ]
  },
  {
   "cell_type": "code",
   "execution_count": 57,
   "id": "6be80c9c",
   "metadata": {},
   "outputs": [
    {
     "data": {
      "text/plain": [
       "'hello Nishad You Are From Ahmedabad'"
      ]
     },
     "execution_count": 57,
     "metadata": {},
     "output_type": "execute_result"
    }
   ],
   "source": [
    "c.format('Nishad','Ahmedabad')"
   ]
  },
  {
   "cell_type": "code",
   "execution_count": 61,
   "id": "52fc9dd6",
   "metadata": {},
   "outputs": [
    {
     "data": {
      "text/plain": [
       "'hello nishad You Are From ahmedabad'"
      ]
     },
     "execution_count": 61,
     "metadata": {},
     "output_type": "execute_result"
    }
   ],
   "source": [
    "c.format('ahmedabad','nishad')"
   ]
  },
  {
   "cell_type": "code",
   "execution_count": 62,
   "id": "b1c6c9a7",
   "metadata": {},
   "outputs": [],
   "source": [
    "d='Hello {name}, you are from {place}'"
   ]
  },
  {
   "cell_type": "code",
   "execution_count": 64,
   "id": "feb4c4d1",
   "metadata": {},
   "outputs": [
    {
     "data": {
      "text/plain": [
       "'Hello nishad, you are from ahmedabad'"
      ]
     },
     "execution_count": 64,
     "metadata": {},
     "output_type": "execute_result"
    }
   ],
   "source": [
    "d.format(name='nishad',place='ahmedabad')"
   ]
  },
  {
   "cell_type": "code",
   "execution_count": 65,
   "id": "80103b4c",
   "metadata": {},
   "outputs": [
    {
     "name": "stdout",
     "output_type": "stream",
     "text": [
      " Hello Nishad ! You Are From Ahmedabad\n"
     ]
    }
   ],
   "source": [
    "name='Nishad'\n",
    "place='Ahmedabad'\n",
    "print(f\" Hello {name} ! You Are From {place}\")"
   ]
  },
  {
   "cell_type": "code",
   "execution_count": null,
   "id": "3ae82c10",
   "metadata": {},
   "outputs": [],
   "source": []
  }
 ],
 "metadata": {
  "kernelspec": {
   "display_name": "Python 3 (ipykernel)",
   "language": "python",
   "name": "python3"
  },
  "language_info": {
   "codemirror_mode": {
    "name": "ipython",
    "version": 3
   },
   "file_extension": ".py",
   "mimetype": "text/x-python",
   "name": "python",
   "nbconvert_exporter": "python",
   "pygments_lexer": "ipython3",
   "version": "3.9.12"
  }
 },
 "nbformat": 4,
 "nbformat_minor": 5
}
