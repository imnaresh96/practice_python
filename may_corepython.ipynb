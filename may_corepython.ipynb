{
 "cells": [
  {
   "cell_type": "code",
   "execution_count": 1,
   "id": "f56a2e0f",
   "metadata": {},
   "outputs": [],
   "source": [
    "a='gg'"
   ]
  },
  {
   "cell_type": "code",
   "execution_count": 2,
   "id": "a020a27b",
   "metadata": {},
   "outputs": [
    {
     "data": {
      "text/plain": [
       "'gggh'"
      ]
     },
     "execution_count": 2,
     "metadata": {},
     "output_type": "execute_result"
    }
   ],
   "source": [
    "a+'gh'"
   ]
  },
  {
   "cell_type": "code",
   "execution_count": 3,
   "id": "7f451ff9",
   "metadata": {},
   "outputs": [],
   "source": [
    "a='hello this is demo'"
   ]
  },
  {
   "cell_type": "code",
   "execution_count": 4,
   "id": "9e2d6dc0",
   "metadata": {},
   "outputs": [
    {
     "data": {
      "text/plain": [
       "'HELLO THIS IS DEMO'"
      ]
     },
     "execution_count": 4,
     "metadata": {},
     "output_type": "execute_result"
    }
   ],
   "source": [
    "a.upper()"
   ]
  },
  {
   "cell_type": "code",
   "execution_count": 5,
   "id": "8f48978d",
   "metadata": {},
   "outputs": [
    {
     "data": {
      "text/plain": [
       "'hello this is demo'"
      ]
     },
     "execution_count": 5,
     "metadata": {},
     "output_type": "execute_result"
    }
   ],
   "source": [
    "a.lower()"
   ]
  },
  {
   "cell_type": "code",
   "execution_count": 6,
   "id": "b2d3b0d6",
   "metadata": {},
   "outputs": [
    {
     "data": {
      "text/plain": [
       "'Hello this is demo'"
      ]
     },
     "execution_count": 6,
     "metadata": {},
     "output_type": "execute_result"
    }
   ],
   "source": [
    "a.capitalize()"
   ]
  },
  {
   "cell_type": "code",
   "execution_count": 7,
   "id": "f5d266f0",
   "metadata": {},
   "outputs": [
    {
     "data": {
      "text/plain": [
       "'Hello This Is Demo'"
      ]
     },
     "execution_count": 7,
     "metadata": {},
     "output_type": "execute_result"
    }
   ],
   "source": [
    "a.title()"
   ]
  },
  {
   "cell_type": "code",
   "execution_count": 8,
   "id": "4d8021da",
   "metadata": {},
   "outputs": [
    {
     "data": {
      "text/plain": [
       "False"
      ]
     },
     "execution_count": 8,
     "metadata": {},
     "output_type": "execute_result"
    }
   ],
   "source": [
    "a.isupper()"
   ]
  },
  {
   "cell_type": "code",
   "execution_count": 9,
   "id": "19062564",
   "metadata": {},
   "outputs": [
    {
     "data": {
      "text/plain": [
       "True"
      ]
     },
     "execution_count": 9,
     "metadata": {},
     "output_type": "execute_result"
    }
   ],
   "source": [
    "a.islower()"
   ]
  },
  {
   "cell_type": "code",
   "execution_count": 14,
   "id": "9fea242c",
   "metadata": {},
   "outputs": [],
   "source": [
    "d=[* range(1,11)]"
   ]
  },
  {
   "cell_type": "code",
   "execution_count": 15,
   "id": "1eff42f8",
   "metadata": {},
   "outputs": [
    {
     "data": {
      "text/plain": [
       "[1, 2, 3, 4, 5, 6, 7, 8, 9, 10]"
      ]
     },
     "execution_count": 15,
     "metadata": {},
     "output_type": "execute_result"
    }
   ],
   "source": [
    "d"
   ]
  },
  {
   "cell_type": "code",
   "execution_count": 16,
   "id": "74f20786",
   "metadata": {},
   "outputs": [
    {
     "data": {
      "text/plain": [
       "'hello this is demo'"
      ]
     },
     "execution_count": 16,
     "metadata": {},
     "output_type": "execute_result"
    }
   ],
   "source": [
    "a"
   ]
  },
  {
   "cell_type": "code",
   "execution_count": 17,
   "id": "5cac96cc",
   "metadata": {},
   "outputs": [],
   "source": [
    "b=a.split(' ')[::-1]"
   ]
  },
  {
   "cell_type": "code",
   "execution_count": 18,
   "id": "ef471140",
   "metadata": {},
   "outputs": [],
   "source": [
    "c=' '.join(b)"
   ]
  },
  {
   "cell_type": "code",
   "execution_count": 19,
   "id": "bc6346d4",
   "metadata": {},
   "outputs": [
    {
     "data": {
      "text/plain": [
       "'demo is this hello'"
      ]
     },
     "execution_count": 19,
     "metadata": {},
     "output_type": "execute_result"
    }
   ],
   "source": [
    "c"
   ]
  },
  {
   "cell_type": "code",
   "execution_count": 20,
   "id": "f5d9ba24",
   "metadata": {},
   "outputs": [],
   "source": [
    "d=84846448"
   ]
  },
  {
   "cell_type": "code",
   "execution_count": 23,
   "id": "f1c8d784",
   "metadata": {},
   "outputs": [
    {
     "name": "stdout",
     "output_type": "stream",
     "text": [
      "84464848\n"
     ]
    }
   ],
   "source": [
    "d=print(str(d)[::-1])"
   ]
  },
  {
   "cell_type": "code",
   "execution_count": 24,
   "id": "45a263ba",
   "metadata": {},
   "outputs": [
    {
     "data": {
      "text/plain": [
       "['hello', 'this', 'is', 'demo']"
      ]
     },
     "execution_count": 24,
     "metadata": {},
     "output_type": "execute_result"
    }
   ],
   "source": [
    "a.split(' ')"
   ]
  },
  {
   "cell_type": "code",
   "execution_count": 25,
   "id": "c2676e52",
   "metadata": {},
   "outputs": [
    {
     "data": {
      "text/plain": [
       "['hello', 'this', 'is', 'demo']"
      ]
     },
     "execution_count": 25,
     "metadata": {},
     "output_type": "execute_result"
    }
   ],
   "source": [
    "a.split()"
   ]
  },
  {
   "cell_type": "code",
   "execution_count": 26,
   "id": "e5a77c18",
   "metadata": {},
   "outputs": [
    {
     "data": {
      "text/plain": [
       "['hello ', 'his is demo']"
      ]
     },
     "execution_count": 26,
     "metadata": {},
     "output_type": "execute_result"
    }
   ],
   "source": [
    "a.split('t')"
   ]
  },
  {
   "cell_type": "code",
   "execution_count": 27,
   "id": "73f7a85b",
   "metadata": {},
   "outputs": [
    {
     "data": {
      "text/plain": [
       "['hello th', 's ', 's demo']"
      ]
     },
     "execution_count": 27,
     "metadata": {},
     "output_type": "execute_result"
    }
   ],
   "source": [
    "a.split('i')"
   ]
  },
  {
   "cell_type": "code",
   "execution_count": 28,
   "id": "497d1234",
   "metadata": {},
   "outputs": [
    {
     "data": {
      "text/plain": [
       "'hello this is demo'"
      ]
     },
     "execution_count": 28,
     "metadata": {},
     "output_type": "execute_result"
    }
   ],
   "source": [
    "a.strip()"
   ]
  },
  {
   "cell_type": "code",
   "execution_count": 30,
   "id": "d0718636",
   "metadata": {},
   "outputs": [],
   "source": [
    "a='     hello       this  is                demo      '"
   ]
  },
  {
   "cell_type": "code",
   "execution_count": 32,
   "id": "3ba10e17",
   "metadata": {},
   "outputs": [],
   "source": [
    "b=a.strip()"
   ]
  },
  {
   "cell_type": "code",
   "execution_count": 33,
   "id": "701015a0",
   "metadata": {},
   "outputs": [
    {
     "data": {
      "text/plain": [
       "'hello       this  is                demo'"
      ]
     },
     "execution_count": 33,
     "metadata": {},
     "output_type": "execute_result"
    }
   ],
   "source": [
    "b"
   ]
  },
  {
   "cell_type": "code",
   "execution_count": 34,
   "id": "e5129b5a",
   "metadata": {},
   "outputs": [
    {
     "data": {
      "text/plain": [
       "'h e l l o               t h i s     i s                                 d e m o'"
      ]
     },
     "execution_count": 34,
     "metadata": {},
     "output_type": "execute_result"
    }
   ],
   "source": [
    "' '.join(b)"
   ]
  },
  {
   "cell_type": "code",
   "execution_count": 35,
   "id": "cc21e308",
   "metadata": {},
   "outputs": [
    {
     "data": {
      "text/plain": [
       "'     hellM       this  is                demM      '"
      ]
     },
     "execution_count": 35,
     "metadata": {},
     "output_type": "execute_result"
    }
   ],
   "source": [
    "a.replace('o','M')"
   ]
  },
  {
   "cell_type": "code",
   "execution_count": null,
   "id": "997a02cb",
   "metadata": {},
   "outputs": [],
   "source": [
    "a.replace()"
   ]
  }
 ],
 "metadata": {
  "kernelspec": {
   "display_name": "Python 3 (ipykernel)",
   "language": "python",
   "name": "python3"
  },
  "language_info": {
   "codemirror_mode": {
    "name": "ipython",
    "version": 3
   },
   "file_extension": ".py",
   "mimetype": "text/x-python",
   "name": "python",
   "nbconvert_exporter": "python",
   "pygments_lexer": "ipython3",
   "version": "3.9.12"
  }
 },
 "nbformat": 4,
 "nbformat_minor": 5
}
