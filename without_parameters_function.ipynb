{
 "cells": [
  {
   "cell_type": "markdown",
   "id": "8945198a",
   "metadata": {},
   "source": [
    "#### without parameters function"
   ]
  },
  {
   "cell_type": "code",
   "execution_count": 6,
   "id": "8ea52c47",
   "metadata": {},
   "outputs": [],
   "source": [
    "def name():\n",
    "    name='Naresh'\n",
    "    subject='Python'\n",
    "    place='Maninagar'\n",
    "    print(f'name={name} subject={subject} place={place}')"
   ]
  },
  {
   "cell_type": "code",
   "execution_count": 7,
   "id": "0087c356",
   "metadata": {},
   "outputs": [
    {
     "name": "stdout",
     "output_type": "stream",
     "text": [
      "name=Naresh subject=Python place=Maninagar\n"
     ]
    }
   ],
   "source": [
    "name()"
   ]
  },
  {
   "cell_type": "code",
   "execution_count": 15,
   "id": "0354856d",
   "metadata": {},
   "outputs": [
    {
     "name": "stdout",
     "output_type": "stream",
     "text": [
      "name=Naresh subject=Python place=Maninagar\n"
     ]
    }
   ],
   "source": [
    "kumar=name()"
   ]
  },
  {
   "cell_type": "code",
   "execution_count": 19,
   "id": "311de378",
   "metadata": {},
   "outputs": [],
   "source": [
    "kumar"
   ]
  },
  {
   "cell_type": "code",
   "execution_count": null,
   "id": "276f416a",
   "metadata": {},
   "outputs": [],
   "source": []
  },
  {
   "cell_type": "markdown",
   "id": "8d1eb7ee",
   "metadata": {},
   "source": [
    "#### without parameters return value"
   ]
  },
  {
   "cell_type": "code",
   "execution_count": 10,
   "id": "1f29c7ac",
   "metadata": {},
   "outputs": [],
   "source": [
    "def marks():\n",
    "    maths=76\n",
    "    english=56\n",
    "    science=42\n",
    "    hindi=79\n",
    "    sum=maths+english+science+hindi\n",
    "    return sum"
   ]
  },
  {
   "cell_type": "code",
   "execution_count": 11,
   "id": "490647db",
   "metadata": {},
   "outputs": [
    {
     "data": {
      "text/plain": [
       "253"
      ]
     },
     "execution_count": 11,
     "metadata": {},
     "output_type": "execute_result"
    }
   ],
   "source": [
    "marks()"
   ]
  },
  {
   "cell_type": "code",
   "execution_count": 13,
   "id": "c8f61115",
   "metadata": {},
   "outputs": [],
   "source": [
    "naresh  =marks()"
   ]
  },
  {
   "cell_type": "code",
   "execution_count": 14,
   "id": "134fdc4b",
   "metadata": {},
   "outputs": [
    {
     "data": {
      "text/plain": [
       "253"
      ]
     },
     "execution_count": 14,
     "metadata": {},
     "output_type": "execute_result"
    }
   ],
   "source": [
    "naresh"
   ]
  },
  {
   "cell_type": "code",
   "execution_count": null,
   "id": "55e7ce16",
   "metadata": {},
   "outputs": [],
   "source": []
  }
 ],
 "metadata": {
  "kernelspec": {
   "display_name": "Python 3 (ipykernel)",
   "language": "python",
   "name": "python3"
  },
  "language_info": {
   "codemirror_mode": {
    "name": "ipython",
    "version": 3
   },
   "file_extension": ".py",
   "mimetype": "text/x-python",
   "name": "python",
   "nbconvert_exporter": "python",
   "pygments_lexer": "ipython3",
   "version": "3.9.12"
  }
 },
 "nbformat": 4,
 "nbformat_minor": 5
}
