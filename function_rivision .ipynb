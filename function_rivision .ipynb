{
 "cells": [
  {
   "cell_type": "code",
   "execution_count": null,
   "id": "0a9020bc",
   "metadata": {},
   "outputs": [],
   "source": [
    "# simple function"
   ]
  },
  {
   "cell_type": "code",
   "execution_count": 2,
   "id": "e90f8f72",
   "metadata": {},
   "outputs": [],
   "source": [
    "def hello():\n",
    "    print('hello')"
   ]
  },
  {
   "cell_type": "code",
   "execution_count": 3,
   "id": "3f85edc0",
   "metadata": {},
   "outputs": [
    {
     "name": "stdout",
     "output_type": "stream",
     "text": [
      "hello\n"
     ]
    }
   ],
   "source": [
    "hello()"
   ]
  },
  {
   "cell_type": "code",
   "execution_count": 4,
   "id": "cfc7655c",
   "metadata": {},
   "outputs": [],
   "source": [
    "def hello():\n",
    "    pass"
   ]
  },
  {
   "cell_type": "code",
   "execution_count": 5,
   "id": "5a050e16",
   "metadata": {},
   "outputs": [],
   "source": [
    "hello()"
   ]
  },
  {
   "cell_type": "code",
   "execution_count": null,
   "id": "056b6765",
   "metadata": {},
   "outputs": [],
   "source": [
    "# required argument"
   ]
  },
  {
   "cell_type": "code",
   "execution_count": 6,
   "id": "aee91437",
   "metadata": {},
   "outputs": [],
   "source": [
    "def new(x,y):\n",
    "    return x+y"
   ]
  },
  {
   "cell_type": "code",
   "execution_count": 7,
   "id": "68ae8611",
   "metadata": {},
   "outputs": [
    {
     "data": {
      "text/plain": [
       "13"
      ]
     },
     "execution_count": 7,
     "metadata": {},
     "output_type": "execute_result"
    }
   ],
   "source": [
    "new(5,8)"
   ]
  },
  {
   "cell_type": "code",
   "execution_count": 8,
   "id": "bdceb591",
   "metadata": {},
   "outputs": [
    {
     "ename": "TypeError",
     "evalue": "new() missing 1 required positional argument: 'y'",
     "output_type": "error",
     "traceback": [
      "\u001b[1;31m---------------------------------------------------------------------------\u001b[0m",
      "\u001b[1;31mTypeError\u001b[0m                                 Traceback (most recent call last)",
      "Input \u001b[1;32mIn [8]\u001b[0m, in \u001b[0;36m<cell line: 1>\u001b[1;34m()\u001b[0m\n\u001b[1;32m----> 1\u001b[0m \u001b[43mnew\u001b[49m\u001b[43m(\u001b[49m\u001b[38;5;241;43m5\u001b[39;49m\u001b[43m)\u001b[49m\n",
      "\u001b[1;31mTypeError\u001b[0m: new() missing 1 required positional argument: 'y'"
     ]
    }
   ],
   "source": [
    "new(5)"
   ]
  },
  {
   "cell_type": "code",
   "execution_count": 9,
   "id": "e3a6452c",
   "metadata": {},
   "outputs": [],
   "source": [
    "# default argument"
   ]
  },
  {
   "cell_type": "code",
   "execution_count": 10,
   "id": "4d1a88b3",
   "metadata": {},
   "outputs": [],
   "source": [
    "def add(x=5,y=9):\n",
    "    print(x+y)"
   ]
  },
  {
   "cell_type": "code",
   "execution_count": 11,
   "id": "eb813c03",
   "metadata": {},
   "outputs": [
    {
     "name": "stdout",
     "output_type": "stream",
     "text": [
      "14\n"
     ]
    }
   ],
   "source": [
    "add()"
   ]
  },
  {
   "cell_type": "code",
   "execution_count": 12,
   "id": "32fa0d36",
   "metadata": {},
   "outputs": [
    {
     "name": "stdout",
     "output_type": "stream",
     "text": [
      "15\n"
     ]
    }
   ],
   "source": [
    "add(6)"
   ]
  },
  {
   "cell_type": "code",
   "execution_count": 13,
   "id": "29eb7f02",
   "metadata": {},
   "outputs": [
    {
     "name": "stdout",
     "output_type": "stream",
     "text": [
      "12\n"
     ]
    }
   ],
   "source": [
    "add(y=7)"
   ]
  },
  {
   "cell_type": "code",
   "execution_count": 14,
   "id": "54a52c64",
   "metadata": {},
   "outputs": [],
   "source": [
    "# possitional argumenet"
   ]
  },
  {
   "cell_type": "code",
   "execution_count": 15,
   "id": "222eb27a",
   "metadata": {},
   "outputs": [],
   "source": [
    "def data(name,subject,city):\n",
    "    print(f'name={name},subject={subject},city={city}')"
   ]
  },
  {
   "cell_type": "code",
   "execution_count": 16,
   "id": "2978da2d",
   "metadata": {},
   "outputs": [
    {
     "name": "stdout",
     "output_type": "stream",
     "text": [
      "name=naresh,subject=python,city=pali\n"
     ]
    }
   ],
   "source": [
    "data(\"naresh\",\"python\",\"pali\")"
   ]
  },
  {
   "cell_type": "code",
   "execution_count": 18,
   "id": "7f182378",
   "metadata": {},
   "outputs": [
    {
     "name": "stdout",
     "output_type": "stream",
     "text": [
      "name=python,subject=naresh,city=pali\n"
     ]
    }
   ],
   "source": [
    "data(\"python\",\"naresh\",'pali')"
   ]
  },
  {
   "cell_type": "code",
   "execution_count": 19,
   "id": "e0adf5ef",
   "metadata": {},
   "outputs": [
    {
     "name": "stdout",
     "output_type": "stream",
     "text": [
      "name=naresh,subject=python,city=pali\n"
     ]
    }
   ],
   "source": [
    "data(subject='python',city='pali',name='naresh')"
   ]
  },
  {
   "cell_type": "code",
   "execution_count": 20,
   "id": "7c4afa24",
   "metadata": {},
   "outputs": [],
   "source": [
    "#arbi_posstional argument"
   ]
  },
  {
   "cell_type": "code",
   "execution_count": 53,
   "id": "6b16b761",
   "metadata": {},
   "outputs": [],
   "source": [
    "def add(x,y,*number):\n",
    "    k=x+y\n",
    "    for i in number:\n",
    "        k+=i\n",
    "    return k"
   ]
  },
  {
   "cell_type": "code",
   "execution_count": 55,
   "id": "14f8b793",
   "metadata": {},
   "outputs": [
    {
     "ename": "TypeError",
     "evalue": "unsupported operand type(s) for +: 'int' and 'str'",
     "output_type": "error",
     "traceback": [
      "\u001b[1;31m---------------------------------------------------------------------------\u001b[0m",
      "\u001b[1;31mTypeError\u001b[0m                                 Traceback (most recent call last)",
      "Input \u001b[1;32mIn [55]\u001b[0m, in \u001b[0;36m<cell line: 1>\u001b[1;34m()\u001b[0m\n\u001b[1;32m----> 1\u001b[0m \u001b[43madd\u001b[49m\u001b[43m(\u001b[49m\u001b[38;5;241;43m5\u001b[39;49m\u001b[43m,\u001b[49m\u001b[38;5;124;43m'\u001b[39;49m\u001b[38;5;124;43my\u001b[39;49m\u001b[38;5;124;43m'\u001b[39;49m\u001b[43m,\u001b[49m\u001b[38;5;241;43m2\u001b[39;49m\u001b[43m)\u001b[49m\n",
      "Input \u001b[1;32mIn [53]\u001b[0m, in \u001b[0;36madd\u001b[1;34m(x, y, *number)\u001b[0m\n\u001b[0;32m      1\u001b[0m \u001b[38;5;28;01mdef\u001b[39;00m \u001b[38;5;21madd\u001b[39m(x,y,\u001b[38;5;241m*\u001b[39mnumber):\n\u001b[1;32m----> 2\u001b[0m     k\u001b[38;5;241m=\u001b[39m\u001b[43mx\u001b[49m\u001b[38;5;241;43m+\u001b[39;49m\u001b[43my\u001b[49m\n\u001b[0;32m      3\u001b[0m     \u001b[38;5;28;01mfor\u001b[39;00m i \u001b[38;5;129;01min\u001b[39;00m number:\n\u001b[0;32m      4\u001b[0m         k\u001b[38;5;241m+\u001b[39m\u001b[38;5;241m=\u001b[39mi\n",
      "\u001b[1;31mTypeError\u001b[0m: unsupported operand type(s) for +: 'int' and 'str'"
     ]
    }
   ],
   "source": [
    "add(5,'y',2)"
   ]
  },
  {
   "cell_type": "code",
   "execution_count": 27,
   "id": "6357e6f5",
   "metadata": {},
   "outputs": [
    {
     "data": {
      "text/plain": [
       "29"
      ]
     },
     "execution_count": 27,
     "metadata": {},
     "output_type": "execute_result"
    }
   ],
   "source": [
    "add(5,6,7,5,3,3)"
   ]
  },
  {
   "cell_type": "code",
   "execution_count": 28,
   "id": "b0a8e041",
   "metadata": {},
   "outputs": [
    {
     "data": {
      "text/plain": [
       "74"
      ]
     },
     "execution_count": 28,
     "metadata": {},
     "output_type": "execute_result"
    }
   ],
   "source": [
    "add(7,8,9,5,6,2,3,6,5,2,1,4,5,6,2,3)"
   ]
  },
  {
   "cell_type": "code",
   "execution_count": 35,
   "id": "c5211372",
   "metadata": {},
   "outputs": [],
   "source": [
    "def add(*number):\n",
    "    k=0\n",
    "    for i in number:\n",
    "        k+=i\n",
    "    return k"
   ]
  },
  {
   "cell_type": "code",
   "execution_count": 36,
   "id": "c291bbce",
   "metadata": {},
   "outputs": [
    {
     "data": {
      "text/plain": [
       "37"
      ]
     },
     "execution_count": 36,
     "metadata": {},
     "output_type": "execute_result"
    }
   ],
   "source": [
    "add(5,8,5,4,3,3,2,2,2,3)"
   ]
  },
  {
   "cell_type": "code",
   "execution_count": 37,
   "id": "eee03b77",
   "metadata": {},
   "outputs": [
    {
     "data": {
      "text/plain": [
       "104"
      ]
     },
     "execution_count": 37,
     "metadata": {},
     "output_type": "execute_result"
    }
   ],
   "source": [
    "add(9,9,9,8,7,8,9,8,7,6,7,8,9)"
   ]
  },
  {
   "cell_type": "code",
   "execution_count": 38,
   "id": "9192f663",
   "metadata": {},
   "outputs": [
    {
     "data": {
      "text/plain": [
       "0"
      ]
     },
     "execution_count": 38,
     "metadata": {},
     "output_type": "execute_result"
    }
   ],
   "source": [
    "add()"
   ]
  },
  {
   "cell_type": "code",
   "execution_count": 39,
   "id": "2828f2ba",
   "metadata": {},
   "outputs": [
    {
     "data": {
      "text/plain": [
       "0"
      ]
     },
     "execution_count": 39,
     "metadata": {},
     "output_type": "execute_result"
    }
   ],
   "source": [
    "add()"
   ]
  },
  {
   "cell_type": "code",
   "execution_count": 40,
   "id": "3e082656",
   "metadata": {},
   "outputs": [
    {
     "data": {
      "text/plain": [
       "8"
      ]
     },
     "execution_count": 40,
     "metadata": {},
     "output_type": "execute_result"
    }
   ],
   "source": [
    "add(8)"
   ]
  },
  {
   "cell_type": "code",
   "execution_count": 41,
   "id": "ee9eaed8",
   "metadata": {},
   "outputs": [],
   "source": [
    "# arbi-keyword argument"
   ]
  },
  {
   "cell_type": "code",
   "execution_count": 56,
   "id": "a299082b",
   "metadata": {},
   "outputs": [],
   "source": [
    "def info(**data):\n",
    "    print(data)"
   ]
  },
  {
   "cell_type": "code",
   "execution_count": 57,
   "id": "1038ab62",
   "metadata": {},
   "outputs": [
    {
     "ename": "NameError",
     "evalue": "name 'name' is not defined",
     "output_type": "error",
     "traceback": [
      "\u001b[1;31m---------------------------------------------------------------------------\u001b[0m",
      "\u001b[1;31mNameError\u001b[0m                                 Traceback (most recent call last)",
      "Input \u001b[1;32mIn [57]\u001b[0m, in \u001b[0;36m<cell line: 1>\u001b[1;34m()\u001b[0m\n\u001b[1;32m----> 1\u001b[0m info(\u001b[43mname\u001b[49m)\n",
      "\u001b[1;31mNameError\u001b[0m: name 'name' is not defined"
     ]
    }
   ],
   "source": [
    "info(name)"
   ]
  },
  {
   "cell_type": "code",
   "execution_count": 58,
   "id": "a668d8ed",
   "metadata": {},
   "outputs": [
    {
     "name": "stdout",
     "output_type": "stream",
     "text": [
      "{'name': 'naresh'}\n"
     ]
    }
   ],
   "source": [
    "info(name='naresh')"
   ]
  },
  {
   "cell_type": "code",
   "execution_count": 59,
   "id": "bdf40540",
   "metadata": {},
   "outputs": [
    {
     "name": "stdout",
     "output_type": "stream",
     "text": [
      "{'name': 'naresh', 'subject': 'python', 'city': 'pali'}\n"
     ]
    }
   ],
   "source": [
    "info(name='naresh',subject='python',city='pali')"
   ]
  },
  {
   "cell_type": "code",
   "execution_count": 60,
   "id": "ac83a922",
   "metadata": {},
   "outputs": [],
   "source": [
    "hello=lambda:'this is none type'"
   ]
  },
  {
   "cell_type": "code",
   "execution_count": 61,
   "id": "3776d56b",
   "metadata": {},
   "outputs": [
    {
     "data": {
      "text/plain": [
       "'this is none type'"
      ]
     },
     "execution_count": 61,
     "metadata": {},
     "output_type": "execute_result"
    }
   ],
   "source": [
    "hello()"
   ]
  },
  {
   "cell_type": "code",
   "execution_count": 62,
   "id": "0e7ada45",
   "metadata": {},
   "outputs": [],
   "source": [
    "#filter"
   ]
  },
  {
   "cell_type": "code",
   "execution_count": 63,
   "id": "3abc4da9",
   "metadata": {},
   "outputs": [
    {
     "ename": "TypeError",
     "evalue": "filter expected 2 arguments, got 1",
     "output_type": "error",
     "traceback": [
      "\u001b[1;31m---------------------------------------------------------------------------\u001b[0m",
      "\u001b[1;31mTypeError\u001b[0m                                 Traceback (most recent call last)",
      "Input \u001b[1;32mIn [63]\u001b[0m, in \u001b[0;36m<cell line: 1>\u001b[1;34m()\u001b[0m\n\u001b[1;32m----> 1\u001b[0m filter_item\u001b[38;5;241m=\u001b[39m \u001b[38;5;28;43mfilter\u001b[39;49m\u001b[43m(\u001b[49m\u001b[38;5;124;43m'\u001b[39;49m\u001b[38;5;124;43mhello\u001b[39;49m\u001b[38;5;124;43m'\u001b[39;49m\u001b[43m)\u001b[49m\n",
      "\u001b[1;31mTypeError\u001b[0m: filter expected 2 arguments, got 1"
     ]
    }
   ],
   "source": [
    "filter_item= filter('hello')"
   ]
  },
  {
   "cell_type": "code",
   "execution_count": 64,
   "id": "b1f733ad",
   "metadata": {},
   "outputs": [],
   "source": [
    "filter_item= filter(None,'hello')"
   ]
  },
  {
   "cell_type": "code",
   "execution_count": 72,
   "id": "3da788a9",
   "metadata": {},
   "outputs": [],
   "source": [
    "def add(x):\n",
    "    return x%2==0"
   ]
  },
  {
   "cell_type": "code",
   "execution_count": 73,
   "id": "b7392f13",
   "metadata": {},
   "outputs": [],
   "source": [
    "l=[5,4,6,7,8,4]"
   ]
  },
  {
   "cell_type": "code",
   "execution_count": 74,
   "id": "3f4affd5",
   "metadata": {},
   "outputs": [],
   "source": [
    "filter_item= filter(add,l)"
   ]
  },
  {
   "cell_type": "code",
   "execution_count": 75,
   "id": "c19f9c26",
   "metadata": {},
   "outputs": [
    {
     "data": {
      "text/plain": [
       "<filter at 0x239f7d17790>"
      ]
     },
     "execution_count": 75,
     "metadata": {},
     "output_type": "execute_result"
    }
   ],
   "source": [
    "filter_item"
   ]
  },
  {
   "cell_type": "code",
   "execution_count": 76,
   "id": "c5ca8797",
   "metadata": {},
   "outputs": [
    {
     "name": "stdout",
     "output_type": "stream",
     "text": [
      "4\n",
      "6\n",
      "8\n",
      "4\n"
     ]
    }
   ],
   "source": [
    "for  i in filter_item:\n",
    "    print(i)"
   ]
  },
  {
   "cell_type": "code",
   "execution_count": 77,
   "id": "f59e892b",
   "metadata": {},
   "outputs": [],
   "source": [
    "def age(x):\n",
    "    return x>=18 and x<=60"
   ]
  },
  {
   "cell_type": "code",
   "execution_count": 78,
   "id": "c8cfe1f6",
   "metadata": {},
   "outputs": [
    {
     "data": {
      "text/plain": [
       "False"
      ]
     },
     "execution_count": 78,
     "metadata": {},
     "output_type": "execute_result"
    }
   ],
   "source": [
    "age(14)"
   ]
  },
  {
   "cell_type": "code",
   "execution_count": 79,
   "id": "7359418e",
   "metadata": {},
   "outputs": [
    {
     "data": {
      "text/plain": [
       "True"
      ]
     },
     "execution_count": 79,
     "metadata": {},
     "output_type": "execute_result"
    }
   ],
   "source": [
    "age(25)"
   ]
  },
  {
   "cell_type": "code",
   "execution_count": null,
   "id": "0c4764de",
   "metadata": {},
   "outputs": [],
   "source": []
  }
 ],
 "metadata": {
  "kernelspec": {
   "display_name": "Python 3 (ipykernel)",
   "language": "python",
   "name": "python3"
  },
  "language_info": {
   "codemirror_mode": {
    "name": "ipython",
    "version": 3
   },
   "file_extension": ".py",
   "mimetype": "text/x-python",
   "name": "python",
   "nbconvert_exporter": "python",
   "pygments_lexer": "ipython3",
   "version": "3.9.12"
  }
 },
 "nbformat": 4,
 "nbformat_minor": 5
}
