{
 "cells": [
  {
   "cell_type": "code",
   "execution_count": null,
   "id": "8cb53462",
   "metadata": {},
   "outputs": [],
   "source": [
    "# simple function"
   ]
  },
  {
   "cell_type": "code",
   "execution_count": 2,
   "id": "38f984f7",
   "metadata": {},
   "outputs": [],
   "source": [
    "def hello():\n",
    "    print('hello')"
   ]
  },
  {
   "cell_type": "code",
   "execution_count": 3,
   "id": "d8308bad",
   "metadata": {},
   "outputs": [
    {
     "name": "stdout",
     "output_type": "stream",
     "text": [
      "hello\n"
     ]
    }
   ],
   "source": [
    "hello()"
   ]
  },
  {
   "cell_type": "code",
   "execution_count": 4,
   "id": "80c9d0a5",
   "metadata": {},
   "outputs": [],
   "source": [
    "def hello():\n",
    "    pass"
   ]
  },
  {
   "cell_type": "code",
   "execution_count": 5,
   "id": "17004b3a",
   "metadata": {},
   "outputs": [],
   "source": [
    "hello()"
   ]
  },
  {
   "cell_type": "code",
   "execution_count": null,
   "id": "afc7df32",
   "metadata": {},
   "outputs": [],
   "source": [
    "# required argument"
   ]
  },
  {
   "cell_type": "code",
   "execution_count": 6,
   "id": "1f8979e2",
   "metadata": {},
   "outputs": [],
   "source": [
    "def new(x,y):\n",
    "    return x+y"
   ]
  },
  {
   "cell_type": "code",
   "execution_count": 7,
   "id": "e0b2cc16",
   "metadata": {},
   "outputs": [
    {
     "data": {
      "text/plain": [
       "13"
      ]
     },
     "execution_count": 7,
     "metadata": {},
     "output_type": "execute_result"
    }
   ],
   "source": [
    "new(5,8)"
   ]
  },
  {
   "cell_type": "code",
   "execution_count": 8,
   "id": "68d2b38c",
   "metadata": {},
   "outputs": [
    {
     "ename": "TypeError",
     "evalue": "new() missing 1 required positional argument: 'y'",
     "output_type": "error",
     "traceback": [
      "\u001b[1;31m---------------------------------------------------------------------------\u001b[0m",
      "\u001b[1;31mTypeError\u001b[0m                                 Traceback (most recent call last)",
      "Input \u001b[1;32mIn [8]\u001b[0m, in \u001b[0;36m<cell line: 1>\u001b[1;34m()\u001b[0m\n\u001b[1;32m----> 1\u001b[0m \u001b[43mnew\u001b[49m\u001b[43m(\u001b[49m\u001b[38;5;241;43m5\u001b[39;49m\u001b[43m)\u001b[49m\n",
      "\u001b[1;31mTypeError\u001b[0m: new() missing 1 required positional argument: 'y'"
     ]
    }
   ],
   "source": [
    "new(5)"
   ]
  },
  {
   "cell_type": "code",
   "execution_count": 9,
   "id": "56dc0c31",
   "metadata": {},
   "outputs": [],
   "source": [
    "# default argument"
   ]
  },
  {
   "cell_type": "code",
   "execution_count": 10,
   "id": "398d92d3",
   "metadata": {},
   "outputs": [],
   "source": [
    "def add(x=5,y=9):\n",
    "    print(x+y)"
   ]
  },
  {
   "cell_type": "code",
   "execution_count": 11,
   "id": "cfffe559",
   "metadata": {},
   "outputs": [
    {
     "name": "stdout",
     "output_type": "stream",
     "text": [
      "14\n"
     ]
    }
   ],
   "source": [
    "add()"
   ]
  },
  {
   "cell_type": "code",
   "execution_count": 12,
   "id": "7bfa5c00",
   "metadata": {},
   "outputs": [
    {
     "name": "stdout",
     "output_type": "stream",
     "text": [
      "15\n"
     ]
    }
   ],
   "source": [
    "add(6)"
   ]
  },
  {
   "cell_type": "code",
   "execution_count": 13,
   "id": "789213ee",
   "metadata": {},
   "outputs": [
    {
     "name": "stdout",
     "output_type": "stream",
     "text": [
      "12\n"
     ]
    }
   ],
   "source": [
    "add(y=7)"
   ]
  },
  {
   "cell_type": "code",
   "execution_count": 14,
   "id": "59b737a9",
   "metadata": {},
   "outputs": [],
   "source": [
    "# possitional argumenet"
   ]
  },
  {
   "cell_type": "code",
   "execution_count": 15,
   "id": "63bfc057",
   "metadata": {},
   "outputs": [],
   "source": [
    "def data(name,subject,city):\n",
    "    print(f'name={name},subject={subject},city={city}')"
   ]
  },
  {
   "cell_type": "code",
   "execution_count": 16,
   "id": "df11b320",
   "metadata": {},
   "outputs": [
    {
     "name": "stdout",
     "output_type": "stream",
     "text": [
      "name=naresh,subject=python,city=pali\n"
     ]
    }
   ],
   "source": [
    "data(\"naresh\",\"python\",\"pali\")"
   ]
  },
  {
   "cell_type": "code",
   "execution_count": 18,
   "id": "91c86fb7",
   "metadata": {},
   "outputs": [
    {
     "name": "stdout",
     "output_type": "stream",
     "text": [
      "name=python,subject=naresh,city=pali\n"
     ]
    }
   ],
   "source": [
    "data(\"python\",\"naresh\",'pali')"
   ]
  },
  {
   "cell_type": "code",
   "execution_count": 19,
   "id": "4cbea382",
   "metadata": {},
   "outputs": [
    {
     "name": "stdout",
     "output_type": "stream",
     "text": [
      "name=naresh,subject=python,city=pali\n"
     ]
    }
   ],
   "source": [
    "data(subject='python',city='pali',name='naresh')"
   ]
  },
  {
   "cell_type": "code",
   "execution_count": 20,
   "id": "100e0b35",
   "metadata": {},
   "outputs": [],
   "source": [
    "#arbi_posstional argument"
   ]
  },
  {
   "cell_type": "code",
   "execution_count": 53,
   "id": "311c48d0",
   "metadata": {},
   "outputs": [],
   "source": [
    "def add(x,y,*number):\n",
    "    k=x+y\n",
    "    for i in number:\n",
    "        k+=i\n",
    "    return k"
   ]
  },
  {
   "cell_type": "code",
   "execution_count": 55,
   "id": "5f962c40",
   "metadata": {},
   "outputs": [
    {
     "ename": "TypeError",
     "evalue": "unsupported operand type(s) for +: 'int' and 'str'",
     "output_type": "error",
     "traceback": [
      "\u001b[1;31m---------------------------------------------------------------------------\u001b[0m",
      "\u001b[1;31mTypeError\u001b[0m                                 Traceback (most recent call last)",
      "Input \u001b[1;32mIn [55]\u001b[0m, in \u001b[0;36m<cell line: 1>\u001b[1;34m()\u001b[0m\n\u001b[1;32m----> 1\u001b[0m \u001b[43madd\u001b[49m\u001b[43m(\u001b[49m\u001b[38;5;241;43m5\u001b[39;49m\u001b[43m,\u001b[49m\u001b[38;5;124;43m'\u001b[39;49m\u001b[38;5;124;43my\u001b[39;49m\u001b[38;5;124;43m'\u001b[39;49m\u001b[43m,\u001b[49m\u001b[38;5;241;43m2\u001b[39;49m\u001b[43m)\u001b[49m\n",
      "Input \u001b[1;32mIn [53]\u001b[0m, in \u001b[0;36madd\u001b[1;34m(x, y, *number)\u001b[0m\n\u001b[0;32m      1\u001b[0m \u001b[38;5;28;01mdef\u001b[39;00m \u001b[38;5;21madd\u001b[39m(x,y,\u001b[38;5;241m*\u001b[39mnumber):\n\u001b[1;32m----> 2\u001b[0m     k\u001b[38;5;241m=\u001b[39m\u001b[43mx\u001b[49m\u001b[38;5;241;43m+\u001b[39;49m\u001b[43my\u001b[49m\n\u001b[0;32m      3\u001b[0m     \u001b[38;5;28;01mfor\u001b[39;00m i \u001b[38;5;129;01min\u001b[39;00m number:\n\u001b[0;32m      4\u001b[0m         k\u001b[38;5;241m+\u001b[39m\u001b[38;5;241m=\u001b[39mi\n",
      "\u001b[1;31mTypeError\u001b[0m: unsupported operand type(s) for +: 'int' and 'str'"
     ]
    }
   ],
   "source": [
    "add(5,'y',2)"
   ]
  },
  {
   "cell_type": "code",
   "execution_count": 27,
   "id": "edb7838c",
   "metadata": {},
   "outputs": [
    {
     "data": {
      "text/plain": [
       "29"
      ]
     },
     "execution_count": 27,
     "metadata": {},
     "output_type": "execute_result"
    }
   ],
   "source": [
    "add(5,6,7,5,3,3)"
   ]
  },
  {
   "cell_type": "code",
   "execution_count": 28,
   "id": "07f2f9d2",
   "metadata": {},
   "outputs": [
    {
     "data": {
      "text/plain": [
       "74"
      ]
     },
     "execution_count": 28,
     "metadata": {},
     "output_type": "execute_result"
    }
   ],
   "source": [
    "add(7,8,9,5,6,2,3,6,5,2,1,4,5,6,2,3)"
   ]
  },
  {
   "cell_type": "code",
   "execution_count": 35,
   "id": "02122882",
   "metadata": {},
   "outputs": [],
   "source": [
    "def add(*number):\n",
    "    k=0\n",
    "    for i in number:\n",
    "        k+=i\n",
    "    return k"
   ]
  },
  {
   "cell_type": "code",
   "execution_count": 36,
   "id": "c69a9046",
   "metadata": {},
   "outputs": [
    {
     "data": {
      "text/plain": [
       "37"
      ]
     },
     "execution_count": 36,
     "metadata": {},
     "output_type": "execute_result"
    }
   ],
   "source": [
    "add(5,8,5,4,3,3,2,2,2,3)"
   ]
  },
  {
   "cell_type": "code",
   "execution_count": 37,
   "id": "8c5bc956",
   "metadata": {},
   "outputs": [
    {
     "data": {
      "text/plain": [
       "104"
      ]
     },
     "execution_count": 37,
     "metadata": {},
     "output_type": "execute_result"
    }
   ],
   "source": [
    "add(9,9,9,8,7,8,9,8,7,6,7,8,9)"
   ]
  },
  {
   "cell_type": "code",
   "execution_count": 38,
   "id": "1a84f97d",
   "metadata": {},
   "outputs": [
    {
     "data": {
      "text/plain": [
       "0"
      ]
     },
     "execution_count": 38,
     "metadata": {},
     "output_type": "execute_result"
    }
   ],
   "source": [
    "add()"
   ]
  },
  {
   "cell_type": "code",
   "execution_count": 39,
   "id": "9088e415",
   "metadata": {},
   "outputs": [
    {
     "data": {
      "text/plain": [
       "0"
      ]
     },
     "execution_count": 39,
     "metadata": {},
     "output_type": "execute_result"
    }
   ],
   "source": [
    "add()"
   ]
  },
  {
   "cell_type": "code",
   "execution_count": 40,
   "id": "b5bebf3a",
   "metadata": {},
   "outputs": [
    {
     "data": {
      "text/plain": [
       "8"
      ]
     },
     "execution_count": 40,
     "metadata": {},
     "output_type": "execute_result"
    }
   ],
   "source": [
    "add(8)"
   ]
  },
  {
   "cell_type": "code",
   "execution_count": 41,
   "id": "4b09c70b",
   "metadata": {},
   "outputs": [],
   "source": [
    "# arbi-keyword argument"
   ]
  },
  {
   "cell_type": "code",
   "execution_count": 56,
   "id": "3c05b21a",
   "metadata": {},
   "outputs": [],
   "source": [
    "def info(**data):\n",
    "    print(data)"
   ]
  },
  {
   "cell_type": "code",
   "execution_count": 57,
   "id": "5a88441f",
   "metadata": {},
   "outputs": [
    {
     "ename": "NameError",
     "evalue": "name 'name' is not defined",
     "output_type": "error",
     "traceback": [
      "\u001b[1;31m---------------------------------------------------------------------------\u001b[0m",
      "\u001b[1;31mNameError\u001b[0m                                 Traceback (most recent call last)",
      "Input \u001b[1;32mIn [57]\u001b[0m, in \u001b[0;36m<cell line: 1>\u001b[1;34m()\u001b[0m\n\u001b[1;32m----> 1\u001b[0m info(\u001b[43mname\u001b[49m)\n",
      "\u001b[1;31mNameError\u001b[0m: name 'name' is not defined"
     ]
    }
   ],
   "source": [
    "info(name)"
   ]
  },
  {
   "cell_type": "code",
   "execution_count": 58,
   "id": "876a8492",
   "metadata": {},
   "outputs": [
    {
     "name": "stdout",
     "output_type": "stream",
     "text": [
      "{'name': 'naresh'}\n"
     ]
    }
   ],
   "source": [
    "info(name='naresh')"
   ]
  },
  {
   "cell_type": "code",
   "execution_count": 59,
   "id": "d458f671",
   "metadata": {},
   "outputs": [
    {
     "name": "stdout",
     "output_type": "stream",
     "text": [
      "{'name': 'naresh', 'subject': 'python', 'city': 'pali'}\n"
     ]
    }
   ],
   "source": [
    "info(name='naresh',subject='python',city='pali')"
   ]
  },
  {
   "cell_type": "code",
   "execution_count": 60,
   "id": "c2d8da0c",
   "metadata": {},
   "outputs": [],
   "source": [
    "hello=lambda:'this is none type'"
   ]
  },
  {
   "cell_type": "code",
   "execution_count": 61,
   "id": "5c2e2f29",
   "metadata": {},
   "outputs": [
    {
     "data": {
      "text/plain": [
       "'this is none type'"
      ]
     },
     "execution_count": 61,
     "metadata": {},
     "output_type": "execute_result"
    }
   ],
   "source": [
    "hello()"
   ]
  },
  {
   "cell_type": "code",
   "execution_count": 62,
   "id": "58680b04",
   "metadata": {},
   "outputs": [],
   "source": [
    "#filter"
   ]
  },
  {
   "cell_type": "code",
   "execution_count": 63,
   "id": "69d19fb9",
   "metadata": {},
   "outputs": [
    {
     "ename": "TypeError",
     "evalue": "filter expected 2 arguments, got 1",
     "output_type": "error",
     "traceback": [
      "\u001b[1;31m---------------------------------------------------------------------------\u001b[0m",
      "\u001b[1;31mTypeError\u001b[0m                                 Traceback (most recent call last)",
      "Input \u001b[1;32mIn [63]\u001b[0m, in \u001b[0;36m<cell line: 1>\u001b[1;34m()\u001b[0m\n\u001b[1;32m----> 1\u001b[0m filter_item\u001b[38;5;241m=\u001b[39m \u001b[38;5;28;43mfilter\u001b[39;49m\u001b[43m(\u001b[49m\u001b[38;5;124;43m'\u001b[39;49m\u001b[38;5;124;43mhello\u001b[39;49m\u001b[38;5;124;43m'\u001b[39;49m\u001b[43m)\u001b[49m\n",
      "\u001b[1;31mTypeError\u001b[0m: filter expected 2 arguments, got 1"
     ]
    }
   ],
   "source": [
    "filter_item= filter('hello')"
   ]
  },
  {
   "cell_type": "code",
   "execution_count": 64,
   "id": "7dfd55c5",
   "metadata": {},
   "outputs": [],
   "source": [
    "filter_item= filter(None,'hello')"
   ]
  },
  {
   "cell_type": "code",
   "execution_count": 72,
   "id": "1e1ef5b5",
   "metadata": {},
   "outputs": [],
   "source": [
    "def add(x):\n",
    "    return x%2==0"
   ]
  },
  {
   "cell_type": "code",
   "execution_count": 73,
   "id": "6bfdf46e",
   "metadata": {},
   "outputs": [],
   "source": [
    "l=[5,4,6,7,8,4]"
   ]
  },
  {
   "cell_type": "code",
   "execution_count": 74,
   "id": "d6429d2c",
   "metadata": {},
   "outputs": [],
   "source": [
    "filter_item= filter(add,l)"
   ]
  },
  {
   "cell_type": "code",
   "execution_count": 75,
   "id": "f56a10b9",
   "metadata": {},
   "outputs": [
    {
     "data": {
      "text/plain": [
       "<filter at 0x239f7d17790>"
      ]
     },
     "execution_count": 75,
     "metadata": {},
     "output_type": "execute_result"
    }
   ],
   "source": [
    "filter_item"
   ]
  },
  {
   "cell_type": "code",
   "execution_count": 76,
   "id": "63ba3249",
   "metadata": {},
   "outputs": [
    {
     "name": "stdout",
     "output_type": "stream",
     "text": [
      "4\n",
      "6\n",
      "8\n",
      "4\n"
     ]
    }
   ],
   "source": [
    "for  i in filter_item:\n",
    "    print(i)"
   ]
  },
  {
   "cell_type": "code",
   "execution_count": null,
   "id": "ad69d790",
   "metadata": {},
   "outputs": [],
   "source": []
  }
 ],
 "metadata": {
  "kernelspec": {
   "display_name": "Python 3 (ipykernel)",
   "language": "python",
   "name": "python3"
  },
  "language_info": {
   "codemirror_mode": {
    "name": "ipython",
    "version": 3
   },
   "file_extension": ".py",
   "mimetype": "text/x-python",
   "name": "python",
   "nbconvert_exporter": "python",
   "pygments_lexer": "ipython3",
   "version": "3.9.12"
  }
 },
 "nbformat": 4,
 "nbformat_minor": 5
}
