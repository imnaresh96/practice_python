{
 "cells": [
  {
   "cell_type": "code",
   "execution_count": 1,
   "id": "440db6db",
   "metadata": {},
   "outputs": [],
   "source": [
    "import sqlite3 as sql"
   ]
  },
  {
   "cell_type": "code",
   "execution_count": 2,
   "id": "955b3a74",
   "metadata": {},
   "outputs": [],
   "source": [
    "db=sql.connect('mypythondata.db')"
   ]
  },
  {
   "cell_type": "code",
   "execution_count": 3,
   "id": "0dced3df",
   "metadata": {},
   "outputs": [],
   "source": [
    "cur=db.cursor()"
   ]
  },
  {
   "cell_type": "code",
   "execution_count": 4,
   "id": "34aed16c",
   "metadata": {},
   "outputs": [
    {
     "data": {
      "text/plain": [
       "<sqlite3.Cursor at 0x1cf6e432f80>"
      ]
     },
     "execution_count": 4,
     "metadata": {},
     "output_type": "execute_result"
    }
   ],
   "source": [
    "cur.execute(\"create table jaymiskin(id int, name varchar(25),place varchar(25))\")"
   ]
  },
  {
   "cell_type": "code",
   "execution_count": 5,
   "id": "a3ea098f",
   "metadata": {},
   "outputs": [
    {
     "data": {
      "text/plain": [
       "<sqlite3.Cursor at 0x1cf6e432f80>"
      ]
     },
     "execution_count": 5,
     "metadata": {},
     "output_type": "execute_result"
    }
   ],
   "source": [
    "cur.execute(\"insert into jaymiskin values('1','Naresh','Rani')\")"
   ]
  },
  {
   "cell_type": "code",
   "execution_count": 6,
   "id": "63c795a4",
   "metadata": {},
   "outputs": [],
   "source": [
    "db.commit()"
   ]
  },
  {
   "cell_type": "code",
   "execution_count": 8,
   "id": "62f0baa3",
   "metadata": {},
   "outputs": [
    {
     "data": {
      "text/plain": [
       "<sqlite3.Cursor at 0x1cf6e432f80>"
      ]
     },
     "execution_count": 8,
     "metadata": {},
     "output_type": "execute_result"
    }
   ],
   "source": [
    "cur.execute(\"select * from jaymiskin\")"
   ]
  },
  {
   "cell_type": "code",
   "execution_count": 9,
   "id": "43c549d0",
   "metadata": {},
   "outputs": [
    {
     "data": {
      "text/plain": [
       "[(1, 'Naresh', 'Rani')]"
      ]
     },
     "execution_count": 9,
     "metadata": {},
     "output_type": "execute_result"
    }
   ],
   "source": [
    "cur.fetchall()"
   ]
  },
  {
   "cell_type": "code",
   "execution_count": 10,
   "id": "984e9355",
   "metadata": {},
   "outputs": [],
   "source": [
    "data=[\n",
    "    {\n",
    "        'id':'2',\n",
    "        'name':'Jay',\n",
    "        'place':'Maninagar'\n",
    "    },\n",
    "    {\n",
    "        'id':'3',\n",
    "        'name':'Nishad',\n",
    "        'place':'Maninagar'\n",
    "    },\n",
    "]"
   ]
  },
  {
   "cell_type": "code",
   "execution_count": 11,
   "id": "250699c2",
   "metadata": {},
   "outputs": [
    {
     "name": "stdout",
     "output_type": "stream",
     "text": [
      "{'id': '2', 'name': 'Jay', 'place': 'Maninagar'}\n",
      "{'id': '3', 'name': 'Nishad', 'place': 'Maninagar'}\n"
     ]
    }
   ],
   "source": [
    "for i in data:\n",
    "    print(i)"
   ]
  },
  {
   "cell_type": "code",
   "execution_count": 13,
   "id": "b5e57472",
   "metadata": {},
   "outputs": [
    {
     "name": "stdout",
     "output_type": "stream",
     "text": [
      "id\n",
      "name\n",
      "place\n",
      "id\n",
      "name\n",
      "place\n"
     ]
    }
   ],
   "source": [
    "for i in data:\n",
    "    for k in i:\n",
    "        print(k)"
   ]
  },
  {
   "cell_type": "code",
   "execution_count": 14,
   "id": "2829af4b",
   "metadata": {},
   "outputs": [
    {
     "name": "stdout",
     "output_type": "stream",
     "text": [
      "id 2\n",
      "name Jay\n",
      "place Maninagar\n",
      "id 3\n",
      "name Nishad\n",
      "place Maninagar\n"
     ]
    }
   ],
   "source": [
    "for i in data:\n",
    "    for k in i:\n",
    "        print(k,i[k])"
   ]
  },
  {
   "cell_type": "code",
   "execution_count": 16,
   "id": "9539e2c5",
   "metadata": {},
   "outputs": [
    {
     "name": "stdout",
     "output_type": "stream",
     "text": [
      "2\n",
      "Jay\n",
      "Maninagar\n",
      "3\n",
      "Nishad\n",
      "Maninagar\n"
     ]
    }
   ],
   "source": [
    "for i in data:\n",
    "    for k in i:\n",
    "        print(i[k])"
   ]
  },
  {
   "cell_type": "code",
   "execution_count": 17,
   "id": "98400f76",
   "metadata": {},
   "outputs": [
    {
     "data": {
      "text/plain": [
       "<sqlite3.Cursor at 0x1cf6e432f80>"
      ]
     },
     "execution_count": 17,
     "metadata": {},
     "output_type": "execute_result"
    }
   ],
   "source": [
    "cur.execute(\"update jaymiskin set name='nishad mehta' where id=1\")"
   ]
  },
  {
   "cell_type": "code",
   "execution_count": 18,
   "id": "0fe9333a",
   "metadata": {},
   "outputs": [
    {
     "data": {
      "text/plain": [
       "<sqlite3.Cursor at 0x1cf6e432f80>"
      ]
     },
     "execution_count": 18,
     "metadata": {},
     "output_type": "execute_result"
    }
   ],
   "source": [
    "cur.execute('select * from jaymiskin')"
   ]
  },
  {
   "cell_type": "code",
   "execution_count": 19,
   "id": "6e2dd9df",
   "metadata": {},
   "outputs": [],
   "source": [
    "db.commit()"
   ]
  },
  {
   "cell_type": "code",
   "execution_count": 20,
   "id": "5647df5e",
   "metadata": {},
   "outputs": [
    {
     "data": {
      "text/plain": [
       "<sqlite3.Cursor at 0x1cf6e432f80>"
      ]
     },
     "execution_count": 20,
     "metadata": {},
     "output_type": "execute_result"
    }
   ],
   "source": [
    "cur.execute('select * from jaymiskin')"
   ]
  },
  {
   "cell_type": "code",
   "execution_count": 21,
   "id": "5e769eee",
   "metadata": {},
   "outputs": [
    {
     "data": {
      "text/plain": [
       "[(1, 'nishad mehta', 'Rani')]"
      ]
     },
     "execution_count": 21,
     "metadata": {},
     "output_type": "execute_result"
    }
   ],
   "source": [
    "cur.fetchall()"
   ]
  },
  {
   "cell_type": "code",
   "execution_count": 22,
   "id": "f67e8d3b",
   "metadata": {},
   "outputs": [],
   "source": [
    "import pymysql as sql"
   ]
  },
  {
   "cell_type": "code",
   "execution_count": null,
   "id": "ca4374b2",
   "metadata": {},
   "outputs": [],
   "source": []
  },
  {
   "cell_type": "code",
   "execution_count": 29,
   "id": "8d50c020",
   "metadata": {},
   "outputs": [
    {
     "data": {
      "text/plain": [
       "<sqlite3.Cursor at 0x1cf6e432f80>"
      ]
     },
     "execution_count": 29,
     "metadata": {},
     "output_type": "execute_result"
    }
   ],
   "source": [
    "cur.execute(\"update jaymiskin set name='Jay' where id=1\")"
   ]
  },
  {
   "cell_type": "code",
   "execution_count": 30,
   "id": "d23a6eda",
   "metadata": {},
   "outputs": [],
   "source": [
    "db.commit()"
   ]
  },
  {
   "cell_type": "code",
   "execution_count": 31,
   "id": "8158ca5c",
   "metadata": {},
   "outputs": [
    {
     "data": {
      "text/plain": [
       "<sqlite3.Cursor at 0x1cf6e432f80>"
      ]
     },
     "execution_count": 31,
     "metadata": {},
     "output_type": "execute_result"
    }
   ],
   "source": [
    "cur.execute(\"select * from jaymiskin\")"
   ]
  },
  {
   "cell_type": "code",
   "execution_count": 32,
   "id": "1edf1ad0",
   "metadata": {},
   "outputs": [
    {
     "data": {
      "text/plain": [
       "[(1, 'Jay', 'Rani')]"
      ]
     },
     "execution_count": 32,
     "metadata": {},
     "output_type": "execute_result"
    }
   ],
   "source": [
    "cur.fetchall()"
   ]
  },
  {
   "cell_type": "code",
   "execution_count": null,
   "id": "eefa130c",
   "metadata": {},
   "outputs": [],
   "source": []
  }
 ],
 "metadata": {
  "kernelspec": {
   "display_name": "Python 3 (ipykernel)",
   "language": "python",
   "name": "python3"
  },
  "language_info": {
   "codemirror_mode": {
    "name": "ipython",
    "version": 3
   },
   "file_extension": ".py",
   "mimetype": "text/x-python",
   "name": "python",
   "nbconvert_exporter": "python",
   "pygments_lexer": "ipython3",
   "version": "3.9.12"
  }
 },
 "nbformat": 4,
 "nbformat_minor": 5
}
