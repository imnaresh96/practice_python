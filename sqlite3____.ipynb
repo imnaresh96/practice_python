{
 "cells": [
  {
   "cell_type": "code",
   "execution_count": 1,
   "id": "440db6db",
   "metadata": {},
   "outputs": [],
   "source": [
    "import sqlite3 as sql"
   ]
  },
  {
   "cell_type": "code",
   "execution_count": 2,
   "id": "955b3a74",
   "metadata": {},
   "outputs": [],
   "source": [
    "db=sql.connect('mypythondata.db')"
   ]
  },
  {
   "cell_type": "code",
   "execution_count": 3,
   "id": "0dced3df",
   "metadata": {},
   "outputs": [],
   "source": [
    "cur=db.cursor()"
   ]
  },
  {
   "cell_type": "code",
   "execution_count": 4,
   "id": "34aed16c",
   "metadata": {},
   "outputs": [
    {
     "data": {
      "text/plain": [
       "<sqlite3.Cursor at 0x1cf6e432f80>"
      ]
     },
     "execution_count": 4,
     "metadata": {},
     "output_type": "execute_result"
    }
   ],
   "source": [
    "cur.execute(\"create table jaymiskin(id int, name varchar(25),place varchar(25))\")"
   ]
  },
  {
   "cell_type": "code",
   "execution_count": 5,
   "id": "a3ea098f",
   "metadata": {},
   "outputs": [
    {
     "data": {
      "text/plain": [
       "<sqlite3.Cursor at 0x1cf6e432f80>"
      ]
     },
     "execution_count": 5,
     "metadata": {},
     "output_type": "execute_result"
    }
   ],
   "source": [
    "cur.execute(\"insert into jaymiskin values('1','Naresh','Rani')\")"
   ]
  },
  {
   "cell_type": "code",
   "execution_count": 6,
   "id": "63c795a4",
   "metadata": {},
   "outputs": [],
   "source": [
    "db.commit()"
   ]
  },
  {
   "cell_type": "code",
   "execution_count": 8,
   "id": "62f0baa3",
   "metadata": {},
   "outputs": [
    {
     "data": {
      "text/plain": [
       "<sqlite3.Cursor at 0x1cf6e432f80>"
      ]
     },
     "execution_count": 8,
     "metadata": {},
     "output_type": "execute_result"
    }
   ],
   "source": [
    "cur.execute(\"select * from jaymiskin\")"
   ]
  },
  {
   "cell_type": "code",
   "execution_count": 9,
   "id": "43c549d0",
   "metadata": {},
   "outputs": [
    {
     "data": {
      "text/plain": [
       "[(1, 'Naresh', 'Rani')]"
      ]
     },
     "execution_count": 9,
     "metadata": {},
     "output_type": "execute_result"
    }
   ],
   "source": [
    "cur.fetchall()"
   ]
  },
  {
   "cell_type": "code",
   "execution_count": 10,
   "id": "984e9355",
   "metadata": {},
   "outputs": [],
   "source": [
    "data=[\n",
    "    {\n",
    "        'id':'2',\n",
    "        'name':'Jay',\n",
    "        'place':'Maninagar'\n",
    "    },\n",
    "    {\n",
    "        'id':'3',\n",
    "        'name':'Nishad',\n",
    "        'place':'Maninagar'\n",
    "    },\n",
    "]"
   ]
  },
  {
   "cell_type": "code",
   "execution_count": 11,
   "id": "250699c2",
   "metadata": {},
   "outputs": [
    {
     "name": "stdout",
     "output_type": "stream",
     "text": [
      "{'id': '2', 'name': 'Jay', 'place': 'Maninagar'}\n",
      "{'id': '3', 'name': 'Nishad', 'place': 'Maninagar'}\n"
     ]
    }
   ],
   "source": [
    "for i in data:\n",
    "    print(i)"
   ]
  },
  {
   "cell_type": "code",
   "execution_count": 13,
   "id": "b5e57472",
   "metadata": {},
   "outputs": [
    {
     "name": "stdout",
     "output_type": "stream",
     "text": [
      "id\n",
      "name\n",
      "place\n",
      "id\n",
      "name\n",
      "place\n"
     ]
    }
   ],
   "source": [
    "for i in data:\n",
    "    for k in i:\n",
    "        print(k)"
   ]
  },
  {
   "cell_type": "code",
   "execution_count": 14,
   "id": "2829af4b",
   "metadata": {},
   "outputs": [
    {
     "name": "stdout",
     "output_type": "stream",
     "text": [
      "id 2\n",
      "name Jay\n",
      "place Maninagar\n",
      "id 3\n",
      "name Nishad\n",
      "place Maninagar\n"
     ]
    }
   ],
   "source": [
    "for i in data:\n",
    "    for k in i:\n",
    "        print(k,i[k])"
   ]
  },
  {
   "cell_type": "code",
   "execution_count": 16,
   "id": "9539e2c5",
   "metadata": {},
   "outputs": [
    {
     "name": "stdout",
     "output_type": "stream",
     "text": [
      "2\n",
      "Jay\n",
      "Maninagar\n",
      "3\n",
      "Nishad\n",
      "Maninagar\n"
     ]
    }
   ],
   "source": [
    "for i in data:\n",
    "    for k in i:\n",
    "        print(i[k])"
   ]
  },
  {
   "cell_type": "code",
   "execution_count": 17,
   "id": "98400f76",
   "metadata": {},
   "outputs": [
    {
     "data": {
      "text/plain": [
       "<sqlite3.Cursor at 0x1cf6e432f80>"
      ]
     },
     "execution_count": 17,
     "metadata": {},
     "output_type": "execute_result"
    }
   ],
   "source": [
    "cur.execute(\"update jaymiskin set name='nishad mehta' where id=1\")"
   ]
  },
  {
   "cell_type": "code",
   "execution_count": 18,
   "id": "0fe9333a",
   "metadata": {},
   "outputs": [
    {
     "data": {
      "text/plain": [
       "<sqlite3.Cursor at 0x1cf6e432f80>"
      ]
     },
     "execution_count": 18,
     "metadata": {},
     "output_type": "execute_result"
    }
   ],
   "source": [
    "cur.execute('select * from jaymiskin')"
   ]
  },
  {
   "cell_type": "code",
   "execution_count": 19,
   "id": "6e2dd9df",
   "metadata": {},
   "outputs": [],
   "source": [
    "db.commit()"
   ]
  },
  {
   "cell_type": "code",
   "execution_count": 20,
   "id": "5647df5e",
   "metadata": {},
   "outputs": [
    {
     "data": {
      "text/plain": [
       "<sqlite3.Cursor at 0x1cf6e432f80>"
      ]
     },
     "execution_count": 20,
     "metadata": {},
     "output_type": "execute_result"
    }
   ],
   "source": [
    "cur.execute('select * from jaymiskin')"
   ]
  },
  {
   "cell_type": "code",
   "execution_count": 21,
   "id": "5e769eee",
   "metadata": {},
   "outputs": [
    {
     "data": {
      "text/plain": [
       "[(1, 'nishad mehta', 'Rani')]"
      ]
     },
     "execution_count": 21,
     "metadata": {},
     "output_type": "execute_result"
    }
   ],
   "source": [
    "cur.fetchall()"
   ]
  },
  {
   "cell_type": "code",
   "execution_count": 3,
   "id": "f67e8d3b",
   "metadata": {},
   "outputs": [],
   "source": [
    "import pymysql as sql"
   ]
  },
  {
   "cell_type": "code",
   "execution_count": null,
   "id": "ca4374b2",
   "metadata": {},
   "outputs": [],
   "source": []
  },
  {
   "cell_type": "code",
   "execution_count": 4,
   "id": "8d50c020",
   "metadata": {},
   "outputs": [
    {
     "ename": "NameError",
     "evalue": "name 'cur' is not defined",
     "output_type": "error",
     "traceback": [
      "\u001b[1;31m---------------------------------------------------------------------------\u001b[0m",
      "\u001b[1;31mNameError\u001b[0m                                 Traceback (most recent call last)",
      "Input \u001b[1;32mIn [4]\u001b[0m, in \u001b[0;36m<cell line: 1>\u001b[1;34m()\u001b[0m\n\u001b[1;32m----> 1\u001b[0m \u001b[43mcur\u001b[49m\u001b[38;5;241m.\u001b[39mexecute(\u001b[38;5;124m\"\u001b[39m\u001b[38;5;124mupdate jaymiskin set name=\u001b[39m\u001b[38;5;124m'\u001b[39m\u001b[38;5;124mJay\u001b[39m\u001b[38;5;124m'\u001b[39m\u001b[38;5;124m where id=1\u001b[39m\u001b[38;5;124m\"\u001b[39m)\n",
      "\u001b[1;31mNameError\u001b[0m: name 'cur' is not defined"
     ]
    }
   ],
   "source": [
    "cur.execute(\"update jaymiskin set name='Jay' where id=1\")"
   ]
  },
  {
   "cell_type": "code",
   "execution_count": 5,
   "id": "d23a6eda",
   "metadata": {},
   "outputs": [
    {
     "ename": "NameError",
     "evalue": "name 'db' is not defined",
     "output_type": "error",
     "traceback": [
      "\u001b[1;31m---------------------------------------------------------------------------\u001b[0m",
      "\u001b[1;31mNameError\u001b[0m                                 Traceback (most recent call last)",
      "Input \u001b[1;32mIn [5]\u001b[0m, in \u001b[0;36m<cell line: 1>\u001b[1;34m()\u001b[0m\n\u001b[1;32m----> 1\u001b[0m \u001b[43mdb\u001b[49m\u001b[38;5;241m.\u001b[39mcommit()\n",
      "\u001b[1;31mNameError\u001b[0m: name 'db' is not defined"
     ]
    }
   ],
   "source": [
    "db.commit()"
   ]
  },
  {
   "cell_type": "code",
   "execution_count": 31,
   "id": "8158ca5c",
   "metadata": {},
   "outputs": [
    {
     "data": {
      "text/plain": [
       "<sqlite3.Cursor at 0x1cf6e432f80>"
      ]
     },
     "execution_count": 31,
     "metadata": {},
     "output_type": "execute_result"
    }
   ],
   "source": [
    "cur.execute(\"select * from jaymiskin\")"
   ]
  },
  {
   "cell_type": "code",
   "execution_count": 32,
   "id": "1edf1ad0",
   "metadata": {},
   "outputs": [
    {
     "data": {
      "text/plain": [
       "[(1, 'Jay', 'Rani')]"
      ]
     },
     "execution_count": 32,
     "metadata": {},
     "output_type": "execute_result"
    }
   ],
   "source": [
    "cur.fetchall()"
   ]
  },
  {
   "cell_type": "code",
   "execution_count": 6,
   "id": "eefa130c",
   "metadata": {},
   "outputs": [],
   "source": [
    "import sqlite3 as sql"
   ]
  },
  {
   "cell_type": "code",
   "execution_count": 7,
   "id": "7b2dc4d9",
   "metadata": {},
   "outputs": [],
   "source": [
    "db=sql.connect('newdata235.db')"
   ]
  },
  {
   "cell_type": "code",
   "execution_count": 16,
   "id": "1a9cd042",
   "metadata": {},
   "outputs": [],
   "source": [
    "cur=db.cursor()"
   ]
  },
  {
   "cell_type": "code",
   "execution_count": 11,
   "id": "906b482e",
   "metadata": {},
   "outputs": [
    {
     "data": {
      "text/plain": [
       "<sqlite3.Cursor at 0x2d9e94536c0>"
      ]
     },
     "execution_count": 11,
     "metadata": {},
     "output_type": "execute_result"
    }
   ],
   "source": [
    "cur.execute(\"create table abhishek2(id int, name varchar(25),place varchar(30))\")"
   ]
  },
  {
   "cell_type": "code",
   "execution_count": 12,
   "id": "8792a9a6",
   "metadata": {},
   "outputs": [
    {
     "data": {
      "text/plain": [
       "<sqlite3.Cursor at 0x2d9e94536c0>"
      ]
     },
     "execution_count": 12,
     "metadata": {},
     "output_type": "execute_result"
    }
   ],
   "source": [
    "cur.execute(\"insert into abhishek2 values('1','Naresh','Rani Station')\")"
   ]
  },
  {
   "cell_type": "code",
   "execution_count": 11,
   "id": "405e0e4e",
   "metadata": {},
   "outputs": [],
   "source": [
    "db.commit()"
   ]
  },
  {
   "cell_type": "code",
   "execution_count": 13,
   "id": "61443904",
   "metadata": {},
   "outputs": [
    {
     "data": {
      "text/plain": [
       "<sqlite3.Cursor at 0x2d9e94536c0>"
      ]
     },
     "execution_count": 13,
     "metadata": {},
     "output_type": "execute_result"
    }
   ],
   "source": [
    "cur.execute(\"select * from abhishek2\")"
   ]
  },
  {
   "cell_type": "code",
   "execution_count": 14,
   "id": "b778259e",
   "metadata": {},
   "outputs": [
    {
     "data": {
      "text/plain": [
       "[(1, 'Naresh', 'Rani Station')]"
      ]
     },
     "execution_count": 14,
     "metadata": {},
     "output_type": "execute_result"
    }
   ],
   "source": [
    "cur.fetchall()"
   ]
  },
  {
   "cell_type": "code",
   "execution_count": 14,
   "id": "a52eac9c",
   "metadata": {},
   "outputs": [
    {
     "data": {
      "text/plain": [
       "<sqlite3.Cursor at 0x1a333c2d110>"
      ]
     },
     "execution_count": 14,
     "metadata": {},
     "output_type": "execute_result"
    }
   ],
   "source": [
    "cur.execute(\"insert into abhishek values(2,'Jay','Ahmedabad')\")"
   ]
  },
  {
   "cell_type": "code",
   "execution_count": 15,
   "id": "fa1e1036",
   "metadata": {},
   "outputs": [],
   "source": [
    "db.commit()"
   ]
  },
  {
   "cell_type": "code",
   "execution_count": 16,
   "id": "6d8eba67",
   "metadata": {},
   "outputs": [
    {
     "data": {
      "text/plain": [
       "<sqlite3.Cursor at 0x1a333c2d110>"
      ]
     },
     "execution_count": 16,
     "metadata": {},
     "output_type": "execute_result"
    }
   ],
   "source": [
    "cur.execute('select name from abhishek')"
   ]
  },
  {
   "cell_type": "code",
   "execution_count": 17,
   "id": "0250f075",
   "metadata": {},
   "outputs": [
    {
     "data": {
      "text/plain": [
       "[('Naresh',), ('Jay',)]"
      ]
     },
     "execution_count": 17,
     "metadata": {},
     "output_type": "execute_result"
    }
   ],
   "source": [
    "cur.fetchall()"
   ]
  },
  {
   "cell_type": "code",
   "execution_count": 19,
   "id": "a6de3dbc",
   "metadata": {},
   "outputs": [
    {
     "data": {
      "text/plain": [
       "<sqlite3.Cursor at 0x1a333c2d110>"
      ]
     },
     "execution_count": 19,
     "metadata": {},
     "output_type": "execute_result"
    }
   ],
   "source": [
    "cur.execute(\"update abhishek set name='Rahul' where id=2\")"
   ]
  },
  {
   "cell_type": "code",
   "execution_count": 20,
   "id": "48496729",
   "metadata": {},
   "outputs": [],
   "source": [
    "db.commit()"
   ]
  },
  {
   "cell_type": "code",
   "execution_count": 28,
   "id": "3f9bbff5",
   "metadata": {},
   "outputs": [
    {
     "data": {
      "text/plain": [
       "[(1, 'Naresh Sisodiya', 'Rani Station'), (2, 'Rahul', 'Ahmedabad')]"
      ]
     },
     "execution_count": 28,
     "metadata": {},
     "output_type": "execute_result"
    }
   ],
   "source": [
    "cur.fetchall()"
   ]
  },
  {
   "cell_type": "code",
   "execution_count": 26,
   "id": "f0e6e04c",
   "metadata": {},
   "outputs": [
    {
     "data": {
      "text/plain": [
       "<sqlite3.Cursor at 0x1a333c2d110>"
      ]
     },
     "execution_count": 26,
     "metadata": {},
     "output_type": "execute_result"
    }
   ],
   "source": [
    "cur.execute(\"update abhishek set name='Naresh Sisodiya' where id=1\")"
   ]
  },
  {
   "cell_type": "code",
   "execution_count": 29,
   "id": "51eebee3",
   "metadata": {},
   "outputs": [
    {
     "data": {
      "text/plain": [
       "<sqlite3.Cursor at 0x1a333c2d110>"
      ]
     },
     "execution_count": 29,
     "metadata": {},
     "output_type": "execute_result"
    }
   ],
   "source": [
    "cur.execute('delete from abhishek where id=2')"
   ]
  },
  {
   "cell_type": "code",
   "execution_count": 30,
   "id": "99d3728a",
   "metadata": {},
   "outputs": [
    {
     "data": {
      "text/plain": [
       "<sqlite3.Cursor at 0x1a333c2d110>"
      ]
     },
     "execution_count": 30,
     "metadata": {},
     "output_type": "execute_result"
    }
   ],
   "source": [
    "cur.execute(\"Select * from abhishek\")"
   ]
  },
  {
   "cell_type": "code",
   "execution_count": 31,
   "id": "43d22c58",
   "metadata": {},
   "outputs": [
    {
     "data": {
      "text/plain": [
       "[(1, 'Naresh Sisodiya', 'Rani Station')]"
      ]
     },
     "execution_count": 31,
     "metadata": {},
     "output_type": "execute_result"
    }
   ],
   "source": [
    "cur.fetchall()"
   ]
  },
  {
   "cell_type": "code",
   "execution_count": 32,
   "id": "5ba09ae0",
   "metadata": {},
   "outputs": [
    {
     "data": {
      "text/plain": [
       "<sqlite3.Cursor at 0x1a333c2d110>"
      ]
     },
     "execution_count": 32,
     "metadata": {},
     "output_type": "execute_result"
    }
   ],
   "source": [
    "cur.execute('delete from abhishek where id=1')"
   ]
  },
  {
   "cell_type": "code",
   "execution_count": 33,
   "id": "bcb25fba",
   "metadata": {},
   "outputs": [
    {
     "data": {
      "text/plain": [
       "<sqlite3.Cursor at 0x1a333c2d110>"
      ]
     },
     "execution_count": 33,
     "metadata": {},
     "output_type": "execute_result"
    }
   ],
   "source": [
    "cur.execute(\"select * from abhishek\")"
   ]
  },
  {
   "cell_type": "code",
   "execution_count": 34,
   "id": "ee438f3d",
   "metadata": {},
   "outputs": [
    {
     "data": {
      "text/plain": [
       "[]"
      ]
     },
     "execution_count": 34,
     "metadata": {},
     "output_type": "execute_result"
    }
   ],
   "source": [
    "cur.fetchall()"
   ]
  },
  {
   "cell_type": "code",
   "execution_count": 36,
   "id": "f946b36f",
   "metadata": {},
   "outputs": [
    {
     "data": {
      "text/plain": [
       "<sqlite3.Cursor at 0x1a333c2d110>"
      ]
     },
     "execution_count": 36,
     "metadata": {},
     "output_type": "execute_result"
    }
   ],
   "source": [
    "cur.execute(\"insert into abhishek values(1,'Naresh','Rani Rajasthan')\")"
   ]
  },
  {
   "cell_type": "code",
   "execution_count": 37,
   "id": "d35a242e",
   "metadata": {},
   "outputs": [
    {
     "data": {
      "text/plain": [
       "<sqlite3.Cursor at 0x1a333c2d110>"
      ]
     },
     "execution_count": 37,
     "metadata": {},
     "output_type": "execute_result"
    }
   ],
   "source": [
    "cur.execute(\"Select * from abhishek\")"
   ]
  },
  {
   "cell_type": "code",
   "execution_count": 38,
   "id": "1dff2de1",
   "metadata": {},
   "outputs": [
    {
     "data": {
      "text/plain": [
       "[(1, 'Naresh', 'Rani Rajasthan')]"
      ]
     },
     "execution_count": 38,
     "metadata": {},
     "output_type": "execute_result"
    }
   ],
   "source": [
    "cur.fetchall()"
   ]
  },
  {
   "cell_type": "code",
   "execution_count": 40,
   "id": "4a19915f",
   "metadata": {},
   "outputs": [
    {
     "data": {
      "text/plain": [
       "<sqlite3.Cursor at 0x1a333c2d110>"
      ]
     },
     "execution_count": 40,
     "metadata": {},
     "output_type": "execute_result"
    }
   ],
   "source": [
    "cur.execute(\"update abhishek set name='Naresh Sisodiya' where id=1\")"
   ]
  },
  {
   "cell_type": "code",
   "execution_count": 23,
   "id": "78622e3c",
   "metadata": {},
   "outputs": [
    {
     "data": {
      "text/plain": [
       "<sqlite3.Cursor at 0x2d9e94c4180>"
      ]
     },
     "execution_count": 23,
     "metadata": {},
     "output_type": "execute_result"
    }
   ],
   "source": [
    "cur.execute(\" select * from abhishek\")"
   ]
  },
  {
   "cell_type": "code",
   "execution_count": 22,
   "id": "ed5e48f4",
   "metadata": {},
   "outputs": [
    {
     "data": {
      "text/plain": [
       "[(1, 'Naresh', 'Rani Station'),\n",
       " (2, 'Rahul', 'Ahmedabad'),\n",
       " (1, 'Naresh', 'Rani Station')]"
      ]
     },
     "execution_count": 22,
     "metadata": {},
     "output_type": "execute_result"
    }
   ],
   "source": [
    "cur.fetchall()"
   ]
  },
  {
   "cell_type": "code",
   "execution_count": 25,
   "id": "150bf233",
   "metadata": {},
   "outputs": [
    {
     "data": {
      "text/plain": [
       "<sqlite3.Cursor at 0x2d9e94c4180>"
      ]
     },
     "execution_count": 25,
     "metadata": {},
     "output_type": "execute_result"
    }
   ],
   "source": [
    "cur.execute(\"insert into abhishek2 values(2,'Kailash','Vingarla')\")"
   ]
  },
  {
   "cell_type": "code",
   "execution_count": 26,
   "id": "dd792f5d",
   "metadata": {},
   "outputs": [
    {
     "data": {
      "text/plain": [
       "<sqlite3.Cursor at 0x2d9e94c4180>"
      ]
     },
     "execution_count": 26,
     "metadata": {},
     "output_type": "execute_result"
    }
   ],
   "source": [
    "cur.execute(\"Select * from abhishek\")"
   ]
  },
  {
   "cell_type": "code",
   "execution_count": 27,
   "id": "6d1eb825",
   "metadata": {},
   "outputs": [
    {
     "data": {
      "text/plain": [
       "[(1, 'Naresh', 'Rani Station'),\n",
       " (2, 'Rahul', 'Ahmedabad'),\n",
       " (1, 'Naresh', 'Rani Station')]"
      ]
     },
     "execution_count": 27,
     "metadata": {},
     "output_type": "execute_result"
    }
   ],
   "source": [
    "cur.fetchall()"
   ]
  },
  {
   "cell_type": "code",
   "execution_count": 32,
   "id": "9aabfb0a",
   "metadata": {},
   "outputs": [
    {
     "data": {
      "text/plain": [
       "[1, 2, 3, 4, 5, 6, 7, 8, 9, 10]"
      ]
     },
     "execution_count": 32,
     "metadata": {},
     "output_type": "execute_result"
    }
   ],
   "source": [
    "[ * range (1,11)]"
   ]
  },
  {
   "cell_type": "code",
   "execution_count": null,
   "id": "86ddd357",
   "metadata": {},
   "outputs": [],
   "source": []
  },
  {
   "cell_type": "code",
   "execution_count": 33,
   "id": "7138bc56",
   "metadata": {},
   "outputs": [],
   "source": [
    "cr=open('newfile.txt','w')"
   ]
  },
  {
   "cell_type": "code",
   "execution_count": 35,
   "id": "cdc2ebe3",
   "metadata": {},
   "outputs": [
    {
     "data": {
      "text/plain": [
       "False"
      ]
     },
     "execution_count": 35,
     "metadata": {},
     "output_type": "execute_result"
    }
   ],
   "source": [
    "cr.readable()"
   ]
  },
  {
   "cell_type": "code",
   "execution_count": 36,
   "id": "4a6c02ce",
   "metadata": {},
   "outputs": [
    {
     "data": {
      "text/plain": [
       "True"
      ]
     },
     "execution_count": 36,
     "metadata": {},
     "output_type": "execute_result"
    }
   ],
   "source": [
    "cr.writable()"
   ]
  },
  {
   "cell_type": "code",
   "execution_count": 37,
   "id": "de551400",
   "metadata": {},
   "outputs": [
    {
     "data": {
      "text/plain": [
       "15"
      ]
     },
     "execution_count": 37,
     "metadata": {},
     "output_type": "execute_result"
    }
   ],
   "source": [
    "cr.write('New data added ')"
   ]
  },
  {
   "cell_type": "code",
   "execution_count": 38,
   "id": "43423214",
   "metadata": {},
   "outputs": [],
   "source": [
    "cr.close()"
   ]
  },
  {
   "cell_type": "code",
   "execution_count": 42,
   "id": "b234a402",
   "metadata": {},
   "outputs": [],
   "source": [
    "cr=open('newfile.txt','r+')"
   ]
  },
  {
   "cell_type": "code",
   "execution_count": 43,
   "id": "c6b8261d",
   "metadata": {},
   "outputs": [
    {
     "data": {
      "text/plain": [
       "'New data added '"
      ]
     },
     "execution_count": 43,
     "metadata": {},
     "output_type": "execute_result"
    }
   ],
   "source": [
    "cr.read()"
   ]
  },
  {
   "cell_type": "code",
   "execution_count": 44,
   "id": "3934d263",
   "metadata": {},
   "outputs": [
    {
     "data": {
      "text/plain": [
       "16"
      ]
     },
     "execution_count": 44,
     "metadata": {},
     "output_type": "execute_result"
    }
   ],
   "source": [
    "cr.write('\\n New line added')"
   ]
  },
  {
   "cell_type": "code",
   "execution_count": 45,
   "id": "d2bc1ada",
   "metadata": {},
   "outputs": [
    {
     "data": {
      "text/plain": [
       "''"
      ]
     },
     "execution_count": 45,
     "metadata": {},
     "output_type": "execute_result"
    }
   ],
   "source": [
    "cr.read()"
   ]
  },
  {
   "cell_type": "code",
   "execution_count": 46,
   "id": "8aa0b21f",
   "metadata": {},
   "outputs": [
    {
     "data": {
      "text/plain": [
       "0"
      ]
     },
     "execution_count": 46,
     "metadata": {},
     "output_type": "execute_result"
    }
   ],
   "source": [
    "cr.seek(0)"
   ]
  },
  {
   "cell_type": "code",
   "execution_count": 47,
   "id": "6bbed8d4",
   "metadata": {},
   "outputs": [
    {
     "data": {
      "text/plain": [
       "'New data added \\n New line added'"
      ]
     },
     "execution_count": 47,
     "metadata": {},
     "output_type": "execute_result"
    }
   ],
   "source": [
    "cr.read()"
   ]
  },
  {
   "cell_type": "code",
   "execution_count": 48,
   "id": "849bd702",
   "metadata": {},
   "outputs": [
    {
     "data": {
      "text/plain": [
       "0"
      ]
     },
     "execution_count": 48,
     "metadata": {},
     "output_type": "execute_result"
    }
   ],
   "source": [
    "cr.seek(0)"
   ]
  },
  {
   "cell_type": "code",
   "execution_count": 49,
   "id": "1ff62fb5",
   "metadata": {},
   "outputs": [
    {
     "data": {
      "text/plain": [
       "'New data added \\n'"
      ]
     },
     "execution_count": 49,
     "metadata": {},
     "output_type": "execute_result"
    }
   ],
   "source": [
    "cr.readline()"
   ]
  },
  {
   "cell_type": "code",
   "execution_count": 50,
   "id": "2b2b993e",
   "metadata": {},
   "outputs": [
    {
     "data": {
      "text/plain": [
       "' New line added'"
      ]
     },
     "execution_count": 50,
     "metadata": {},
     "output_type": "execute_result"
    }
   ],
   "source": [
    "cr.readline()"
   ]
  },
  {
   "cell_type": "code",
   "execution_count": 51,
   "id": "9fff0251",
   "metadata": {},
   "outputs": [],
   "source": [
    "class Naresh():\n",
    "    def ramesh():\n",
    "        return 'Naresh is Good Boy'"
   ]
  },
  {
   "cell_type": "code",
   "execution_count": 52,
   "id": "7d9f3e91",
   "metadata": {},
   "outputs": [],
   "source": [
    "class Rahul(Naresh):\n",
    "    def karan():\n",
    "        return 'karan is good boy'"
   ]
  },
  {
   "cell_type": "code",
   "execution_count": 56,
   "id": "2817f0c1",
   "metadata": {},
   "outputs": [],
   "source": [
    "db=Rahul"
   ]
  },
  {
   "cell_type": "code",
   "execution_count": 57,
   "id": "ae91eb9a",
   "metadata": {},
   "outputs": [
    {
     "data": {
      "text/plain": [
       "<function __main__.Rahul.karan()>"
      ]
     },
     "execution_count": 57,
     "metadata": {},
     "output_type": "execute_result"
    }
   ],
   "source": [
    "db.karan"
   ]
  },
  {
   "cell_type": "code",
   "execution_count": 61,
   "id": "7337fc26",
   "metadata": {},
   "outputs": [
    {
     "name": "stdout",
     "output_type": "stream",
     "text": [
      "<function Naresh.ramesh at 0x000002D9E94F24C0>\n"
     ]
    }
   ],
   "source": [
    "print(db.ramesh)"
   ]
  },
  {
   "cell_type": "code",
   "execution_count": 62,
   "id": "cc5a8f17",
   "metadata": {},
   "outputs": [
    {
     "data": {
      "text/plain": [
       "<function __main__.Naresh.ramesh()>"
      ]
     },
     "execution_count": 62,
     "metadata": {},
     "output_type": "execute_result"
    }
   ],
   "source": [
    "db.ramesh"
   ]
  },
  {
   "cell_type": "code",
   "execution_count": 63,
   "id": "4ef194be",
   "metadata": {},
   "outputs": [
    {
     "data": {
      "text/plain": [
       "'karan is good boy'"
      ]
     },
     "execution_count": 63,
     "metadata": {},
     "output_type": "execute_result"
    }
   ],
   "source": [
    "db.karan()"
   ]
  },
  {
   "cell_type": "code",
   "execution_count": 64,
   "id": "1f8dcd98",
   "metadata": {},
   "outputs": [
    {
     "data": {
      "text/plain": [
       "'Naresh is Good Boy'"
      ]
     },
     "execution_count": 64,
     "metadata": {},
     "output_type": "execute_result"
    }
   ],
   "source": [
    "db.ramesh()"
   ]
  },
  {
   "cell_type": "code",
   "execution_count": 65,
   "id": "de4a3700",
   "metadata": {},
   "outputs": [],
   "source": [
    "cr=Naresh"
   ]
  },
  {
   "cell_type": "code",
   "execution_count": 66,
   "id": "0bdbf6f2",
   "metadata": {},
   "outputs": [
    {
     "data": {
      "text/plain": [
       "'Naresh is Good Boy'"
      ]
     },
     "execution_count": 66,
     "metadata": {},
     "output_type": "execute_result"
    }
   ],
   "source": [
    "cr.ramesh()"
   ]
  },
  {
   "cell_type": "code",
   "execution_count": 68,
   "id": "dfc33b22",
   "metadata": {},
   "outputs": [
    {
     "ename": "AttributeError",
     "evalue": "type object 'Naresh' has no attribute 'karan'",
     "output_type": "error",
     "traceback": [
      "\u001b[1;31m---------------------------------------------------------------------------\u001b[0m",
      "\u001b[1;31mAttributeError\u001b[0m                            Traceback (most recent call last)",
      "Input \u001b[1;32mIn [68]\u001b[0m, in \u001b[0;36m<cell line: 1>\u001b[1;34m()\u001b[0m\n\u001b[1;32m----> 1\u001b[0m \u001b[43mcr\u001b[49m\u001b[38;5;241;43m.\u001b[39;49m\u001b[43mkaran\u001b[49m()\n",
      "\u001b[1;31mAttributeError\u001b[0m: type object 'Naresh' has no attribute 'karan'"
     ]
    }
   ],
   "source": [
    "cr.karan()"
   ]
  },
  {
   "cell_type": "code",
   "execution_count": 74,
   "id": "f4b7fb64",
   "metadata": {},
   "outputs": [],
   "source": [
    "class Add():\n",
    "    def __init__ (self,a,b):\n",
    "        return (a+b)\n",
    "    "
   ]
  },
  {
   "cell_type": "code",
   "execution_count": 75,
   "id": "884838d1",
   "metadata": {},
   "outputs": [],
   "source": [
    "r=Add"
   ]
  },
  {
   "cell_type": "code",
   "execution_count": 76,
   "id": "bd145c31",
   "metadata": {},
   "outputs": [
    {
     "data": {
      "text/plain": [
       "__main__.Add"
      ]
     },
     "execution_count": 76,
     "metadata": {},
     "output_type": "execute_result"
    }
   ],
   "source": [
    "r"
   ]
  },
  {
   "cell_type": "code",
   "execution_count": 78,
   "id": "a7c6e28b",
   "metadata": {},
   "outputs": [
    {
     "ename": "TypeError",
     "evalue": "__init__() should return None, not 'str'",
     "output_type": "error",
     "traceback": [
      "\u001b[1;31m---------------------------------------------------------------------------\u001b[0m",
      "\u001b[1;31mTypeError\u001b[0m                                 Traceback (most recent call last)",
      "Input \u001b[1;32mIn [78]\u001b[0m, in \u001b[0;36m<cell line: 1>\u001b[1;34m()\u001b[0m\n\u001b[1;32m----> 1\u001b[0m \u001b[43mr\u001b[49m\u001b[43m(\u001b[49m\u001b[38;5;124;43m'\u001b[39;49m\u001b[38;5;124;43m5\u001b[39;49m\u001b[38;5;124;43m'\u001b[39;49m\u001b[43m,\u001b[49m\u001b[38;5;124;43m'\u001b[39;49m\u001b[38;5;124;43m8\u001b[39;49m\u001b[38;5;124;43m'\u001b[39;49m\u001b[43m)\u001b[49m\n",
      "\u001b[1;31mTypeError\u001b[0m: __init__() should return None, not 'str'"
     ]
    }
   ],
   "source": [
    "r('5','8')"
   ]
  },
  {
   "cell_type": "code",
   "execution_count": null,
   "id": "8167c577",
   "metadata": {},
   "outputs": [],
   "source": []
  }
 ],
 "metadata": {
  "kernelspec": {
   "display_name": "Python 3 (ipykernel)",
   "language": "python",
   "name": "python3"
  },
  "language_info": {
   "codemirror_mode": {
    "name": "ipython",
    "version": 3
   },
   "file_extension": ".py",
   "mimetype": "text/x-python",
   "name": "python",
   "nbconvert_exporter": "python",
   "pygments_lexer": "ipython3",
   "version": "3.9.12"
  }
 },
 "nbformat": 4,
 "nbformat_minor": 5
}
