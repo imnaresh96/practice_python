{
 "cells": [
  {
   "cell_type": "code",
   "execution_count": 1,
   "id": "a87e6c02",
   "metadata": {},
   "outputs": [],
   "source": [
    "a='kdkfd'"
   ]
  },
  {
   "cell_type": "code",
   "execution_count": 2,
   "id": "ba9e6eb1",
   "metadata": {},
   "outputs": [
    {
     "data": {
      "text/plain": [
       "str"
      ]
     },
     "execution_count": 2,
     "metadata": {},
     "output_type": "execute_result"
    }
   ],
   "source": [
    "type(a)"
   ]
  },
  {
   "cell_type": "code",
   "execution_count": 3,
   "id": "a81091c4",
   "metadata": {},
   "outputs": [],
   "source": [
    "a=\"njn\""
   ]
  },
  {
   "cell_type": "code",
   "execution_count": 4,
   "id": "2a58ac99",
   "metadata": {},
   "outputs": [
    {
     "data": {
      "text/plain": [
       "str"
      ]
     },
     "execution_count": 4,
     "metadata": {},
     "output_type": "execute_result"
    }
   ],
   "source": [
    "type(a)"
   ]
  },
  {
   "cell_type": "code",
   "execution_count": 5,
   "id": "3680a967",
   "metadata": {},
   "outputs": [],
   "source": [
    "a='''gbh'''"
   ]
  },
  {
   "cell_type": "code",
   "execution_count": 6,
   "id": "4589bc80",
   "metadata": {},
   "outputs": [
    {
     "data": {
      "text/plain": [
       "str"
      ]
     },
     "execution_count": 6,
     "metadata": {},
     "output_type": "execute_result"
    }
   ],
   "source": [
    "type(a)"
   ]
  },
  {
   "cell_type": "code",
   "execution_count": 8,
   "id": "5ca3e317",
   "metadata": {},
   "outputs": [
    {
     "name": "stdout",
     "output_type": "stream",
     "text": [
      "['__add__', '__class__', '__contains__', '__delattr__', '__dir__', '__doc__', '__eq__', '__format__', '__ge__', '__getattribute__', '__getitem__', '__getnewargs__', '__gt__', '__hash__', '__init__', '__init_subclass__', '__iter__', '__le__', '__len__', '__lt__', '__mod__', '__mul__', '__ne__', '__new__', '__reduce__', '__reduce_ex__', '__repr__', '__rmod__', '__rmul__', '__setattr__', '__sizeof__', '__str__', '__subclasshook__', 'capitalize', 'casefold', 'center', 'count', 'encode', 'endswith', 'expandtabs', 'find', 'format', 'format_map', 'index', 'isalnum', 'isalpha', 'isascii', 'isdecimal', 'isdigit', 'isidentifier', 'islower', 'isnumeric', 'isprintable', 'isspace', 'istitle', 'isupper', 'join', 'ljust', 'lower', 'lstrip', 'maketrans', 'partition', 'removeprefix', 'removesuffix', 'replace', 'rfind', 'rindex', 'rjust', 'rpartition', 'rsplit', 'rstrip', 'split', 'splitlines', 'startswith', 'strip', 'swapcase', 'title', 'translate', 'upper', 'zfill']\n"
     ]
    }
   ],
   "source": [
    "print(dir(a))"
   ]
  },
  {
   "cell_type": "code",
   "execution_count": 71,
   "id": "2507f234",
   "metadata": {},
   "outputs": [],
   "source": [
    "a= 'Naresh Kumar'"
   ]
  },
  {
   "cell_type": "code",
   "execution_count": 10,
   "id": "bc56a564",
   "metadata": {},
   "outputs": [
    {
     "data": {
      "text/plain": [
       "'Naresh kumar'"
      ]
     },
     "execution_count": 10,
     "metadata": {},
     "output_type": "execute_result"
    }
   ],
   "source": [
    "a.capitalize()"
   ]
  },
  {
   "cell_type": "code",
   "execution_count": 13,
   "id": "1ea05d27",
   "metadata": {},
   "outputs": [
    {
     "data": {
      "text/plain": [
       "'naresh kumar'"
      ]
     },
     "execution_count": 13,
     "metadata": {},
     "output_type": "execute_result"
    }
   ],
   "source": [
    "a.casefold()"
   ]
  },
  {
   "cell_type": "code",
   "execution_count": 22,
   "id": "61df300f",
   "metadata": {},
   "outputs": [
    {
     "data": {
      "text/plain": [
       "'                   Naresh Kumar                   '"
      ]
     },
     "execution_count": 22,
     "metadata": {},
     "output_type": "execute_result"
    }
   ],
   "source": [
    "a.center(50)\n"
   ]
  },
  {
   "cell_type": "code",
   "execution_count": 23,
   "id": "84087518",
   "metadata": {},
   "outputs": [
    {
     "data": {
      "text/plain": [
       "2"
      ]
     },
     "execution_count": 23,
     "metadata": {},
     "output_type": "execute_result"
    }
   ],
   "source": [
    "a.count('a')"
   ]
  },
  {
   "cell_type": "code",
   "execution_count": 24,
   "id": "9b758031",
   "metadata": {},
   "outputs": [
    {
     "data": {
      "text/plain": [
       "13"
      ]
     },
     "execution_count": 24,
     "metadata": {},
     "output_type": "execute_result"
    }
   ],
   "source": [
    "a.count('')"
   ]
  },
  {
   "cell_type": "code",
   "execution_count": 25,
   "id": "3f0b24a6",
   "metadata": {},
   "outputs": [
    {
     "data": {
      "text/plain": [
       "0"
      ]
     },
     "execution_count": 25,
     "metadata": {},
     "output_type": "execute_result"
    }
   ],
   "source": [
    "a.count('z')"
   ]
  },
  {
   "cell_type": "code",
   "execution_count": 27,
   "id": "9e41f042",
   "metadata": {},
   "outputs": [
    {
     "data": {
      "text/plain": [
       "True"
      ]
     },
     "execution_count": 27,
     "metadata": {},
     "output_type": "execute_result"
    }
   ],
   "source": [
    "a.endswith('r')"
   ]
  },
  {
   "cell_type": "code",
   "execution_count": 29,
   "id": "05dfa439",
   "metadata": {},
   "outputs": [
    {
     "data": {
      "text/plain": [
       "True"
      ]
     },
     "execution_count": 29,
     "metadata": {},
     "output_type": "execute_result"
    }
   ],
   "source": [
    "a.startswith('N')"
   ]
  },
  {
   "cell_type": "code",
   "execution_count": 30,
   "id": "8457c5e1",
   "metadata": {},
   "outputs": [
    {
     "data": {
      "text/plain": [
       "'Naresh Kumar'"
      ]
     },
     "execution_count": 30,
     "metadata": {},
     "output_type": "execute_result"
    }
   ],
   "source": [
    "a.expandtabs()"
   ]
  },
  {
   "cell_type": "code",
   "execution_count": 31,
   "id": "13367b85",
   "metadata": {},
   "outputs": [
    {
     "data": {
      "text/plain": [
       "-1"
      ]
     },
     "execution_count": 31,
     "metadata": {},
     "output_type": "execute_result"
    }
   ],
   "source": [
    "a.find('k')"
   ]
  },
  {
   "cell_type": "code",
   "execution_count": 32,
   "id": "243e27a3",
   "metadata": {},
   "outputs": [
    {
     "data": {
      "text/plain": [
       "1"
      ]
     },
     "execution_count": 32,
     "metadata": {},
     "output_type": "execute_result"
    }
   ],
   "source": [
    "a.find('a')"
   ]
  },
  {
   "cell_type": "code",
   "execution_count": 34,
   "id": "fefddcab",
   "metadata": {},
   "outputs": [
    {
     "data": {
      "text/plain": [
       "'Naresh Kumar'"
      ]
     },
     "execution_count": 34,
     "metadata": {},
     "output_type": "execute_result"
    }
   ],
   "source": [
    "a.format('k','kl')"
   ]
  },
  {
   "cell_type": "code",
   "execution_count": 35,
   "id": "cc969026",
   "metadata": {},
   "outputs": [
    {
     "data": {
      "text/plain": [
       "'NARESH KUMAR'"
      ]
     },
     "execution_count": 35,
     "metadata": {},
     "output_type": "execute_result"
    }
   ],
   "source": [
    "a.upper()"
   ]
  },
  {
   "cell_type": "code",
   "execution_count": 36,
   "id": "5d32cab0",
   "metadata": {},
   "outputs": [
    {
     "data": {
      "text/plain": [
       "'naresh kumar'"
      ]
     },
     "execution_count": 36,
     "metadata": {},
     "output_type": "execute_result"
    }
   ],
   "source": [
    "a.lower()"
   ]
  },
  {
   "cell_type": "code",
   "execution_count": 37,
   "id": "ead83e0e",
   "metadata": {},
   "outputs": [
    {
     "data": {
      "text/plain": [
       "False"
      ]
     },
     "execution_count": 37,
     "metadata": {},
     "output_type": "execute_result"
    }
   ],
   "source": [
    "a.isupper()"
   ]
  },
  {
   "cell_type": "code",
   "execution_count": 38,
   "id": "81990924",
   "metadata": {},
   "outputs": [
    {
     "data": {
      "text/plain": [
       "False"
      ]
     },
     "execution_count": 38,
     "metadata": {},
     "output_type": "execute_result"
    }
   ],
   "source": [
    "\n",
    "a.islower()"
   ]
  },
  {
   "cell_type": "code",
   "execution_count": 41,
   "id": "188a074e",
   "metadata": {},
   "outputs": [],
   "source": [
    "r=a.casefold()"
   ]
  },
  {
   "cell_type": "code",
   "execution_count": 42,
   "id": "a7d01fe3",
   "metadata": {},
   "outputs": [
    {
     "data": {
      "text/plain": [
       "True"
      ]
     },
     "execution_count": 42,
     "metadata": {},
     "output_type": "execute_result"
    }
   ],
   "source": [
    "r.islower()"
   ]
  },
  {
   "cell_type": "code",
   "execution_count": 44,
   "id": "aba8b4c1",
   "metadata": {},
   "outputs": [
    {
     "data": {
      "text/plain": [
       "'Naresh Sisodiya'"
      ]
     },
     "execution_count": 44,
     "metadata": {},
     "output_type": "execute_result"
    }
   ],
   "source": [
    "a.replace('Kumar','Sisodiya')"
   ]
  },
  {
   "cell_type": "code",
   "execution_count": 45,
   "id": "77febb00",
   "metadata": {},
   "outputs": [],
   "source": [
    "k= 'Hello {}'"
   ]
  },
  {
   "cell_type": "code",
   "execution_count": 46,
   "id": "8d263644",
   "metadata": {},
   "outputs": [
    {
     "data": {
      "text/plain": [
       "'Hello Naresh'"
      ]
     },
     "execution_count": 46,
     "metadata": {},
     "output_type": "execute_result"
    }
   ],
   "source": [
    "k.format('Naresh')"
   ]
  },
  {
   "cell_type": "code",
   "execution_count": 48,
   "id": "ed643cd2",
   "metadata": {},
   "outputs": [
    {
     "data": {
      "text/plain": [
       "'Hello Kailash'"
      ]
     },
     "execution_count": 48,
     "metadata": {},
     "output_type": "execute_result"
    }
   ],
   "source": [
    "k.format('Kailash')"
   ]
  },
  {
   "cell_type": "code",
   "execution_count": 49,
   "id": "b879d9f1",
   "metadata": {},
   "outputs": [
    {
     "data": {
      "text/plain": [
       "'Hello Naresh! You Are From Rani.'"
      ]
     },
     "execution_count": 49,
     "metadata": {},
     "output_type": "execute_result"
    }
   ],
   "source": [
    "'Hello {}! You Are From {}.'.format('Naresh','Rani')"
   ]
  },
  {
   "cell_type": "code",
   "execution_count": 50,
   "id": "69dfc9b6",
   "metadata": {},
   "outputs": [
    {
     "data": {
      "text/plain": [
       "'Hello Naresh! You Are From Rani.'"
      ]
     },
     "execution_count": 50,
     "metadata": {},
     "output_type": "execute_result"
    }
   ],
   "source": [
    "'Hello {1}! You Are From {0}.'.format('Rani','Naresh')"
   ]
  },
  {
   "cell_type": "code",
   "execution_count": 53,
   "id": "2d581a77",
   "metadata": {},
   "outputs": [
    {
     "data": {
      "text/plain": [
       "'Hello Naresh! You Are From Rani.'"
      ]
     },
     "execution_count": 53,
     "metadata": {},
     "output_type": "execute_result"
    }
   ],
   "source": [
    "'Hello {name}! You Are From {place}.'.format(name='Naresh',place='Rani')"
   ]
  },
  {
   "cell_type": "code",
   "execution_count": 54,
   "id": "e7fabe75",
   "metadata": {},
   "outputs": [
    {
     "name": "stdout",
     "output_type": "stream",
     "text": [
      "hello Naresh! You Are From Pali\n"
     ]
    }
   ],
   "source": [
    "name= 'Naresh'\n",
    "place='Pali'\n",
    "print(f'hello {name}! You Are From {place}')"
   ]
  },
  {
   "cell_type": "code",
   "execution_count": 55,
   "id": "e57c9cc0",
   "metadata": {},
   "outputs": [
    {
     "data": {
      "text/plain": [
       "2"
      ]
     },
     "execution_count": 55,
     "metadata": {},
     "output_type": "execute_result"
    }
   ],
   "source": [
    "a.count('a')"
   ]
  },
  {
   "cell_type": "code",
   "execution_count": 56,
   "id": "1d67d706",
   "metadata": {},
   "outputs": [
    {
     "data": {
      "text/plain": [
       "1"
      ]
     },
     "execution_count": 56,
     "metadata": {},
     "output_type": "execute_result"
    }
   ],
   "source": [
    "a.count('N')"
   ]
  },
  {
   "cell_type": "code",
   "execution_count": 57,
   "id": "194aa612",
   "metadata": {},
   "outputs": [
    {
     "data": {
      "text/plain": [
       "0"
      ]
     },
     "execution_count": 57,
     "metadata": {},
     "output_type": "execute_result"
    }
   ],
   "source": [
    "a.count('z')"
   ]
  },
  {
   "cell_type": "code",
   "execution_count": 58,
   "id": "564db789",
   "metadata": {},
   "outputs": [
    {
     "data": {
      "text/plain": [
       "0"
      ]
     },
     "execution_count": 58,
     "metadata": {},
     "output_type": "execute_result"
    }
   ],
   "source": [
    "a.find('N')"
   ]
  },
  {
   "cell_type": "code",
   "execution_count": 59,
   "id": "16e18711",
   "metadata": {},
   "outputs": [
    {
     "data": {
      "text/plain": [
       "2"
      ]
     },
     "execution_count": 59,
     "metadata": {},
     "output_type": "execute_result"
    }
   ],
   "source": [
    "a.find('r')"
   ]
  },
  {
   "cell_type": "code",
   "execution_count": 64,
   "id": "7e1e4274",
   "metadata": {},
   "outputs": [
    {
     "data": {
      "text/plain": [
       "-1"
      ]
     },
     "execution_count": 64,
     "metadata": {},
     "output_type": "execute_result"
    }
   ],
   "source": [
    "a.find('z')"
   ]
  },
  {
   "cell_type": "code",
   "execution_count": 61,
   "id": "f12d3f1c",
   "metadata": {},
   "outputs": [
    {
     "data": {
      "text/plain": [
       "10"
      ]
     },
     "execution_count": 61,
     "metadata": {},
     "output_type": "execute_result"
    }
   ],
   "source": [
    "a.rfind('a')"
   ]
  },
  {
   "cell_type": "code",
   "execution_count": 62,
   "id": "39d21f64",
   "metadata": {},
   "outputs": [
    {
     "data": {
      "text/plain": [
       "0"
      ]
     },
     "execution_count": 62,
     "metadata": {},
     "output_type": "execute_result"
    }
   ],
   "source": [
    "a.index('N')"
   ]
  },
  {
   "cell_type": "code",
   "execution_count": 63,
   "id": "109c6d3d",
   "metadata": {},
   "outputs": [
    {
     "ename": "ValueError",
     "evalue": "substring not found",
     "output_type": "error",
     "traceback": [
      "\u001b[1;31m---------------------------------------------------------------------------\u001b[0m",
      "\u001b[1;31mValueError\u001b[0m                                Traceback (most recent call last)",
      "Input \u001b[1;32mIn [63]\u001b[0m, in \u001b[0;36m<cell line: 1>\u001b[1;34m()\u001b[0m\n\u001b[1;32m----> 1\u001b[0m \u001b[43ma\u001b[49m\u001b[38;5;241;43m.\u001b[39;49m\u001b[43mindex\u001b[49m\u001b[43m(\u001b[49m\u001b[38;5;124;43m'\u001b[39;49m\u001b[38;5;124;43mz\u001b[39;49m\u001b[38;5;124;43m'\u001b[39;49m\u001b[43m)\u001b[49m\n",
      "\u001b[1;31mValueError\u001b[0m: substring not found"
     ]
    }
   ],
   "source": [
    "a.index('z')"
   ]
  },
  {
   "cell_type": "code",
   "execution_count": 66,
   "id": "20b4c6da",
   "metadata": {},
   "outputs": [
    {
     "data": {
      "text/plain": [
       "0"
      ]
     },
     "execution_count": 66,
     "metadata": {},
     "output_type": "execute_result"
    }
   ],
   "source": [
    "a.index('N')"
   ]
  },
  {
   "cell_type": "code",
   "execution_count": 70,
   "id": "c33a78be",
   "metadata": {},
   "outputs": [
    {
     "data": {
      "text/plain": [
       "'000Naresh Kumar'"
      ]
     },
     "execution_count": 70,
     "metadata": {},
     "output_type": "execute_result"
    }
   ],
   "source": [
    "a.zfill(15)"
   ]
  },
  {
   "cell_type": "code",
   "execution_count": 72,
   "id": "a21fb3ca",
   "metadata": {},
   "outputs": [],
   "source": [
    "a='         Naresh           Kumar           '"
   ]
  },
  {
   "cell_type": "code",
   "execution_count": 73,
   "id": "040fa223",
   "metadata": {},
   "outputs": [
    {
     "data": {
      "text/plain": [
       "'Naresh           Kumar'"
      ]
     },
     "execution_count": 73,
     "metadata": {},
     "output_type": "execute_result"
    }
   ],
   "source": [
    "a.strip()"
   ]
  },
  {
   "cell_type": "code",
   "execution_count": 74,
   "id": "ab989652",
   "metadata": {},
   "outputs": [
    {
     "data": {
      "text/plain": [
       "'         Naresh           Kumar'"
      ]
     },
     "execution_count": 74,
     "metadata": {},
     "output_type": "execute_result"
    }
   ],
   "source": [
    "a.rstrip()"
   ]
  },
  {
   "cell_type": "code",
   "execution_count": 75,
   "id": "b735fd32",
   "metadata": {},
   "outputs": [
    {
     "data": {
      "text/plain": [
       "'Naresh           Kumar           '"
      ]
     },
     "execution_count": 75,
     "metadata": {},
     "output_type": "execute_result"
    }
   ],
   "source": [
    "a.lstrip()"
   ]
  },
  {
   "cell_type": "code",
   "execution_count": 78,
   "id": "48480eb8",
   "metadata": {},
   "outputs": [],
   "source": [
    "k=a.split()"
   ]
  },
  {
   "cell_type": "code",
   "execution_count": 82,
   "id": "ee80bb44",
   "metadata": {},
   "outputs": [
    {
     "data": {
      "text/plain": [
       "'Naresh Kumar'"
      ]
     },
     "execution_count": 82,
     "metadata": {},
     "output_type": "execute_result"
    }
   ],
   "source": [
    "' '.join(k)"
   ]
  },
  {
   "cell_type": "code",
   "execution_count": 83,
   "id": "519e2800",
   "metadata": {},
   "outputs": [
    {
     "data": {
      "text/plain": [
       "'         Naresh           Kumar           '"
      ]
     },
     "execution_count": 83,
     "metadata": {},
     "output_type": "execute_result"
    }
   ],
   "source": [
    "a.title()"
   ]
  },
  {
   "cell_type": "code",
   "execution_count": 84,
   "id": "1364534c",
   "metadata": {},
   "outputs": [],
   "source": [
    "k='naresh kumar sisodiya'"
   ]
  },
  {
   "cell_type": "code",
   "execution_count": 86,
   "id": "ec0c0d51",
   "metadata": {},
   "outputs": [
    {
     "data": {
      "text/plain": [
       "'Naresh Kumar Sisodiya'"
      ]
     },
     "execution_count": 86,
     "metadata": {},
     "output_type": "execute_result"
    }
   ],
   "source": [
    "k.title()"
   ]
  },
  {
   "cell_type": "code",
   "execution_count": null,
   "id": "82843e38",
   "metadata": {},
   "outputs": [],
   "source": []
  }
 ],
 "metadata": {
  "kernelspec": {
   "display_name": "Python 3 (ipykernel)",
   "language": "python",
   "name": "python3"
  },
  "language_info": {
   "codemirror_mode": {
    "name": "ipython",
    "version": 3
   },
   "file_extension": ".py",
   "mimetype": "text/x-python",
   "name": "python",
   "nbconvert_exporter": "python",
   "pygments_lexer": "ipython3",
   "version": "3.9.12"
  }
 },
 "nbformat": 4,
 "nbformat_minor": 5
}
