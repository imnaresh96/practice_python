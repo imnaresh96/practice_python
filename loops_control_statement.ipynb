{
 "cells": [
  {
   "cell_type": "code",
   "execution_count": 2,
   "id": "cfb05941",
   "metadata": {},
   "outputs": [
    {
     "name": "stdout",
     "output_type": "stream",
     "text": [
      "Enter the height: 4\n",
      "enter the base1: 2.8\n",
      "enter the base2: 6.1\n",
      "area is 17.799999999999997\n"
     ]
    }
   ],
   "source": [
    "\n",
    "height=float(input('Enter the height: '))\n",
    "base1=float(input('enter the base1: '))\n",
    "base2=float(input('enter the base2: '))\n",
    "area=(((base1+base2)/2)*height)\n",
    "print(f'area is {area}')"
   ]
  },
  {
   "cell_type": "code",
   "execution_count": 3,
   "id": "88eb9304",
   "metadata": {},
   "outputs": [
    {
     "name": "stdout",
     "output_type": "stream",
     "text": [
      "1\n",
      "2\n",
      "3\n",
      "4\n",
      "5\n",
      "6\n",
      "7\n",
      "8\n",
      "9\n",
      "10\n"
     ]
    }
   ],
   "source": [
    "for i in range(1,11):\n",
    "    print(i)"
   ]
  },
  {
   "cell_type": "code",
   "execution_count": 7,
   "id": "bfee317a",
   "metadata": {},
   "outputs": [
    {
     "name": "stdout",
     "output_type": "stream",
     "text": [
      "Enter your name: naresh\n",
      "Enter your subject: html\n",
      "enter day: monday\n",
      "try with another subject\n"
     ]
    }
   ],
   "source": [
    "#class time table for python\n",
    "name=input('Enter your name: ')\n",
    "subject=input('Enter your subject: ')\n",
    "day=input('enter day: ')\n",
    "if subject=='python':\n",
    "    if day=='monday' or day =='wednesday' or day=='friday':\n",
    "        print(f'hello Mr. {name} ! your lession time is 11:30 AM & your faculty is Mr Kapil Jangid')\n",
    "    elif day=='sunday':\n",
    "        print('today is holiday')\n",
    "    else:\n",
    "        print('today is practical day')\n",
    "else:\n",
    "    print('try with another subject')"
   ]
  },
  {
   "cell_type": "code",
   "execution_count": 12,
   "id": "551726c4",
   "metadata": {},
   "outputs": [
    {
     "name": "stdout",
     "output_type": "stream",
     "text": [
      "         * \n",
      "        * * \n",
      "       * * * \n",
      "      * * * * \n",
      "     * * * * * \n",
      "    * * * * * * \n",
      "   * * * * * * * \n",
      "  * * * * * * * * \n",
      " * * * * * * * * * \n"
     ]
    }
   ],
   "source": [
    "for i in range(1,10):\n",
    "    print(' '*(10-i)+'* '*i)"
   ]
  },
  {
   "cell_type": "code",
   "execution_count": 18,
   "id": "22504285",
   "metadata": {},
   "outputs": [
    {
     "name": "stdout",
     "output_type": "stream",
     "text": [
      "perfect number\n"
     ]
    }
   ],
   "source": [
    "s=6\n",
    "sum=0\n",
    "for i in range(1,s):\n",
    "    if s % i==0:\n",
    "        sum +=i\n",
    "else:\n",
    "    if sum==s:\n",
    "        print('perfect number')\n",
    "    else:\n",
    "        print(f'{s} is not a perfect number')"
   ]
  },
  {
   "cell_type": "code",
   "execution_count": 20,
   "id": "1568bf70",
   "metadata": {},
   "outputs": [
    {
     "name": "stdout",
     "output_type": "stream",
     "text": [
      "362880\n"
     ]
    }
   ],
   "source": [
    "s=10\n",
    "factorial=1\n",
    "for i in range(1,s):\n",
    "    factorial=factorial*i\n",
    "else:\n",
    "    print(factorial)"
   ]
  },
  {
   "cell_type": "code",
   "execution_count": 31,
   "id": "5c68aba8",
   "metadata": {},
   "outputs": [
    {
     "name": "stdout",
     "output_type": "stream",
     "text": [
      "1\n",
      "2\n"
     ]
    }
   ],
   "source": [
    "a=2\n",
    "b=0\n",
    "c=1\n",
    "for i in range(a):\n",
    "    sum=b+c\n",
    "    b=c\n",
    "    c=sum\n",
    "    print(sum)\n",
    "    \n"
   ]
  },
  {
   "cell_type": "code",
   "execution_count": 45,
   "id": "ffe3bad9",
   "metadata": {},
   "outputs": [
    {
     "name": "stdout",
     "output_type": "stream",
     "text": [
      "\n",
      "\n",
      "\n",
      "\n",
      "\n",
      "\n",
      "\n",
      "\n",
      "\n",
      "\n"
     ]
    }
   ],
   "source": [
    "a=10\n",
    "odd=0\n",
    "even=0\n",
    "for i in range(a):\n",
    "    if a % 2 == 0:\n",
    "        print()"
   ]
  },
  {
   "cell_type": "code",
   "execution_count": 52,
   "id": "757b3e65",
   "metadata": {},
   "outputs": [
    {
     "name": "stdout",
     "output_type": "stream",
     "text": [
      "0\n",
      "2\n",
      "4\n",
      "6\n",
      "8\n",
      "10\n",
      "12\n",
      "14\n",
      "16\n",
      "18\n"
     ]
    }
   ],
   "source": [
    "a=19\n",
    "for i in range(a):\n",
    "    if i%2==0:\n",
    "        print(i)"
   ]
  },
  {
   "cell_type": "code",
   "execution_count": 55,
   "id": "1eaccfef",
   "metadata": {},
   "outputs": [
    {
     "name": "stdout",
     "output_type": "stream",
     "text": [
      "[5, 4, 9, 8, 6, -8]\n"
     ]
    }
   ],
   "source": [
    "#find unique values\n",
    "\n",
    "k=[5,4,9,8,6,5,8,8,4,5,-8]\n",
    "s=[]\n",
    "for i in k:\n",
    "    if i not in s:\n",
    "        s.append(i)\n",
    "print(s)"
   ]
  },
  {
   "cell_type": "code",
   "execution_count": 76,
   "id": "3bd1692c",
   "metadata": {},
   "outputs": [
    {
     "name": "stdout",
     "output_type": "stream",
     "text": [
      "[]\n"
     ]
    }
   ],
   "source": [
    "\n",
    "k=[5,7,5,2,1,5,6,2,2,1,5,6,7,3]\n",
    "r=[]\n",
    "s=[]\n",
    "for i in k:\n",
    "    if i not in r:\n",
    "        r.append(i)\n",
    "for i in k:\n",
    "    if r.count(i) > 1:\n",
    "        s.append(i)\n",
    "print(s)\n",
    "        \n"
   ]
  },
  {
   "cell_type": "code",
   "execution_count": null,
   "id": "47441e5f",
   "metadata": {},
   "outputs": [],
   "source": []
  }
 ],
 "metadata": {
  "kernelspec": {
   "display_name": "Python 3 (ipykernel)",
   "language": "python",
   "name": "python3"
  },
  "language_info": {
   "codemirror_mode": {
    "name": "ipython",
    "version": 3
   },
   "file_extension": ".py",
   "mimetype": "text/x-python",
   "name": "python",
   "nbconvert_exporter": "python",
   "pygments_lexer": "ipython3",
   "version": "3.9.12"
  }
 },
 "nbformat": 4,
 "nbformat_minor": 5
}
