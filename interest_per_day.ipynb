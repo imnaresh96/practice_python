{
 "cells": [
  {
   "cell_type": "code",
   "execution_count": 4,
   "id": "f158b742",
   "metadata": {},
   "outputs": [
    {
     "name": "stdout",
     "output_type": "stream",
     "text": [
      "Enter Your Amount: 73000\n",
      "92712.61343947057\n"
     ]
    }
   ],
   "source": [
    "amount=int(input('Enter Your Amount: '))\n",
    "for i in range(30):\n",
    "    amount = amount+((amount*0.8)/100)\n",
    "else:\n",
    "    print(amount)"
   ]
  },
  {
   "cell_type": "code",
   "execution_count": 6,
   "id": "f08b7b62",
   "metadata": {},
   "outputs": [
    {
     "name": "stdout",
     "output_type": "stream",
     "text": [
      "Enter Your Amount: 100000\n",
      "total amount: 127003.58005406924\n",
      "total profit: 27003.580054069243\n"
     ]
    }
   ],
   "source": [
    "amount=int(input('Enter Your Amount: '))\n",
    "invest=amount\n",
    "for i in range(30):\n",
    "    invest = invest+((invest*0.8)/100)\n",
    "else:\n",
    "  profit=(invest-amount)\n",
    "  print(f'total amount: {invest}')\n",
    "  print(f'total profit: {profit}')"
   ]
  },
  {
   "cell_type": "code",
   "execution_count": null,
   "id": "9583ab7d",
   "metadata": {},
   "outputs": [],
   "source": []
  }
 ],
 "metadata": {
  "kernelspec": {
   "display_name": "Python 3 (ipykernel)",
   "language": "python",
   "name": "python3"
  },
  "language_info": {
   "codemirror_mode": {
    "name": "ipython",
    "version": 3
   },
   "file_extension": ".py",
   "mimetype": "text/x-python",
   "name": "python",
   "nbconvert_exporter": "python",
   "pygments_lexer": "ipython3",
   "version": "3.9.12"
  }
 },
 "nbformat": 4,
 "nbformat_minor": 5
}
