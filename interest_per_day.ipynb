{
 "cells": [
  {
   "cell_type": "code",
   "execution_count": 2,
   "id": "f158b742",
   "metadata": {},
   "outputs": [
    {
     "name": "stdout",
     "output_type": "stream",
     "text": [
      "Enter Your Amount: 83000\n",
      "105412.97144487752\n"
     ]
    }
   ],
   "source": [
    "amount=int(input('Enter Your Amount: '))\n",
    "for i in range(30):\n",
    "    amount = amount+((amount*0.8)/100)\n",
    "else:\n",
    "    print(amount)"
   ]
  },
  {
   "cell_type": "code",
   "execution_count": null,
   "id": "f08b7b62",
   "metadata": {},
   "outputs": [],
   "source": []
  }
 ],
 "metadata": {
  "kernelspec": {
   "display_name": "Python 3 (ipykernel)",
   "language": "python",
   "name": "python3"
  },
  "language_info": {
   "codemirror_mode": {
    "name": "ipython",
    "version": 3
   },
   "file_extension": ".py",
   "mimetype": "text/x-python",
   "name": "python",
   "nbconvert_exporter": "python",
   "pygments_lexer": "ipython3",
   "version": "3.9.12"
  }
 },
 "nbformat": 4,
 "nbformat_minor": 5
}
