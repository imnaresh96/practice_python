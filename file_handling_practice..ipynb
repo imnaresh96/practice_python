{
 "cells": [
  {
   "cell_type": "markdown",
   "id": "3f678968",
   "metadata": {},
   "source": [
    "# text_file"
   ]
  },
  {
   "cell_type": "code",
   "execution_count": 1,
   "id": "2fb20a81",
   "metadata": {},
   "outputs": [],
   "source": [
    "file_obj=open('demo_file_for','w')"
   ]
  },
  {
   "cell_type": "code",
   "execution_count": 2,
   "id": "0dd84b4e",
   "metadata": {},
   "outputs": [
    {
     "data": {
      "text/plain": [
       "23"
      ]
     },
     "execution_count": 2,
     "metadata": {},
     "output_type": "execute_result"
    }
   ],
   "source": [
    "file_obj.write('hello this is demo file')"
   ]
  },
  {
   "cell_type": "code",
   "execution_count": 3,
   "id": "c0b93ed0",
   "metadata": {},
   "outputs": [],
   "source": [
    "file_obj.close()"
   ]
  },
  {
   "cell_type": "code",
   "execution_count": 4,
   "id": "72fdda5b",
   "metadata": {},
   "outputs": [],
   "source": [
    "file_obj=open('demo_file_for')"
   ]
  },
  {
   "cell_type": "code",
   "execution_count": 5,
   "id": "0e4be0e3",
   "metadata": {},
   "outputs": [
    {
     "data": {
      "text/plain": [
       "False"
      ]
     },
     "execution_count": 5,
     "metadata": {},
     "output_type": "execute_result"
    }
   ],
   "source": [
    "file_obj.writable()"
   ]
  },
  {
   "cell_type": "code",
   "execution_count": 6,
   "id": "ccbbd967",
   "metadata": {},
   "outputs": [
    {
     "data": {
      "text/plain": [
       "True"
      ]
     },
     "execution_count": 6,
     "metadata": {},
     "output_type": "execute_result"
    }
   ],
   "source": [
    "file_obj.readable()"
   ]
  },
  {
   "cell_type": "code",
   "execution_count": 7,
   "id": "42c800d8",
   "metadata": {},
   "outputs": [
    {
     "data": {
      "text/plain": [
       "'hello this is demo file'"
      ]
     },
     "execution_count": 7,
     "metadata": {},
     "output_type": "execute_result"
    }
   ],
   "source": [
    "file_obj.read()"
   ]
  },
  {
   "cell_type": "code",
   "execution_count": 10,
   "id": "5f0dc742",
   "metadata": {},
   "outputs": [
    {
     "data": {
      "text/plain": [
       "0"
      ]
     },
     "execution_count": 10,
     "metadata": {},
     "output_type": "execute_result"
    }
   ],
   "source": [
    "file_obj.seek(0)"
   ]
  },
  {
   "cell_type": "code",
   "execution_count": 12,
   "id": "4cffecaa",
   "metadata": {},
   "outputs": [
    {
     "data": {
      "text/plain": [
       "'hello'"
      ]
     },
     "execution_count": 12,
     "metadata": {},
     "output_type": "execute_result"
    }
   ],
   "source": [
    "file_obj.read(5)"
   ]
  },
  {
   "cell_type": "code",
   "execution_count": 13,
   "id": "a58add06",
   "metadata": {},
   "outputs": [
    {
     "data": {
      "text/plain": [
       "' th'"
      ]
     },
     "execution_count": 13,
     "metadata": {},
     "output_type": "execute_result"
    }
   ],
   "source": [
    "file_obj.read(3)"
   ]
  },
  {
   "cell_type": "code",
   "execution_count": 14,
   "id": "b9d580c1",
   "metadata": {},
   "outputs": [
    {
     "data": {
      "text/plain": [
       "'is is demo file'"
      ]
     },
     "execution_count": 14,
     "metadata": {},
     "output_type": "execute_result"
    }
   ],
   "source": [
    "file_obj.read()"
   ]
  },
  {
   "cell_type": "code",
   "execution_count": 15,
   "id": "596d4c4f",
   "metadata": {},
   "outputs": [
    {
     "data": {
      "text/plain": [
       "0"
      ]
     },
     "execution_count": 15,
     "metadata": {},
     "output_type": "execute_result"
    }
   ],
   "source": [
    "file_obj.seek(0)"
   ]
  },
  {
   "cell_type": "code",
   "execution_count": 16,
   "id": "4fee790d",
   "metadata": {},
   "outputs": [],
   "source": [
    "file_obj.close()"
   ]
  },
  {
   "cell_type": "code",
   "execution_count": 90,
   "id": "08a817b7",
   "metadata": {},
   "outputs": [],
   "source": [
    "file_obj=open('demo_file_for','r')"
   ]
  },
  {
   "cell_type": "code",
   "execution_count": 91,
   "id": "ed1c3609",
   "metadata": {},
   "outputs": [
    {
     "data": {
      "text/plain": [
       "True"
      ]
     },
     "execution_count": 91,
     "metadata": {},
     "output_type": "execute_result"
    }
   ],
   "source": [
    "file_obj.readable()"
   ]
  },
  {
   "cell_type": "code",
   "execution_count": 92,
   "id": "797cd197",
   "metadata": {},
   "outputs": [
    {
     "data": {
      "text/plain": [
       "False"
      ]
     },
     "execution_count": 92,
     "metadata": {},
     "output_type": "execute_result"
    }
   ],
   "source": [
    "file_obj.writable()"
   ]
  },
  {
   "cell_type": "code",
   "execution_count": 96,
   "id": "d83af86d",
   "metadata": {},
   "outputs": [
    {
     "data": {
      "text/plain": [
       "''"
      ]
     },
     "execution_count": 96,
     "metadata": {},
     "output_type": "execute_result"
    }
   ],
   "source": [
    "file_obj.readline()"
   ]
  },
  {
   "cell_type": "code",
   "execution_count": 97,
   "id": "11ba26c2",
   "metadata": {},
   "outputs": [],
   "source": [
    "file_obj.close()"
   ]
  },
  {
   "cell_type": "code",
   "execution_count": 78,
   "id": "2550fe51",
   "metadata": {},
   "outputs": [],
   "source": [
    "file_obj=open('demo_file_for','r+')"
   ]
  },
  {
   "cell_type": "code",
   "execution_count": 24,
   "id": "3905e8ca",
   "metadata": {},
   "outputs": [
    {
     "data": {
      "text/plain": [
       "True"
      ]
     },
     "execution_count": 24,
     "metadata": {},
     "output_type": "execute_result"
    }
   ],
   "source": [
    "file_obj.readable()"
   ]
  },
  {
   "cell_type": "code",
   "execution_count": 25,
   "id": "59cfe7b7",
   "metadata": {},
   "outputs": [
    {
     "data": {
      "text/plain": [
       "True"
      ]
     },
     "execution_count": 25,
     "metadata": {},
     "output_type": "execute_result"
    }
   ],
   "source": [
    "file_obj.writable()"
   ]
  },
  {
   "cell_type": "code",
   "execution_count": 79,
   "id": "3842a12a",
   "metadata": {},
   "outputs": [
    {
     "data": {
      "text/plain": [
       "22"
      ]
     },
     "execution_count": 79,
     "metadata": {},
     "output_type": "execute_result"
    }
   ],
   "source": [
    "file_obj.write('\\n this is for new line')"
   ]
  },
  {
   "cell_type": "code",
   "execution_count": 82,
   "id": "cb5853c0",
   "metadata": {},
   "outputs": [
    {
     "data": {
      "text/plain": [
       "'\\n this is for new line/n this is new line/n this is new line/n this is new line'"
      ]
     },
     "execution_count": 82,
     "metadata": {},
     "output_type": "execute_result"
    }
   ],
   "source": [
    "file_obj.read()"
   ]
  },
  {
   "cell_type": "code",
   "execution_count": 81,
   "id": "eb7303e2",
   "metadata": {},
   "outputs": [
    {
     "data": {
      "text/plain": [
       "0"
      ]
     },
     "execution_count": 81,
     "metadata": {},
     "output_type": "execute_result"
    }
   ],
   "source": [
    "file_obj.seek(0)"
   ]
  },
  {
   "cell_type": "code",
   "execution_count": 29,
   "id": "204c0958",
   "metadata": {},
   "outputs": [
    {
     "data": {
      "text/plain": [
       "'/n this is for new line'"
      ]
     },
     "execution_count": 29,
     "metadata": {},
     "output_type": "execute_result"
    }
   ],
   "source": [
    "file_obj.read()"
   ]
  },
  {
   "cell_type": "code",
   "execution_count": 83,
   "id": "422f880b",
   "metadata": {},
   "outputs": [],
   "source": [
    "file_obj.close()"
   ]
  },
  {
   "cell_type": "code",
   "execution_count": 76,
   "id": "5abbeb54",
   "metadata": {},
   "outputs": [],
   "source": [
    "file_obj=open('demo_file_for','r')"
   ]
  },
  {
   "cell_type": "code",
   "execution_count": 33,
   "id": "9ef72082",
   "metadata": {},
   "outputs": [
    {
     "data": {
      "text/plain": [
       "'/n this is for new line'"
      ]
     },
     "execution_count": 33,
     "metadata": {},
     "output_type": "execute_result"
    }
   ],
   "source": [
    "file_obj.read()"
   ]
  },
  {
   "cell_type": "code",
   "execution_count": 34,
   "id": "1b43297c",
   "metadata": {},
   "outputs": [],
   "source": [
    "file_obj.close()"
   ]
  },
  {
   "cell_type": "code",
   "execution_count": 84,
   "id": "931be206",
   "metadata": {},
   "outputs": [],
   "source": [
    "file_obj=open('demo_file_for','a+')"
   ]
  },
  {
   "cell_type": "code",
   "execution_count": 45,
   "id": "46deaecd",
   "metadata": {},
   "outputs": [
    {
     "data": {
      "text/plain": [
       "True"
      ]
     },
     "execution_count": 45,
     "metadata": {},
     "output_type": "execute_result"
    }
   ],
   "source": [
    "file_obj.readable()"
   ]
  },
  {
   "cell_type": "code",
   "execution_count": 46,
   "id": "665f92bb",
   "metadata": {},
   "outputs": [
    {
     "data": {
      "text/plain": [
       "True"
      ]
     },
     "execution_count": 46,
     "metadata": {},
     "output_type": "execute_result"
    }
   ],
   "source": [
    "file_obj.writable()"
   ]
  },
  {
   "cell_type": "code",
   "execution_count": 54,
   "id": "9183a2f6",
   "metadata": {},
   "outputs": [
    {
     "data": {
      "text/plain": [
       "19"
      ]
     },
     "execution_count": 54,
     "metadata": {},
     "output_type": "execute_result"
    }
   ],
   "source": [
    "file_obj.write('/n this is new line')"
   ]
  },
  {
   "cell_type": "code",
   "execution_count": 88,
   "id": "c6307224",
   "metadata": {},
   "outputs": [
    {
     "data": {
      "text/plain": [
       "''"
      ]
     },
     "execution_count": 88,
     "metadata": {},
     "output_type": "execute_result"
    }
   ],
   "source": [
    "file_obj.readline()"
   ]
  },
  {
   "cell_type": "code",
   "execution_count": 74,
   "id": "fc29ae9b",
   "metadata": {},
   "outputs": [
    {
     "data": {
      "text/plain": [
       "0"
      ]
     },
     "execution_count": 74,
     "metadata": {},
     "output_type": "execute_result"
    }
   ],
   "source": [
    "file_obj.seek(0)"
   ]
  },
  {
   "cell_type": "code",
   "execution_count": 89,
   "id": "3053e407",
   "metadata": {},
   "outputs": [],
   "source": [
    "file_obj.close()"
   ]
  },
  {
   "cell_type": "markdown",
   "id": "39cab636",
   "metadata": {},
   "source": []
  },
  {
   "cell_type": "code",
   "execution_count": 98,
   "id": "badba9cb",
   "metadata": {},
   "outputs": [],
   "source": [
    "file_obj=open('new_file.txt','x')"
   ]
  },
  {
   "cell_type": "code",
   "execution_count": 99,
   "id": "1b27035f",
   "metadata": {},
   "outputs": [
    {
     "data": {
      "text/plain": [
       "False"
      ]
     },
     "execution_count": 99,
     "metadata": {},
     "output_type": "execute_result"
    }
   ],
   "source": [
    "file_obj.readable()"
   ]
  },
  {
   "cell_type": "code",
   "execution_count": 100,
   "id": "5e1fc122",
   "metadata": {},
   "outputs": [
    {
     "data": {
      "text/plain": [
       "True"
      ]
     },
     "execution_count": 100,
     "metadata": {},
     "output_type": "execute_result"
    }
   ],
   "source": [
    "file_obj.writable()"
   ]
  },
  {
   "cell_type": "code",
   "execution_count": 101,
   "id": "18bf93f0",
   "metadata": {},
   "outputs": [
    {
     "data": {
      "text/plain": [
       "51"
      ]
     },
     "execution_count": 101,
     "metadata": {},
     "output_type": "execute_result"
    }
   ],
   "source": [
    "file_obj.write('hello this is demo \\nfor create & write data in file')"
   ]
  },
  {
   "cell_type": "code",
   "execution_count": 102,
   "id": "9a40d4d9",
   "metadata": {},
   "outputs": [],
   "source": [
    "file_obj.close()"
   ]
  },
  {
   "cell_type": "code",
   "execution_count": 103,
   "id": "8e67f37f",
   "metadata": {},
   "outputs": [],
   "source": [
    "file_obj=open('new_file.txt','r')"
   ]
  },
  {
   "cell_type": "code",
   "execution_count": 104,
   "id": "c4872bc7",
   "metadata": {},
   "outputs": [
    {
     "data": {
      "text/plain": [
       "True"
      ]
     },
     "execution_count": 104,
     "metadata": {},
     "output_type": "execute_result"
    }
   ],
   "source": [
    "file_obj.readable()"
   ]
  },
  {
   "cell_type": "code",
   "execution_count": 105,
   "id": "2fd20d9a",
   "metadata": {},
   "outputs": [
    {
     "data": {
      "text/plain": [
       "'hello this is demo \\n'"
      ]
     },
     "execution_count": 105,
     "metadata": {},
     "output_type": "execute_result"
    }
   ],
   "source": [
    "file_obj.readline()"
   ]
  },
  {
   "cell_type": "code",
   "execution_count": 106,
   "id": "c540acd2",
   "metadata": {},
   "outputs": [
    {
     "data": {
      "text/plain": [
       "'for create & write data in file'"
      ]
     },
     "execution_count": 106,
     "metadata": {},
     "output_type": "execute_result"
    }
   ],
   "source": [
    "file_obj.readline()"
   ]
  },
  {
   "cell_type": "code",
   "execution_count": 107,
   "id": "772da1b1",
   "metadata": {},
   "outputs": [],
   "source": [
    "file_obj.close()"
   ]
  },
  {
   "cell_type": "code",
   "execution_count": 108,
   "id": "19a706e8",
   "metadata": {},
   "outputs": [],
   "source": [
    "file_obj=open('new_file.txt','a')"
   ]
  },
  {
   "cell_type": "code",
   "execution_count": 109,
   "id": "45f5064d",
   "metadata": {},
   "outputs": [
    {
     "data": {
      "text/plain": [
       "True"
      ]
     },
     "execution_count": 109,
     "metadata": {},
     "output_type": "execute_result"
    }
   ],
   "source": [
    "file_obj.writable()"
   ]
  },
  {
   "cell_type": "code",
   "execution_count": 110,
   "id": "f93d1f11",
   "metadata": {},
   "outputs": [
    {
     "data": {
      "text/plain": [
       "False"
      ]
     },
     "execution_count": 110,
     "metadata": {},
     "output_type": "execute_result"
    }
   ],
   "source": [
    "file_obj.readable()"
   ]
  },
  {
   "cell_type": "code",
   "execution_count": 111,
   "id": "e8306ff4",
   "metadata": {},
   "outputs": [
    {
     "data": {
      "text/plain": [
       "47"
      ]
     },
     "execution_count": 111,
     "metadata": {},
     "output_type": "execute_result"
    }
   ],
   "source": [
    "file_obj.write('\\n there are some new process for appending data')"
   ]
  },
  {
   "cell_type": "code",
   "execution_count": 112,
   "id": "ae6dc051",
   "metadata": {},
   "outputs": [],
   "source": [
    "file_obj.close()"
   ]
  },
  {
   "cell_type": "code",
   "execution_count": 113,
   "id": "e0fbb050",
   "metadata": {},
   "outputs": [],
   "source": [
    "file_obj=open('new_file.txt','r+')"
   ]
  },
  {
   "cell_type": "code",
   "execution_count": 114,
   "id": "d68c3659",
   "metadata": {},
   "outputs": [
    {
     "data": {
      "text/plain": [
       "'hello this is demo \\nfor create & write data in file\\n there are some new process for appending data'"
      ]
     },
     "execution_count": 114,
     "metadata": {},
     "output_type": "execute_result"
    }
   ],
   "source": [
    "file_obj.read()"
   ]
  },
  {
   "cell_type": "code",
   "execution_count": 120,
   "id": "f1c237a5",
   "metadata": {},
   "outputs": [
    {
     "data": {
      "text/plain": [
       "0"
      ]
     },
     "execution_count": 120,
     "metadata": {},
     "output_type": "execute_result"
    }
   ],
   "source": [
    "file_obj.seek(0)"
   ]
  },
  {
   "cell_type": "code",
   "execution_count": 117,
   "id": "b63d6a4d",
   "metadata": {},
   "outputs": [
    {
     "data": {
      "text/plain": [
       "'hello this is demo \\n'"
      ]
     },
     "execution_count": 117,
     "metadata": {},
     "output_type": "execute_result"
    }
   ],
   "source": [
    "file_obj.readline()"
   ]
  },
  {
   "cell_type": "code",
   "execution_count": 118,
   "id": "4591340c",
   "metadata": {},
   "outputs": [
    {
     "data": {
      "text/plain": [
       "'fo'"
      ]
     },
     "execution_count": 118,
     "metadata": {},
     "output_type": "execute_result"
    }
   ],
   "source": [
    "file_obj.readline(2)"
   ]
  },
  {
   "cell_type": "code",
   "execution_count": 121,
   "id": "8c45ccb7",
   "metadata": {},
   "outputs": [
    {
     "data": {
      "text/plain": [
       "['hello this is demo \\n',\n",
       " 'for create & write data in file\\n',\n",
       " ' there are some new process for appending data']"
      ]
     },
     "execution_count": 121,
     "metadata": {},
     "output_type": "execute_result"
    }
   ],
   "source": [
    "file_obj.readlines()"
   ]
  },
  {
   "cell_type": "code",
   "execution_count": 122,
   "id": "c012200f",
   "metadata": {},
   "outputs": [],
   "source": [
    "file_obj.close()"
   ]
  },
  {
   "cell_type": "code",
   "execution_count": null,
   "id": "fbd1dc43",
   "metadata": {},
   "outputs": [],
   "source": []
  }
 ],
 "metadata": {
  "kernelspec": {
   "display_name": "Python 3 (ipykernel)",
   "language": "python",
   "name": "python3"
  },
  "language_info": {
   "codemirror_mode": {
    "name": "ipython",
    "version": 3
   },
   "file_extension": ".py",
   "mimetype": "text/x-python",
   "name": "python",
   "nbconvert_exporter": "python",
   "pygments_lexer": "ipython3",
   "version": "3.9.12"
  }
 },
 "nbformat": 4,
 "nbformat_minor": 5
}
