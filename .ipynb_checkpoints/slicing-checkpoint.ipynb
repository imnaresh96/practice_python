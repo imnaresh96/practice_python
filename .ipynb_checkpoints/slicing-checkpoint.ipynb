{
 "cells": [
  {
   "cell_type": "markdown",
   "id": "710f7167",
   "metadata": {},
   "source": [
    "# slice\n",
    "\n",
    "## The index number goes from 0 to the last element (N-1)\n",
    "\n",
    "### slice (start, end, step)"
   ]
  },
  {
   "cell_type": "markdown",
   "id": "9998ed79",
   "metadata": {},
   "source": [
    "#### print a perticular content using index number"
   ]
  },
  {
   "cell_type": "code",
   "execution_count": 2,
   "id": "3289566b",
   "metadata": {},
   "outputs": [
    {
     "name": "stdout",
     "output_type": "stream",
     "text": [
      "5\n"
     ]
    }
   ],
   "source": [
    "s=[5,9,5,6]\n",
    "print(s[2]) \n"
   ]
  },
  {
   "cell_type": "markdown",
   "id": "782768fb",
   "metadata": {},
   "source": [
    "#### print all element present before index number 2"
   ]
  },
  {
   "cell_type": "code",
   "execution_count": 5,
   "id": "0c7709b4",
   "metadata": {},
   "outputs": [
    {
     "name": "stdout",
     "output_type": "stream",
     "text": [
      "[5, 9]\n"
     ]
    }
   ],
   "source": [
    "s=[5,9,5,6]\n",
    "print(s[:2]) "
   ]
  },
  {
   "cell_type": "markdown",
   "id": "8d273c46",
   "metadata": {},
   "source": [
    "#### print all element list form indexing (2) to (n-1)"
   ]
  },
  {
   "cell_type": "code",
   "execution_count": 7,
   "id": "f3ac4c07",
   "metadata": {},
   "outputs": [
    {
     "name": "stdout",
     "output_type": "stream",
     "text": [
      "[5, 6, 4, 5, 6, 3, 2]\n"
     ]
    }
   ],
   "source": [
    "s=[5,9,5,6,4,5,6,3,2]\n",
    "print(s[2:]) "
   ]
  },
  {
   "cell_type": "markdown",
   "id": "d161c63c",
   "metadata": {},
   "source": [
    "#### print index 0 to index 3 values "
   ]
  },
  {
   "cell_type": "code",
   "execution_count": 3,
   "id": "77e58302",
   "metadata": {},
   "outputs": [
    {
     "name": "stdout",
     "output_type": "stream",
     "text": [
      "[5, 9, 5, 6]\n"
     ]
    }
   ],
   "source": [
    "s=[5,9,5,6,8,4,5,6,3]\n",
    "print(s[0:4]) "
   ]
  },
  {
   "cell_type": "markdown",
   "id": "aa292adf",
   "metadata": {},
   "source": [
    "#### Optional. An integer number specifying the step of the slicing. Default is 1"
   ]
  },
  {
   "cell_type": "code",
   "execution_count": 17,
   "id": "88ae137b",
   "metadata": {},
   "outputs": [
    {
     "name": "stdout",
     "output_type": "stream",
     "text": [
      "[5, 9, 5, 6, 2, 5, 2, 3, 5]\n"
     ]
    }
   ],
   "source": [
    "s=[5,9,5,6,2,5,2,3,5]\n",
    "print(s[0:9:1]) "
   ]
  },
  {
   "cell_type": "code",
   "execution_count": null,
   "id": "36f519ca",
   "metadata": {},
   "outputs": [],
   "source": []
  }
 ],
 "metadata": {
  "kernelspec": {
   "display_name": "Python 3 (ipykernel)",
   "language": "python",
   "name": "python3"
  },
  "language_info": {
   "codemirror_mode": {
    "name": "ipython",
    "version": 3
   },
   "file_extension": ".py",
   "mimetype": "text/x-python",
   "name": "python",
   "nbconvert_exporter": "python",
   "pygments_lexer": "ipython3",
   "version": "3.9.12"
  }
 },
 "nbformat": 4,
 "nbformat_minor": 5
}
