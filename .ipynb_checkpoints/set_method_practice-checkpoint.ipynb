{
 "cells": [
  {
   "cell_type": "code",
   "execution_count": 1,
   "id": "f6642654",
   "metadata": {},
   "outputs": [],
   "source": [
    "mix_fruits = {'Guava', 'Pear', 'Mango', 'Apple', 'Fig', 'Orange', 'Banana'}\n"
   ]
  },
  {
   "cell_type": "markdown",
   "id": "b5f4eaa7",
   "metadata": {},
   "source": [
    "### Find the length of the set mix_fruits"
   ]
  },
  {
   "cell_type": "code",
   "execution_count": 2,
   "id": "5ba8c51d",
   "metadata": {
    "scrolled": true
   },
   "outputs": [
    {
     "name": "stdout",
     "output_type": "stream",
     "text": [
      "7\n"
     ]
    }
   ],
   "source": [
    "mix_fruits = {'Guava', 'Pear', 'Mango', 'Apple', 'Fig', 'Orange', 'Banana'}\n",
    "print(len(mix_fruits))"
   ]
  },
  {
   "cell_type": "markdown",
   "id": "2acadbe3",
   "metadata": {},
   "source": [
    "### Add 'Kiwi' to mix_fruits"
   ]
  },
  {
   "cell_type": "code",
   "execution_count": 5,
   "id": "e3377b0d",
   "metadata": {},
   "outputs": [
    {
     "name": "stdout",
     "output_type": "stream",
     "text": [
      "{'Pear', 'Fig', 'Orange', 'Apple', 'Banana', 'Guava', 'kiwi', 'Mango'}\n"
     ]
    }
   ],
   "source": [
    "mix_fruits = {'Guava', 'Pear', 'Mango', 'Apple', 'Fig', 'Orange', 'Banana'}\n",
    "mix_fruits.add('kiwi')\n",
    "print(mix_fruits)"
   ]
  },
  {
   "cell_type": "markdown",
   "id": "659517b4",
   "metadata": {},
   "source": [
    "### Insert multiple fruits at once to the set mix_fruits"
   ]
  },
  {
   "cell_type": "code",
   "execution_count": 9,
   "id": "08f6bb27",
   "metadata": {},
   "outputs": [
    {
     "name": "stdout",
     "output_type": "stream",
     "text": [
      "{'Pear', 'Guava', 'Mango', 'Fig', 'grapes', 'Apple', 'kiwi', 'papaya', 'Banana', 'Orange'}\n"
     ]
    }
   ],
   "source": [
    "mix_fruits = {'Guava', 'Pear', 'Mango', 'Apple', 'Fig', 'Orange', 'Banana'}\n",
    "mix_fruits.update(['kiwi','grapes','papaya'])\n",
    "print(mix_fruits)"
   ]
  },
  {
   "cell_type": "markdown",
   "id": "16233a86",
   "metadata": {},
   "source": [
    "#### Remove one of the fruit from the set mix_fruits"
   ]
  },
  {
   "cell_type": "code",
   "execution_count": 11,
   "id": "8ac5c130",
   "metadata": {},
   "outputs": [
    {
     "data": {
      "text/plain": [
       "'Fig'"
      ]
     },
     "execution_count": 11,
     "metadata": {},
     "output_type": "execute_result"
    }
   ],
   "source": [
    "mix_fruits = {'Guava', 'Pear', 'Mango', 'Apple', 'Fig', 'Orange', 'Banana'}\n",
    "mix_fruits.discard('Pear') #for remove perticular element\n",
    "mix_fruits.remove('Mango') ##for remove perticular element\n",
    "mix_fruits.pop() #for remove random value from set & return removed value"
   ]
  },
  {
   "cell_type": "markdown",
   "id": "e1b7ac4d",
   "metadata": {},
   "source": [
    "### What is the difference between remove and discard"
   ]
  },
  {
   "cell_type": "markdown",
   "id": "9210e336",
   "metadata": {},
   "source": [
    "#### discard()\n",
    "##### method is use for remove a perticular element from set. if remove's  element is not present in the set , then no error and exception raised and the original set is printed \n",
    "#### remove()\n",
    "##### method is use for remove a perticular element from set. if remove's element is not present in the set ,  then an error or exception is raised. "
   ]
  }
 ],
 "metadata": {
  "kernelspec": {
   "display_name": "Python 3 (ipykernel)",
   "language": "python",
   "name": "python3"
  },
  "language_info": {
   "codemirror_mode": {
    "name": "ipython",
    "version": 3
   },
   "file_extension": ".py",
   "mimetype": "text/x-python",
   "name": "python",
   "nbconvert_exporter": "python",
   "pygments_lexer": "ipython3",
   "version": "3.9.12"
  }
 },
 "nbformat": 4,
 "nbformat_minor": 5
}
