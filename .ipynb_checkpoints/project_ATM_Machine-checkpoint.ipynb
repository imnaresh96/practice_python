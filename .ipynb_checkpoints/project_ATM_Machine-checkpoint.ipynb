{
 "cells": [
  {
   "cell_type": "code",
   "execution_count": null,
   "id": "04f6f9e0",
   "metadata": {},
   "outputs": [],
   "source": [
    "balance=10000\n",
    "print('''\n",
    "        Welcome To ATM Machine\n",
    "\n",
    "        Select Your Transaction\n",
    "        1) Balance\n",
    "        2) Withdraw\n",
    "        3) Deposite\n",
    "        4) Exit\n",
    "''')\n",
    "pin=int(input('Enter Your Pin: '))\n",
    "choose=int(input('Select Your Transaction: '))\n",
    "if choose==1:\n",
    "    print(f'Available A/C Balance Is {balance}')\n",
    "elif choose==2:\n",
    "    withdraw=int(input('Enter Amount: '))\n",
    "    if withdraw<=balance:\n",
    "        balance-=withdraw\n",
    "        print(f'Your availabe balance is {balance}')\n",
    "    else:\n",
    "        print('Insufficient Balance')\n",
    "elif choose==3:\n",
    "    amount=int(input('Enter Amount: '))\n",
    "    balance+=amount\n",
    "    print(f'New Balance is {balance}')\n",
    "elif choose==3:\n",
    "    exit()\n",
    "else:\n",
    "    ('No Selected Transaction')"
   ]
  },
  {
   "cell_type": "code",
   "execution_count": null,
   "id": "b93fff86",
   "metadata": {},
   "outputs": [],
   "source": []
  }
 ],
 "metadata": {
  "kernelspec": {
   "display_name": "Python 3 (ipykernel)",
   "language": "python",
   "name": "python3"
  },
  "language_info": {
   "codemirror_mode": {
    "name": "ipython",
    "version": 3
   },
   "file_extension": ".py",
   "mimetype": "text/x-python",
   "name": "python",
   "nbconvert_exporter": "python",
   "pygments_lexer": "ipython3",
   "version": "3.9.12"
  }
 },
 "nbformat": 4,
 "nbformat_minor": 5
}
