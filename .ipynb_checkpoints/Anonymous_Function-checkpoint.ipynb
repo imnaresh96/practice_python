{
 "cells": [
  {
   "cell_type": "markdown",
   "id": "dfafe925",
   "metadata": {},
   "source": [
    "# Anonymous Function - lambda and special functions - filter(), reduce()"
   ]
  },
  {
   "cell_type": "code",
   "execution_count": 1,
   "id": "cd93f4b8",
   "metadata": {},
   "outputs": [],
   "source": [
    "hello = lambda :'hello world'"
   ]
  },
  {
   "cell_type": "code",
   "execution_count": 3,
   "id": "b8a4fb70",
   "metadata": {},
   "outputs": [
    {
     "data": {
      "text/plain": [
       "'hello world'"
      ]
     },
     "execution_count": 3,
     "metadata": {},
     "output_type": "execute_result"
    }
   ],
   "source": [
    "hello()"
   ]
  },
  {
   "cell_type": "code",
   "execution_count": 4,
   "id": "57c439f7",
   "metadata": {},
   "outputs": [],
   "source": [
    "kumar= lambda x,y: x+y"
   ]
  },
  {
   "cell_type": "code",
   "execution_count": 5,
   "id": "022e24e7",
   "metadata": {},
   "outputs": [
    {
     "data": {
      "text/plain": [
       "13"
      ]
     },
     "execution_count": 5,
     "metadata": {},
     "output_type": "execute_result"
    }
   ],
   "source": [
    "kumar(5,8)"
   ]
  },
  {
   "cell_type": "code",
   "execution_count": 7,
   "id": "24863c2d",
   "metadata": {},
   "outputs": [
    {
     "data": {
      "text/plain": [
       "9"
      ]
     },
     "execution_count": 7,
     "metadata": {},
     "output_type": "execute_result"
    }
   ],
   "source": [
    "kumar(5,4)"
   ]
  },
  {
   "cell_type": "code",
   "execution_count": 19,
   "id": "fdb90a0d",
   "metadata": {},
   "outputs": [],
   "source": [
    "def in_even(x):\n",
    "    return x % 2==0\n",
    "       "
   ]
  },
  {
   "cell_type": "code",
   "execution_count": 20,
   "id": "5a2495d0",
   "metadata": {},
   "outputs": [],
   "source": [
    "e=[5,4,2,3,6,9,8]"
   ]
  },
  {
   "cell_type": "code",
   "execution_count": 22,
   "id": "aa2941b0",
   "metadata": {},
   "outputs": [
    {
     "name": "stdout",
     "output_type": "stream",
     "text": [
      "4 2 6 8 "
     ]
    }
   ],
   "source": [
    "for i in e:\n",
    "    if in_even(i):\n",
    "        print(i ,end=\" \")"
   ]
  },
  {
   "cell_type": "code",
   "execution_count": 24,
   "id": "59c29e9b",
   "metadata": {},
   "outputs": [],
   "source": [
    "odd_items=filter(None,'naresh')"
   ]
  },
  {
   "cell_type": "code",
   "execution_count": 34,
   "id": "a042e50d",
   "metadata": {},
   "outputs": [],
   "source": [
    "for i in odd_items:\n",
    "    print(i)"
   ]
  },
  {
   "cell_type": "code",
   "execution_count": 26,
   "id": "6501d259",
   "metadata": {},
   "outputs": [],
   "source": [
    "even_items=filter(in_even,e)"
   ]
  },
  {
   "cell_type": "code",
   "execution_count": 33,
   "id": "912afdd5",
   "metadata": {},
   "outputs": [],
   "source": [
    "for i in even_items:\n",
    "    print(i , end=\" \")"
   ]
  },
  {
   "cell_type": "code",
   "execution_count": 32,
   "id": "8935f8cf",
   "metadata": {},
   "outputs": [
    {
     "data": {
      "text/plain": [
       "[5, 4, 2, 3, 6, 9, 8]"
      ]
     },
     "execution_count": 32,
     "metadata": {},
     "output_type": "execute_result"
    }
   ],
   "source": [
    "e"
   ]
  },
  {
   "cell_type": "code",
   "execution_count": null,
   "id": "85666302",
   "metadata": {},
   "outputs": [],
   "source": []
  }
 ],
 "metadata": {
  "kernelspec": {
   "display_name": "Python 3 (ipykernel)",
   "language": "python",
   "name": "python3"
  },
  "language_info": {
   "codemirror_mode": {
    "name": "ipython",
    "version": 3
   },
   "file_extension": ".py",
   "mimetype": "text/x-python",
   "name": "python",
   "nbconvert_exporter": "python",
   "pygments_lexer": "ipython3",
   "version": "3.9.12"
  }
 },
 "nbformat": 4,
 "nbformat_minor": 5
}
