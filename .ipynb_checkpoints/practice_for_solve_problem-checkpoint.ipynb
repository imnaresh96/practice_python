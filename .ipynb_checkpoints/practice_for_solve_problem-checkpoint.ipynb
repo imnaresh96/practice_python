{
 "cells": [
  {
   "cell_type": "code",
   "execution_count": null,
   "id": "548989ff",
   "metadata": {},
   "outputs": [],
   "source": [
    "a=input('Enter your first name: ')\n",
    "b=input('Enter your middle name: ')\n",
    "c=input('Enter your last name: ')\n",
    "s=input('Enter your subject name: ')\n",
    "if s=='python':\n",
    "  print(f'hello Mr. {a} {b} {c} you are student of python, your faculty name is Mr Kapil Jangid')\n",
    "else:\n",
    "  print('try another subject')\n"
   ]
  },
  {
   "cell_type": "code",
   "execution_count": null,
   "id": "ccf0d432",
   "metadata": {},
   "outputs": [],
   "source": [
    "k=[5,8,9,20,51,5,6,5,8,4,5,2,4,]\n",
    "s=[]\n",
    "for i in k:\n",
    "    if i not in s:\n",
    "        s.append(i)\n",
    "else:\n",
    "    print(s)"
   ]
  },
  {
   "cell_type": "code",
   "execution_count": null,
   "id": "5c46159b",
   "metadata": {},
   "outputs": [],
   "source": [
    "k=[]\n",
    "s=0\n",
    "for i in k:\n",
    "    s+=0\n",
    "    if s==0:\n",
    "        print(\"list is empty\")\n",
    "    else:\n",
    "        print('list is not empty')"
   ]
  },
  {
   "cell_type": "code",
   "execution_count": null,
   "id": "20a69a23",
   "metadata": {},
   "outputs": [],
   "source": [
    "s=[4,8,95,3,6,4,2]\n",
    "k=[5,4,8,6,5,2,3]\n",
    "for k in s:\n",
    "    print(k)"
   ]
  },
  {
   "cell_type": "code",
   "execution_count": null,
   "id": "ca29881f",
   "metadata": {},
   "outputs": [],
   "source": [
    "mylist = [\"a]\n",
    "mylist = list(dict.fromkeys(mylist))\n",
    "print(mylist)\n"
   ]
  },
  {
   "cell_type": "code",
   "execution_count": null,
   "id": "fa569aab",
   "metadata": {},
   "outputs": [],
   "source": [
    "s=[4,5,6,9,8,5]\n",
    "n=0\n",
    "s.sort()\n",
    "for i in range(1,len(s)):\n",
    "    n=n+s[i]\n",
    "else:\n",
    "    print(s[-1])"
   ]
  },
  {
   "cell_type": "code",
   "execution_count": null,
   "id": "b70a5307",
   "metadata": {},
   "outputs": [],
   "source": [
    "#reverses a string if its length is a multiple of 4.\n",
    "s=input('Enter something here: ')\n",
    "k=len(s)\n",
    "if k % 4==0:\n",
    "    s[:-1]\n",
    "    print(s)\n",
    "else:\n",
    "    print('try again with other value')"
   ]
  },
  {
   "cell_type": "code",
   "execution_count": null,
   "id": "7f7ce970",
   "metadata": {},
   "outputs": [],
   "source": []
  }
 ],
 "metadata": {
  "kernelspec": {
   "display_name": "Python 3 (ipykernel)",
   "language": "python",
   "name": "python3"
  },
  "language_info": {
   "codemirror_mode": {
    "name": "ipython",
    "version": 3
   },
   "file_extension": ".py",
   "mimetype": "text/x-python",
   "name": "python",
   "nbconvert_exporter": "python",
   "pygments_lexer": "ipython3",
   "version": "3.9.12"
  }
 },
 "nbformat": 4,
 "nbformat_minor": 5
}
