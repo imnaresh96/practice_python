{
 "cells": [
  {
   "cell_type": "code",
   "execution_count": null,
   "id": "43343413",
   "metadata": {},
   "outputs": [],
   "source": [
    "a=input('Enter your first name: ')\n",
    "b=input('Enter your middle name: ')\n",
    "c=input('Enter your last name: ')\n",
    "s=input('Enter your subject name: ')\n",
    "if s=='python':\n",
    "  print(f'hello Mr. {a} {b} {c} you are student of python, your faculty name is Mr Kapil Jangid')\n",
    "else:\n",
    "  print('try another subject')\n"
   ]
  },
  {
   "cell_type": "code",
   "execution_count": null,
   "id": "182d1f30",
   "metadata": {},
   "outputs": [],
   "source": [
    "k=[5,8,9,20,51,5,6,5,8,4,5,2,4,]\n",
    "s=[]\n",
    "for i in k:\n",
    "    if i not in s:\n",
    "        s.append(i)\n",
    "else:\n",
    "    print(s)"
   ]
  },
  {
   "cell_type": "code",
   "execution_count": null,
   "id": "d82a4aaf",
   "metadata": {},
   "outputs": [],
   "source": []
  }
 ],
 "metadata": {
  "kernelspec": {
   "display_name": "Python 3 (ipykernel)",
   "language": "python",
   "name": "python3"
  },
  "language_info": {
   "codemirror_mode": {
    "name": "ipython",
    "version": 3
   },
   "file_extension": ".py",
   "mimetype": "text/x-python",
   "name": "python",
   "nbconvert_exporter": "python",
   "pygments_lexer": "ipython3",
   "version": "3.9.12"
  }
 },
 "nbformat": 4,
 "nbformat_minor": 5
}
