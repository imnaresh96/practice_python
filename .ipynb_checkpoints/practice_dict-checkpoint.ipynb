{
 "cells": [
  {
   "cell_type": "code",
   "execution_count": 1,
   "id": "f426ffb7",
   "metadata": {},
   "outputs": [],
   "source": [
    "r=dict()"
   ]
  },
  {
   "cell_type": "code",
   "execution_count": 4,
   "id": "37d611a0",
   "metadata": {},
   "outputs": [
    {
     "data": {
      "text/plain": [
       "{}"
      ]
     },
     "execution_count": 4,
     "metadata": {},
     "output_type": "execute_result"
    }
   ],
   "source": [
    "r"
   ]
  },
  {
   "cell_type": "code",
   "execution_count": 7,
   "id": "897eb29e",
   "metadata": {},
   "outputs": [
    {
     "name": "stdout",
     "output_type": "stream",
     "text": [
      "['__class__', '__class_getitem__', '__contains__', '__delattr__', '__delitem__', '__dir__', '__doc__', '__eq__', '__format__', '__ge__', '__getattribute__', '__getitem__', '__gt__', '__hash__', '__init__', '__init_subclass__', '__ior__', '__iter__', '__le__', '__len__', '__lt__', '__ne__', '__new__', '__or__', '__reduce__', '__reduce_ex__', '__repr__', '__reversed__', '__ror__', '__setattr__', '__setitem__', '__sizeof__', '__str__', '__subclasshook__', 'clear', 'copy', 'fromkeys', 'get', 'items', 'keys', 'pop', 'popitem', 'setdefault', 'update', 'values']\n"
     ]
    }
   ],
   "source": [
    "print(dir(r))"
   ]
  },
  {
   "cell_type": "code",
   "execution_count": 9,
   "id": "36dec744",
   "metadata": {},
   "outputs": [],
   "source": [
    "r.setdefault('name')"
   ]
  },
  {
   "cell_type": "code",
   "execution_count": 10,
   "id": "9bfc932e",
   "metadata": {},
   "outputs": [
    {
     "data": {
      "text/plain": [
       "{'name': None}"
      ]
     },
     "execution_count": 10,
     "metadata": {},
     "output_type": "execute_result"
    }
   ],
   "source": [
    "r"
   ]
  },
  {
   "cell_type": "code",
   "execution_count": 12,
   "id": "e08c1771",
   "metadata": {},
   "outputs": [
    {
     "data": {
      "text/plain": [
       "'pali'"
      ]
     },
     "execution_count": 12,
     "metadata": {},
     "output_type": "execute_result"
    }
   ],
   "source": [
    "r.setdefault('city','pali')"
   ]
  },
  {
   "cell_type": "code",
   "execution_count": 13,
   "id": "c3565bd4",
   "metadata": {},
   "outputs": [
    {
     "data": {
      "text/plain": [
       "{'name': None, 'city': 'pali'}"
      ]
     },
     "execution_count": 13,
     "metadata": {},
     "output_type": "execute_result"
    }
   ],
   "source": [
    "r"
   ]
  },
  {
   "cell_type": "code",
   "execution_count": 14,
   "id": "264b87e4",
   "metadata": {},
   "outputs": [],
   "source": [
    "r.setdefault('name','naresh')"
   ]
  },
  {
   "cell_type": "code",
   "execution_count": 15,
   "id": "272e585a",
   "metadata": {},
   "outputs": [
    {
     "data": {
      "text/plain": [
       "{'name': None, 'city': 'pali'}"
      ]
     },
     "execution_count": 15,
     "metadata": {},
     "output_type": "execute_result"
    }
   ],
   "source": [
    "r"
   ]
  },
  {
   "cell_type": "code",
   "execution_count": 16,
   "id": "0026ce7f",
   "metadata": {},
   "outputs": [],
   "source": [
    "r.update({'name':'naresh','city':'rani'})"
   ]
  },
  {
   "cell_type": "code",
   "execution_count": 17,
   "id": "446d5759",
   "metadata": {},
   "outputs": [
    {
     "data": {
      "text/plain": [
       "{'name': 'naresh', 'city': 'rani'}"
      ]
     },
     "execution_count": 17,
     "metadata": {},
     "output_type": "execute_result"
    }
   ],
   "source": [
    "r"
   ]
  },
  {
   "cell_type": "code",
   "execution_count": 18,
   "id": "e2c0d331",
   "metadata": {},
   "outputs": [],
   "source": [
    "r.update({'mobile':'9269885482'})"
   ]
  },
  {
   "cell_type": "code",
   "execution_count": 19,
   "id": "6d376eef",
   "metadata": {},
   "outputs": [
    {
     "data": {
      "text/plain": [
       "{'name': 'naresh', 'city': 'rani', 'mobile': '9269885482'}"
      ]
     },
     "execution_count": 19,
     "metadata": {},
     "output_type": "execute_result"
    }
   ],
   "source": [
    "r"
   ]
  },
  {
   "cell_type": "code",
   "execution_count": 22,
   "id": "320a7e94",
   "metadata": {},
   "outputs": [
    {
     "data": {
      "text/plain": [
       "'9269885482'"
      ]
     },
     "execution_count": 22,
     "metadata": {},
     "output_type": "execute_result"
    }
   ],
   "source": [
    "r.get('mobile')"
   ]
  },
  {
   "cell_type": "code",
   "execution_count": 23,
   "id": "72eadca8",
   "metadata": {},
   "outputs": [
    {
     "data": {
      "text/plain": [
       "{'name': 'naresh', 'city': 'rani', 'mobile': '9269885482'}"
      ]
     },
     "execution_count": 23,
     "metadata": {},
     "output_type": "execute_result"
    }
   ],
   "source": [
    "r"
   ]
  },
  {
   "cell_type": "code",
   "execution_count": 26,
   "id": "6743562b",
   "metadata": {},
   "outputs": [
    {
     "data": {
      "text/plain": [
       "'naresh'"
      ]
     },
     "execution_count": 26,
     "metadata": {},
     "output_type": "execute_result"
    }
   ],
   "source": [
    "r['name']"
   ]
  },
  {
   "cell_type": "code",
   "execution_count": 28,
   "id": "79bb9fe0",
   "metadata": {},
   "outputs": [],
   "source": [
    "r['country']='India'"
   ]
  },
  {
   "cell_type": "code",
   "execution_count": 29,
   "id": "90bfb790",
   "metadata": {},
   "outputs": [
    {
     "data": {
      "text/plain": [
       "{'name': 'naresh', 'city': 'rani', 'mobile': '9269885482', 'country': 'India'}"
      ]
     },
     "execution_count": 29,
     "metadata": {},
     "output_type": "execute_result"
    }
   ],
   "source": [
    "r"
   ]
  },
  {
   "cell_type": "code",
   "execution_count": 30,
   "id": "41511bb5",
   "metadata": {},
   "outputs": [
    {
     "data": {
      "text/plain": [
       "dict_keys(['name', 'city', 'mobile', 'country'])"
      ]
     },
     "execution_count": 30,
     "metadata": {},
     "output_type": "execute_result"
    }
   ],
   "source": [
    "r.keys()"
   ]
  },
  {
   "cell_type": "code",
   "execution_count": 31,
   "id": "ab8895ca",
   "metadata": {},
   "outputs": [
    {
     "data": {
      "text/plain": [
       "dict_values(['naresh', 'rani', '9269885482', 'India'])"
      ]
     },
     "execution_count": 31,
     "metadata": {},
     "output_type": "execute_result"
    }
   ],
   "source": [
    "r.values()"
   ]
  },
  {
   "cell_type": "code",
   "execution_count": 32,
   "id": "9abb35cc",
   "metadata": {},
   "outputs": [
    {
     "data": {
      "text/plain": [
       "'9269885482'"
      ]
     },
     "execution_count": 32,
     "metadata": {},
     "output_type": "execute_result"
    }
   ],
   "source": [
    "r.pop('mobile')"
   ]
  },
  {
   "cell_type": "code",
   "execution_count": 33,
   "id": "24f081fe",
   "metadata": {},
   "outputs": [
    {
     "data": {
      "text/plain": [
       "{'name': 'naresh', 'city': 'rani', 'country': 'India'}"
      ]
     },
     "execution_count": 33,
     "metadata": {},
     "output_type": "execute_result"
    }
   ],
   "source": [
    "r"
   ]
  },
  {
   "cell_type": "code",
   "execution_count": 35,
   "id": "58eddfdf",
   "metadata": {},
   "outputs": [
    {
     "data": {
      "text/plain": [
       "'rani'"
      ]
     },
     "execution_count": 35,
     "metadata": {},
     "output_type": "execute_result"
    }
   ],
   "source": [
    "r.pop('city')"
   ]
  },
  {
   "cell_type": "code",
   "execution_count": 36,
   "id": "7cad8ccb",
   "metadata": {},
   "outputs": [
    {
     "data": {
      "text/plain": [
       "('country', 'India')"
      ]
     },
     "execution_count": 36,
     "metadata": {},
     "output_type": "execute_result"
    }
   ],
   "source": [
    "r.popitem()"
   ]
  },
  {
   "cell_type": "code",
   "execution_count": 52,
   "id": "127a0918",
   "metadata": {},
   "outputs": [],
   "source": [
    "dr=dict.fromkeys(['name','class','city'], )"
   ]
  },
  {
   "cell_type": "code",
   "execution_count": 53,
   "id": "f168ff0b",
   "metadata": {},
   "outputs": [
    {
     "data": {
      "text/plain": [
       "{'name': None, 'class': None, 'city': None}"
      ]
     },
     "execution_count": 53,
     "metadata": {},
     "output_type": "execute_result"
    }
   ],
   "source": [
    "dr"
   ]
  },
  {
   "cell_type": "code",
   "execution_count": 58,
   "id": "9b6a8225",
   "metadata": {},
   "outputs": [],
   "source": [
    "dr.update({'name':'naresh'})"
   ]
  },
  {
   "cell_type": "code",
   "execution_count": 59,
   "id": "2b07e595",
   "metadata": {},
   "outputs": [
    {
     "data": {
      "text/plain": [
       "{'name': 'naresh', 'class': None, 'city': None}"
      ]
     },
     "execution_count": 59,
     "metadata": {},
     "output_type": "execute_result"
    }
   ],
   "source": [
    "dr"
   ]
  },
  {
   "cell_type": "code",
   "execution_count": 60,
   "id": "f59b42f6",
   "metadata": {},
   "outputs": [],
   "source": [
    "dr.clear()"
   ]
  },
  {
   "cell_type": "code",
   "execution_count": 61,
   "id": "a455d900",
   "metadata": {},
   "outputs": [
    {
     "data": {
      "text/plain": [
       "{}"
      ]
     },
     "execution_count": 61,
     "metadata": {},
     "output_type": "execute_result"
    }
   ],
   "source": [
    "dr"
   ]
  },
  {
   "cell_type": "code",
   "execution_count": 63,
   "id": "6f93bc9c",
   "metadata": {},
   "outputs": [],
   "source": [
    "del dr"
   ]
  },
  {
   "cell_type": "code",
   "execution_count": 64,
   "id": "8d546c19",
   "metadata": {},
   "outputs": [
    {
     "ename": "NameError",
     "evalue": "name 'dr' is not defined",
     "output_type": "error",
     "traceback": [
      "\u001b[1;31m---------------------------------------------------------------------------\u001b[0m",
      "\u001b[1;31mNameError\u001b[0m                                 Traceback (most recent call last)",
      "Input \u001b[1;32mIn [64]\u001b[0m, in \u001b[0;36m<cell line: 1>\u001b[1;34m()\u001b[0m\n\u001b[1;32m----> 1\u001b[0m \u001b[43mdr\u001b[49m\n",
      "\u001b[1;31mNameError\u001b[0m: name 'dr' is not defined"
     ]
    }
   ],
   "source": []
  },
  {
   "cell_type": "code",
   "execution_count": 65,
   "id": "a8d8a0a6",
   "metadata": {},
   "outputs": [],
   "source": [
    "dr=r.copy()"
   ]
  },
  {
   "cell_type": "code",
   "execution_count": 66,
   "id": "e3e9d210",
   "metadata": {},
   "outputs": [
    {
     "data": {
      "text/plain": [
       "{'name': 'naresh'}"
      ]
     },
     "execution_count": 66,
     "metadata": {},
     "output_type": "execute_result"
    }
   ],
   "source": [
    "dr"
   ]
  },
  {
   "cell_type": "code",
   "execution_count": 67,
   "id": "84918698",
   "metadata": {},
   "outputs": [],
   "source": [
    "r.update({'city':'pali'})"
   ]
  },
  {
   "cell_type": "code",
   "execution_count": 68,
   "id": "041eb5d9",
   "metadata": {},
   "outputs": [
    {
     "data": {
      "text/plain": [
       "{'name': 'naresh'}"
      ]
     },
     "execution_count": 68,
     "metadata": {},
     "output_type": "execute_result"
    }
   ],
   "source": [
    "dr"
   ]
  },
  {
   "cell_type": "code",
   "execution_count": 69,
   "id": "539e5d1b",
   "metadata": {},
   "outputs": [
    {
     "data": {
      "text/plain": [
       "{'name': 'naresh', 'city': 'pali'}"
      ]
     },
     "execution_count": 69,
     "metadata": {},
     "output_type": "execute_result"
    }
   ],
   "source": [
    "r"
   ]
  },
  {
   "cell_type": "code",
   "execution_count": 71,
   "id": "72468da3",
   "metadata": {},
   "outputs": [
    {
     "data": {
      "text/plain": [
       "{'name': 'naresh'}"
      ]
     },
     "execution_count": 71,
     "metadata": {},
     "output_type": "execute_result"
    }
   ],
   "source": [
    "dr"
   ]
  },
  {
   "cell_type": "code",
   "execution_count": 72,
   "id": "41a0189d",
   "metadata": {},
   "outputs": [
    {
     "data": {
      "text/plain": [
       "{'name': 'naresh', 'city': 'pali'}"
      ]
     },
     "execution_count": 72,
     "metadata": {},
     "output_type": "execute_result"
    }
   ],
   "source": [
    "dr\n",
    "r"
   ]
  },
  {
   "cell_type": "code",
   "execution_count": 73,
   "id": "39c81a46",
   "metadata": {},
   "outputs": [],
   "source": [
    "k=dict()"
   ]
  },
  {
   "cell_type": "code",
   "execution_count": 74,
   "id": "2e5a3979",
   "metadata": {},
   "outputs": [
    {
     "data": {
      "text/plain": [
       "{}"
      ]
     },
     "execution_count": 74,
     "metadata": {},
     "output_type": "execute_result"
    }
   ],
   "source": [
    "k"
   ]
  },
  {
   "cell_type": "code",
   "execution_count": 75,
   "id": "d1d2ca82",
   "metadata": {},
   "outputs": [
    {
     "data": {
      "text/plain": [
       "'naresh'"
      ]
     },
     "execution_count": 75,
     "metadata": {},
     "output_type": "execute_result"
    }
   ],
   "source": [
    "k.setdefault('name','naresh')"
   ]
  },
  {
   "cell_type": "code",
   "execution_count": 76,
   "id": "f16cf9e0",
   "metadata": {},
   "outputs": [
    {
     "data": {
      "text/plain": [
       "{'name': 'naresh'}"
      ]
     },
     "execution_count": 76,
     "metadata": {},
     "output_type": "execute_result"
    }
   ],
   "source": [
    "k"
   ]
  },
  {
   "cell_type": "code",
   "execution_count": 77,
   "id": "9c4a2430",
   "metadata": {},
   "outputs": [],
   "source": [
    "k.update({'city':'pali','mobile':'9269885482'})"
   ]
  },
  {
   "cell_type": "code",
   "execution_count": 79,
   "id": "be5516ae",
   "metadata": {},
   "outputs": [
    {
     "data": {
      "text/plain": [
       "'pali'"
      ]
     },
     "execution_count": 79,
     "metadata": {},
     "output_type": "execute_result"
    }
   ],
   "source": [
    "k.pop('city')"
   ]
  },
  {
   "cell_type": "code",
   "execution_count": 80,
   "id": "0658122b",
   "metadata": {},
   "outputs": [
    {
     "data": {
      "text/plain": [
       "'naresh'"
      ]
     },
     "execution_count": 80,
     "metadata": {},
     "output_type": "execute_result"
    }
   ],
   "source": [
    "k.get('name')"
   ]
  },
  {
   "cell_type": "code",
   "execution_count": 81,
   "id": "b63cc135",
   "metadata": {},
   "outputs": [],
   "source": [
    "k.get('city')"
   ]
  },
  {
   "cell_type": "code",
   "execution_count": 82,
   "id": "bbb03e60",
   "metadata": {},
   "outputs": [
    {
     "ename": "KeyError",
     "evalue": "'city'",
     "output_type": "error",
     "traceback": [
      "\u001b[1;31m---------------------------------------------------------------------------\u001b[0m",
      "\u001b[1;31mKeyError\u001b[0m                                  Traceback (most recent call last)",
      "Input \u001b[1;32mIn [82]\u001b[0m, in \u001b[0;36m<cell line: 1>\u001b[1;34m()\u001b[0m\n\u001b[1;32m----> 1\u001b[0m \u001b[43mk\u001b[49m\u001b[43m[\u001b[49m\u001b[38;5;124;43m'\u001b[39;49m\u001b[38;5;124;43mcity\u001b[39;49m\u001b[38;5;124;43m'\u001b[39;49m\u001b[43m]\u001b[49m\n",
      "\u001b[1;31mKeyError\u001b[0m: 'city'"
     ]
    }
   ],
   "source": [
    "k['city']"
   ]
  },
  {
   "cell_type": "code",
   "execution_count": 83,
   "id": "4178a8db",
   "metadata": {},
   "outputs": [
    {
     "data": {
      "text/plain": [
       "'9269885482'"
      ]
     },
     "execution_count": 83,
     "metadata": {},
     "output_type": "execute_result"
    }
   ],
   "source": [
    "k['mobile']"
   ]
  },
  {
   "cell_type": "code",
   "execution_count": 84,
   "id": "82d5f3ff",
   "metadata": {},
   "outputs": [
    {
     "data": {
      "text/plain": [
       "{'name': 'naresh', 'mobile': '9269885482'}"
      ]
     },
     "execution_count": 84,
     "metadata": {},
     "output_type": "execute_result"
    }
   ],
   "source": [
    "k"
   ]
  },
  {
   "cell_type": "code",
   "execution_count": 85,
   "id": "254d6c5a",
   "metadata": {},
   "outputs": [],
   "source": [
    "k['name']='NARESH'"
   ]
  },
  {
   "cell_type": "code",
   "execution_count": 87,
   "id": "2e708886",
   "metadata": {},
   "outputs": [
    {
     "data": {
      "text/plain": [
       "{'name': 'NARESH', 'mobile': '9269885482'}"
      ]
     },
     "execution_count": 87,
     "metadata": {},
     "output_type": "execute_result"
    }
   ],
   "source": [
    "k"
   ]
  },
  {
   "cell_type": "code",
   "execution_count": 88,
   "id": "73ccc694",
   "metadata": {},
   "outputs": [
    {
     "data": {
      "text/plain": [
       "dict_keys(['name', 'mobile'])"
      ]
     },
     "execution_count": 88,
     "metadata": {},
     "output_type": "execute_result"
    }
   ],
   "source": [
    "k.keys()"
   ]
  },
  {
   "cell_type": "code",
   "execution_count": 89,
   "id": "cc065b24",
   "metadata": {},
   "outputs": [
    {
     "data": {
      "text/plain": [
       "dict_values(['NARESH', '9269885482'])"
      ]
     },
     "execution_count": 89,
     "metadata": {},
     "output_type": "execute_result"
    }
   ],
   "source": [
    "k.values()"
   ]
  },
  {
   "cell_type": "code",
   "execution_count": null,
   "id": "171143b4",
   "metadata": {},
   "outputs": [],
   "source": []
  }
 ],
 "metadata": {
  "kernelspec": {
   "display_name": "Python 3 (ipykernel)",
   "language": "python",
   "name": "python3"
  },
  "language_info": {
   "codemirror_mode": {
    "name": "ipython",
    "version": 3
   },
   "file_extension": ".py",
   "mimetype": "text/x-python",
   "name": "python",
   "nbconvert_exporter": "python",
   "pygments_lexer": "ipython3",
   "version": "3.9.12"
  }
 },
 "nbformat": 4,
 "nbformat_minor": 5
}
