{
 "cells": [
  {
   "cell_type": "code",
   "execution_count": null,
   "id": "839c2628",
   "metadata": {},
   "outputs": [],
   "source": [
    "import random\n",
    "print(\"Game About Guess A Number\\n\\nGuess Number For Three Time \\n\\n\")\n",
    "print(\"Guess Number between 1 to 10\")\n",
    "guess=random.randrange(1,10)\n",
    "num=0\n",
    "for i in range(3):\n",
    "    num+=i\n",
    "    first=int(input(\"Enter Your Number: \"))\n",
    "    if first==guess:\n",
    "        print(f'Congratulation Your task complete in {num}')\n",
    "        break\n",
    "    elif first > guess:\n",
    "        print(\"Try With Small Number\\n\")\n",
    "        continue\n",
    "    elif first < guess:\n",
    "        print(\"Try With Big Number\\n\")\n",
    "        continue\n",
    "else:\n",
    "    print(f'Currect Guess Number is : {guess}')\n",
    "    print(\"Better Luck For Next Time\")\n",
    "    \n",
    "    \n",
    "    "
   ]
  },
  {
   "cell_type": "code",
   "execution_count": null,
   "id": "215fe964",
   "metadata": {},
   "outputs": [],
   "source": []
  },
  {
   "cell_type": "code",
   "execution_count": null,
   "id": "6b6999b2",
   "metadata": {},
   "outputs": [],
   "source": []
  }
 ],
 "metadata": {
  "kernelspec": {
   "display_name": "Python 3 (ipykernel)",
   "language": "python",
   "name": "python3"
  },
  "language_info": {
   "codemirror_mode": {
    "name": "ipython",
    "version": 3
   },
   "file_extension": ".py",
   "mimetype": "text/x-python",
   "name": "python",
   "nbconvert_exporter": "python",
   "pygments_lexer": "ipython3",
   "version": "3.9.12"
  }
 },
 "nbformat": 4,
 "nbformat_minor": 5
}
