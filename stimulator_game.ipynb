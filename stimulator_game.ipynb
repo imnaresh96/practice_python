{
 "cells": [
  {
   "cell_type": "code",
   "execution_count": 30,
   "id": "ac775d15",
   "metadata": {},
   "outputs": [
    {
     "name": "stdout",
     "output_type": "stream",
     "text": [
      "This is a dice stimulator\n"
     ]
    }
   ],
   "source": [
    "import random\n",
    "\n",
    "print(\"This is a dice stimulator\")\n",
    "x = \"abcdefghijklmnopqrstuvwxyz\"\n",
    "while r in x:\n",
    "    number = random.randint(1,6)\n",
    "\n",
    "    if number == 1:\n",
    "        print(\"===========\")\n",
    "        print(\"|         |\")\n",
    "        print(\"|    O    |\")\n",
    "        print(\"|         |\")\n",
    "        print(\"===========\")\n",
    "\n",
    "    if number == 2:\n",
    "        print(\"===========\")\n",
    "        print(\"|         |\")\n",
    "        print(\"| O     O |\")\n",
    "        print(\"|         |\")\n",
    "        print(\"===========\")\n",
    "\n",
    "    if number == 3:\n",
    "        print(\"===========\")\n",
    "        print(\"|    O    |\")\n",
    "        print(\"|    O    |\")\n",
    "        print(\"|    O    |\")\n",
    "        print(\"===========\")\n",
    "        \n",
    "    if number == 4:\n",
    "        print(\"===========\")\n",
    "        print(\"| O     O |\")\n",
    "        print(\"|         |\")\n",
    "        print(\"| O     O |\")\n",
    "        print(\"===========\")\n",
    "        \n",
    "    if number == 5:\n",
    "        print(\"===========\")\n",
    "        print(\"| O     O |\")\n",
    "        print(\"|    O    |\")\n",
    "        print(\"| O     O |\")\n",
    "        print(\"===========\")\n",
    "        \n",
    "    if number == 6:\n",
    "        print(\"===========\")\n",
    "        print(\"| O     O |\")\n",
    "        print(\"| O     O |\")\n",
    "        print(\"| O     O |\")\n",
    "        print(\"===========\")\n",
    "    \n",
    "    r =  input(\"Press any key to roll again \")"
   ]
  },
  {
   "cell_type": "code",
   "execution_count": 31,
   "id": "ea745ef5",
   "metadata": {},
   "outputs": [
    {
     "name": "stdout",
     "output_type": "stream",
     "text": [
      "This is a dice stimulator\n"
     ]
    }
   ],
   "source": [
    "import random\n",
    "\n",
    "print(\"This is a dice stimulator\")\n",
    "x = \"abcdefghijklmnopqrstuvwxyz\"\n",
    "while r in x:\n",
    "    number = random.randint(1,6)\n",
    "\n",
    "    if number == 1:\n",
    "        print(\"===========\")\n",
    "        print(\"|         |\")\n",
    "        print(\"|    O    |\")\n",
    "        print(\"|         |\")\n",
    "        print(\"===========\")\n",
    "\n",
    "    if number == 2:\n",
    "        print(\"===========\")\n",
    "        print(\"|         |\")\n",
    "        print(\"| O     O |\")\n",
    "        print(\"|         |\")\n",
    "        print(\"===========\")\n",
    "\n",
    "    if number == 3:\n",
    "        print(\"===========\")\n",
    "        print(\"|    O    |\")\n",
    "        print(\"|    O    |\")\n",
    "        print(\"|    O    |\")\n",
    "        print(\"===========\")\n",
    "        \n",
    "    if number == 4:\n",
    "        print(\"===========\")\n",
    "        print(\"| O     O |\")\n",
    "        print(\"|         |\")\n",
    "        print(\"| O     O |\")\n",
    "        print(\"===========\")\n",
    "        \n",
    "    if number == 5:\n",
    "        print(\"===========\")\n",
    "        print(\"| O     O |\")\n",
    "        print(\"|    O    |\")\n",
    "        print(\"| O     O |\")\n",
    "        print(\"===========\")\n",
    "        \n",
    "    if number == 6:\n",
    "        print(\"===========\")\n",
    "        print(\"| O     O |\")\n",
    "        print(\"| O     O |\")\n",
    "        print(\"| O     O |\")\n",
    "        print(\"===========\")\n",
    "    \n",
    "    r =  input(\"Press any key to roll again \")"
   ]
  }
 ],
 "metadata": {
  "kernelspec": {
   "display_name": "Python 3 (ipykernel)",
   "language": "python",
   "name": "python3"
  },
  "language_info": {
   "codemirror_mode": {
    "name": "ipython",
    "version": 3
   },
   "file_extension": ".py",
   "mimetype": "text/x-python",
   "name": "python",
   "nbconvert_exporter": "python",
   "pygments_lexer": "ipython3",
   "version": "3.9.12"
  }
 },
 "nbformat": 4,
 "nbformat_minor": 5
}
