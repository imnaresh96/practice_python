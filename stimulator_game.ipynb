{
 "cells": [
  {
   "cell_type": "code",
   "execution_count": 2,
   "id": "ac775d15",
   "metadata": {},
   "outputs": [
    {
     "name": "stdout",
     "output_type": "stream",
     "text": [
      "This is a dice stimulator\n"
     ]
    },
    {
     "ename": "NameError",
     "evalue": "name 'r' is not defined",
     "output_type": "error",
     "traceback": [
      "\u001b[1;31m---------------------------------------------------------------------------\u001b[0m",
      "\u001b[1;31mNameError\u001b[0m                                 Traceback (most recent call last)",
      "Input \u001b[1;32mIn [2]\u001b[0m, in \u001b[0;36m<cell line: 5>\u001b[1;34m()\u001b[0m\n\u001b[0;32m      3\u001b[0m \u001b[38;5;28mprint\u001b[39m(\u001b[38;5;124m\"\u001b[39m\u001b[38;5;124mThis is a dice stimulator\u001b[39m\u001b[38;5;124m\"\u001b[39m)\n\u001b[0;32m      4\u001b[0m x \u001b[38;5;241m=\u001b[39m \u001b[38;5;124m\"\u001b[39m\u001b[38;5;124mabcdefghijklmnopqrstuvwxyz\u001b[39m\u001b[38;5;124m\"\u001b[39m\n\u001b[1;32m----> 5\u001b[0m \u001b[38;5;28;01mwhile\u001b[39;00m \u001b[43mr\u001b[49m \u001b[38;5;129;01min\u001b[39;00m x:\n\u001b[0;32m      6\u001b[0m     number \u001b[38;5;241m=\u001b[39m random\u001b[38;5;241m.\u001b[39mrandint(\u001b[38;5;241m1\u001b[39m,\u001b[38;5;241m6\u001b[39m)\n\u001b[0;32m      8\u001b[0m     \u001b[38;5;28;01mif\u001b[39;00m number \u001b[38;5;241m==\u001b[39m \u001b[38;5;241m1\u001b[39m:\n",
      "\u001b[1;31mNameError\u001b[0m: name 'r' is not defined"
     ]
    }
   ],
   "source": [
    "import random\n",
    "\n",
    "print(\"This is a dice stimulator\")\n",
    "x = \"abcdefghijklmnopqrstuvwxyz\"\n",
    "while r in x:\n",
    "    number = random.randint(1,6)\n",
    "\n",
    "    if number == 1:\n",
    "        print(\"===========\")\n",
    "        print(\"|         |\")\n",
    "        print(\"|    O    |\")\n",
    "        print(\"|         |\")\n",
    "        print(\"===========\")\n",
    "\n",
    "    if number == 2:\n",
    "        print(\"===========\")\n",
    "        print(\"|         |\")\n",
    "        print(\"| O     O |\")\n",
    "        print(\"|         |\")\n",
    "        print(\"===========\")\n",
    "\n",
    "    if number == 3:\n",
    "        print(\"===========\")\n",
    "        print(\"|    O    |\")\n",
    "        print(\"|    O    |\")\n",
    "        print(\"|    O    |\")\n",
    "        print(\"===========\")\n",
    "        \n",
    "    if number == 4:\n",
    "        print(\"===========\")\n",
    "        print(\"| O     O |\")\n",
    "        print(\"|         |\")\n",
    "        print(\"| O     O |\")\n",
    "        print(\"===========\")\n",
    "        \n",
    "    if number == 5:\n",
    "        print(\"===========\")\n",
    "        print(\"| O     O |\")\n",
    "        print(\"|    O    |\")\n",
    "        print(\"| O     O |\")\n",
    "        print(\"===========\")\n",
    "        \n",
    "    if number == 6:\n",
    "        print(\"===========\")\n",
    "        print(\"| O     O |\")\n",
    "        print(\"| O     O |\")\n",
    "        print(\"| O     O |\")\n",
    "        print(\"===========\")\n",
    "    \n",
    "    r =  input(\"Press any key to roll again \")"
   ]
  },
  {
   "cell_type": "code",
   "execution_count": 1,
   "id": "ea745ef5",
   "metadata": {},
   "outputs": [
    {
     "name": "stdout",
     "output_type": "stream",
     "text": [
      "This is a dice stimulator\n"
     ]
    },
    {
     "ename": "NameError",
     "evalue": "name 'r' is not defined",
     "output_type": "error",
     "traceback": [
      "\u001b[1;31m---------------------------------------------------------------------------\u001b[0m",
      "\u001b[1;31mNameError\u001b[0m                                 Traceback (most recent call last)",
      "Input \u001b[1;32mIn [1]\u001b[0m, in \u001b[0;36m<cell line: 5>\u001b[1;34m()\u001b[0m\n\u001b[0;32m      3\u001b[0m \u001b[38;5;28mprint\u001b[39m(\u001b[38;5;124m\"\u001b[39m\u001b[38;5;124mThis is a dice stimulator\u001b[39m\u001b[38;5;124m\"\u001b[39m)\n\u001b[0;32m      4\u001b[0m x \u001b[38;5;241m=\u001b[39m \u001b[38;5;124m\"\u001b[39m\u001b[38;5;124mabcdefghijklmnopqrstuvwxyz\u001b[39m\u001b[38;5;124m\"\u001b[39m\n\u001b[1;32m----> 5\u001b[0m \u001b[38;5;28;01mwhile\u001b[39;00m \u001b[43mr\u001b[49m \u001b[38;5;129;01min\u001b[39;00m x:\n\u001b[0;32m      6\u001b[0m     number \u001b[38;5;241m=\u001b[39m random\u001b[38;5;241m.\u001b[39mrandint(\u001b[38;5;241m1\u001b[39m,\u001b[38;5;241m6\u001b[39m)\n\u001b[0;32m      8\u001b[0m     \u001b[38;5;28;01mif\u001b[39;00m number \u001b[38;5;241m==\u001b[39m \u001b[38;5;241m1\u001b[39m:\n",
      "\u001b[1;31mNameError\u001b[0m: name 'r' is not defined"
     ]
    }
   ],
   "source": [
    "import random\n",
    "\n",
    "print(\"This is a dice stimulator\")\n",
    "x = \"abcdefghijklmnopqrstuvwxyz\"\n",
    "while r in x:\n",
    "    number = random.randint(1,6)\n",
    "\n",
    "    if number == 1:\n",
    "        print(\"===========\")\n",
    "        print(\"|         |\")\n",
    "        print(\"|    O    |\")\n",
    "        print(\"|         |\")\n",
    "        print(\"===========\")\n",
    "\n",
    "    if number == 2:\n",
    "        print(\"===========\")\n",
    "        print(\"|         |\")\n",
    "        print(\"| O     O |\")\n",
    "        print(\"|         |\")\n",
    "        print(\"===========\")\n",
    "\n",
    "    if number == 3:\n",
    "        print(\"===========\")\n",
    "        print(\"|    O    |\")\n",
    "        print(\"|    O    |\")\n",
    "        print(\"|    O    |\")\n",
    "        print(\"===========\")\n",
    "        \n",
    "    if number == 4:\n",
    "        print(\"===========\")\n",
    "        print(\"| O     O |\")\n",
    "        print(\"|         |\")\n",
    "        print(\"| O     O |\")\n",
    "        print(\"===========\")\n",
    "        \n",
    "    if number == 5:\n",
    "        print(\"===========\")\n",
    "        print(\"| O     O |\")\n",
    "        print(\"|    O    |\")\n",
    "        print(\"| O     O |\")\n",
    "        print(\"===========\")\n",
    "        \n",
    "    if number == 6:\n",
    "        print(\"===========\")\n",
    "        print(\"| O     O |\")\n",
    "        print(\"| O     O |\")\n",
    "        print(\"| O     O |\")\n",
    "        print(\"===========\")\n",
    "    \n",
    "    r =  input(\"Press any key to roll again \")"
   ]
  },
  {
   "cell_type": "code",
   "execution_count": null,
   "id": "1a1ece6b",
   "metadata": {},
   "outputs": [],
   "source": []
  }
 ],
 "metadata": {
  "kernelspec": {
   "display_name": "Python 3 (ipykernel)",
   "language": "python",
   "name": "python3"
  },
  "language_info": {
   "codemirror_mode": {
    "name": "ipython",
    "version": 3
   },
   "file_extension": ".py",
   "mimetype": "text/x-python",
   "name": "python",
   "nbconvert_exporter": "python",
   "pygments_lexer": "ipython3",
   "version": "3.9.12"
  }
 },
 "nbformat": 4,
 "nbformat_minor": 5
}
