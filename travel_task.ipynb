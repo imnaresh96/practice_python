{
 "cells": [
  {
   "cell_type": "code",
   "execution_count": 1,
   "id": "99629eca",
   "metadata": {},
   "outputs": [
    {
     "name": "stdout",
     "output_type": "stream",
     "text": [
      "Enter Your Email: naresh@gmail.com\n",
      "Enter your Password: 123\n",
      "Enter Password Again: 123\n",
      "Register Successfully\n"
     ]
    }
   ],
   "source": [
    "email=input(\"Enter Your Email: \")\n",
    "password=input('Enter your Password: ')\n",
    "confirm_password=input('Enter Password Again: ')\n",
    "if password == confirm_password:\n",
    "    print('Register Successfully')\n",
    "else:\n",
    "    print('password & confirm password not match')\n",
    "    print('go for register process again')"
   ]
  },
  {
   "cell_type": "code",
   "execution_count": 3,
   "id": "86aa74cc",
   "metadata": {},
   "outputs": [
    {
     "name": "stdout",
     "output_type": "stream",
     "text": [
      "Enter Your Email: naresh@gmail.com\n",
      "Enter Your Password256\n",
      "Wrong Password\n"
     ]
    }
   ],
   "source": [
    "\n",
    "login_email=input('Enter Your Email: ')\n",
    "if email==login_email:\n",
    "    login_password=input('Enter Your Password')\n",
    "    if password==login_password:\n",
    "        print('Account Access Success')\n",
    "    else:\n",
    "        print('Wrong Password')\n",
    "else:\n",
    "    print('Email Not Register')"
   ]
  },
  {
   "cell_type": "code",
   "execution_count": null,
   "id": "b6ae74af",
   "metadata": {},
   "outputs": [],
   "source": []
  }
 ],
 "metadata": {
  "kernelspec": {
   "display_name": "Python 3 (ipykernel)",
   "language": "python",
   "name": "python3"
  },
  "language_info": {
   "codemirror_mode": {
    "name": "ipython",
    "version": 3
   },
   "file_extension": ".py",
   "mimetype": "text/x-python",
   "name": "python",
   "nbconvert_exporter": "python",
   "pygments_lexer": "ipython3",
   "version": "3.9.12"
  }
 },
 "nbformat": 4,
 "nbformat_minor": 5
}
