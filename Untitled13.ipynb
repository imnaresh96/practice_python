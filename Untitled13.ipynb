{
 "cells": [
  {
   "cell_type": "code",
   "execution_count": 6,
   "id": "2806bd21",
   "metadata": {},
   "outputs": [
    {
     "ename": "NameError",
     "evalue": "name 'new_elements' is not defined",
     "output_type": "error",
     "traceback": [
      "\u001b[1;31m---------------------------------------------------------------------------\u001b[0m",
      "\u001b[1;31mNameError\u001b[0m                                 Traceback (most recent call last)",
      "Input \u001b[1;32mIn [6]\u001b[0m, in \u001b[0;36m<cell line: 6>\u001b[1;34m()\u001b[0m\n\u001b[0;32m     33\u001b[0m         elements1 \u001b[38;5;241m=\u001b[39m elements1 \u001b[38;5;241m+\u001b[39m new_elements[:\u001b[38;5;241m3\u001b[39m]\n\u001b[0;32m     35\u001b[0m flag \u001b[38;5;241m=\u001b[39m \u001b[38;5;28;01mFalse\u001b[39;00m\n\u001b[1;32m---> 37\u001b[0m \u001b[38;5;28;01mif\u001b[39;00m \u001b[38;5;28mlen\u001b[39m(\u001b[43mnew_elements\u001b[49m) \u001b[38;5;241m>\u001b[39m \u001b[38;5;241m5\u001b[39m:\n\u001b[0;32m     40\u001b[0m     chart_style \u001b[38;5;241m=\u001b[39m TableStyle([(\u001b[38;5;124m'\u001b[39m\u001b[38;5;124mALIGN\u001b[39m\u001b[38;5;124m'\u001b[39m, (\u001b[38;5;241m0\u001b[39m, \u001b[38;5;241m1\u001b[39m), (\u001b[38;5;241m-\u001b[39m\u001b[38;5;241m1\u001b[39m, \u001b[38;5;241m-\u001b[39m\u001b[38;5;241m1\u001b[39m), \u001b[38;5;124m'\u001b[39m\u001b[38;5;124mCENTER\u001b[39m\u001b[38;5;124m'\u001b[39m),\n\u001b[0;32m     41\u001b[0m                               (\u001b[38;5;124m'\u001b[39m\u001b[38;5;124mVALIGN\u001b[39m\u001b[38;5;124m'\u001b[39m, (\u001b[38;5;241m0\u001b[39m, \u001b[38;5;241m0\u001b[39m), (\u001b[38;5;241m-\u001b[39m\u001b[38;5;241m1\u001b[39m, \u001b[38;5;241m-\u001b[39m\u001b[38;5;241m1\u001b[39m), \u001b[38;5;124m'\u001b[39m\u001b[38;5;124mCENTER\u001b[39m\u001b[38;5;124m'\u001b[39m)])\n\u001b[0;32m     43\u001b[0m     elements1\u001b[38;5;241m.\u001b[39mappend(Table([new_elements[\u001b[38;5;241m3\u001b[39m:\u001b[38;5;241m5\u001b[39m]],\n\u001b[0;32m     44\u001b[0m                            colWidths\u001b[38;5;241m=\u001b[39m[\u001b[38;5;241m3.3\u001b[39m \u001b[38;5;241m*\u001b[39m inch, \u001b[38;5;241m3.3\u001b[39m \u001b[38;5;241m*\u001b[39m inch, \u001b[38;5;241m3.3\u001b[39m \u001b[38;5;241m*\u001b[39m inch],\n\u001b[0;32m     45\u001b[0m                            rowHeights\u001b[38;5;241m=\u001b[39m[\u001b[38;5;241m2.5\u001b[39m \u001b[38;5;241m*\u001b[39m inch], style\u001b[38;5;241m=\u001b[39mchart_style))\n",
      "\u001b[1;31mNameError\u001b[0m: name 'new_elements' is not defined"
     ]
    }
   ],
   "source": [
    "# data = request.get_json()\n",
    "\n",
    "count = 0\n",
    "dict_of_df = {}\n",
    "report_template_type =1\n",
    "if report_template_type == 1:\n",
    "\n",
    "\n",
    "    elements1 = []\n",
    "    elements = []\n",
    "    keys = dict_of_df.keys()\n",
    "\n",
    "    i = 0\n",
    "    out_elements = []\n",
    "\n",
    "    table_list1 = []\n",
    "\n",
    "    for key in keys:\n",
    "\n",
    "        df = dict_of_df[key]\n",
    "        df_ = df\n",
    "        if df_.empty:\n",
    "            continue\n",
    "        else:\n",
    "            chart_title = df_.at[0, 'Chart_Tittle']\n",
    "\n",
    "            list_of_elements, table_list = main(df_, elements, logo_path, report_header, i, chart_title)\n",
    "            if table_list:\n",
    "                table_list1 = table_list1 + table_list\n",
    "\n",
    "            new_elements = out_elements + list_of_elements\n",
    "            i += 1\n",
    "            elements1 = elements1 + new_elements[:3]\n",
    "\n",
    "    flag = False\n",
    "\n",
    "    if len(new_elements) > 5:\n",
    "\n",
    "\n",
    "        chart_style = TableStyle([('ALIGN', (0, 1), (-1, -1), 'CENTER'),\n",
    "                                  ('VALIGN', (0, 0), (-1, -1), 'CENTER')])\n",
    "\n",
    "        elements1.append(Table([new_elements[3:5]],\n",
    "                               colWidths=[3.3 * inch, 3.3 * inch, 3.3 * inch],\n",
    "                               rowHeights=[2.5 * inch], style=chart_style))\n",
    "        elements1.append(Spacer(2, 0.8 * inch))\n",
    "\n",
    "        chart_style = TableStyle([('ALIGN', (0, 1), (-1, -1), 'CENTER'),\n",
    "                                  ('VALIGN', (0, 0), (-1, -1), 'CENTER')])\n",
    "\n",
    "        elements1.append(Table([new_elements[5:]],\n",
    "                               colWidths=[3.3 * inch, 3.3 * inch, 3.3 * inch],\n",
    "                               rowHeights=[2.5 * inch], style=chart_style))\n",
    "        flag = True\n",
    "\n",
    "    if len(new_elements) <= 5 and len(new_elements) > 3:\n",
    "        #\n",
    "\n",
    "        chart_style = TableStyle([('ALIGN', (0, 0), (-1, -1), 'CENTER'),\n",
    "                                  ('VALIGN', (0, 0), (-1, -1), 'CENTER')])\n",
    "\n",
    "        elements1.append(Table([new_elements[3:5]],\n",
    "                               colWidths=[3 * inch, 3.5 * inch],\n",
    "                               rowHeights=[2.5 * inch], style=chart_style))\n",
    "        flag = True\n",
    "    if flag:\n",
    "        elements1.append(Spacer(0, 0.5 * inch))\n",
    "    if table_list1[0]:\n",
    "        for t in range(len(table_list1)):\n",
    "            new_elements.append(table_list1[t])\n",
    "            new_elements.append(Spacer(2, 0.20 * inch))\n",
    "\n",
    "    res = build_doc(new_elements, save_location)\n",
    "    elements1 = []\n"
   ]
  },
  {
   "cell_type": "code",
   "execution_count": 1,
   "id": "c0dce579",
   "metadata": {},
   "outputs": [
    {
     "ename": "ModuleNotFoundError",
     "evalue": "No module named 'tenable'",
     "output_type": "error",
     "traceback": [
      "\u001b[1;31m---------------------------------------------------------------------------\u001b[0m",
      "\u001b[1;31mModuleNotFoundError\u001b[0m                       Traceback (most recent call last)",
      "Input \u001b[1;32mIn [1]\u001b[0m, in \u001b[0;36m<cell line: 4>\u001b[1;34m()\u001b[0m\n\u001b[0;32m      2\u001b[0m \u001b[38;5;28;01mimport\u001b[39;00m \u001b[38;5;21;01mrequests\u001b[39;00m\n\u001b[0;32m      3\u001b[0m \u001b[38;5;28;01mimport\u001b[39;00m \u001b[38;5;21;01mlogging\u001b[39;00m\n\u001b[1;32m----> 4\u001b[0m \u001b[38;5;28;01mfrom\u001b[39;00m \u001b[38;5;21;01mtenable\u001b[39;00m\u001b[38;5;21;01m.\u001b[39;00m\u001b[38;5;21;01msc\u001b[39;00m \u001b[38;5;28;01mimport\u001b[39;00m TenableSC\n\u001b[0;32m      6\u001b[0m \u001b[38;5;28;01mdef\u001b[39;00m \u001b[38;5;21mget_auth_token\u001b[39m():\n\u001b[0;32m      7\u001b[0m     logging\u001b[38;5;241m.\u001b[39minfo(\u001b[38;5;124m\"\u001b[39m\u001b[38;5;124mStarted, executing request to get token in S-MAX...\u001b[39m\u001b[38;5;124m\"\u001b[39m)\n",
      "\u001b[1;31mModuleNotFoundError\u001b[0m: No module named 'tenable'"
     ]
    }
   ],
   "source": [
    "import json\n",
    "import requests\n",
    "import logging\n",
    "from tenable.sc import TenableSC\n",
    "\n",
    "def get_auth_token():\n",
    "    logging.info(\"Started, executing request to get token in S-MAX...\")\n",
    "    headers = {\n",
    "        \"Accept\": \"application/json\",\n",
    "        \"Content-Type\": \"application/json\"\n",
    "    }\n",
    "    url = \"https://example.com/auth/authentication-endpoint/authenticate/login?TENANTID=736268981\"\n",
    "    data = {\n",
    "        \"login\": \"UserName\",\n",
    "        \"password\": \"password\"\n",
    "    }\n",
    "    response = requests.post(url, headers=headers, json=data, verify=False)\n",
    "    result = response.text\n",
    "    if result:\n",
    "        return result\n",
    "    else:\n",
    "        logging.info(\"Failed, executing request to get token in S-MAX...\")\n",
    "        return None\n",
    "        \n",
    "def create_record(pluginname,severity,event_starttime,event_endtime,description,ip):\n",
    "    d=get_auth_token()\n",
    "    headers = {\n",
    "        \"Accept\": \"application/json\",\n",
    "        \"Content-Type\": \"application/json\",\n",
    "        \"Cookie\": f\"LWSSO_COOKIE_KEY={d};TENANTID=736268981\"\n",
    "    }\n",
    "    url = f\"https://example.com/rest/736268981/ces\"\n",
    "    properties = {\n",
    "        \"DisplayLabel\":pluginname,\n",
    "        \"RequestedByPerson\": 17252,\n",
    "        \"RequestsOffering\": 11470,\n",
    "        \"Priority\": severity+\"Priority\",\n",
    "        \"Description\": description,\n",
    "        \"Recommendation_c\": None,\n",
    "        \"ServiceDeskGroup\": 11586,\n",
    "        \"DeviceProduct_c\": None,\n",
    "        \"DeviceVendor_c\": None,\n",
    "        \"OwnedByPerson\": 17252,\n",
    "        \"AlertDateandTime_c\": event_endtime,\n",
    "        \"AlertID_c\": None,\n",
    "        \"EventName_c\": None,\n",
    "        \"TotalEventCount_c\": None,\n",
    "        \"EventStartTime_c\":event_starttime ,\n",
    "        \"EventEndTime_c\":event_endtime ,\n",
    "        \"DeviceEventClassID_c\": None,\n",
    "        \"DeviceAddress_c\": None,\n",
    "        \"DeviceHostname_c\": None,\n",
    "        \"SourceAddress_c\": ip,\n",
    "        \"SourceHostmame_c\": None,\n",
    "        \"SourceUsername_c\": None,\n",
    "        \"DestinationAddress_c\": None,\n",
    "        \"DestinationHostname_c\": None,\n",
    "        \"DestinationUsername_c\": None,\n",
    "        \"entity_type\":None,\n",
    "        \"RequestByPerson\":None,\n",
    "        \"EntityModel\":None,\n",
    "        \"Urgency\":None,\n",
    "        \"RegisteredByLocation\":None,\n",
    "        \"IssueType_c\":None,\n",
    "        \"RegisteredForActualService\":None,\n",
    "        \"AttackType_c\":None,\n",
    "        \"AttemptType_c\":None,\n",
    "        \"TimeOfAlert_c\":event_endtime,\n",
    "        \"IsocValidation_c\":None,\n",
    "        \"RSOCValidation_c\":None\n",
    "    }\n",
    "    ext_properties = {\n",
    "        \"ExternalSystem\": \"SMX\",\n",
    "        \"Operation\": \"Create\",\n",
    "        \"ExternalEntityType\": \"Incident\",\n",
    "        \"ExternalStatus\": \"Pending Vendor\"\n",
    "    }\n",
    "    data = {\n",
    "        \"entity_type\": \"Request\",\n",
    "        \"properties\": properties,\n",
    "        \"ext_properties\": ext_properties\n",
    "    }\n",
    "    entities = [data]\n",
    "    body = {\n",
    "        \"entities\": entities,\n",
    "        \"operation\": \"CREATE\"\n",
    "    }\n",
    "    response = requests.post(url, headers=headers, json=body, verify=False)\n",
    "    response_data = json.loads(response.text)\n",
    "    status = response_data[\"meta\"][\"completion_status\"]\n",
    "    if status == \"OK\":\n",
    "        response_id = response_data[\"entities\"][0][\"entity\"][\"properties\"][\"Id\"]\n",
    "        logging.info(\"Ended, executing request to create incident in S-MAX...\")\n",
    "        return response_id\n",
    "    else:\n",
    "        logging.info(\"Failed, executing request to create incident in S-MAX...\")\n",
    "        return None\n",
    "\n",
    "def get_velnerability_data():\n",
    "    all_data=[]\n",
    "    sc = TenableSC(\"Ip\", username='UserName', password='Password')\n",
    "    for vuln in sc.analysis.vulns():\n",
    "        if vuln['severity']['name']==\"High\" or vuln['severity']['name']==\"Critical\":\n",
    "            pluginName=vuln['ip']+\" \"+vuln['pluginName']\n",
    "            severity=vuln['severity']['name']\n",
    "            alert_dateandtime=vuln['lastSeen']\n",
    "            event_endtime=vuln['lastSeen']\n",
    "            event_starttime=vuln['firstSeen']\n",
    "            description=\"Synopsis=\"+vuln['synopsis']+\"\\n\"+\"description=\"+vuln['description']+\"\\n\"+\"Solution=\"+vuln['solution']\n",
    "            ip=vuln['ip']\n",
    "            ticket_number=create_record(pluginName,severity,event_starttime,event_endtime,description,ip)\n",
    "            all_data.append(ticket_number)\n",
    "    return all_data\n"
   ]
  },
  {
   "cell_type": "code",
   "execution_count": 2,
   "id": "c09ec83a",
   "metadata": {},
   "outputs": [
    {
     "name": "stdout",
     "output_type": "stream",
     "text": [
      "Note: you may need to restart the kernel to use updated packages.\n"
     ]
    },
    {
     "name": "stderr",
     "output_type": "stream",
     "text": [
      "ERROR: Could not find a version that satisfies the requirement tenable.sc (from versions: none)\n",
      "ERROR: No matching distribution found for tenable.sc\n"
     ]
    }
   ],
   "source": [
    "pip install tenable.sc"
   ]
  },
  {
   "cell_type": "code",
   "execution_count": 3,
   "id": "e0f34147",
   "metadata": {},
   "outputs": [
    {
     "name": "stdout",
     "output_type": "stream",
     "text": [
      "Requirement already satisfied: requests in c:\\users\\admin\\anaconda3\\lib\\site-packages (2.27.1)\n",
      "Requirement already satisfied: charset-normalizer~=2.0.0 in c:\\users\\admin\\anaconda3\\lib\\site-packages (from requests) (2.0.4)\n",
      "Requirement already satisfied: idna<4,>=2.5 in c:\\users\\admin\\anaconda3\\lib\\site-packages (from requests) (3.3)\n",
      "Requirement already satisfied: urllib3<1.27,>=1.21.1 in c:\\users\\admin\\anaconda3\\lib\\site-packages (from requests) (1.26.9)\n",
      "Requirement already satisfied: certifi>=2017.4.17 in c:\\users\\admin\\anaconda3\\lib\\site-packages (from requests) (2021.10.8)\n",
      "Note: you may need to restart the kernel to use updated packages.\n"
     ]
    }
   ],
   "source": [
    "pip install requests\n"
   ]
  },
  {
   "cell_type": "code",
   "execution_count": 4,
   "id": "f2594ab9",
   "metadata": {},
   "outputs": [
    {
     "name": "stdout",
     "output_type": "stream",
     "text": [
      "Collecting tenable-io\n",
      "  Downloading tenable_io-0.0.1.tar.gz (5.4 kB)\n",
      "  Installing build dependencies: started\n",
      "  Installing build dependencies: finished with status 'done'\n",
      "  Getting requirements to build wheel: started\n",
      "  Getting requirements to build wheel: finished with status 'done'\n",
      "    Preparing wheel metadata: started\n",
      "    Preparing wheel metadata: finished with status 'done'\n",
      "Requirement already satisfied: requests in c:\\users\\admin\\anaconda3\\lib\\site-packages (from tenable-io) (2.27.1)\n",
      "Collecting peppercorn\n",
      "  Downloading peppercorn-0.6-py3-none-any.whl (4.8 kB)\n",
      "Requirement already satisfied: certifi>=2017.4.17 in c:\\users\\admin\\anaconda3\\lib\\site-packages (from requests->tenable-io) (2021.10.8)\n",
      "Requirement already satisfied: idna<4,>=2.5 in c:\\users\\admin\\anaconda3\\lib\\site-packages (from requests->tenable-io) (3.3)\n",
      "Requirement already satisfied: urllib3<1.27,>=1.21.1 in c:\\users\\admin\\anaconda3\\lib\\site-packages (from requests->tenable-io) (1.26.9)\n",
      "Requirement already satisfied: charset-normalizer~=2.0.0 in c:\\users\\admin\\anaconda3\\lib\\site-packages (from requests->tenable-io) (2.0.4)\n",
      "Building wheels for collected packages: tenable-io\n",
      "  Building wheel for tenable-io (PEP 517): started\n",
      "  Building wheel for tenable-io (PEP 517): finished with status 'done'\n",
      "  Created wheel for tenable-io: filename=tenable_io-0.0.1-py3-none-any.whl size=2703 sha256=d2a292efc767b76b03c2980499aa49c3e8fecb36f320510065bdb508817a51af\n",
      "  Stored in directory: c:\\users\\admin\\appdata\\local\\pip\\cache\\wheels\\0f\\a9\\5d\\3c0e7e17d65b4f92d8cce58531f5daba01b83ef0d8679a4e6b\n",
      "Successfully built tenable-io\n",
      "Installing collected packages: peppercorn, tenable-io\n",
      "Successfully installed peppercorn-0.6 tenable-io-0.0.1\n",
      "Note: you may need to restart the kernel to use updated packages.\n"
     ]
    }
   ],
   "source": [
    "pip install tenable-io"
   ]
  },
  {
   "cell_type": "code",
   "execution_count": 6,
   "id": "0579f56e",
   "metadata": {},
   "outputs": [
    {
     "name": "stdout",
     "output_type": "stream",
     "text": [
      "Note: you may need to restart the kernel to use updated packages.\n"
     ]
    },
    {
     "name": "stderr",
     "output_type": "stream",
     "text": [
      "ERROR: Could not find a version that satisfies the requirement Tenable.SC (from versions: none)\n",
      "ERROR: No matching distribution found for Tenable.SC\n"
     ]
    }
   ],
   "source": [
    "pip install Tenable.SC"
   ]
  },
  {
   "cell_type": "code",
   "execution_count": 9,
   "id": "bca3de4f",
   "metadata": {},
   "outputs": [
    {
     "ename": "ModuleNotFoundError",
     "evalue": "No module named 'tenable'",
     "output_type": "error",
     "traceback": [
      "\u001b[1;31m---------------------------------------------------------------------------\u001b[0m",
      "\u001b[1;31mModuleNotFoundError\u001b[0m                       Traceback (most recent call last)",
      "Input \u001b[1;32mIn [9]\u001b[0m, in \u001b[0;36m<cell line: 4>\u001b[1;34m()\u001b[0m\n\u001b[0;32m      2\u001b[0m \u001b[38;5;28;01mimport\u001b[39;00m \u001b[38;5;21;01mrequests\u001b[39;00m\n\u001b[0;32m      3\u001b[0m \u001b[38;5;28;01mimport\u001b[39;00m \u001b[38;5;21;01mlogging\u001b[39;00m\n\u001b[1;32m----> 4\u001b[0m \u001b[38;5;28;01mfrom\u001b[39;00m \u001b[38;5;21;01mtenable\u001b[39;00m\u001b[38;5;21;01m.\u001b[39;00m\u001b[38;5;21;01msc\u001b[39;00m \u001b[38;5;28;01mimport\u001b[39;00m TenableSC\n",
      "\u001b[1;31mModuleNotFoundError\u001b[0m: No module named 'tenable'"
     ]
    }
   ],
   "source": [
    "import json\n",
    "import requests\n",
    "import logging\n",
    "from tenable.sc import TenableSC\n"
   ]
  },
  {
   "cell_type": "code",
   "execution_count": 21,
   "id": "572745d9",
   "metadata": {},
   "outputs": [],
   "source": [
    "def get_auth_token():\n",
    "    logging.info(\"Started, executing request to get token in S-MAX...\")\n",
    "    headers = {\n",
    "        \"Accept\": \"application/json\",\n",
    "        \"Content-Type\": \"application/json\"\n",
    "    }\n",
    "    url = \"https://support.sattrix.com/auth/authentication-endpoint/authenticate/login?TENANTID=736268981\"\n",
    "    data = {\n",
    "        \"login\": \"soar.automation\",\n",
    "        \"password\": \"Sattrix@123\"\n",
    "    }\n",
    "    response = requests.post(url, headers=headers, json=data, verify=False)\n",
    "    result = response.text\n",
    "    if result:\n",
    "        return result\n",
    "    else:\n",
    "        logging.info(\"Failed, executing request to get token in S-MAX...\")\n",
    "        return None"
   ]
  },
  {
   "cell_type": "code",
   "execution_count": 22,
   "id": "cf39c0fd",
   "metadata": {},
   "outputs": [
    {
     "name": "stderr",
     "output_type": "stream",
     "text": [
      "C:\\Users\\Admin\\anaconda3\\lib\\site-packages\\urllib3\\connectionpool.py:1043: InsecureRequestWarning: Unverified HTTPS request is being made to host 'support.sattrix.com'. Adding certificate verification is strongly advised. See: https://urllib3.readthedocs.io/en/1.26.x/advanced-usage.html#ssl-warnings\n",
      "  warnings.warn(\n"
     ]
    },
    {
     "data": {
      "text/plain": [
       "'jIj_vVJvRqcWi2-Y2y49mq5cfvWOhUqobz1Of27ABxlbuCeTlCNZ3FS3_TmgzasPshIhVRF6JObs2vyjGVrIvY2GVCX5Ng-bhvnBbm7zLc5HlCub5csbaSyWDcEKZdNJfKm39siOVOE3x2_9pTGxOkQKkR-2UoLKx3gJDr_WU-MfQfIyn6y26lLvtogtm4m8ntWw2yxTKWtRCdEJj9HwdTIy8m0QguhFgxZ8ZjV_H4495oQ3BF5Vx7FLpFL1yBdNyKHdfKeMEzAYUyYl18v7Y6hPCCDcz_xBnO7iOza3l9-dGdWsC_QlQLNV8g7t8tf-MBIvsE2tMWGpZ4m3xnXlMBmk_a4ipekFminoa3-HQ4P2jZKVXOxTVjDnANC3sjf20AA_DycmmCISvkvwVHloPkXvKKx5zioCrQxinE0YHToBhCHmj9JDup26Z-KwsED2w18VIG_2FsKc_7yD98P_KqNra7j_edFemdUB7XXsCObY-URA0JQiUPtOqnLC413HHAMGWWv18TJ20SNMzTFegIP4MhxQgcxVxWviuVsnhALnDMlLDjo7ryKXt5Rb4Gt-0K89apqiG6mOFBaQ-_bz_HlI3CYr58Z4oPqAAC1O1jtkiFVBbSZHoP9B7x2NLu-VUcCY0OoPdjBErpus5UC9TKPYcqt16Tp1MQ_0ETdJ44KHj8_X2g6PIts8OOZAByC7peckEvFp-BCvgsRpX1kG5rOgTLItPTfwQ3gMtQJQlKWthI31QL_0q0XXJYv2wk_e9yKdnXyzwqU7ezBqtts-YE6gRz4JgGRA2F3bD3IygteQQcqv4rTwbLV8gEKGTs8APrO3-xL06F5mZKkXGL7bxbLMJHt_9XC88yOZtJw0pNfgwdZfLVhRO2VLVjBMIqyn9X5M-rVPSVSAYTXzFxq0H86AOO1AKr5aF5tXZzkQ9MCcUICoBBcUt9Yem3BLEMiZNTrSGbVGRBCdw7jR6QitWa0SKecwCyPH4NrF7b21ZcGEkO3KbNgejWaQgvjDvDRbhIpCVbvkcdUCatkDTGchOvn-zRZubko2Px1WvkXzsPJKG-GLHtWF1w1wzjHO3RMl'"
      ]
     },
     "execution_count": 22,
     "metadata": {},
     "output_type": "execute_result"
    }
   ],
   "source": [
    "get_auth_token()"
   ]
  },
  {
   "cell_type": "code",
   "execution_count": 18,
   "id": "f352fdf0",
   "metadata": {},
   "outputs": [
    {
     "name": "stderr",
     "output_type": "stream",
     "text": [
      "C:\\Users\\Admin\\anaconda3\\lib\\site-packages\\urllib3\\connectionpool.py:1043: InsecureRequestWarning: Unverified HTTPS request is being made to host 'support.sattrix.com'. Adding certificate verification is strongly advised. See: https://urllib3.readthedocs.io/en/1.26.x/advanced-usage.html#ssl-warnings\n",
      "  warnings.warn(\n"
     ]
    }
   ],
   "source": [
    "logging.info(\"Started, executing request to get token in S-MAX...\")\n",
    "headers = {\n",
    "    \"Accept\": \"application/json\",\n",
    "    \"Content-Type\": \"application/json\"\n",
    "}\n",
    "url = \"https://support.sattrix.com/auth/authentication-endpoint/authenticate/login?TENANTID=736268981\"\n",
    "data = {\n",
    "    \"login\": \"soar.automation\",\n",
    "    \"password\": \"Sattrix@123\"\n",
    "}\n",
    "response = requests.post(url, headers=headers, json=data, verify=False)\n",
    "result = response.text"
   ]
  },
  {
   "cell_type": "code",
   "execution_count": 19,
   "id": "ea6f43f5",
   "metadata": {},
   "outputs": [
    {
     "data": {
      "text/plain": [
       "200"
      ]
     },
     "execution_count": 19,
     "metadata": {},
     "output_type": "execute_result"
    }
   ],
   "source": [
    "response.status_code"
   ]
  },
  {
   "cell_type": "code",
   "execution_count": 23,
   "id": "56cf3e92",
   "metadata": {},
   "outputs": [],
   "source": [
    "def create_record(pluginname,severity,event_starttime,event_endtime,description,ip):\n",
    "    d=get_auth_token()\n",
    "    headers = {\n",
    "        \"Accept\": \"application/json\",\n",
    "        \"Content-Type\": \"application/json\",\n",
    "        \"Cookie\": f\"LWSSO_COOKIE_KEY={d};TENANTID=736268981\"\n",
    "    }\n",
    "    url = f\"https://support.sattrix.com/rest/736268981/ces\"\n",
    "    properties = {\n",
    "        \"DisplayLabel\":pluginname,\n",
    "        \"RequestedByPerson\": 17252,\n",
    "        \"RequestsOffering\": 11470,\n",
    "        \"Priority\": severity+\"Priority\",\n",
    "        \"Description\": description,\n",
    "        \"Recommendation_c\": None,\n",
    "        \"ServiceDeskGroup\": 11586,\n",
    "        \"DeviceProduct_c\": None,\n",
    "        \"DeviceVendor_c\": None,\n",
    "        \"OwnedByPerson\": 17252,\n",
    "        \"AlertDateandTime_c\": event_endtime,\n",
    "        \"AlertID_c\": None,\n",
    "        \"EventName_c\": None,\n",
    "        \"TotalEventCount_c\": None,\n",
    "        \"EventStartTime_c\":event_starttime ,\n",
    "        \"EventEndTime_c\":event_endtime ,\n",
    "        \"DeviceEventClassID_c\": None,\n",
    "        \"DeviceAddress_c\": None,\n",
    "        \"DeviceHostname_c\": None,\n",
    "        \"SourceAddress_c\": ip,\n",
    "        \"SourceHostmame_c\": None,\n",
    "        \"SourceUsername_c\": None,\n",
    "        \"DestinationAddress_c\": None,\n",
    "        \"DestinationHostname_c\": None,\n",
    "        \"DestinationUsername_c\": None,\n",
    "        \"entity_type\":None,\n",
    "        \"RequestByPerson\":None,\n",
    "        \"EntityModel\":None,\n",
    "        \"Urgency\":None,\n",
    "        \"RegisteredByLocation\":None,\n",
    "        \"IssueType_c\":None,\n",
    "        \"RegisteredForActualService\":None,\n",
    "        \"AttackType_c\":None,\n",
    "        \"AttemptType_c\":None,\n",
    "        \"TimeOfAlert_c\":event_endtime,\n",
    "        \"IsocValidation_c\":None,\n",
    "        \"RSOCValidation_c\":None\n",
    "    }\n",
    "    ext_properties = {\n",
    "        \"ExternalSystem\": \"SMX\",\n",
    "        \"Operation\": \"Create\",\n",
    "        \"ExternalEntityType\": \"Incident\",\n",
    "        \"ExternalStatus\": \"Pending Vendor\"\n",
    "    }\n",
    "    data = {\n",
    "        \"entity_type\": \"Request\",\n",
    "        \"properties\": properties,\n",
    "        \"ext_properties\": ext_properties\n",
    "    }\n",
    "    entities = [data]\n",
    "    body = {\n",
    "        \"entities\": entities,\n",
    "        \"operation\": \"CREATE\"\n",
    "    }\n",
    "    response = requests.post(url, headers=headers, json=body, verify=False)\n",
    "    response_data = json.loads(response.text)\n",
    "    status = response_data[\"meta\"][\"completion_status\"]\n",
    "    if status == \"OK\":\n",
    "        response_id = response_data[\"entities\"][0][\"entity\"][\"properties\"][\"Id\"]\n",
    "        logging.info(\"Ended, executing request to create incident in S-MAX...\")\n",
    "        return response_id\n",
    "    else:\n",
    "        logging.info(\"Failed, executing request to create incident in S-MAX...\")\n",
    "        return None\n"
   ]
  },
  {
   "cell_type": "code",
   "execution_count": 24,
   "id": "5ad1e438",
   "metadata": {},
   "outputs": [],
   "source": [
    "def get_velnerability_data():\n",
    "    all_data=[]\n",
    "    sc = TenableSC(\"192.168.20.72\", username='secmanagar', password='Sattrix@123')\n",
    "    for vuln in sc.analysis.vulns():\n",
    "        if vuln['severity']['name']==\"High\" or vuln['severity']['name']==\"Critical\":\n",
    "            pluginName=vuln['ip']+\" \"+vuln['pluginName']\n",
    "            severity=vuln['severity']['name']\n",
    "            alert_dateandtime=vuln['lastSeen']\n",
    "            event_endtime=vuln['lastSeen']\n",
    "            event_starttime=vuln['firstSeen']\n",
    "            description=\"Synopsis=\"+vuln['synopsis']+\"\\n\"+\"description=\"+vuln['description']+\"\\n\"+\"Solution=\"+vuln['solution']\n",
    "            ip=vuln['ip']\n",
    "            ticket_number=create_record(pluginName,severity,event_starttime,event_endtime,description,ip)\n",
    "            all_data.append(ticket_number)\n",
    "    return all_data\n"
   ]
  },
  {
   "cell_type": "code",
   "execution_count": 26,
   "id": "2d9f6422",
   "metadata": {},
   "outputs": [
    {
     "ename": "NameError",
     "evalue": "name 'TenableSC' is not defined",
     "output_type": "error",
     "traceback": [
      "\u001b[1;31m---------------------------------------------------------------------------\u001b[0m",
      "\u001b[1;31mNameError\u001b[0m                                 Traceback (most recent call last)",
      "Input \u001b[1;32mIn [26]\u001b[0m, in \u001b[0;36m<cell line: 1>\u001b[1;34m()\u001b[0m\n\u001b[1;32m----> 1\u001b[0m \u001b[43mget_velnerability_data\u001b[49m\u001b[43m(\u001b[49m\u001b[43m)\u001b[49m\n",
      "Input \u001b[1;32mIn [24]\u001b[0m, in \u001b[0;36mget_velnerability_data\u001b[1;34m()\u001b[0m\n\u001b[0;32m      1\u001b[0m \u001b[38;5;28;01mdef\u001b[39;00m \u001b[38;5;21mget_velnerability_data\u001b[39m():\n\u001b[0;32m      2\u001b[0m     all_data\u001b[38;5;241m=\u001b[39m[]\n\u001b[1;32m----> 3\u001b[0m     sc \u001b[38;5;241m=\u001b[39m \u001b[43mTenableSC\u001b[49m(\u001b[38;5;124m\"\u001b[39m\u001b[38;5;124m192.168.20.72\u001b[39m\u001b[38;5;124m\"\u001b[39m, username\u001b[38;5;241m=\u001b[39m\u001b[38;5;124m'\u001b[39m\u001b[38;5;124msecmanagar\u001b[39m\u001b[38;5;124m'\u001b[39m, password\u001b[38;5;241m=\u001b[39m\u001b[38;5;124m'\u001b[39m\u001b[38;5;124mSattrix@123\u001b[39m\u001b[38;5;124m'\u001b[39m)\n\u001b[0;32m      4\u001b[0m     \u001b[38;5;28;01mfor\u001b[39;00m vuln \u001b[38;5;129;01min\u001b[39;00m sc\u001b[38;5;241m.\u001b[39manalysis\u001b[38;5;241m.\u001b[39mvulns():\n\u001b[0;32m      5\u001b[0m         \u001b[38;5;28;01mif\u001b[39;00m vuln[\u001b[38;5;124m'\u001b[39m\u001b[38;5;124mseverity\u001b[39m\u001b[38;5;124m'\u001b[39m][\u001b[38;5;124m'\u001b[39m\u001b[38;5;124mname\u001b[39m\u001b[38;5;124m'\u001b[39m]\u001b[38;5;241m==\u001b[39m\u001b[38;5;124m\"\u001b[39m\u001b[38;5;124mHigh\u001b[39m\u001b[38;5;124m\"\u001b[39m \u001b[38;5;129;01mor\u001b[39;00m vuln[\u001b[38;5;124m'\u001b[39m\u001b[38;5;124mseverity\u001b[39m\u001b[38;5;124m'\u001b[39m][\u001b[38;5;124m'\u001b[39m\u001b[38;5;124mname\u001b[39m\u001b[38;5;124m'\u001b[39m]\u001b[38;5;241m==\u001b[39m\u001b[38;5;124m\"\u001b[39m\u001b[38;5;124mCritical\u001b[39m\u001b[38;5;124m\"\u001b[39m:\n",
      "\u001b[1;31mNameError\u001b[0m: name 'TenableSC' is not defined"
     ]
    }
   ],
   "source": [
    "get_velnerability_data()"
   ]
  },
  {
   "cell_type": "code",
   "execution_count": 27,
   "id": "925b4be2",
   "metadata": {},
   "outputs": [],
   "source": [
    "data_list = [\n",
    "    {'ip': '192.168.1.1', 'data': 'Data 1',},\n",
    "    {'ip': '192.168.1.2', 'data': 'Data 2'},\n",
    "    {'ip': '192.168.1.1', 'data': 'Data 3'},  # Duplicate IP\n",
    "    {'ip': '192.168.1.3', 'data': 'Data 4'},\n",
    "]"
   ]
  },
  {
   "cell_type": "code",
   "execution_count": 28,
   "id": "be7fbef7",
   "metadata": {},
   "outputs": [],
   "source": [
    "unique_ips = set()\n",
    "unique_data_list = []\n",
    "\n",
    "for item in data_list:\n",
    "    ip = item['ip']\n",
    "    if ip not in unique_ips:\n",
    "        unique_ips.add(ip)\n",
    "        unique_data_list.append(item)\n"
   ]
  },
  {
   "cell_type": "code",
   "execution_count": 29,
   "id": "dbd982fd",
   "metadata": {},
   "outputs": [
    {
     "name": "stdout",
     "output_type": "stream",
     "text": [
      "IP: 192.168.1.1, Data: Data 1\n",
      "IP: 192.168.1.2, Data: Data 2\n",
      "IP: 192.168.1.3, Data: Data 4\n"
     ]
    }
   ],
   "source": [
    "for item in unique_data_list:\n",
    "    print(f\"IP: {item['ip']}, Data: {item['data']}\")\n"
   ]
  },
  {
   "cell_type": "code",
   "execution_count": 30,
   "id": "11914a01",
   "metadata": {},
   "outputs": [],
   "source": [
    "data_list = [\n",
    "    {'ip': '192.168.1.1', 'data': ['Data 1','data3']},\n",
    "    {'ip': '192.168.1.2', 'data': 'Data 2'},\n",
    "    {'ip': '192.168.1.3', 'data': 'Data 4'},\n",
    "]"
   ]
  },
  {
   "cell_type": "code",
   "execution_count": 31,
   "id": "6c65dfcc",
   "metadata": {},
   "outputs": [
    {
     "name": "stdout",
     "output_type": "stream",
     "text": [
      "[{'ip': '192.168.1.1', 'data': ['Data 1', 'Data 3']}, {'ip': '192.168.1.2', 'data': 'Data 2'}, {'ip': '192.168.1.3', 'data': 'Data 4'}]\n"
     ]
    }
   ],
   "source": [
    "data_list = [\n",
    "    {'ip': '192.168.1.1', 'data': 'Data 1',},\n",
    "    {'ip': '192.168.1.2', 'data': 'Data 2'},\n",
    "    {'ip': '192.168.1.1', 'data': 'Data 3'},  # Duplicate IP\n",
    "    {'ip': '192.168.1.3', 'data': 'Data 4'},\n",
    "]\n",
    "\n",
    "# Ek khali dictionary banaye jisme unique IP addresses ke sath associated data rakhe jayenge.\n",
    "unique_data_dict = {}\n",
    "\n",
    "for item in data_list:\n",
    "    ip = item['ip']\n",
    "    data = item['data']\n",
    "    \n",
    "    # Agar IP address pahli baar dekha gaya hai, to use unique_data_dict mein add karen.\n",
    "    if ip not in unique_data_dict:\n",
    "        unique_data_dict[ip] = data\n",
    "    else:\n",
    "        # IP address pehli baar nahi dekha gaya hai, to data ko list mein convert karen (agar abhi tak list nahi hai) aur new data ko list mein append karen.\n",
    "        if not isinstance(unique_data_dict[ip], list):\n",
    "            unique_data_dict[ip] = [unique_data_dict[ip]]\n",
    "        unique_data_dict[ip].append(data)\n",
    "\n",
    "# Unique IP addresses ke sath associated data ko pradarshit karen.\n",
    "new_data_list = [{'ip': ip, 'data': data} if not isinstance(data, list) else {'ip': ip, 'data': data} for ip, data in unique_data_dict.items()]\n",
    "\n",
    "print(new_data_list)\n"
   ]
  },
  {
   "cell_type": "code",
   "execution_count": null,
   "id": "0327f11c",
   "metadata": {},
   "outputs": [],
   "source": []
  }
 ],
 "metadata": {
  "kernelspec": {
   "display_name": "Python 3 (ipykernel)",
   "language": "python",
   "name": "python3"
  },
  "language_info": {
   "codemirror_mode": {
    "name": "ipython",
    "version": 3
   },
   "file_extension": ".py",
   "mimetype": "text/x-python",
   "name": "python",
   "nbconvert_exporter": "python",
   "pygments_lexer": "ipython3",
   "version": "3.9.12"
  }
 },
 "nbformat": 4,
 "nbformat_minor": 5
}
