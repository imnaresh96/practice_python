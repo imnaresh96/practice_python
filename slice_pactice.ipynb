{
 "cells": [
  {
   "cell_type": "code",
   "execution_count": 1,
   "id": "8964bae9",
   "metadata": {},
   "outputs": [],
   "source": [
    "a='harry'"
   ]
  },
  {
   "cell_type": "code",
   "execution_count": 2,
   "id": "34b61a8e",
   "metadata": {},
   "outputs": [
    {
     "name": "stdout",
     "output_type": "stream",
     "text": [
      "arry\n"
     ]
    }
   ],
   "source": [
    "print(a[1:])"
   ]
  },
  {
   "cell_type": "code",
   "execution_count": 3,
   "id": "f4b1676f",
   "metadata": {},
   "outputs": [
    {
     "name": "stdout",
     "output_type": "stream",
     "text": [
      "harry\n"
     ]
    }
   ],
   "source": [
    "print(a[0:5])"
   ]
  },
  {
   "cell_type": "code",
   "execution_count": 6,
   "id": "e3d900d2",
   "metadata": {},
   "outputs": [
    {
     "name": "stdout",
     "output_type": "stream",
     "text": [
      "harr\n"
     ]
    }
   ],
   "source": [
    "print(a[:-1])"
   ]
  },
  {
   "cell_type": "code",
   "execution_count": 7,
   "id": "f1acec22",
   "metadata": {},
   "outputs": [
    {
     "name": "stdout",
     "output_type": "stream",
     "text": [
      "harry\n"
     ]
    }
   ],
   "source": [
    "print(a[:])"
   ]
  },
  {
   "cell_type": "code",
   "execution_count": 8,
   "id": "e00969e3",
   "metadata": {},
   "outputs": [],
   "source": [
    "a='code with harry bhaiya who teach python language on youtube'"
   ]
  },
  {
   "cell_type": "code",
   "execution_count": 9,
   "id": "bafa23bb",
   "metadata": {},
   "outputs": [
    {
     "data": {
      "text/plain": [
       "'Code with harry bhaiya who teach python language on youtube'"
      ]
     },
     "execution_count": 9,
     "metadata": {},
     "output_type": "execute_result"
    }
   ],
   "source": [
    "a.capitalize()"
   ]
  },
  {
   "cell_type": "code",
   "execution_count": 14,
   "id": "9b9731b5",
   "metadata": {},
   "outputs": [
    {
     "data": {
      "text/plain": [
       "0"
      ]
     },
     "execution_count": 14,
     "metadata": {},
     "output_type": "execute_result"
    }
   ],
   "source": [
    "a.count('x')"
   ]
  },
  {
   "cell_type": "code",
   "execution_count": 11,
   "id": "333d2ded",
   "metadata": {},
   "outputs": [
    {
     "data": {
      "text/plain": [
       "-1"
      ]
     },
     "execution_count": 11,
     "metadata": {},
     "output_type": "execute_result"
    }
   ],
   "source": [
    "a.find('k')"
   ]
  },
  {
   "cell_type": "code",
   "execution_count": 12,
   "id": "d794fcc8",
   "metadata": {},
   "outputs": [
    {
     "data": {
      "text/plain": [
       "40"
      ]
     },
     "execution_count": 12,
     "metadata": {},
     "output_type": "execute_result"
    }
   ],
   "source": [
    "a.find('l')"
   ]
  },
  {
   "cell_type": "code",
   "execution_count": 15,
   "id": "be01d4c5",
   "metadata": {},
   "outputs": [
    {
     "data": {
      "text/plain": [
       "40"
      ]
     },
     "execution_count": 15,
     "metadata": {},
     "output_type": "execute_result"
    }
   ],
   "source": [
    "a.rfind('language')"
   ]
  },
  {
   "cell_type": "code",
   "execution_count": 17,
   "id": "96ee6503",
   "metadata": {},
   "outputs": [
    {
     "data": {
      "text/plain": [
       "True"
      ]
     },
     "execution_count": 17,
     "metadata": {},
     "output_type": "execute_result"
    }
   ],
   "source": [
    "a.endswith('youtube')"
   ]
  },
  {
   "cell_type": "code",
   "execution_count": 18,
   "id": "5f5c900c",
   "metadata": {},
   "outputs": [
    {
     "data": {
      "text/plain": [
       "'code with harry  who teach python language on youtube'"
      ]
     },
     "execution_count": 18,
     "metadata": {},
     "output_type": "execute_result"
    }
   ],
   "source": [
    "a.replace('bhaiya','')"
   ]
  },
  {
   "cell_type": "code",
   "execution_count": 25,
   "id": "25930880",
   "metadata": {},
   "outputs": [
    {
     "name": "stdout",
     "output_type": "stream",
     "text": [
      "this is \n",
      "very important\t i\\n real life\n"
     ]
    }
   ],
   "source": [
    "b='this is \\nvery important\\t i\\\\n real life'\n",
    "print(b)"
   ]
  },
  {
   "cell_type": "code",
   "execution_count": 26,
   "id": "3654d68f",
   "metadata": {},
   "outputs": [
    {
     "name": "stdout",
     "output_type": "stream",
     "text": [
      "naresh\n",
      "Good Afternoon! naresh\n"
     ]
    }
   ],
   "source": [
    "name=input()\n",
    "print(f'Good Afternoon! {name}')"
   ]
  },
  {
   "cell_type": "code",
   "execution_count": 1,
   "id": "a16ece6b",
   "metadata": {},
   "outputs": [],
   "source": [
    "str=\"Hello World\""
   ]
  },
  {
   "cell_type": "code",
   "execution_count": 2,
   "id": "9eab47cf",
   "metadata": {},
   "outputs": [
    {
     "name": "stdout",
     "output_type": "stream",
     "text": [
      "llo World\n"
     ]
    }
   ],
   "source": [
    "print(str[2:])"
   ]
  },
  {
   "cell_type": "code",
   "execution_count": 3,
   "id": "84ef63e0",
   "metadata": {},
   "outputs": [],
   "source": [
    "t=('abc',256,25.8,'john',25.8)"
   ]
  },
  {
   "cell_type": "code",
   "execution_count": 6,
   "id": "dcb127b1",
   "metadata": {},
   "outputs": [
    {
     "name": "stdout",
     "output_type": "stream",
     "text": [
      "(256, 25.8)\n"
     ]
    }
   ],
   "source": [
    "print(t[1:3])"
   ]
  },
  {
   "cell_type": "code",
   "execution_count": 7,
   "id": "ac2a7a1b",
   "metadata": {},
   "outputs": [],
   "source": [
    "l=[2,5,68]"
   ]
  },
  {
   "cell_type": "code",
   "execution_count": 9,
   "id": "f93ea128",
   "metadata": {},
   "outputs": [
    {
     "name": "stdout",
     "output_type": "stream",
     "text": [
      "5\n"
     ]
    }
   ],
   "source": [
    "print(l[-2])"
   ]
  },
  {
   "cell_type": "code",
   "execution_count": 10,
   "id": "ad6ce9f6",
   "metadata": {},
   "outputs": [
    {
     "name": "stdout",
     "output_type": "stream",
     "text": [
      "ld\n"
     ]
    }
   ],
   "source": [
    "print(str[-2:])"
   ]
  },
  {
   "cell_type": "code",
   "execution_count": 13,
   "id": "d01bbb51",
   "metadata": {},
   "outputs": [
    {
     "name": "stdout",
     "output_type": "stream",
     "text": [
      "Hello Wor\n"
     ]
    }
   ],
   "source": [
    "print(str[:-2])"
   ]
  },
  {
   "cell_type": "code",
   "execution_count": 15,
   "id": "9df7ea00",
   "metadata": {},
   "outputs": [
    {
     "name": "stdout",
     "output_type": "stream",
     "text": [
      "o Wor\n"
     ]
    }
   ],
   "source": [
    "print(str[-7:-2])"
   ]
  },
  {
   "cell_type": "code",
   "execution_count": 22,
   "id": "74699ef5",
   "metadata": {},
   "outputs": [],
   "source": [
    "d=str[-2:-7:-1]"
   ]
  },
  {
   "cell_type": "code",
   "execution_count": 23,
   "id": "2a155854",
   "metadata": {},
   "outputs": [
    {
     "data": {
      "text/plain": [
       "'lroW '"
      ]
     },
     "execution_count": 23,
     "metadata": {},
     "output_type": "execute_result"
    }
   ],
   "source": [
    "d"
   ]
  },
  {
   "cell_type": "code",
   "execution_count": 24,
   "id": "dfbbc34a",
   "metadata": {},
   "outputs": [
    {
     "data": {
      "text/plain": [
       "'l'"
      ]
     },
     "execution_count": 24,
     "metadata": {},
     "output_type": "execute_result"
    }
   ],
   "source": [
    "d[-5]"
   ]
  },
  {
   "cell_type": "code",
   "execution_count": 25,
   "id": "1a47c2ab",
   "metadata": {},
   "outputs": [
    {
     "data": {
      "text/plain": [
       "'lroW '"
      ]
     },
     "execution_count": 25,
     "metadata": {},
     "output_type": "execute_result"
    }
   ],
   "source": [
    "d"
   ]
  },
  {
   "cell_type": "code",
   "execution_count": 26,
   "id": "fecaabc6",
   "metadata": {},
   "outputs": [
    {
     "data": {
      "text/plain": [
       "'Hello World'"
      ]
     },
     "execution_count": 26,
     "metadata": {},
     "output_type": "execute_result"
    }
   ],
   "source": [
    "str"
   ]
  },
  {
   "cell_type": "code",
   "execution_count": 27,
   "id": "472ee6f3",
   "metadata": {},
   "outputs": [
    {
     "data": {
      "text/plain": [
       "'W'"
      ]
     },
     "execution_count": 27,
     "metadata": {},
     "output_type": "execute_result"
    }
   ],
   "source": [
    "str[-5]"
   ]
  },
  {
   "cell_type": "code",
   "execution_count": 28,
   "id": "98edc1ae",
   "metadata": {},
   "outputs": [
    {
     "data": {
      "text/plain": [
       "'Wr'"
      ]
     },
     "execution_count": 28,
     "metadata": {},
     "output_type": "execute_result"
    }
   ],
   "source": [
    "str[-5:-2:2]"
   ]
  },
  {
   "cell_type": "code",
   "execution_count": 29,
   "id": "2c4787d9",
   "metadata": {},
   "outputs": [
    {
     "data": {
      "text/plain": [
       "'Wor'"
      ]
     },
     "execution_count": 29,
     "metadata": {},
     "output_type": "execute_result"
    }
   ],
   "source": [
    "str[-5:-2]"
   ]
  },
  {
   "cell_type": "code",
   "execution_count": null,
   "id": "982b6cd1",
   "metadata": {},
   "outputs": [],
   "source": []
  }
 ],
 "metadata": {
  "kernelspec": {
   "display_name": "Python 3 (ipykernel)",
   "language": "python",
   "name": "python3"
  },
  "language_info": {
   "codemirror_mode": {
    "name": "ipython",
    "version": 3
   },
   "file_extension": ".py",
   "mimetype": "text/x-python",
   "name": "python",
   "nbconvert_exporter": "python",
   "pygments_lexer": "ipython3",
   "version": "3.9.12"
  }
 },
 "nbformat": 4,
 "nbformat_minor": 5
}
