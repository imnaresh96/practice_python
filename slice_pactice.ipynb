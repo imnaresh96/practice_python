{
 "cells": [
  {
   "cell_type": "code",
   "execution_count": 1,
   "id": "8964bae9",
   "metadata": {},
   "outputs": [],
   "source": [
    "a='harry'"
   ]
  },
  {
   "cell_type": "code",
   "execution_count": 2,
   "id": "34b61a8e",
   "metadata": {},
   "outputs": [
    {
     "name": "stdout",
     "output_type": "stream",
     "text": [
      "arry\n"
     ]
    }
   ],
   "source": [
    "print(a[1:])"
   ]
  },
  {
   "cell_type": "code",
   "execution_count": 3,
   "id": "f4b1676f",
   "metadata": {},
   "outputs": [
    {
     "name": "stdout",
     "output_type": "stream",
     "text": [
      "harry\n"
     ]
    }
   ],
   "source": [
    "print(a[0:5])"
   ]
  },
  {
   "cell_type": "code",
   "execution_count": 6,
   "id": "e3d900d2",
   "metadata": {},
   "outputs": [
    {
     "name": "stdout",
     "output_type": "stream",
     "text": [
      "harr\n"
     ]
    }
   ],
   "source": [
    "print(a[:-1])"
   ]
  },
  {
   "cell_type": "code",
   "execution_count": 7,
   "id": "f1acec22",
   "metadata": {},
   "outputs": [
    {
     "name": "stdout",
     "output_type": "stream",
     "text": [
      "harry\n"
     ]
    }
   ],
   "source": [
    "print(a[:])"
   ]
  },
  {
   "cell_type": "code",
   "execution_count": 8,
   "id": "e00969e3",
   "metadata": {},
   "outputs": [],
   "source": [
    "a='code with harry bhaiya who teach python language on youtube'"
   ]
  },
  {
   "cell_type": "code",
   "execution_count": 9,
   "id": "bafa23bb",
   "metadata": {},
   "outputs": [
    {
     "data": {
      "text/plain": [
       "'Code with harry bhaiya who teach python language on youtube'"
      ]
     },
     "execution_count": 9,
     "metadata": {},
     "output_type": "execute_result"
    }
   ],
   "source": [
    "a.capitalize()"
   ]
  },
  {
   "cell_type": "code",
   "execution_count": 14,
   "id": "9b9731b5",
   "metadata": {},
   "outputs": [
    {
     "data": {
      "text/plain": [
       "0"
      ]
     },
     "execution_count": 14,
     "metadata": {},
     "output_type": "execute_result"
    }
   ],
   "source": [
    "a.count('x')"
   ]
  },
  {
   "cell_type": "code",
   "execution_count": 11,
   "id": "333d2ded",
   "metadata": {},
   "outputs": [
    {
     "data": {
      "text/plain": [
       "-1"
      ]
     },
     "execution_count": 11,
     "metadata": {},
     "output_type": "execute_result"
    }
   ],
   "source": [
    "a.find('k')"
   ]
  },
  {
   "cell_type": "code",
   "execution_count": 12,
   "id": "d794fcc8",
   "metadata": {},
   "outputs": [
    {
     "data": {
      "text/plain": [
       "40"
      ]
     },
     "execution_count": 12,
     "metadata": {},
     "output_type": "execute_result"
    }
   ],
   "source": [
    "a.find('l')"
   ]
  },
  {
   "cell_type": "code",
   "execution_count": 15,
   "id": "be01d4c5",
   "metadata": {},
   "outputs": [
    {
     "data": {
      "text/plain": [
       "40"
      ]
     },
     "execution_count": 15,
     "metadata": {},
     "output_type": "execute_result"
    }
   ],
   "source": [
    "a.rfind('language')"
   ]
  },
  {
   "cell_type": "code",
   "execution_count": 17,
   "id": "96ee6503",
   "metadata": {},
   "outputs": [
    {
     "data": {
      "text/plain": [
       "True"
      ]
     },
     "execution_count": 17,
     "metadata": {},
     "output_type": "execute_result"
    }
   ],
   "source": [
    "a.endswith('youtube')"
   ]
  },
  {
   "cell_type": "code",
   "execution_count": 18,
   "id": "5f5c900c",
   "metadata": {},
   "outputs": [
    {
     "data": {
      "text/plain": [
       "'code with harry  who teach python language on youtube'"
      ]
     },
     "execution_count": 18,
     "metadata": {},
     "output_type": "execute_result"
    }
   ],
   "source": [
    "a.replace('bhaiya','')"
   ]
  },
  {
   "cell_type": "code",
   "execution_count": 25,
   "id": "25930880",
   "metadata": {},
   "outputs": [
    {
     "name": "stdout",
     "output_type": "stream",
     "text": [
      "this is \n",
      "very important\t i\\n real life\n"
     ]
    }
   ],
   "source": [
    "b='this is \\nvery important\\t i\\\\n real life'\n",
    "print(b)"
   ]
  },
  {
   "cell_type": "code",
   "execution_count": 26,
   "id": "3654d68f",
   "metadata": {},
   "outputs": [
    {
     "name": "stdout",
     "output_type": "stream",
     "text": [
      "naresh\n",
      "Good Afternoon! naresh\n"
     ]
    }
   ],
   "source": [
    "name=input()\n",
    "print(f'Good Afternoon! {name}')"
   ]
  },
  {
   "cell_type": "code",
   "execution_count": 1,
   "id": "a16ece6b",
   "metadata": {},
   "outputs": [],
   "source": [
    "str=\"Hello World\""
   ]
  },
  {
   "cell_type": "code",
   "execution_count": 2,
   "id": "17790034",
   "metadata": {},
   "outputs": [
    {
     "name": "stdout",
     "output_type": "stream",
     "text": [
      "llo World\n"
     ]
    }
   ],
   "source": [
    "print(str[2:])"
   ]
  },
  {
   "cell_type": "code",
   "execution_count": 3,
   "id": "8084cc6c",
   "metadata": {},
   "outputs": [],
   "source": [
    "t=('abc',256,25.8,'john',25.8)"
   ]
  },
  {
   "cell_type": "code",
   "execution_count": 6,
   "id": "33c571aa",
   "metadata": {},
   "outputs": [
    {
     "name": "stdout",
     "output_type": "stream",
     "text": [
      "(256, 25.8)\n"
     ]
    }
   ],
   "source": [
    "print(t[1:3])"
   ]
  },
  {
   "cell_type": "code",
   "execution_count": 7,
   "id": "2437df56",
   "metadata": {},
   "outputs": [],
   "source": [
    "l=[2,5,68]"
   ]
  },
  {
   "cell_type": "code",
   "execution_count": 9,
   "id": "312e175d",
   "metadata": {},
   "outputs": [
    {
     "name": "stdout",
     "output_type": "stream",
     "text": [
      "5\n"
     ]
    }
   ],
   "source": [
    "print(l[-2])"
   ]
  },
  {
   "cell_type": "code",
   "execution_count": 10,
   "id": "e1d7e16a",
   "metadata": {},
   "outputs": [
    {
     "name": "stdout",
     "output_type": "stream",
     "text": [
      "ld\n"
     ]
    }
   ],
   "source": [
    "print(str[-2:])"
   ]
  },
  {
   "cell_type": "code",
   "execution_count": 13,
   "id": "e8dd1cbb",
   "metadata": {},
   "outputs": [
    {
     "name": "stdout",
     "output_type": "stream",
     "text": [
      "Hello Wor\n"
     ]
    }
   ],
   "source": [
    "print(str[:-2])"
   ]
  },
  {
   "cell_type": "code",
   "execution_count": 15,
   "id": "9a06cd18",
   "metadata": {},
   "outputs": [
    {
     "name": "stdout",
     "output_type": "stream",
     "text": [
      "o Wor\n"
     ]
    }
   ],
   "source": [
    "print(str[-7:-2])"
   ]
  },
  {
   "cell_type": "code",
   "execution_count": 22,
   "id": "430fbb92",
   "metadata": {},
   "outputs": [],
   "source": [
    "d=str[-2:-7:-1]"
   ]
  },
  {
   "cell_type": "code",
   "execution_count": 23,
   "id": "a4fa170e",
   "metadata": {},
   "outputs": [
    {
     "data": {
      "text/plain": [
       "'lroW '"
      ]
     },
     "execution_count": 23,
     "metadata": {},
     "output_type": "execute_result"
    }
   ],
   "source": [
    "d"
   ]
  },
  {
   "cell_type": "code",
   "execution_count": 24,
   "id": "7ee92038",
   "metadata": {},
   "outputs": [
    {
     "data": {
      "text/plain": [
       "'l'"
      ]
     },
     "execution_count": 24,
     "metadata": {},
     "output_type": "execute_result"
    }
   ],
   "source": [
    "d[-5]"
   ]
  },
  {
   "cell_type": "code",
   "execution_count": 25,
   "id": "569bee61",
   "metadata": {},
   "outputs": [
    {
     "data": {
      "text/plain": [
       "'lroW '"
      ]
     },
     "execution_count": 25,
     "metadata": {},
     "output_type": "execute_result"
    }
   ],
   "source": [
    "d"
   ]
  },
  {
   "cell_type": "code",
   "execution_count": 26,
   "id": "350d931a",
   "metadata": {},
   "outputs": [
    {
     "data": {
      "text/plain": [
       "'Hello World'"
      ]
     },
     "execution_count": 26,
     "metadata": {},
     "output_type": "execute_result"
    }
   ],
   "source": [
    "str"
   ]
  },
  {
   "cell_type": "code",
   "execution_count": 27,
   "id": "5c68e0a6",
   "metadata": {},
   "outputs": [
    {
     "data": {
      "text/plain": [
       "'W'"
      ]
     },
     "execution_count": 27,
     "metadata": {},
     "output_type": "execute_result"
    }
   ],
   "source": [
    "str[-5]"
   ]
  },
  {
   "cell_type": "code",
   "execution_count": 28,
   "id": "b7787ea4",
   "metadata": {},
   "outputs": [
    {
     "data": {
      "text/plain": [
       "'Wr'"
      ]
     },
     "execution_count": 28,
     "metadata": {},
     "output_type": "execute_result"
    }
   ],
   "source": [
    "str[-5:-2:2]"
   ]
  },
  {
   "cell_type": "code",
   "execution_count": 29,
   "id": "9145999a",
   "metadata": {},
   "outputs": [
    {
     "data": {
      "text/plain": [
       "'Wor'"
      ]
     },
     "execution_count": 29,
     "metadata": {},
     "output_type": "execute_result"
    }
   ],
   "source": [
    "str[-5:-2]"
   ]
  },
  {
   "cell_type": "code",
   "execution_count": 30,
   "id": "a436ec5a",
   "metadata": {},
   "outputs": [],
   "source": [
    "d={'Name':'Naresh','Subject':'Python'}"
   ]
  },
  {
   "cell_type": "code",
   "execution_count": 31,
   "id": "90e94466",
   "metadata": {},
   "outputs": [
    {
     "data": {
      "text/plain": [
       "{'Name': 'Naresh', 'Subject': 'Python'}"
      ]
     },
     "execution_count": 31,
     "metadata": {},
     "output_type": "execute_result"
    }
   ],
   "source": [
    "d"
   ]
  },
  {
   "cell_type": "code",
   "execution_count": 32,
   "id": "4325ac3d",
   "metadata": {},
   "outputs": [
    {
     "ename": "TypeError",
     "evalue": "unhashable type: 'slice'",
     "output_type": "error",
     "traceback": [
      "\u001b[1;31m---------------------------------------------------------------------------\u001b[0m",
      "\u001b[1;31mTypeError\u001b[0m                                 Traceback (most recent call last)",
      "Input \u001b[1;32mIn [32]\u001b[0m, in \u001b[0;36m<cell line: 1>\u001b[1;34m()\u001b[0m\n\u001b[1;32m----> 1\u001b[0m \u001b[43md\u001b[49m\u001b[43m[\u001b[49m\u001b[43m:\u001b[49m\u001b[38;5;241;43m5\u001b[39;49m\u001b[43m]\u001b[49m\n",
      "\u001b[1;31mTypeError\u001b[0m: unhashable type: 'slice'"
     ]
    }
   ],
   "source": [
    "d[:5]"
   ]
  },
  {
   "cell_type": "code",
   "execution_count": 33,
   "id": "326f6435",
   "metadata": {},
   "outputs": [
    {
     "ename": "KeyError",
     "evalue": "-2",
     "output_type": "error",
     "traceback": [
      "\u001b[1;31m---------------------------------------------------------------------------\u001b[0m",
      "\u001b[1;31mKeyError\u001b[0m                                  Traceback (most recent call last)",
      "Input \u001b[1;32mIn [33]\u001b[0m, in \u001b[0;36m<cell line: 1>\u001b[1;34m()\u001b[0m\n\u001b[1;32m----> 1\u001b[0m \u001b[43md\u001b[49m\u001b[43m[\u001b[49m\u001b[38;5;241;43m-\u001b[39;49m\u001b[38;5;241;43m2\u001b[39;49m\u001b[43m]\u001b[49m\n",
      "\u001b[1;31mKeyError\u001b[0m: -2"
     ]
    }
   ],
   "source": [
    "d[-2]"
   ]
  },
  {
   "cell_type": "code",
   "execution_count": 54,
   "id": "53db57b1",
   "metadata": {},
   "outputs": [
    {
     "name": "stdout",
     "output_type": "stream",
     "text": [
      "[{'key': ['file']}, {'key': ['file']}, {'key': ['file']}, {'key': ['file']}, {'key': ['file']}, {'key': ['file']}, {'key': ['file']}]\n",
      "[{'key': ['file']}, {'key': ['file']}, {'key': ['file']}, {'key': ['file']}, {'key': ['file']}, {'key': ['file']}, {'key': ['file']}, {'key': ['new']}, {'key': ['new']}, {'key': ['new']}, {'key': ['new']}, {'key': ['new']}]\n"
     ]
    }
   ],
   "source": [
    "\n",
    "\n",
    "obj=open('new_text_file.txt','r')\n",
    "di=list()\n",
    "for line in obj:\n",
    "    data=line.strip().split(' ')\n",
    "    temp_dict={}\n",
    "    for d in data:\n",
    "        value=d.strip().split(' ')\n",
    "        temp_dict['key']=value\n",
    "        di.append(temp_dict)\n",
    "    print(di)"
   ]
  },
  {
   "cell_type": "code",
   "execution_count": 55,
   "id": "74138a43",
   "metadata": {},
   "outputs": [],
   "source": [
    "def read_file_to_dict_list(file_path):\n",
    "    dict_list = []\n",
    "    with open(file_path, 'r') as f:\n",
    "        for line in f:\n",
    "            data = line.strip().split(',')\n",
    "            temp_dict = {}\n",
    "            for d in data:\n",
    "                key, value = d.strip().split(':')\n",
    "                temp_dict[key] = value\n",
    "            dict_list.append(temp_dict)\n",
    "    return dict_list"
   ]
  },
  {
   "cell_type": "code",
   "execution_count": 57,
   "id": "600d1a03",
   "metadata": {},
   "outputs": [
    {
     "ename": "TypeError",
     "evalue": "'str' object is not callable",
     "output_type": "error",
     "traceback": [
      "\u001b[1;31m---------------------------------------------------------------------------\u001b[0m",
      "\u001b[1;31mTypeError\u001b[0m                                 Traceback (most recent call last)",
      "Input \u001b[1;32mIn [57]\u001b[0m, in \u001b[0;36m<cell line: 1>\u001b[1;34m()\u001b[0m\n\u001b[1;32m----> 1\u001b[0m \u001b[43mread_file_to_dict_list\u001b[49m\u001b[43m(\u001b[49m\u001b[38;5;124;43m'\u001b[39;49m\u001b[38;5;124;43mnew_text_file.txt\u001b[39;49m\u001b[38;5;124;43m'\u001b[39;49m\u001b[43m)\u001b[49m\n",
      "\u001b[1;31mTypeError\u001b[0m: 'str' object is not callable"
     ]
    }
   ],
   "source": [
    "read_file_to_dict_list('new_text_file.txt')"
   ]
  },
  {
   "cell_type": "code",
   "execution_count": 69,
   "id": "8089fb58",
   "metadata": {},
   "outputs": [
    {
     "name": "stdout",
     "output_type": "stream",
     "text": [
      "naresh kumaar\n",
      "['n:1', 'a:3', 'r:2', 'e:1', 's:1', 'h:1', ' :1', 'k:1', 'u:1', 'm:1']\n"
     ]
    }
   ],
   "source": [
    "d=input()\n",
    "letter_count={}\n",
    "for i in d:\n",
    "    if i in letter_count:\n",
    "        letter_count[i]+=1\n",
    "    else:\n",
    "        letter_count[i]=1\n",
    "letter_pair=[f\"{key}:{value}\"for key,value in letter_count.items()]\n",
    "f=\",\".join(letter_pair)\n",
    "print(letter_pair)"
   ]
  },
  {
   "cell_type": "code",
   "execution_count": 7,
   "id": "5b86f926",
   "metadata": {},
   "outputs": [],
   "source": [
    "f=\"h:1,e:1,l:2,o:1\""
   ]
  },
  {
   "cell_type": "code",
   "execution_count": 8,
   "id": "b527d49e",
   "metadata": {},
   "outputs": [],
   "source": [
    "k=f.split(',')"
   ]
  },
  {
   "cell_type": "code",
   "execution_count": 9,
   "id": "d691cde6",
   "metadata": {},
   "outputs": [
    {
     "name": "stdout",
     "output_type": "stream",
     "text": [
      "[{'h': 1}, {'e': 1}, {'l': 2}, {'o': 1}]\n"
     ]
    }
   ],
   "source": [
    "k=f.split(',')\n",
    "w=[]\n",
    "for i in k:\n",
    "    key,value=i.split(':')\n",
    "    w.append({key:int(value)})\n",
    "print(w)"
   ]
  },
  {
   "cell_type": "code",
   "execution_count": null,
   "id": "3c61475e",
   "metadata": {},
   "outputs": [],
   "source": [
    "def num(file_name):\n",
    "    obj=open(file_name,'r')\n",
    "    obj.write()"
   ]
  },
  {
   "cell_type": "code",
   "execution_count": 5,
   "id": "a15b6d35",
   "metadata": {},
   "outputs": [],
   "source": [
    "def dic(string):\n",
    "    letter_count={}\n",
    "    for i in dic:\n",
    "        if i in letter_count:\n",
    "            letter_count[i]+=1\n",
    "        else:\n",
    "            letter_count[i]=1\n",
    "        obj=open('newfiletxt.txt','a')\n",
    "    obj.write.write(letter_count)\n",
    "#     letter_pair=[f\"{key}:{value}\"for key,value in letter_count.items()]\n",
    "#     f=\",\".join(letter_pair)\n",
    "#     print(letter_pair)"
   ]
  },
  {
   "cell_type": "code",
   "execution_count": 6,
   "id": "717f2db7",
   "metadata": {},
   "outputs": [
    {
     "ename": "TypeError",
     "evalue": "'function' object is not iterable",
     "output_type": "error",
     "traceback": [
      "\u001b[1;31m---------------------------------------------------------------------------\u001b[0m",
      "\u001b[1;31mTypeError\u001b[0m                                 Traceback (most recent call last)",
      "Input \u001b[1;32mIn [6]\u001b[0m, in \u001b[0;36m<cell line: 1>\u001b[1;34m()\u001b[0m\n\u001b[1;32m----> 1\u001b[0m \u001b[43mdic\u001b[49m\u001b[43m(\u001b[49m\u001b[38;5;124;43m'\u001b[39;49m\u001b[38;5;124;43mNaresh kumar\u001b[39;49m\u001b[38;5;124;43m'\u001b[39;49m\u001b[43m)\u001b[49m\n",
      "Input \u001b[1;32mIn [5]\u001b[0m, in \u001b[0;36mdic\u001b[1;34m(string)\u001b[0m\n\u001b[0;32m      1\u001b[0m \u001b[38;5;28;01mdef\u001b[39;00m \u001b[38;5;21mdic\u001b[39m(string):\n\u001b[0;32m      2\u001b[0m     letter_count\u001b[38;5;241m=\u001b[39m{}\n\u001b[1;32m----> 3\u001b[0m     \u001b[38;5;28;01mfor\u001b[39;00m i \u001b[38;5;129;01min\u001b[39;00m dic:\n\u001b[0;32m      4\u001b[0m         \u001b[38;5;28;01mif\u001b[39;00m i \u001b[38;5;129;01min\u001b[39;00m letter_count:\n\u001b[0;32m      5\u001b[0m             letter_count[i]\u001b[38;5;241m+\u001b[39m\u001b[38;5;241m=\u001b[39m\u001b[38;5;241m1\u001b[39m\n",
      "\u001b[1;31mTypeError\u001b[0m: 'function' object is not iterable"
     ]
    }
   ],
   "source": [
    "dic('Naresh kumar')"
   ]
  },
  {
   "cell_type": "code",
   "execution_count": 27,
   "id": "93426cd3",
   "metadata": {},
   "outputs": [],
   "source": [
    "d=[i for i in range(100,-1,-1) if i%2==0]"
   ]
  },
  {
   "cell_type": "code",
   "execution_count": 28,
   "id": "14e3cfd5",
   "metadata": {},
   "outputs": [
    {
     "data": {
      "text/plain": [
       "[100,\n",
       " 98,\n",
       " 96,\n",
       " 94,\n",
       " 92,\n",
       " 90,\n",
       " 88,\n",
       " 86,\n",
       " 84,\n",
       " 82,\n",
       " 80,\n",
       " 78,\n",
       " 76,\n",
       " 74,\n",
       " 72,\n",
       " 70,\n",
       " 68,\n",
       " 66,\n",
       " 64,\n",
       " 62,\n",
       " 60,\n",
       " 58,\n",
       " 56,\n",
       " 54,\n",
       " 52,\n",
       " 50,\n",
       " 48,\n",
       " 46,\n",
       " 44,\n",
       " 42,\n",
       " 40,\n",
       " 38,\n",
       " 36,\n",
       " 34,\n",
       " 32,\n",
       " 30,\n",
       " 28,\n",
       " 26,\n",
       " 24,\n",
       " 22,\n",
       " 20,\n",
       " 18,\n",
       " 16,\n",
       " 14,\n",
       " 12,\n",
       " 10,\n",
       " 8,\n",
       " 6,\n",
       " 4,\n",
       " 2,\n",
       " 0]"
      ]
     },
     "execution_count": 28,
     "metadata": {},
     "output_type": "execute_result"
    }
   ],
   "source": [
    "d"
   ]
  },
  {
   "cell_type": "code",
   "execution_count": 30,
   "id": "cc51d68d",
   "metadata": {},
   "outputs": [
    {
     "name": "stdout",
     "output_type": "stream",
     "text": [
      "[100, 98, 96, 94, 92, 90, 88, 86, 84, 82, 80, 78, 76, 74, 72, 70, 68, 66, 64, 62, 60, 58, 56, 54, 52, 50, 48, 46, 44, 42, 40, 38, 36, 34, 32, 30, 28, 26, 24, 22, 20, 18, 16, 14, 12, 10, 8, 6, 4, 2, 0]\n"
     ]
    }
   ],
   "source": [
    "even=[]\n",
    "for i in range(100,-1,-1):\n",
    "    if i%2==0:\n",
    "        even.append(i)\n",
    "print(even)"
   ]
  },
  {
   "cell_type": "code",
   "execution_count": null,
   "id": "dd92dad9",
   "metadata": {},
   "outputs": [],
   "source": []
  }
 ],
 "metadata": {
  "kernelspec": {
   "display_name": "Python 3 (ipykernel)",
   "language": "python",
   "name": "python3"
  },
  "language_info": {
   "codemirror_mode": {
    "name": "ipython",
    "version": 3
   },
   "file_extension": ".py",
   "mimetype": "text/x-python",
   "name": "python",
   "nbconvert_exporter": "python",
   "pygments_lexer": "ipython3",
   "version": "3.9.12"
  }
 },
 "nbformat": 4,
 "nbformat_minor": 5
}
