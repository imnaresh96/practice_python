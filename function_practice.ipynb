{
 "cells": [
  {
   "cell_type": "code",
   "execution_count": 1,
   "id": "0adb3baf",
   "metadata": {},
   "outputs": [],
   "source": [
    "# normal function "
   ]
  },
  {
   "cell_type": "code",
   "execution_count": 2,
   "id": "58c890f5",
   "metadata": {},
   "outputs": [],
   "source": [
    "def hello():\n",
    "    print('hello people')"
   ]
  },
  {
   "cell_type": "code",
   "execution_count": 3,
   "id": "95e4bf14",
   "metadata": {},
   "outputs": [
    {
     "name": "stdout",
     "output_type": "stream",
     "text": [
      "hello people\n"
     ]
    }
   ],
   "source": [
    "hello()"
   ]
  },
  {
   "cell_type": "code",
   "execution_count": 4,
   "id": "dcc15f6a",
   "metadata": {},
   "outputs": [],
   "source": [
    "# default function"
   ]
  },
  {
   "cell_type": "code",
   "execution_count": 5,
   "id": "77e25058",
   "metadata": {},
   "outputs": [],
   "source": [
    "def data(name='naresh',subject='python'):\n",
    "    print(name,subject)"
   ]
  },
  {
   "cell_type": "code",
   "execution_count": 6,
   "id": "7e0c5b7b",
   "metadata": {},
   "outputs": [
    {
     "name": "stdout",
     "output_type": "stream",
     "text": [
      "naresh python\n"
     ]
    }
   ],
   "source": [
    "data('naresh')"
   ]
  },
  {
   "cell_type": "code",
   "execution_count": 7,
   "id": "94578f7f",
   "metadata": {},
   "outputs": [
    {
     "name": "stdout",
     "output_type": "stream",
     "text": [
      "kaiilsh PHP\n"
     ]
    }
   ],
   "source": [
    "data('kaiilsh','PHP')"
   ]
  },
  {
   "cell_type": "code",
   "execution_count": 20,
   "id": "45a2b6fa",
   "metadata": {},
   "outputs": [
    {
     "name": "stdout",
     "output_type": "stream",
     "text": [
      "8 7\n"
     ]
    }
   ],
   "source": [
    "data('8','7')"
   ]
  },
  {
   "cell_type": "code",
   "execution_count": 9,
   "id": "9ba4f165",
   "metadata": {},
   "outputs": [
    {
     "name": "stdout",
     "output_type": "stream",
     "text": [
      "naresh HTML\n"
     ]
    }
   ],
   "source": [
    "data(subject='HTML')"
   ]
  },
  {
   "cell_type": "code",
   "execution_count": 15,
   "id": "f614efd2",
   "metadata": {},
   "outputs": [],
   "source": [
    "# required argument function"
   ]
  },
  {
   "cell_type": "code",
   "execution_count": 16,
   "id": "fab0db65",
   "metadata": {},
   "outputs": [],
   "source": [
    "def about(x,y):\n",
    "    print(x+y)"
   ]
  },
  {
   "cell_type": "code",
   "execution_count": 17,
   "id": "8aca015a",
   "metadata": {},
   "outputs": [
    {
     "name": "stdout",
     "output_type": "stream",
     "text": [
      "13\n"
     ]
    }
   ],
   "source": [
    "about(5,8)"
   ]
  },
  {
   "cell_type": "code",
   "execution_count": 18,
   "id": "d634ba18",
   "metadata": {},
   "outputs": [
    {
     "name": "stdout",
     "output_type": "stream",
     "text": [
      "16\n"
     ]
    }
   ],
   "source": [
    "about(9,7)"
   ]
  },
  {
   "cell_type": "code",
   "execution_count": 19,
   "id": "805e9990",
   "metadata": {},
   "outputs": [
    {
     "ename": "TypeError",
     "evalue": "about() missing 1 required positional argument: 'y'",
     "output_type": "error",
     "traceback": [
      "\u001b[1;31m---------------------------------------------------------------------------\u001b[0m",
      "\u001b[1;31mTypeError\u001b[0m                                 Traceback (most recent call last)",
      "Input \u001b[1;32mIn [19]\u001b[0m, in \u001b[0;36m<cell line: 1>\u001b[1;34m()\u001b[0m\n\u001b[1;32m----> 1\u001b[0m \u001b[43mabout\u001b[49m\u001b[43m(\u001b[49m\u001b[38;5;241;43m8\u001b[39;49m\u001b[43m)\u001b[49m\n",
      "\u001b[1;31mTypeError\u001b[0m: about() missing 1 required positional argument: 'y'"
     ]
    }
   ],
   "source": [
    "about(8)"
   ]
  },
  {
   "cell_type": "code",
   "execution_count": 22,
   "id": "47afbb97",
   "metadata": {},
   "outputs": [],
   "source": [
    "#keyword argument"
   ]
  },
  {
   "cell_type": "code",
   "execution_count": 24,
   "id": "2105b831",
   "metadata": {},
   "outputs": [],
   "source": [
    "def info(name,age,subject,place):\n",
    "    print(name)\n",
    "    print(age)\n",
    "    print(subject)\n",
    "    print(place)"
   ]
  },
  {
   "cell_type": "code",
   "execution_count": 25,
   "id": "502fae2e",
   "metadata": {},
   "outputs": [
    {
     "name": "stdout",
     "output_type": "stream",
     "text": [
      "25\n",
      "alaksd\n",
      "maninaagr\n",
      "python\n"
     ]
    }
   ],
   "source": [
    "info(25,'alaksd','maninaagr','python')"
   ]
  },
  {
   "cell_type": "code",
   "execution_count": 26,
   "id": "0e9565b3",
   "metadata": {},
   "outputs": [
    {
     "name": "stdout",
     "output_type": "stream",
     "text": [
      "naresh\n",
      "25\n",
      "python\n",
      "maninagar\n"
     ]
    }
   ],
   "source": [
    "#argument with keyword\n",
    "info(age=25,subject='python',place='maninagar',name='naresh')"
   ]
  },
  {
   "cell_type": "code",
   "execution_count": 31,
   "id": "1746be78",
   "metadata": {},
   "outputs": [],
   "source": [
    "def student(*name):\n",
    "    return name"
   ]
  },
  {
   "cell_type": "code",
   "execution_count": 32,
   "id": "94da0e73",
   "metadata": {},
   "outputs": [],
   "source": [
    "data=student('naresh','vishal','nishad')"
   ]
  },
  {
   "cell_type": "code",
   "execution_count": 33,
   "id": "2b4968fd",
   "metadata": {},
   "outputs": [
    {
     "data": {
      "text/plain": [
       "tuple"
      ]
     },
     "execution_count": 33,
     "metadata": {},
     "output_type": "execute_result"
    }
   ],
   "source": [
    "type(data)"
   ]
  },
  {
   "cell_type": "code",
   "execution_count": 34,
   "id": "1ec884dc",
   "metadata": {},
   "outputs": [],
   "source": [
    "hello=lambda x,y: x+y"
   ]
  },
  {
   "cell_type": "code",
   "execution_count": 35,
   "id": "c6be86af",
   "metadata": {},
   "outputs": [
    {
     "data": {
      "text/plain": [
       "17"
      ]
     },
     "execution_count": 35,
     "metadata": {},
     "output_type": "execute_result"
    }
   ],
   "source": [
    "hello(8,9)"
   ]
  },
  {
   "cell_type": "code",
   "execution_count": 36,
   "id": "ff41c130",
   "metadata": {},
   "outputs": [
    {
     "data": {
      "text/plain": [
       "function"
      ]
     },
     "execution_count": 36,
     "metadata": {},
     "output_type": "execute_result"
    }
   ],
   "source": [
    "type(hello)"
   ]
  },
  {
   "cell_type": "code",
   "execution_count": 37,
   "id": "4b920811",
   "metadata": {},
   "outputs": [],
   "source": [
    "l=[8,5,6,9,4,2,6]"
   ]
  },
  {
   "cell_type": "code",
   "execution_count": 51,
   "id": "64f522c6",
   "metadata": {},
   "outputs": [],
   "source": [
    "def is_even(x):\n",
    "    for i in x:\n",
    "        if i%2==0:\n",
    "            return i"
   ]
  },
  {
   "cell_type": "code",
   "execution_count": 52,
   "id": "96d19bac",
   "metadata": {},
   "outputs": [
    {
     "ename": "TypeError",
     "evalue": "'int' object is not iterable",
     "output_type": "error",
     "traceback": [
      "\u001b[1;31m---------------------------------------------------------------------------\u001b[0m",
      "\u001b[1;31mTypeError\u001b[0m                                 Traceback (most recent call last)",
      "Input \u001b[1;32mIn [52]\u001b[0m, in \u001b[0;36m<cell line: 1>\u001b[1;34m()\u001b[0m\n\u001b[1;32m----> 1\u001b[0m \u001b[43mis_even\u001b[49m\u001b[43m(\u001b[49m\u001b[38;5;241;43m20\u001b[39;49m\u001b[43m)\u001b[49m\n",
      "Input \u001b[1;32mIn [51]\u001b[0m, in \u001b[0;36mis_even\u001b[1;34m(x)\u001b[0m\n\u001b[0;32m      1\u001b[0m \u001b[38;5;28;01mdef\u001b[39;00m \u001b[38;5;21mis_even\u001b[39m(x):\n\u001b[1;32m----> 2\u001b[0m     \u001b[38;5;28;01mfor\u001b[39;00m i \u001b[38;5;129;01min\u001b[39;00m x:\n\u001b[0;32m      3\u001b[0m         \u001b[38;5;28;01mif\u001b[39;00m i\u001b[38;5;241m%\u001b[39m\u001b[38;5;241m2\u001b[39m\u001b[38;5;241m==\u001b[39m\u001b[38;5;241m0\u001b[39m:\n\u001b[0;32m      4\u001b[0m             \u001b[38;5;28;01mreturn\u001b[39;00m i\n",
      "\u001b[1;31mTypeError\u001b[0m: 'int' object is not iterable"
     ]
    }
   ],
   "source": [
    "is_even(20)"
   ]
  },
  {
   "cell_type": "code",
   "execution_count": 48,
   "id": "0ed173d0",
   "metadata": {},
   "outputs": [
    {
     "ename": "TypeError",
     "evalue": "'int' object is not iterable",
     "output_type": "error",
     "traceback": [
      "\u001b[1;31m---------------------------------------------------------------------------\u001b[0m",
      "\u001b[1;31mTypeError\u001b[0m                                 Traceback (most recent call last)",
      "Input \u001b[1;32mIn [48]\u001b[0m, in \u001b[0;36m<cell line: 1>\u001b[1;34m()\u001b[0m\n\u001b[1;32m----> 1\u001b[0m \u001b[43mis_even\u001b[49m\u001b[43m(\u001b[49m\u001b[38;5;241;43m7\u001b[39;49m\u001b[43m)\u001b[49m\n",
      "Input \u001b[1;32mIn [46]\u001b[0m, in \u001b[0;36mis_even\u001b[1;34m(x)\u001b[0m\n\u001b[0;32m      1\u001b[0m \u001b[38;5;28;01mdef\u001b[39;00m \u001b[38;5;21mis_even\u001b[39m(x):\n\u001b[1;32m----> 2\u001b[0m     \u001b[38;5;28;01mfor\u001b[39;00m i \u001b[38;5;129;01min\u001b[39;00m x:\n\u001b[0;32m      3\u001b[0m         \u001b[38;5;28;01mif\u001b[39;00m x\u001b[38;5;241m%\u001b[39m\u001b[38;5;241m2\u001b[39m\u001b[38;5;241m==\u001b[39m\u001b[38;5;241m0\u001b[39m:\n\u001b[0;32m      4\u001b[0m             \u001b[38;5;28;01mreturn\u001b[39;00m x\n",
      "\u001b[1;31mTypeError\u001b[0m: 'int' object is not iterable"
     ]
    }
   ],
   "source": [
    "is_even(7)"
   ]
  },
  {
   "cell_type": "code",
   "execution_count": 49,
   "id": "bd9ec7ab",
   "metadata": {},
   "outputs": [],
   "source": [
    "even_items=filter(is_even, l)"
   ]
  },
  {
   "cell_type": "code",
   "execution_count": 50,
   "id": "901fe7ec",
   "metadata": {},
   "outputs": [
    {
     "data": {
      "text/plain": [
       "<filter at 0x127ba4f5970>"
      ]
     },
     "execution_count": 50,
     "metadata": {},
     "output_type": "execute_result"
    }
   ],
   "source": [
    "even_items"
   ]
  },
  {
   "cell_type": "code",
   "execution_count": 55,
   "id": "f06b6111",
   "metadata": {},
   "outputs": [],
   "source": [
    "l=(8,4,6,5,9)"
   ]
  },
  {
   "cell_type": "code",
   "execution_count": 56,
   "id": "537549c1",
   "metadata": {},
   "outputs": [
    {
     "ename": "TypeError",
     "evalue": "'tuple' object is not an iterator",
     "output_type": "error",
     "traceback": [
      "\u001b[1;31m---------------------------------------------------------------------------\u001b[0m",
      "\u001b[1;31mTypeError\u001b[0m                                 Traceback (most recent call last)",
      "Input \u001b[1;32mIn [56]\u001b[0m, in \u001b[0;36m<cell line: 1>\u001b[1;34m()\u001b[0m\n\u001b[1;32m----> 1\u001b[0m \u001b[38;5;28;43mnext\u001b[39;49m\u001b[43m(\u001b[49m\u001b[43ml\u001b[49m\u001b[43m)\u001b[49m\n",
      "\u001b[1;31mTypeError\u001b[0m: 'tuple' object is not an iterator"
     ]
    }
   ],
   "source": [
    "next(l)"
   ]
  },
  {
   "cell_type": "code",
   "execution_count": 57,
   "id": "665d5dd2",
   "metadata": {},
   "outputs": [],
   "source": [
    "def in_odd(x):\n",
    "    x % 2 !=0\n",
    "    return x"
   ]
  },
  {
   "cell_type": "code",
   "execution_count": 60,
   "id": "5ae27c99",
   "metadata": {},
   "outputs": [],
   "source": [
    "kumar=filter(in_odd, l)"
   ]
  },
  {
   "cell_type": "code",
   "execution_count": 80,
   "id": "8650a7b3",
   "metadata": {},
   "outputs": [
    {
     "ename": "TypeError",
     "evalue": "'function' object is not an iterator",
     "output_type": "error",
     "traceback": [
      "\u001b[1;31m---------------------------------------------------------------------------\u001b[0m",
      "\u001b[1;31mTypeError\u001b[0m                                 Traceback (most recent call last)",
      "Input \u001b[1;32mIn [80]\u001b[0m, in \u001b[0;36m<cell line: 1>\u001b[1;34m()\u001b[0m\n\u001b[1;32m----> 1\u001b[0m \u001b[38;5;28;43mnext\u001b[39;49m\u001b[43m(\u001b[49m\u001b[43min_odd\u001b[49m\u001b[43m)\u001b[49m\n",
      "\u001b[1;31mTypeError\u001b[0m: 'function' object is not an iterator"
     ]
    }
   ],
   "source": [
    "next(in_odd)"
   ]
  },
  {
   "cell_type": "code",
   "execution_count": 63,
   "id": "e2a8cb3b",
   "metadata": {},
   "outputs": [],
   "source": [
    "def is_even(x):\n",
    "    return x % 2 == 0"
   ]
  },
  {
   "cell_type": "code",
   "execution_count": 64,
   "id": "17a87bde",
   "metadata": {},
   "outputs": [],
   "source": [
    "l = [2,1,2,3,6,5,4,5,8,9,7,4,12]"
   ]
  },
  {
   "cell_type": "code",
   "execution_count": 67,
   "id": "ba402c4f",
   "metadata": {},
   "outputs": [
    {
     "name": "stdout",
     "output_type": "stream",
     "text": [
      "2 2 6 4 8 4 12 "
     ]
    }
   ],
   "source": [
    "for i in l:\n",
    "    if is_even(i):\n",
    "        print(i, end=\" \")"
   ]
  },
  {
   "cell_type": "code",
   "execution_count": 68,
   "id": "df42ff25",
   "metadata": {},
   "outputs": [],
   "source": [
    "even_items = filter(is_even, l)"
   ]
  },
  {
   "cell_type": "code",
   "execution_count": 69,
   "id": "a9f2957c",
   "metadata": {},
   "outputs": [
    {
     "data": {
      "text/plain": [
       "<filter at 0x127ba3bf1c0>"
      ]
     },
     "execution_count": 69,
     "metadata": {},
     "output_type": "execute_result"
    }
   ],
   "source": [
    "even_items"
   ]
  },
  {
   "cell_type": "code",
   "execution_count": 70,
   "id": "0bfcd5b6",
   "metadata": {},
   "outputs": [
    {
     "data": {
      "text/plain": [
       "2"
      ]
     },
     "execution_count": 70,
     "metadata": {},
     "output_type": "execute_result"
    }
   ],
   "source": [
    "next(even_items)"
   ]
  },
  {
   "cell_type": "code",
   "execution_count": 72,
   "id": "42647052",
   "metadata": {},
   "outputs": [
    {
     "data": {
      "text/plain": [
       "2"
      ]
     },
     "execution_count": 72,
     "metadata": {},
     "output_type": "execute_result"
    }
   ],
   "source": [
    "next(even_items)"
   ]
  },
  {
   "cell_type": "code",
   "execution_count": 73,
   "id": "338dd008",
   "metadata": {},
   "outputs": [
    {
     "data": {
      "text/plain": [
       "6"
      ]
     },
     "execution_count": 73,
     "metadata": {},
     "output_type": "execute_result"
    }
   ],
   "source": [
    "next(even_items)"
   ]
  },
  {
   "cell_type": "code",
   "execution_count": 74,
   "id": "cd053174",
   "metadata": {},
   "outputs": [
    {
     "data": {
      "text/plain": [
       "4"
      ]
     },
     "execution_count": 74,
     "metadata": {},
     "output_type": "execute_result"
    }
   ],
   "source": [
    "next(even_items)"
   ]
  },
  {
   "cell_type": "code",
   "execution_count": 75,
   "id": "9753634a",
   "metadata": {},
   "outputs": [
    {
     "data": {
      "text/plain": [
       "8"
      ]
     },
     "execution_count": 75,
     "metadata": {},
     "output_type": "execute_result"
    }
   ],
   "source": [
    "next(even_items)"
   ]
  },
  {
   "cell_type": "code",
   "execution_count": 76,
   "id": "ab413b6d",
   "metadata": {},
   "outputs": [
    {
     "data": {
      "text/plain": [
       "4"
      ]
     },
     "execution_count": 76,
     "metadata": {},
     "output_type": "execute_result"
    }
   ],
   "source": [
    "next(even_items)"
   ]
  },
  {
   "cell_type": "code",
   "execution_count": 77,
   "id": "90196158",
   "metadata": {},
   "outputs": [
    {
     "data": {
      "text/plain": [
       "12"
      ]
     },
     "execution_count": 77,
     "metadata": {},
     "output_type": "execute_result"
    }
   ],
   "source": [
    "next(even_items)"
   ]
  },
  {
   "cell_type": "code",
   "execution_count": 78,
   "id": "d16bf5fc",
   "metadata": {},
   "outputs": [
    {
     "ename": "StopIteration",
     "evalue": "",
     "output_type": "error",
     "traceback": [
      "\u001b[1;31m---------------------------------------------------------------------------\u001b[0m",
      "\u001b[1;31mStopIteration\u001b[0m                             Traceback (most recent call last)",
      "Input \u001b[1;32mIn [78]\u001b[0m, in \u001b[0;36m<cell line: 1>\u001b[1;34m()\u001b[0m\n\u001b[1;32m----> 1\u001b[0m \u001b[38;5;28;43mnext\u001b[39;49m\u001b[43m(\u001b[49m\u001b[43meven_items\u001b[49m\u001b[43m)\u001b[49m\n",
      "\u001b[1;31mStopIteration\u001b[0m: "
     ]
    }
   ],
   "source": [
    "next(even_items)"
   ]
  },
  {
   "cell_type": "code",
   "execution_count": 95,
   "id": "660e8201",
   "metadata": {},
   "outputs": [],
   "source": [
    "def in_odd(x):\n",
    "    if x % 2 !=0:\n",
    "        return x"
   ]
  },
  {
   "cell_type": "code",
   "execution_count": 96,
   "id": "64628e0c",
   "metadata": {},
   "outputs": [],
   "source": [
    "k=[8,4,6,59,5]"
   ]
  },
  {
   "cell_type": "code",
   "execution_count": null,
   "id": "8a197a59",
   "metadata": {},
   "outputs": [],
   "source": []
  },
  {
   "cell_type": "code",
   "execution_count": 97,
   "id": "72893743",
   "metadata": {},
   "outputs": [],
   "source": [
    "is_odd=filter(in_odd, k)"
   ]
  },
  {
   "cell_type": "code",
   "execution_count": 98,
   "id": "0e3511c9",
   "metadata": {},
   "outputs": [
    {
     "data": {
      "text/plain": [
       "59"
      ]
     },
     "execution_count": 98,
     "metadata": {},
     "output_type": "execute_result"
    }
   ],
   "source": [
    "next(is_odd)"
   ]
  },
  {
   "cell_type": "code",
   "execution_count": 99,
   "id": "0a9ecf0d",
   "metadata": {},
   "outputs": [
    {
     "data": {
      "text/plain": [
       "5"
      ]
     },
     "execution_count": 99,
     "metadata": {},
     "output_type": "execute_result"
    }
   ],
   "source": [
    "next(is_odd)"
   ]
  },
  {
   "cell_type": "code",
   "execution_count": 100,
   "id": "f3ab9161",
   "metadata": {},
   "outputs": [
    {
     "ename": "StopIteration",
     "evalue": "",
     "output_type": "error",
     "traceback": [
      "\u001b[1;31m---------------------------------------------------------------------------\u001b[0m",
      "\u001b[1;31mStopIteration\u001b[0m                             Traceback (most recent call last)",
      "Input \u001b[1;32mIn [100]\u001b[0m, in \u001b[0;36m<cell line: 1>\u001b[1;34m()\u001b[0m\n\u001b[1;32m----> 1\u001b[0m \u001b[38;5;28;43mnext\u001b[39;49m\u001b[43m(\u001b[49m\u001b[43mis_odd\u001b[49m\u001b[43m)\u001b[49m\n",
      "\u001b[1;31mStopIteration\u001b[0m: "
     ]
    }
   ],
   "source": [
    "next(is_odd)"
   ]
  },
  {
   "cell_type": "code",
   "execution_count": 103,
   "id": "1633c926",
   "metadata": {},
   "outputs": [],
   "source": [
    "ki=[*range(10)]"
   ]
  },
  {
   "cell_type": "code",
   "execution_count": 104,
   "id": "3f2c7f51",
   "metadata": {},
   "outputs": [
    {
     "data": {
      "text/plain": [
       "[0, 1, 2, 3, 4, 5, 6, 7, 8, 9]"
      ]
     },
     "execution_count": 104,
     "metadata": {},
     "output_type": "execute_result"
    }
   ],
   "source": [
    "ki"
   ]
  },
  {
   "cell_type": "code",
   "execution_count": 117,
   "id": "225bcac5",
   "metadata": {},
   "outputs": [],
   "source": [
    "ku=[*range(10,0,-1)]"
   ]
  },
  {
   "cell_type": "code",
   "execution_count": 118,
   "id": "85d97205",
   "metadata": {},
   "outputs": [
    {
     "data": {
      "text/plain": [
       "[10, 9, 8, 7, 6, 5, 4, 3, 2, 1]"
      ]
     },
     "execution_count": 118,
     "metadata": {},
     "output_type": "execute_result"
    }
   ],
   "source": [
    "ku"
   ]
  },
  {
   "cell_type": "code",
   "execution_count": null,
   "id": "c538febe",
   "metadata": {},
   "outputs": [],
   "source": [
    "kk=*"
   ]
  }
 ],
 "metadata": {
  "kernelspec": {
   "display_name": "Python 3 (ipykernel)",
   "language": "python",
   "name": "python3"
  },
  "language_info": {
   "codemirror_mode": {
    "name": "ipython",
    "version": 3
   },
   "file_extension": ".py",
   "mimetype": "text/x-python",
   "name": "python",
   "nbconvert_exporter": "python",
   "pygments_lexer": "ipython3",
   "version": "3.9.12"
  }
 },
 "nbformat": 4,
 "nbformat_minor": 5
}
