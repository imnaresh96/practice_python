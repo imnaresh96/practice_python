{
 "cells": [
  {
   "cell_type": "code",
   "execution_count": 5,
   "id": "596b1978",
   "metadata": {},
   "outputs": [
    {
     "name": "stdout",
     "output_type": "stream",
     "text": [
      "enter your name: bhdkc\n",
      "enter your age: 14\n",
      "hello bhdkc! you are not eligible apply after 4  years\n"
     ]
    }
   ],
   "source": [
    "name=input(\"enter your name: \")\n",
    "age=input(\"enter your age: \")\n",
    "if age.isnumeric():\n",
    "    age=int(age)\n",
    "    n = 18-age\n",
    "    if age >= 18:\n",
    "        print(\"hello \"+ name +\"! you are eligible\")\n",
    "    elif (age == 17) or (age == 16):\n",
    "        print(f'hello {name} you are not eligible apply after {n}  year')\n",
    "    else:\n",
    "        print(f'hello {name}! you are not eligible apply after {n}  years')\n",
    "else:\n",
    "    print('Enter your age again (numeric value)')"
   ]
  },
  {
   "cell_type": "code",
   "execution_count": null,
   "id": "ffd88f52",
   "metadata": {},
   "outputs": [],
   "source": []
  },
  {
   "cell_type": "code",
   "execution_count": null,
   "id": "1d940409",
   "metadata": {},
   "outputs": [],
   "source": []
  }
 ],
 "metadata": {
  "kernelspec": {
   "display_name": "Python 3 (ipykernel)",
   "language": "python",
   "name": "python3"
  },
  "language_info": {
   "codemirror_mode": {
    "name": "ipython",
    "version": 3
   },
   "file_extension": ".py",
   "mimetype": "text/x-python",
   "name": "python",
   "nbconvert_exporter": "python",
   "pygments_lexer": "ipython3",
   "version": "3.9.12"
  }
 },
 "nbformat": 4,
 "nbformat_minor": 5
}
