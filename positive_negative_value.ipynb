{
 "cells": [
  {
   "cell_type": "code",
   "execution_count": 19,
   "id": "0f676cea",
   "metadata": {},
   "outputs": [
    {
     "name": "stdout",
     "output_type": "stream",
     "text": [
      "Enter Your Name: nj\n",
      "Enter A Number: 5\n",
      "hello nj! 5.0 number is positive\n"
     ]
    }
   ],
   "source": [
    "name=input('Enter Your Name: ')\n",
    "num=float(input('Enter A Number: '))\n",
    "if num > 0:\n",
    "    print(f'hello {name}! {num} number is positive')\n",
    "elif num == 0:\n",
    "    print(f'hello {name}! {num} number is zero')\n",
    "else:\n",
    "    print(f'hello {name}! {num} number is negative')"
   ]
  },
  {
   "cell_type": "code",
   "execution_count": null,
   "id": "f7355f94",
   "metadata": {},
   "outputs": [],
   "source": []
  },
  {
   "cell_type": "code",
   "execution_count": 20,
   "id": "f8bcade9",
   "metadata": {},
   "outputs": [
    {
     "data": {
      "text/plain": [
       "False"
      ]
     },
     "execution_count": 20,
     "metadata": {},
     "output_type": "execute_result"
    }
   ],
   "source": [
    "'-4'.isnumeric()"
   ]
  },
  {
   "cell_type": "code",
   "execution_count": 21,
   "id": "459f88ea",
   "metadata": {},
   "outputs": [
    {
     "data": {
      "text/plain": [
       "True"
      ]
     },
     "execution_count": 21,
     "metadata": {},
     "output_type": "execute_result"
    }
   ],
   "source": [
    "'4'.isnumeric()"
   ]
  },
  {
   "cell_type": "code",
   "execution_count": null,
   "id": "31976b85",
   "metadata": {},
   "outputs": [],
   "source": []
  }
 ],
 "metadata": {
  "kernelspec": {
   "display_name": "Python 3 (ipykernel)",
   "language": "python",
   "name": "python3"
  },
  "language_info": {
   "codemirror_mode": {
    "name": "ipython",
    "version": 3
   },
   "file_extension": ".py",
   "mimetype": "text/x-python",
   "name": "python",
   "nbconvert_exporter": "python",
   "pygments_lexer": "ipython3",
   "version": "3.9.12"
  }
 },
 "nbformat": 4,
 "nbformat_minor": 5
}
