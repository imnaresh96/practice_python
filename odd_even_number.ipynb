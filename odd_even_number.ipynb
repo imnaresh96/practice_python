{
 "cells": [
  {
   "cell_type": "code",
   "execution_count": 19,
   "id": "e4c68245",
   "metadata": {},
   "outputs": [
    {
     "name": "stdout",
     "output_type": "stream",
     "text": [
      "Enter Your Name: hbh\n",
      "Enter A Number: 12\n",
      "hello hbh! 12.0 is Even Number\n"
     ]
    }
   ],
   "source": [
    "# Odd or Even  !\n",
    "name=input('Enter Your Name: ')\n",
    "num=input('Enter A Number: ')\n",
    "if num.isnumeric():\n",
    "    num=float(num)\n",
    "    if num % 2==0:\n",
    "        print(f'hello {name}! {num} is Even Number')\n",
    "    else:\n",
    "        print(f'Hello {name}! {num} Is Odd Number')\n",
    "else:\n",
    "    print(f'hello {name}! please enter only (positive) number')"
   ]
  },
  {
   "cell_type": "code",
   "execution_count": null,
   "id": "9a0b59ba",
   "metadata": {},
   "outputs": [],
   "source": []
  }
 ],
 "metadata": {
  "kernelspec": {
   "display_name": "Python 3 (ipykernel)",
   "language": "python",
   "name": "python3"
  },
  "language_info": {
   "codemirror_mode": {
    "name": "ipython",
    "version": 3
   },
   "file_extension": ".py",
   "mimetype": "text/x-python",
   "name": "python",
   "nbconvert_exporter": "python",
   "pygments_lexer": "ipython3",
   "version": "3.9.12"
  }
 },
 "nbformat": 4,
 "nbformat_minor": 5
}
