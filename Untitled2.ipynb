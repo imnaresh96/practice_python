{
 "cells": [
  {
   "cell_type": "code",
   "execution_count": 1,
   "id": "5dd1fd38",
   "metadata": {},
   "outputs": [
    {
     "data": {
      "text/plain": [
       "2626558585488"
      ]
     },
     "execution_count": 1,
     "metadata": {},
     "output_type": "execute_result"
    }
   ],
   "source": [
    "id(12)"
   ]
  },
  {
   "cell_type": "code",
   "execution_count": 2,
   "id": "217b04c1",
   "metadata": {},
   "outputs": [
    {
     "data": {
      "text/plain": [
       "2626563618224"
      ]
     },
     "execution_count": 2,
     "metadata": {},
     "output_type": "execute_result"
    }
   ],
   "source": [
    "id('l')"
   ]
  },
  {
   "cell_type": "code",
   "execution_count": 3,
   "id": "c6689aac",
   "metadata": {},
   "outputs": [
    {
     "data": {
      "text/plain": [
       "2626563618224"
      ]
     },
     "execution_count": 3,
     "metadata": {},
     "output_type": "execute_result"
    }
   ],
   "source": [
    "id('l')"
   ]
  },
  {
   "cell_type": "code",
   "execution_count": 4,
   "id": "77fa4de1",
   "metadata": {},
   "outputs": [
    {
     "data": {
      "text/plain": [
       "2626563361712"
      ]
     },
     "execution_count": 4,
     "metadata": {},
     "output_type": "execute_result"
    }
   ],
   "source": [
    "id('k')"
   ]
  },
  {
   "cell_type": "code",
   "execution_count": 5,
   "id": "0b11a9ea",
   "metadata": {},
   "outputs": [
    {
     "data": {
      "text/plain": [
       "2626558585296"
      ]
     },
     "execution_count": 5,
     "metadata": {},
     "output_type": "execute_result"
    }
   ],
   "source": [
    "id(6)"
   ]
  },
  {
   "cell_type": "code",
   "execution_count": 6,
   "id": "5bd1a1c0",
   "metadata": {},
   "outputs": [
    {
     "data": {
      "text/plain": [
       "2626558585488"
      ]
     },
     "execution_count": 6,
     "metadata": {},
     "output_type": "execute_result"
    }
   ],
   "source": [
    "id(12)"
   ]
  },
  {
   "cell_type": "code",
   "execution_count": 7,
   "id": "86926d79",
   "metadata": {},
   "outputs": [
    {
     "data": {
      "text/plain": [
       "2626644063568"
      ]
     },
     "execution_count": 7,
     "metadata": {},
     "output_type": "execute_result"
    }
   ],
   "source": [
    "id(78788946)"
   ]
  },
  {
   "cell_type": "code",
   "execution_count": 8,
   "id": "a906cd25",
   "metadata": {},
   "outputs": [],
   "source": [
    "import math"
   ]
  },
  {
   "cell_type": "code",
   "execution_count": 14,
   "id": "c9f33f63",
   "metadata": {},
   "outputs": [
    {
     "data": {
      "text/plain": [
       "0.08726646259971647"
      ]
     },
     "execution_count": 14,
     "metadata": {},
     "output_type": "execute_result"
    }
   ],
   "source": [
    "math.radians(5)"
   ]
  },
  {
   "cell_type": "code",
   "execution_count": 13,
   "id": "7bc3a8a0",
   "metadata": {},
   "outputs": [
    {
     "name": "stdout",
     "output_type": "stream",
     "text": [
      "['__doc__', '__loader__', '__name__', '__package__', '__spec__', 'acos', 'acosh', 'asin', 'asinh', 'atan', 'atan2', 'atanh', 'ceil', 'comb', 'copysign', 'cos', 'cosh', 'degrees', 'dist', 'e', 'erf', 'erfc', 'exp', 'expm1', 'fabs', 'factorial', 'floor', 'fmod', 'frexp', 'fsum', 'gamma', 'gcd', 'hypot', 'inf', 'isclose', 'isfinite', 'isinf', 'isnan', 'isqrt', 'lcm', 'ldexp', 'lgamma', 'log', 'log10', 'log1p', 'log2', 'modf', 'nan', 'nextafter', 'perm', 'pi', 'pow', 'prod', 'radians', 'remainder', 'sin', 'sinh', 'sqrt', 'tan', 'tanh', 'tau', 'trunc', 'ulp']\n"
     ]
    }
   ],
   "source": [
    "print(dir(math))"
   ]
  },
  {
   "cell_type": "code",
   "execution_count": 15,
   "id": "874aa172",
   "metadata": {},
   "outputs": [],
   "source": [
    "s='this is type'"
   ]
  },
  {
   "cell_type": "code",
   "execution_count": 16,
   "id": "6ce389ab",
   "metadata": {},
   "outputs": [
    {
     "data": {
      "text/plain": [
       "'This is type'"
      ]
     },
     "execution_count": 16,
     "metadata": {},
     "output_type": "execute_result"
    }
   ],
   "source": [
    "s.capitalize()"
   ]
  },
  {
   "cell_type": "code",
   "execution_count": 17,
   "id": "8ff4375b",
   "metadata": {},
   "outputs": [
    {
     "data": {
      "text/plain": [
       "'This Is Type'"
      ]
     },
     "execution_count": 17,
     "metadata": {},
     "output_type": "execute_result"
    }
   ],
   "source": [
    "s.title()"
   ]
  },
  {
   "cell_type": "code",
   "execution_count": 18,
   "id": "2619c016",
   "metadata": {},
   "outputs": [
    {
     "data": {
      "text/plain": [
       "'THIS IS TYPE'"
      ]
     },
     "execution_count": 18,
     "metadata": {},
     "output_type": "execute_result"
    }
   ],
   "source": [
    "s.upper()"
   ]
  },
  {
   "cell_type": "code",
   "execution_count": 19,
   "id": "24bb54fe",
   "metadata": {},
   "outputs": [
    {
     "data": {
      "text/plain": [
       "'this is type'"
      ]
     },
     "execution_count": 19,
     "metadata": {},
     "output_type": "execute_result"
    }
   ],
   "source": [
    "s.lower()"
   ]
  },
  {
   "cell_type": "code",
   "execution_count": 20,
   "id": "a93e54d3",
   "metadata": {},
   "outputs": [
    {
     "data": {
      "text/plain": [
       "False"
      ]
     },
     "execution_count": 20,
     "metadata": {},
     "output_type": "execute_result"
    }
   ],
   "source": [
    "s.isupper()"
   ]
  },
  {
   "cell_type": "code",
   "execution_count": 21,
   "id": "6fae94cf",
   "metadata": {},
   "outputs": [
    {
     "data": {
      "text/plain": [
       "True"
      ]
     },
     "execution_count": 21,
     "metadata": {},
     "output_type": "execute_result"
    }
   ],
   "source": [
    "s.islower()"
   ]
  },
  {
   "cell_type": "code",
   "execution_count": 22,
   "id": "d7ae7b2f",
   "metadata": {},
   "outputs": [
    {
     "data": {
      "text/plain": [
       "False"
      ]
     },
     "execution_count": 22,
     "metadata": {},
     "output_type": "execute_result"
    }
   ],
   "source": [
    "s.isnumeric()"
   ]
  },
  {
   "cell_type": "code",
   "execution_count": 26,
   "id": "254f1759",
   "metadata": {},
   "outputs": [
    {
     "data": {
      "text/plain": [
       "False"
      ]
     },
     "execution_count": 26,
     "metadata": {},
     "output_type": "execute_result"
    }
   ],
   "source": [
    "s.isalpha()"
   ]
  },
  {
   "cell_type": "code",
   "execution_count": 41,
   "id": "50619e71",
   "metadata": {},
   "outputs": [
    {
     "data": {
      "text/plain": [
       "['', 'his is ', 'ype']"
      ]
     },
     "execution_count": 41,
     "metadata": {},
     "output_type": "execute_result"
    }
   ],
   "source": [
    "s.split('t')"
   ]
  },
  {
   "cell_type": "code",
   "execution_count": 28,
   "id": "2d169351",
   "metadata": {},
   "outputs": [
    {
     "data": {
      "text/plain": [
       "'this is type'"
      ]
     },
     "execution_count": 28,
     "metadata": {},
     "output_type": "execute_result"
    }
   ],
   "source": [
    "s.strip()"
   ]
  },
  {
   "cell_type": "code",
   "execution_count": 33,
   "id": "bbb335aa",
   "metadata": {},
   "outputs": [
    {
     "data": {
      "text/plain": [
       "'this is type'"
      ]
     },
     "execution_count": 33,
     "metadata": {},
     "output_type": "execute_result"
    }
   ],
   "source": [
    "''.join(s)"
   ]
  },
  {
   "cell_type": "code",
   "execution_count": 39,
   "id": "809be6f7",
   "metadata": {},
   "outputs": [
    {
     "data": {
      "text/plain": [
       "('', 't', 'his is type')"
      ]
     },
     "execution_count": 39,
     "metadata": {},
     "output_type": "execute_result"
    }
   ],
   "source": [
    "s.partition('t')"
   ]
  },
  {
   "cell_type": "code",
   "execution_count": 35,
   "id": "3b0be4e5",
   "metadata": {},
   "outputs": [
    {
     "name": "stdout",
     "output_type": "stream",
     "text": [
      "['__add__', '__class__', '__contains__', '__delattr__', '__dir__', '__doc__', '__eq__', '__format__', '__ge__', '__getattribute__', '__getitem__', '__getnewargs__', '__gt__', '__hash__', '__init__', '__init_subclass__', '__iter__', '__le__', '__len__', '__lt__', '__mod__', '__mul__', '__ne__', '__new__', '__reduce__', '__reduce_ex__', '__repr__', '__rmod__', '__rmul__', '__setattr__', '__sizeof__', '__str__', '__subclasshook__', 'capitalize', 'casefold', 'center', 'count', 'encode', 'endswith', 'expandtabs', 'find', 'format', 'format_map', 'index', 'isalnum', 'isalpha', 'isascii', 'isdecimal', 'isdigit', 'isidentifier', 'islower', 'isnumeric', 'isprintable', 'isspace', 'istitle', 'isupper', 'join', 'ljust', 'lower', 'lstrip', 'maketrans', 'partition', 'removeprefix', 'removesuffix', 'replace', 'rfind', 'rindex', 'rjust', 'rpartition', 'rsplit', 'rstrip', 'split', 'splitlines', 'startswith', 'strip', 'swapcase', 'title', 'translate', 'upper', 'zfill']\n"
     ]
    }
   ],
   "source": [
    "print(dir(s))"
   ]
  },
  {
   "cell_type": "code",
   "execution_count": 59,
   "id": "0bd688ef",
   "metadata": {},
   "outputs": [
    {
     "data": {
      "text/plain": [
       "True"
      ]
     },
     "execution_count": 59,
     "metadata": {},
     "output_type": "execute_result"
    }
   ],
   "source": [
    "s.endswith('ype')"
   ]
  },
  {
   "cell_type": "code",
   "execution_count": 60,
   "id": "4169d7d2",
   "metadata": {},
   "outputs": [
    {
     "data": {
      "text/plain": [
       "False"
      ]
     },
     "execution_count": 60,
     "metadata": {},
     "output_type": "execute_result"
    }
   ],
   "source": [
    "s.endswith('hj')"
   ]
  },
  {
   "cell_type": "code",
   "execution_count": 61,
   "id": "effefbef",
   "metadata": {},
   "outputs": [
    {
     "data": {
      "text/plain": [
       "True"
      ]
     },
     "execution_count": 61,
     "metadata": {},
     "output_type": "execute_result"
    }
   ],
   "source": [
    "s.startswith('th')"
   ]
  },
  {
   "cell_type": "code",
   "execution_count": 62,
   "id": "1bdec209",
   "metadata": {},
   "outputs": [
    {
     "data": {
      "text/plain": [
       "False"
      ]
     },
     "execution_count": 62,
     "metadata": {},
     "output_type": "execute_result"
    }
   ],
   "source": [
    "s.isdigit()"
   ]
  },
  {
   "cell_type": "code",
   "execution_count": 66,
   "id": "8862bae3",
   "metadata": {},
   "outputs": [
    {
     "data": {
      "text/plain": [
       "8"
      ]
     },
     "execution_count": 66,
     "metadata": {},
     "output_type": "execute_result"
    }
   ],
   "source": [
    "s.index('t',2)"
   ]
  },
  {
   "cell_type": "code",
   "execution_count": 65,
   "id": "67d7d4df",
   "metadata": {},
   "outputs": [
    {
     "data": {
      "text/plain": [
       "'this is type'"
      ]
     },
     "execution_count": 65,
     "metadata": {},
     "output_type": "execute_result"
    }
   ],
   "source": [
    "s"
   ]
  },
  {
   "cell_type": "code",
   "execution_count": 67,
   "id": "5af28693",
   "metadata": {},
   "outputs": [
    {
     "data": {
      "text/plain": [
       "2"
      ]
     },
     "execution_count": 67,
     "metadata": {},
     "output_type": "execute_result"
    }
   ],
   "source": [
    "s.count('t')"
   ]
  },
  {
   "cell_type": "code",
   "execution_count": 68,
   "id": "acb5f80f",
   "metadata": {},
   "outputs": [
    {
     "data": {
      "text/plain": [
       "0"
      ]
     },
     "execution_count": 68,
     "metadata": {},
     "output_type": "execute_result"
    }
   ],
   "source": [
    "s.find('t')"
   ]
  },
  {
   "cell_type": "code",
   "execution_count": 69,
   "id": "88af4d54",
   "metadata": {},
   "outputs": [
    {
     "data": {
      "text/plain": [
       "8"
      ]
     },
     "execution_count": 69,
     "metadata": {},
     "output_type": "execute_result"
    }
   ],
   "source": [
    "s.rfind('t')"
   ]
  },
  {
   "cell_type": "code",
   "execution_count": 80,
   "id": "de98fdaa",
   "metadata": {},
   "outputs": [],
   "source": [
    "k='''hello where \n",
    "this \n",
    "is \n",
    "demo'''"
   ]
  },
  {
   "cell_type": "code",
   "execution_count": 81,
   "id": "d5e9941e",
   "metadata": {},
   "outputs": [
    {
     "data": {
      "text/plain": [
       "'hello where \\nthis \\nis \\ndemo'"
      ]
     },
     "execution_count": 81,
     "metadata": {},
     "output_type": "execute_result"
    }
   ],
   "source": [
    "''.join(k)"
   ]
  },
  {
   "cell_type": "code",
   "execution_count": 82,
   "id": "a8f7dd37",
   "metadata": {},
   "outputs": [],
   "source": [
    "s=k.splitlines()"
   ]
  },
  {
   "cell_type": "code",
   "execution_count": 83,
   "id": "ed0b9a08",
   "metadata": {},
   "outputs": [
    {
     "data": {
      "text/plain": [
       "['hello where ', 'this ', 'is ', 'demo']"
      ]
     },
     "execution_count": 83,
     "metadata": {},
     "output_type": "execute_result"
    }
   ],
   "source": [
    "s"
   ]
  },
  {
   "cell_type": "code",
   "execution_count": 84,
   "id": "cfeaa819",
   "metadata": {},
   "outputs": [
    {
     "data": {
      "text/plain": [
       "'hello where this is demo'"
      ]
     },
     "execution_count": 84,
     "metadata": {},
     "output_type": "execute_result"
    }
   ],
   "source": [
    "''.join(s)"
   ]
  },
  {
   "cell_type": "code",
   "execution_count": null,
   "id": "3a7c3d79",
   "metadata": {},
   "outputs": [],
   "source": []
  }
 ],
 "metadata": {
  "kernelspec": {
   "display_name": "Python 3 (ipykernel)",
   "language": "python",
   "name": "python3"
  },
  "language_info": {
   "codemirror_mode": {
    "name": "ipython",
    "version": 3
   },
   "file_extension": ".py",
   "mimetype": "text/x-python",
   "name": "python",
   "nbconvert_exporter": "python",
   "pygments_lexer": "ipython3",
   "version": "3.9.12"
  }
 },
 "nbformat": 4,
 "nbformat_minor": 5
}
