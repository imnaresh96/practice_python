{
 "cells": [
  {
   "cell_type": "markdown",
   "id": "3b24b9d0",
   "metadata": {},
   "source": [
    "# Anonymous Function - lambda and special functions - filter(), reduce()"
   ]
  },
  {
   "cell_type": "code",
   "execution_count": 41,
   "id": "746beca8",
   "metadata": {},
   "outputs": [],
   "source": [
    "hello = lambda :'hello world'"
   ]
  },
  {
   "cell_type": "code",
   "execution_count": 3,
   "id": "39386498",
   "metadata": {},
   "outputs": [
    {
     "data": {
      "text/plain": [
       "'hello world'"
      ]
     },
     "execution_count": 3,
     "metadata": {},
     "output_type": "execute_result"
    }
   ],
   "source": [
    "hello()"
   ]
  },
  {
   "cell_type": "code",
   "execution_count": 4,
   "id": "1952b43d",
   "metadata": {},
   "outputs": [],
   "source": [
    "kumar= lambda x,y: x+y"
   ]
  },
  {
   "cell_type": "code",
   "execution_count": 5,
   "id": "e17c8921",
   "metadata": {},
   "outputs": [
    {
     "data": {
      "text/plain": [
       "13"
      ]
     },
     "execution_count": 5,
     "metadata": {},
     "output_type": "execute_result"
    }
   ],
   "source": [
    "kumar(5,8)"
   ]
  },
  {
   "cell_type": "code",
   "execution_count": 7,
   "id": "b5d9bcad",
   "metadata": {},
   "outputs": [
    {
     "data": {
      "text/plain": [
       "9"
      ]
     },
     "execution_count": 7,
     "metadata": {},
     "output_type": "execute_result"
    }
   ],
   "source": [
    "kumar(5,4)"
   ]
  },
  {
   "cell_type": "code",
   "execution_count": 19,
   "id": "08547df8",
   "metadata": {},
   "outputs": [],
   "source": [
    "def in_even(x):\n",
    "    return x % 2==0\n",
    "       "
   ]
  },
  {
   "cell_type": "code",
   "execution_count": 20,
   "id": "8807b6b1",
   "metadata": {},
   "outputs": [],
   "source": [
    "e=[5,4,2,3,6,9,8]"
   ]
  },
  {
   "cell_type": "code",
   "execution_count": 22,
   "id": "1c803b7b",
   "metadata": {},
   "outputs": [
    {
     "name": "stdout",
     "output_type": "stream",
     "text": [
      "4 2 6 8 "
     ]
    }
   ],
   "source": [
    "for i in e:\n",
    "    if in_even(i):\n",
    "        print(i ,end=\" \")"
   ]
  },
  {
   "cell_type": "code",
   "execution_count": 24,
   "id": "9bccb1b9",
   "metadata": {},
   "outputs": [],
   "source": [
    "odd_items=filter(None,'naresh')"
   ]
  },
  {
   "cell_type": "code",
   "execution_count": 34,
   "id": "2c789f95",
   "metadata": {},
   "outputs": [],
   "source": [
    "for i in odd_items:\n",
    "    print(i)"
   ]
  },
  {
   "cell_type": "code",
   "execution_count": 35,
   "id": "6ee162e1",
   "metadata": {},
   "outputs": [],
   "source": [
    "even_items=filter(in_even,e)"
   ]
  },
  {
   "cell_type": "code",
   "execution_count": 36,
   "id": "4ad5a53a",
   "metadata": {},
   "outputs": [
    {
     "name": "stdout",
     "output_type": "stream",
     "text": [
      "4 2 6 8 "
     ]
    }
   ],
   "source": [
    "for i in even_items:\n",
    "    print(i , end=\" \")"
   ]
  },
  {
   "cell_type": "code",
   "execution_count": 37,
   "id": "b976c9aa",
   "metadata": {},
   "outputs": [
    {
     "data": {
      "text/plain": [
       "[5, 4, 2, 3, 6, 9, 8]"
      ]
     },
     "execution_count": 37,
     "metadata": {},
     "output_type": "execute_result"
    }
   ],
   "source": [
    "e"
   ]
  },
  {
   "cell_type": "code",
   "execution_count": 42,
   "id": "6cf74288",
   "metadata": {},
   "outputs": [
    {
     "ename": "TypeError",
     "evalue": "'function' object is not an iterator",
     "output_type": "error",
     "traceback": [
      "\u001b[1;31m---------------------------------------------------------------------------\u001b[0m",
      "\u001b[1;31mTypeError\u001b[0m                                 Traceback (most recent call last)",
      "Input \u001b[1;32mIn [42]\u001b[0m, in \u001b[0;36m<cell line: 1>\u001b[1;34m()\u001b[0m\n\u001b[1;32m----> 1\u001b[0m \u001b[38;5;28;43mnext\u001b[39;49m\u001b[43m(\u001b[49m\u001b[43min_even\u001b[49m\u001b[43m)\u001b[49m\n",
      "\u001b[1;31mTypeError\u001b[0m: 'function' object is not an iterator"
     ]
    }
   ],
   "source": []
  },
  {
   "cell_type": "code",
   "execution_count": 49,
   "id": "01259d3d",
   "metadata": {},
   "outputs": [],
   "source": [
    "even_items=filter(None,e)"
   ]
  },
  {
   "cell_type": "code",
   "execution_count": 50,
   "id": "1082326e",
   "metadata": {},
   "outputs": [
    {
     "data": {
      "text/plain": [
       "5"
      ]
     },
     "execution_count": 50,
     "metadata": {},
     "output_type": "execute_result"
    }
   ],
   "source": [
    "next(even_items)"
   ]
  },
  {
   "cell_type": "code",
   "execution_count": 51,
   "id": "b7e51020",
   "metadata": {},
   "outputs": [
    {
     "data": {
      "text/plain": [
       "4"
      ]
     },
     "execution_count": 51,
     "metadata": {},
     "output_type": "execute_result"
    }
   ],
   "source": [
    "next(even_items)"
   ]
  },
  {
   "cell_type": "code",
   "execution_count": 52,
   "id": "22e43162",
   "metadata": {},
   "outputs": [
    {
     "data": {
      "text/plain": [
       "2"
      ]
     },
     "execution_count": 52,
     "metadata": {},
     "output_type": "execute_result"
    }
   ],
   "source": [
    "next(even_items)"
   ]
  },
  {
   "cell_type": "code",
   "execution_count": 53,
   "id": "0f09f398",
   "metadata": {},
   "outputs": [
    {
     "data": {
      "text/plain": [
       "3"
      ]
     },
     "execution_count": 53,
     "metadata": {},
     "output_type": "execute_result"
    }
   ],
   "source": [
    "next(even_items)"
   ]
  },
  {
   "cell_type": "code",
   "execution_count": 54,
   "id": "0c4c6fa2",
   "metadata": {},
   "outputs": [
    {
     "data": {
      "text/plain": [
       "6"
      ]
     },
     "execution_count": 54,
     "metadata": {},
     "output_type": "execute_result"
    }
   ],
   "source": [
    "next(even_items)"
   ]
  },
  {
   "cell_type": "code",
   "execution_count": 55,
   "id": "5f810854",
   "metadata": {},
   "outputs": [
    {
     "data": {
      "text/plain": [
       "9"
      ]
     },
     "execution_count": 55,
     "metadata": {},
     "output_type": "execute_result"
    }
   ],
   "source": [
    "next(even_items)"
   ]
  },
  {
   "cell_type": "code",
   "execution_count": 56,
   "id": "ed3dd6fa",
   "metadata": {},
   "outputs": [
    {
     "data": {
      "text/plain": [
       "8"
      ]
     },
     "execution_count": 56,
     "metadata": {},
     "output_type": "execute_result"
    }
   ],
   "source": [
    "next(even_items)"
   ]
  },
  {
   "cell_type": "code",
   "execution_count": 57,
   "id": "bc4340a8",
   "metadata": {},
   "outputs": [
    {
     "ename": "StopIteration",
     "evalue": "",
     "output_type": "error",
     "traceback": [
      "\u001b[1;31m---------------------------------------------------------------------------\u001b[0m",
      "\u001b[1;31mStopIteration\u001b[0m                             Traceback (most recent call last)",
      "Input \u001b[1;32mIn [57]\u001b[0m, in \u001b[0;36m<cell line: 1>\u001b[1;34m()\u001b[0m\n\u001b[1;32m----> 1\u001b[0m \u001b[38;5;28;43mnext\u001b[39;49m\u001b[43m(\u001b[49m\u001b[43meven_items\u001b[49m\u001b[43m)\u001b[49m\n",
      "\u001b[1;31mStopIteration\u001b[0m: "
     ]
    }
   ],
   "source": [
    "next(even_items)"
   ]
  },
  {
   "cell_type": "code",
   "execution_count": 58,
   "id": "3ed8fda3",
   "metadata": {},
   "outputs": [],
   "source": [
    "s=lambda x: x%2==0"
   ]
  },
  {
   "cell_type": "code",
   "execution_count": 59,
   "id": "eb2bf455",
   "metadata": {},
   "outputs": [
    {
     "data": {
      "text/plain": [
       "False"
      ]
     },
     "execution_count": 59,
     "metadata": {},
     "output_type": "execute_result"
    }
   ],
   "source": [
    "s(5)"
   ]
  },
  {
   "cell_type": "code",
   "execution_count": 60,
   "id": "564622aa",
   "metadata": {},
   "outputs": [
    {
     "data": {
      "text/plain": [
       "True"
      ]
     },
     "execution_count": 60,
     "metadata": {},
     "output_type": "execute_result"
    }
   ],
   "source": [
    "s(8)"
   ]
  },
  {
   "cell_type": "code",
   "execution_count": 62,
   "id": "6ab3f759",
   "metadata": {},
   "outputs": [
    {
     "name": "stdout",
     "output_type": "stream",
     "text": [
      "0 1 2 3 4 5 6 7 8 9\n"
     ]
    }
   ],
   "source": [
    "print(*range(10))"
   ]
  },
  {
   "cell_type": "code",
   "execution_count": 63,
   "id": "4e5b86a4",
   "metadata": {},
   "outputs": [],
   "source": [
    "gen=(i for i in range(10))"
   ]
  },
  {
   "cell_type": "code",
   "execution_count": 64,
   "id": "3b8fdb98",
   "metadata": {},
   "outputs": [
    {
     "data": {
      "text/plain": [
       "0"
      ]
     },
     "execution_count": 64,
     "metadata": {},
     "output_type": "execute_result"
    }
   ],
   "source": [
    "next(gen)"
   ]
  },
  {
   "cell_type": "code",
   "execution_count": 67,
   "id": "41805574",
   "metadata": {},
   "outputs": [
    {
     "ename": "StopIteration",
     "evalue": "",
     "output_type": "error",
     "traceback": [
      "\u001b[1;31m---------------------------------------------------------------------------\u001b[0m",
      "\u001b[1;31mStopIteration\u001b[0m                             Traceback (most recent call last)",
      "Input \u001b[1;32mIn [67]\u001b[0m, in \u001b[0;36m<cell line: 1>\u001b[1;34m()\u001b[0m\n\u001b[1;32m----> 1\u001b[0m \u001b[38;5;28mprint\u001b[39m(\u001b[38;5;28;43mnext\u001b[39;49m\u001b[43m(\u001b[49m\u001b[43mgen\u001b[49m\u001b[43m)\u001b[49m)\n",
      "\u001b[1;31mStopIteration\u001b[0m: "
     ]
    }
   ],
   "source": [
    "print(next(gen))"
   ]
  },
  {
   "cell_type": "code",
   "execution_count": 69,
   "id": "67c25751",
   "metadata": {},
   "outputs": [
    {
     "name": "stdout",
     "output_type": "stream",
     "text": [
      "\n"
     ]
    }
   ],
   "source": [
    "print(*gen)"
   ]
  },
  {
   "cell_type": "code",
   "execution_count": 70,
   "id": "7644e6f0",
   "metadata": {},
   "outputs": [],
   "source": [
    "gen=(i for i in range(10))"
   ]
  },
  {
   "cell_type": "code",
   "execution_count": 71,
   "id": "ea35bbc2",
   "metadata": {},
   "outputs": [
    {
     "name": "stdout",
     "output_type": "stream",
     "text": [
      "0 1 2 3 4 5 6 7 8 9\n"
     ]
    }
   ],
   "source": [
    "print(*gen)"
   ]
  },
  {
   "cell_type": "code",
   "execution_count": 73,
   "id": "aec5b0af",
   "metadata": {},
   "outputs": [],
   "source": [
    "gen=(i for i in range(10))"
   ]
  },
  {
   "cell_type": "code",
   "execution_count": 74,
   "id": "7af8d87e",
   "metadata": {},
   "outputs": [
    {
     "data": {
      "text/plain": [
       "0"
      ]
     },
     "execution_count": 74,
     "metadata": {},
     "output_type": "execute_result"
    }
   ],
   "source": [
    "next(gen)"
   ]
  },
  {
   "cell_type": "code",
   "execution_count": 75,
   "id": "6bd94048",
   "metadata": {},
   "outputs": [
    {
     "name": "stdout",
     "output_type": "stream",
     "text": [
      "1 2 3 4 5 6 7 8 9\n"
     ]
    }
   ],
   "source": [
    "print(*gen)"
   ]
  },
  {
   "cell_type": "code",
   "execution_count": 77,
   "id": "6841d3f4",
   "metadata": {},
   "outputs": [],
   "source": [
    "from functools import reduce\n",
    "def add(x,y):\n",
    "    return x*y"
   ]
  },
  {
   "cell_type": "code",
   "execution_count": 79,
   "id": "ff644fb7",
   "metadata": {},
   "outputs": [
    {
     "data": {
      "text/plain": [
       "12"
      ]
     },
     "execution_count": 79,
     "metadata": {},
     "output_type": "execute_result"
    }
   ],
   "source": [
    "add(2,6)"
   ]
  },
  {
   "cell_type": "code",
   "execution_count": 84,
   "id": "892edd6b",
   "metadata": {},
   "outputs": [],
   "source": [
    "reduce_data=reduce(add,[2,4,5,6])"
   ]
  },
  {
   "cell_type": "code",
   "execution_count": 85,
   "id": "26667d96",
   "metadata": {},
   "outputs": [
    {
     "data": {
      "text/plain": [
       "240"
      ]
     },
     "execution_count": 85,
     "metadata": {},
     "output_type": "execute_result"
    }
   ],
   "source": [
    "reduce_data"
   ]
  },
  {
   "cell_type": "code",
   "execution_count": 90,
   "id": "f78935a7",
   "metadata": {},
   "outputs": [],
   "source": [
    "from functools import reduce\n",
    "def divide(x,y):\n",
    "    return x/y"
   ]
  },
  {
   "cell_type": "code",
   "execution_count": 93,
   "id": "11c85a3c",
   "metadata": {},
   "outputs": [],
   "source": [
    "division=reduce(divide,[100,2,2])"
   ]
  },
  {
   "cell_type": "code",
   "execution_count": 94,
   "id": "78afc138",
   "metadata": {},
   "outputs": [
    {
     "data": {
      "text/plain": [
       "25.0"
      ]
     },
     "execution_count": 94,
     "metadata": {},
     "output_type": "execute_result"
    }
   ],
   "source": [
    "division"
   ]
  },
  {
   "cell_type": "code",
   "execution_count": null,
   "id": "56d2396f",
   "metadata": {},
   "outputs": [],
   "source": []
  }
 ],
 "metadata": {
  "kernelspec": {
   "display_name": "Python 3 (ipykernel)",
   "language": "python",
   "name": "python3"
  },
  "language_info": {
   "codemirror_mode": {
    "name": "ipython",
    "version": 3
   },
   "file_extension": ".py",
   "mimetype": "text/x-python",
   "name": "python",
   "nbconvert_exporter": "python",
   "pygments_lexer": "ipython3",
   "version": "3.9.12"
  }
 },
 "nbformat": 4,
 "nbformat_minor": 5
}
