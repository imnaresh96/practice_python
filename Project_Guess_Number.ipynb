{
 "cells": [
  {
   "cell_type": "code",
   "execution_count": 3,
   "id": "f2cb54ce",
   "metadata": {},
   "outputs": [
    {
     "name": "stdout",
     "output_type": "stream",
     "text": [
      "Game About Guess A Number\n",
      "\n",
      "Guess Number For Three Time \n",
      "\n",
      "\n",
      "Guess Number between 1 to 100\n",
      "Enter Your Number: 80\n",
      "Try With Small Number\n",
      "\n",
      "Enter Your Number: 50\n",
      "Try With Small Number\n",
      "\n",
      "Enter Your Number: 30\n",
      "Try With Small Number\n",
      "\n",
      "Enter Your Number: 20\n",
      "Try With Small Number\n",
      "\n",
      "Enter Your Number: 10\n",
      "Try With Small Number\n",
      "\n",
      "Enter Your Number: 5\n",
      "Try With Big Number\n",
      "\n",
      "Enter Your Number: 7\n",
      "Try With Big Number\n",
      "\n",
      "Enter Your Number: 9\n",
      "Try With Small Number\n",
      "\n",
      "Enter Your Number: 8\n",
      "Congratulation Your task complete in 9 attempt\n"
     ]
    }
   ],
   "source": [
    "import random\n",
    "print(\"Game About Guess A Number\\n\\nGuess Number For Three Time \\n\\n\")\n",
    "print(\"Guess Number between 1 to 100\")\n",
    "guess=random.randrange(1,100)\n",
    "num=0\n",
    "for i in range(1,20):\n",
    "    num+=1\n",
    "    first=int(input(\"Enter Your Number: \"))\n",
    "    if first==guess:\n",
    "        print(f'Congratulation Your task complete in {num} attempt')\n",
    "        break\n",
    "    elif first > guess:\n",
    "        print(\"Try With Small Number\\n\")\n",
    "        continue\n",
    "    elif first < guess:\n",
    "        print(\"Try With Big Number\\n\")\n",
    "        continue\n",
    "else:\n",
    "    print(f'Currect Guess Number is : {guess}')\n",
    "    print(\"Better Luck For Next Time \")\n",
    "    \n",
    "    \n",
    "    "
   ]
  },
  {
   "cell_type": "code",
   "execution_count": null,
   "id": "4d7800f0",
   "metadata": {},
   "outputs": [],
   "source": []
  }
 ],
 "metadata": {
  "kernelspec": {
   "display_name": "Python 3 (ipykernel)",
   "language": "python",
   "name": "python3"
  },
  "language_info": {
   "codemirror_mode": {
    "name": "ipython",
    "version": 3
   },
   "file_extension": ".py",
   "mimetype": "text/x-python",
   "name": "python",
   "nbconvert_exporter": "python",
   "pygments_lexer": "ipython3",
   "version": "3.9.12"
  }
 },
 "nbformat": 4,
 "nbformat_minor": 5
}
