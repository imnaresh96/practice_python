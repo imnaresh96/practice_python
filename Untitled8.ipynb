{
 "cells": [
  {
   "cell_type": "code",
   "execution_count": 2,
   "id": "2aa963c0",
   "metadata": {},
   "outputs": [],
   "source": [
    "class Father:\n",
    "    def Land(self):\n",
    "        print(\"50 Ekar Land\")\n",
    "\n",
    "class Son(Father):\n",
    "    def Money(self):\n",
    "        print('10 Lac Money')\n",
    "        "
   ]
  },
  {
   "cell_type": "code",
   "execution_count": 3,
   "id": "8ea2a0bf",
   "metadata": {},
   "outputs": [],
   "source": [
    "s=Son()"
   ]
  },
  {
   "cell_type": "code",
   "execution_count": 4,
   "id": "134979c1",
   "metadata": {},
   "outputs": [
    {
     "name": "stdout",
     "output_type": "stream",
     "text": [
      "50 Ekar Land\n"
     ]
    }
   ],
   "source": [
    "s.Land()"
   ]
  },
  {
   "cell_type": "code",
   "execution_count": 5,
   "id": "5e4b8db6",
   "metadata": {},
   "outputs": [
    {
     "name": "stdout",
     "output_type": "stream",
     "text": [
      "10 Lac Money\n"
     ]
    }
   ],
   "source": [
    "s.Money()"
   ]
  },
  {
   "cell_type": "code",
   "execution_count": 6,
   "id": "ea9cf451",
   "metadata": {},
   "outputs": [],
   "source": [
    "#simple Inheritance"
   ]
  },
  {
   "cell_type": "code",
   "execution_count": 8,
   "id": "c5ada1f0",
   "metadata": {},
   "outputs": [
    {
     "name": "stdout",
     "output_type": "stream",
     "text": [
      "Enter First Number: 12\n",
      "Enter Second Number: 12\n"
     ]
    }
   ],
   "source": [
    "class A:\n",
    "    num1=int(input(\"Enter First Number: \"))\n",
    "    num2=int(input(\"Enter Second Number: \"))\n",
    "    def Add(self):\n",
    "        print(\"Addition: \",self.num1+self.num2)"
   ]
  },
  {
   "cell_type": "code",
   "execution_count": 9,
   "id": "2ab95601",
   "metadata": {},
   "outputs": [],
   "source": [
    "d=A()"
   ]
  },
  {
   "cell_type": "code",
   "execution_count": 10,
   "id": "965c9b55",
   "metadata": {},
   "outputs": [
    {
     "name": "stdout",
     "output_type": "stream",
     "text": [
      "Addition:  24\n"
     ]
    }
   ],
   "source": [
    "d.Add()"
   ]
  },
  {
   "cell_type": "code",
   "execution_count": 11,
   "id": "799927a2",
   "metadata": {},
   "outputs": [],
   "source": [
    "class B(A):\n",
    "    def Multi(self):\n",
    "        print(\"Multiply: \",self.num1*self.num2)"
   ]
  },
  {
   "cell_type": "code",
   "execution_count": 12,
   "id": "f18b2200",
   "metadata": {},
   "outputs": [],
   "source": [
    "c=B()"
   ]
  },
  {
   "cell_type": "code",
   "execution_count": 13,
   "id": "8884d7a0",
   "metadata": {},
   "outputs": [
    {
     "name": "stdout",
     "output_type": "stream",
     "text": [
      "Addition:  24\n"
     ]
    }
   ],
   "source": [
    "c.Add()"
   ]
  },
  {
   "cell_type": "code",
   "execution_count": 14,
   "id": "2383f007",
   "metadata": {},
   "outputs": [
    {
     "name": "stdout",
     "output_type": "stream",
     "text": [
      "Multiply:  144\n"
     ]
    }
   ],
   "source": [
    "c.Multi()"
   ]
  },
  {
   "cell_type": "code",
   "execution_count": 19,
   "id": "e8a7a6a9",
   "metadata": {},
   "outputs": [],
   "source": [
    "class Father:\n",
    "    surname=\"Singh\"\n",
    "class Son(Father):\n",
    "    def Show(self):\n",
    "        print(\"Naresh\",self.surname)\n",
    "class Gson(Son):\n",
    "    def Disp(self):\n",
    "        print(\"Rahul \",self.surname)"
   ]
  },
  {
   "cell_type": "code",
   "execution_count": 20,
   "id": "2649c743",
   "metadata": {},
   "outputs": [],
   "source": [
    "a=Father()\n"
   ]
  },
  {
   "cell_type": "code",
   "execution_count": 21,
   "id": "5a6b14f0",
   "metadata": {},
   "outputs": [],
   "source": [
    "b=Son()"
   ]
  },
  {
   "cell_type": "code",
   "execution_count": 22,
   "id": "2a4530e8",
   "metadata": {},
   "outputs": [
    {
     "name": "stdout",
     "output_type": "stream",
     "text": [
      "Naresh Singh\n"
     ]
    }
   ],
   "source": [
    "b.Show()"
   ]
  },
  {
   "cell_type": "code",
   "execution_count": 23,
   "id": "7e26d18a",
   "metadata": {},
   "outputs": [
    {
     "ename": "AttributeError",
     "evalue": "'Son' object has no attribute 'disp'",
     "output_type": "error",
     "traceback": [
      "\u001b[1;31m---------------------------------------------------------------------------\u001b[0m",
      "\u001b[1;31mAttributeError\u001b[0m                            Traceback (most recent call last)",
      "Input \u001b[1;32mIn [23]\u001b[0m, in \u001b[0;36m<cell line: 1>\u001b[1;34m()\u001b[0m\n\u001b[1;32m----> 1\u001b[0m \u001b[43mb\u001b[49m\u001b[38;5;241;43m.\u001b[39;49m\u001b[43mdisp\u001b[49m()\n",
      "\u001b[1;31mAttributeError\u001b[0m: 'Son' object has no attribute 'disp'"
     ]
    }
   ],
   "source": [
    "b.disp()"
   ]
  },
  {
   "cell_type": "code",
   "execution_count": 24,
   "id": "a84c2e49",
   "metadata": {},
   "outputs": [],
   "source": [
    "c=Gson()"
   ]
  },
  {
   "cell_type": "code",
   "execution_count": 25,
   "id": "f07ffd5b",
   "metadata": {},
   "outputs": [
    {
     "name": "stdout",
     "output_type": "stream",
     "text": [
      "Rahul  Singh\n"
     ]
    }
   ],
   "source": [
    "c.Disp()"
   ]
  },
  {
   "cell_type": "code",
   "execution_count": 26,
   "id": "3874ead7",
   "metadata": {},
   "outputs": [
    {
     "name": "stdout",
     "output_type": "stream",
     "text": [
      "Naresh Singh\n"
     ]
    }
   ],
   "source": [
    "c.Show()"
   ]
  },
  {
   "cell_type": "code",
   "execution_count": 27,
   "id": "9ab3e916",
   "metadata": {},
   "outputs": [
    {
     "data": {
      "text/plain": [
       "'Singh'"
      ]
     },
     "execution_count": 27,
     "metadata": {},
     "output_type": "execute_result"
    }
   ],
   "source": [
    "c.surname"
   ]
  },
  {
   "cell_type": "code",
   "execution_count": null,
   "id": "72287199",
   "metadata": {},
   "outputs": [],
   "source": [
    "#encapsulation"
   ]
  },
  {
   "cell_type": "code",
   "execution_count": 40,
   "id": "4483e12a",
   "metadata": {},
   "outputs": [],
   "source": [
    "class A:\n",
    "    __a=10\n",
    "    def Show(self):\n",
    "        print(self.a)\n",
    "class B(A):\n",
    "    __b=10\n",
    "    def Disp(self):\n",
    "        print(self.__b)\n",
    "        print(self.__a)"
   ]
  },
  {
   "cell_type": "code",
   "execution_count": 38,
   "id": "daebb3f1",
   "metadata": {},
   "outputs": [],
   "source": [
    "d=B()"
   ]
  },
  {
   "cell_type": "code",
   "execution_count": 41,
   "id": "43c4b285",
   "metadata": {},
   "outputs": [
    {
     "name": "stdout",
     "output_type": "stream",
     "text": [
      "10\n"
     ]
    }
   ],
   "source": [
    "d.Disp()"
   ]
  },
  {
   "cell_type": "code",
   "execution_count": 42,
   "id": "6a107814",
   "metadata": {},
   "outputs": [
    {
     "name": "stdout",
     "output_type": "stream",
     "text": [
      "10\n"
     ]
    }
   ],
   "source": [
    "d.Show()"
   ]
  },
  {
   "cell_type": "code",
   "execution_count": 44,
   "id": "fa22003c",
   "metadata": {},
   "outputs": [
    {
     "ename": "AttributeError",
     "evalue": "'B' object has no attribute '__a'",
     "output_type": "error",
     "traceback": [
      "\u001b[1;31m---------------------------------------------------------------------------\u001b[0m",
      "\u001b[1;31mAttributeError\u001b[0m                            Traceback (most recent call last)",
      "Input \u001b[1;32mIn [44]\u001b[0m, in \u001b[0;36m<cell line: 1>\u001b[1;34m()\u001b[0m\n\u001b[1;32m----> 1\u001b[0m \u001b[38;5;28mprint\u001b[39m(\u001b[43md\u001b[49m\u001b[38;5;241;43m.\u001b[39;49m\u001b[43m__a\u001b[49m)\n",
      "\u001b[1;31mAttributeError\u001b[0m: 'B' object has no attribute '__a'"
     ]
    }
   ],
   "source": [
    "print(d.__a)"
   ]
  },
  {
   "cell_type": "code",
   "execution_count": null,
   "id": "b84ebcbd",
   "metadata": {},
   "outputs": [],
   "source": [
    "#polymarphism"
   ]
  },
  {
   "cell_type": "code",
   "execution_count": 51,
   "id": "fa1548c6",
   "metadata": {},
   "outputs": [],
   "source": [
    "class A:\n",
    "    def Show(self):\n",
    "        print('wwelcome')\n",
    "    def Show(self,firstname=''):\n",
    "        print('Welcome',firstname)\n",
    "    def Show(self,firstname='',lastname=''):\n",
    "        print('Welcome',firstname,lastname)"
   ]
  },
  {
   "cell_type": "code",
   "execution_count": 52,
   "id": "bd34936f",
   "metadata": {},
   "outputs": [],
   "source": [
    "f=A()"
   ]
  },
  {
   "cell_type": "code",
   "execution_count": 53,
   "id": "a28ff61b",
   "metadata": {},
   "outputs": [
    {
     "name": "stdout",
     "output_type": "stream",
     "text": [
      "Welcome  \n"
     ]
    }
   ],
   "source": [
    "f.Show()"
   ]
  },
  {
   "cell_type": "code",
   "execution_count": 54,
   "id": "b15b813b",
   "metadata": {},
   "outputs": [
    {
     "name": "stdout",
     "output_type": "stream",
     "text": [
      "Welcome Naresh \n"
     ]
    }
   ],
   "source": [
    "f.Show('Naresh')"
   ]
  },
  {
   "cell_type": "code",
   "execution_count": 55,
   "id": "13279ac0",
   "metadata": {},
   "outputs": [
    {
     "name": "stdout",
     "output_type": "stream",
     "text": [
      "Welcome Naresh Kumar\n"
     ]
    }
   ],
   "source": [
    "f.Show('Naresh','Kumar')"
   ]
  },
  {
   "cell_type": "code",
   "execution_count": 59,
   "id": "0ec0efaa",
   "metadata": {},
   "outputs": [],
   "source": [
    "class A:\n",
    "    def Show(self):\n",
    "        print('wwelcome')\n",
    "    def Show(self,a):\n",
    "        print('Welcome',self.firstname)\n",
    "    def Show(self,firstname,lastname):\n",
    "        print(self.firstname+self.lastname)"
   ]
  },
  {
   "cell_type": "code",
   "execution_count": 60,
   "id": "10ae87ab",
   "metadata": {},
   "outputs": [],
   "source": [
    "d=A()"
   ]
  },
  {
   "cell_type": "code",
   "execution_count": 61,
   "id": "b2533643",
   "metadata": {},
   "outputs": [
    {
     "ename": "TypeError",
     "evalue": "Show() missing 2 required positional arguments: 'firstname' and 'lastname'",
     "output_type": "error",
     "traceback": [
      "\u001b[1;31m---------------------------------------------------------------------------\u001b[0m",
      "\u001b[1;31mTypeError\u001b[0m                                 Traceback (most recent call last)",
      "Input \u001b[1;32mIn [61]\u001b[0m, in \u001b[0;36m<cell line: 1>\u001b[1;34m()\u001b[0m\n\u001b[1;32m----> 1\u001b[0m \u001b[43md\u001b[49m\u001b[38;5;241;43m.\u001b[39;49m\u001b[43mShow\u001b[49m\u001b[43m(\u001b[49m\u001b[43m)\u001b[49m\n",
      "\u001b[1;31mTypeError\u001b[0m: Show() missing 2 required positional arguments: 'firstname' and 'lastname'"
     ]
    }
   ],
   "source": [
    "d.Show()"
   ]
  },
  {
   "cell_type": "code",
   "execution_count": 79,
   "id": "f6b7b4df",
   "metadata": {},
   "outputs": [],
   "source": [
    "class A:\n",
    "    def Add(self,a,b):\n",
    "        print(a+b)\n",
    "class B(A):\n",
    "    def Add(self,a,b):\n",
    "        super().Add(a,b)\n",
    "        print(a-b)"
   ]
  },
  {
   "cell_type": "code",
   "execution_count": 80,
   "id": "662f4df2",
   "metadata": {},
   "outputs": [],
   "source": [
    "f=B()"
   ]
  },
  {
   "cell_type": "code",
   "execution_count": 81,
   "id": "99136e99",
   "metadata": {},
   "outputs": [
    {
     "name": "stdout",
     "output_type": "stream",
     "text": [
      "9\n",
      "1\n"
     ]
    }
   ],
   "source": [
    "f.Add(5,4)"
   ]
  },
  {
   "cell_type": "code",
   "execution_count": null,
   "id": "6201e40a",
   "metadata": {},
   "outputs": [],
   "source": [
    "\n"
   ]
  }
 ],
 "metadata": {
  "kernelspec": {
   "display_name": "Python 3 (ipykernel)",
   "language": "python",
   "name": "python3"
  },
  "language_info": {
   "codemirror_mode": {
    "name": "ipython",
    "version": 3
   },
   "file_extension": ".py",
   "mimetype": "text/x-python",
   "name": "python",
   "nbconvert_exporter": "python",
   "pygments_lexer": "ipython3",
   "version": "3.9.12"
  }
 },
 "nbformat": 4,
 "nbformat_minor": 5
}
