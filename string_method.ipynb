{
 "cells": [
  {
   "cell_type": "code",
   "execution_count": 12,
   "id": "0fb7d222",
   "metadata": {},
   "outputs": [],
   "source": [
    "k='hello' # k=\"hello\"        #single line string"
   ]
  },
  {
   "cell_type": "code",
   "execution_count": 6,
   "id": "0ce9c545",
   "metadata": {},
   "outputs": [
    {
     "data": {
      "text/plain": [
       "str"
      ]
     },
     "execution_count": 6,
     "metadata": {},
     "output_type": "execute_result"
    }
   ],
   "source": [
    "type(k)"
   ]
  },
  {
   "cell_type": "code",
   "execution_count": 85,
   "id": "2e89e8ca",
   "metadata": {},
   "outputs": [],
   "source": [
    "k='''hello\n",
    "what is          \n",
    "there'''            # multiline string"
   ]
  },
  {
   "cell_type": "code",
   "execution_count": 9,
   "id": "c8749850",
   "metadata": {},
   "outputs": [
    {
     "data": {
      "text/plain": [
       "str"
      ]
     },
     "execution_count": 9,
     "metadata": {},
     "output_type": "execute_result"
    }
   ],
   "source": [
    "type(k)"
   ]
  },
  {
   "cell_type": "code",
   "execution_count": 10,
   "id": "39bf89c1",
   "metadata": {},
   "outputs": [
    {
     "name": "stdout",
     "output_type": "stream",
     "text": [
      "['__add__', '__class__', '__contains__', '__delattr__', '__dir__', '__doc__', '__eq__', '__format__', '__ge__', '__getattribute__', '__getitem__', '__getnewargs__', '__gt__', '__hash__', '__init__', '__init_subclass__', '__iter__', '__le__', '__len__', '__lt__', '__mod__', '__mul__', '__ne__', '__new__', '__reduce__', '__reduce_ex__', '__repr__', '__rmod__', '__rmul__', '__setattr__', '__sizeof__', '__str__', '__subclasshook__', 'capitalize', 'casefold', 'center', 'count', 'encode', 'endswith', 'expandtabs', 'find', 'format', 'format_map', 'index', 'isalnum', 'isalpha', 'isascii', 'isdecimal', 'isdigit', 'isidentifier', 'islower', 'isnumeric', 'isprintable', 'isspace', 'istitle', 'isupper', 'join', 'ljust', 'lower', 'lstrip', 'maketrans', 'partition', 'removeprefix', 'removesuffix', 'replace', 'rfind', 'rindex', 'rjust', 'rpartition', 'rsplit', 'rstrip', 'split', 'splitlines', 'startswith', 'strip', 'swapcase', 'title', 'translate', 'upper', 'zfill']\n"
     ]
    }
   ],
   "source": [
    "print(dir(k))"
   ]
  },
  {
   "cell_type": "code",
   "execution_count": 13,
   "id": "fdaeec22",
   "metadata": {},
   "outputs": [
    {
     "data": {
      "text/plain": [
       "'Hello'"
      ]
     },
     "execution_count": 13,
     "metadata": {},
     "output_type": "execute_result"
    }
   ],
   "source": [
    "k.capitalize()"
   ]
  },
  {
   "cell_type": "code",
   "execution_count": 14,
   "id": "e44e06a0",
   "metadata": {},
   "outputs": [
    {
     "data": {
      "text/plain": [
       "'HELLO'"
      ]
     },
     "execution_count": 14,
     "metadata": {},
     "output_type": "execute_result"
    }
   ],
   "source": [
    "k.upper()"
   ]
  },
  {
   "cell_type": "code",
   "execution_count": 15,
   "id": "96c87d04",
   "metadata": {},
   "outputs": [
    {
     "data": {
      "text/plain": [
       "'hello'"
      ]
     },
     "execution_count": 15,
     "metadata": {},
     "output_type": "execute_result"
    }
   ],
   "source": [
    "k.lower()"
   ]
  },
  {
   "cell_type": "code",
   "execution_count": 16,
   "id": "77defd88",
   "metadata": {},
   "outputs": [
    {
     "data": {
      "text/plain": [
       "False"
      ]
     },
     "execution_count": 16,
     "metadata": {},
     "output_type": "execute_result"
    }
   ],
   "source": [
    "k.isupper()"
   ]
  },
  {
   "cell_type": "code",
   "execution_count": 17,
   "id": "c8954c8d",
   "metadata": {},
   "outputs": [
    {
     "data": {
      "text/plain": [
       "True"
      ]
     },
     "execution_count": 17,
     "metadata": {},
     "output_type": "execute_result"
    }
   ],
   "source": [
    "k.islower()"
   ]
  },
  {
   "cell_type": "code",
   "execution_count": 18,
   "id": "7fff26c3",
   "metadata": {},
   "outputs": [
    {
     "data": {
      "text/plain": [
       "'Hello'"
      ]
     },
     "execution_count": 18,
     "metadata": {},
     "output_type": "execute_result"
    }
   ],
   "source": [
    "k.title()"
   ]
  },
  {
   "cell_type": "code",
   "execution_count": 19,
   "id": "2d1be07e",
   "metadata": {},
   "outputs": [
    {
     "data": {
      "text/plain": [
       "2"
      ]
     },
     "execution_count": 19,
     "metadata": {},
     "output_type": "execute_result"
    }
   ],
   "source": [
    "k.count('l')"
   ]
  },
  {
   "cell_type": "code",
   "execution_count": 20,
   "id": "90eb5b60",
   "metadata": {},
   "outputs": [
    {
     "data": {
      "text/plain": [
       "2"
      ]
     },
     "execution_count": 20,
     "metadata": {},
     "output_type": "execute_result"
    }
   ],
   "source": [
    "k.index('l')"
   ]
  },
  {
   "cell_type": "code",
   "execution_count": 25,
   "id": "e28e5830",
   "metadata": {},
   "outputs": [
    {
     "ename": "ValueError",
     "evalue": "substring not found",
     "output_type": "error",
     "traceback": [
      "\u001b[1;31m---------------------------------------------------------------------------\u001b[0m",
      "\u001b[1;31mValueError\u001b[0m                                Traceback (most recent call last)",
      "Input \u001b[1;32mIn [25]\u001b[0m, in \u001b[0;36m<cell line: 1>\u001b[1;34m()\u001b[0m\n\u001b[1;32m----> 1\u001b[0m \u001b[43mk\u001b[49m\u001b[38;5;241;43m.\u001b[39;49m\u001b[43mrindex\u001b[49m\u001b[43m(\u001b[49m\u001b[38;5;124;43m'\u001b[39;49m\u001b[38;5;124;43mz\u001b[39;49m\u001b[38;5;124;43m'\u001b[39;49m\u001b[43m)\u001b[49m\n",
      "\u001b[1;31mValueError\u001b[0m: substring not found"
     ]
    }
   ],
   "source": [
    "k.rindex('z')"
   ]
  },
  {
   "cell_type": "code",
   "execution_count": 26,
   "id": "85bcdece",
   "metadata": {},
   "outputs": [
    {
     "data": {
      "text/plain": [
       "-1"
      ]
     },
     "execution_count": 26,
     "metadata": {},
     "output_type": "execute_result"
    }
   ],
   "source": [
    "k.find('z')"
   ]
  },
  {
   "cell_type": "code",
   "execution_count": 27,
   "id": "1f4e6308",
   "metadata": {},
   "outputs": [
    {
     "data": {
      "text/plain": [
       "'Aello'"
      ]
     },
     "execution_count": 27,
     "metadata": {},
     "output_type": "execute_result"
    }
   ],
   "source": [
    "k.replace('h','A')"
   ]
  },
  {
   "cell_type": "code",
   "execution_count": 34,
   "id": "58ed72ca",
   "metadata": {},
   "outputs": [],
   "source": [
    "k='           hello             dear             '"
   ]
  },
  {
   "cell_type": "code",
   "execution_count": 59,
   "id": "24bb5cfd",
   "metadata": {},
   "outputs": [
    {
     "data": {
      "text/plain": [
       "['hello', 'dear']"
      ]
     },
     "execution_count": 59,
     "metadata": {},
     "output_type": "execute_result"
    }
   ],
   "source": [
    "k.split()"
   ]
  },
  {
   "cell_type": "code",
   "execution_count": 60,
   "id": "6bbd44d9",
   "metadata": {},
   "outputs": [],
   "source": [
    "d=k.strip()"
   ]
  },
  {
   "cell_type": "code",
   "execution_count": 61,
   "id": "73767dc2",
   "metadata": {},
   "outputs": [],
   "source": [
    "d=d.split()"
   ]
  },
  {
   "cell_type": "code",
   "execution_count": 62,
   "id": "413e68e6",
   "metadata": {},
   "outputs": [],
   "source": [
    "d=' '.join(d)"
   ]
  },
  {
   "cell_type": "code",
   "execution_count": 63,
   "id": "8764ca97",
   "metadata": {},
   "outputs": [
    {
     "data": {
      "text/plain": [
       "'hello dear'"
      ]
     },
     "execution_count": 63,
     "metadata": {},
     "output_type": "execute_result"
    }
   ],
   "source": [
    "d"
   ]
  },
  {
   "cell_type": "code",
   "execution_count": 64,
   "id": "2ca28c67",
   "metadata": {},
   "outputs": [
    {
     "data": {
      "text/plain": [
       "'h*e*l*l*o* *d*e*a*r'"
      ]
     },
     "execution_count": 64,
     "metadata": {},
     "output_type": "execute_result"
    }
   ],
   "source": [
    "'*'.join(d)"
   ]
  },
  {
   "cell_type": "code",
   "execution_count": 66,
   "id": "0bb7927a",
   "metadata": {},
   "outputs": [
    {
     "data": {
      "text/plain": [
       "False"
      ]
     },
     "execution_count": 66,
     "metadata": {},
     "output_type": "execute_result"
    }
   ],
   "source": [
    "k.isnumeric()"
   ]
  },
  {
   "cell_type": "code",
   "execution_count": 68,
   "id": "7bb0dcaa",
   "metadata": {},
   "outputs": [
    {
     "data": {
      "text/plain": [
       "False"
      ]
     },
     "execution_count": 68,
     "metadata": {},
     "output_type": "execute_result"
    }
   ],
   "source": [
    "k.isalpha()"
   ]
  },
  {
   "cell_type": "code",
   "execution_count": 76,
   "id": "d643cad3",
   "metadata": {},
   "outputs": [
    {
     "data": {
      "text/plain": [
       "('hello', ' ', 'dear')"
      ]
     },
     "execution_count": 76,
     "metadata": {},
     "output_type": "execute_result"
    }
   ],
   "source": [
    "d.partition(' ')"
   ]
  },
  {
   "cell_type": "code",
   "execution_count": 87,
   "id": "400ca634",
   "metadata": {},
   "outputs": [],
   "source": [
    "k=k.splitlines()"
   ]
  },
  {
   "cell_type": "code",
   "execution_count": 86,
   "id": "4bfcb9a9",
   "metadata": {},
   "outputs": [],
   "source": [
    "k=k.strip()"
   ]
  },
  {
   "cell_type": "code",
   "execution_count": 92,
   "id": "008e45f7",
   "metadata": {},
   "outputs": [],
   "source": [
    "k=' '.join(k)"
   ]
  },
  {
   "cell_type": "code",
   "execution_count": 90,
   "id": "be25462e",
   "metadata": {},
   "outputs": [],
   "source": [
    "k=k.split()"
   ]
  },
  {
   "cell_type": "code",
   "execution_count": 93,
   "id": "db1cb596",
   "metadata": {},
   "outputs": [
    {
     "data": {
      "text/plain": [
       "'hello what is there'"
      ]
     },
     "execution_count": 93,
     "metadata": {},
     "output_type": "execute_result"
    }
   ],
   "source": [
    "k"
   ]
  },
  {
   "cell_type": "code",
   "execution_count": 95,
   "id": "8ac3b9ff",
   "metadata": {},
   "outputs": [
    {
     "data": {
      "text/plain": [
       "True"
      ]
     },
     "execution_count": 95,
     "metadata": {},
     "output_type": "execute_result"
    }
   ],
   "source": [
    "k.startswith('hello')"
   ]
  },
  {
   "cell_type": "code",
   "execution_count": 96,
   "id": "c9a07290",
   "metadata": {},
   "outputs": [
    {
     "data": {
      "text/plain": [
       "True"
      ]
     },
     "execution_count": 96,
     "metadata": {},
     "output_type": "execute_result"
    }
   ],
   "source": [
    "k.endswith('there')"
   ]
  },
  {
   "cell_type": "code",
   "execution_count": 100,
   "id": "afa233ea",
   "metadata": {},
   "outputs": [
    {
     "data": {
      "text/plain": [
       "'00000000000hello what is there'"
      ]
     },
     "execution_count": 100,
     "metadata": {},
     "output_type": "execute_result"
    }
   ],
   "source": [
    "k.zfill(30)"
   ]
  },
  {
   "cell_type": "code",
   "execution_count": 105,
   "id": "e50e78f0",
   "metadata": {},
   "outputs": [
    {
     "data": {
      "text/plain": [
       "'0hello what is there'"
      ]
     },
     "execution_count": 105,
     "metadata": {},
     "output_type": "execute_result"
    }
   ],
   "source": [
    "k.zfill(20)"
   ]
  },
  {
   "cell_type": "code",
   "execution_count": 110,
   "id": "ecdfefeb",
   "metadata": {},
   "outputs": [
    {
     "name": "stdout",
     "output_type": "stream",
     "text": [
      "Kailash Kumar \n",
      "000000Kailash Kumar \n"
     ]
    }
   ],
   "source": [
    "k=input()\n",
    "k=k.zfill(20)\n",
    "print(k)"
   ]
  },
  {
   "cell_type": "code",
   "execution_count": 113,
   "id": "871cbd12",
   "metadata": {},
   "outputs": [
    {
     "name": "stdout",
     "output_type": "stream",
     "text": [
      "       naresh     KuMar\n",
      "NARESH KUMAR\n"
     ]
    }
   ],
   "source": [
    "name=input()\n",
    "name=name.upper()\n",
    "name=name.strip()\n",
    "name=name.split()\n",
    "name=' '.join(name)\n",
    "print(name)"
   ]
  },
  {
   "cell_type": "code",
   "execution_count": 114,
   "id": "1f918e2a",
   "metadata": {},
   "outputs": [
    {
     "data": {
      "text/plain": [
       "'NARESH KUMAR'"
      ]
     },
     "execution_count": 114,
     "metadata": {},
     "output_type": "execute_result"
    }
   ],
   "source": [
    "name"
   ]
  },
  {
   "cell_type": "code",
   "execution_count": 117,
   "id": "edce0208",
   "metadata": {},
   "outputs": [],
   "source": [
    "def full_name():\n",
    "    name=input()\n",
    "    name=name.upper()\n",
    "    name=name.strip()\n",
    "    name=name.split()\n",
    "    name=' '.join(name)\n",
    "    return name"
   ]
  },
  {
   "cell_type": "code",
   "execution_count": 116,
   "id": "58b9018c",
   "metadata": {},
   "outputs": [
    {
     "name": "stdout",
     "output_type": "stream",
     "text": [
      "naresh      kumar      \n"
     ]
    },
    {
     "data": {
      "text/plain": [
       "'NARESH KUMAR'"
      ]
     },
     "execution_count": 116,
     "metadata": {},
     "output_type": "execute_result"
    }
   ],
   "source": [
    "full_name('        naresh  kumar            ')"
   ]
  },
  {
   "cell_type": "code",
   "execution_count": 118,
   "id": "f14bab45",
   "metadata": {},
   "outputs": [
    {
     "name": "stdout",
     "output_type": "stream",
     "text": [
      "        shailesh sisodiya \n"
     ]
    },
    {
     "data": {
      "text/plain": [
       "'SHAILESH SISODIYA'"
      ]
     },
     "execution_count": 118,
     "metadata": {},
     "output_type": "execute_result"
    }
   ],
   "source": [
    "full_name()"
   ]
  },
  {
   "cell_type": "code",
   "execution_count": null,
   "id": "43ccbbf3",
   "metadata": {},
   "outputs": [],
   "source": []
  }
 ],
 "metadata": {
  "kernelspec": {
   "display_name": "Python 3 (ipykernel)",
   "language": "python",
   "name": "python3"
  },
  "language_info": {
   "codemirror_mode": {
    "name": "ipython",
    "version": 3
   },
   "file_extension": ".py",
   "mimetype": "text/x-python",
   "name": "python",
   "nbconvert_exporter": "python",
   "pygments_lexer": "ipython3",
   "version": "3.9.12"
  }
 },
 "nbformat": 4,
 "nbformat_minor": 5
}
